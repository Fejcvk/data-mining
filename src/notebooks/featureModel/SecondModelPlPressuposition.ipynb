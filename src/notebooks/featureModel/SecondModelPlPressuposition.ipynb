{
  "nbformat": 4,
  "nbformat_minor": 0,
  "metadata": {
    "colab": {
      "name": "SecondModelPlPressuposition.ipynb",
      "provenance": [],
      "collapsed_sections": [],
      "toc_visible": true
    },
    "kernelspec": {
      "name": "python3",
      "display_name": "Python 3"
    }
  },
  "cells": [
    {
      "cell_type": "markdown",
      "metadata": {
        "id": "i61b34AJ1zPY",
        "colab_type": "text"
      },
      "source": [
        "# Second model presupposition - Polish Dataset"
      ]
    },
    {
      "cell_type": "code",
      "metadata": {
        "id": "QLg6EMKN2D0x",
        "colab_type": "code",
        "outputId": "f917d975-434c-42f1-dc5c-df9282d2aaf7",
        "colab": {
          "base_uri": "https://localhost:8080/",
          "height": 408
        }
      },
      "source": [
        "!pip install transformers\n",
        "!pip install -q pyyaml h5py\n",
        "import pandas as pd\n",
        "from transformers import *\n",
        "import numpy as np\n",
        "from sklearn.model_selection import train_test_split\n"
      ],
      "execution_count": 67,
      "outputs": [
        {
          "output_type": "stream",
          "text": [
            "Requirement already satisfied: transformers in /usr/local/lib/python3.6/dist-packages (2.8.0)\n",
            "Requirement already satisfied: tqdm>=4.27 in /usr/local/lib/python3.6/dist-packages (from transformers) (4.38.0)\n",
            "Requirement already satisfied: boto3 in /usr/local/lib/python3.6/dist-packages (from transformers) (1.12.40)\n",
            "Requirement already satisfied: filelock in /usr/local/lib/python3.6/dist-packages (from transformers) (3.0.12)\n",
            "Requirement already satisfied: requests in /usr/local/lib/python3.6/dist-packages (from transformers) (2.21.0)\n",
            "Requirement already satisfied: sacremoses in /usr/local/lib/python3.6/dist-packages (from transformers) (0.0.41)\n",
            "Requirement already satisfied: numpy in /usr/local/lib/python3.6/dist-packages (from transformers) (1.18.2)\n",
            "Requirement already satisfied: dataclasses; python_version < \"3.7\" in /usr/local/lib/python3.6/dist-packages (from transformers) (0.7)\n",
            "Requirement already satisfied: tokenizers==0.5.2 in /usr/local/lib/python3.6/dist-packages (from transformers) (0.5.2)\n",
            "Requirement already satisfied: regex!=2019.12.17 in /usr/local/lib/python3.6/dist-packages (from transformers) (2019.12.20)\n",
            "Requirement already satisfied: sentencepiece in /usr/local/lib/python3.6/dist-packages (from transformers) (0.1.85)\n",
            "Requirement already satisfied: s3transfer<0.4.0,>=0.3.0 in /usr/local/lib/python3.6/dist-packages (from boto3->transformers) (0.3.3)\n",
            "Requirement already satisfied: botocore<1.16.0,>=1.15.40 in /usr/local/lib/python3.6/dist-packages (from boto3->transformers) (1.15.40)\n",
            "Requirement already satisfied: jmespath<1.0.0,>=0.7.1 in /usr/local/lib/python3.6/dist-packages (from boto3->transformers) (0.9.5)\n",
            "Requirement already satisfied: urllib3<1.25,>=1.21.1 in /usr/local/lib/python3.6/dist-packages (from requests->transformers) (1.24.3)\n",
            "Requirement already satisfied: idna<2.9,>=2.5 in /usr/local/lib/python3.6/dist-packages (from requests->transformers) (2.8)\n",
            "Requirement already satisfied: certifi>=2017.4.17 in /usr/local/lib/python3.6/dist-packages (from requests->transformers) (2020.4.5.1)\n",
            "Requirement already satisfied: chardet<3.1.0,>=3.0.2 in /usr/local/lib/python3.6/dist-packages (from requests->transformers) (3.0.4)\n",
            "Requirement already satisfied: six in /usr/local/lib/python3.6/dist-packages (from sacremoses->transformers) (1.12.0)\n",
            "Requirement already satisfied: click in /usr/local/lib/python3.6/dist-packages (from sacremoses->transformers) (7.1.1)\n",
            "Requirement already satisfied: joblib in /usr/local/lib/python3.6/dist-packages (from sacremoses->transformers) (0.14.1)\n",
            "Requirement already satisfied: docutils<0.16,>=0.10 in /usr/local/lib/python3.6/dist-packages (from botocore<1.16.0,>=1.15.40->boto3->transformers) (0.15.2)\n",
            "Requirement already satisfied: python-dateutil<3.0.0,>=2.1 in /usr/local/lib/python3.6/dist-packages (from botocore<1.16.0,>=1.15.40->boto3->transformers) (2.8.1)\n"
          ],
          "name": "stdout"
        }
      ]
    },
    {
      "cell_type": "markdown",
      "metadata": {
        "id": "Qr2zJmEf2Eh3",
        "colab_type": "text"
      },
      "source": [
        "## Data Preprocessing"
      ]
    },
    {
      "cell_type": "markdown",
      "metadata": {
        "id": "vLXojV3K5Y1U",
        "colab_type": "text"
      },
      "source": [
        "*   Reading data\n",
        "*   Change columns names\n",
        "*   Drop NaN rows\n",
        "*   Fill others NaN values by special sign"
      ]
    },
    {
      "cell_type": "code",
      "metadata": {
        "id": "j--zuCZf2HvJ",
        "colab_type": "code",
        "outputId": "89fdacf7-3771-4fff-f711-d7ef39d8f857",
        "colab": {
          "base_uri": "https://localhost:8080/",
          "height": 204
        }
      },
      "source": [
        "df = pd.read_excel('polishOriginalDataset.xlsx')\n",
        "df.reset_index()\n",
        "df = df.iloc[:,[6,8,9,10,15,16,19,21,23]]\n",
        "df.columns = [\n",
        "              \"type_of_sentence\",\n",
        "              \"verb_main_semantic_class\",\n",
        "              \"verb_second_semantic_class\",\n",
        "              \"verb_third_semantic_class\",\n",
        "              \"verb_veridical_positive\",\n",
        "              \"verb_veridical_negative\",\n",
        "              \"verb_tense\",\n",
        "              \"t_negation\",\n",
        "              \"presupposition\"\n",
        "              ]\n",
        "df.dropna(inplace=True, axis = 0, how = 'all')\n",
        "df.fillna(axis = 0, inplace =True, value=\"none\")\n",
        "df.head()"
      ],
      "execution_count": 68,
      "outputs": [
        {
          "output_type": "execute_result",
          "data": {
            "text/html": [
              "<div>\n",
              "<style scoped>\n",
              "    .dataframe tbody tr th:only-of-type {\n",
              "        vertical-align: middle;\n",
              "    }\n",
              "\n",
              "    .dataframe tbody tr th {\n",
              "        vertical-align: top;\n",
              "    }\n",
              "\n",
              "    .dataframe thead th {\n",
              "        text-align: right;\n",
              "    }\n",
              "</style>\n",
              "<table border=\"1\" class=\"dataframe\">\n",
              "  <thead>\n",
              "    <tr style=\"text-align: right;\">\n",
              "      <th></th>\n",
              "      <th>type_of_sentence</th>\n",
              "      <th>verb_main_semantic_class</th>\n",
              "      <th>verb_second_semantic_class</th>\n",
              "      <th>verb_third_semantic_class</th>\n",
              "      <th>verb_veridical_positive</th>\n",
              "      <th>verb_veridical_negative</th>\n",
              "      <th>verb_tense</th>\n",
              "      <th>t_negation</th>\n",
              "      <th>presupposition</th>\n",
              "    </tr>\n",
              "  </thead>\n",
              "  <tbody>\n",
              "    <tr>\n",
              "      <th>0</th>\n",
              "      <td>eliptyczne</td>\n",
              "      <td>mówienia</td>\n",
              "      <td>none</td>\n",
              "      <td>none</td>\n",
              "      <td>o?</td>\n",
              "      <td>?</td>\n",
              "      <td>brak</td>\n",
              "      <td>0</td>\n",
              "      <td>nie dotyczy</td>\n",
              "    </tr>\n",
              "    <tr>\n",
              "      <th>1</th>\n",
              "      <td>eliptyczne</td>\n",
              "      <td>epistemiczny</td>\n",
              "      <td>none</td>\n",
              "      <td>none</td>\n",
              "      <td>?</td>\n",
              "      <td>?</td>\n",
              "      <td>past</td>\n",
              "      <td>0</td>\n",
              "      <td>no</td>\n",
              "    </tr>\n",
              "    <tr>\n",
              "      <th>2</th>\n",
              "      <td>eliptyczne</td>\n",
              "      <td>mówienia</td>\n",
              "      <td>none</td>\n",
              "      <td>none</td>\n",
              "      <td>?</td>\n",
              "      <td>?</td>\n",
              "      <td>past</td>\n",
              "      <td>0</td>\n",
              "      <td>nie dotyczy</td>\n",
              "    </tr>\n",
              "    <tr>\n",
              "      <th>3</th>\n",
              "      <td>1</td>\n",
              "      <td>epistemiczny</td>\n",
              "      <td>percepcyjny</td>\n",
              "      <td>none</td>\n",
              "      <td>\"+\"</td>\n",
              "      <td>\"+\"</td>\n",
              "      <td>past</td>\n",
              "      <td>0</td>\n",
              "      <td>nie dotyczy</td>\n",
              "    </tr>\n",
              "    <tr>\n",
              "      <th>4</th>\n",
              "      <td>1</td>\n",
              "      <td>epistemiczny</td>\n",
              "      <td>percepcyjny</td>\n",
              "      <td>none</td>\n",
              "      <td>o</td>\n",
              "      <td>o</td>\n",
              "      <td>present</td>\n",
              "      <td>0</td>\n",
              "      <td>nie dotyczy</td>\n",
              "    </tr>\n",
              "  </tbody>\n",
              "</table>\n",
              "</div>"
            ],
            "text/plain": [
              "  type_of_sentence verb_main_semantic_class  ... t_negation presupposition\n",
              "0       eliptyczne                 mówienia  ...          0    nie dotyczy\n",
              "1       eliptyczne             epistemiczny  ...          0             no\n",
              "2       eliptyczne                 mówienia  ...          0    nie dotyczy\n",
              "3                1             epistemiczny  ...          0    nie dotyczy\n",
              "4                1             epistemiczny  ...          0    nie dotyczy\n",
              "\n",
              "[5 rows x 9 columns]"
            ]
          },
          "metadata": {
            "tags": []
          },
          "execution_count": 68
        }
      ]
    },
    {
      "cell_type": "markdown",
      "metadata": {
        "id": "fTXvttwo5v0D",
        "colab_type": "text"
      },
      "source": [
        "### Cleaning data by deleting uncertainty - simplification "
      ]
    },
    {
      "cell_type": "code",
      "metadata": {
        "id": "ewr4Z-ZH8e6Q",
        "colab_type": "code",
        "colab": {}
      },
      "source": [
        "# df.type_of_sentence.unique() cleaning not needed \n",
        "# df.verb_main_semantic_class.unique() cleaning not needed\n",
        "# df.verb_second_semantic_class.unique() cleaning not needed \n",
        "# df.verb_third_semantic_class.unique() cleaning not needed\n",
        "\n",
        "# verb veridical positive cleaning\n",
        "df.verb_veridical_positive = df.verb_veridical_positive.apply(lambda x: '+' if '+' in x else x)\n",
        "df.verb_veridical_positive = df.verb_veridical_positive.apply(lambda x: '-' if '-' in x else x)\n",
        "df.verb_veridical_positive = df.verb_veridical_positive.apply(lambda x: 'o' if 'o' in x else x)\n",
        "df.verb_veridical_positive = df.verb_veridical_positive.apply(lambda x: '?' if '?' in x else x)\n",
        "\n",
        "# verb veridical negative cleaning\n",
        "df.verb_veridical_negative = df.verb_veridical_negative.apply(lambda x: '+' if '+' in x else x)\n",
        "df.verb_veridical_negative = df.verb_veridical_negative.apply(lambda x: 'o' if 'o' in x else x)\n",
        "df.verb_veridical_negative = df.verb_veridical_negative.apply(lambda x: '-' if '-' in x else x)\n",
        "df.verb_veridical_negative = df.verb_veridical_negative.apply(lambda x: '?' if '?' in x else x)\n",
        "\n",
        "# df.verb_tense.unique() cleaning not needed\n",
        "# df.t_negation.unique() cleaning not needed\n",
        "# df.semantic_relation.unique() cleaning not needed \n",
        "\n",
        "df = df[df[\"presupposition\"] != \"nie dotyczy\"]"
      ],
      "execution_count": 0,
      "outputs": []
    },
    {
      "cell_type": "markdown",
      "metadata": {
        "id": "Eq5Zke-TO3zd",
        "colab_type": "text"
      },
      "source": [
        "#### Possible feature values"
      ]
    },
    {
      "cell_type": "code",
      "metadata": {
        "id": "FVbjgIUMOXXi",
        "colab_type": "code",
        "outputId": "45518f09-0240-4b7e-818c-dde1cb33b058",
        "colab": {
          "base_uri": "https://localhost:8080/",
          "height": 238
        }
      },
      "source": [
        "print(df.type_of_sentence.unique())\n",
        "print(df.verb_main_semantic_class.unique())\n",
        "print(df.verb_second_semantic_class.unique())\n",
        "print(df.verb_third_semantic_class.unique())\n",
        "print(df.verb_veridical_positive.unique())\n",
        "print(df.verb_veridical_negative.unique())\n",
        "print(df.verb_tense.unique())\n",
        "print(df.t_negation.unique())\n"
      ],
      "execution_count": 70,
      "outputs": [
        {
          "output_type": "stream",
          "text": [
            "['eliptyczne' 1 'modalne' 'powinnościowe' 'none' '?' 'warunkowe; pytajne'\n",
            " 'performatyw' 'imperatyw' 'pytajne' 'wolitywne' 'warunkowe; modalne'\n",
            " 'generalne' 'modalne; pytajne' 'imperatyw ' 'warunkowe']\n",
            "['epistemiczny' 'percepcyjny' 'emotywny' '?' 'zdarzeniowy' 'mówienia'\n",
            " 'czynnościowy' 'przyczynowy' 'dowodzenia' 'odkrycia' 'pamięciowy'\n",
            " 'wnioskowania']\n",
            "['none' 'percepcyjny' 'epistemiczny' 'emotywny' 'wolicjonalny'\n",
            " 'wnioskowania' 'pamięciowy' 'zdarzeniowy' 'mówienia']\n",
            "['none' 'mówienia' 'epistemiczny' 'percepcyjny']\n",
            "['?' 'o' '+' '-']\n",
            "['?' 'o' '+' '-']\n",
            "['past' 'brak' 'present' 'future']\n",
            "[0 1]\n"
          ],
          "name": "stdout"
        }
      ]
    },
    {
      "cell_type": "code",
      "metadata": {
        "id": "d0yf4jWrgB4D",
        "colab_type": "code",
        "colab": {}
      },
      "source": [
        "df = df[[\"verb_veridical_positive\",\n",
        "         \"verb_veridical_negative\",\n",
        "         \"verb_tense\",\n",
        "         \"presupposition\"]]\n",
        "df.to_csv(\"plDataPresup.csv\", index=False)"
      ],
      "execution_count": 0,
      "outputs": []
    },
    {
      "cell_type": "code",
      "metadata": {
        "id": "0mBdk6j7_tTV",
        "colab_type": "code",
        "outputId": "8c87176b-d080-4bb1-fb99-d106ee3e41fd",
        "colab": {
          "base_uri": "https://localhost:8080/",
          "height": 68
        }
      },
      "source": [
        "df.columns"
      ],
      "execution_count": 72,
      "outputs": [
        {
          "output_type": "execute_result",
          "data": {
            "text/plain": [
              "Index(['verb_veridical_positive', 'verb_veridical_negative', 'verb_tense',\n",
              "       'presupposition'],\n",
              "      dtype='object')"
            ]
          },
          "metadata": {
            "tags": []
          },
          "execution_count": 72
        }
      ]
    },
    {
      "cell_type": "markdown",
      "metadata": {
        "id": "MIX0AGcQkGG5",
        "colab_type": "text"
      },
      "source": [
        "### vectorize data and split to features and target"
      ]
    },
    {
      "cell_type": "code",
      "metadata": {
        "id": "5r7NRdcwkIX5",
        "colab_type": "code",
        "outputId": "47849f31-7c32-4120-b241-5f64c6fab7d0",
        "colab": {
          "base_uri": "https://localhost:8080/",
          "height": 224
        }
      },
      "source": [
        "df = pd.get_dummies(df)\n",
        "\n",
        "X_train = df.iloc[:,0:-2]\n",
        "y_train = df.iloc[:,-2:]\n",
        "\n",
        "X_train.head()"
      ],
      "execution_count": 73,
      "outputs": [
        {
          "output_type": "execute_result",
          "data": {
            "text/html": [
              "<div>\n",
              "<style scoped>\n",
              "    .dataframe tbody tr th:only-of-type {\n",
              "        vertical-align: middle;\n",
              "    }\n",
              "\n",
              "    .dataframe tbody tr th {\n",
              "        vertical-align: top;\n",
              "    }\n",
              "\n",
              "    .dataframe thead th {\n",
              "        text-align: right;\n",
              "    }\n",
              "</style>\n",
              "<table border=\"1\" class=\"dataframe\">\n",
              "  <thead>\n",
              "    <tr style=\"text-align: right;\">\n",
              "      <th></th>\n",
              "      <th>verb_veridical_positive_+</th>\n",
              "      <th>verb_veridical_positive_-</th>\n",
              "      <th>verb_veridical_positive_?</th>\n",
              "      <th>verb_veridical_positive_o</th>\n",
              "      <th>verb_veridical_negative_+</th>\n",
              "      <th>verb_veridical_negative_-</th>\n",
              "      <th>verb_veridical_negative_?</th>\n",
              "      <th>verb_veridical_negative_o</th>\n",
              "      <th>verb_tense_brak</th>\n",
              "      <th>verb_tense_future</th>\n",
              "      <th>verb_tense_past</th>\n",
              "      <th>verb_tense_present</th>\n",
              "    </tr>\n",
              "  </thead>\n",
              "  <tbody>\n",
              "    <tr>\n",
              "      <th>1</th>\n",
              "      <td>0</td>\n",
              "      <td>0</td>\n",
              "      <td>1</td>\n",
              "      <td>0</td>\n",
              "      <td>0</td>\n",
              "      <td>0</td>\n",
              "      <td>1</td>\n",
              "      <td>0</td>\n",
              "      <td>0</td>\n",
              "      <td>0</td>\n",
              "      <td>1</td>\n",
              "      <td>0</td>\n",
              "    </tr>\n",
              "    <tr>\n",
              "      <th>6</th>\n",
              "      <td>0</td>\n",
              "      <td>0</td>\n",
              "      <td>0</td>\n",
              "      <td>1</td>\n",
              "      <td>0</td>\n",
              "      <td>0</td>\n",
              "      <td>0</td>\n",
              "      <td>1</td>\n",
              "      <td>0</td>\n",
              "      <td>0</td>\n",
              "      <td>1</td>\n",
              "      <td>0</td>\n",
              "    </tr>\n",
              "    <tr>\n",
              "      <th>19</th>\n",
              "      <td>0</td>\n",
              "      <td>0</td>\n",
              "      <td>0</td>\n",
              "      <td>1</td>\n",
              "      <td>0</td>\n",
              "      <td>0</td>\n",
              "      <td>0</td>\n",
              "      <td>1</td>\n",
              "      <td>0</td>\n",
              "      <td>0</td>\n",
              "      <td>1</td>\n",
              "      <td>0</td>\n",
              "    </tr>\n",
              "    <tr>\n",
              "      <th>20</th>\n",
              "      <td>1</td>\n",
              "      <td>0</td>\n",
              "      <td>0</td>\n",
              "      <td>0</td>\n",
              "      <td>1</td>\n",
              "      <td>0</td>\n",
              "      <td>0</td>\n",
              "      <td>0</td>\n",
              "      <td>0</td>\n",
              "      <td>0</td>\n",
              "      <td>1</td>\n",
              "      <td>0</td>\n",
              "    </tr>\n",
              "    <tr>\n",
              "      <th>35</th>\n",
              "      <td>0</td>\n",
              "      <td>0</td>\n",
              "      <td>0</td>\n",
              "      <td>1</td>\n",
              "      <td>1</td>\n",
              "      <td>0</td>\n",
              "      <td>0</td>\n",
              "      <td>0</td>\n",
              "      <td>1</td>\n",
              "      <td>0</td>\n",
              "      <td>0</td>\n",
              "      <td>0</td>\n",
              "    </tr>\n",
              "  </tbody>\n",
              "</table>\n",
              "</div>"
            ],
            "text/plain": [
              "    verb_veridical_positive_+  ...  verb_tense_present\n",
              "1                           0  ...                   0\n",
              "6                           0  ...                   0\n",
              "19                          0  ...                   0\n",
              "20                          1  ...                   0\n",
              "35                          0  ...                   0\n",
              "\n",
              "[5 rows x 12 columns]"
            ]
          },
          "metadata": {
            "tags": []
          },
          "execution_count": 73
        }
      ]
    },
    {
      "cell_type": "code",
      "metadata": {
        "id": "ZCoFLf-U9HHm",
        "colab_type": "code",
        "outputId": "8a107791-a693-4852-b71a-7c876f106433",
        "colab": {
          "base_uri": "https://localhost:8080/",
          "height": 204
        }
      },
      "source": [
        "y_train.head()"
      ],
      "execution_count": 0,
      "outputs": [
        {
          "output_type": "execute_result",
          "data": {
            "text/html": [
              "<div>\n",
              "<style scoped>\n",
              "    .dataframe tbody tr th:only-of-type {\n",
              "        vertical-align: middle;\n",
              "    }\n",
              "\n",
              "    .dataframe tbody tr th {\n",
              "        vertical-align: top;\n",
              "    }\n",
              "\n",
              "    .dataframe thead th {\n",
              "        text-align: right;\n",
              "    }\n",
              "</style>\n",
              "<table border=\"1\" class=\"dataframe\">\n",
              "  <thead>\n",
              "    <tr style=\"text-align: right;\">\n",
              "      <th></th>\n",
              "      <th>presupposition_no</th>\n",
              "      <th>presupposition_yes</th>\n",
              "    </tr>\n",
              "  </thead>\n",
              "  <tbody>\n",
              "    <tr>\n",
              "      <th>1</th>\n",
              "      <td>1</td>\n",
              "      <td>0</td>\n",
              "    </tr>\n",
              "    <tr>\n",
              "      <th>6</th>\n",
              "      <td>0</td>\n",
              "      <td>1</td>\n",
              "    </tr>\n",
              "    <tr>\n",
              "      <th>19</th>\n",
              "      <td>0</td>\n",
              "      <td>1</td>\n",
              "    </tr>\n",
              "    <tr>\n",
              "      <th>20</th>\n",
              "      <td>0</td>\n",
              "      <td>1</td>\n",
              "    </tr>\n",
              "    <tr>\n",
              "      <th>35</th>\n",
              "      <td>0</td>\n",
              "      <td>1</td>\n",
              "    </tr>\n",
              "  </tbody>\n",
              "</table>\n",
              "</div>"
            ],
            "text/plain": [
              "    presupposition_no  presupposition_yes\n",
              "1                   1                   0\n",
              "6                   0                   1\n",
              "19                  0                   1\n",
              "20                  0                   1\n",
              "35                  0                   1"
            ]
          },
          "metadata": {
            "tags": []
          },
          "execution_count": 14
        }
      ]
    },
    {
      "cell_type": "markdown",
      "metadata": {
        "id": "9Xi8QfyAkbiN",
        "colab_type": "text"
      },
      "source": [
        "***\n",
        "# Keras model building"
      ]
    },
    {
      "cell_type": "code",
      "metadata": {
        "id": "amhvtjnZQwhz",
        "colab_type": "code",
        "colab": {}
      },
      "source": [
        "import tensorflow as tf \n",
        "from tensorflow import keras\n",
        "from tensorflow.keras import layers\n",
        "from tensorflow.keras.layers import Dense\n",
        "from tensorflow.keras.layers import Dropout"
      ],
      "execution_count": 0,
      "outputs": []
    },
    {
      "cell_type": "code",
      "metadata": {
        "id": "YQA-dmJ5RL9y",
        "colab_type": "code",
        "outputId": "7ca5eef8-3a36-41ec-cb0a-ad91dffabcc2",
        "colab": {
          "base_uri": "https://localhost:8080/",
          "height": 306
        }
      },
      "source": [
        "model = tf.keras.Sequential()\n",
        "\n",
        "#get number of columns in training data\n",
        "n_cols = X_train.shape[1]\n",
        "print(\"Model input size {}\".format(n_cols))\n",
        "#add model layers\n",
        "model.add(Dense(8, activation='relu', input_shape=(n_cols,)))\n",
        "#model.add(Dropout(rate=0.3))\n",
        "model.add(Dense(16, activation='relu'))\n",
        "#model.add(Dropout(rate=0.3))\n",
        "model.add(Dense(8, activation='relu'))\n",
        "#model.add(Dropout(rate=0.3))\n",
        "model.add(Dense(2, activation='softmax'))\n",
        "\n",
        "optimizer = tf.keras.optimizers.Adam(learning_rate=0.001)\n",
        "model.compile(optimizer = optimizer, loss=\"categorical_crossentropy\", metrics = ['accuracy'])\n",
        "model.summary()"
      ],
      "execution_count": 75,
      "outputs": [
        {
          "output_type": "stream",
          "text": [
            "Model input size 12\n",
            "Model: \"sequential_14\"\n",
            "_________________________________________________________________\n",
            "Layer (type)                 Output Shape              Param #   \n",
            "=================================================================\n",
            "dense_56 (Dense)             (None, 8)                 104       \n",
            "_________________________________________________________________\n",
            "dense_57 (Dense)             (None, 16)                144       \n",
            "_________________________________________________________________\n",
            "dense_58 (Dense)             (None, 8)                 136       \n",
            "_________________________________________________________________\n",
            "dense_59 (Dense)             (None, 2)                 18        \n",
            "=================================================================\n",
            "Total params: 402\n",
            "Trainable params: 402\n",
            "Non-trainable params: 0\n",
            "_________________________________________________________________\n"
          ],
          "name": "stdout"
        }
      ]
    },
    {
      "cell_type": "markdown",
      "metadata": {
        "id": "xq3yIS2Kkh2r",
        "colab_type": "text"
      },
      "source": [
        "## Training model on prepared data"
      ]
    },
    {
      "cell_type": "code",
      "metadata": {
        "id": "1gnjHDM5dJb_",
        "colab_type": "code",
        "outputId": "a2c21038-8557-4783-f061-bd4329b2bb10",
        "colab": {
          "base_uri": "https://localhost:8080/",
          "height": 1000
        }
      },
      "source": [
        "#train model\n",
        "history = model.fit(X_train, y_train, validation_split=0.4, epochs=60)"
      ],
      "execution_count": 76,
      "outputs": [
        {
          "output_type": "stream",
          "text": [
            "Epoch 1/60\n",
            "15/15 [==============================] - 0s 10ms/step - loss: 0.6616 - accuracy: 0.6667 - val_loss: 0.6450 - val_accuracy: 0.5523\n",
            "Epoch 2/60\n",
            "15/15 [==============================] - 0s 4ms/step - loss: 0.6415 - accuracy: 0.7320 - val_loss: 0.6079 - val_accuracy: 0.8399\n",
            "Epoch 3/60\n",
            "15/15 [==============================] - 0s 4ms/step - loss: 0.6202 - accuracy: 0.7865 - val_loss: 0.5812 - val_accuracy: 0.8399\n",
            "Epoch 4/60\n",
            "15/15 [==============================] - 0s 4ms/step - loss: 0.6035 - accuracy: 0.7821 - val_loss: 0.5565 - val_accuracy: 0.8399\n",
            "Epoch 5/60\n",
            "15/15 [==============================] - 0s 4ms/step - loss: 0.5837 - accuracy: 0.7843 - val_loss: 0.5274 - val_accuracy: 0.8431\n",
            "Epoch 6/60\n",
            "15/15 [==============================] - 0s 4ms/step - loss: 0.5655 - accuracy: 0.7887 - val_loss: 0.5007 - val_accuracy: 0.8431\n",
            "Epoch 7/60\n",
            "15/15 [==============================] - 0s 4ms/step - loss: 0.5454 - accuracy: 0.7887 - val_loss: 0.4618 - val_accuracy: 0.8431\n",
            "Epoch 8/60\n",
            "15/15 [==============================] - 0s 4ms/step - loss: 0.5255 - accuracy: 0.7887 - val_loss: 0.4398 - val_accuracy: 0.8431\n",
            "Epoch 9/60\n",
            "15/15 [==============================] - 0s 4ms/step - loss: 0.5130 - accuracy: 0.7887 - val_loss: 0.4149 - val_accuracy: 0.8464\n",
            "Epoch 10/60\n",
            "15/15 [==============================] - 0s 4ms/step - loss: 0.4815 - accuracy: 0.7865 - val_loss: 0.3942 - val_accuracy: 0.8464\n",
            "Epoch 11/60\n",
            "15/15 [==============================] - 0s 3ms/step - loss: 0.4663 - accuracy: 0.7865 - val_loss: 0.3750 - val_accuracy: 0.8464\n",
            "Epoch 12/60\n",
            "15/15 [==============================] - 0s 4ms/step - loss: 0.4518 - accuracy: 0.7887 - val_loss: 0.3629 - val_accuracy: 0.8464\n",
            "Epoch 13/60\n",
            "15/15 [==============================] - 0s 3ms/step - loss: 0.4322 - accuracy: 0.8039 - val_loss: 0.3551 - val_accuracy: 0.8497\n",
            "Epoch 14/60\n",
            "15/15 [==============================] - 0s 4ms/step - loss: 0.4256 - accuracy: 0.8170 - val_loss: 0.3484 - val_accuracy: 0.8464\n",
            "Epoch 15/60\n",
            "15/15 [==============================] - 0s 3ms/step - loss: 0.4206 - accuracy: 0.8192 - val_loss: 0.3385 - val_accuracy: 0.8464\n",
            "Epoch 16/60\n",
            "15/15 [==============================] - 0s 4ms/step - loss: 0.4059 - accuracy: 0.8214 - val_loss: 0.3338 - val_accuracy: 0.8464\n",
            "Epoch 17/60\n",
            "15/15 [==============================] - 0s 4ms/step - loss: 0.3928 - accuracy: 0.8257 - val_loss: 0.3330 - val_accuracy: 0.8464\n",
            "Epoch 18/60\n",
            "15/15 [==============================] - 0s 4ms/step - loss: 0.3904 - accuracy: 0.8279 - val_loss: 0.3300 - val_accuracy: 0.8464\n",
            "Epoch 19/60\n",
            "15/15 [==============================] - 0s 4ms/step - loss: 0.3874 - accuracy: 0.8279 - val_loss: 0.3377 - val_accuracy: 0.8464\n",
            "Epoch 20/60\n",
            "15/15 [==============================] - 0s 3ms/step - loss: 0.3839 - accuracy: 0.8279 - val_loss: 0.3358 - val_accuracy: 0.8464\n",
            "Epoch 21/60\n",
            "15/15 [==============================] - 0s 3ms/step - loss: 0.3951 - accuracy: 0.8279 - val_loss: 0.3404 - val_accuracy: 0.8464\n",
            "Epoch 22/60\n",
            "15/15 [==============================] - 0s 4ms/step - loss: 0.3794 - accuracy: 0.8257 - val_loss: 0.3521 - val_accuracy: 0.8464\n",
            "Epoch 23/60\n",
            "15/15 [==============================] - 0s 4ms/step - loss: 0.3772 - accuracy: 0.8301 - val_loss: 0.3444 - val_accuracy: 0.8464\n",
            "Epoch 24/60\n",
            "15/15 [==============================] - 0s 3ms/step - loss: 0.3962 - accuracy: 0.8301 - val_loss: 0.3463 - val_accuracy: 0.8464\n",
            "Epoch 25/60\n",
            "15/15 [==============================] - 0s 4ms/step - loss: 0.3713 - accuracy: 0.8301 - val_loss: 0.3521 - val_accuracy: 0.8464\n",
            "Epoch 26/60\n",
            "15/15 [==============================] - 0s 4ms/step - loss: 0.3797 - accuracy: 0.8301 - val_loss: 0.3522 - val_accuracy: 0.8464\n",
            "Epoch 27/60\n",
            "15/15 [==============================] - 0s 4ms/step - loss: 0.3635 - accuracy: 0.8301 - val_loss: 0.3558 - val_accuracy: 0.8464\n",
            "Epoch 28/60\n",
            "15/15 [==============================] - 0s 4ms/step - loss: 0.3571 - accuracy: 0.8301 - val_loss: 0.3563 - val_accuracy: 0.8464\n",
            "Epoch 29/60\n",
            "15/15 [==============================] - 0s 4ms/step - loss: 0.3746 - accuracy: 0.8301 - val_loss: 0.3580 - val_accuracy: 0.8464\n",
            "Epoch 30/60\n",
            "15/15 [==============================] - 0s 4ms/step - loss: 0.3624 - accuracy: 0.8344 - val_loss: 0.3519 - val_accuracy: 0.8464\n",
            "Epoch 31/60\n",
            "15/15 [==============================] - 0s 4ms/step - loss: 0.3678 - accuracy: 0.8344 - val_loss: 0.3573 - val_accuracy: 0.8464\n",
            "Epoch 32/60\n",
            "15/15 [==============================] - 0s 3ms/step - loss: 0.3603 - accuracy: 0.8344 - val_loss: 0.3549 - val_accuracy: 0.8464\n",
            "Epoch 33/60\n",
            "15/15 [==============================] - 0s 4ms/step - loss: 0.3713 - accuracy: 0.8344 - val_loss: 0.3632 - val_accuracy: 0.8464\n",
            "Epoch 34/60\n",
            "15/15 [==============================] - 0s 4ms/step - loss: 0.3529 - accuracy: 0.8322 - val_loss: 0.3712 - val_accuracy: 0.8464\n",
            "Epoch 35/60\n",
            "15/15 [==============================] - 0s 4ms/step - loss: 0.3624 - accuracy: 0.8301 - val_loss: 0.3696 - val_accuracy: 0.8464\n",
            "Epoch 36/60\n",
            "15/15 [==============================] - 0s 4ms/step - loss: 0.3757 - accuracy: 0.8344 - val_loss: 0.3587 - val_accuracy: 0.8464\n",
            "Epoch 37/60\n",
            "15/15 [==============================] - 0s 3ms/step - loss: 0.3687 - accuracy: 0.8322 - val_loss: 0.3627 - val_accuracy: 0.8464\n",
            "Epoch 38/60\n",
            "15/15 [==============================] - 0s 3ms/step - loss: 0.3630 - accuracy: 0.8344 - val_loss: 0.3744 - val_accuracy: 0.8431\n",
            "Epoch 39/60\n",
            "15/15 [==============================] - 0s 4ms/step - loss: 0.3580 - accuracy: 0.8475 - val_loss: 0.3658 - val_accuracy: 0.8464\n",
            "Epoch 40/60\n",
            "15/15 [==============================] - 0s 4ms/step - loss: 0.3521 - accuracy: 0.8388 - val_loss: 0.3676 - val_accuracy: 0.8464\n",
            "Epoch 41/60\n",
            "15/15 [==============================] - 0s 3ms/step - loss: 0.3583 - accuracy: 0.8410 - val_loss: 0.3751 - val_accuracy: 0.8431\n",
            "Epoch 42/60\n",
            "15/15 [==============================] - 0s 5ms/step - loss: 0.3700 - accuracy: 0.8344 - val_loss: 0.3724 - val_accuracy: 0.8431\n",
            "Epoch 43/60\n",
            "15/15 [==============================] - 0s 4ms/step - loss: 0.3633 - accuracy: 0.8410 - val_loss: 0.3766 - val_accuracy: 0.8399\n",
            "Epoch 44/60\n",
            "15/15 [==============================] - 0s 4ms/step - loss: 0.3523 - accuracy: 0.8301 - val_loss: 0.3673 - val_accuracy: 0.8431\n",
            "Epoch 45/60\n",
            "15/15 [==============================] - 0s 4ms/step - loss: 0.3613 - accuracy: 0.8344 - val_loss: 0.3758 - val_accuracy: 0.8399\n",
            "Epoch 46/60\n",
            "15/15 [==============================] - 0s 4ms/step - loss: 0.3538 - accuracy: 0.8410 - val_loss: 0.3679 - val_accuracy: 0.8399\n",
            "Epoch 47/60\n",
            "15/15 [==============================] - 0s 4ms/step - loss: 0.3615 - accuracy: 0.8410 - val_loss: 0.3743 - val_accuracy: 0.8399\n",
            "Epoch 48/60\n",
            "15/15 [==============================] - 0s 4ms/step - loss: 0.3631 - accuracy: 0.8301 - val_loss: 0.3821 - val_accuracy: 0.8399\n",
            "Epoch 49/60\n",
            "15/15 [==============================] - 0s 4ms/step - loss: 0.3565 - accuracy: 0.8366 - val_loss: 0.3679 - val_accuracy: 0.8399\n",
            "Epoch 50/60\n",
            "15/15 [==============================] - 0s 4ms/step - loss: 0.3552 - accuracy: 0.8322 - val_loss: 0.3789 - val_accuracy: 0.8399\n",
            "Epoch 51/60\n",
            "15/15 [==============================] - 0s 4ms/step - loss: 0.3529 - accuracy: 0.8410 - val_loss: 0.3691 - val_accuracy: 0.8399\n",
            "Epoch 52/60\n",
            "15/15 [==============================] - 0s 4ms/step - loss: 0.3611 - accuracy: 0.8410 - val_loss: 0.3733 - val_accuracy: 0.8399\n",
            "Epoch 53/60\n",
            "15/15 [==============================] - 0s 4ms/step - loss: 0.3727 - accuracy: 0.8410 - val_loss: 0.3703 - val_accuracy: 0.8399\n",
            "Epoch 54/60\n",
            "15/15 [==============================] - 0s 4ms/step - loss: 0.3657 - accuracy: 0.8388 - val_loss: 0.3624 - val_accuracy: 0.8399\n",
            "Epoch 55/60\n",
            "15/15 [==============================] - 0s 4ms/step - loss: 0.3754 - accuracy: 0.8388 - val_loss: 0.3657 - val_accuracy: 0.8399\n",
            "Epoch 56/60\n",
            "15/15 [==============================] - 0s 4ms/step - loss: 0.3657 - accuracy: 0.8410 - val_loss: 0.3748 - val_accuracy: 0.8399\n",
            "Epoch 57/60\n",
            "15/15 [==============================] - 0s 4ms/step - loss: 0.3537 - accuracy: 0.8410 - val_loss: 0.3693 - val_accuracy: 0.8399\n",
            "Epoch 58/60\n",
            "15/15 [==============================] - 0s 4ms/step - loss: 0.3549 - accuracy: 0.8410 - val_loss: 0.3752 - val_accuracy: 0.8399\n",
            "Epoch 59/60\n",
            "15/15 [==============================] - 0s 4ms/step - loss: 0.3699 - accuracy: 0.8366 - val_loss: 0.3761 - val_accuracy: 0.8399\n",
            "Epoch 60/60\n",
            "15/15 [==============================] - 0s 4ms/step - loss: 0.3562 - accuracy: 0.8322 - val_loss: 0.3815 - val_accuracy: 0.8399\n"
          ],
          "name": "stdout"
        }
      ]
    },
    {
      "cell_type": "markdown",
      "metadata": {
        "id": "YQDKmJQ_kmdh",
        "colab_type": "text"
      },
      "source": [
        "## plot with train and test accuracy"
      ]
    },
    {
      "cell_type": "code",
      "metadata": {
        "id": "mi0f_JObgC4C",
        "colab_type": "code",
        "outputId": "1468900e-12eb-4ac1-9f4b-1baf74d7fae0",
        "colab": {
          "base_uri": "https://localhost:8080/",
          "height": 295
        }
      },
      "source": [
        "import matplotlib.pyplot as plt\n",
        "plt.plot(history.history['accuracy'])\n",
        "plt.plot(history.history['val_accuracy'])\n",
        "plt.title('model accuracy')\n",
        "plt.ylabel('accuracy')\n",
        "plt.xlabel('epoch')\n",
        "plt.ylim(0,1)\n",
        "plt.legend(['train', 'test'], loc='upper left')\n",
        "plt.show()"
      ],
      "execution_count": 77,
      "outputs": [
        {
          "output_type": "display_data",
          "data": {
            "image/png": "[encoded data removed]",
            "text/plain": [
              "<Figure size 432x288 with 1 Axes>"
            ]
          },
          "metadata": {
            "tags": [],
            "needs_background": "light"
          }
        }
      ]
    },
    {
      "cell_type": "code",
      "metadata": {
        "colab_type": "code",
        "outputId": "eb15feff-a656-4a58-d1cc-de2acb3614d9",
        "id": "MZqTTLklFGp6",
        "colab": {
          "base_uri": "https://localhost:8080/",
          "height": 295
        }
      },
      "source": [
        "import matplotlib.pyplot as plt\n",
        "plt.plot(history.history['loss'])\n",
        "plt.plot(history.history['val_loss'])\n",
        "plt.title('model loss')\n",
        "plt.ylabel('loss')\n",
        "plt.xlabel('epoch')\n",
        "\n",
        "plt.legend(['train', 'test'], loc='upper left')\n",
        "plt.show()"
      ],
      "execution_count": 78,
      "outputs": [
        {
          "output_type": "display_data",
          "data": {
            "image/png": "[encoded data removed]",
            "text/plain": [
              "<Figure size 432x288 with 1 Axes>"
            ]
          },
          "metadata": {
            "tags": [],
            "needs_background": "light"
          }
        }
      ]
    },
    {
      "cell_type": "markdown",
      "metadata": {
        "id": "RwVgSUc6uC6Y",
        "colab_type": "text"
      },
      "source": [
        "### Save model \n"
      ]
    },
    {
      "cell_type": "code",
      "metadata": {
        "id": "Z2XZ1N0JuIop",
        "colab_type": "code",
        "colab": {}
      },
      "source": [
        "model.save('featureModelPlPresup.h5')"
      ],
      "execution_count": 0,
      "outputs": []
    }
  ]
}