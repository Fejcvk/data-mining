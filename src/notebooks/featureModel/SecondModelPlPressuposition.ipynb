{
  "nbformat": 4,
  "nbformat_minor": 0,
  "metadata": {
    "colab": {
      "name": "SecondModelPlPressuposition.ipynb",
      "provenance": [],
      "collapsed_sections": [],
      "toc_visible": true
    },
    "kernelspec": {
      "name": "python3",
      "display_name": "Python 3"
    }
  },
  "cells": [
    {
      "cell_type": "markdown",
      "metadata": {
        "id": "i61b34AJ1zPY",
        "colab_type": "text"
      },
      "source": [
        "# Second model presupposition - Polish Dataset"
      ]
    },
    {
      "cell_type": "code",
      "metadata": {
        "id": "QLg6EMKN2D0x",
        "colab_type": "code",
        "outputId": "e3c8203a-7fba-40cf-c4f1-33dfb8de67b2",
        "colab": {
          "base_uri": "https://localhost:8080/",
          "height": 306
        }
      },
      "source": [
        "!pip install transformers\n",
        "!pip install -q pyyaml h5py\n",
        "import pandas as pd\n",
        "from transformers import *\n",
        "import numpy as np\n",
        "from sklearn.model_selection import train_test_split\n"
      ],
      "execution_count": 22,
      "outputs": [
        {
          "output_type": "stream",
          "text": [
            "Requirement already satisfied: transformers in /usr/local/lib/python3.6/dist-packages (2.9.0)\n",
            "Requirement already satisfied: requests in /usr/local/lib/python3.6/dist-packages (from transformers) (2.23.0)\n",
            "Requirement already satisfied: tokenizers==0.7.0 in /usr/local/lib/python3.6/dist-packages (from transformers) (0.7.0)\n",
            "Requirement already satisfied: numpy in /usr/local/lib/python3.6/dist-packages (from transformers) (1.18.3)\n",
            "Requirement already satisfied: regex!=2019.12.17 in /usr/local/lib/python3.6/dist-packages (from transformers) (2019.12.20)\n",
            "Requirement already satisfied: filelock in /usr/local/lib/python3.6/dist-packages (from transformers) (3.0.12)\n",
            "Requirement already satisfied: dataclasses; python_version < \"3.7\" in /usr/local/lib/python3.6/dist-packages (from transformers) (0.7)\n",
            "Requirement already satisfied: sentencepiece in /usr/local/lib/python3.6/dist-packages (from transformers) (0.1.86)\n",
            "Requirement already satisfied: sacremoses in /usr/local/lib/python3.6/dist-packages (from transformers) (0.0.43)\n",
            "Requirement already satisfied: tqdm>=4.27 in /usr/local/lib/python3.6/dist-packages (from transformers) (4.38.0)\n",
            "Requirement already satisfied: idna<3,>=2.5 in /usr/local/lib/python3.6/dist-packages (from requests->transformers) (2.9)\n",
            "Requirement already satisfied: urllib3!=1.25.0,!=1.25.1,<1.26,>=1.21.1 in /usr/local/lib/python3.6/dist-packages (from requests->transformers) (1.24.3)\n",
            "Requirement already satisfied: certifi>=2017.4.17 in /usr/local/lib/python3.6/dist-packages (from requests->transformers) (2020.4.5.1)\n",
            "Requirement already satisfied: chardet<4,>=3.0.2 in /usr/local/lib/python3.6/dist-packages (from requests->transformers) (3.0.4)\n",
            "Requirement already satisfied: joblib in /usr/local/lib/python3.6/dist-packages (from sacremoses->transformers) (0.14.1)\n",
            "Requirement already satisfied: six in /usr/local/lib/python3.6/dist-packages (from sacremoses->transformers) (1.12.0)\n",
            "Requirement already satisfied: click in /usr/local/lib/python3.6/dist-packages (from sacremoses->transformers) (7.1.2)\n"
          ],
          "name": "stdout"
        }
      ]
    },
    {
      "cell_type": "markdown",
      "metadata": {
        "id": "Qr2zJmEf2Eh3",
        "colab_type": "text"
      },
      "source": [
        "## Data Preprocessing"
      ]
    },
    {
      "cell_type": "markdown",
      "metadata": {
        "id": "vLXojV3K5Y1U",
        "colab_type": "text"
      },
      "source": [
        "*   Reading data\n",
        "*   Change columns names\n",
        "*   Drop NaN rows\n",
        "*   Fill others NaN values by special sign"
      ]
    },
    {
      "cell_type": "code",
      "metadata": {
        "id": "j--zuCZf2HvJ",
        "colab_type": "code",
        "outputId": "1039fe9b-5de9-4858-87d9-4ce706e0c40e",
        "colab": {
          "base_uri": "https://localhost:8080/",
          "height": 204
        }
      },
      "source": [
        "df = pd.read_excel('polishOriginalDataset.xlsx')\n",
        "df.reset_index()\n",
        "df = df.iloc[:,[6,8,9,10,15,16,19,21,23]]\n",
        "df.columns = [\n",
        "              \"type_of_sentence\",\n",
        "              \"verb_main_semantic_class\",\n",
        "              \"verb_second_semantic_class\",\n",
        "              \"verb_third_semantic_class\",\n",
        "              \"verb_veridical_positive\",\n",
        "              \"verb_veridical_negative\",\n",
        "              \"verb_tense\",\n",
        "              \"t_negation\",\n",
        "              \"presupposition\"\n",
        "              ]\n",
        "df.dropna(inplace=True, axis = 0, how = 'all')\n",
        "df.fillna(axis = 0, inplace =True, value=\"none\")\n",
        "df.head()"
      ],
      "execution_count": 23,
      "outputs": [
        {
          "output_type": "execute_result",
          "data": {
            "text/html": [
              "<div>\n",
              "<style scoped>\n",
              "    .dataframe tbody tr th:only-of-type {\n",
              "        vertical-align: middle;\n",
              "    }\n",
              "\n",
              "    .dataframe tbody tr th {\n",
              "        vertical-align: top;\n",
              "    }\n",
              "\n",
              "    .dataframe thead th {\n",
              "        text-align: right;\n",
              "    }\n",
              "</style>\n",
              "<table border=\"1\" class=\"dataframe\">\n",
              "  <thead>\n",
              "    <tr style=\"text-align: right;\">\n",
              "      <th></th>\n",
              "      <th>type_of_sentence</th>\n",
              "      <th>verb_main_semantic_class</th>\n",
              "      <th>verb_second_semantic_class</th>\n",
              "      <th>verb_third_semantic_class</th>\n",
              "      <th>verb_veridical_positive</th>\n",
              "      <th>verb_veridical_negative</th>\n",
              "      <th>verb_tense</th>\n",
              "      <th>t_negation</th>\n",
              "      <th>presupposition</th>\n",
              "    </tr>\n",
              "  </thead>\n",
              "  <tbody>\n",
              "    <tr>\n",
              "      <th>0</th>\n",
              "      <td>eliptyczne</td>\n",
              "      <td>mówienia</td>\n",
              "      <td>none</td>\n",
              "      <td>none</td>\n",
              "      <td>o?</td>\n",
              "      <td>?</td>\n",
              "      <td>brak</td>\n",
              "      <td>0</td>\n",
              "      <td>nie dotyczy</td>\n",
              "    </tr>\n",
              "    <tr>\n",
              "      <th>1</th>\n",
              "      <td>eliptyczne</td>\n",
              "      <td>epistemiczny</td>\n",
              "      <td>none</td>\n",
              "      <td>none</td>\n",
              "      <td>?</td>\n",
              "      <td>?</td>\n",
              "      <td>past</td>\n",
              "      <td>0</td>\n",
              "      <td>no</td>\n",
              "    </tr>\n",
              "    <tr>\n",
              "      <th>2</th>\n",
              "      <td>eliptyczne</td>\n",
              "      <td>mówienia</td>\n",
              "      <td>none</td>\n",
              "      <td>none</td>\n",
              "      <td>?</td>\n",
              "      <td>?</td>\n",
              "      <td>past</td>\n",
              "      <td>0</td>\n",
              "      <td>nie dotyczy</td>\n",
              "    </tr>\n",
              "    <tr>\n",
              "      <th>3</th>\n",
              "      <td>1</td>\n",
              "      <td>epistemiczny</td>\n",
              "      <td>percepcyjny</td>\n",
              "      <td>none</td>\n",
              "      <td>\"+\"</td>\n",
              "      <td>\"+\"</td>\n",
              "      <td>past</td>\n",
              "      <td>0</td>\n",
              "      <td>nie dotyczy</td>\n",
              "    </tr>\n",
              "    <tr>\n",
              "      <th>4</th>\n",
              "      <td>1</td>\n",
              "      <td>epistemiczny</td>\n",
              "      <td>percepcyjny</td>\n",
              "      <td>none</td>\n",
              "      <td>o</td>\n",
              "      <td>o</td>\n",
              "      <td>present</td>\n",
              "      <td>0</td>\n",
              "      <td>nie dotyczy</td>\n",
              "    </tr>\n",
              "  </tbody>\n",
              "</table>\n",
              "</div>"
            ],
            "text/plain": [
              "  type_of_sentence verb_main_semantic_class  ... t_negation presupposition\n",
              "0       eliptyczne                 mówienia  ...          0    nie dotyczy\n",
              "1       eliptyczne             epistemiczny  ...          0             no\n",
              "2       eliptyczne                 mówienia  ...          0    nie dotyczy\n",
              "3                1             epistemiczny  ...          0    nie dotyczy\n",
              "4                1             epistemiczny  ...          0    nie dotyczy\n",
              "\n",
              "[5 rows x 9 columns]"
            ]
          },
          "metadata": {
            "tags": []
          },
          "execution_count": 23
        }
      ]
    },
    {
      "cell_type": "markdown",
      "metadata": {
        "id": "fTXvttwo5v0D",
        "colab_type": "text"
      },
      "source": [
        "### Cleaning data by deleting uncertainty - simplification "
      ]
    },
    {
      "cell_type": "code",
      "metadata": {
        "id": "ewr4Z-ZH8e6Q",
        "colab_type": "code",
        "colab": {}
      },
      "source": [
        "# df.type_of_sentence.unique() cleaning not needed \n",
        "\n",
        "# df.verb_main_semantic_class - only (epistemiczny, mówienia, ?)\n",
        "main_semantic_class_unique = df.verb_main_semantic_class.unique()\n",
        "main_semantic_class_unique = main_semantic_class_unique[main_semantic_class_unique != \"epistemiczny\"]\n",
        "main_semantic_class_unique = main_semantic_class_unique[main_semantic_class_unique != \"mówienia\"]\n",
        "df.verb_main_semantic_class = df.verb_main_semantic_class.apply(lambda x: '?' if x in main_semantic_class_unique else x )\n",
        "\n",
        "# df.verb_second_semantic_class.unique() cleaning not needed \n",
        "# df.verb_third_semantic_class.unique() cleaning not needed\n",
        "\n",
        "# verb veridical positive cleaning\n",
        "df.verb_veridical_positive = df.verb_veridical_positive.apply(lambda x: '+' if '+' in x else x)\n",
        "df.verb_veridical_positive = df.verb_veridical_positive.apply(lambda x: '-' if '-' in x else x)\n",
        "df.verb_veridical_positive = df.verb_veridical_positive.apply(lambda x: 'o' if 'o' in x else x)\n",
        "df.verb_veridical_positive = df.verb_veridical_positive.apply(lambda x: '?' if '?' in x else x)\n",
        "\n",
        "# verb veridical negative cleaning\n",
        "df.verb_veridical_negative = df.verb_veridical_negative.apply(lambda x: '+' if '+' in x else x)\n",
        "df.verb_veridical_negative = df.verb_veridical_negative.apply(lambda x: 'o' if 'o' in x else x)\n",
        "df.verb_veridical_negative = df.verb_veridical_negative.apply(lambda x: '-' if '-' in x else x)\n",
        "df.verb_veridical_negative = df.verb_veridical_negative.apply(lambda x: '?' if '?' in x else x)\n",
        "\n",
        "# df.verb_tense.unique() cleaning not needed\n",
        "# df.t_negation.unique() cleaning not needed\n",
        "# df.semantic_relation.unique() cleaning not needed \n",
        "\n",
        "df = df[df[\"presupposition\"] != \"nie dotyczy\"]"
      ],
      "execution_count": 0,
      "outputs": []
    },
    {
      "cell_type": "markdown",
      "metadata": {
        "id": "Eq5Zke-TO3zd",
        "colab_type": "text"
      },
      "source": [
        "#### Possible feature values"
      ]
    },
    {
      "cell_type": "code",
      "metadata": {
        "id": "FVbjgIUMOXXi",
        "colab_type": "code",
        "outputId": "81d2402d-edb1-47e5-95ba-5968dddca46e",
        "colab": {
          "base_uri": "https://localhost:8080/",
          "height": 204
        }
      },
      "source": [
        "print(df.type_of_sentence.unique())\n",
        "print(df.verb_main_semantic_class.unique())\n",
        "print(df.verb_second_semantic_class.unique())\n",
        "print(df.verb_third_semantic_class.unique())\n",
        "print(df.verb_veridical_positive.unique())\n",
        "print(df.verb_veridical_negative.unique())\n",
        "print(df.verb_tense.unique())\n",
        "print(df.t_negation.unique())\n"
      ],
      "execution_count": 25,
      "outputs": [
        {
          "output_type": "stream",
          "text": [
            "['eliptyczne' 1 'modalne' 'powinnościowe' 'none' '?' 'warunkowe; pytajne'\n",
            " 'performatyw' 'imperatyw' 'pytajne' 'wolitywne' 'warunkowe; modalne'\n",
            " 'generalne' 'modalne; pytajne' 'imperatyw ' 'warunkowe']\n",
            "['epistemiczny' '?' 'mówienia']\n",
            "['none' 'percepcyjny' 'epistemiczny' 'emotywny' 'wolicjonalny'\n",
            " 'wnioskowania' 'pamięciowy' 'zdarzeniowy' 'mówienia']\n",
            "['none' 'mówienia' 'epistemiczny' 'percepcyjny']\n",
            "['?' 'o' '+' '-']\n",
            "['?' 'o' '+' '-']\n",
            "['past' 'brak' 'present' 'future']\n",
            "[0 1]\n"
          ],
          "name": "stdout"
        }
      ]
    },
    {
      "cell_type": "code",
      "metadata": {
        "id": "d0yf4jWrgB4D",
        "colab_type": "code",
        "colab": {}
      },
      "source": [
        "df = df[[\n",
        "         \"verb_main_semantic_class\",\n",
        "         \"verb_veridical_positive\",\n",
        "         \"verb_veridical_negative\",\n",
        "         \"verb_tense\",\n",
        "         \"presupposition\"\n",
        "         ]]\n",
        "df.to_csv(\"plDataPresup.csv\", index=False)"
      ],
      "execution_count": 0,
      "outputs": []
    },
    {
      "cell_type": "code",
      "metadata": {
        "id": "0mBdk6j7_tTV",
        "colab_type": "code",
        "outputId": "32952341-5a7d-41a9-a8e9-ec49c2039de3",
        "colab": {
          "base_uri": "https://localhost:8080/",
          "height": 68
        }
      },
      "source": [
        "df.columns"
      ],
      "execution_count": 27,
      "outputs": [
        {
          "output_type": "execute_result",
          "data": {
            "text/plain": [
              "Index(['verb_main_semantic_class', 'verb_veridical_positive',\n",
              "       'verb_veridical_negative', 'verb_tense', 'presupposition'],\n",
              "      dtype='object')"
            ]
          },
          "metadata": {
            "tags": []
          },
          "execution_count": 27
        }
      ]
    },
    {
      "cell_type": "markdown",
      "metadata": {
        "id": "ZOi5V_fDAJBS",
        "colab_type": "text"
      },
      "source": [
        "### Vactorize data and split to features and target"
      ]
    },
    {
      "cell_type": "markdown",
      "metadata": {
        "id": "bNZdBxWgyu8t",
        "colab_type": "text"
      },
      "source": [
        "Ml classifier labels - target for RandomForest"
      ]
    },
    {
      "cell_type": "code",
      "metadata": {
        "id": "RSR0_iVM0ujy",
        "colab_type": "code",
        "colab": {}
      },
      "source": [
        "ml_classifier_labels = df[\"presupposition\"]"
      ],
      "execution_count": 0,
      "outputs": []
    },
    {
      "cell_type": "markdown",
      "metadata": {
        "id": "YokPfvoJxWoR",
        "colab_type": "text"
      },
      "source": [
        "#### Vectorize (one =hot encoding)"
      ]
    },
    {
      "cell_type": "code",
      "metadata": {
        "id": "5r7NRdcwkIX5",
        "colab_type": "code",
        "colab": {}
      },
      "source": [
        "df = pd.get_dummies(df)"
      ],
      "execution_count": 0,
      "outputs": []
    },
    {
      "cell_type": "markdown",
      "metadata": {
        "id": "q9f1MRWJxhBA",
        "colab_type": "text"
      },
      "source": [
        "#### Split to features and target"
      ]
    },
    {
      "cell_type": "code",
      "metadata": {
        "id": "qp6eOyEdxlMO",
        "colab_type": "code",
        "colab": {}
      },
      "source": [
        "X = df.iloc[:,0:-2]\n",
        "y = df.iloc[:,-2:]"
      ],
      "execution_count": 0,
      "outputs": []
    },
    {
      "cell_type": "markdown",
      "metadata": {
        "id": "KjQvT5PtxsFz",
        "colab_type": "text"
      },
      "source": [
        "#### Features columns"
      ]
    },
    {
      "cell_type": "code",
      "metadata": {
        "id": "yLqFLidq0YLV",
        "colab_type": "code",
        "outputId": "a20542ca-c78f-4606-cb3d-e64748245dff",
        "colab": {
          "base_uri": "https://localhost:8080/",
          "height": 153
        }
      },
      "source": [
        "X.columns"
      ],
      "execution_count": 31,
      "outputs": [
        {
          "output_type": "execute_result",
          "data": {
            "text/plain": [
              "Index(['verb_main_semantic_class_?', 'verb_main_semantic_class_epistemiczny',\n",
              "       'verb_main_semantic_class_mówienia', 'verb_veridical_positive_+',\n",
              "       'verb_veridical_positive_-', 'verb_veridical_positive_?',\n",
              "       'verb_veridical_positive_o', 'verb_veridical_negative_+',\n",
              "       'verb_veridical_negative_-', 'verb_veridical_negative_?',\n",
              "       'verb_veridical_negative_o', 'verb_tense_brak', 'verb_tense_future',\n",
              "       'verb_tense_past', 'verb_tense_present'],\n",
              "      dtype='object')"
            ]
          },
          "metadata": {
            "tags": []
          },
          "execution_count": 31
        }
      ]
    },
    {
      "cell_type": "markdown",
      "metadata": {
        "id": "v4896Jynxyew",
        "colab_type": "text"
      },
      "source": [
        "#### Target columns"
      ]
    },
    {
      "cell_type": "code",
      "metadata": {
        "id": "AxEJ6K-fxkTU",
        "colab_type": "code",
        "outputId": "4927e38e-8734-406f-99fb-7c66f19950f2",
        "colab": {
          "base_uri": "https://localhost:8080/",
          "height": 34
        }
      },
      "source": [
        "y.columns"
      ],
      "execution_count": 32,
      "outputs": [
        {
          "output_type": "execute_result",
          "data": {
            "text/plain": [
              "Index(['presupposition_no', 'presupposition_yes'], dtype='object')"
            ]
          },
          "metadata": {
            "tags": []
          },
          "execution_count": 32
        }
      ]
    },
    {
      "cell_type": "markdown",
      "metadata": {
        "id": "_jmoU__ZsXtC",
        "colab_type": "text"
      },
      "source": [
        "## k-fold crossvalidation preparing"
      ]
    },
    {
      "cell_type": "markdown",
      "metadata": {
        "id": "kbikRibEzvf1",
        "colab_type": "text"
      },
      "source": [
        "You can change number of validations here"
      ]
    },
    {
      "cell_type": "code",
      "metadata": {
        "id": "QUp3OdBNsdn5",
        "colab_type": "code",
        "colab": {}
      },
      "source": [
        "k=7\n",
        "from sklearn.model_selection import KFold\n",
        "kfold = KFold(n_splits = k, shuffle=True)\n",
        "\n",
        "acc_per_fold = []\n",
        "loss_per_fold = [] "
      ],
      "execution_count": 0,
      "outputs": []
    },
    {
      "cell_type": "markdown",
      "metadata": {
        "id": "9Xi8QfyAkbiN",
        "colab_type": "text"
      },
      "source": [
        "***\n",
        "# Keras model building"
      ]
    },
    {
      "cell_type": "markdown",
      "metadata": {
        "id": "pVN5IeMLEn4w",
        "colab_type": "text"
      },
      "source": [
        "### Train model"
      ]
    },
    {
      "cell_type": "code",
      "metadata": {
        "id": "amhvtjnZQwhz",
        "colab_type": "code",
        "colab": {}
      },
      "source": [
        "import tensorflow as tf \n",
        "from tensorflow import keras\n",
        "from tensorflow.keras import layers\n",
        "from tensorflow.keras.layers import Dense\n",
        "from tensorflow.keras.layers import Dropout\n",
        "from sklearn.metrics import confusion_matrix \n",
        "import seaborn as sns"
      ],
      "execution_count": 0,
      "outputs": []
    },
    {
      "cell_type": "markdown",
      "metadata": {
        "id": "H15DIedMCgOC",
        "colab_type": "text"
      },
      "source": [
        "It takes only 1-2 minutes to train this model with 7-crossvalidation."
      ]
    },
    {
      "cell_type": "code",
      "metadata": {
        "id": "u7ZB5xOvAZbu",
        "colab_type": "code",
        "outputId": "7f4eb636-d6be-49e5-fa72-cd2bbda45f2f",
        "colab": {
          "base_uri": "https://localhost:8080/",
          "height": 1000
        }
      },
      "source": [
        "fold_no = 1 \n",
        "\n",
        "#get number of columns in training data\n",
        "n_cols = X.shape[1]\n",
        "print(n_cols)\n",
        "\n",
        "for train, test in kfold.split(X,y):\n",
        "  # FOLD PRINTOUT\n",
        "  print(100*'_')\n",
        "  print (f\"FOLD NO {fold_no} START\")  \n",
        "\n",
        "  # model architecture  \n",
        "  model = tf.keras.Sequential()\n",
        "  #add model layers\n",
        "  model.add(Dense(8, activation='relu', input_shape=(n_cols,)))\n",
        "  model.add(Dense(16, activation='relu'))\n",
        "  model.add(Dense(8, activation='relu'))\n",
        "  model.add(Dense(2, activation='softmax'))\n",
        "\n",
        "  # model compile \n",
        "  model.compile(optimizer = 'adam', loss=\"categorical_crossentropy\", metrics = ['accuracy'])\n",
        "  \n",
        "  # training\n",
        "  history = model.fit(X.iloc[train], y.iloc[train], validation_split=0.2, epochs=70)\n",
        "\n",
        "  # scores \n",
        "  scores = model.evaluate(X.iloc[test], y.iloc[test], verbose=0)\n",
        "  acc_per_fold.append(scores[1] * 100)\n",
        "  loss_per_fold.append(scores[0])\n",
        "\n",
        "  # iterator up\n",
        "  fold_no = fold_no + 1"
      ],
      "execution_count": 35,
      "outputs": [
        {
          "output_type": "stream",
          "text": [
            "15\n",
            "____________________________________________________________________________________________________\n",
            "FOLD NO 1 START\n",
            "Epoch 1/70\n",
            "17/17 [==============================] - 0s 8ms/step - loss: 0.7217 - accuracy: 0.4198 - val_loss: 0.6728 - val_accuracy: 0.6183\n",
            "Epoch 2/70\n",
            "17/17 [==============================] - 0s 3ms/step - loss: 0.6781 - accuracy: 0.5649 - val_loss: 0.5689 - val_accuracy: 0.9008\n",
            "Epoch 3/70\n",
            "17/17 [==============================] - 0s 3ms/step - loss: 0.6434 - accuracy: 0.6240 - val_loss: 0.5027 - val_accuracy: 0.9008\n",
            "Epoch 4/70\n",
            "17/17 [==============================] - 0s 3ms/step - loss: 0.6177 - accuracy: 0.6756 - val_loss: 0.4583 - val_accuracy: 0.9160\n",
            "Epoch 5/70\n",
            "17/17 [==============================] - 0s 3ms/step - loss: 0.5870 - accuracy: 0.6966 - val_loss: 0.4211 - val_accuracy: 0.9160\n",
            "Epoch 6/70\n",
            "17/17 [==============================] - 0s 3ms/step - loss: 0.5505 - accuracy: 0.6947 - val_loss: 0.3761 - val_accuracy: 0.9160\n",
            "Epoch 7/70\n",
            "17/17 [==============================] - 0s 3ms/step - loss: 0.5100 - accuracy: 0.7863 - val_loss: 0.3326 - val_accuracy: 0.9160\n",
            "Epoch 8/70\n",
            "17/17 [==============================] - 0s 3ms/step - loss: 0.4751 - accuracy: 0.7977 - val_loss: 0.2987 - val_accuracy: 0.9160\n",
            "Epoch 9/70\n",
            "17/17 [==============================] - 0s 3ms/step - loss: 0.4478 - accuracy: 0.7977 - val_loss: 0.2793 - val_accuracy: 0.9160\n",
            "Epoch 10/70\n",
            "17/17 [==============================] - 0s 3ms/step - loss: 0.4278 - accuracy: 0.8092 - val_loss: 0.2725 - val_accuracy: 0.9008\n",
            "Epoch 11/70\n",
            "17/17 [==============================] - 0s 3ms/step - loss: 0.4124 - accuracy: 0.8187 - val_loss: 0.2700 - val_accuracy: 0.9008\n",
            "Epoch 12/70\n",
            "17/17 [==============================] - 0s 3ms/step - loss: 0.3998 - accuracy: 0.8397 - val_loss: 0.2700 - val_accuracy: 0.9008\n",
            "Epoch 13/70\n",
            "17/17 [==============================] - 0s 3ms/step - loss: 0.3889 - accuracy: 0.8454 - val_loss: 0.2734 - val_accuracy: 0.9008\n",
            "Epoch 14/70\n",
            "17/17 [==============================] - 0s 3ms/step - loss: 0.3815 - accuracy: 0.8397 - val_loss: 0.2793 - val_accuracy: 0.9008\n",
            "Epoch 15/70\n",
            "17/17 [==============================] - 0s 3ms/step - loss: 0.3756 - accuracy: 0.8454 - val_loss: 0.2816 - val_accuracy: 0.9008\n",
            "Epoch 16/70\n",
            "17/17 [==============================] - 0s 3ms/step - loss: 0.3706 - accuracy: 0.8416 - val_loss: 0.2869 - val_accuracy: 0.9008\n",
            "Epoch 17/70\n",
            "17/17 [==============================] - 0s 3ms/step - loss: 0.3671 - accuracy: 0.8454 - val_loss: 0.2893 - val_accuracy: 0.9008\n",
            "Epoch 18/70\n",
            "17/17 [==============================] - 0s 3ms/step - loss: 0.3627 - accuracy: 0.8454 - val_loss: 0.2881 - val_accuracy: 0.9008\n",
            "Epoch 19/70\n",
            "17/17 [==============================] - 0s 4ms/step - loss: 0.3606 - accuracy: 0.8416 - val_loss: 0.2926 - val_accuracy: 0.9008\n",
            "Epoch 20/70\n",
            "17/17 [==============================] - 0s 4ms/step - loss: 0.3605 - accuracy: 0.8511 - val_loss: 0.2912 - val_accuracy: 0.9008\n",
            "Epoch 21/70\n",
            "17/17 [==============================] - 0s 3ms/step - loss: 0.3543 - accuracy: 0.8473 - val_loss: 0.3021 - val_accuracy: 0.9008\n",
            "Epoch 22/70\n",
            "17/17 [==============================] - 0s 3ms/step - loss: 0.3517 - accuracy: 0.8416 - val_loss: 0.2962 - val_accuracy: 0.9008\n",
            "Epoch 23/70\n",
            "17/17 [==============================] - 0s 3ms/step - loss: 0.3502 - accuracy: 0.8511 - val_loss: 0.2997 - val_accuracy: 0.9008\n",
            "Epoch 24/70\n",
            "17/17 [==============================] - 0s 3ms/step - loss: 0.3486 - accuracy: 0.8492 - val_loss: 0.3050 - val_accuracy: 0.9008\n",
            "Epoch 25/70\n",
            "17/17 [==============================] - 0s 4ms/step - loss: 0.3473 - accuracy: 0.8511 - val_loss: 0.2981 - val_accuracy: 0.9008\n",
            "Epoch 26/70\n",
            "17/17 [==============================] - 0s 3ms/step - loss: 0.3446 - accuracy: 0.8511 - val_loss: 0.3066 - val_accuracy: 0.9008\n",
            "Epoch 27/70\n",
            "17/17 [==============================] - 0s 3ms/step - loss: 0.3433 - accuracy: 0.8511 - val_loss: 0.2984 - val_accuracy: 0.9008\n",
            "Epoch 28/70\n",
            "17/17 [==============================] - 0s 3ms/step - loss: 0.3409 - accuracy: 0.8511 - val_loss: 0.3088 - val_accuracy: 0.9008\n",
            "Epoch 29/70\n",
            "17/17 [==============================] - 0s 4ms/step - loss: 0.3405 - accuracy: 0.8531 - val_loss: 0.3112 - val_accuracy: 0.9008\n",
            "Epoch 30/70\n",
            "17/17 [==============================] - 0s 3ms/step - loss: 0.3380 - accuracy: 0.8531 - val_loss: 0.3088 - val_accuracy: 0.9008\n",
            "Epoch 31/70\n",
            "17/17 [==============================] - 0s 3ms/step - loss: 0.3377 - accuracy: 0.8531 - val_loss: 0.3073 - val_accuracy: 0.9008\n",
            "Epoch 32/70\n",
            "17/17 [==============================] - 0s 3ms/step - loss: 0.3342 - accuracy: 0.8569 - val_loss: 0.3168 - val_accuracy: 0.9008\n",
            "Epoch 33/70\n",
            "17/17 [==============================] - 0s 3ms/step - loss: 0.3356 - accuracy: 0.8550 - val_loss: 0.3146 - val_accuracy: 0.9008\n",
            "Epoch 34/70\n",
            "17/17 [==============================] - 0s 3ms/step - loss: 0.3339 - accuracy: 0.8531 - val_loss: 0.3156 - val_accuracy: 0.9008\n",
            "Epoch 35/70\n",
            "17/17 [==============================] - 0s 3ms/step - loss: 0.3333 - accuracy: 0.8569 - val_loss: 0.3117 - val_accuracy: 0.9008\n",
            "Epoch 36/70\n",
            "17/17 [==============================] - 0s 3ms/step - loss: 0.3323 - accuracy: 0.8569 - val_loss: 0.3160 - val_accuracy: 0.9008\n",
            "Epoch 37/70\n",
            "17/17 [==============================] - 0s 3ms/step - loss: 0.3309 - accuracy: 0.8569 - val_loss: 0.3070 - val_accuracy: 0.9008\n",
            "Epoch 38/70\n",
            "17/17 [==============================] - 0s 3ms/step - loss: 0.3304 - accuracy: 0.8569 - val_loss: 0.3204 - val_accuracy: 0.9008\n",
            "Epoch 39/70\n",
            "17/17 [==============================] - 0s 3ms/step - loss: 0.3268 - accuracy: 0.8607 - val_loss: 0.3121 - val_accuracy: 0.9008\n",
            "Epoch 40/70\n",
            "17/17 [==============================] - 0s 3ms/step - loss: 0.3266 - accuracy: 0.8607 - val_loss: 0.3138 - val_accuracy: 0.9008\n",
            "Epoch 41/70\n",
            "17/17 [==============================] - 0s 3ms/step - loss: 0.3255 - accuracy: 0.8607 - val_loss: 0.3097 - val_accuracy: 0.9008\n",
            "Epoch 42/70\n",
            "17/17 [==============================] - 0s 3ms/step - loss: 0.3260 - accuracy: 0.8550 - val_loss: 0.3169 - val_accuracy: 0.9008\n",
            "Epoch 43/70\n",
            "17/17 [==============================] - 0s 3ms/step - loss: 0.3230 - accuracy: 0.8607 - val_loss: 0.3134 - val_accuracy: 0.9008\n",
            "Epoch 44/70\n",
            "17/17 [==============================] - 0s 3ms/step - loss: 0.3233 - accuracy: 0.8607 - val_loss: 0.3140 - val_accuracy: 0.9008\n",
            "Epoch 45/70\n",
            "17/17 [==============================] - 0s 3ms/step - loss: 0.3220 - accuracy: 0.8607 - val_loss: 0.3149 - val_accuracy: 0.9008\n",
            "Epoch 46/70\n",
            "17/17 [==============================] - 0s 3ms/step - loss: 0.3245 - accuracy: 0.8607 - val_loss: 0.3262 - val_accuracy: 0.9008\n",
            "Epoch 47/70\n",
            "17/17 [==============================] - 0s 3ms/step - loss: 0.3219 - accuracy: 0.8569 - val_loss: 0.3141 - val_accuracy: 0.9008\n",
            "Epoch 48/70\n",
            "17/17 [==============================] - 0s 3ms/step - loss: 0.3208 - accuracy: 0.8607 - val_loss: 0.3178 - val_accuracy: 0.9008\n",
            "Epoch 49/70\n",
            "17/17 [==============================] - 0s 3ms/step - loss: 0.3192 - accuracy: 0.8607 - val_loss: 0.3171 - val_accuracy: 0.9008\n",
            "Epoch 50/70\n",
            "17/17 [==============================] - 0s 3ms/step - loss: 0.3195 - accuracy: 0.8607 - val_loss: 0.3171 - val_accuracy: 0.9008\n",
            "Epoch 51/70\n",
            "17/17 [==============================] - 0s 3ms/step - loss: 0.3178 - accuracy: 0.8607 - val_loss: 0.3208 - val_accuracy: 0.9008\n",
            "Epoch 52/70\n",
            "17/17 [==============================] - 0s 3ms/step - loss: 0.3179 - accuracy: 0.8607 - val_loss: 0.3185 - val_accuracy: 0.9008\n",
            "Epoch 53/70\n",
            "17/17 [==============================] - 0s 3ms/step - loss: 0.3161 - accuracy: 0.8626 - val_loss: 0.3208 - val_accuracy: 0.9008\n",
            "Epoch 54/70\n",
            "17/17 [==============================] - 0s 3ms/step - loss: 0.3166 - accuracy: 0.8588 - val_loss: 0.3215 - val_accuracy: 0.9008\n",
            "Epoch 55/70\n",
            "17/17 [==============================] - 0s 3ms/step - loss: 0.3161 - accuracy: 0.8588 - val_loss: 0.3179 - val_accuracy: 0.9160\n",
            "Epoch 56/70\n",
            "17/17 [==============================] - 0s 3ms/step - loss: 0.3165 - accuracy: 0.8607 - val_loss: 0.3209 - val_accuracy: 0.9160\n",
            "Epoch 57/70\n",
            "17/17 [==============================] - 0s 4ms/step - loss: 0.3151 - accuracy: 0.8626 - val_loss: 0.3244 - val_accuracy: 0.9008\n",
            "Epoch 58/70\n",
            "17/17 [==============================] - 0s 3ms/step - loss: 0.3143 - accuracy: 0.8588 - val_loss: 0.3201 - val_accuracy: 0.9160\n",
            "Epoch 59/70\n",
            "17/17 [==============================] - 0s 3ms/step - loss: 0.3145 - accuracy: 0.8588 - val_loss: 0.3198 - val_accuracy: 0.9160\n",
            "Epoch 60/70\n",
            "17/17 [==============================] - 0s 3ms/step - loss: 0.3138 - accuracy: 0.8607 - val_loss: 0.3177 - val_accuracy: 0.9160\n",
            "Epoch 61/70\n",
            "17/17 [==============================] - 0s 3ms/step - loss: 0.3125 - accuracy: 0.8626 - val_loss: 0.3239 - val_accuracy: 0.9160\n",
            "Epoch 62/70\n",
            "17/17 [==============================] - 0s 3ms/step - loss: 0.3121 - accuracy: 0.8607 - val_loss: 0.3216 - val_accuracy: 0.9160\n",
            "Epoch 63/70\n",
            "17/17 [==============================] - 0s 3ms/step - loss: 0.3121 - accuracy: 0.8626 - val_loss: 0.3261 - val_accuracy: 0.9160\n",
            "Epoch 64/70\n",
            "17/17 [==============================] - 0s 3ms/step - loss: 0.3127 - accuracy: 0.8607 - val_loss: 0.3173 - val_accuracy: 0.9160\n",
            "Epoch 65/70\n",
            "17/17 [==============================] - 0s 3ms/step - loss: 0.3109 - accuracy: 0.8588 - val_loss: 0.3209 - val_accuracy: 0.9160\n",
            "Epoch 66/70\n",
            "17/17 [==============================] - 0s 4ms/step - loss: 0.3101 - accuracy: 0.8626 - val_loss: 0.3211 - val_accuracy: 0.9160\n",
            "Epoch 67/70\n",
            "17/17 [==============================] - 0s 3ms/step - loss: 0.3100 - accuracy: 0.8626 - val_loss: 0.3232 - val_accuracy: 0.9160\n",
            "Epoch 68/70\n",
            "17/17 [==============================] - 0s 3ms/step - loss: 0.3106 - accuracy: 0.8626 - val_loss: 0.3246 - val_accuracy: 0.9160\n",
            "Epoch 69/70\n",
            "17/17 [==============================] - 0s 3ms/step - loss: 0.3103 - accuracy: 0.8645 - val_loss: 0.3211 - val_accuracy: 0.9160\n",
            "Epoch 70/70\n",
            "17/17 [==============================] - 0s 3ms/step - loss: 0.3091 - accuracy: 0.8626 - val_loss: 0.3234 - val_accuracy: 0.9160\n",
            "____________________________________________________________________________________________________\n",
            "FOLD NO 2 START\n",
            "Epoch 1/70\n",
            "17/17 [==============================] - 0s 9ms/step - loss: 0.6902 - accuracy: 0.4466 - val_loss: 0.6476 - val_accuracy: 0.8931\n",
            "Epoch 2/70\n",
            "17/17 [==============================] - 0s 3ms/step - loss: 0.6661 - accuracy: 0.5821 - val_loss: 0.6007 - val_accuracy: 0.8931\n",
            "Epoch 3/70\n",
            "17/17 [==============================] - 0s 3ms/step - loss: 0.6473 - accuracy: 0.5840 - val_loss: 0.5575 - val_accuracy: 0.8931\n",
            "Epoch 4/70\n",
            "17/17 [==============================] - 0s 3ms/step - loss: 0.6286 - accuracy: 0.5840 - val_loss: 0.5083 - val_accuracy: 0.8931\n",
            "Epoch 5/70\n",
            "17/17 [==============================] - 0s 3ms/step - loss: 0.6066 - accuracy: 0.5840 - val_loss: 0.4656 - val_accuracy: 0.8931\n",
            "Epoch 6/70\n",
            "17/17 [==============================] - 0s 3ms/step - loss: 0.5833 - accuracy: 0.5840 - val_loss: 0.4261 - val_accuracy: 0.8855\n",
            "Epoch 7/70\n",
            "17/17 [==============================] - 0s 3ms/step - loss: 0.5549 - accuracy: 0.6641 - val_loss: 0.3928 - val_accuracy: 0.8855\n",
            "Epoch 8/70\n",
            "17/17 [==============================] - 0s 3ms/step - loss: 0.5266 - accuracy: 0.8015 - val_loss: 0.3580 - val_accuracy: 0.8779\n",
            "Epoch 9/70\n",
            "17/17 [==============================] - 0s 3ms/step - loss: 0.5003 - accuracy: 0.8187 - val_loss: 0.3383 - val_accuracy: 0.8779\n",
            "Epoch 10/70\n",
            "17/17 [==============================] - 0s 3ms/step - loss: 0.4781 - accuracy: 0.8053 - val_loss: 0.3311 - val_accuracy: 0.8779\n",
            "Epoch 11/70\n",
            "17/17 [==============================] - 0s 3ms/step - loss: 0.4554 - accuracy: 0.8092 - val_loss: 0.3384 - val_accuracy: 0.8779\n",
            "Epoch 12/70\n",
            "17/17 [==============================] - 0s 3ms/step - loss: 0.4257 - accuracy: 0.8187 - val_loss: 0.3429 - val_accuracy: 0.8779\n",
            "Epoch 13/70\n",
            "17/17 [==============================] - 0s 4ms/step - loss: 0.4055 - accuracy: 0.8111 - val_loss: 0.3515 - val_accuracy: 0.8779\n",
            "Epoch 14/70\n",
            "17/17 [==============================] - 0s 3ms/step - loss: 0.3922 - accuracy: 0.8263 - val_loss: 0.3600 - val_accuracy: 0.8779\n",
            "Epoch 15/70\n",
            "17/17 [==============================] - 0s 3ms/step - loss: 0.3845 - accuracy: 0.8206 - val_loss: 0.3697 - val_accuracy: 0.8779\n",
            "Epoch 16/70\n",
            "17/17 [==============================] - 0s 3ms/step - loss: 0.3766 - accuracy: 0.8225 - val_loss: 0.3775 - val_accuracy: 0.8779\n",
            "Epoch 17/70\n",
            "17/17 [==============================] - 0s 4ms/step - loss: 0.3705 - accuracy: 0.8263 - val_loss: 0.3817 - val_accuracy: 0.8779\n",
            "Epoch 18/70\n",
            "17/17 [==============================] - 0s 3ms/step - loss: 0.3670 - accuracy: 0.8397 - val_loss: 0.3858 - val_accuracy: 0.8779\n",
            "Epoch 19/70\n",
            "17/17 [==============================] - 0s 3ms/step - loss: 0.3632 - accuracy: 0.8378 - val_loss: 0.3956 - val_accuracy: 0.8779\n",
            "Epoch 20/70\n",
            "17/17 [==============================] - 0s 3ms/step - loss: 0.3602 - accuracy: 0.8359 - val_loss: 0.3863 - val_accuracy: 0.8779\n",
            "Epoch 21/70\n",
            "17/17 [==============================] - 0s 3ms/step - loss: 0.3562 - accuracy: 0.8397 - val_loss: 0.3837 - val_accuracy: 0.8779\n",
            "Epoch 22/70\n",
            "17/17 [==============================] - 0s 3ms/step - loss: 0.3540 - accuracy: 0.8397 - val_loss: 0.3889 - val_accuracy: 0.8779\n",
            "Epoch 23/70\n",
            "17/17 [==============================] - 0s 3ms/step - loss: 0.3518 - accuracy: 0.8416 - val_loss: 0.3931 - val_accuracy: 0.8779\n",
            "Epoch 24/70\n",
            "17/17 [==============================] - 0s 3ms/step - loss: 0.3492 - accuracy: 0.8454 - val_loss: 0.3886 - val_accuracy: 0.8779\n",
            "Epoch 25/70\n",
            "17/17 [==============================] - 0s 3ms/step - loss: 0.3476 - accuracy: 0.8435 - val_loss: 0.3853 - val_accuracy: 0.8779\n",
            "Epoch 26/70\n",
            "17/17 [==============================] - 0s 3ms/step - loss: 0.3471 - accuracy: 0.8416 - val_loss: 0.3933 - val_accuracy: 0.8779\n",
            "Epoch 27/70\n",
            "17/17 [==============================] - 0s 3ms/step - loss: 0.3445 - accuracy: 0.8416 - val_loss: 0.3875 - val_accuracy: 0.8779\n",
            "Epoch 28/70\n",
            "17/17 [==============================] - 0s 3ms/step - loss: 0.3439 - accuracy: 0.8359 - val_loss: 0.3960 - val_accuracy: 0.8779\n",
            "Epoch 29/70\n",
            "17/17 [==============================] - 0s 3ms/step - loss: 0.3419 - accuracy: 0.8340 - val_loss: 0.3951 - val_accuracy: 0.8779\n",
            "Epoch 30/70\n",
            "17/17 [==============================] - 0s 3ms/step - loss: 0.3412 - accuracy: 0.8416 - val_loss: 0.3967 - val_accuracy: 0.8779\n",
            "Epoch 31/70\n",
            "17/17 [==============================] - 0s 3ms/step - loss: 0.3406 - accuracy: 0.8416 - val_loss: 0.4009 - val_accuracy: 0.8779\n",
            "Epoch 32/70\n",
            "17/17 [==============================] - 0s 4ms/step - loss: 0.3387 - accuracy: 0.8416 - val_loss: 0.3998 - val_accuracy: 0.8779\n",
            "Epoch 33/70\n",
            "17/17 [==============================] - 0s 3ms/step - loss: 0.3376 - accuracy: 0.8378 - val_loss: 0.3970 - val_accuracy: 0.8779\n",
            "Epoch 34/70\n",
            "17/17 [==============================] - 0s 3ms/step - loss: 0.3369 - accuracy: 0.8454 - val_loss: 0.3999 - val_accuracy: 0.8779\n",
            "Epoch 35/70\n",
            "17/17 [==============================] - 0s 3ms/step - loss: 0.3366 - accuracy: 0.8416 - val_loss: 0.3999 - val_accuracy: 0.8779\n",
            "Epoch 36/70\n",
            "17/17 [==============================] - 0s 3ms/step - loss: 0.3381 - accuracy: 0.8397 - val_loss: 0.3863 - val_accuracy: 0.8779\n",
            "Epoch 37/70\n",
            "17/17 [==============================] - 0s 3ms/step - loss: 0.3360 - accuracy: 0.8454 - val_loss: 0.3815 - val_accuracy: 0.8779\n",
            "Epoch 38/70\n",
            "17/17 [==============================] - 0s 3ms/step - loss: 0.3341 - accuracy: 0.8416 - val_loss: 0.3970 - val_accuracy: 0.8779\n",
            "Epoch 39/70\n",
            "17/17 [==============================] - 0s 3ms/step - loss: 0.3334 - accuracy: 0.8454 - val_loss: 0.3955 - val_accuracy: 0.8779\n",
            "Epoch 40/70\n",
            "17/17 [==============================] - 0s 3ms/step - loss: 0.3338 - accuracy: 0.8473 - val_loss: 0.3929 - val_accuracy: 0.8779\n",
            "Epoch 41/70\n",
            "17/17 [==============================] - 0s 4ms/step - loss: 0.3318 - accuracy: 0.8454 - val_loss: 0.4006 - val_accuracy: 0.8779\n",
            "Epoch 42/70\n",
            "17/17 [==============================] - 0s 3ms/step - loss: 0.3318 - accuracy: 0.8435 - val_loss: 0.3976 - val_accuracy: 0.8779\n",
            "Epoch 43/70\n",
            "17/17 [==============================] - 0s 3ms/step - loss: 0.3308 - accuracy: 0.8492 - val_loss: 0.3979 - val_accuracy: 0.8779\n",
            "Epoch 44/70\n",
            "17/17 [==============================] - 0s 3ms/step - loss: 0.3302 - accuracy: 0.8492 - val_loss: 0.4028 - val_accuracy: 0.8779\n",
            "Epoch 45/70\n",
            "17/17 [==============================] - 0s 3ms/step - loss: 0.3310 - accuracy: 0.8435 - val_loss: 0.3899 - val_accuracy: 0.8779\n",
            "Epoch 46/70\n",
            "17/17 [==============================] - 0s 3ms/step - loss: 0.3298 - accuracy: 0.8435 - val_loss: 0.4001 - val_accuracy: 0.8779\n",
            "Epoch 47/70\n",
            "17/17 [==============================] - 0s 3ms/step - loss: 0.3302 - accuracy: 0.8492 - val_loss: 0.3916 - val_accuracy: 0.8779\n",
            "Epoch 48/70\n",
            "17/17 [==============================] - 0s 3ms/step - loss: 0.3290 - accuracy: 0.8416 - val_loss: 0.4025 - val_accuracy: 0.8779\n",
            "Epoch 49/70\n",
            "17/17 [==============================] - 0s 3ms/step - loss: 0.3281 - accuracy: 0.8492 - val_loss: 0.3996 - val_accuracy: 0.8779\n",
            "Epoch 50/70\n",
            "17/17 [==============================] - 0s 3ms/step - loss: 0.3277 - accuracy: 0.8473 - val_loss: 0.3953 - val_accuracy: 0.8779\n",
            "Epoch 51/70\n",
            "17/17 [==============================] - 0s 4ms/step - loss: 0.3268 - accuracy: 0.8473 - val_loss: 0.4010 - val_accuracy: 0.8779\n",
            "Epoch 52/70\n",
            "17/17 [==============================] - 0s 3ms/step - loss: 0.3263 - accuracy: 0.8511 - val_loss: 0.3987 - val_accuracy: 0.8779\n",
            "Epoch 53/70\n",
            "17/17 [==============================] - 0s 3ms/step - loss: 0.3270 - accuracy: 0.8473 - val_loss: 0.3972 - val_accuracy: 0.8779\n",
            "Epoch 54/70\n",
            "17/17 [==============================] - 0s 3ms/step - loss: 0.3269 - accuracy: 0.8416 - val_loss: 0.3973 - val_accuracy: 0.8779\n",
            "Epoch 55/70\n",
            "17/17 [==============================] - 0s 3ms/step - loss: 0.3255 - accuracy: 0.8588 - val_loss: 0.4027 - val_accuracy: 0.8779\n",
            "Epoch 56/70\n",
            "17/17 [==============================] - 0s 3ms/step - loss: 0.3252 - accuracy: 0.8550 - val_loss: 0.3951 - val_accuracy: 0.8779\n",
            "Epoch 57/70\n",
            "17/17 [==============================] - 0s 3ms/step - loss: 0.3250 - accuracy: 0.8511 - val_loss: 0.3991 - val_accuracy: 0.8779\n",
            "Epoch 58/70\n",
            "17/17 [==============================] - 0s 3ms/step - loss: 0.3245 - accuracy: 0.8511 - val_loss: 0.4006 - val_accuracy: 0.8779\n",
            "Epoch 59/70\n",
            "17/17 [==============================] - 0s 3ms/step - loss: 0.3239 - accuracy: 0.8550 - val_loss: 0.4046 - val_accuracy: 0.8779\n",
            "Epoch 60/70\n",
            "17/17 [==============================] - 0s 4ms/step - loss: 0.3236 - accuracy: 0.8550 - val_loss: 0.3991 - val_accuracy: 0.8779\n",
            "Epoch 61/70\n",
            "17/17 [==============================] - 0s 3ms/step - loss: 0.3237 - accuracy: 0.8531 - val_loss: 0.3947 - val_accuracy: 0.8779\n",
            "Epoch 62/70\n",
            "17/17 [==============================] - 0s 3ms/step - loss: 0.3236 - accuracy: 0.8531 - val_loss: 0.4015 - val_accuracy: 0.8779\n",
            "Epoch 63/70\n",
            "17/17 [==============================] - 0s 3ms/step - loss: 0.3230 - accuracy: 0.8492 - val_loss: 0.4044 - val_accuracy: 0.8779\n",
            "Epoch 64/70\n",
            "17/17 [==============================] - 0s 3ms/step - loss: 0.3224 - accuracy: 0.8531 - val_loss: 0.3956 - val_accuracy: 0.8779\n",
            "Epoch 65/70\n",
            "17/17 [==============================] - 0s 3ms/step - loss: 0.3217 - accuracy: 0.8454 - val_loss: 0.4018 - val_accuracy: 0.8779\n",
            "Epoch 66/70\n",
            "17/17 [==============================] - 0s 3ms/step - loss: 0.3220 - accuracy: 0.8473 - val_loss: 0.4031 - val_accuracy: 0.8779\n",
            "Epoch 67/70\n",
            "17/17 [==============================] - 0s 3ms/step - loss: 0.3211 - accuracy: 0.8550 - val_loss: 0.4037 - val_accuracy: 0.8779\n",
            "Epoch 68/70\n",
            "17/17 [==============================] - 0s 3ms/step - loss: 0.3233 - accuracy: 0.8492 - val_loss: 0.3959 - val_accuracy: 0.8779\n",
            "Epoch 69/70\n",
            "17/17 [==============================] - 0s 3ms/step - loss: 0.3209 - accuracy: 0.8550 - val_loss: 0.4030 - val_accuracy: 0.8779\n",
            "Epoch 70/70\n",
            "17/17 [==============================] - 0s 4ms/step - loss: 0.3206 - accuracy: 0.8531 - val_loss: 0.3996 - val_accuracy: 0.8779\n",
            "____________________________________________________________________________________________________\n",
            "FOLD NO 3 START\n",
            "Epoch 1/70\n",
            "17/17 [==============================] - 0s 8ms/step - loss: 0.7329 - accuracy: 0.5706 - val_loss: 0.6118 - val_accuracy: 0.9242\n",
            "Epoch 2/70\n",
            "17/17 [==============================] - 0s 3ms/step - loss: 0.6913 - accuracy: 0.5706 - val_loss: 0.5875 - val_accuracy: 0.9242\n",
            "Epoch 3/70\n",
            "17/17 [==============================] - 0s 4ms/step - loss: 0.6792 - accuracy: 0.5706 - val_loss: 0.5732 - val_accuracy: 0.9242\n",
            "Epoch 4/70\n",
            "17/17 [==============================] - 0s 3ms/step - loss: 0.6692 - accuracy: 0.5706 - val_loss: 0.5542 - val_accuracy: 0.9242\n",
            "Epoch 5/70\n",
            "17/17 [==============================] - 0s 3ms/step - loss: 0.6577 - accuracy: 0.5706 - val_loss: 0.5283 - val_accuracy: 0.9242\n",
            "Epoch 6/70\n",
            "17/17 [==============================] - 0s 3ms/step - loss: 0.6440 - accuracy: 0.5706 - val_loss: 0.4932 - val_accuracy: 0.9242\n",
            "Epoch 7/70\n",
            "17/17 [==============================] - 0s 3ms/step - loss: 0.6256 - accuracy: 0.5706 - val_loss: 0.4605 - val_accuracy: 0.9242\n",
            "Epoch 8/70\n",
            "17/17 [==============================] - 0s 3ms/step - loss: 0.6030 - accuracy: 0.6126 - val_loss: 0.4249 - val_accuracy: 0.9242\n",
            "Epoch 9/70\n",
            "17/17 [==============================] - 0s 3ms/step - loss: 0.5752 - accuracy: 0.7347 - val_loss: 0.3763 - val_accuracy: 0.9167\n",
            "Epoch 10/70\n",
            "17/17 [==============================] - 0s 3ms/step - loss: 0.5451 - accuracy: 0.8034 - val_loss: 0.3489 - val_accuracy: 0.9015\n",
            "Epoch 11/70\n",
            "17/17 [==============================] - 0s 3ms/step - loss: 0.5148 - accuracy: 0.8149 - val_loss: 0.3231 - val_accuracy: 0.9015\n",
            "Epoch 12/70\n",
            "17/17 [==============================] - 0s 3ms/step - loss: 0.4847 - accuracy: 0.8149 - val_loss: 0.3019 - val_accuracy: 0.9015\n",
            "Epoch 13/70\n",
            "17/17 [==============================] - 0s 3ms/step - loss: 0.4597 - accuracy: 0.8168 - val_loss: 0.2901 - val_accuracy: 0.9015\n",
            "Epoch 14/70\n",
            "17/17 [==============================] - 0s 3ms/step - loss: 0.4406 - accuracy: 0.8225 - val_loss: 0.2885 - val_accuracy: 0.9015\n",
            "Epoch 15/70\n",
            "17/17 [==============================] - 0s 3ms/step - loss: 0.4261 - accuracy: 0.8397 - val_loss: 0.2906 - val_accuracy: 0.9015\n",
            "Epoch 16/70\n",
            "17/17 [==============================] - 0s 3ms/step - loss: 0.4143 - accuracy: 0.8397 - val_loss: 0.2913 - val_accuracy: 0.9015\n",
            "Epoch 17/70\n",
            "17/17 [==============================] - 0s 3ms/step - loss: 0.4045 - accuracy: 0.8416 - val_loss: 0.2921 - val_accuracy: 0.9015\n",
            "Epoch 18/70\n",
            "17/17 [==============================] - 0s 3ms/step - loss: 0.3981 - accuracy: 0.8435 - val_loss: 0.2931 - val_accuracy: 0.9015\n",
            "Epoch 19/70\n",
            "17/17 [==============================] - 0s 3ms/step - loss: 0.3908 - accuracy: 0.8416 - val_loss: 0.2960 - val_accuracy: 0.9015\n",
            "Epoch 20/70\n",
            "17/17 [==============================] - 0s 3ms/step - loss: 0.3842 - accuracy: 0.8435 - val_loss: 0.2989 - val_accuracy: 0.9015\n",
            "Epoch 21/70\n",
            "17/17 [==============================] - 0s 3ms/step - loss: 0.3801 - accuracy: 0.8435 - val_loss: 0.2997 - val_accuracy: 0.9015\n",
            "Epoch 22/70\n",
            "17/17 [==============================] - 0s 3ms/step - loss: 0.3739 - accuracy: 0.8435 - val_loss: 0.2997 - val_accuracy: 0.9015\n",
            "Epoch 23/70\n",
            "17/17 [==============================] - 0s 3ms/step - loss: 0.3701 - accuracy: 0.8416 - val_loss: 0.3057 - val_accuracy: 0.9015\n",
            "Epoch 24/70\n",
            "17/17 [==============================] - 0s 3ms/step - loss: 0.3666 - accuracy: 0.8435 - val_loss: 0.3067 - val_accuracy: 0.9015\n",
            "Epoch 25/70\n",
            "17/17 [==============================] - 0s 3ms/step - loss: 0.3627 - accuracy: 0.8454 - val_loss: 0.3108 - val_accuracy: 0.9015\n",
            "Epoch 26/70\n",
            "17/17 [==============================] - 0s 3ms/step - loss: 0.3605 - accuracy: 0.8473 - val_loss: 0.3139 - val_accuracy: 0.9015\n",
            "Epoch 27/70\n",
            "17/17 [==============================] - 0s 3ms/step - loss: 0.3576 - accuracy: 0.8473 - val_loss: 0.3149 - val_accuracy: 0.9015\n",
            "Epoch 28/70\n",
            "17/17 [==============================] - 0s 3ms/step - loss: 0.3555 - accuracy: 0.8473 - val_loss: 0.3170 - val_accuracy: 0.9015\n",
            "Epoch 29/70\n",
            "17/17 [==============================] - 0s 3ms/step - loss: 0.3544 - accuracy: 0.8454 - val_loss: 0.3244 - val_accuracy: 0.9015\n",
            "Epoch 30/70\n",
            "17/17 [==============================] - 0s 3ms/step - loss: 0.3523 - accuracy: 0.8473 - val_loss: 0.3216 - val_accuracy: 0.9015\n",
            "Epoch 31/70\n",
            "17/17 [==============================] - 0s 3ms/step - loss: 0.3506 - accuracy: 0.8473 - val_loss: 0.3193 - val_accuracy: 0.9015\n",
            "Epoch 32/70\n",
            "17/17 [==============================] - 0s 3ms/step - loss: 0.3495 - accuracy: 0.8454 - val_loss: 0.3264 - val_accuracy: 0.9015\n",
            "Epoch 33/70\n",
            "17/17 [==============================] - 0s 3ms/step - loss: 0.3514 - accuracy: 0.8473 - val_loss: 0.3242 - val_accuracy: 0.9015\n",
            "Epoch 34/70\n",
            "17/17 [==============================] - 0s 3ms/step - loss: 0.3498 - accuracy: 0.8454 - val_loss: 0.3202 - val_accuracy: 0.9015\n",
            "Epoch 35/70\n",
            "17/17 [==============================] - 0s 3ms/step - loss: 0.3472 - accuracy: 0.8492 - val_loss: 0.3274 - val_accuracy: 0.9015\n",
            "Epoch 36/70\n",
            "17/17 [==============================] - 0s 3ms/step - loss: 0.3468 - accuracy: 0.8511 - val_loss: 0.3281 - val_accuracy: 0.9015\n",
            "Epoch 37/70\n",
            "17/17 [==============================] - 0s 3ms/step - loss: 0.3449 - accuracy: 0.8511 - val_loss: 0.3272 - val_accuracy: 0.9015\n",
            "Epoch 38/70\n",
            "17/17 [==============================] - 0s 3ms/step - loss: 0.3449 - accuracy: 0.8492 - val_loss: 0.3255 - val_accuracy: 0.9015\n",
            "Epoch 39/70\n",
            "17/17 [==============================] - 0s 3ms/step - loss: 0.3432 - accuracy: 0.8454 - val_loss: 0.3290 - val_accuracy: 0.9015\n",
            "Epoch 40/70\n",
            "17/17 [==============================] - 0s 3ms/step - loss: 0.3449 - accuracy: 0.8492 - val_loss: 0.3290 - val_accuracy: 0.9015\n",
            "Epoch 41/70\n",
            "17/17 [==============================] - 0s 3ms/step - loss: 0.3438 - accuracy: 0.8550 - val_loss: 0.3372 - val_accuracy: 0.9015\n",
            "Epoch 42/70\n",
            "17/17 [==============================] - 0s 3ms/step - loss: 0.3427 - accuracy: 0.8511 - val_loss: 0.3292 - val_accuracy: 0.9015\n",
            "Epoch 43/70\n",
            "17/17 [==============================] - 0s 3ms/step - loss: 0.3421 - accuracy: 0.8569 - val_loss: 0.3348 - val_accuracy: 0.9015\n",
            "Epoch 44/70\n",
            "17/17 [==============================] - 0s 3ms/step - loss: 0.3405 - accuracy: 0.8492 - val_loss: 0.3313 - val_accuracy: 0.9015\n",
            "Epoch 45/70\n",
            "17/17 [==============================] - 0s 3ms/step - loss: 0.3400 - accuracy: 0.8569 - val_loss: 0.3351 - val_accuracy: 0.9015\n",
            "Epoch 46/70\n",
            "17/17 [==============================] - 0s 3ms/step - loss: 0.3397 - accuracy: 0.8550 - val_loss: 0.3300 - val_accuracy: 0.9015\n",
            "Epoch 47/70\n",
            "17/17 [==============================] - 0s 3ms/step - loss: 0.3389 - accuracy: 0.8626 - val_loss: 0.3341 - val_accuracy: 0.9015\n",
            "Epoch 48/70\n",
            "17/17 [==============================] - 0s 3ms/step - loss: 0.3387 - accuracy: 0.8531 - val_loss: 0.3333 - val_accuracy: 0.9015\n",
            "Epoch 49/70\n",
            "17/17 [==============================] - 0s 3ms/step - loss: 0.3382 - accuracy: 0.8550 - val_loss: 0.3365 - val_accuracy: 0.9015\n",
            "Epoch 50/70\n",
            "17/17 [==============================] - 0s 3ms/step - loss: 0.3375 - accuracy: 0.8531 - val_loss: 0.3384 - val_accuracy: 0.9015\n",
            "Epoch 51/70\n",
            "17/17 [==============================] - 0s 3ms/step - loss: 0.3368 - accuracy: 0.8550 - val_loss: 0.3342 - val_accuracy: 0.9015\n",
            "Epoch 52/70\n",
            "17/17 [==============================] - 0s 3ms/step - loss: 0.3357 - accuracy: 0.8550 - val_loss: 0.3370 - val_accuracy: 0.9015\n",
            "Epoch 53/70\n",
            "17/17 [==============================] - 0s 3ms/step - loss: 0.3364 - accuracy: 0.8531 - val_loss: 0.3388 - val_accuracy: 0.9015\n",
            "Epoch 54/70\n",
            "17/17 [==============================] - 0s 3ms/step - loss: 0.3347 - accuracy: 0.8511 - val_loss: 0.3335 - val_accuracy: 0.9015\n",
            "Epoch 55/70\n",
            "17/17 [==============================] - 0s 4ms/step - loss: 0.3361 - accuracy: 0.8588 - val_loss: 0.3345 - val_accuracy: 0.9015\n",
            "Epoch 56/70\n",
            "17/17 [==============================] - 0s 3ms/step - loss: 0.3355 - accuracy: 0.8531 - val_loss: 0.3342 - val_accuracy: 0.9015\n",
            "Epoch 57/70\n",
            "17/17 [==============================] - 0s 3ms/step - loss: 0.3341 - accuracy: 0.8607 - val_loss: 0.3378 - val_accuracy: 0.9015\n",
            "Epoch 58/70\n",
            "17/17 [==============================] - 0s 3ms/step - loss: 0.3357 - accuracy: 0.8550 - val_loss: 0.3432 - val_accuracy: 0.9015\n",
            "Epoch 59/70\n",
            "17/17 [==============================] - 0s 3ms/step - loss: 0.3331 - accuracy: 0.8569 - val_loss: 0.3332 - val_accuracy: 0.9015\n",
            "Epoch 60/70\n",
            "17/17 [==============================] - 0s 3ms/step - loss: 0.3344 - accuracy: 0.8569 - val_loss: 0.3388 - val_accuracy: 0.9015\n",
            "Epoch 61/70\n",
            "17/17 [==============================] - 0s 3ms/step - loss: 0.3327 - accuracy: 0.8550 - val_loss: 0.3379 - val_accuracy: 0.9015\n",
            "Epoch 62/70\n",
            "17/17 [==============================] - 0s 3ms/step - loss: 0.3322 - accuracy: 0.8588 - val_loss: 0.3406 - val_accuracy: 0.9015\n",
            "Epoch 63/70\n",
            "17/17 [==============================] - 0s 3ms/step - loss: 0.3322 - accuracy: 0.8588 - val_loss: 0.3393 - val_accuracy: 0.9015\n",
            "Epoch 64/70\n",
            "17/17 [==============================] - 0s 3ms/step - loss: 0.3317 - accuracy: 0.8588 - val_loss: 0.3386 - val_accuracy: 0.9015\n",
            "Epoch 65/70\n",
            "17/17 [==============================] - 0s 3ms/step - loss: 0.3308 - accuracy: 0.8550 - val_loss: 0.3402 - val_accuracy: 0.9015\n",
            "Epoch 66/70\n",
            "17/17 [==============================] - 0s 3ms/step - loss: 0.3302 - accuracy: 0.8550 - val_loss: 0.3425 - val_accuracy: 0.9015\n",
            "Epoch 67/70\n",
            "17/17 [==============================] - 0s 3ms/step - loss: 0.3321 - accuracy: 0.8588 - val_loss: 0.3450 - val_accuracy: 0.9015\n",
            "Epoch 68/70\n",
            "17/17 [==============================] - 0s 3ms/step - loss: 0.3294 - accuracy: 0.8588 - val_loss: 0.3448 - val_accuracy: 0.9015\n",
            "Epoch 69/70\n",
            "17/17 [==============================] - 0s 3ms/step - loss: 0.3286 - accuracy: 0.8588 - val_loss: 0.3415 - val_accuracy: 0.9015\n",
            "Epoch 70/70\n",
            "17/17 [==============================] - 0s 3ms/step - loss: 0.3285 - accuracy: 0.8569 - val_loss: 0.3405 - val_accuracy: 0.9015\n",
            "____________________________________________________________________________________________________\n",
            "FOLD NO 4 START\n",
            "Epoch 1/70\n",
            "17/17 [==============================] - 0s 8ms/step - loss: 0.6701 - accuracy: 0.5916 - val_loss: 0.4941 - val_accuracy: 0.8939\n",
            "Epoch 2/70\n",
            "17/17 [==============================] - 0s 3ms/step - loss: 0.6403 - accuracy: 0.6031 - val_loss: 0.4518 - val_accuracy: 0.8939\n",
            "Epoch 3/70\n",
            "17/17 [==============================] - 0s 3ms/step - loss: 0.6158 - accuracy: 0.6031 - val_loss: 0.4163 - val_accuracy: 0.8939\n",
            "Epoch 4/70\n",
            "17/17 [==============================] - 0s 3ms/step - loss: 0.5927 - accuracy: 0.6031 - val_loss: 0.3869 - val_accuracy: 0.8939\n",
            "Epoch 5/70\n",
            "17/17 [==============================] - 0s 3ms/step - loss: 0.5704 - accuracy: 0.6031 - val_loss: 0.3556 - val_accuracy: 0.8864\n",
            "Epoch 6/70\n",
            "17/17 [==============================] - 0s 3ms/step - loss: 0.5463 - accuracy: 0.6031 - val_loss: 0.3356 - val_accuracy: 0.8864\n",
            "Epoch 7/70\n",
            "17/17 [==============================] - 0s 3ms/step - loss: 0.5239 - accuracy: 0.6927 - val_loss: 0.3139 - val_accuracy: 0.8864\n",
            "Epoch 8/70\n",
            "17/17 [==============================] - 0s 3ms/step - loss: 0.5022 - accuracy: 0.7519 - val_loss: 0.2967 - val_accuracy: 0.8864\n",
            "Epoch 9/70\n",
            "17/17 [==============================] - 0s 3ms/step - loss: 0.4855 - accuracy: 0.7672 - val_loss: 0.2852 - val_accuracy: 0.8864\n",
            "Epoch 10/70\n",
            "17/17 [==============================] - 0s 3ms/step - loss: 0.4719 - accuracy: 0.7844 - val_loss: 0.2785 - val_accuracy: 0.9091\n",
            "Epoch 11/70\n",
            "17/17 [==============================] - 0s 3ms/step - loss: 0.4630 - accuracy: 0.8282 - val_loss: 0.2748 - val_accuracy: 0.9091\n",
            "Epoch 12/70\n",
            "17/17 [==============================] - 0s 3ms/step - loss: 0.4541 - accuracy: 0.8302 - val_loss: 0.2752 - val_accuracy: 0.9091\n",
            "Epoch 13/70\n",
            "17/17 [==============================] - 0s 3ms/step - loss: 0.4442 - accuracy: 0.8511 - val_loss: 0.2735 - val_accuracy: 0.9091\n",
            "Epoch 14/70\n",
            "17/17 [==============================] - 0s 3ms/step - loss: 0.4371 - accuracy: 0.8550 - val_loss: 0.2720 - val_accuracy: 0.9091\n",
            "Epoch 15/70\n",
            "17/17 [==============================] - 0s 3ms/step - loss: 0.4294 - accuracy: 0.8511 - val_loss: 0.2708 - val_accuracy: 0.9091\n",
            "Epoch 16/70\n",
            "17/17 [==============================] - 0s 3ms/step - loss: 0.4222 - accuracy: 0.8492 - val_loss: 0.2703 - val_accuracy: 0.9091\n",
            "Epoch 17/70\n",
            "17/17 [==============================] - 0s 3ms/step - loss: 0.4156 - accuracy: 0.8492 - val_loss: 0.2696 - val_accuracy: 0.9091\n",
            "Epoch 18/70\n",
            "17/17 [==============================] - 0s 3ms/step - loss: 0.4089 - accuracy: 0.8492 - val_loss: 0.2691 - val_accuracy: 0.9091\n",
            "Epoch 19/70\n",
            "17/17 [==============================] - 0s 3ms/step - loss: 0.4013 - accuracy: 0.8511 - val_loss: 0.2702 - val_accuracy: 0.9091\n",
            "Epoch 20/70\n",
            "17/17 [==============================] - 0s 3ms/step - loss: 0.3954 - accuracy: 0.8492 - val_loss: 0.2705 - val_accuracy: 0.9091\n",
            "Epoch 21/70\n",
            "17/17 [==============================] - 0s 3ms/step - loss: 0.3904 - accuracy: 0.8492 - val_loss: 0.2710 - val_accuracy: 0.9091\n",
            "Epoch 22/70\n",
            "17/17 [==============================] - 0s 3ms/step - loss: 0.3840 - accuracy: 0.8511 - val_loss: 0.2726 - val_accuracy: 0.9091\n",
            "Epoch 23/70\n",
            "17/17 [==============================] - 0s 3ms/step - loss: 0.3791 - accuracy: 0.8511 - val_loss: 0.2753 - val_accuracy: 0.9091\n",
            "Epoch 24/70\n",
            "17/17 [==============================] - 0s 3ms/step - loss: 0.3722 - accuracy: 0.8511 - val_loss: 0.2752 - val_accuracy: 0.9091\n",
            "Epoch 25/70\n",
            "17/17 [==============================] - 0s 3ms/step - loss: 0.3662 - accuracy: 0.8511 - val_loss: 0.2762 - val_accuracy: 0.9091\n",
            "Epoch 26/70\n",
            "17/17 [==============================] - 0s 3ms/step - loss: 0.3633 - accuracy: 0.8511 - val_loss: 0.2793 - val_accuracy: 0.9091\n",
            "Epoch 27/70\n",
            "17/17 [==============================] - 0s 3ms/step - loss: 0.3581 - accuracy: 0.8511 - val_loss: 0.2802 - val_accuracy: 0.9091\n",
            "Epoch 28/70\n",
            "17/17 [==============================] - 0s 3ms/step - loss: 0.3511 - accuracy: 0.8511 - val_loss: 0.2843 - val_accuracy: 0.8939\n",
            "Epoch 29/70\n",
            "17/17 [==============================] - 0s 3ms/step - loss: 0.3479 - accuracy: 0.8531 - val_loss: 0.2881 - val_accuracy: 0.8939\n",
            "Epoch 30/70\n",
            "17/17 [==============================] - 0s 5ms/step - loss: 0.3427 - accuracy: 0.8531 - val_loss: 0.2913 - val_accuracy: 0.8939\n",
            "Epoch 31/70\n",
            "17/17 [==============================] - 0s 3ms/step - loss: 0.3369 - accuracy: 0.8550 - val_loss: 0.2941 - val_accuracy: 0.8939\n",
            "Epoch 32/70\n",
            "17/17 [==============================] - 0s 3ms/step - loss: 0.3342 - accuracy: 0.8569 - val_loss: 0.2960 - val_accuracy: 0.8939\n",
            "Epoch 33/70\n",
            "17/17 [==============================] - 0s 3ms/step - loss: 0.3303 - accuracy: 0.8588 - val_loss: 0.3002 - val_accuracy: 0.8939\n",
            "Epoch 34/70\n",
            "17/17 [==============================] - 0s 3ms/step - loss: 0.3288 - accuracy: 0.8492 - val_loss: 0.3005 - val_accuracy: 0.8939\n",
            "Epoch 35/70\n",
            "17/17 [==============================] - 0s 3ms/step - loss: 0.3259 - accuracy: 0.8607 - val_loss: 0.3026 - val_accuracy: 0.8939\n",
            "Epoch 36/70\n",
            "17/17 [==============================] - 0s 3ms/step - loss: 0.3229 - accuracy: 0.8511 - val_loss: 0.3077 - val_accuracy: 0.8939\n",
            "Epoch 37/70\n",
            "17/17 [==============================] - 0s 3ms/step - loss: 0.3216 - accuracy: 0.8607 - val_loss: 0.3096 - val_accuracy: 0.8939\n",
            "Epoch 38/70\n",
            "17/17 [==============================] - 0s 3ms/step - loss: 0.3198 - accuracy: 0.8569 - val_loss: 0.3078 - val_accuracy: 0.8939\n",
            "Epoch 39/70\n",
            "17/17 [==============================] - 0s 3ms/step - loss: 0.3197 - accuracy: 0.8588 - val_loss: 0.3142 - val_accuracy: 0.8939\n",
            "Epoch 40/70\n",
            "17/17 [==============================] - 0s 4ms/step - loss: 0.3163 - accuracy: 0.8607 - val_loss: 0.3122 - val_accuracy: 0.8939\n",
            "Epoch 41/70\n",
            "17/17 [==============================] - 0s 3ms/step - loss: 0.3141 - accuracy: 0.8607 - val_loss: 0.3169 - val_accuracy: 0.8939\n",
            "Epoch 42/70\n",
            "17/17 [==============================] - 0s 3ms/step - loss: 0.3135 - accuracy: 0.8607 - val_loss: 0.3175 - val_accuracy: 0.8939\n",
            "Epoch 43/70\n",
            "17/17 [==============================] - 0s 3ms/step - loss: 0.3110 - accuracy: 0.8626 - val_loss: 0.3181 - val_accuracy: 0.8939\n",
            "Epoch 44/70\n",
            "17/17 [==============================] - 0s 3ms/step - loss: 0.3113 - accuracy: 0.8588 - val_loss: 0.3179 - val_accuracy: 0.8939\n",
            "Epoch 45/70\n",
            "17/17 [==============================] - 0s 3ms/step - loss: 0.3071 - accuracy: 0.8607 - val_loss: 0.3228 - val_accuracy: 0.8939\n",
            "Epoch 46/70\n",
            "17/17 [==============================] - 0s 3ms/step - loss: 0.3086 - accuracy: 0.8626 - val_loss: 0.3212 - val_accuracy: 0.8939\n",
            "Epoch 47/70\n",
            "17/17 [==============================] - 0s 3ms/step - loss: 0.3069 - accuracy: 0.8626 - val_loss: 0.3270 - val_accuracy: 0.8939\n",
            "Epoch 48/70\n",
            "17/17 [==============================] - 0s 3ms/step - loss: 0.3044 - accuracy: 0.8645 - val_loss: 0.3213 - val_accuracy: 0.8939\n",
            "Epoch 49/70\n",
            "17/17 [==============================] - 0s 4ms/step - loss: 0.3048 - accuracy: 0.8664 - val_loss: 0.3305 - val_accuracy: 0.8939\n",
            "Epoch 50/70\n",
            "17/17 [==============================] - 0s 3ms/step - loss: 0.3020 - accuracy: 0.8683 - val_loss: 0.3251 - val_accuracy: 0.8939\n",
            "Epoch 51/70\n",
            "17/17 [==============================] - 0s 3ms/step - loss: 0.3028 - accuracy: 0.8683 - val_loss: 0.3209 - val_accuracy: 0.8939\n",
            "Epoch 52/70\n",
            "17/17 [==============================] - 0s 3ms/step - loss: 0.3041 - accuracy: 0.8664 - val_loss: 0.3194 - val_accuracy: 0.8939\n",
            "Epoch 53/70\n",
            "17/17 [==============================] - 0s 3ms/step - loss: 0.2997 - accuracy: 0.8645 - val_loss: 0.3334 - val_accuracy: 0.8939\n",
            "Epoch 54/70\n",
            "17/17 [==============================] - 0s 3ms/step - loss: 0.3016 - accuracy: 0.8664 - val_loss: 0.3282 - val_accuracy: 0.8939\n",
            "Epoch 55/70\n",
            "17/17 [==============================] - 0s 3ms/step - loss: 0.3002 - accuracy: 0.8683 - val_loss: 0.3306 - val_accuracy: 0.8939\n",
            "Epoch 56/70\n",
            "17/17 [==============================] - 0s 3ms/step - loss: 0.2981 - accuracy: 0.8702 - val_loss: 0.3309 - val_accuracy: 0.8939\n",
            "Epoch 57/70\n",
            "17/17 [==============================] - 0s 3ms/step - loss: 0.2981 - accuracy: 0.8664 - val_loss: 0.3331 - val_accuracy: 0.8939\n",
            "Epoch 58/70\n",
            "17/17 [==============================] - 0s 3ms/step - loss: 0.2980 - accuracy: 0.8645 - val_loss: 0.3357 - val_accuracy: 0.8939\n",
            "Epoch 59/70\n",
            "17/17 [==============================] - 0s 4ms/step - loss: 0.2985 - accuracy: 0.8702 - val_loss: 0.3382 - val_accuracy: 0.8939\n",
            "Epoch 60/70\n",
            "17/17 [==============================] - 0s 3ms/step - loss: 0.2970 - accuracy: 0.8702 - val_loss: 0.3352 - val_accuracy: 0.8939\n",
            "Epoch 61/70\n",
            "17/17 [==============================] - 0s 3ms/step - loss: 0.2974 - accuracy: 0.8664 - val_loss: 0.3374 - val_accuracy: 0.8939\n",
            "Epoch 62/70\n",
            "17/17 [==============================] - 0s 3ms/step - loss: 0.2961 - accuracy: 0.8683 - val_loss: 0.3364 - val_accuracy: 0.8939\n",
            "Epoch 63/70\n",
            "17/17 [==============================] - 0s 3ms/step - loss: 0.2955 - accuracy: 0.8702 - val_loss: 0.3427 - val_accuracy: 0.8939\n",
            "Epoch 64/70\n",
            "17/17 [==============================] - 0s 3ms/step - loss: 0.2955 - accuracy: 0.8645 - val_loss: 0.3356 - val_accuracy: 0.8939\n",
            "Epoch 65/70\n",
            "17/17 [==============================] - 0s 3ms/step - loss: 0.2986 - accuracy: 0.8683 - val_loss: 0.3366 - val_accuracy: 0.9091\n",
            "Epoch 66/70\n",
            "17/17 [==============================] - 0s 3ms/step - loss: 0.2960 - accuracy: 0.8683 - val_loss: 0.3455 - val_accuracy: 0.8939\n",
            "Epoch 67/70\n",
            "17/17 [==============================] - 0s 3ms/step - loss: 0.2971 - accuracy: 0.8645 - val_loss: 0.3389 - val_accuracy: 0.8939\n",
            "Epoch 68/70\n",
            "17/17 [==============================] - 0s 3ms/step - loss: 0.2945 - accuracy: 0.8702 - val_loss: 0.3427 - val_accuracy: 0.8939\n",
            "Epoch 69/70\n",
            "17/17 [==============================] - 0s 3ms/step - loss: 0.2939 - accuracy: 0.8683 - val_loss: 0.3457 - val_accuracy: 0.8939\n",
            "Epoch 70/70\n",
            "17/17 [==============================] - 0s 3ms/step - loss: 0.2932 - accuracy: 0.8683 - val_loss: 0.3446 - val_accuracy: 0.8939\n",
            "____________________________________________________________________________________________________\n",
            "FOLD NO 5 START\n",
            "Epoch 1/70\n",
            "17/17 [==============================] - 0s 8ms/step - loss: 0.6814 - accuracy: 0.5973 - val_loss: 0.5816 - val_accuracy: 0.8788\n",
            "Epoch 2/70\n",
            "17/17 [==============================] - 0s 3ms/step - loss: 0.6582 - accuracy: 0.6622 - val_loss: 0.5482 - val_accuracy: 0.9015\n",
            "Epoch 3/70\n",
            "17/17 [==============================] - 0s 3ms/step - loss: 0.6401 - accuracy: 0.6832 - val_loss: 0.5045 - val_accuracy: 0.9015\n",
            "Epoch 4/70\n",
            "17/17 [==============================] - 0s 3ms/step - loss: 0.6207 - accuracy: 0.6832 - val_loss: 0.4608 - val_accuracy: 0.9015\n",
            "Epoch 5/70\n",
            "17/17 [==============================] - 0s 3ms/step - loss: 0.5911 - accuracy: 0.6813 - val_loss: 0.4166 - val_accuracy: 0.9015\n",
            "Epoch 6/70\n",
            "17/17 [==============================] - 0s 3ms/step - loss: 0.5544 - accuracy: 0.7920 - val_loss: 0.3691 - val_accuracy: 0.9091\n",
            "Epoch 7/70\n",
            "17/17 [==============================] - 0s 3ms/step - loss: 0.5097 - accuracy: 0.8034 - val_loss: 0.3287 - val_accuracy: 0.9091\n",
            "Epoch 8/70\n",
            "17/17 [==============================] - 0s 3ms/step - loss: 0.4726 - accuracy: 0.8053 - val_loss: 0.2928 - val_accuracy: 0.9091\n",
            "Epoch 9/70\n",
            "17/17 [==============================] - 0s 3ms/step - loss: 0.4452 - accuracy: 0.8053 - val_loss: 0.2808 - val_accuracy: 0.9091\n",
            "Epoch 10/70\n",
            "17/17 [==============================] - 0s 3ms/step - loss: 0.4236 - accuracy: 0.8015 - val_loss: 0.2718 - val_accuracy: 0.9091\n",
            "Epoch 11/70\n",
            "17/17 [==============================] - 0s 4ms/step - loss: 0.4065 - accuracy: 0.8034 - val_loss: 0.2735 - val_accuracy: 0.9091\n",
            "Epoch 12/70\n",
            "17/17 [==============================] - 0s 3ms/step - loss: 0.3951 - accuracy: 0.8073 - val_loss: 0.2740 - val_accuracy: 0.9091\n",
            "Epoch 13/70\n",
            "17/17 [==============================] - 0s 3ms/step - loss: 0.3850 - accuracy: 0.8206 - val_loss: 0.2772 - val_accuracy: 0.9091\n",
            "Epoch 14/70\n",
            "17/17 [==============================] - 0s 3ms/step - loss: 0.3767 - accuracy: 0.8321 - val_loss: 0.2798 - val_accuracy: 0.9091\n",
            "Epoch 15/70\n",
            "17/17 [==============================] - 0s 3ms/step - loss: 0.3718 - accuracy: 0.8282 - val_loss: 0.2820 - val_accuracy: 0.9091\n",
            "Epoch 16/70\n",
            "17/17 [==============================] - 0s 4ms/step - loss: 0.3681 - accuracy: 0.8397 - val_loss: 0.2810 - val_accuracy: 0.9091\n",
            "Epoch 17/70\n",
            "17/17 [==============================] - 0s 4ms/step - loss: 0.3640 - accuracy: 0.8321 - val_loss: 0.2849 - val_accuracy: 0.9091\n",
            "Epoch 18/70\n",
            "17/17 [==============================] - 0s 3ms/step - loss: 0.3615 - accuracy: 0.8435 - val_loss: 0.2812 - val_accuracy: 0.9091\n",
            "Epoch 19/70\n",
            "17/17 [==============================] - 0s 3ms/step - loss: 0.3585 - accuracy: 0.8435 - val_loss: 0.2870 - val_accuracy: 0.9091\n",
            "Epoch 20/70\n",
            "17/17 [==============================] - 0s 3ms/step - loss: 0.3565 - accuracy: 0.8531 - val_loss: 0.2835 - val_accuracy: 0.9091\n",
            "Epoch 21/70\n",
            "17/17 [==============================] - 0s 3ms/step - loss: 0.3547 - accuracy: 0.8511 - val_loss: 0.2885 - val_accuracy: 0.9091\n",
            "Epoch 22/70\n",
            "17/17 [==============================] - 0s 3ms/step - loss: 0.3539 - accuracy: 0.8511 - val_loss: 0.2816 - val_accuracy: 0.9091\n",
            "Epoch 23/70\n",
            "17/17 [==============================] - 0s 3ms/step - loss: 0.3514 - accuracy: 0.8511 - val_loss: 0.2920 - val_accuracy: 0.9091\n",
            "Epoch 24/70\n",
            "17/17 [==============================] - 0s 3ms/step - loss: 0.3497 - accuracy: 0.8550 - val_loss: 0.2895 - val_accuracy: 0.9091\n",
            "Epoch 25/70\n",
            "17/17 [==============================] - 0s 3ms/step - loss: 0.3465 - accuracy: 0.8550 - val_loss: 0.2822 - val_accuracy: 0.9091\n",
            "Epoch 26/70\n",
            "17/17 [==============================] - 0s 3ms/step - loss: 0.3463 - accuracy: 0.8550 - val_loss: 0.2856 - val_accuracy: 0.9091\n",
            "Epoch 27/70\n",
            "17/17 [==============================] - 0s 3ms/step - loss: 0.3448 - accuracy: 0.8569 - val_loss: 0.2932 - val_accuracy: 0.9091\n",
            "Epoch 28/70\n",
            "17/17 [==============================] - 0s 3ms/step - loss: 0.3439 - accuracy: 0.8569 - val_loss: 0.2879 - val_accuracy: 0.9091\n",
            "Epoch 29/70\n",
            "17/17 [==============================] - 0s 3ms/step - loss: 0.3420 - accuracy: 0.8569 - val_loss: 0.2911 - val_accuracy: 0.9091\n",
            "Epoch 30/70\n",
            "17/17 [==============================] - 0s 3ms/step - loss: 0.3426 - accuracy: 0.8569 - val_loss: 0.2897 - val_accuracy: 0.9091\n",
            "Epoch 31/70\n",
            "17/17 [==============================] - 0s 3ms/step - loss: 0.3409 - accuracy: 0.8569 - val_loss: 0.2945 - val_accuracy: 0.9091\n",
            "Epoch 32/70\n",
            "17/17 [==============================] - 0s 3ms/step - loss: 0.3399 - accuracy: 0.8569 - val_loss: 0.2952 - val_accuracy: 0.9091\n",
            "Epoch 33/70\n",
            "17/17 [==============================] - 0s 3ms/step - loss: 0.3391 - accuracy: 0.8569 - val_loss: 0.2880 - val_accuracy: 0.9091\n",
            "Epoch 34/70\n",
            "17/17 [==============================] - 0s 3ms/step - loss: 0.3383 - accuracy: 0.8569 - val_loss: 0.2937 - val_accuracy: 0.9091\n",
            "Epoch 35/70\n",
            "17/17 [==============================] - 0s 3ms/step - loss: 0.3370 - accuracy: 0.8569 - val_loss: 0.2967 - val_accuracy: 0.9091\n",
            "Epoch 36/70\n",
            "17/17 [==============================] - 0s 3ms/step - loss: 0.3378 - accuracy: 0.8569 - val_loss: 0.2973 - val_accuracy: 0.9091\n",
            "Epoch 37/70\n",
            "17/17 [==============================] - 0s 3ms/step - loss: 0.3360 - accuracy: 0.8569 - val_loss: 0.2934 - val_accuracy: 0.9091\n",
            "Epoch 38/70\n",
            "17/17 [==============================] - 0s 3ms/step - loss: 0.3361 - accuracy: 0.8569 - val_loss: 0.2936 - val_accuracy: 0.9091\n",
            "Epoch 39/70\n",
            "17/17 [==============================] - 0s 3ms/step - loss: 0.3357 - accuracy: 0.8569 - val_loss: 0.2974 - val_accuracy: 0.9091\n",
            "Epoch 40/70\n",
            "17/17 [==============================] - 0s 3ms/step - loss: 0.3340 - accuracy: 0.8569 - val_loss: 0.3002 - val_accuracy: 0.9091\n",
            "Epoch 41/70\n",
            "17/17 [==============================] - 0s 3ms/step - loss: 0.3335 - accuracy: 0.8569 - val_loss: 0.2965 - val_accuracy: 0.9091\n",
            "Epoch 42/70\n",
            "17/17 [==============================] - 0s 3ms/step - loss: 0.3333 - accuracy: 0.8569 - val_loss: 0.2988 - val_accuracy: 0.9091\n",
            "Epoch 43/70\n",
            "17/17 [==============================] - 0s 3ms/step - loss: 0.3336 - accuracy: 0.8569 - val_loss: 0.2995 - val_accuracy: 0.9091\n",
            "Epoch 44/70\n",
            "17/17 [==============================] - 0s 4ms/step - loss: 0.3318 - accuracy: 0.8569 - val_loss: 0.3074 - val_accuracy: 0.9091\n",
            "Epoch 45/70\n",
            "17/17 [==============================] - 0s 3ms/step - loss: 0.3320 - accuracy: 0.8569 - val_loss: 0.3020 - val_accuracy: 0.9091\n",
            "Epoch 46/70\n",
            "17/17 [==============================] - 0s 4ms/step - loss: 0.3320 - accuracy: 0.8569 - val_loss: 0.3032 - val_accuracy: 0.9091\n",
            "Epoch 47/70\n",
            "17/17 [==============================] - 0s 3ms/step - loss: 0.3307 - accuracy: 0.8569 - val_loss: 0.3044 - val_accuracy: 0.9091\n",
            "Epoch 48/70\n",
            "17/17 [==============================] - 0s 3ms/step - loss: 0.3308 - accuracy: 0.8569 - val_loss: 0.3064 - val_accuracy: 0.9091\n",
            "Epoch 49/70\n",
            "17/17 [==============================] - 0s 3ms/step - loss: 0.3306 - accuracy: 0.8569 - val_loss: 0.3065 - val_accuracy: 0.9091\n",
            "Epoch 50/70\n",
            "17/17 [==============================] - 0s 3ms/step - loss: 0.3299 - accuracy: 0.8569 - val_loss: 0.3005 - val_accuracy: 0.9091\n",
            "Epoch 51/70\n",
            "17/17 [==============================] - 0s 3ms/step - loss: 0.3285 - accuracy: 0.8569 - val_loss: 0.3048 - val_accuracy: 0.9091\n",
            "Epoch 52/70\n",
            "17/17 [==============================] - 0s 4ms/step - loss: 0.3290 - accuracy: 0.8588 - val_loss: 0.3070 - val_accuracy: 0.9091\n",
            "Epoch 53/70\n",
            "17/17 [==============================] - 0s 4ms/step - loss: 0.3280 - accuracy: 0.8569 - val_loss: 0.3040 - val_accuracy: 0.9091\n",
            "Epoch 54/70\n",
            "17/17 [==============================] - 0s 3ms/step - loss: 0.3280 - accuracy: 0.8569 - val_loss: 0.3066 - val_accuracy: 0.9091\n",
            "Epoch 55/70\n",
            "17/17 [==============================] - 0s 3ms/step - loss: 0.3275 - accuracy: 0.8569 - val_loss: 0.3080 - val_accuracy: 0.9091\n",
            "Epoch 56/70\n",
            "17/17 [==============================] - 0s 3ms/step - loss: 0.3279 - accuracy: 0.8588 - val_loss: 0.3055 - val_accuracy: 0.9091\n",
            "Epoch 57/70\n",
            "17/17 [==============================] - 0s 3ms/step - loss: 0.3263 - accuracy: 0.8569 - val_loss: 0.3096 - val_accuracy: 0.9091\n",
            "Epoch 58/70\n",
            "17/17 [==============================] - 0s 3ms/step - loss: 0.3262 - accuracy: 0.8569 - val_loss: 0.3059 - val_accuracy: 0.9091\n",
            "Epoch 59/70\n",
            "17/17 [==============================] - 0s 3ms/step - loss: 0.3264 - accuracy: 0.8588 - val_loss: 0.3048 - val_accuracy: 0.9091\n",
            "Epoch 60/70\n",
            "17/17 [==============================] - 0s 3ms/step - loss: 0.3254 - accuracy: 0.8588 - val_loss: 0.3064 - val_accuracy: 0.9091\n",
            "Epoch 61/70\n",
            "17/17 [==============================] - 0s 3ms/step - loss: 0.3257 - accuracy: 0.8569 - val_loss: 0.3142 - val_accuracy: 0.9091\n",
            "Epoch 62/70\n",
            "17/17 [==============================] - 0s 3ms/step - loss: 0.3248 - accuracy: 0.8569 - val_loss: 0.3089 - val_accuracy: 0.9091\n",
            "Epoch 63/70\n",
            "17/17 [==============================] - 0s 3ms/step - loss: 0.3260 - accuracy: 0.8550 - val_loss: 0.3113 - val_accuracy: 0.9091\n",
            "Epoch 64/70\n",
            "17/17 [==============================] - 0s 3ms/step - loss: 0.3240 - accuracy: 0.8569 - val_loss: 0.3058 - val_accuracy: 0.9091\n",
            "Epoch 65/70\n",
            "17/17 [==============================] - 0s 3ms/step - loss: 0.3253 - accuracy: 0.8550 - val_loss: 0.3115 - val_accuracy: 0.9091\n",
            "Epoch 66/70\n",
            "17/17 [==============================] - 0s 3ms/step - loss: 0.3242 - accuracy: 0.8569 - val_loss: 0.3099 - val_accuracy: 0.9091\n",
            "Epoch 67/70\n",
            "17/17 [==============================] - 0s 3ms/step - loss: 0.3241 - accuracy: 0.8550 - val_loss: 0.3076 - val_accuracy: 0.9091\n",
            "Epoch 68/70\n",
            "17/17 [==============================] - 0s 3ms/step - loss: 0.3243 - accuracy: 0.8550 - val_loss: 0.3034 - val_accuracy: 0.9091\n",
            "Epoch 69/70\n",
            "17/17 [==============================] - 0s 3ms/step - loss: 0.3223 - accuracy: 0.8569 - val_loss: 0.3138 - val_accuracy: 0.9091\n",
            "Epoch 70/70\n",
            "17/17 [==============================] - 0s 3ms/step - loss: 0.3232 - accuracy: 0.8569 - val_loss: 0.3092 - val_accuracy: 0.9091\n",
            "____________________________________________________________________________________________________\n",
            "FOLD NO 6 START\n",
            "Epoch 1/70\n",
            "17/17 [==============================] - 0s 8ms/step - loss: 0.6728 - accuracy: 0.6431 - val_loss: 0.5893 - val_accuracy: 0.9091\n",
            "Epoch 2/70\n",
            "17/17 [==============================] - 0s 3ms/step - loss: 0.6416 - accuracy: 0.6966 - val_loss: 0.5310 - val_accuracy: 0.9242\n",
            "Epoch 3/70\n",
            "17/17 [==============================] - 0s 3ms/step - loss: 0.6107 - accuracy: 0.7615 - val_loss: 0.4737 - val_accuracy: 0.9242\n",
            "Epoch 4/70\n",
            "17/17 [==============================] - 0s 3ms/step - loss: 0.5806 - accuracy: 0.8073 - val_loss: 0.4104 - val_accuracy: 0.9242\n",
            "Epoch 5/70\n",
            "17/17 [==============================] - 0s 3ms/step - loss: 0.5473 - accuracy: 0.8053 - val_loss: 0.3638 - val_accuracy: 0.9167\n",
            "Epoch 6/70\n",
            "17/17 [==============================] - 0s 3ms/step - loss: 0.5192 - accuracy: 0.8053 - val_loss: 0.3203 - val_accuracy: 0.9091\n",
            "Epoch 7/70\n",
            "17/17 [==============================] - 0s 3ms/step - loss: 0.4938 - accuracy: 0.8130 - val_loss: 0.2931 - val_accuracy: 0.9091\n",
            "Epoch 8/70\n",
            "17/17 [==============================] - 0s 3ms/step - loss: 0.4691 - accuracy: 0.8073 - val_loss: 0.2726 - val_accuracy: 0.9091\n",
            "Epoch 9/70\n",
            "17/17 [==============================] - 0s 3ms/step - loss: 0.4463 - accuracy: 0.8053 - val_loss: 0.2593 - val_accuracy: 0.9091\n",
            "Epoch 10/70\n",
            "17/17 [==============================] - 0s 3ms/step - loss: 0.4276 - accuracy: 0.8111 - val_loss: 0.2494 - val_accuracy: 0.9091\n",
            "Epoch 11/70\n",
            "17/17 [==============================] - 0s 3ms/step - loss: 0.4131 - accuracy: 0.8130 - val_loss: 0.2482 - val_accuracy: 0.9091\n",
            "Epoch 12/70\n",
            "17/17 [==============================] - 0s 3ms/step - loss: 0.4003 - accuracy: 0.8187 - val_loss: 0.2484 - val_accuracy: 0.9091\n",
            "Epoch 13/70\n",
            "17/17 [==============================] - 0s 3ms/step - loss: 0.3899 - accuracy: 0.8187 - val_loss: 0.2464 - val_accuracy: 0.9091\n",
            "Epoch 14/70\n",
            "17/17 [==============================] - 0s 3ms/step - loss: 0.3798 - accuracy: 0.8187 - val_loss: 0.2535 - val_accuracy: 0.9091\n",
            "Epoch 15/70\n",
            "17/17 [==============================] - 0s 3ms/step - loss: 0.3732 - accuracy: 0.8225 - val_loss: 0.2556 - val_accuracy: 0.9091\n",
            "Epoch 16/70\n",
            "17/17 [==============================] - 0s 3ms/step - loss: 0.3672 - accuracy: 0.8340 - val_loss: 0.2551 - val_accuracy: 0.9091\n",
            "Epoch 17/70\n",
            "17/17 [==============================] - 0s 3ms/step - loss: 0.3651 - accuracy: 0.8340 - val_loss: 0.2578 - val_accuracy: 0.9091\n",
            "Epoch 18/70\n",
            "17/17 [==============================] - 0s 3ms/step - loss: 0.3576 - accuracy: 0.8397 - val_loss: 0.2615 - val_accuracy: 0.9091\n",
            "Epoch 19/70\n",
            "17/17 [==============================] - 0s 4ms/step - loss: 0.3535 - accuracy: 0.8473 - val_loss: 0.2610 - val_accuracy: 0.9091\n",
            "Epoch 20/70\n",
            "17/17 [==============================] - 0s 3ms/step - loss: 0.3519 - accuracy: 0.8473 - val_loss: 0.2657 - val_accuracy: 0.9091\n",
            "Epoch 21/70\n",
            "17/17 [==============================] - 0s 3ms/step - loss: 0.3495 - accuracy: 0.8473 - val_loss: 0.2618 - val_accuracy: 0.9091\n",
            "Epoch 22/70\n",
            "17/17 [==============================] - 0s 3ms/step - loss: 0.3442 - accuracy: 0.8473 - val_loss: 0.2690 - val_accuracy: 0.9091\n",
            "Epoch 23/70\n",
            "17/17 [==============================] - 0s 3ms/step - loss: 0.3417 - accuracy: 0.8473 - val_loss: 0.2697 - val_accuracy: 0.9091\n",
            "Epoch 24/70\n",
            "17/17 [==============================] - 0s 3ms/step - loss: 0.3394 - accuracy: 0.8473 - val_loss: 0.2699 - val_accuracy: 0.9091\n",
            "Epoch 25/70\n",
            "17/17 [==============================] - 0s 3ms/step - loss: 0.3383 - accuracy: 0.8569 - val_loss: 0.2699 - val_accuracy: 0.9091\n",
            "Epoch 26/70\n",
            "17/17 [==============================] - 0s 3ms/step - loss: 0.3353 - accuracy: 0.8473 - val_loss: 0.2739 - val_accuracy: 0.9091\n",
            "Epoch 27/70\n",
            "17/17 [==============================] - 0s 4ms/step - loss: 0.3342 - accuracy: 0.8435 - val_loss: 0.2769 - val_accuracy: 0.9091\n",
            "Epoch 28/70\n",
            "17/17 [==============================] - 0s 3ms/step - loss: 0.3307 - accuracy: 0.8569 - val_loss: 0.2748 - val_accuracy: 0.9091\n",
            "Epoch 29/70\n",
            "17/17 [==============================] - 0s 3ms/step - loss: 0.3288 - accuracy: 0.8531 - val_loss: 0.2771 - val_accuracy: 0.9091\n",
            "Epoch 30/70\n",
            "17/17 [==============================] - 0s 3ms/step - loss: 0.3272 - accuracy: 0.8607 - val_loss: 0.2780 - val_accuracy: 0.9091\n",
            "Epoch 31/70\n",
            "17/17 [==============================] - 0s 3ms/step - loss: 0.3248 - accuracy: 0.8626 - val_loss: 0.2806 - val_accuracy: 0.9091\n",
            "Epoch 32/70\n",
            "17/17 [==============================] - 0s 3ms/step - loss: 0.3245 - accuracy: 0.8607 - val_loss: 0.2826 - val_accuracy: 0.9091\n",
            "Epoch 33/70\n",
            "17/17 [==============================] - 0s 3ms/step - loss: 0.3227 - accuracy: 0.8645 - val_loss: 0.2755 - val_accuracy: 0.9091\n",
            "Epoch 34/70\n",
            "17/17 [==============================] - 0s 3ms/step - loss: 0.3217 - accuracy: 0.8607 - val_loss: 0.2810 - val_accuracy: 0.9091\n",
            "Epoch 35/70\n",
            "17/17 [==============================] - 0s 3ms/step - loss: 0.3218 - accuracy: 0.8588 - val_loss: 0.2803 - val_accuracy: 0.9091\n",
            "Epoch 36/70\n",
            "17/17 [==============================] - 0s 3ms/step - loss: 0.3216 - accuracy: 0.8626 - val_loss: 0.2766 - val_accuracy: 0.9091\n",
            "Epoch 37/70\n",
            "17/17 [==============================] - 0s 4ms/step - loss: 0.3200 - accuracy: 0.8550 - val_loss: 0.2837 - val_accuracy: 0.9091\n",
            "Epoch 38/70\n",
            "17/17 [==============================] - 0s 4ms/step - loss: 0.3195 - accuracy: 0.8473 - val_loss: 0.2847 - val_accuracy: 0.9091\n",
            "Epoch 39/70\n",
            "17/17 [==============================] - 0s 3ms/step - loss: 0.3159 - accuracy: 0.8607 - val_loss: 0.2823 - val_accuracy: 0.9091\n",
            "Epoch 40/70\n",
            "17/17 [==============================] - 0s 3ms/step - loss: 0.3150 - accuracy: 0.8626 - val_loss: 0.2846 - val_accuracy: 0.9091\n",
            "Epoch 41/70\n",
            "17/17 [==============================] - 0s 4ms/step - loss: 0.3147 - accuracy: 0.8588 - val_loss: 0.2862 - val_accuracy: 0.9091\n",
            "Epoch 42/70\n",
            "17/17 [==============================] - 0s 3ms/step - loss: 0.3141 - accuracy: 0.8531 - val_loss: 0.2870 - val_accuracy: 0.9091\n",
            "Epoch 43/70\n",
            "17/17 [==============================] - 0s 3ms/step - loss: 0.3140 - accuracy: 0.8607 - val_loss: 0.2859 - val_accuracy: 0.9091\n",
            "Epoch 44/70\n",
            "17/17 [==============================] - 0s 3ms/step - loss: 0.3134 - accuracy: 0.8607 - val_loss: 0.2871 - val_accuracy: 0.9091\n",
            "Epoch 45/70\n",
            "17/17 [==============================] - 0s 3ms/step - loss: 0.3110 - accuracy: 0.8626 - val_loss: 0.2871 - val_accuracy: 0.9091\n",
            "Epoch 46/70\n",
            "17/17 [==============================] - 0s 3ms/step - loss: 0.3108 - accuracy: 0.8607 - val_loss: 0.2831 - val_accuracy: 0.9091\n",
            "Epoch 47/70\n",
            "17/17 [==============================] - 0s 4ms/step - loss: 0.3092 - accuracy: 0.8626 - val_loss: 0.2872 - val_accuracy: 0.9091\n",
            "Epoch 48/70\n",
            "17/17 [==============================] - 0s 4ms/step - loss: 0.3082 - accuracy: 0.8588 - val_loss: 0.2918 - val_accuracy: 0.9091\n",
            "Epoch 49/70\n",
            "17/17 [==============================] - 0s 3ms/step - loss: 0.3088 - accuracy: 0.8550 - val_loss: 0.2857 - val_accuracy: 0.9091\n",
            "Epoch 50/70\n",
            "17/17 [==============================] - 0s 3ms/step - loss: 0.3079 - accuracy: 0.8588 - val_loss: 0.2898 - val_accuracy: 0.9091\n",
            "Epoch 51/70\n",
            "17/17 [==============================] - 0s 3ms/step - loss: 0.3059 - accuracy: 0.8626 - val_loss: 0.2851 - val_accuracy: 0.9091\n",
            "Epoch 52/70\n",
            "17/17 [==============================] - 0s 3ms/step - loss: 0.3061 - accuracy: 0.8664 - val_loss: 0.2869 - val_accuracy: 0.9091\n",
            "Epoch 53/70\n",
            "17/17 [==============================] - 0s 3ms/step - loss: 0.3050 - accuracy: 0.8607 - val_loss: 0.2864 - val_accuracy: 0.9091\n",
            "Epoch 54/70\n",
            "17/17 [==============================] - 0s 3ms/step - loss: 0.3045 - accuracy: 0.8664 - val_loss: 0.2884 - val_accuracy: 0.9091\n",
            "Epoch 55/70\n",
            "17/17 [==============================] - 0s 3ms/step - loss: 0.3038 - accuracy: 0.8664 - val_loss: 0.2899 - val_accuracy: 0.9091\n",
            "Epoch 56/70\n",
            "17/17 [==============================] - 0s 3ms/step - loss: 0.3031 - accuracy: 0.8645 - val_loss: 0.2919 - val_accuracy: 0.9091\n",
            "Epoch 57/70\n",
            "17/17 [==============================] - 0s 3ms/step - loss: 0.3027 - accuracy: 0.8626 - val_loss: 0.2911 - val_accuracy: 0.9091\n",
            "Epoch 58/70\n",
            "17/17 [==============================] - 0s 3ms/step - loss: 0.3029 - accuracy: 0.8645 - val_loss: 0.2900 - val_accuracy: 0.9091\n",
            "Epoch 59/70\n",
            "17/17 [==============================] - 0s 3ms/step - loss: 0.3016 - accuracy: 0.8683 - val_loss: 0.2896 - val_accuracy: 0.9091\n",
            "Epoch 60/70\n",
            "17/17 [==============================] - 0s 3ms/step - loss: 0.3035 - accuracy: 0.8721 - val_loss: 0.2942 - val_accuracy: 0.9091\n",
            "Epoch 61/70\n",
            "17/17 [==============================] - 0s 3ms/step - loss: 0.3013 - accuracy: 0.8702 - val_loss: 0.2893 - val_accuracy: 0.9091\n",
            "Epoch 62/70\n",
            "17/17 [==============================] - 0s 3ms/step - loss: 0.3009 - accuracy: 0.8664 - val_loss: 0.2930 - val_accuracy: 0.9091\n",
            "Epoch 63/70\n",
            "17/17 [==============================] - 0s 3ms/step - loss: 0.3008 - accuracy: 0.8721 - val_loss: 0.2928 - val_accuracy: 0.9091\n",
            "Epoch 64/70\n",
            "17/17 [==============================] - 0s 3ms/step - loss: 0.3019 - accuracy: 0.8626 - val_loss: 0.2928 - val_accuracy: 0.9091\n",
            "Epoch 65/70\n",
            "17/17 [==============================] - 0s 3ms/step - loss: 0.2993 - accuracy: 0.8740 - val_loss: 0.3009 - val_accuracy: 0.9091\n",
            "Epoch 66/70\n",
            "17/17 [==============================] - 0s 4ms/step - loss: 0.3024 - accuracy: 0.8740 - val_loss: 0.2891 - val_accuracy: 0.9091\n",
            "Epoch 67/70\n",
            "17/17 [==============================] - 0s 3ms/step - loss: 0.2978 - accuracy: 0.8721 - val_loss: 0.2980 - val_accuracy: 0.9091\n",
            "Epoch 68/70\n",
            "17/17 [==============================] - 0s 3ms/step - loss: 0.2982 - accuracy: 0.8740 - val_loss: 0.2956 - val_accuracy: 0.9091\n",
            "Epoch 69/70\n",
            "17/17 [==============================] - 0s 3ms/step - loss: 0.2981 - accuracy: 0.8740 - val_loss: 0.2945 - val_accuracy: 0.9091\n",
            "Epoch 70/70\n",
            "17/17 [==============================] - 0s 3ms/step - loss: 0.2991 - accuracy: 0.8721 - val_loss: 0.2950 - val_accuracy: 0.9091\n",
            "____________________________________________________________________________________________________\n",
            "FOLD NO 7 START\n",
            "Epoch 1/70\n",
            "17/17 [==============================] - 0s 8ms/step - loss: 0.7384 - accuracy: 0.5859 - val_loss: 0.5292 - val_accuracy: 0.8939\n",
            "Epoch 2/70\n",
            "17/17 [==============================] - 0s 3ms/step - loss: 0.6730 - accuracy: 0.5859 - val_loss: 0.4806 - val_accuracy: 0.8939\n",
            "Epoch 3/70\n",
            "17/17 [==============================] - 0s 3ms/step - loss: 0.6199 - accuracy: 0.5859 - val_loss: 0.4317 - val_accuracy: 0.8939\n",
            "Epoch 4/70\n",
            "17/17 [==============================] - 0s 3ms/step - loss: 0.5824 - accuracy: 0.6489 - val_loss: 0.3909 - val_accuracy: 0.8939\n",
            "Epoch 5/70\n",
            "17/17 [==============================] - 0s 3ms/step - loss: 0.5523 - accuracy: 0.7080 - val_loss: 0.3529 - val_accuracy: 0.8939\n",
            "Epoch 6/70\n",
            "17/17 [==============================] - 0s 3ms/step - loss: 0.5267 - accuracy: 0.7385 - val_loss: 0.3190 - val_accuracy: 0.9091\n",
            "Epoch 7/70\n",
            "17/17 [==============================] - 0s 3ms/step - loss: 0.5057 - accuracy: 0.7863 - val_loss: 0.2967 - val_accuracy: 0.9091\n",
            "Epoch 8/70\n",
            "17/17 [==============================] - 0s 3ms/step - loss: 0.4896 - accuracy: 0.8206 - val_loss: 0.2810 - val_accuracy: 0.9015\n",
            "Epoch 9/70\n",
            "17/17 [==============================] - 0s 3ms/step - loss: 0.4769 - accuracy: 0.8244 - val_loss: 0.2739 - val_accuracy: 0.9015\n",
            "Epoch 10/70\n",
            "17/17 [==============================] - 0s 3ms/step - loss: 0.4672 - accuracy: 0.8263 - val_loss: 0.2675 - val_accuracy: 0.9015\n",
            "Epoch 11/70\n",
            "17/17 [==============================] - 0s 3ms/step - loss: 0.4598 - accuracy: 0.8263 - val_loss: 0.2655 - val_accuracy: 0.9015\n",
            "Epoch 12/70\n",
            "17/17 [==============================] - 0s 3ms/step - loss: 0.4515 - accuracy: 0.8397 - val_loss: 0.2683 - val_accuracy: 0.9015\n",
            "Epoch 13/70\n",
            "17/17 [==============================] - 0s 3ms/step - loss: 0.4410 - accuracy: 0.8550 - val_loss: 0.2656 - val_accuracy: 0.9015\n",
            "Epoch 14/70\n",
            "17/17 [==============================] - 0s 3ms/step - loss: 0.4308 - accuracy: 0.8550 - val_loss: 0.2651 - val_accuracy: 0.9015\n",
            "Epoch 15/70\n",
            "17/17 [==============================] - 0s 3ms/step - loss: 0.4196 - accuracy: 0.8550 - val_loss: 0.2694 - val_accuracy: 0.9015\n",
            "Epoch 16/70\n",
            "17/17 [==============================] - 0s 3ms/step - loss: 0.4093 - accuracy: 0.8511 - val_loss: 0.2716 - val_accuracy: 0.9015\n",
            "Epoch 17/70\n",
            "17/17 [==============================] - 0s 3ms/step - loss: 0.3995 - accuracy: 0.8531 - val_loss: 0.2727 - val_accuracy: 0.9015\n",
            "Epoch 18/70\n",
            "17/17 [==============================] - 0s 3ms/step - loss: 0.3906 - accuracy: 0.8416 - val_loss: 0.2767 - val_accuracy: 0.9015\n",
            "Epoch 19/70\n",
            "17/17 [==============================] - 0s 3ms/step - loss: 0.3824 - accuracy: 0.8531 - val_loss: 0.2776 - val_accuracy: 0.9015\n",
            "Epoch 20/70\n",
            "17/17 [==============================] - 0s 3ms/step - loss: 0.3739 - accuracy: 0.8531 - val_loss: 0.2828 - val_accuracy: 0.9015\n",
            "Epoch 21/70\n",
            "17/17 [==============================] - 0s 3ms/step - loss: 0.3675 - accuracy: 0.8511 - val_loss: 0.2883 - val_accuracy: 0.9015\n",
            "Epoch 22/70\n",
            "17/17 [==============================] - 0s 3ms/step - loss: 0.3606 - accuracy: 0.8492 - val_loss: 0.2915 - val_accuracy: 0.9015\n",
            "Epoch 23/70\n",
            "17/17 [==============================] - 0s 3ms/step - loss: 0.3565 - accuracy: 0.8492 - val_loss: 0.2986 - val_accuracy: 0.9015\n",
            "Epoch 24/70\n",
            "17/17 [==============================] - 0s 3ms/step - loss: 0.3488 - accuracy: 0.8531 - val_loss: 0.3024 - val_accuracy: 0.9015\n",
            "Epoch 25/70\n",
            "17/17 [==============================] - 0s 3ms/step - loss: 0.3461 - accuracy: 0.8492 - val_loss: 0.3075 - val_accuracy: 0.9015\n",
            "Epoch 26/70\n",
            "17/17 [==============================] - 0s 3ms/step - loss: 0.3405 - accuracy: 0.8492 - val_loss: 0.3085 - val_accuracy: 0.9015\n",
            "Epoch 27/70\n",
            "17/17 [==============================] - 0s 3ms/step - loss: 0.3374 - accuracy: 0.8531 - val_loss: 0.3139 - val_accuracy: 0.9015\n",
            "Epoch 28/70\n",
            "17/17 [==============================] - 0s 3ms/step - loss: 0.3359 - accuracy: 0.8492 - val_loss: 0.3184 - val_accuracy: 0.9015\n",
            "Epoch 29/70\n",
            "17/17 [==============================] - 0s 3ms/step - loss: 0.3336 - accuracy: 0.8531 - val_loss: 0.3220 - val_accuracy: 0.9015\n",
            "Epoch 30/70\n",
            "17/17 [==============================] - 0s 3ms/step - loss: 0.3301 - accuracy: 0.8531 - val_loss: 0.3275 - val_accuracy: 0.9015\n",
            "Epoch 31/70\n",
            "17/17 [==============================] - 0s 3ms/step - loss: 0.3283 - accuracy: 0.8492 - val_loss: 0.3352 - val_accuracy: 0.9015\n",
            "Epoch 32/70\n",
            "17/17 [==============================] - 0s 4ms/step - loss: 0.3268 - accuracy: 0.8569 - val_loss: 0.3345 - val_accuracy: 0.9015\n",
            "Epoch 33/70\n",
            "17/17 [==============================] - 0s 3ms/step - loss: 0.3250 - accuracy: 0.8588 - val_loss: 0.3398 - val_accuracy: 0.9015\n",
            "Epoch 34/70\n",
            "17/17 [==============================] - 0s 3ms/step - loss: 0.3237 - accuracy: 0.8550 - val_loss: 0.3395 - val_accuracy: 0.9015\n",
            "Epoch 35/70\n",
            "17/17 [==============================] - 0s 3ms/step - loss: 0.3223 - accuracy: 0.8588 - val_loss: 0.3459 - val_accuracy: 0.8864\n",
            "Epoch 36/70\n",
            "17/17 [==============================] - 0s 3ms/step - loss: 0.3232 - accuracy: 0.8569 - val_loss: 0.3444 - val_accuracy: 0.9015\n",
            "Epoch 37/70\n",
            "17/17 [==============================] - 0s 3ms/step - loss: 0.3213 - accuracy: 0.8569 - val_loss: 0.3508 - val_accuracy: 0.8864\n",
            "Epoch 38/70\n",
            "17/17 [==============================] - 0s 3ms/step - loss: 0.3193 - accuracy: 0.8588 - val_loss: 0.3486 - val_accuracy: 0.9015\n",
            "Epoch 39/70\n",
            "17/17 [==============================] - 0s 3ms/step - loss: 0.3192 - accuracy: 0.8607 - val_loss: 0.3502 - val_accuracy: 0.9015\n",
            "Epoch 40/70\n",
            "17/17 [==============================] - 0s 3ms/step - loss: 0.3190 - accuracy: 0.8607 - val_loss: 0.3521 - val_accuracy: 0.9015\n",
            "Epoch 41/70\n",
            "17/17 [==============================] - 0s 3ms/step - loss: 0.3188 - accuracy: 0.8569 - val_loss: 0.3538 - val_accuracy: 0.9015\n",
            "Epoch 42/70\n",
            "17/17 [==============================] - 0s 3ms/step - loss: 0.3182 - accuracy: 0.8626 - val_loss: 0.3560 - val_accuracy: 0.9015\n",
            "Epoch 43/70\n",
            "17/17 [==============================] - 0s 3ms/step - loss: 0.3164 - accuracy: 0.8645 - val_loss: 0.3590 - val_accuracy: 0.9015\n",
            "Epoch 44/70\n",
            "17/17 [==============================] - 0s 3ms/step - loss: 0.3166 - accuracy: 0.8607 - val_loss: 0.3574 - val_accuracy: 0.9015\n",
            "Epoch 45/70\n",
            "17/17 [==============================] - 0s 3ms/step - loss: 0.3159 - accuracy: 0.8569 - val_loss: 0.3604 - val_accuracy: 0.9015\n",
            "Epoch 46/70\n",
            "17/17 [==============================] - 0s 3ms/step - loss: 0.3154 - accuracy: 0.8626 - val_loss: 0.3574 - val_accuracy: 0.9015\n",
            "Epoch 47/70\n",
            "17/17 [==============================] - 0s 3ms/step - loss: 0.3145 - accuracy: 0.8645 - val_loss: 0.3619 - val_accuracy: 0.9015\n",
            "Epoch 48/70\n",
            "17/17 [==============================] - 0s 3ms/step - loss: 0.3145 - accuracy: 0.8664 - val_loss: 0.3618 - val_accuracy: 0.9015\n",
            "Epoch 49/70\n",
            "17/17 [==============================] - 0s 3ms/step - loss: 0.3140 - accuracy: 0.8645 - val_loss: 0.3625 - val_accuracy: 0.9015\n",
            "Epoch 50/70\n",
            "17/17 [==============================] - 0s 3ms/step - loss: 0.3142 - accuracy: 0.8588 - val_loss: 0.3622 - val_accuracy: 0.9015\n",
            "Epoch 51/70\n",
            "17/17 [==============================] - 0s 3ms/step - loss: 0.3126 - accuracy: 0.8664 - val_loss: 0.3661 - val_accuracy: 0.9015\n",
            "Epoch 52/70\n",
            "17/17 [==============================] - 0s 3ms/step - loss: 0.3118 - accuracy: 0.8664 - val_loss: 0.3660 - val_accuracy: 0.9015\n",
            "Epoch 53/70\n",
            "17/17 [==============================] - 0s 3ms/step - loss: 0.3154 - accuracy: 0.8645 - val_loss: 0.3724 - val_accuracy: 0.9015\n",
            "Epoch 54/70\n",
            "17/17 [==============================] - 0s 3ms/step - loss: 0.3127 - accuracy: 0.8626 - val_loss: 0.3618 - val_accuracy: 0.9015\n",
            "Epoch 55/70\n",
            "17/17 [==============================] - 0s 3ms/step - loss: 0.3107 - accuracy: 0.8702 - val_loss: 0.3715 - val_accuracy: 0.9015\n",
            "Epoch 56/70\n",
            "17/17 [==============================] - 0s 3ms/step - loss: 0.3102 - accuracy: 0.8664 - val_loss: 0.3709 - val_accuracy: 0.9015\n",
            "Epoch 57/70\n",
            "17/17 [==============================] - 0s 3ms/step - loss: 0.3108 - accuracy: 0.8702 - val_loss: 0.3705 - val_accuracy: 0.9015\n",
            "Epoch 58/70\n",
            "17/17 [==============================] - 0s 3ms/step - loss: 0.3102 - accuracy: 0.8702 - val_loss: 0.3755 - val_accuracy: 0.9015\n",
            "Epoch 59/70\n",
            "17/17 [==============================] - 0s 3ms/step - loss: 0.3100 - accuracy: 0.8664 - val_loss: 0.3751 - val_accuracy: 0.9015\n",
            "Epoch 60/70\n",
            "17/17 [==============================] - 0s 4ms/step - loss: 0.3085 - accuracy: 0.8683 - val_loss: 0.3786 - val_accuracy: 0.9015\n",
            "Epoch 61/70\n",
            "17/17 [==============================] - 0s 3ms/step - loss: 0.3081 - accuracy: 0.8664 - val_loss: 0.3742 - val_accuracy: 0.9015\n",
            "Epoch 62/70\n",
            "17/17 [==============================] - 0s 3ms/step - loss: 0.3084 - accuracy: 0.8683 - val_loss: 0.3747 - val_accuracy: 0.9015\n",
            "Epoch 63/70\n",
            "17/17 [==============================] - 0s 3ms/step - loss: 0.3075 - accuracy: 0.8683 - val_loss: 0.3776 - val_accuracy: 0.9015\n",
            "Epoch 64/70\n",
            "17/17 [==============================] - 0s 3ms/step - loss: 0.3080 - accuracy: 0.8683 - val_loss: 0.3799 - val_accuracy: 0.9015\n",
            "Epoch 65/70\n",
            "17/17 [==============================] - 0s 3ms/step - loss: 0.3069 - accuracy: 0.8683 - val_loss: 0.3812 - val_accuracy: 0.9015\n",
            "Epoch 66/70\n",
            "17/17 [==============================] - 0s 3ms/step - loss: 0.3071 - accuracy: 0.8683 - val_loss: 0.3806 - val_accuracy: 0.9015\n",
            "Epoch 67/70\n",
            "17/17 [==============================] - 0s 3ms/step - loss: 0.3063 - accuracy: 0.8683 - val_loss: 0.3785 - val_accuracy: 0.9015\n",
            "Epoch 68/70\n",
            "17/17 [==============================] - 0s 3ms/step - loss: 0.3066 - accuracy: 0.8683 - val_loss: 0.3790 - val_accuracy: 0.9015\n",
            "Epoch 69/70\n",
            "17/17 [==============================] - 0s 3ms/step - loss: 0.3057 - accuracy: 0.8683 - val_loss: 0.3821 - val_accuracy: 0.9015\n",
            "Epoch 70/70\n",
            "17/17 [==============================] - 0s 3ms/step - loss: 0.3055 - accuracy: 0.8683 - val_loss: 0.3827 - val_accuracy: 0.9015\n"
          ],
          "name": "stdout"
        }
      ]
    },
    {
      "cell_type": "markdown",
      "metadata": {
        "id": "fZF1RHlg1v3X",
        "colab_type": "text"
      },
      "source": [
        "### Scores"
      ]
    },
    {
      "cell_type": "code",
      "metadata": {
        "id": "dh3V3QdWu0VG",
        "colab_type": "code",
        "outputId": "6560a6cb-83a6-4ff3-d495-dc5fc19bba23",
        "colab": {
          "base_uri": "https://localhost:8080/",
          "height": 238
        }
      },
      "source": [
        "# == Provide average scores ==\n",
        "print('Score per fold:')\n",
        "for i in range(0, len(acc_per_fold)):\n",
        "  print(f'> Fold {i+1} - Loss: {loss_per_fold[i]} - Accuracy: {acc_per_fold[i]}%')\n",
        "print('------------------------------------------------------------------------')\n",
        "print('Average scores for all folds:')\n",
        "print(f'> Accuracy: {np.mean(acc_per_fold)} (+- {np.std(acc_per_fold)})')\n",
        "print(f'> Loss: {np.mean(loss_per_fold)}')\n",
        "print('------------------------------------------------------------------------')"
      ],
      "execution_count": 36,
      "outputs": [
        {
          "output_type": "stream",
          "text": [
            "Score per fold:\n",
            "> Fold 1 - Loss: 0.3937595784664154 - Accuracy: 86.36363744735718%\n",
            "> Fold 2 - Loss: 0.2673208713531494 - Accuracy: 86.36363744735718%\n",
            "> Fold 3 - Loss: 0.22840748727321625 - Accuracy: 89.90825414657593%\n",
            "> Fold 4 - Loss: 0.41978636384010315 - Accuracy: 82.56880640983582%\n",
            "> Fold 5 - Loss: 0.35698917508125305 - Accuracy: 84.40366983413696%\n",
            "> Fold 6 - Loss: 0.47559353709220886 - Accuracy: 78.899085521698%\n",
            "> Fold 7 - Loss: 0.3228831887245178 - Accuracy: 82.56880640983582%\n",
            "------------------------------------------------------------------------\n",
            "Average scores for all folds:\n",
            "> Accuracy: 84.43941388811383 (+- 3.273450497239789)\n",
            "> Loss: 0.35210574311869486\n",
            "------------------------------------------------------------------------\n"
          ],
          "name": "stdout"
        }
      ]
    },
    {
      "cell_type": "markdown",
      "metadata": {
        "id": "YQDKmJQ_kmdh",
        "colab_type": "text"
      },
      "source": [
        "## plot with train and test accuracy"
      ]
    },
    {
      "cell_type": "code",
      "metadata": {
        "id": "mi0f_JObgC4C",
        "colab_type": "code",
        "outputId": "e0598f11-ebd2-499e-a7b7-c9e835ca231f",
        "colab": {
          "base_uri": "https://localhost:8080/",
          "height": 295
        }
      },
      "source": [
        "import matplotlib.pyplot as plt\n",
        "plt.plot(history.history['accuracy'])\n",
        "plt.plot(history.history['val_accuracy'])\n",
        "plt.title('model accuracy')\n",
        "plt.ylabel('accuracy')\n",
        "plt.xlabel('epoch')\n",
        "plt.ylim(0,1)\n",
        "plt.legend(['train', 'test'], loc='upper left')\n",
        "plt.show()"
      ],
      "execution_count": 37,
      "outputs": [
        {
          "output_type": "display_data",
          "data": {
            "image/png": "[encoded data removed]",
            "text/plain": [
              "<Figure size 432x288 with 1 Axes>"
            ]
          },
          "metadata": {
            "tags": [],
            "needs_background": "light"
          }
        }
      ]
    },
    {
      "cell_type": "code",
      "metadata": {
        "colab_type": "code",
        "outputId": "bd043086-eb9d-408d-c345-babf93856a6e",
        "id": "MZqTTLklFGp6",
        "colab": {
          "base_uri": "https://localhost:8080/",
          "height": 295
        }
      },
      "source": [
        "import matplotlib.pyplot as plt\n",
        "plt.plot(history.history['loss'])\n",
        "plt.plot(history.history['val_loss'])\n",
        "plt.title('model loss')\n",
        "plt.ylabel('loss')\n",
        "plt.xlabel('epoch')\n",
        "\n",
        "plt.legend(['train', 'test'], loc='upper left')\n",
        "plt.show()"
      ],
      "execution_count": 38,
      "outputs": [
        {
          "output_type": "display_data",
          "data": {
            "image/png": "[encoded data removed]",
            "text/plain": [
              "<Figure size 432x288 with 1 Axes>"
            ]
          },
          "metadata": {
            "tags": [],
            "needs_background": "light"
          }
        }
      ]
    },
    {
      "cell_type": "markdown",
      "metadata": {
        "id": "W7jx7N_ZwHgm",
        "colab_type": "text"
      },
      "source": [
        "Confusion matrix "
      ]
    },
    {
      "cell_type": "code",
      "metadata": {
        "id": "gWH11sjmwJ4P",
        "colab_type": "code",
        "outputId": "b04a3934-92ba-4444-8615-fa28c0c12e0d",
        "colab": {
          "base_uri": "https://localhost:8080/",
          "height": 282
        }
      },
      "source": [
        "X_conf_matrix = X.iloc[test]\n",
        "y_conf_matrix = y.iloc[test]\n",
        "predicted_conf_matrix = model.predict_classes(X_conf_matrix)\n",
        "\n",
        "conf_matrix = confusion_matrix(y_conf_matrix.values.argmax(axis=1), predicted_conf_matrix)\n",
        "sns.heatmap(conf_matrix, annot=True, fmt=\"d\")"
      ],
      "execution_count": 39,
      "outputs": [
        {
          "output_type": "execute_result",
          "data": {
            "text/plain": [
              "<matplotlib.axes._subplots.AxesSubplot at 0x7f6a33ebbdd8>"
            ]
          },
          "metadata": {
            "tags": []
          },
          "execution_count": 39
        },
        {
          "output_type": "display_data",
          "data": {
            "image/png": "[encoded data removed]",
            "text/plain": [
              "<Figure size 432x288 with 2 Axes>"
            ]
          },
          "metadata": {
            "tags": [],
            "needs_background": "light"
          }
        }
      ]
    },
    {
      "cell_type": "markdown",
      "metadata": {
        "id": "RwVgSUc6uC6Y",
        "colab_type": "text"
      },
      "source": [
        "### Save model \n"
      ]
    },
    {
      "cell_type": "code",
      "metadata": {
        "id": "Z2XZ1N0JuIop",
        "colab_type": "code",
        "colab": {}
      },
      "source": [
        "model.save('featureModelPlPresup.h5')"
      ],
      "execution_count": 0,
      "outputs": []
    },
    {
      "cell_type": "markdown",
      "metadata": {
        "id": "ey04c2ykpMf6",
        "colab_type": "text"
      },
      "source": [
        "## Check RANDOM FOREST Classifier"
      ]
    },
    {
      "cell_type": "code",
      "metadata": {
        "id": "WkLf7YkgpiMc",
        "colab_type": "code",
        "colab": {}
      },
      "source": [
        "from sklearn.ensemble import RandomForestClassifier"
      ],
      "execution_count": 0,
      "outputs": []
    },
    {
      "cell_type": "code",
      "metadata": {
        "id": "qLVy_y00pm_s",
        "colab_type": "code",
        "colab": {}
      },
      "source": [
        "random_forest = RandomForestClassifier(\n",
        "    n_estimators = 2000, \n",
        ")"
      ],
      "execution_count": 0,
      "outputs": []
    },
    {
      "cell_type": "code",
      "metadata": {
        "id": "psCPtOdbpPzU",
        "colab_type": "code",
        "outputId": "f95bdd3e-0597-41a2-dfa8-daea97dd1480",
        "colab": {
          "base_uri": "https://localhost:8080/",
          "height": 153
        }
      },
      "source": [
        " X_train, X_test, y_train, y_test = train_test_split(X, ml_classifier_labels, test_size=0.33, random_state=42)\n",
        "random_forest.fit(X_train, y_train)"
      ],
      "execution_count": 43,
      "outputs": [
        {
          "output_type": "execute_result",
          "data": {
            "text/plain": [
              "RandomForestClassifier(bootstrap=True, ccp_alpha=0.0, class_weight=None,\n",
              "                       criterion='gini', max_depth=None, max_features='auto',\n",
              "                       max_leaf_nodes=None, max_samples=None,\n",
              "                       min_impurity_decrease=0.0, min_impurity_split=None,\n",
              "                       min_samples_leaf=1, min_samples_split=2,\n",
              "                       min_weight_fraction_leaf=0.0, n_estimators=2000,\n",
              "                       n_jobs=None, oob_score=False, random_state=None,\n",
              "                       verbose=0, warm_start=False)"
            ]
          },
          "metadata": {
            "tags": []
          },
          "execution_count": 43
        }
      ]
    },
    {
      "cell_type": "code",
      "metadata": {
        "id": "r7eal1FbzzLu",
        "colab_type": "code",
        "outputId": "8c277d08-c38e-4d63-f837-4516d3fb2c95",
        "colab": {
          "base_uri": "https://localhost:8080/",
          "height": 350
        }
      },
      "source": [
        "predict = random_forest.predict(X_test)\n",
        "print(predict.shape)\n",
        "print(np.unique(predict))\n",
        "print(y_test.shape)\n",
        "print(np.unique(y_test, return_counts = True))\n",
        "conf_matrix = confusion_matrix(y_test, predict)\n",
        "sns.heatmap(conf_matrix, annot=True, fmt=\"d\")"
      ],
      "execution_count": 44,
      "outputs": [
        {
          "output_type": "stream",
          "text": [
            "(253,)\n",
            "['no' 'yes']\n",
            "(253,)\n",
            "(array(['no', 'yes'], dtype=object), array([ 97, 156]))\n"
          ],
          "name": "stdout"
        },
        {
          "output_type": "execute_result",
          "data": {
            "text/plain": [
              "<matplotlib.axes._subplots.AxesSubplot at 0x7f6a33c99a90>"
            ]
          },
          "metadata": {
            "tags": []
          },
          "execution_count": 44
        },
        {
          "output_type": "display_data",
          "data": {
            "image/png": "[encoded data removed]",
            "text/plain": [
              "<Figure size 432x288 with 2 Axes>"
            ]
          },
          "metadata": {
            "tags": [],
            "needs_background": "light"
          }
        }
      ]
    },
    {
      "cell_type": "code",
      "metadata": {
        "id": "LO2MtVpmqexD",
        "colab_type": "code",
        "outputId": "1132e8ac-99cf-41a7-8c53-35d8ba8c7219",
        "colab": {
          "base_uri": "https://localhost:8080/",
          "height": 34
        }
      },
      "source": [
        "random_forest.score(X_test, y_test)"
      ],
      "execution_count": 45,
      "outputs": [
        {
          "output_type": "execute_result",
          "data": {
            "text/plain": [
              "0.8142292490118577"
            ]
          },
          "metadata": {
            "tags": []
          },
          "execution_count": 45
        }
      ]
    }
  ]
}