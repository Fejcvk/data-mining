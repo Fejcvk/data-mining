{
  "nbformat": 4,
  "nbformat_minor": 0,
  "metadata": {
    "colab": {
      "name": "SecondModelEnglishDataset.ipynb",
      "provenance": [],
      "collapsed_sections": [],
      "toc_visible": true
    },
    "kernelspec": {
      "name": "python3",
      "display_name": "Python 3"
    }
  },
  "cells": [
    {
      "cell_type": "markdown",
      "metadata": {
        "id": "3HJfGRjHi_Yq",
        "colab_type": "text"
      },
      "source": [
        "# Model based on sentence features\n",
        "***\n",
        "Libraries:"
      ]
    },
    {
      "cell_type": "code",
      "metadata": {
        "id": "wQH-5eAsLAiz",
        "colab_type": "code",
        "outputId": "df98810e-476a-4355-ddf6-0aa5e7ee6cfe",
        "colab": {
          "base_uri": "https://localhost:8080/",
          "height": 408
        }
      },
      "source": [
        "!pip install transformers\n",
        "!pip install -q pyyaml h5py\n",
        "import pandas as pd\n",
        "from transformers import *\n",
        "import numpy as np\n",
        "from sklearn.model_selection import train_test_split\n"
      ],
      "execution_count": 26,
      "outputs": [
        {
          "output_type": "stream",
          "text": [
            "Requirement already satisfied: transformers in /usr/local/lib/python3.6/dist-packages (2.8.0)\n",
            "Requirement already satisfied: dataclasses; python_version < \"3.7\" in /usr/local/lib/python3.6/dist-packages (from transformers) (0.7)\n",
            "Requirement already satisfied: boto3 in /usr/local/lib/python3.6/dist-packages (from transformers) (1.12.46)\n",
            "Requirement already satisfied: regex!=2019.12.17 in /usr/local/lib/python3.6/dist-packages (from transformers) (2019.12.20)\n",
            "Requirement already satisfied: requests in /usr/local/lib/python3.6/dist-packages (from transformers) (2.21.0)\n",
            "Requirement already satisfied: filelock in /usr/local/lib/python3.6/dist-packages (from transformers) (3.0.12)\n",
            "Requirement already satisfied: tqdm>=4.27 in /usr/local/lib/python3.6/dist-packages (from transformers) (4.38.0)\n",
            "Requirement already satisfied: sacremoses in /usr/local/lib/python3.6/dist-packages (from transformers) (0.0.41)\n",
            "Requirement already satisfied: numpy in /usr/local/lib/python3.6/dist-packages (from transformers) (1.18.3)\n",
            "Requirement already satisfied: sentencepiece in /usr/local/lib/python3.6/dist-packages (from transformers) (0.1.86)\n",
            "Requirement already satisfied: tokenizers==0.5.2 in /usr/local/lib/python3.6/dist-packages (from transformers) (0.5.2)\n",
            "Requirement already satisfied: botocore<1.16.0,>=1.15.46 in /usr/local/lib/python3.6/dist-packages (from boto3->transformers) (1.15.46)\n",
            "Requirement already satisfied: jmespath<1.0.0,>=0.7.1 in /usr/local/lib/python3.6/dist-packages (from boto3->transformers) (0.9.5)\n",
            "Requirement already satisfied: s3transfer<0.4.0,>=0.3.0 in /usr/local/lib/python3.6/dist-packages (from boto3->transformers) (0.3.3)\n",
            "Requirement already satisfied: certifi>=2017.4.17 in /usr/local/lib/python3.6/dist-packages (from requests->transformers) (2020.4.5.1)\n",
            "Requirement already satisfied: urllib3<1.25,>=1.21.1 in /usr/local/lib/python3.6/dist-packages (from requests->transformers) (1.24.3)\n",
            "Requirement already satisfied: idna<2.9,>=2.5 in /usr/local/lib/python3.6/dist-packages (from requests->transformers) (2.8)\n",
            "Requirement already satisfied: chardet<3.1.0,>=3.0.2 in /usr/local/lib/python3.6/dist-packages (from requests->transformers) (3.0.4)\n",
            "Requirement already satisfied: joblib in /usr/local/lib/python3.6/dist-packages (from sacremoses->transformers) (0.14.1)\n",
            "Requirement already satisfied: click in /usr/local/lib/python3.6/dist-packages (from sacremoses->transformers) (7.1.1)\n",
            "Requirement already satisfied: six in /usr/local/lib/python3.6/dist-packages (from sacremoses->transformers) (1.12.0)\n",
            "Requirement already satisfied: python-dateutil<3.0.0,>=2.1 in /usr/local/lib/python3.6/dist-packages (from botocore<1.16.0,>=1.15.46->boto3->transformers) (2.8.1)\n",
            "Requirement already satisfied: docutils<0.16,>=0.10 in /usr/local/lib/python3.6/dist-packages (from botocore<1.16.0,>=1.15.46->boto3->transformers) (0.15.2)\n"
          ],
          "name": "stdout"
        }
      ]
    },
    {
      "cell_type": "markdown",
      "metadata": {
        "id": "6WQzx8FvjYPs",
        "colab_type": "text"
      },
      "source": [
        "## Data preprocessing \n",
        "- reading data \n",
        "- change columns names \n",
        "- drop NaN rows \n",
        "- fill others NaN values by special sign"
      ]
    },
    {
      "cell_type": "code",
      "metadata": {
        "id": "pC-SuQGTLnrB",
        "colab_type": "code",
        "outputId": "7aebb65f-2099-4e46-ae50-9fa7ea71d00a",
        "colab": {
          "base_uri": "https://localhost:8080/",
          "height": 204
        }
      },
      "source": [
        "df = pd.read_excel('englishOriginalDataset.xlsx')\n",
        "df.reset_index()\n",
        "df = df.iloc[:,[2,3,5,8,9,11,12,13]]\n",
        "df.columns = [\"verb_veridial_positive\",\n",
        "              \"verb_veridical_negative\",\n",
        "              \"semantic_characteristic\",\n",
        "              \"standford_signature_for_that\",\n",
        "              \"standford_signature_for_to\",\n",
        "              \"complementizer\",\n",
        "              \"verb_tense\",\n",
        "              \"semantic_relation\"]\n",
        "df.dropna(inplace=True, axis = 0, how = 'all')\n",
        "df.fillna(axis = 0, inplace =True, value=\"none\")\n",
        "df.head()"
      ],
      "execution_count": 42,
      "outputs": [
        {
          "output_type": "execute_result",
          "data": {
            "text/html": [
              "<div>\n",
              "<style scoped>\n",
              "    .dataframe tbody tr th:only-of-type {\n",
              "        vertical-align: middle;\n",
              "    }\n",
              "\n",
              "    .dataframe tbody tr th {\n",
              "        vertical-align: top;\n",
              "    }\n",
              "\n",
              "    .dataframe thead th {\n",
              "        text-align: right;\n",
              "    }\n",
              "</style>\n",
              "<table border=\"1\" class=\"dataframe\">\n",
              "  <thead>\n",
              "    <tr style=\"text-align: right;\">\n",
              "      <th></th>\n",
              "      <th>verb_veridial_positive</th>\n",
              "      <th>verb_veridical_negative</th>\n",
              "      <th>semantic_characteristic</th>\n",
              "      <th>standford_signature_for_that</th>\n",
              "      <th>standford_signature_for_to</th>\n",
              "      <th>complementizer</th>\n",
              "      <th>verb_tense</th>\n",
              "      <th>semantic_relation</th>\n",
              "    </tr>\n",
              "  </thead>\n",
              "  <tbody>\n",
              "    <tr>\n",
              "      <th>0</th>\n",
              "      <td>o</td>\n",
              "      <td>o</td>\n",
              "      <td>epistemiczny</td>\n",
              "      <td>o/o</td>\n",
              "      <td>none</td>\n",
              "      <td>that</td>\n",
              "      <td>present</td>\n",
              "      <td>N</td>\n",
              "    </tr>\n",
              "    <tr>\n",
              "      <th>1</th>\n",
              "      <td>o</td>\n",
              "      <td>o</td>\n",
              "      <td>emotywny</td>\n",
              "      <td>none</td>\n",
              "      <td>none</td>\n",
              "      <td>that</td>\n",
              "      <td>present</td>\n",
              "      <td>N</td>\n",
              "    </tr>\n",
              "    <tr>\n",
              "      <th>2</th>\n",
              "      <td>o</td>\n",
              "      <td>o</td>\n",
              "      <td>mówienia</td>\n",
              "      <td>nie ma</td>\n",
              "      <td>none</td>\n",
              "      <td>that</td>\n",
              "      <td>present</td>\n",
              "      <td>N</td>\n",
              "    </tr>\n",
              "    <tr>\n",
              "      <th>3</th>\n",
              "      <td>o</td>\n",
              "      <td>o</td>\n",
              "      <td>epistemiczny</td>\n",
              "      <td>o/o</td>\n",
              "      <td>none</td>\n",
              "      <td>that</td>\n",
              "      <td>present</td>\n",
              "      <td>N</td>\n",
              "    </tr>\n",
              "    <tr>\n",
              "      <th>4</th>\n",
              "      <td>o</td>\n",
              "      <td>o</td>\n",
              "      <td>epistemiczny</td>\n",
              "      <td>nie ma</td>\n",
              "      <td>none</td>\n",
              "      <td>that</td>\n",
              "      <td>past</td>\n",
              "      <td>E</td>\n",
              "    </tr>\n",
              "  </tbody>\n",
              "</table>\n",
              "</div>"
            ],
            "text/plain": [
              "  verb_veridial_positive verb_veridical_negative  ... verb_tense semantic_relation\n",
              "0                      o                       o  ...    present                 N\n",
              "1                      o                       o  ...    present                 N\n",
              "2                      o                       o  ...    present                 N\n",
              "3                      o                       o  ...    present                 N\n",
              "4                      o                       o  ...       past                 E\n",
              "\n",
              "[5 rows x 8 columns]"
            ]
          },
          "metadata": {
            "tags": []
          },
          "execution_count": 42
        }
      ]
    },
    {
      "cell_type": "markdown",
      "metadata": {
        "id": "94rQMkhukBCp",
        "colab_type": "text"
      },
      "source": [
        "### cleaning data by deleting uncertainty - simplification \n"
      ]
    },
    {
      "cell_type": "code",
      "metadata": {
        "id": "OnfM4fytjyde",
        "colab_type": "code",
        "outputId": "62d275ed-bf1f-4cf5-e6ee-9a64b72fa3e7",
        "colab": {
          "base_uri": "https://localhost:8080/",
          "height": 204
        }
      },
      "source": [
        "#verb veridical positive cleaning\n",
        "df.verb_veridial_positive = df.verb_veridial_positive.apply(lambda x: '+' if '+' in x else x)\n",
        "df.verb_veridial_positive = df.verb_veridial_positive.apply(lambda x: '-' if '-' in x else x)\n",
        "df.verb_veridial_positive = df.verb_veridial_positive.apply(lambda x: 'o' if 'o' in x else x)\n",
        "df.verb_veridial_positive = df.verb_veridial_positive.apply(lambda x: '?' if '?' in x else x)\n",
        "\n",
        "#verb veridical negative cleaning\n",
        "df.verb_veridical_negative = df.verb_veridical_negative.apply(lambda x: '+' if '+' in x else x)\n",
        "df.verb_veridical_negative = df.verb_veridical_negative.apply(lambda x: 'o' if 'o' in x else x)\n",
        "df.verb_veridical_negative = df.verb_veridical_negative.apply(lambda x: '-' if '-' in x else x)\n",
        "df.verb_veridical_negative = df.verb_veridical_negative.apply(lambda x: '1' if '1' in x else x)\n",
        "df.verb_veridical_negative = df.verb_veridical_negative.apply(lambda x: '?' if '?' in x else x)\n",
        "\n",
        "#df.semantic_characteristic.unique() cleaning not needed\n",
        "#df.standford_signature_for_that.unique() cleaning not needed\n",
        "#df.standford_signature_for_to.unique() cleaning not needed\n",
        "#df.complementizer.unique() cleaning not needed\n",
        "\n",
        "#df.verb_tense cleaning\n",
        "df.verb_tense = df.verb_tense.apply(lambda x: 'present' if 'present' in x else x)\n",
        "df.verb_tense = df.verb_tense.apply(lambda x: 'past' if 'past' in x else x)\n",
        "df.verb_tense = df.verb_tense.apply(lambda x: 'future' if 'future' in x else x)\n",
        "df.verb_tense = df.verb_tense.apply(lambda x: 'none' if 'none' in x else x)\n",
        "df.verb_tense = df.verb_tense.apply(lambda x: '?' if '?' in x else x)\n",
        "\n",
        "df.head()"
      ],
      "execution_count": 43,
      "outputs": [
        {
          "output_type": "execute_result",
          "data": {
            "text/html": [
              "<div>\n",
              "<style scoped>\n",
              "    .dataframe tbody tr th:only-of-type {\n",
              "        vertical-align: middle;\n",
              "    }\n",
              "\n",
              "    .dataframe tbody tr th {\n",
              "        vertical-align: top;\n",
              "    }\n",
              "\n",
              "    .dataframe thead th {\n",
              "        text-align: right;\n",
              "    }\n",
              "</style>\n",
              "<table border=\"1\" class=\"dataframe\">\n",
              "  <thead>\n",
              "    <tr style=\"text-align: right;\">\n",
              "      <th></th>\n",
              "      <th>verb_veridial_positive</th>\n",
              "      <th>verb_veridical_negative</th>\n",
              "      <th>semantic_characteristic</th>\n",
              "      <th>standford_signature_for_that</th>\n",
              "      <th>standford_signature_for_to</th>\n",
              "      <th>complementizer</th>\n",
              "      <th>verb_tense</th>\n",
              "      <th>semantic_relation</th>\n",
              "    </tr>\n",
              "  </thead>\n",
              "  <tbody>\n",
              "    <tr>\n",
              "      <th>0</th>\n",
              "      <td>o</td>\n",
              "      <td>o</td>\n",
              "      <td>epistemiczny</td>\n",
              "      <td>o/o</td>\n",
              "      <td>none</td>\n",
              "      <td>that</td>\n",
              "      <td>present</td>\n",
              "      <td>N</td>\n",
              "    </tr>\n",
              "    <tr>\n",
              "      <th>1</th>\n",
              "      <td>o</td>\n",
              "      <td>o</td>\n",
              "      <td>emotywny</td>\n",
              "      <td>none</td>\n",
              "      <td>none</td>\n",
              "      <td>that</td>\n",
              "      <td>present</td>\n",
              "      <td>N</td>\n",
              "    </tr>\n",
              "    <tr>\n",
              "      <th>2</th>\n",
              "      <td>o</td>\n",
              "      <td>o</td>\n",
              "      <td>mówienia</td>\n",
              "      <td>nie ma</td>\n",
              "      <td>none</td>\n",
              "      <td>that</td>\n",
              "      <td>present</td>\n",
              "      <td>N</td>\n",
              "    </tr>\n",
              "    <tr>\n",
              "      <th>3</th>\n",
              "      <td>o</td>\n",
              "      <td>o</td>\n",
              "      <td>epistemiczny</td>\n",
              "      <td>o/o</td>\n",
              "      <td>none</td>\n",
              "      <td>that</td>\n",
              "      <td>present</td>\n",
              "      <td>N</td>\n",
              "    </tr>\n",
              "    <tr>\n",
              "      <th>4</th>\n",
              "      <td>o</td>\n",
              "      <td>o</td>\n",
              "      <td>epistemiczny</td>\n",
              "      <td>nie ma</td>\n",
              "      <td>none</td>\n",
              "      <td>that</td>\n",
              "      <td>past</td>\n",
              "      <td>E</td>\n",
              "    </tr>\n",
              "  </tbody>\n",
              "</table>\n",
              "</div>"
            ],
            "text/plain": [
              "  verb_veridial_positive verb_veridical_negative  ... verb_tense semantic_relation\n",
              "0                      o                       o  ...    present                 N\n",
              "1                      o                       o  ...    present                 N\n",
              "2                      o                       o  ...    present                 N\n",
              "3                      o                       o  ...    present                 N\n",
              "4                      o                       o  ...       past                 E\n",
              "\n",
              "[5 rows x 8 columns]"
            ]
          },
          "metadata": {
            "tags": []
          },
          "execution_count": 43
        }
      ]
    },
    {
      "cell_type": "code",
      "metadata": {
        "id": "09oFxOcRnZEc",
        "colab_type": "code",
        "outputId": "162eaa0b-7063-47e4-b61c-44b603943455",
        "colab": {
          "base_uri": "https://localhost:8080/",
          "height": 221
        }
      },
      "source": [
        "print(df.verb_veridial_positive.unique())\n",
        "print(df.verb_veridical_negative.unique())\n",
        "print(df.semantic_characteristic.unique())\n",
        "print(df.standford_signature_for_that.unique())\n",
        "print(df.standford_signature_for_to.unique())\n",
        "print(df.complementizer.unique())\n",
        "print(df.verb_tense.unique())\n",
        "print(df.semantic_relation.unique())"
      ],
      "execution_count": 44,
      "outputs": [
        {
          "output_type": "stream",
          "text": [
            "['o' '+' '-' '?']\n",
            "['o' '+' '-' '?' '1']\n",
            "['epistemiczny' 'emotywny' 'mówienia' 'ontyczny' 'wynikania'\n",
            " 'określające dostęp do wiedzy' 'percepcyjny' 'pamięciowy' 'odkrycia'\n",
            " 'czynnościowy' 'epistemiczno-percepcyjny' 'pokazywania' 'dowodzenia'\n",
            " 'mówieniowo-pamięciowy' 'liczenia' 'wnioskowania'\n",
            " 'percepcyjno-mówieniowy' 'zdarzeniowy']\n",
            "['o/o' 'none' 'nie ma' '\"+/o\"' '\"+/+\"' 'o/+']\n",
            "['none' 'o/o']\n",
            "['that' 'to']\n",
            "['present' 'past' 'none' 'future' '?']\n",
            "['N' 'E' '?' 'C']\n"
          ],
          "name": "stdout"
        }
      ]
    },
    {
      "cell_type": "code",
      "metadata": {
        "id": "qNUe-X4_gqmL",
        "colab_type": "code",
        "colab": {}
      },
      "source": [
        "df.to_csv(\"engData.csv\", index=False)"
      ],
      "execution_count": 0,
      "outputs": []
    },
    {
      "cell_type": "markdown",
      "metadata": {
        "id": "MIX0AGcQkGG5",
        "colab_type": "text"
      },
      "source": [
        "### vectorize data and split to features and target"
      ]
    },
    {
      "cell_type": "markdown",
      "metadata": {
        "id": "YokPfvoJxWoR",
        "colab_type": "text"
      },
      "source": [
        "##### Vectorize (one =hot encoding)"
      ]
    },
    {
      "cell_type": "code",
      "metadata": {
        "id": "5r7NRdcwkIX5",
        "colab_type": "code",
        "colab": {}
      },
      "source": [
        "df = pd.get_dummies(df)"
      ],
      "execution_count": 0,
      "outputs": []
    },
    {
      "cell_type": "markdown",
      "metadata": {
        "id": "q9f1MRWJxhBA",
        "colab_type": "text"
      },
      "source": [
        "##### Split to features and target"
      ]
    },
    {
      "cell_type": "code",
      "metadata": {
        "id": "qp6eOyEdxlMO",
        "colab_type": "code",
        "colab": {}
      },
      "source": [
        "X = df.iloc[:,0:-4]\n",
        "y = df.iloc[:,-4:]"
      ],
      "execution_count": 0,
      "outputs": []
    },
    {
      "cell_type": "markdown",
      "metadata": {
        "id": "KjQvT5PtxsFz",
        "colab_type": "text"
      },
      "source": [
        "##### Features columns"
      ]
    },
    {
      "cell_type": "code",
      "metadata": {
        "id": "yLqFLidq0YLV",
        "colab_type": "code",
        "outputId": "ee7a9055-6045-40da-c9fc-3bee1f43ee90",
        "colab": {
          "base_uri": "https://localhost:8080/",
          "height": 527
        }
      },
      "source": [
        "X.columns"
      ],
      "execution_count": 32,
      "outputs": [
        {
          "output_type": "execute_result",
          "data": {
            "text/plain": [
              "Index(['verb_veridial_positive_+', 'verb_veridial_positive_-',\n",
              "       'verb_veridial_positive_?', 'verb_veridial_positive_o',\n",
              "       'verb_veridical_negative_+', 'verb_veridical_negative_-',\n",
              "       'verb_veridical_negative_1', 'verb_veridical_negative_?',\n",
              "       'verb_veridical_negative_o', 'semantic_characteristic_czynnościowy',\n",
              "       'semantic_characteristic_dowodzenia',\n",
              "       'semantic_characteristic_emotywny',\n",
              "       'semantic_characteristic_epistemiczno-percepcyjny',\n",
              "       'semantic_characteristic_epistemiczny',\n",
              "       'semantic_characteristic_liczenia', 'semantic_characteristic_mówienia',\n",
              "       'semantic_characteristic_mówieniowo-pamięciowy',\n",
              "       'semantic_characteristic_odkrycia',\n",
              "       'semantic_characteristic_określające dostęp do wiedzy',\n",
              "       'semantic_characteristic_ontyczny',\n",
              "       'semantic_characteristic_pamięciowy',\n",
              "       'semantic_characteristic_percepcyjno-mówieniowy',\n",
              "       'semantic_characteristic_percepcyjny',\n",
              "       'semantic_characteristic_pokazywania',\n",
              "       'semantic_characteristic_wnioskowania',\n",
              "       'semantic_characteristic_wynikania',\n",
              "       'semantic_characteristic_zdarzeniowy',\n",
              "       'standford_signature_for_that_\"+/+\"',\n",
              "       'standford_signature_for_that_\"+/o\"',\n",
              "       'standford_signature_for_that_nie ma',\n",
              "       'standford_signature_for_that_none', 'standford_signature_for_that_o/+',\n",
              "       'standford_signature_for_that_o/o', 'standford_signature_for_to_none',\n",
              "       'standford_signature_for_to_o/o', 'complementizer_that',\n",
              "       'complementizer_to', 'verb_tense_?', 'verb_tense_future',\n",
              "       'verb_tense_none', 'verb_tense_past', 'verb_tense_present'],\n",
              "      dtype='object')"
            ]
          },
          "metadata": {
            "tags": []
          },
          "execution_count": 32
        }
      ]
    },
    {
      "cell_type": "markdown",
      "metadata": {
        "id": "v4896Jynxyew",
        "colab_type": "text"
      },
      "source": [
        "##### Target columns"
      ]
    },
    {
      "cell_type": "code",
      "metadata": {
        "id": "AxEJ6K-fxkTU",
        "colab_type": "code",
        "outputId": "43ad8e46-bc03-42e2-f03c-e63474238e49",
        "colab": {
          "base_uri": "https://localhost:8080/",
          "height": 68
        }
      },
      "source": [
        "y.columns"
      ],
      "execution_count": 33,
      "outputs": [
        {
          "output_type": "execute_result",
          "data": {
            "text/plain": [
              "Index(['semantic_relation_?', 'semantic_relation_C', 'semantic_relation_E',\n",
              "       'semantic_relation_N'],\n",
              "      dtype='object')"
            ]
          },
          "metadata": {
            "tags": []
          },
          "execution_count": 33
        }
      ]
    },
    {
      "cell_type": "markdown",
      "metadata": {
        "id": "_jmoU__ZsXtC",
        "colab_type": "text"
      },
      "source": [
        "#### k-fold crossvalidation preparing"
      ]
    },
    {
      "cell_type": "code",
      "metadata": {
        "id": "QUp3OdBNsdn5",
        "colab_type": "code",
        "colab": {}
      },
      "source": [
        "k=7\n",
        "from sklearn.model_selection import KFold\n",
        "kfold = KFold(n_splits = k, shuffle=True)\n",
        "\n",
        "acc_per_fold = []\n",
        "loss_per_fold = [] "
      ],
      "execution_count": 0,
      "outputs": []
    },
    {
      "cell_type": "markdown",
      "metadata": {
        "id": "9Xi8QfyAkbiN",
        "colab_type": "text"
      },
      "source": [
        "***\n",
        "# Keras model building"
      ]
    },
    {
      "cell_type": "code",
      "metadata": {
        "id": "amhvtjnZQwhz",
        "colab_type": "code",
        "colab": {}
      },
      "source": [
        "import tensorflow as tf \n",
        "from tensorflow import keras\n",
        "from tensorflow.keras import layers\n",
        "from tensorflow.keras.layers import Dense"
      ],
      "execution_count": 0,
      "outputs": []
    },
    {
      "cell_type": "markdown",
      "metadata": {
        "id": "88Dk3Nb91o44",
        "colab_type": "text"
      },
      "source": [
        "### Training with 7-crossvalidation."
      ]
    },
    {
      "cell_type": "code",
      "metadata": {
        "id": "YQA-dmJ5RL9y",
        "colab_type": "code",
        "outputId": "05046b1b-90fd-46a0-a4ed-6d35e0454a5b",
        "colab": {
          "base_uri": "https://localhost:8080/",
          "height": 153
        }
      },
      "source": [
        "fold_no = 1 \n",
        "\n",
        "#get number of columns in training data\n",
        "n_cols = X.shape[1]\n",
        "print(n_cols)\n",
        "\n",
        "for train, test in kfold.split(X,y):\n",
        "\n",
        "  # model architecture  \n",
        "  model = tf.keras.Sequential()\n",
        "  model.add(Dense(25, activation='relu', input_shape=(n_cols,)))\n",
        "  model.add(tf.keras.layers.Dropout(rate=0.3))\n",
        "  model.add(Dense(15, activation='relu'))\n",
        "  model.add(tf.keras.layers.Dropout(rate=0.3))\n",
        "  model.add(Dense(25, activation=keras.layers.LeakyReLU(alpha=0.3)))\n",
        "  model.add(tf.keras.layers.Dropout(rate=0.3))\n",
        "  model.add(Dense(4, activation='softmax'))\n",
        "\n",
        "  # model compile \n",
        "  model.compile(optimizer = 'adam', loss=\"categorical_crossentropy\", metrics = ['accuracy'])\n",
        "  \n",
        "  # training\n",
        "  history = model.fit(X.iloc[train], y.iloc[train], validation_split=0.2, epochs=70, verbose=0)\n",
        "\n",
        "  # scores \n",
        "  scores = model.evaluate(X.iloc[test], y.iloc[test], verbose=0)\n",
        "  print(f'Score for fold {fold_no}: {model.metrics_names[0]} of {scores[0]}; {model.metrics_names[1]} of {scores[1]*100}%')\n",
        "  acc_per_fold.append(scores[1] * 100)\n",
        "  loss_per_fold.append(scores[0])\n",
        "\n",
        "  # iterator up\n",
        "  fold_no = fold_no + 1"
      ],
      "execution_count": 36,
      "outputs": [
        {
          "output_type": "stream",
          "text": [
            "42\n",
            "Score for fold 1: loss of 0.5161721706390381; accuracy of 85.03184914588928%\n",
            "Score for fold 2: loss of 0.3742539584636688; accuracy of 89.80891704559326%\n",
            "Score for fold 3: loss of 0.3847586214542389; accuracy of 86.94267272949219%\n",
            "Score for fold 4: loss of 0.3498446047306061; accuracy of 91.40127301216125%\n",
            "Score for fold 5: loss of 0.4651866555213928; accuracy of 89.4568681716919%\n",
            "Score for fold 6: loss of 0.387212336063385; accuracy of 88.81788849830627%\n",
            "Score for fold 7: loss of 0.5044176578521729; accuracy of 83.70606899261475%\n"
          ],
          "name": "stdout"
        }
      ]
    },
    {
      "cell_type": "markdown",
      "metadata": {
        "id": "fZF1RHlg1v3X",
        "colab_type": "text"
      },
      "source": [
        "### Scores"
      ]
    },
    {
      "cell_type": "code",
      "metadata": {
        "id": "dh3V3QdWu0VG",
        "colab_type": "code",
        "colab": {
          "base_uri": "https://localhost:8080/",
          "height": 238
        },
        "outputId": "c288ca59-7f50-420f-d50c-f5f198a8dcbf"
      },
      "source": [
        "# == Provide average scores ==\n",
        "print('Score per fold:')\n",
        "for i in range(0, len(acc_per_fold)):\n",
        "  print(f'> Fold {i+1} - Loss: {loss_per_fold[i]} - Accuracy: {acc_per_fold[i]}%')\n",
        "print('------------------------------------------------------------------------')\n",
        "print('Average scores for all folds:')\n",
        "print(f'> Accuracy: {np.mean(acc_per_fold)} (+- {np.std(acc_per_fold)})')\n",
        "print(f'> Loss: {np.mean(loss_per_fold)}')\n",
        "print('------------------------------------------------------------------------')"
      ],
      "execution_count": 38,
      "outputs": [
        {
          "output_type": "stream",
          "text": [
            "Score per fold:\n",
            "> Fold 1 - Loss: 0.5161721706390381 - Accuracy: 85.03184914588928%\n",
            "> Fold 2 - Loss: 0.3742539584636688 - Accuracy: 89.80891704559326%\n",
            "> Fold 3 - Loss: 0.3847586214542389 - Accuracy: 86.94267272949219%\n",
            "> Fold 4 - Loss: 0.3498446047306061 - Accuracy: 91.40127301216125%\n",
            "> Fold 5 - Loss: 0.4651866555213928 - Accuracy: 89.4568681716919%\n",
            "> Fold 6 - Loss: 0.387212336063385 - Accuracy: 88.81788849830627%\n",
            "> Fold 7 - Loss: 0.5044176578521729 - Accuracy: 83.70606899261475%\n",
            "------------------------------------------------------------------------\n",
            "Average scores for all folds:\n",
            "> Accuracy: 87.88079108510699 (+- 2.5606493047834946)\n",
            "> Loss: 0.4259780006749289\n",
            "------------------------------------------------------------------------\n"
          ],
          "name": "stdout"
        }
      ]
    },
    {
      "cell_type": "markdown",
      "metadata": {
        "id": "YQDKmJQ_kmdh",
        "colab_type": "text"
      },
      "source": [
        "## plot with train and test accuracy"
      ]
    },
    {
      "cell_type": "code",
      "metadata": {
        "id": "mi0f_JObgC4C",
        "colab_type": "code",
        "outputId": "c45f3256-137e-4c61-e1a7-cdc634d02e91",
        "colab": {
          "base_uri": "https://localhost:8080/",
          "height": 295
        }
      },
      "source": [
        "import matplotlib.pyplot as plt\n",
        "plt.plot(history.history['accuracy'])\n",
        "plt.plot(history.history['val_accuracy'])\n",
        "plt.title('model accuracy')\n",
        "plt.ylabel('accuracy')\n",
        "plt.xlabel('epoch')\n",
        "plt.ylim(0,1)\n",
        "plt.legend(['train', 'test'], loc='upper left')\n",
        "plt.show()"
      ],
      "execution_count": 39,
      "outputs": [
        {
          "output_type": "display_data",
          "data": {
            "image/png": "[encoded data removed]",
            "text/plain": [
              "<Figure size 432x288 with 1 Axes>"
            ]
          },
          "metadata": {
            "tags": [],
            "needs_background": "light"
          }
        }
      ]
    },
    {
      "cell_type": "code",
      "metadata": {
        "colab_type": "code",
        "id": "8sdN3j6SEAnL",
        "outputId": "9160e94b-b732-4c08-a23c-323987165b70",
        "colab": {
          "base_uri": "https://localhost:8080/",
          "height": 295
        }
      },
      "source": [
        "import matplotlib.pyplot as plt\n",
        "plt.plot(history.history['loss'])\n",
        "plt.plot(history.history['val_loss'])\n",
        "plt.title('training loss')\n",
        "plt.ylabel('loss')\n",
        "plt.xlabel('epoch')\n",
        "plt.legend(['train', 'test'], loc='upper left')\n",
        "plt.show()"
      ],
      "execution_count": 40,
      "outputs": [
        {
          "output_type": "display_data",
          "data": {
            "image/png": "[encoded data removed]",
            "text/plain": [
              "<Figure size 432x288 with 1 Axes>"
            ]
          },
          "metadata": {
            "tags": [],
            "needs_background": "light"
          }
        }
      ]
    },
    {
      "cell_type": "markdown",
      "metadata": {
        "id": "RwVgSUc6uC6Y",
        "colab_type": "text"
      },
      "source": [
        "### Save model \n"
      ]
    },
    {
      "cell_type": "code",
      "metadata": {
        "id": "Z2XZ1N0JuIop",
        "colab_type": "code",
        "colab": {}
      },
      "source": [
        "model.save('featureModelEng.h5')"
      ],
      "execution_count": 0,
      "outputs": []
    }
  ]
}