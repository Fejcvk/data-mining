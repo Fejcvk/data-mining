{
  "nbformat": 4,
  "nbformat_minor": 0,
  "metadata": {
    "colab": {
      "name": "SecondModelPolishDataset.ipynb",
      "provenance": [],
      "collapsed_sections": [],
      "toc_visible": true
    },
    "kernelspec": {
      "name": "python3",
      "display_name": "Python 3"
    }
  },
  "cells": [
    {
      "cell_type": "markdown",
      "metadata": {
        "id": "i61b34AJ1zPY",
        "colab_type": "text"
      },
      "source": [
        "# Second model - Polish Dataset"
      ]
    },
    {
      "cell_type": "markdown",
      "metadata": {
        "id": "4R8arNJb14eM",
        "colab_type": "text"
      },
      "source": [
        "## Libraries"
      ]
    },
    {
      "cell_type": "code",
      "metadata": {
        "id": "QLg6EMKN2D0x",
        "colab_type": "code",
        "outputId": "4b2612a4-9781-4d56-a963-c9c3cae3d37d",
        "colab": {
          "base_uri": "https://localhost:8080/",
          "height": 785
        }
      },
      "source": [
        "!pip install transformers\n",
        "!pip install -q pyyaml h5py\n",
        "!pip install siuba\n",
        "import pandas as pd\n",
        "from transformers import *\n",
        "import numpy as np\n",
        "from sklearn.model_selection import train_test_split\n",
        "from siuba.dply.forcats import fct_lump, fct_reorder\n"
      ],
      "execution_count": 1,
      "outputs": [
        {
          "output_type": "stream",
          "text": [
            "Collecting transformers\n",
            "\u001b[?25l  Downloading https://files.pythonhosted.org/packages/cd/38/c9527aa055241c66c4d785381eaf6f80a28c224cae97daa1f8b183b5fabb/transformers-2.9.0-py3-none-any.whl (635kB)\n",
            "\u001b[K     |████████████████████████████████| 645kB 4.9MB/s \n",
            "\u001b[?25hCollecting sacremoses\n",
            "\u001b[?25l  Downloading https://files.pythonhosted.org/packages/7d/34/09d19aff26edcc8eb2a01bed8e98f13a1537005d31e95233fd48216eed10/sacremoses-0.0.43.tar.gz (883kB)\n",
            "\u001b[K     |████████████████████████████████| 890kB 21.8MB/s \n",
            "\u001b[?25hRequirement already satisfied: dataclasses; python_version < \"3.7\" in /usr/local/lib/python3.6/dist-packages (from transformers) (0.7)\n",
            "Requirement already satisfied: filelock in /usr/local/lib/python3.6/dist-packages (from transformers) (3.0.12)\n",
            "Collecting sentencepiece\n",
            "\u001b[?25l  Downloading https://files.pythonhosted.org/packages/98/2c/8df20f3ac6c22ac224fff307ebc102818206c53fc454ecd37d8ac2060df5/sentencepiece-0.1.86-cp36-cp36m-manylinux1_x86_64.whl (1.0MB)\n",
            "\u001b[K     |████████████████████████████████| 1.0MB 31.9MB/s \n",
            "\u001b[?25hRequirement already satisfied: regex!=2019.12.17 in /usr/local/lib/python3.6/dist-packages (from transformers) (2019.12.20)\n",
            "Collecting tokenizers==0.7.0\n",
            "\u001b[?25l  Downloading https://files.pythonhosted.org/packages/14/e5/a26eb4716523808bb0a799fcfdceb6ebf77a18169d9591b2f46a9adb87d9/tokenizers-0.7.0-cp36-cp36m-manylinux1_x86_64.whl (3.8MB)\n",
            "\u001b[K     |████████████████████████████████| 3.8MB 48.9MB/s \n",
            "\u001b[?25hRequirement already satisfied: tqdm>=4.27 in /usr/local/lib/python3.6/dist-packages (from transformers) (4.38.0)\n",
            "Requirement already satisfied: numpy in /usr/local/lib/python3.6/dist-packages (from transformers) (1.18.3)\n",
            "Requirement already satisfied: requests in /usr/local/lib/python3.6/dist-packages (from transformers) (2.23.0)\n",
            "Requirement already satisfied: six in /usr/local/lib/python3.6/dist-packages (from sacremoses->transformers) (1.12.0)\n",
            "Requirement already satisfied: click in /usr/local/lib/python3.6/dist-packages (from sacremoses->transformers) (7.1.2)\n",
            "Requirement already satisfied: joblib in /usr/local/lib/python3.6/dist-packages (from sacremoses->transformers) (0.14.1)\n",
            "Requirement already satisfied: idna<3,>=2.5 in /usr/local/lib/python3.6/dist-packages (from requests->transformers) (2.9)\n",
            "Requirement already satisfied: urllib3!=1.25.0,!=1.25.1,<1.26,>=1.21.1 in /usr/local/lib/python3.6/dist-packages (from requests->transformers) (1.24.3)\n",
            "Requirement already satisfied: chardet<4,>=3.0.2 in /usr/local/lib/python3.6/dist-packages (from requests->transformers) (3.0.4)\n",
            "Requirement already satisfied: certifi>=2017.4.17 in /usr/local/lib/python3.6/dist-packages (from requests->transformers) (2020.4.5.1)\n",
            "Building wheels for collected packages: sacremoses\n",
            "  Building wheel for sacremoses (setup.py) ... \u001b[?25l\u001b[?25hdone\n",
            "  Created wheel for sacremoses: filename=sacremoses-0.0.43-cp36-none-any.whl size=893260 sha256=9da3d1632cd5e39b730b9f591f411407eed30550603831e4a53bdd550829119c\n",
            "  Stored in directory: /root/.cache/pip/wheels/29/3c/fd/7ce5c3f0666dab31a50123635e6fb5e19ceb42ce38d4e58f45\n",
            "Successfully built sacremoses\n",
            "Installing collected packages: sacremoses, sentencepiece, tokenizers, transformers\n",
            "Successfully installed sacremoses-0.0.43 sentencepiece-0.1.86 tokenizers-0.7.0 transformers-2.9.0\n",
            "Collecting siuba\n",
            "\u001b[?25l  Downloading https://files.pythonhosted.org/packages/43/65/73d5c3c8f8814ec56926d529b576a64413513873d373206734b9b3fd1bc4/siuba-0.0.19-py3-none-any.whl (99kB)\n",
            "\u001b[K     |████████████████████████████████| 102kB 3.1MB/s \n",
            "\u001b[?25hRequirement already satisfied: numpy>=1.12.0 in /usr/local/lib/python3.6/dist-packages (from siuba) (1.18.3)\n",
            "Requirement already satisfied: PyYAML>=3.0.0 in /usr/local/lib/python3.6/dist-packages (from siuba) (3.13)\n",
            "Requirement already satisfied: SQLAlchemy>=1.1.18 in /usr/local/lib/python3.6/dist-packages (from siuba) (1.3.16)\n",
            "Requirement already satisfied: pandas>=0.24.0 in /usr/local/lib/python3.6/dist-packages (from siuba) (1.0.3)\n",
            "Requirement already satisfied: python-dateutil>=2.6.1 in /usr/local/lib/python3.6/dist-packages (from pandas>=0.24.0->siuba) (2.8.1)\n",
            "Requirement already satisfied: pytz>=2017.2 in /usr/local/lib/python3.6/dist-packages (from pandas>=0.24.0->siuba) (2018.9)\n",
            "Requirement already satisfied: six>=1.5 in /usr/local/lib/python3.6/dist-packages (from python-dateutil>=2.6.1->pandas>=0.24.0->siuba) (1.12.0)\n",
            "Installing collected packages: siuba\n",
            "Successfully installed siuba-0.0.19\n"
          ],
          "name": "stdout"
        }
      ]
    },
    {
      "cell_type": "markdown",
      "metadata": {
        "id": "Qr2zJmEf2Eh3",
        "colab_type": "text"
      },
      "source": [
        "## Data Preprocessing"
      ]
    },
    {
      "cell_type": "markdown",
      "metadata": {
        "id": "vLXojV3K5Y1U",
        "colab_type": "text"
      },
      "source": [
        "*   Reading data\n",
        "*   Change columns names\n",
        "*   Drop NaN rows\n",
        "*   Fill others NaN values by special sign"
      ]
    },
    {
      "cell_type": "code",
      "metadata": {
        "id": "j--zuCZf2HvJ",
        "colab_type": "code",
        "outputId": "3f483e11-4372-42fa-d6e2-b5e303986b4a",
        "colab": {
          "base_uri": "https://localhost:8080/",
          "height": 224
        }
      },
      "source": [
        "df = pd.read_excel('polishOriginalDataset.xlsx')\n",
        "df.reset_index()\n",
        "df = df.iloc[:,[6,8,9,10,15,16,19,21,5]]\n",
        "df.columns = [\n",
        "              \"type_of_sentence\",\n",
        "              \"verb_main_semantic_class\",\n",
        "              \"verb_second_semantic_class\",\n",
        "              \"verb_third_semantic_class\",\n",
        "              \"verb_veridical_positive\",\n",
        "              \"verb_veridical_negative\",\n",
        "              \"verb_tense\",\n",
        "              \"t_negation\",\n",
        "              \"semantic_relation\"\n",
        "              ]\n",
        "df.dropna(inplace=True, axis = 0, how = 'all')\n",
        "df.fillna(axis = 0, inplace =True, value=\"none\")\n",
        "df.head()"
      ],
      "execution_count": 2,
      "outputs": [
        {
          "output_type": "execute_result",
          "data": {
            "text/html": [
              "<div>\n",
              "<style scoped>\n",
              "    .dataframe tbody tr th:only-of-type {\n",
              "        vertical-align: middle;\n",
              "    }\n",
              "\n",
              "    .dataframe tbody tr th {\n",
              "        vertical-align: top;\n",
              "    }\n",
              "\n",
              "    .dataframe thead th {\n",
              "        text-align: right;\n",
              "    }\n",
              "</style>\n",
              "<table border=\"1\" class=\"dataframe\">\n",
              "  <thead>\n",
              "    <tr style=\"text-align: right;\">\n",
              "      <th></th>\n",
              "      <th>type_of_sentence</th>\n",
              "      <th>verb_main_semantic_class</th>\n",
              "      <th>verb_second_semantic_class</th>\n",
              "      <th>verb_third_semantic_class</th>\n",
              "      <th>verb_veridical_positive</th>\n",
              "      <th>verb_veridical_negative</th>\n",
              "      <th>verb_tense</th>\n",
              "      <th>t_negation</th>\n",
              "      <th>semantic_relation</th>\n",
              "    </tr>\n",
              "  </thead>\n",
              "  <tbody>\n",
              "    <tr>\n",
              "      <th>0</th>\n",
              "      <td>eliptyczne</td>\n",
              "      <td>mówienia</td>\n",
              "      <td>none</td>\n",
              "      <td>none</td>\n",
              "      <td>o?</td>\n",
              "      <td>?</td>\n",
              "      <td>brak</td>\n",
              "      <td>0</td>\n",
              "      <td>N</td>\n",
              "    </tr>\n",
              "    <tr>\n",
              "      <th>1</th>\n",
              "      <td>eliptyczne</td>\n",
              "      <td>epistemiczny</td>\n",
              "      <td>none</td>\n",
              "      <td>none</td>\n",
              "      <td>?</td>\n",
              "      <td>?</td>\n",
              "      <td>past</td>\n",
              "      <td>0</td>\n",
              "      <td>?</td>\n",
              "    </tr>\n",
              "    <tr>\n",
              "      <th>2</th>\n",
              "      <td>eliptyczne</td>\n",
              "      <td>mówienia</td>\n",
              "      <td>none</td>\n",
              "      <td>none</td>\n",
              "      <td>?</td>\n",
              "      <td>?</td>\n",
              "      <td>past</td>\n",
              "      <td>0</td>\n",
              "      <td>N</td>\n",
              "    </tr>\n",
              "    <tr>\n",
              "      <th>3</th>\n",
              "      <td>1</td>\n",
              "      <td>epistemiczny</td>\n",
              "      <td>percepcyjny</td>\n",
              "      <td>none</td>\n",
              "      <td>\"+\"</td>\n",
              "      <td>\"+\"</td>\n",
              "      <td>past</td>\n",
              "      <td>0</td>\n",
              "      <td>N</td>\n",
              "    </tr>\n",
              "    <tr>\n",
              "      <th>4</th>\n",
              "      <td>1</td>\n",
              "      <td>epistemiczny</td>\n",
              "      <td>percepcyjny</td>\n",
              "      <td>none</td>\n",
              "      <td>o</td>\n",
              "      <td>o</td>\n",
              "      <td>present</td>\n",
              "      <td>0</td>\n",
              "      <td>N</td>\n",
              "    </tr>\n",
              "  </tbody>\n",
              "</table>\n",
              "</div>"
            ],
            "text/plain": [
              "  type_of_sentence verb_main_semantic_class  ... t_negation semantic_relation\n",
              "0       eliptyczne                 mówienia  ...          0                 N\n",
              "1       eliptyczne             epistemiczny  ...          0                 ?\n",
              "2       eliptyczne                 mówienia  ...          0                 N\n",
              "3                1             epistemiczny  ...          0                 N\n",
              "4                1             epistemiczny  ...          0                 N\n",
              "\n",
              "[5 rows x 9 columns]"
            ]
          },
          "metadata": {
            "tags": []
          },
          "execution_count": 2
        }
      ]
    },
    {
      "cell_type": "markdown",
      "metadata": {
        "id": "fTXvttwo5v0D",
        "colab_type": "text"
      },
      "source": [
        "### Cleaning data by deleting uncertainty - simplification "
      ]
    },
    {
      "cell_type": "code",
      "metadata": {
        "id": "ewr4Z-ZH8e6Q",
        "colab_type": "code",
        "outputId": "fe1318c1-0cba-47fa-f26f-b657a1fdc884",
        "colab": {
          "base_uri": "https://localhost:8080/",
          "height": 224
        }
      },
      "source": [
        "# df.type_of_sentence.unique() cleaning \n",
        "df.verb_main_semantic_class = fct_lump(df.verb_main_semantic_class, n=3, other_level=\"?\")\n",
        "\n",
        "# df.verb_second_semantic_class.unique() cleaning \n",
        "df.verb_second_semantic_class = fct_lump(df.verb_second_semantic_class, n=3, other_level=\"?\")\n",
        "\n",
        "# df.verb_third_semantic_class.unique() cleaning \n",
        "df.verb_third_semantic_class = fct_lump(df.verb_third_semantic_class, n=3, other_level=\"?\")\n",
        "\n",
        "# verb veridical positive cleaning\n",
        "df.verb_veridical_positive = df.verb_veridical_positive.apply(lambda x: '+' if '+' in x else x)\n",
        "df.verb_veridical_positive = df.verb_veridical_positive.apply(lambda x: '-' if '-' in x else x)\n",
        "df.verb_veridical_positive = df.verb_veridical_positive.apply(lambda x: 'o' if 'o' in x else x)\n",
        "df.verb_veridical_positive = df.verb_veridical_positive.apply(lambda x: '?' if '?' in x else x)\n",
        "\n",
        "# verb veridical negative cleaning\n",
        "df.verb_veridical_negative = df.verb_veridical_negative.apply(lambda x: '+' if '+' in x else x)\n",
        "df.verb_veridical_negative = df.verb_veridical_negative.apply(lambda x: 'o' if 'o' in x else x)\n",
        "df.verb_veridical_negative = df.verb_veridical_negative.apply(lambda x: '-' if '-' in x else x)\n",
        "df.verb_veridical_negative = df.verb_veridical_negative.apply(lambda x: '?' if '?' in x else x)\n",
        "\n",
        "# df.verb_tense.unique() cleaning not needed\n",
        "# df.t_negation.unique() cleaning not needed\n",
        "# df.semantic_relation.unique() cleaning not needed \n",
        "\n",
        "df.head()"
      ],
      "execution_count": 3,
      "outputs": [
        {
          "output_type": "execute_result",
          "data": {
            "text/html": [
              "<div>\n",
              "<style scoped>\n",
              "    .dataframe tbody tr th:only-of-type {\n",
              "        vertical-align: middle;\n",
              "    }\n",
              "\n",
              "    .dataframe tbody tr th {\n",
              "        vertical-align: top;\n",
              "    }\n",
              "\n",
              "    .dataframe thead th {\n",
              "        text-align: right;\n",
              "    }\n",
              "</style>\n",
              "<table border=\"1\" class=\"dataframe\">\n",
              "  <thead>\n",
              "    <tr style=\"text-align: right;\">\n",
              "      <th></th>\n",
              "      <th>type_of_sentence</th>\n",
              "      <th>verb_main_semantic_class</th>\n",
              "      <th>verb_second_semantic_class</th>\n",
              "      <th>verb_third_semantic_class</th>\n",
              "      <th>verb_veridical_positive</th>\n",
              "      <th>verb_veridical_negative</th>\n",
              "      <th>verb_tense</th>\n",
              "      <th>t_negation</th>\n",
              "      <th>semantic_relation</th>\n",
              "    </tr>\n",
              "  </thead>\n",
              "  <tbody>\n",
              "    <tr>\n",
              "      <th>0</th>\n",
              "      <td>eliptyczne</td>\n",
              "      <td>mówienia</td>\n",
              "      <td>none</td>\n",
              "      <td>none</td>\n",
              "      <td>o</td>\n",
              "      <td>?</td>\n",
              "      <td>brak</td>\n",
              "      <td>0</td>\n",
              "      <td>N</td>\n",
              "    </tr>\n",
              "    <tr>\n",
              "      <th>1</th>\n",
              "      <td>eliptyczne</td>\n",
              "      <td>epistemiczny</td>\n",
              "      <td>none</td>\n",
              "      <td>none</td>\n",
              "      <td>?</td>\n",
              "      <td>?</td>\n",
              "      <td>past</td>\n",
              "      <td>0</td>\n",
              "      <td>?</td>\n",
              "    </tr>\n",
              "    <tr>\n",
              "      <th>2</th>\n",
              "      <td>eliptyczne</td>\n",
              "      <td>mówienia</td>\n",
              "      <td>none</td>\n",
              "      <td>none</td>\n",
              "      <td>?</td>\n",
              "      <td>?</td>\n",
              "      <td>past</td>\n",
              "      <td>0</td>\n",
              "      <td>N</td>\n",
              "    </tr>\n",
              "    <tr>\n",
              "      <th>3</th>\n",
              "      <td>1</td>\n",
              "      <td>epistemiczny</td>\n",
              "      <td>?</td>\n",
              "      <td>none</td>\n",
              "      <td>+</td>\n",
              "      <td>+</td>\n",
              "      <td>past</td>\n",
              "      <td>0</td>\n",
              "      <td>N</td>\n",
              "    </tr>\n",
              "    <tr>\n",
              "      <th>4</th>\n",
              "      <td>1</td>\n",
              "      <td>epistemiczny</td>\n",
              "      <td>?</td>\n",
              "      <td>none</td>\n",
              "      <td>o</td>\n",
              "      <td>o</td>\n",
              "      <td>present</td>\n",
              "      <td>0</td>\n",
              "      <td>N</td>\n",
              "    </tr>\n",
              "  </tbody>\n",
              "</table>\n",
              "</div>"
            ],
            "text/plain": [
              "  type_of_sentence verb_main_semantic_class  ... t_negation semantic_relation\n",
              "0       eliptyczne                 mówienia  ...          0                 N\n",
              "1       eliptyczne             epistemiczny  ...          0                 ?\n",
              "2       eliptyczne                 mówienia  ...          0                 N\n",
              "3                1             epistemiczny  ...          0                 N\n",
              "4                1             epistemiczny  ...          0                 N\n",
              "\n",
              "[5 rows x 9 columns]"
            ]
          },
          "metadata": {
            "tags": []
          },
          "execution_count": 3
        }
      ]
    },
    {
      "cell_type": "markdown",
      "metadata": {
        "id": "Eq5Zke-TO3zd",
        "colab_type": "text"
      },
      "source": [
        "### Possible feature values"
      ]
    },
    {
      "cell_type": "code",
      "metadata": {
        "id": "FVbjgIUMOXXi",
        "colab_type": "code",
        "outputId": "7cd4b2ac-9e0a-407b-da7b-e086b6251849",
        "colab": {
          "base_uri": "https://localhost:8080/",
          "height": 340
        }
      },
      "source": [
        "print(df.type_of_sentence.unique())\n",
        "print(df.verb_main_semantic_class.unique())\n",
        "print(df.verb_second_semantic_class.unique())\n",
        "print(df.verb_third_semantic_class.unique())\n",
        "print(df.verb_veridical_positive.unique())\n",
        "print(df.verb_veridical_negative.unique())\n",
        "print(df.verb_tense.unique())\n",
        "print(df.t_negation.unique())\n"
      ],
      "execution_count": 4,
      "outputs": [
        {
          "output_type": "stream",
          "text": [
            "['eliptyczne' 1 'generalne' 'pytajne' 'modalne'\n",
            " 'powtarzające się zdarzenie' 'warunkowe' 'powinnościowe'\n",
            " 'imperatyw; warunkowe' 'none' '?' 'imperatyw ' 'modal'\n",
            " 'warunkowe; pytajne' 'wolitywne' 'performatyw' 'kontrfaktyczne'\n",
            " 'imperatyw' 'prostujące' 'korygujące' 'performatyw; warunkowe'\n",
            " 'warunkowe; modalne' 'przypuszczające' 'wolitywne; performatyw'\n",
            " 'modalne; pytajne' 'imperatyw; generalne' 'sprostowanie' 'dyspozycyjne'\n",
            " 'modalne; warunkowe' 'pytajne; modalne' 'modalne; alternatywa'\n",
            " 'alternatywa' 'warunkowe; generalne']\n",
            "[mówienia, epistemiczny, ?, odkrycia]\n",
            "Categories (4, object): [mówienia, epistemiczny, ?, odkrycia]\n",
            "[none, ?, epistemiczny, wolicjonalny]\n",
            "Categories (4, object): [none, ?, epistemiczny, wolicjonalny]\n",
            "[none, mówienia, ?, epistemiczny]\n",
            "Categories (4, object): [none, mówienia, ?, epistemiczny]\n",
            "['o' '?' '+' '-']\n",
            "['?' '+' 'o' '-']\n",
            "['brak' 'past' 'present' 'future']\n",
            "[0 1]\n"
          ],
          "name": "stdout"
        }
      ]
    },
    {
      "cell_type": "code",
      "metadata": {
        "id": "TEzZDtqp9X1i",
        "colab_type": "code",
        "outputId": "fa392a11-9e8f-4fbb-b074-f1c43b979fd4",
        "colab": {
          "base_uri": "https://localhost:8080/",
          "height": 102
        }
      },
      "source": [
        "df.verb_main_semantic_class.value_counts()"
      ],
      "execution_count": 5,
      "outputs": [
        {
          "output_type": "execute_result",
          "data": {
            "text/plain": [
              "epistemiczny    1079\n",
              "mówienia         973\n",
              "?                448\n",
              "odkrycia          96\n",
              "Name: verb_main_semantic_class, dtype: int64"
            ]
          },
          "metadata": {
            "tags": []
          },
          "execution_count": 5
        }
      ]
    },
    {
      "cell_type": "code",
      "metadata": {
        "id": "d0yf4jWrgB4D",
        "colab_type": "code",
        "colab": {}
      },
      "source": [
        "# choose columns \n",
        "df = df[[\n",
        "  \"verb_main_semantic_class\",\n",
        "  \"verb_second_semantic_class\",\n",
        " # \"verb_third_semantic_class\",\n",
        "  \"verb_veridical_positive\",\n",
        "  \"verb_veridical_negative\",\n",
        "  \"verb_tense\",\n",
        "  \"semantic_relation\"      \n",
        "]]\n",
        "df.to_csv(\"plData.csv\", index=False)"
      ],
      "execution_count": 0,
      "outputs": []
    },
    {
      "cell_type": "markdown",
      "metadata": {
        "id": "ZOi5V_fDAJBS",
        "colab_type": "text"
      },
      "source": [
        "### Vactorize data and split to features and target"
      ]
    },
    {
      "cell_type": "markdown",
      "metadata": {
        "id": "bNZdBxWgyu8t",
        "colab_type": "text"
      },
      "source": [
        "Ml classifier labels - target for RandomForest"
      ]
    },
    {
      "cell_type": "code",
      "metadata": {
        "id": "RSR0_iVM0ujy",
        "colab_type": "code",
        "colab": {}
      },
      "source": [
        "ml_classifier_labels = df[\"semantic_relation\"]"
      ],
      "execution_count": 0,
      "outputs": []
    },
    {
      "cell_type": "markdown",
      "metadata": {
        "id": "YokPfvoJxWoR",
        "colab_type": "text"
      },
      "source": [
        "#### Vectorize (one =hot encoding)"
      ]
    },
    {
      "cell_type": "code",
      "metadata": {
        "id": "5r7NRdcwkIX5",
        "colab_type": "code",
        "colab": {}
      },
      "source": [
        "df = pd.get_dummies(df)"
      ],
      "execution_count": 0,
      "outputs": []
    },
    {
      "cell_type": "markdown",
      "metadata": {
        "id": "q9f1MRWJxhBA",
        "colab_type": "text"
      },
      "source": [
        "#### Split to features and target"
      ]
    },
    {
      "cell_type": "code",
      "metadata": {
        "id": "qp6eOyEdxlMO",
        "colab_type": "code",
        "colab": {}
      },
      "source": [
        "X = df.iloc[:,0:-4]\n",
        "y = df.iloc[:,-4:]"
      ],
      "execution_count": 0,
      "outputs": []
    },
    {
      "cell_type": "markdown",
      "metadata": {
        "id": "KjQvT5PtxsFz",
        "colab_type": "text"
      },
      "source": [
        "#### Features columns"
      ]
    },
    {
      "cell_type": "code",
      "metadata": {
        "id": "yLqFLidq0YLV",
        "colab_type": "code",
        "outputId": "65044983-508e-428e-c163-8c97428c3f4c",
        "colab": {
          "base_uri": "https://localhost:8080/",
          "height": 221
        }
      },
      "source": [
        "X.columns"
      ],
      "execution_count": 10,
      "outputs": [
        {
          "output_type": "execute_result",
          "data": {
            "text/plain": [
              "Index(['verb_main_semantic_class_?', 'verb_main_semantic_class_epistemiczny',\n",
              "       'verb_main_semantic_class_mówienia',\n",
              "       'verb_main_semantic_class_odkrycia', 'verb_second_semantic_class_?',\n",
              "       'verb_second_semantic_class_epistemiczny',\n",
              "       'verb_second_semantic_class_none',\n",
              "       'verb_second_semantic_class_wolicjonalny', 'verb_veridical_positive_+',\n",
              "       'verb_veridical_positive_-', 'verb_veridical_positive_?',\n",
              "       'verb_veridical_positive_o', 'verb_veridical_negative_+',\n",
              "       'verb_veridical_negative_-', 'verb_veridical_negative_?',\n",
              "       'verb_veridical_negative_o', 'verb_tense_brak', 'verb_tense_future',\n",
              "       'verb_tense_past', 'verb_tense_present'],\n",
              "      dtype='object')"
            ]
          },
          "metadata": {
            "tags": []
          },
          "execution_count": 10
        }
      ]
    },
    {
      "cell_type": "markdown",
      "metadata": {
        "id": "v4896Jynxyew",
        "colab_type": "text"
      },
      "source": [
        "#### Target columns"
      ]
    },
    {
      "cell_type": "code",
      "metadata": {
        "id": "AxEJ6K-fxkTU",
        "colab_type": "code",
        "outputId": "cfcc70ab-ffc4-471d-b7a5-9b3427c1cd57",
        "colab": {
          "base_uri": "https://localhost:8080/",
          "height": 68
        }
      },
      "source": [
        "y.columns"
      ],
      "execution_count": 11,
      "outputs": [
        {
          "output_type": "execute_result",
          "data": {
            "text/plain": [
              "Index(['semantic_relation_?', 'semantic_relation_C', 'semantic_relation_E',\n",
              "       'semantic_relation_N'],\n",
              "      dtype='object')"
            ]
          },
          "metadata": {
            "tags": []
          },
          "execution_count": 11
        }
      ]
    },
    {
      "cell_type": "markdown",
      "metadata": {
        "id": "_jmoU__ZsXtC",
        "colab_type": "text"
      },
      "source": [
        "### k-fold crossvalidation preparing"
      ]
    },
    {
      "cell_type": "code",
      "metadata": {
        "id": "QUp3OdBNsdn5",
        "colab_type": "code",
        "colab": {}
      },
      "source": [
        "k=7\n",
        "from sklearn.model_selection import KFold\n",
        "kfold = KFold(n_splits = k, shuffle=True)\n",
        "\n",
        "acc_per_fold = []\n",
        "loss_per_fold = [] "
      ],
      "execution_count": 0,
      "outputs": []
    },
    {
      "cell_type": "markdown",
      "metadata": {
        "id": "9Xi8QfyAkbiN",
        "colab_type": "text"
      },
      "source": [
        "***\n",
        "# Keras model building"
      ]
    },
    {
      "cell_type": "markdown",
      "metadata": {
        "id": "ln4inIDkB_h5",
        "colab_type": "text"
      },
      "source": [
        "### Model training"
      ]
    },
    {
      "cell_type": "code",
      "metadata": {
        "id": "amhvtjnZQwhz",
        "colab_type": "code",
        "colab": {}
      },
      "source": [
        "import tensorflow as tf \n",
        "from tensorflow import keras\n",
        "from tensorflow.keras import layers\n",
        "from tensorflow.keras.layers import Dense\n",
        "from sklearn.metrics import confusion_matrix \n",
        "import seaborn as sns"
      ],
      "execution_count": 0,
      "outputs": []
    },
    {
      "cell_type": "markdown",
      "metadata": {
        "id": "H15DIedMCgOC",
        "colab_type": "text"
      },
      "source": [
        "It takes only 1-2 minutes to train this model with 7-crossvalidation."
      ]
    },
    {
      "cell_type": "code",
      "metadata": {
        "id": "u7ZB5xOvAZbu",
        "colab_type": "code",
        "outputId": "d032f1b4-88c7-40c1-c783-fa9e96fb516d",
        "colab": {
          "base_uri": "https://localhost:8080/",
          "height": 1000
        }
      },
      "source": [
        "fold_no = 1 \n",
        "\n",
        "#get number of columns in training data\n",
        "n_cols = X.shape[1]\n",
        "print(n_cols)\n",
        "\n",
        "for train, test in kfold.split(X,y):\n",
        "  # FOLD PRINTOUT\n",
        "  print(100*'_')\n",
        "  print (f\"FOLD NO {fold_no} START\")  \n",
        "\n",
        "  # model architecture  \n",
        "  model = tf.keras.Sequential()\n",
        "  model.add(Dense(16, activation='relu', input_shape=(n_cols,)))\n",
        "  model.add(tf.keras.layers.Dropout(rate=0.4))\n",
        "  model.add(Dense(32, activation='relu'))\n",
        "  model.add(tf.keras.layers.Dropout(rate=0.4))\n",
        "  model.add(Dense(16, activation='relu'))\n",
        "  model.add(Dense(4, activation='softmax'))\n",
        "\n",
        "  # model compile \n",
        "  model.compile(optimizer = 'adam', loss=\"categorical_crossentropy\", metrics = ['accuracy'])\n",
        "  \n",
        "  # training\n",
        "  history = model.fit(X.iloc[train], y.iloc[train], validation_split=0.2, epochs=70)\n",
        "\n",
        "  # scores \n",
        "  scores = model.evaluate(X.iloc[test], y.iloc[test], verbose=0)\n",
        "  acc_per_fold.append(scores[1] * 100)\n",
        "  loss_per_fold.append(scores[0])\n",
        "\n",
        "  # iterator up\n",
        "  fold_no = fold_no + 1"
      ],
      "execution_count": 14,
      "outputs": [
        {
          "output_type": "stream",
          "text": [
            "20\n",
            "____________________________________________________________________________________________________\n",
            "FOLD NO 1 START\n",
            "Epoch 1/70\n",
            "56/56 [==============================] - 0s 5ms/step - loss: 1.2206 - accuracy: 0.4416 - val_loss: 1.0390 - val_accuracy: 0.5640\n",
            "Epoch 2/70\n",
            "56/56 [==============================] - 0s 2ms/step - loss: 0.8893 - accuracy: 0.6522 - val_loss: 0.7619 - val_accuracy: 0.6719\n",
            "Epoch 3/70\n",
            "56/56 [==============================] - 0s 3ms/step - loss: 0.7207 - accuracy: 0.7680 - val_loss: 0.5530 - val_accuracy: 0.8764\n",
            "Epoch 4/70\n",
            "56/56 [==============================] - 0s 2ms/step - loss: 0.6527 - accuracy: 0.8135 - val_loss: 0.4707 - val_accuracy: 0.8831\n",
            "Epoch 5/70\n",
            "56/56 [==============================] - 0s 2ms/step - loss: 0.6005 - accuracy: 0.8242 - val_loss: 0.4536 - val_accuracy: 0.8831\n",
            "Epoch 6/70\n",
            "56/56 [==============================] - 0s 2ms/step - loss: 0.5946 - accuracy: 0.8427 - val_loss: 0.4476 - val_accuracy: 0.8831\n",
            "Epoch 7/70\n",
            "56/56 [==============================] - 0s 2ms/step - loss: 0.5577 - accuracy: 0.8466 - val_loss: 0.4387 - val_accuracy: 0.8831\n",
            "Epoch 8/70\n",
            "56/56 [==============================] - 0s 2ms/step - loss: 0.5519 - accuracy: 0.8528 - val_loss: 0.4335 - val_accuracy: 0.8831\n",
            "Epoch 9/70\n",
            "56/56 [==============================] - 0s 2ms/step - loss: 0.5527 - accuracy: 0.8500 - val_loss: 0.4334 - val_accuracy: 0.8854\n",
            "Epoch 10/70\n",
            "56/56 [==============================] - 0s 2ms/step - loss: 0.5510 - accuracy: 0.8511 - val_loss: 0.4386 - val_accuracy: 0.8854\n",
            "Epoch 11/70\n",
            "56/56 [==============================] - 0s 2ms/step - loss: 0.5462 - accuracy: 0.8596 - val_loss: 0.4324 - val_accuracy: 0.8854\n",
            "Epoch 12/70\n",
            "56/56 [==============================] - 0s 2ms/step - loss: 0.5330 - accuracy: 0.8629 - val_loss: 0.4263 - val_accuracy: 0.8854\n",
            "Epoch 13/70\n",
            "56/56 [==============================] - 0s 2ms/step - loss: 0.5181 - accuracy: 0.8646 - val_loss: 0.4249 - val_accuracy: 0.8854\n",
            "Epoch 14/70\n",
            "56/56 [==============================] - 0s 2ms/step - loss: 0.5258 - accuracy: 0.8618 - val_loss: 0.4280 - val_accuracy: 0.8854\n",
            "Epoch 15/70\n",
            "56/56 [==============================] - 0s 2ms/step - loss: 0.5137 - accuracy: 0.8635 - val_loss: 0.4230 - val_accuracy: 0.8854\n",
            "Epoch 16/70\n",
            "56/56 [==============================] - 0s 2ms/step - loss: 0.5143 - accuracy: 0.8663 - val_loss: 0.4252 - val_accuracy: 0.8854\n",
            "Epoch 17/70\n",
            "56/56 [==============================] - 0s 2ms/step - loss: 0.4973 - accuracy: 0.8629 - val_loss: 0.4245 - val_accuracy: 0.8854\n",
            "Epoch 18/70\n",
            "56/56 [==============================] - 0s 2ms/step - loss: 0.5012 - accuracy: 0.8680 - val_loss: 0.4271 - val_accuracy: 0.8854\n",
            "Epoch 19/70\n",
            "56/56 [==============================] - 0s 2ms/step - loss: 0.5008 - accuracy: 0.8618 - val_loss: 0.4202 - val_accuracy: 0.8854\n",
            "Epoch 20/70\n",
            "56/56 [==============================] - 0s 2ms/step - loss: 0.4915 - accuracy: 0.8657 - val_loss: 0.4215 - val_accuracy: 0.8854\n",
            "Epoch 21/70\n",
            "56/56 [==============================] - 0s 2ms/step - loss: 0.4957 - accuracy: 0.8607 - val_loss: 0.4263 - val_accuracy: 0.8854\n",
            "Epoch 22/70\n",
            "56/56 [==============================] - 0s 2ms/step - loss: 0.4936 - accuracy: 0.8685 - val_loss: 0.4234 - val_accuracy: 0.8854\n",
            "Epoch 23/70\n",
            "56/56 [==============================] - 0s 2ms/step - loss: 0.4910 - accuracy: 0.8680 - val_loss: 0.4230 - val_accuracy: 0.8854\n",
            "Epoch 24/70\n",
            "56/56 [==============================] - 0s 3ms/step - loss: 0.4958 - accuracy: 0.8669 - val_loss: 0.4279 - val_accuracy: 0.8854\n",
            "Epoch 25/70\n",
            "56/56 [==============================] - 0s 2ms/step - loss: 0.4773 - accuracy: 0.8657 - val_loss: 0.4242 - val_accuracy: 0.8854\n",
            "Epoch 26/70\n",
            "56/56 [==============================] - 0s 2ms/step - loss: 0.4818 - accuracy: 0.8691 - val_loss: 0.4309 - val_accuracy: 0.8854\n",
            "Epoch 27/70\n",
            "56/56 [==============================] - 0s 3ms/step - loss: 0.4813 - accuracy: 0.8702 - val_loss: 0.4269 - val_accuracy: 0.8854\n",
            "Epoch 28/70\n",
            "56/56 [==============================] - 0s 2ms/step - loss: 0.4890 - accuracy: 0.8742 - val_loss: 0.4296 - val_accuracy: 0.8854\n",
            "Epoch 29/70\n",
            "56/56 [==============================] - 0s 2ms/step - loss: 0.4694 - accuracy: 0.8685 - val_loss: 0.4210 - val_accuracy: 0.8854\n",
            "Epoch 30/70\n",
            "56/56 [==============================] - 0s 2ms/step - loss: 0.4761 - accuracy: 0.8674 - val_loss: 0.4264 - val_accuracy: 0.8854\n",
            "Epoch 31/70\n",
            "56/56 [==============================] - 0s 2ms/step - loss: 0.4752 - accuracy: 0.8725 - val_loss: 0.4275 - val_accuracy: 0.8854\n",
            "Epoch 32/70\n",
            "56/56 [==============================] - 0s 2ms/step - loss: 0.4748 - accuracy: 0.8680 - val_loss: 0.4256 - val_accuracy: 0.8854\n",
            "Epoch 33/70\n",
            "56/56 [==============================] - 0s 2ms/step - loss: 0.4812 - accuracy: 0.8697 - val_loss: 0.4262 - val_accuracy: 0.8854\n",
            "Epoch 34/70\n",
            "56/56 [==============================] - 0s 2ms/step - loss: 0.4723 - accuracy: 0.8713 - val_loss: 0.4271 - val_accuracy: 0.8854\n",
            "Epoch 35/70\n",
            "56/56 [==============================] - 0s 2ms/step - loss: 0.4775 - accuracy: 0.8713 - val_loss: 0.4285 - val_accuracy: 0.8854\n",
            "Epoch 36/70\n",
            "56/56 [==============================] - 0s 2ms/step - loss: 0.4656 - accuracy: 0.8713 - val_loss: 0.4310 - val_accuracy: 0.8854\n",
            "Epoch 37/70\n",
            "56/56 [==============================] - 0s 2ms/step - loss: 0.4697 - accuracy: 0.8697 - val_loss: 0.4363 - val_accuracy: 0.8854\n",
            "Epoch 38/70\n",
            "56/56 [==============================] - 0s 2ms/step - loss: 0.4733 - accuracy: 0.8669 - val_loss: 0.4377 - val_accuracy: 0.8854\n",
            "Epoch 39/70\n",
            "56/56 [==============================] - 0s 2ms/step - loss: 0.4678 - accuracy: 0.8697 - val_loss: 0.4370 - val_accuracy: 0.8876\n",
            "Epoch 40/70\n",
            "56/56 [==============================] - 0s 2ms/step - loss: 0.4718 - accuracy: 0.8713 - val_loss: 0.4341 - val_accuracy: 0.8876\n",
            "Epoch 41/70\n",
            "56/56 [==============================] - 0s 2ms/step - loss: 0.4674 - accuracy: 0.8691 - val_loss: 0.4372 - val_accuracy: 0.8876\n",
            "Epoch 42/70\n",
            "56/56 [==============================] - 0s 2ms/step - loss: 0.4665 - accuracy: 0.8697 - val_loss: 0.4318 - val_accuracy: 0.8876\n",
            "Epoch 43/70\n",
            "56/56 [==============================] - 0s 2ms/step - loss: 0.4710 - accuracy: 0.8685 - val_loss: 0.4345 - val_accuracy: 0.8876\n",
            "Epoch 44/70\n",
            "56/56 [==============================] - 0s 2ms/step - loss: 0.4558 - accuracy: 0.8725 - val_loss: 0.4373 - val_accuracy: 0.8876\n",
            "Epoch 45/70\n",
            "56/56 [==============================] - 0s 2ms/step - loss: 0.4542 - accuracy: 0.8747 - val_loss: 0.4380 - val_accuracy: 0.8876\n",
            "Epoch 46/70\n",
            "56/56 [==============================] - 0s 2ms/step - loss: 0.4663 - accuracy: 0.8691 - val_loss: 0.4396 - val_accuracy: 0.8876\n",
            "Epoch 47/70\n",
            "56/56 [==============================] - 0s 2ms/step - loss: 0.4596 - accuracy: 0.8674 - val_loss: 0.4373 - val_accuracy: 0.8876\n",
            "Epoch 48/70\n",
            "56/56 [==============================] - 0s 2ms/step - loss: 0.4592 - accuracy: 0.8713 - val_loss: 0.4431 - val_accuracy: 0.8876\n",
            "Epoch 49/70\n",
            "56/56 [==============================] - 0s 2ms/step - loss: 0.4550 - accuracy: 0.8736 - val_loss: 0.4452 - val_accuracy: 0.8876\n",
            "Epoch 50/70\n",
            "56/56 [==============================] - 0s 2ms/step - loss: 0.4602 - accuracy: 0.8742 - val_loss: 0.4434 - val_accuracy: 0.8899\n",
            "Epoch 51/70\n",
            "56/56 [==============================] - 0s 2ms/step - loss: 0.4572 - accuracy: 0.8713 - val_loss: 0.4497 - val_accuracy: 0.8876\n",
            "Epoch 52/70\n",
            "56/56 [==============================] - 0s 2ms/step - loss: 0.4476 - accuracy: 0.8736 - val_loss: 0.4458 - val_accuracy: 0.8876\n",
            "Epoch 53/70\n",
            "56/56 [==============================] - 0s 2ms/step - loss: 0.4480 - accuracy: 0.8730 - val_loss: 0.4412 - val_accuracy: 0.8876\n",
            "Epoch 54/70\n",
            "56/56 [==============================] - 0s 2ms/step - loss: 0.4460 - accuracy: 0.8742 - val_loss: 0.4447 - val_accuracy: 0.8876\n",
            "Epoch 55/70\n",
            "56/56 [==============================] - 0s 2ms/step - loss: 0.4460 - accuracy: 0.8708 - val_loss: 0.4457 - val_accuracy: 0.8876\n",
            "Epoch 56/70\n",
            "56/56 [==============================] - 0s 2ms/step - loss: 0.4494 - accuracy: 0.8742 - val_loss: 0.4437 - val_accuracy: 0.8876\n",
            "Epoch 57/70\n",
            "56/56 [==============================] - 0s 2ms/step - loss: 0.4525 - accuracy: 0.8713 - val_loss: 0.4512 - val_accuracy: 0.8899\n",
            "Epoch 58/70\n",
            "56/56 [==============================] - 0s 2ms/step - loss: 0.4520 - accuracy: 0.8736 - val_loss: 0.4511 - val_accuracy: 0.8876\n",
            "Epoch 59/70\n",
            "56/56 [==============================] - 0s 2ms/step - loss: 0.4472 - accuracy: 0.8753 - val_loss: 0.4530 - val_accuracy: 0.8876\n",
            "Epoch 60/70\n",
            "56/56 [==============================] - 0s 2ms/step - loss: 0.4420 - accuracy: 0.8747 - val_loss: 0.4475 - val_accuracy: 0.8899\n",
            "Epoch 61/70\n",
            "56/56 [==============================] - 0s 2ms/step - loss: 0.4451 - accuracy: 0.8730 - val_loss: 0.4513 - val_accuracy: 0.8899\n",
            "Epoch 62/70\n",
            "56/56 [==============================] - 0s 2ms/step - loss: 0.4568 - accuracy: 0.8730 - val_loss: 0.4520 - val_accuracy: 0.8899\n",
            "Epoch 63/70\n",
            "56/56 [==============================] - 0s 2ms/step - loss: 0.4477 - accuracy: 0.8747 - val_loss: 0.4561 - val_accuracy: 0.8809\n",
            "Epoch 64/70\n",
            "56/56 [==============================] - 0s 2ms/step - loss: 0.4453 - accuracy: 0.8753 - val_loss: 0.4521 - val_accuracy: 0.8899\n",
            "Epoch 65/70\n",
            "56/56 [==============================] - 0s 2ms/step - loss: 0.4403 - accuracy: 0.8753 - val_loss: 0.4539 - val_accuracy: 0.8899\n",
            "Epoch 66/70\n",
            "56/56 [==============================] - 0s 2ms/step - loss: 0.4412 - accuracy: 0.8798 - val_loss: 0.4552 - val_accuracy: 0.8876\n",
            "Epoch 67/70\n",
            "56/56 [==============================] - 0s 2ms/step - loss: 0.4407 - accuracy: 0.8770 - val_loss: 0.4557 - val_accuracy: 0.8809\n",
            "Epoch 68/70\n",
            "56/56 [==============================] - 0s 2ms/step - loss: 0.4408 - accuracy: 0.8764 - val_loss: 0.4515 - val_accuracy: 0.8899\n",
            "Epoch 69/70\n",
            "56/56 [==============================] - 0s 2ms/step - loss: 0.4441 - accuracy: 0.8803 - val_loss: 0.4550 - val_accuracy: 0.8876\n",
            "Epoch 70/70\n",
            "56/56 [==============================] - 0s 2ms/step - loss: 0.4425 - accuracy: 0.8753 - val_loss: 0.4577 - val_accuracy: 0.8876\n",
            "____________________________________________________________________________________________________\n",
            "FOLD NO 2 START\n",
            "Epoch 1/70\n",
            "56/56 [==============================] - 0s 4ms/step - loss: 1.2110 - accuracy: 0.5388 - val_loss: 0.8953 - val_accuracy: 0.8629\n",
            "Epoch 2/70\n",
            "56/56 [==============================] - 0s 2ms/step - loss: 0.7772 - accuracy: 0.7955 - val_loss: 0.4765 - val_accuracy: 0.8809\n",
            "Epoch 3/70\n",
            "56/56 [==============================] - 0s 2ms/step - loss: 0.6136 - accuracy: 0.8393 - val_loss: 0.4179 - val_accuracy: 0.8809\n",
            "Epoch 4/70\n",
            "56/56 [==============================] - 0s 2ms/step - loss: 0.5842 - accuracy: 0.8517 - val_loss: 0.4203 - val_accuracy: 0.8809\n",
            "Epoch 5/70\n",
            "56/56 [==============================] - 0s 2ms/step - loss: 0.5663 - accuracy: 0.8567 - val_loss: 0.4176 - val_accuracy: 0.8809\n",
            "Epoch 6/70\n",
            "56/56 [==============================] - 0s 2ms/step - loss: 0.5578 - accuracy: 0.8562 - val_loss: 0.4205 - val_accuracy: 0.8809\n",
            "Epoch 7/70\n",
            "56/56 [==============================] - 0s 2ms/step - loss: 0.5438 - accuracy: 0.8640 - val_loss: 0.4191 - val_accuracy: 0.8809\n",
            "Epoch 8/70\n",
            "56/56 [==============================] - 0s 2ms/step - loss: 0.5399 - accuracy: 0.8646 - val_loss: 0.4216 - val_accuracy: 0.8809\n",
            "Epoch 9/70\n",
            "56/56 [==============================] - 0s 2ms/step - loss: 0.5394 - accuracy: 0.8640 - val_loss: 0.4232 - val_accuracy: 0.8831\n",
            "Epoch 10/70\n",
            "56/56 [==============================] - 0s 2ms/step - loss: 0.5151 - accuracy: 0.8702 - val_loss: 0.4195 - val_accuracy: 0.8809\n",
            "Epoch 11/70\n",
            "56/56 [==============================] - 0s 2ms/step - loss: 0.5178 - accuracy: 0.8663 - val_loss: 0.4225 - val_accuracy: 0.8809\n",
            "Epoch 12/70\n",
            "56/56 [==============================] - 0s 2ms/step - loss: 0.4963 - accuracy: 0.8663 - val_loss: 0.4206 - val_accuracy: 0.8809\n",
            "Epoch 13/70\n",
            "56/56 [==============================] - 0s 2ms/step - loss: 0.5058 - accuracy: 0.8646 - val_loss: 0.4237 - val_accuracy: 0.8809\n",
            "Epoch 14/70\n",
            "56/56 [==============================] - 0s 2ms/step - loss: 0.5011 - accuracy: 0.8646 - val_loss: 0.4213 - val_accuracy: 0.8809\n",
            "Epoch 15/70\n",
            "56/56 [==============================] - 0s 2ms/step - loss: 0.4968 - accuracy: 0.8702 - val_loss: 0.4234 - val_accuracy: 0.8809\n",
            "Epoch 16/70\n",
            "56/56 [==============================] - 0s 2ms/step - loss: 0.4851 - accuracy: 0.8708 - val_loss: 0.4217 - val_accuracy: 0.8809\n",
            "Epoch 17/70\n",
            "56/56 [==============================] - 0s 2ms/step - loss: 0.4919 - accuracy: 0.8691 - val_loss: 0.4230 - val_accuracy: 0.8809\n",
            "Epoch 18/70\n",
            "56/56 [==============================] - 0s 2ms/step - loss: 0.4865 - accuracy: 0.8680 - val_loss: 0.4246 - val_accuracy: 0.8809\n",
            "Epoch 19/70\n",
            "56/56 [==============================] - 0s 2ms/step - loss: 0.4902 - accuracy: 0.8685 - val_loss: 0.4225 - val_accuracy: 0.8809\n",
            "Epoch 20/70\n",
            "56/56 [==============================] - 0s 2ms/step - loss: 0.4941 - accuracy: 0.8708 - val_loss: 0.4256 - val_accuracy: 0.8831\n",
            "Epoch 21/70\n",
            "56/56 [==============================] - 0s 2ms/step - loss: 0.4822 - accuracy: 0.8719 - val_loss: 0.4259 - val_accuracy: 0.8809\n",
            "Epoch 22/70\n",
            "56/56 [==============================] - 0s 2ms/step - loss: 0.4931 - accuracy: 0.8708 - val_loss: 0.4289 - val_accuracy: 0.8831\n",
            "Epoch 23/70\n",
            "56/56 [==============================] - 0s 2ms/step - loss: 0.4745 - accuracy: 0.8702 - val_loss: 0.4242 - val_accuracy: 0.8831\n",
            "Epoch 24/70\n",
            "56/56 [==============================] - 0s 2ms/step - loss: 0.4701 - accuracy: 0.8685 - val_loss: 0.4247 - val_accuracy: 0.8854\n",
            "Epoch 25/70\n",
            "56/56 [==============================] - 0s 2ms/step - loss: 0.4713 - accuracy: 0.8730 - val_loss: 0.4256 - val_accuracy: 0.8854\n",
            "Epoch 26/70\n",
            "56/56 [==============================] - 0s 2ms/step - loss: 0.4756 - accuracy: 0.8702 - val_loss: 0.4190 - val_accuracy: 0.8831\n",
            "Epoch 27/70\n",
            "56/56 [==============================] - 0s 2ms/step - loss: 0.4706 - accuracy: 0.8708 - val_loss: 0.4217 - val_accuracy: 0.8854\n",
            "Epoch 28/70\n",
            "56/56 [==============================] - 0s 2ms/step - loss: 0.4703 - accuracy: 0.8697 - val_loss: 0.4201 - val_accuracy: 0.8854\n",
            "Epoch 29/70\n",
            "56/56 [==============================] - 0s 2ms/step - loss: 0.4589 - accuracy: 0.8730 - val_loss: 0.4212 - val_accuracy: 0.8854\n",
            "Epoch 30/70\n",
            "56/56 [==============================] - 0s 2ms/step - loss: 0.4708 - accuracy: 0.8730 - val_loss: 0.4202 - val_accuracy: 0.8854\n",
            "Epoch 31/70\n",
            "56/56 [==============================] - 0s 2ms/step - loss: 0.4637 - accuracy: 0.8742 - val_loss: 0.4210 - val_accuracy: 0.8854\n",
            "Epoch 32/70\n",
            "56/56 [==============================] - 0s 2ms/step - loss: 0.4672 - accuracy: 0.8719 - val_loss: 0.4248 - val_accuracy: 0.8854\n",
            "Epoch 33/70\n",
            "56/56 [==============================] - 0s 2ms/step - loss: 0.4572 - accuracy: 0.8725 - val_loss: 0.4219 - val_accuracy: 0.8854\n",
            "Epoch 34/70\n",
            "56/56 [==============================] - 0s 2ms/step - loss: 0.4621 - accuracy: 0.8719 - val_loss: 0.4266 - val_accuracy: 0.8854\n",
            "Epoch 35/70\n",
            "56/56 [==============================] - 0s 2ms/step - loss: 0.4647 - accuracy: 0.8708 - val_loss: 0.4259 - val_accuracy: 0.8854\n",
            "Epoch 36/70\n",
            "56/56 [==============================] - 0s 2ms/step - loss: 0.4540 - accuracy: 0.8730 - val_loss: 0.4268 - val_accuracy: 0.8854\n",
            "Epoch 37/70\n",
            "56/56 [==============================] - 0s 2ms/step - loss: 0.4584 - accuracy: 0.8697 - val_loss: 0.4240 - val_accuracy: 0.8854\n",
            "Epoch 38/70\n",
            "56/56 [==============================] - 0s 2ms/step - loss: 0.4618 - accuracy: 0.8708 - val_loss: 0.4238 - val_accuracy: 0.8854\n",
            "Epoch 39/70\n",
            "56/56 [==============================] - 0s 2ms/step - loss: 0.4538 - accuracy: 0.8725 - val_loss: 0.4247 - val_accuracy: 0.8854\n",
            "Epoch 40/70\n",
            "56/56 [==============================] - 0s 2ms/step - loss: 0.4591 - accuracy: 0.8691 - val_loss: 0.4244 - val_accuracy: 0.8854\n",
            "Epoch 41/70\n",
            "56/56 [==============================] - 0s 2ms/step - loss: 0.4576 - accuracy: 0.8697 - val_loss: 0.4285 - val_accuracy: 0.8854\n",
            "Epoch 42/70\n",
            "56/56 [==============================] - 0s 2ms/step - loss: 0.4496 - accuracy: 0.8742 - val_loss: 0.4261 - val_accuracy: 0.8854\n",
            "Epoch 43/70\n",
            "56/56 [==============================] - 0s 2ms/step - loss: 0.4499 - accuracy: 0.8730 - val_loss: 0.4295 - val_accuracy: 0.8854\n",
            "Epoch 44/70\n",
            "56/56 [==============================] - 0s 2ms/step - loss: 0.4444 - accuracy: 0.8736 - val_loss: 0.4256 - val_accuracy: 0.8854\n",
            "Epoch 45/70\n",
            "56/56 [==============================] - 0s 2ms/step - loss: 0.4479 - accuracy: 0.8708 - val_loss: 0.4226 - val_accuracy: 0.8854\n",
            "Epoch 46/70\n",
            "56/56 [==============================] - 0s 2ms/step - loss: 0.4614 - accuracy: 0.8719 - val_loss: 0.4272 - val_accuracy: 0.8854\n",
            "Epoch 47/70\n",
            "56/56 [==============================] - 0s 2ms/step - loss: 0.4518 - accuracy: 0.8725 - val_loss: 0.4244 - val_accuracy: 0.8854\n",
            "Epoch 48/70\n",
            "56/56 [==============================] - 0s 2ms/step - loss: 0.4482 - accuracy: 0.8747 - val_loss: 0.4262 - val_accuracy: 0.8854\n",
            "Epoch 49/70\n",
            "56/56 [==============================] - 0s 2ms/step - loss: 0.4479 - accuracy: 0.8736 - val_loss: 0.4271 - val_accuracy: 0.8854\n",
            "Epoch 50/70\n",
            "56/56 [==============================] - 0s 2ms/step - loss: 0.4414 - accuracy: 0.8753 - val_loss: 0.4281 - val_accuracy: 0.8854\n",
            "Epoch 51/70\n",
            "56/56 [==============================] - 0s 2ms/step - loss: 0.4446 - accuracy: 0.8736 - val_loss: 0.4276 - val_accuracy: 0.8854\n",
            "Epoch 52/70\n",
            "56/56 [==============================] - 0s 2ms/step - loss: 0.4432 - accuracy: 0.8753 - val_loss: 0.4262 - val_accuracy: 0.8854\n",
            "Epoch 53/70\n",
            "56/56 [==============================] - 0s 2ms/step - loss: 0.4464 - accuracy: 0.8758 - val_loss: 0.4270 - val_accuracy: 0.8854\n",
            "Epoch 54/70\n",
            "56/56 [==============================] - 0s 2ms/step - loss: 0.4488 - accuracy: 0.8725 - val_loss: 0.4249 - val_accuracy: 0.8854\n",
            "Epoch 55/70\n",
            "56/56 [==============================] - 0s 2ms/step - loss: 0.4354 - accuracy: 0.8742 - val_loss: 0.4269 - val_accuracy: 0.8854\n",
            "Epoch 56/70\n",
            "56/56 [==============================] - 0s 2ms/step - loss: 0.4558 - accuracy: 0.8742 - val_loss: 0.4327 - val_accuracy: 0.8854\n",
            "Epoch 57/70\n",
            "56/56 [==============================] - 0s 2ms/step - loss: 0.4411 - accuracy: 0.8747 - val_loss: 0.4297 - val_accuracy: 0.8854\n",
            "Epoch 58/70\n",
            "56/56 [==============================] - 0s 2ms/step - loss: 0.4454 - accuracy: 0.8730 - val_loss: 0.4249 - val_accuracy: 0.8854\n",
            "Epoch 59/70\n",
            "56/56 [==============================] - 0s 2ms/step - loss: 0.4440 - accuracy: 0.8742 - val_loss: 0.4280 - val_accuracy: 0.8854\n",
            "Epoch 60/70\n",
            "56/56 [==============================] - 0s 3ms/step - loss: 0.4427 - accuracy: 0.8747 - val_loss: 0.4307 - val_accuracy: 0.8854\n",
            "Epoch 61/70\n",
            "56/56 [==============================] - 0s 2ms/step - loss: 0.4423 - accuracy: 0.8736 - val_loss: 0.4287 - val_accuracy: 0.8854\n",
            "Epoch 62/70\n",
            "56/56 [==============================] - 0s 2ms/step - loss: 0.4376 - accuracy: 0.8742 - val_loss: 0.4333 - val_accuracy: 0.8854\n",
            "Epoch 63/70\n",
            "56/56 [==============================] - 0s 2ms/step - loss: 0.4397 - accuracy: 0.8758 - val_loss: 0.4394 - val_accuracy: 0.8854\n",
            "Epoch 64/70\n",
            "56/56 [==============================] - 0s 2ms/step - loss: 0.4434 - accuracy: 0.8770 - val_loss: 0.4293 - val_accuracy: 0.8854\n",
            "Epoch 65/70\n",
            "56/56 [==============================] - 0s 2ms/step - loss: 0.4375 - accuracy: 0.8770 - val_loss: 0.4252 - val_accuracy: 0.8854\n",
            "Epoch 66/70\n",
            "56/56 [==============================] - 0s 2ms/step - loss: 0.4489 - accuracy: 0.8725 - val_loss: 0.4252 - val_accuracy: 0.8854\n",
            "Epoch 67/70\n",
            "56/56 [==============================] - 0s 2ms/step - loss: 0.4348 - accuracy: 0.8764 - val_loss: 0.4238 - val_accuracy: 0.8854\n",
            "Epoch 68/70\n",
            "56/56 [==============================] - 0s 2ms/step - loss: 0.4349 - accuracy: 0.8792 - val_loss: 0.4258 - val_accuracy: 0.8854\n",
            "Epoch 69/70\n",
            "56/56 [==============================] - 0s 2ms/step - loss: 0.4379 - accuracy: 0.8775 - val_loss: 0.4259 - val_accuracy: 0.8854\n",
            "Epoch 70/70\n",
            "56/56 [==============================] - 0s 2ms/step - loss: 0.4315 - accuracy: 0.8747 - val_loss: 0.4289 - val_accuracy: 0.8854\n",
            "____________________________________________________________________________________________________\n",
            "FOLD NO 3 START\n",
            "Epoch 1/70\n",
            "56/56 [==============================] - 0s 4ms/step - loss: 1.2282 - accuracy: 0.4747 - val_loss: 0.9653 - val_accuracy: 0.8472\n",
            "Epoch 2/70\n",
            "56/56 [==============================] - 0s 2ms/step - loss: 0.8403 - accuracy: 0.7174 - val_loss: 0.6824 - val_accuracy: 0.8315\n",
            "Epoch 3/70\n",
            "56/56 [==============================] - 0s 2ms/step - loss: 0.7285 - accuracy: 0.7624 - val_loss: 0.5706 - val_accuracy: 0.8539\n",
            "Epoch 4/70\n",
            "56/56 [==============================] - 0s 2ms/step - loss: 0.6496 - accuracy: 0.8051 - val_loss: 0.5012 - val_accuracy: 0.8584\n",
            "Epoch 5/70\n",
            "56/56 [==============================] - 0s 2ms/step - loss: 0.6041 - accuracy: 0.8298 - val_loss: 0.4839 - val_accuracy: 0.8787\n",
            "Epoch 6/70\n",
            "56/56 [==============================] - 0s 2ms/step - loss: 0.5947 - accuracy: 0.8337 - val_loss: 0.4753 - val_accuracy: 0.8764\n",
            "Epoch 7/70\n",
            "56/56 [==============================] - 0s 2ms/step - loss: 0.5904 - accuracy: 0.8326 - val_loss: 0.4709 - val_accuracy: 0.8764\n",
            "Epoch 8/70\n",
            "56/56 [==============================] - 0s 2ms/step - loss: 0.5604 - accuracy: 0.8416 - val_loss: 0.4651 - val_accuracy: 0.8764\n",
            "Epoch 9/70\n",
            "56/56 [==============================] - 0s 2ms/step - loss: 0.5493 - accuracy: 0.8483 - val_loss: 0.4654 - val_accuracy: 0.8764\n",
            "Epoch 10/70\n",
            "56/56 [==============================] - 0s 2ms/step - loss: 0.5491 - accuracy: 0.8455 - val_loss: 0.4626 - val_accuracy: 0.8764\n",
            "Epoch 11/70\n",
            "56/56 [==============================] - 0s 2ms/step - loss: 0.5411 - accuracy: 0.8494 - val_loss: 0.4666 - val_accuracy: 0.8764\n",
            "Epoch 12/70\n",
            "56/56 [==============================] - 0s 2ms/step - loss: 0.5378 - accuracy: 0.8562 - val_loss: 0.4644 - val_accuracy: 0.8764\n",
            "Epoch 13/70\n",
            "56/56 [==============================] - 0s 2ms/step - loss: 0.5268 - accuracy: 0.8584 - val_loss: 0.4638 - val_accuracy: 0.8764\n",
            "Epoch 14/70\n",
            "56/56 [==============================] - 0s 2ms/step - loss: 0.5309 - accuracy: 0.8545 - val_loss: 0.4636 - val_accuracy: 0.8764\n",
            "Epoch 15/70\n",
            "56/56 [==============================] - 0s 2ms/step - loss: 0.5229 - accuracy: 0.8624 - val_loss: 0.4669 - val_accuracy: 0.8764\n",
            "Epoch 16/70\n",
            "56/56 [==============================] - 0s 2ms/step - loss: 0.5100 - accuracy: 0.8601 - val_loss: 0.4649 - val_accuracy: 0.8764\n",
            "Epoch 17/70\n",
            "56/56 [==============================] - 0s 2ms/step - loss: 0.5074 - accuracy: 0.8657 - val_loss: 0.4645 - val_accuracy: 0.8764\n",
            "Epoch 18/70\n",
            "56/56 [==============================] - 0s 2ms/step - loss: 0.5101 - accuracy: 0.8646 - val_loss: 0.4666 - val_accuracy: 0.8764\n",
            "Epoch 19/70\n",
            "56/56 [==============================] - 0s 2ms/step - loss: 0.4956 - accuracy: 0.8674 - val_loss: 0.4670 - val_accuracy: 0.8764\n",
            "Epoch 20/70\n",
            "56/56 [==============================] - 0s 2ms/step - loss: 0.4848 - accuracy: 0.8669 - val_loss: 0.4684 - val_accuracy: 0.8764\n",
            "Epoch 21/70\n",
            "56/56 [==============================] - 0s 2ms/step - loss: 0.5026 - accuracy: 0.8652 - val_loss: 0.4661 - val_accuracy: 0.8764\n",
            "Epoch 22/70\n",
            "56/56 [==============================] - 0s 2ms/step - loss: 0.4882 - accuracy: 0.8680 - val_loss: 0.4642 - val_accuracy: 0.8764\n",
            "Epoch 23/70\n",
            "56/56 [==============================] - 0s 2ms/step - loss: 0.4760 - accuracy: 0.8702 - val_loss: 0.4643 - val_accuracy: 0.8764\n",
            "Epoch 24/70\n",
            "56/56 [==============================] - 0s 2ms/step - loss: 0.4859 - accuracy: 0.8691 - val_loss: 0.4706 - val_accuracy: 0.8764\n",
            "Epoch 25/70\n",
            "56/56 [==============================] - 0s 2ms/step - loss: 0.4748 - accuracy: 0.8657 - val_loss: 0.4647 - val_accuracy: 0.8764\n",
            "Epoch 26/70\n",
            "56/56 [==============================] - 0s 2ms/step - loss: 0.4869 - accuracy: 0.8702 - val_loss: 0.4637 - val_accuracy: 0.8764\n",
            "Epoch 27/70\n",
            "56/56 [==============================] - 0s 2ms/step - loss: 0.4689 - accuracy: 0.8713 - val_loss: 0.4608 - val_accuracy: 0.8764\n",
            "Epoch 28/70\n",
            "56/56 [==============================] - 0s 2ms/step - loss: 0.4726 - accuracy: 0.8730 - val_loss: 0.4634 - val_accuracy: 0.8764\n",
            "Epoch 29/70\n",
            "56/56 [==============================] - 0s 2ms/step - loss: 0.4613 - accuracy: 0.8708 - val_loss: 0.4619 - val_accuracy: 0.8764\n",
            "Epoch 30/70\n",
            "56/56 [==============================] - 0s 2ms/step - loss: 0.4789 - accuracy: 0.8680 - val_loss: 0.4663 - val_accuracy: 0.8764\n",
            "Epoch 31/70\n",
            "56/56 [==============================] - 0s 2ms/step - loss: 0.4682 - accuracy: 0.8663 - val_loss: 0.4614 - val_accuracy: 0.8764\n",
            "Epoch 32/70\n",
            "56/56 [==============================] - 0s 2ms/step - loss: 0.4789 - accuracy: 0.8685 - val_loss: 0.4630 - val_accuracy: 0.8764\n",
            "Epoch 33/70\n",
            "56/56 [==============================] - 0s 2ms/step - loss: 0.4657 - accuracy: 0.8713 - val_loss: 0.4630 - val_accuracy: 0.8764\n",
            "Epoch 34/70\n",
            "56/56 [==============================] - 0s 2ms/step - loss: 0.4669 - accuracy: 0.8770 - val_loss: 0.4650 - val_accuracy: 0.8764\n",
            "Epoch 35/70\n",
            "56/56 [==============================] - 0s 2ms/step - loss: 0.4735 - accuracy: 0.8781 - val_loss: 0.4663 - val_accuracy: 0.8764\n",
            "Epoch 36/70\n",
            "56/56 [==============================] - 0s 2ms/step - loss: 0.4695 - accuracy: 0.8702 - val_loss: 0.4669 - val_accuracy: 0.8764\n",
            "Epoch 37/70\n",
            "56/56 [==============================] - 0s 2ms/step - loss: 0.4586 - accuracy: 0.8753 - val_loss: 0.4650 - val_accuracy: 0.8764\n",
            "Epoch 38/70\n",
            "56/56 [==============================] - 0s 2ms/step - loss: 0.4556 - accuracy: 0.8730 - val_loss: 0.4665 - val_accuracy: 0.8764\n",
            "Epoch 39/70\n",
            "56/56 [==============================] - 0s 2ms/step - loss: 0.4584 - accuracy: 0.8747 - val_loss: 0.4658 - val_accuracy: 0.8764\n",
            "Epoch 40/70\n",
            "56/56 [==============================] - 0s 2ms/step - loss: 0.4577 - accuracy: 0.8764 - val_loss: 0.4635 - val_accuracy: 0.8764\n",
            "Epoch 41/70\n",
            "56/56 [==============================] - 0s 2ms/step - loss: 0.4546 - accuracy: 0.8697 - val_loss: 0.4649 - val_accuracy: 0.8764\n",
            "Epoch 42/70\n",
            "56/56 [==============================] - 0s 2ms/step - loss: 0.4639 - accuracy: 0.8691 - val_loss: 0.4712 - val_accuracy: 0.8764\n",
            "Epoch 43/70\n",
            "56/56 [==============================] - 0s 2ms/step - loss: 0.4566 - accuracy: 0.8713 - val_loss: 0.4703 - val_accuracy: 0.8764\n",
            "Epoch 44/70\n",
            "56/56 [==============================] - 0s 2ms/step - loss: 0.4595 - accuracy: 0.8713 - val_loss: 0.4655 - val_accuracy: 0.8764\n",
            "Epoch 45/70\n",
            "56/56 [==============================] - 0s 2ms/step - loss: 0.4570 - accuracy: 0.8736 - val_loss: 0.4625 - val_accuracy: 0.8764\n",
            "Epoch 46/70\n",
            "56/56 [==============================] - 0s 2ms/step - loss: 0.4518 - accuracy: 0.8719 - val_loss: 0.4718 - val_accuracy: 0.8764\n",
            "Epoch 47/70\n",
            "56/56 [==============================] - 0s 2ms/step - loss: 0.4532 - accuracy: 0.8736 - val_loss: 0.4642 - val_accuracy: 0.8764\n",
            "Epoch 48/70\n",
            "56/56 [==============================] - 0s 2ms/step - loss: 0.4489 - accuracy: 0.8730 - val_loss: 0.4673 - val_accuracy: 0.8764\n",
            "Epoch 49/70\n",
            "56/56 [==============================] - 0s 2ms/step - loss: 0.4501 - accuracy: 0.8764 - val_loss: 0.4668 - val_accuracy: 0.8764\n",
            "Epoch 50/70\n",
            "56/56 [==============================] - 0s 2ms/step - loss: 0.4410 - accuracy: 0.8764 - val_loss: 0.4647 - val_accuracy: 0.8764\n",
            "Epoch 51/70\n",
            "56/56 [==============================] - 0s 2ms/step - loss: 0.4366 - accuracy: 0.8747 - val_loss: 0.4658 - val_accuracy: 0.8764\n",
            "Epoch 52/70\n",
            "56/56 [==============================] - 0s 2ms/step - loss: 0.4490 - accuracy: 0.8713 - val_loss: 0.4644 - val_accuracy: 0.8764\n",
            "Epoch 53/70\n",
            "56/56 [==============================] - 0s 2ms/step - loss: 0.4357 - accuracy: 0.8770 - val_loss: 0.4693 - val_accuracy: 0.8764\n",
            "Epoch 54/70\n",
            "56/56 [==============================] - 0s 2ms/step - loss: 0.4383 - accuracy: 0.8820 - val_loss: 0.4624 - val_accuracy: 0.8764\n",
            "Epoch 55/70\n",
            "56/56 [==============================] - 0s 2ms/step - loss: 0.4499 - accuracy: 0.8708 - val_loss: 0.4613 - val_accuracy: 0.8764\n",
            "Epoch 56/70\n",
            "56/56 [==============================] - 0s 2ms/step - loss: 0.4477 - accuracy: 0.8798 - val_loss: 0.4616 - val_accuracy: 0.8764\n",
            "Epoch 57/70\n",
            "56/56 [==============================] - 0s 2ms/step - loss: 0.4495 - accuracy: 0.8747 - val_loss: 0.4615 - val_accuracy: 0.8764\n",
            "Epoch 58/70\n",
            "56/56 [==============================] - 0s 2ms/step - loss: 0.4401 - accuracy: 0.8798 - val_loss: 0.4630 - val_accuracy: 0.8764\n",
            "Epoch 59/70\n",
            "56/56 [==============================] - 0s 2ms/step - loss: 0.4514 - accuracy: 0.8770 - val_loss: 0.4632 - val_accuracy: 0.8764\n",
            "Epoch 60/70\n",
            "56/56 [==============================] - 0s 2ms/step - loss: 0.4470 - accuracy: 0.8775 - val_loss: 0.4635 - val_accuracy: 0.8764\n",
            "Epoch 61/70\n",
            "56/56 [==============================] - 0s 2ms/step - loss: 0.4352 - accuracy: 0.8770 - val_loss: 0.4653 - val_accuracy: 0.8764\n",
            "Epoch 62/70\n",
            "56/56 [==============================] - 0s 2ms/step - loss: 0.4375 - accuracy: 0.8758 - val_loss: 0.4643 - val_accuracy: 0.8764\n",
            "Epoch 63/70\n",
            "56/56 [==============================] - 0s 2ms/step - loss: 0.4413 - accuracy: 0.8787 - val_loss: 0.4658 - val_accuracy: 0.8764\n",
            "Epoch 64/70\n",
            "56/56 [==============================] - 0s 2ms/step - loss: 0.4400 - accuracy: 0.8775 - val_loss: 0.4690 - val_accuracy: 0.8764\n",
            "Epoch 65/70\n",
            "56/56 [==============================] - 0s 2ms/step - loss: 0.4465 - accuracy: 0.8747 - val_loss: 0.4665 - val_accuracy: 0.8764\n",
            "Epoch 66/70\n",
            "56/56 [==============================] - 0s 2ms/step - loss: 0.4442 - accuracy: 0.8787 - val_loss: 0.4650 - val_accuracy: 0.8764\n",
            "Epoch 67/70\n",
            "56/56 [==============================] - 0s 2ms/step - loss: 0.4529 - accuracy: 0.8787 - val_loss: 0.4716 - val_accuracy: 0.8764\n",
            "Epoch 68/70\n",
            "56/56 [==============================] - 0s 2ms/step - loss: 0.4405 - accuracy: 0.8764 - val_loss: 0.4678 - val_accuracy: 0.8764\n",
            "Epoch 69/70\n",
            "56/56 [==============================] - 0s 2ms/step - loss: 0.4299 - accuracy: 0.8770 - val_loss: 0.4668 - val_accuracy: 0.8764\n",
            "Epoch 70/70\n",
            "56/56 [==============================] - 0s 2ms/step - loss: 0.4266 - accuracy: 0.8831 - val_loss: 0.4710 - val_accuracy: 0.8764\n",
            "____________________________________________________________________________________________________\n",
            "FOLD NO 4 START\n",
            "Epoch 1/70\n",
            "56/56 [==============================] - 0s 4ms/step - loss: 1.2530 - accuracy: 0.4247 - val_loss: 0.9701 - val_accuracy: 0.6270\n",
            "Epoch 2/70\n",
            "56/56 [==============================] - 0s 2ms/step - loss: 0.8340 - accuracy: 0.7090 - val_loss: 0.6855 - val_accuracy: 0.8270\n",
            "Epoch 3/70\n",
            "56/56 [==============================] - 0s 2ms/step - loss: 0.6748 - accuracy: 0.7860 - val_loss: 0.5341 - val_accuracy: 0.8764\n",
            "Epoch 4/70\n",
            "56/56 [==============================] - 0s 2ms/step - loss: 0.6110 - accuracy: 0.8287 - val_loss: 0.4986 - val_accuracy: 0.8764\n",
            "Epoch 5/70\n",
            "56/56 [==============================] - 0s 2ms/step - loss: 0.6155 - accuracy: 0.8399 - val_loss: 0.4897 - val_accuracy: 0.8764\n",
            "Epoch 6/70\n",
            "56/56 [==============================] - 0s 2ms/step - loss: 0.5800 - accuracy: 0.8596 - val_loss: 0.4716 - val_accuracy: 0.8787\n",
            "Epoch 7/70\n",
            "56/56 [==============================] - 0s 2ms/step - loss: 0.5578 - accuracy: 0.8534 - val_loss: 0.4651 - val_accuracy: 0.8787\n",
            "Epoch 8/70\n",
            "56/56 [==============================] - 0s 2ms/step - loss: 0.5554 - accuracy: 0.8539 - val_loss: 0.4631 - val_accuracy: 0.8787\n",
            "Epoch 9/70\n",
            "56/56 [==============================] - 0s 2ms/step - loss: 0.5272 - accuracy: 0.8629 - val_loss: 0.4667 - val_accuracy: 0.8787\n",
            "Epoch 10/70\n",
            "56/56 [==============================] - 0s 2ms/step - loss: 0.5340 - accuracy: 0.8652 - val_loss: 0.4616 - val_accuracy: 0.8787\n",
            "Epoch 11/70\n",
            "56/56 [==============================] - 0s 2ms/step - loss: 0.5113 - accuracy: 0.8624 - val_loss: 0.4608 - val_accuracy: 0.8787\n",
            "Epoch 12/70\n",
            "56/56 [==============================] - 0s 2ms/step - loss: 0.5188 - accuracy: 0.8646 - val_loss: 0.4617 - val_accuracy: 0.8787\n",
            "Epoch 13/70\n",
            "56/56 [==============================] - 0s 2ms/step - loss: 0.5012 - accuracy: 0.8646 - val_loss: 0.4607 - val_accuracy: 0.8787\n",
            "Epoch 14/70\n",
            "56/56 [==============================] - 0s 2ms/step - loss: 0.4989 - accuracy: 0.8674 - val_loss: 0.4570 - val_accuracy: 0.8787\n",
            "Epoch 15/70\n",
            "56/56 [==============================] - 0s 2ms/step - loss: 0.5005 - accuracy: 0.8640 - val_loss: 0.4608 - val_accuracy: 0.8787\n",
            "Epoch 16/70\n",
            "56/56 [==============================] - 0s 2ms/step - loss: 0.4883 - accuracy: 0.8652 - val_loss: 0.4570 - val_accuracy: 0.8787\n",
            "Epoch 17/70\n",
            "56/56 [==============================] - 0s 2ms/step - loss: 0.4764 - accuracy: 0.8691 - val_loss: 0.4516 - val_accuracy: 0.8787\n",
            "Epoch 18/70\n",
            "56/56 [==============================] - 0s 2ms/step - loss: 0.4782 - accuracy: 0.8669 - val_loss: 0.4544 - val_accuracy: 0.8787\n",
            "Epoch 19/70\n",
            "56/56 [==============================] - 0s 2ms/step - loss: 0.4785 - accuracy: 0.8725 - val_loss: 0.4575 - val_accuracy: 0.8787\n",
            "Epoch 20/70\n",
            "56/56 [==============================] - 0s 2ms/step - loss: 0.4800 - accuracy: 0.8657 - val_loss: 0.4574 - val_accuracy: 0.8787\n",
            "Epoch 21/70\n",
            "56/56 [==============================] - 0s 2ms/step - loss: 0.4691 - accuracy: 0.8685 - val_loss: 0.4574 - val_accuracy: 0.8787\n",
            "Epoch 22/70\n",
            "56/56 [==============================] - 0s 2ms/step - loss: 0.4546 - accuracy: 0.8719 - val_loss: 0.4521 - val_accuracy: 0.8787\n",
            "Epoch 23/70\n",
            "56/56 [==============================] - 0s 2ms/step - loss: 0.4631 - accuracy: 0.8730 - val_loss: 0.4539 - val_accuracy: 0.8787\n",
            "Epoch 24/70\n",
            "56/56 [==============================] - 0s 2ms/step - loss: 0.4682 - accuracy: 0.8680 - val_loss: 0.4544 - val_accuracy: 0.8787\n",
            "Epoch 25/70\n",
            "56/56 [==============================] - 0s 2ms/step - loss: 0.4667 - accuracy: 0.8685 - val_loss: 0.4591 - val_accuracy: 0.8787\n",
            "Epoch 26/70\n",
            "56/56 [==============================] - 0s 2ms/step - loss: 0.4620 - accuracy: 0.8719 - val_loss: 0.4525 - val_accuracy: 0.8787\n",
            "Epoch 27/70\n",
            "56/56 [==============================] - 0s 2ms/step - loss: 0.4717 - accuracy: 0.8697 - val_loss: 0.4518 - val_accuracy: 0.8787\n",
            "Epoch 28/70\n",
            "56/56 [==============================] - 0s 2ms/step - loss: 0.4545 - accuracy: 0.8742 - val_loss: 0.4518 - val_accuracy: 0.8787\n",
            "Epoch 29/70\n",
            "56/56 [==============================] - 0s 2ms/step - loss: 0.4644 - accuracy: 0.8691 - val_loss: 0.4498 - val_accuracy: 0.8787\n",
            "Epoch 30/70\n",
            "56/56 [==============================] - 0s 2ms/step - loss: 0.4513 - accuracy: 0.8725 - val_loss: 0.4530 - val_accuracy: 0.8787\n",
            "Epoch 31/70\n",
            "56/56 [==============================] - 0s 2ms/step - loss: 0.4550 - accuracy: 0.8742 - val_loss: 0.4466 - val_accuracy: 0.8787\n",
            "Epoch 32/70\n",
            "56/56 [==============================] - 0s 2ms/step - loss: 0.4503 - accuracy: 0.8713 - val_loss: 0.4520 - val_accuracy: 0.8787\n",
            "Epoch 33/70\n",
            "56/56 [==============================] - 0s 2ms/step - loss: 0.4452 - accuracy: 0.8747 - val_loss: 0.4465 - val_accuracy: 0.8787\n",
            "Epoch 34/70\n",
            "56/56 [==============================] - 0s 2ms/step - loss: 0.4575 - accuracy: 0.8702 - val_loss: 0.4488 - val_accuracy: 0.8787\n",
            "Epoch 35/70\n",
            "56/56 [==============================] - 0s 2ms/step - loss: 0.4567 - accuracy: 0.8685 - val_loss: 0.4498 - val_accuracy: 0.8787\n",
            "Epoch 36/70\n",
            "56/56 [==============================] - 0s 2ms/step - loss: 0.4545 - accuracy: 0.8736 - val_loss: 0.4549 - val_accuracy: 0.8787\n",
            "Epoch 37/70\n",
            "56/56 [==============================] - 0s 2ms/step - loss: 0.4377 - accuracy: 0.8736 - val_loss: 0.4528 - val_accuracy: 0.8787\n",
            "Epoch 38/70\n",
            "56/56 [==============================] - 0s 2ms/step - loss: 0.4627 - accuracy: 0.8702 - val_loss: 0.4534 - val_accuracy: 0.8787\n",
            "Epoch 39/70\n",
            "56/56 [==============================] - 0s 2ms/step - loss: 0.4378 - accuracy: 0.8764 - val_loss: 0.4540 - val_accuracy: 0.8787\n",
            "Epoch 40/70\n",
            "56/56 [==============================] - 0s 2ms/step - loss: 0.4515 - accuracy: 0.8725 - val_loss: 0.4559 - val_accuracy: 0.8787\n",
            "Epoch 41/70\n",
            "56/56 [==============================] - 0s 2ms/step - loss: 0.4571 - accuracy: 0.8764 - val_loss: 0.4576 - val_accuracy: 0.8787\n",
            "Epoch 42/70\n",
            "56/56 [==============================] - 0s 2ms/step - loss: 0.4519 - accuracy: 0.8792 - val_loss: 0.4626 - val_accuracy: 0.8787\n",
            "Epoch 43/70\n",
            "56/56 [==============================] - 0s 2ms/step - loss: 0.4409 - accuracy: 0.8758 - val_loss: 0.4533 - val_accuracy: 0.8787\n",
            "Epoch 44/70\n",
            "56/56 [==============================] - 0s 2ms/step - loss: 0.4316 - accuracy: 0.8753 - val_loss: 0.4491 - val_accuracy: 0.8787\n",
            "Epoch 45/70\n",
            "56/56 [==============================] - 0s 2ms/step - loss: 0.4453 - accuracy: 0.8764 - val_loss: 0.4514 - val_accuracy: 0.8787\n",
            "Epoch 46/70\n",
            "56/56 [==============================] - 0s 2ms/step - loss: 0.4472 - accuracy: 0.8708 - val_loss: 0.4502 - val_accuracy: 0.8787\n",
            "Epoch 47/70\n",
            "56/56 [==============================] - 0s 2ms/step - loss: 0.4407 - accuracy: 0.8747 - val_loss: 0.4511 - val_accuracy: 0.8787\n",
            "Epoch 48/70\n",
            "56/56 [==============================] - 0s 2ms/step - loss: 0.4527 - accuracy: 0.8775 - val_loss: 0.4555 - val_accuracy: 0.8787\n",
            "Epoch 49/70\n",
            "56/56 [==============================] - 0s 2ms/step - loss: 0.4472 - accuracy: 0.8713 - val_loss: 0.4557 - val_accuracy: 0.8787\n",
            "Epoch 50/70\n",
            "56/56 [==============================] - 0s 2ms/step - loss: 0.4368 - accuracy: 0.8719 - val_loss: 0.4560 - val_accuracy: 0.8787\n",
            "Epoch 51/70\n",
            "56/56 [==============================] - 0s 2ms/step - loss: 0.4334 - accuracy: 0.8730 - val_loss: 0.4584 - val_accuracy: 0.8787\n",
            "Epoch 52/70\n",
            "56/56 [==============================] - 0s 2ms/step - loss: 0.4427 - accuracy: 0.8758 - val_loss: 0.4624 - val_accuracy: 0.8787\n",
            "Epoch 53/70\n",
            "56/56 [==============================] - 0s 6ms/step - loss: 0.4341 - accuracy: 0.8764 - val_loss: 0.4592 - val_accuracy: 0.8787\n",
            "Epoch 54/70\n",
            "56/56 [==============================] - 0s 2ms/step - loss: 0.4401 - accuracy: 0.8764 - val_loss: 0.4533 - val_accuracy: 0.8787\n",
            "Epoch 55/70\n",
            "56/56 [==============================] - 0s 2ms/step - loss: 0.4370 - accuracy: 0.8758 - val_loss: 0.4608 - val_accuracy: 0.8787\n",
            "Epoch 56/70\n",
            "56/56 [==============================] - 0s 2ms/step - loss: 0.4314 - accuracy: 0.8753 - val_loss: 0.4661 - val_accuracy: 0.8787\n",
            "Epoch 57/70\n",
            "56/56 [==============================] - 0s 2ms/step - loss: 0.4378 - accuracy: 0.8742 - val_loss: 0.4543 - val_accuracy: 0.8787\n",
            "Epoch 58/70\n",
            "56/56 [==============================] - 0s 2ms/step - loss: 0.4309 - accuracy: 0.8736 - val_loss: 0.4486 - val_accuracy: 0.8787\n",
            "Epoch 59/70\n",
            "56/56 [==============================] - 0s 2ms/step - loss: 0.4373 - accuracy: 0.8719 - val_loss: 0.4493 - val_accuracy: 0.8787\n",
            "Epoch 60/70\n",
            "56/56 [==============================] - 0s 2ms/step - loss: 0.4213 - accuracy: 0.8770 - val_loss: 0.4480 - val_accuracy: 0.8787\n",
            "Epoch 61/70\n",
            "56/56 [==============================] - 0s 2ms/step - loss: 0.4229 - accuracy: 0.8803 - val_loss: 0.4507 - val_accuracy: 0.8787\n",
            "Epoch 62/70\n",
            "56/56 [==============================] - 0s 2ms/step - loss: 0.4298 - accuracy: 0.8764 - val_loss: 0.4549 - val_accuracy: 0.8787\n",
            "Epoch 63/70\n",
            "56/56 [==============================] - 0s 2ms/step - loss: 0.4355 - accuracy: 0.8753 - val_loss: 0.4482 - val_accuracy: 0.8787\n",
            "Epoch 64/70\n",
            "56/56 [==============================] - 0s 2ms/step - loss: 0.4223 - accuracy: 0.8753 - val_loss: 0.4539 - val_accuracy: 0.8787\n",
            "Epoch 65/70\n",
            "56/56 [==============================] - 0s 2ms/step - loss: 0.4364 - accuracy: 0.8798 - val_loss: 0.4535 - val_accuracy: 0.8787\n",
            "Epoch 66/70\n",
            "56/56 [==============================] - 0s 2ms/step - loss: 0.4290 - accuracy: 0.8775 - val_loss: 0.4529 - val_accuracy: 0.8787\n",
            "Epoch 67/70\n",
            "56/56 [==============================] - 0s 2ms/step - loss: 0.4277 - accuracy: 0.8787 - val_loss: 0.4552 - val_accuracy: 0.8787\n",
            "Epoch 68/70\n",
            "56/56 [==============================] - 0s 2ms/step - loss: 0.4248 - accuracy: 0.8798 - val_loss: 0.4508 - val_accuracy: 0.8787\n",
            "Epoch 69/70\n",
            "56/56 [==============================] - 0s 2ms/step - loss: 0.4418 - accuracy: 0.8758 - val_loss: 0.4577 - val_accuracy: 0.8787\n",
            "Epoch 70/70\n",
            "56/56 [==============================] - 0s 2ms/step - loss: 0.4296 - accuracy: 0.8758 - val_loss: 0.4554 - val_accuracy: 0.8787\n",
            "____________________________________________________________________________________________________\n",
            "FOLD NO 5 START\n",
            "Epoch 1/70\n",
            "56/56 [==============================] - 0s 4ms/step - loss: 1.3303 - accuracy: 0.3921 - val_loss: 1.1049 - val_accuracy: 0.5416\n",
            "Epoch 2/70\n",
            "56/56 [==============================] - 0s 2ms/step - loss: 0.9471 - accuracy: 0.6371 - val_loss: 0.8820 - val_accuracy: 0.5416\n",
            "Epoch 3/70\n",
            "56/56 [==============================] - 0s 2ms/step - loss: 0.7892 - accuracy: 0.6961 - val_loss: 0.7313 - val_accuracy: 0.8494\n",
            "Epoch 4/70\n",
            "56/56 [==============================] - 0s 2ms/step - loss: 0.6968 - accuracy: 0.7961 - val_loss: 0.5924 - val_accuracy: 0.8719\n",
            "Epoch 5/70\n",
            "56/56 [==============================] - 0s 2ms/step - loss: 0.6411 - accuracy: 0.8213 - val_loss: 0.5088 - val_accuracy: 0.8742\n",
            "Epoch 6/70\n",
            "56/56 [==============================] - 0s 2ms/step - loss: 0.5943 - accuracy: 0.8354 - val_loss: 0.4839 - val_accuracy: 0.8742\n",
            "Epoch 7/70\n",
            "56/56 [==============================] - 0s 2ms/step - loss: 0.5690 - accuracy: 0.8489 - val_loss: 0.4739 - val_accuracy: 0.8742\n",
            "Epoch 8/70\n",
            "56/56 [==============================] - 0s 2ms/step - loss: 0.5523 - accuracy: 0.8528 - val_loss: 0.4701 - val_accuracy: 0.8742\n",
            "Epoch 9/70\n",
            "56/56 [==============================] - 0s 2ms/step - loss: 0.5571 - accuracy: 0.8500 - val_loss: 0.4678 - val_accuracy: 0.8742\n",
            "Epoch 10/70\n",
            "56/56 [==============================] - 0s 2ms/step - loss: 0.5524 - accuracy: 0.8551 - val_loss: 0.4722 - val_accuracy: 0.8742\n",
            "Epoch 11/70\n",
            "56/56 [==============================] - 0s 2ms/step - loss: 0.5546 - accuracy: 0.8579 - val_loss: 0.4632 - val_accuracy: 0.8742\n",
            "Epoch 12/70\n",
            "56/56 [==============================] - 0s 2ms/step - loss: 0.5420 - accuracy: 0.8612 - val_loss: 0.4660 - val_accuracy: 0.8742\n",
            "Epoch 13/70\n",
            "56/56 [==============================] - 0s 2ms/step - loss: 0.5321 - accuracy: 0.8579 - val_loss: 0.4631 - val_accuracy: 0.8742\n",
            "Epoch 14/70\n",
            "56/56 [==============================] - 0s 2ms/step - loss: 0.5318 - accuracy: 0.8612 - val_loss: 0.4614 - val_accuracy: 0.8742\n",
            "Epoch 15/70\n",
            "56/56 [==============================] - 0s 2ms/step - loss: 0.5246 - accuracy: 0.8624 - val_loss: 0.4631 - val_accuracy: 0.8742\n",
            "Epoch 16/70\n",
            "56/56 [==============================] - 0s 2ms/step - loss: 0.5110 - accuracy: 0.8646 - val_loss: 0.4541 - val_accuracy: 0.8742\n",
            "Epoch 17/70\n",
            "56/56 [==============================] - 0s 2ms/step - loss: 0.5252 - accuracy: 0.8624 - val_loss: 0.4491 - val_accuracy: 0.8742\n",
            "Epoch 18/70\n",
            "56/56 [==============================] - 0s 2ms/step - loss: 0.5095 - accuracy: 0.8646 - val_loss: 0.4544 - val_accuracy: 0.8742\n",
            "Epoch 19/70\n",
            "56/56 [==============================] - 0s 2ms/step - loss: 0.5206 - accuracy: 0.8669 - val_loss: 0.4569 - val_accuracy: 0.8742\n",
            "Epoch 20/70\n",
            "56/56 [==============================] - 0s 2ms/step - loss: 0.5029 - accuracy: 0.8652 - val_loss: 0.4516 - val_accuracy: 0.8742\n",
            "Epoch 21/70\n",
            "56/56 [==============================] - 0s 2ms/step - loss: 0.4950 - accuracy: 0.8646 - val_loss: 0.4510 - val_accuracy: 0.8742\n",
            "Epoch 22/70\n",
            "56/56 [==============================] - 0s 3ms/step - loss: 0.4997 - accuracy: 0.8674 - val_loss: 0.4516 - val_accuracy: 0.8742\n",
            "Epoch 23/70\n",
            "56/56 [==============================] - 0s 2ms/step - loss: 0.5043 - accuracy: 0.8702 - val_loss: 0.4550 - val_accuracy: 0.8742\n",
            "Epoch 24/70\n",
            "56/56 [==============================] - 0s 2ms/step - loss: 0.4921 - accuracy: 0.8713 - val_loss: 0.4513 - val_accuracy: 0.8742\n",
            "Epoch 25/70\n",
            "56/56 [==============================] - 0s 2ms/step - loss: 0.5024 - accuracy: 0.8697 - val_loss: 0.4517 - val_accuracy: 0.8742\n",
            "Epoch 26/70\n",
            "56/56 [==============================] - 0s 3ms/step - loss: 0.4953 - accuracy: 0.8663 - val_loss: 0.4545 - val_accuracy: 0.8742\n",
            "Epoch 27/70\n",
            "56/56 [==============================] - 0s 2ms/step - loss: 0.4988 - accuracy: 0.8713 - val_loss: 0.4547 - val_accuracy: 0.8742\n",
            "Epoch 28/70\n",
            "56/56 [==============================] - 0s 2ms/step - loss: 0.4891 - accuracy: 0.8669 - val_loss: 0.4562 - val_accuracy: 0.8742\n",
            "Epoch 29/70\n",
            "56/56 [==============================] - 0s 2ms/step - loss: 0.4798 - accuracy: 0.8685 - val_loss: 0.4562 - val_accuracy: 0.8742\n",
            "Epoch 30/70\n",
            "56/56 [==============================] - 0s 2ms/step - loss: 0.4857 - accuracy: 0.8680 - val_loss: 0.4540 - val_accuracy: 0.8742\n",
            "Epoch 31/70\n",
            "56/56 [==============================] - 0s 2ms/step - loss: 0.4857 - accuracy: 0.8702 - val_loss: 0.4566 - val_accuracy: 0.8742\n",
            "Epoch 32/70\n",
            "56/56 [==============================] - 0s 2ms/step - loss: 0.4811 - accuracy: 0.8742 - val_loss: 0.4543 - val_accuracy: 0.8742\n",
            "Epoch 33/70\n",
            "56/56 [==============================] - 0s 2ms/step - loss: 0.4741 - accuracy: 0.8742 - val_loss: 0.4524 - val_accuracy: 0.8742\n",
            "Epoch 34/70\n",
            "56/56 [==============================] - 0s 2ms/step - loss: 0.4754 - accuracy: 0.8753 - val_loss: 0.4504 - val_accuracy: 0.8742\n",
            "Epoch 35/70\n",
            "56/56 [==============================] - 0s 2ms/step - loss: 0.4638 - accuracy: 0.8758 - val_loss: 0.4530 - val_accuracy: 0.8742\n",
            "Epoch 36/70\n",
            "56/56 [==============================] - 0s 2ms/step - loss: 0.4736 - accuracy: 0.8730 - val_loss: 0.4543 - val_accuracy: 0.8742\n",
            "Epoch 37/70\n",
            "56/56 [==============================] - 0s 2ms/step - loss: 0.4766 - accuracy: 0.8697 - val_loss: 0.4529 - val_accuracy: 0.8742\n",
            "Epoch 38/70\n",
            "56/56 [==============================] - 0s 2ms/step - loss: 0.4810 - accuracy: 0.8713 - val_loss: 0.4527 - val_accuracy: 0.8742\n",
            "Epoch 39/70\n",
            "56/56 [==============================] - 0s 2ms/step - loss: 0.4695 - accuracy: 0.8730 - val_loss: 0.4540 - val_accuracy: 0.8742\n",
            "Epoch 40/70\n",
            "56/56 [==============================] - 0s 2ms/step - loss: 0.4596 - accuracy: 0.8736 - val_loss: 0.4512 - val_accuracy: 0.8742\n",
            "Epoch 41/70\n",
            "56/56 [==============================] - 0s 2ms/step - loss: 0.4683 - accuracy: 0.8725 - val_loss: 0.4536 - val_accuracy: 0.8764\n",
            "Epoch 42/70\n",
            "56/56 [==============================] - 0s 2ms/step - loss: 0.4648 - accuracy: 0.8742 - val_loss: 0.4518 - val_accuracy: 0.8764\n",
            "Epoch 43/70\n",
            "56/56 [==============================] - 0s 2ms/step - loss: 0.4656 - accuracy: 0.8781 - val_loss: 0.4521 - val_accuracy: 0.8764\n",
            "Epoch 44/70\n",
            "56/56 [==============================] - 0s 2ms/step - loss: 0.4602 - accuracy: 0.8753 - val_loss: 0.4526 - val_accuracy: 0.8742\n",
            "Epoch 45/70\n",
            "56/56 [==============================] - 0s 2ms/step - loss: 0.4631 - accuracy: 0.8753 - val_loss: 0.4537 - val_accuracy: 0.8764\n",
            "Epoch 46/70\n",
            "56/56 [==============================] - 0s 2ms/step - loss: 0.4672 - accuracy: 0.8730 - val_loss: 0.4559 - val_accuracy: 0.8764\n",
            "Epoch 47/70\n",
            "56/56 [==============================] - 0s 2ms/step - loss: 0.4609 - accuracy: 0.8747 - val_loss: 0.4562 - val_accuracy: 0.8764\n",
            "Epoch 48/70\n",
            "56/56 [==============================] - 0s 2ms/step - loss: 0.4638 - accuracy: 0.8770 - val_loss: 0.4561 - val_accuracy: 0.8764\n",
            "Epoch 49/70\n",
            "56/56 [==============================] - 0s 2ms/step - loss: 0.4597 - accuracy: 0.8736 - val_loss: 0.4527 - val_accuracy: 0.8764\n",
            "Epoch 50/70\n",
            "56/56 [==============================] - 0s 2ms/step - loss: 0.4607 - accuracy: 0.8742 - val_loss: 0.4568 - val_accuracy: 0.8764\n",
            "Epoch 51/70\n",
            "56/56 [==============================] - 0s 2ms/step - loss: 0.4652 - accuracy: 0.8736 - val_loss: 0.4559 - val_accuracy: 0.8764\n",
            "Epoch 52/70\n",
            "56/56 [==============================] - 0s 2ms/step - loss: 0.4648 - accuracy: 0.8725 - val_loss: 0.4543 - val_accuracy: 0.8764\n",
            "Epoch 53/70\n",
            "56/56 [==============================] - 0s 2ms/step - loss: 0.4441 - accuracy: 0.8781 - val_loss: 0.4560 - val_accuracy: 0.8764\n",
            "Epoch 54/70\n",
            "56/56 [==============================] - 0s 2ms/step - loss: 0.4463 - accuracy: 0.8775 - val_loss: 0.4591 - val_accuracy: 0.8764\n",
            "Epoch 55/70\n",
            "56/56 [==============================] - 0s 2ms/step - loss: 0.4553 - accuracy: 0.8747 - val_loss: 0.4552 - val_accuracy: 0.8764\n",
            "Epoch 56/70\n",
            "56/56 [==============================] - 0s 2ms/step - loss: 0.4569 - accuracy: 0.8770 - val_loss: 0.4612 - val_accuracy: 0.8697\n",
            "Epoch 57/70\n",
            "56/56 [==============================] - 0s 2ms/step - loss: 0.4517 - accuracy: 0.8747 - val_loss: 0.4540 - val_accuracy: 0.8764\n",
            "Epoch 58/70\n",
            "56/56 [==============================] - 0s 2ms/step - loss: 0.4517 - accuracy: 0.8719 - val_loss: 0.4505 - val_accuracy: 0.8764\n",
            "Epoch 59/70\n",
            "56/56 [==============================] - 0s 2ms/step - loss: 0.4590 - accuracy: 0.8770 - val_loss: 0.4489 - val_accuracy: 0.8764\n",
            "Epoch 60/70\n",
            "56/56 [==============================] - 0s 2ms/step - loss: 0.4488 - accuracy: 0.8775 - val_loss: 0.4514 - val_accuracy: 0.8764\n",
            "Epoch 61/70\n",
            "56/56 [==============================] - 0s 2ms/step - loss: 0.4522 - accuracy: 0.8747 - val_loss: 0.4543 - val_accuracy: 0.8764\n",
            "Epoch 62/70\n",
            "56/56 [==============================] - 0s 2ms/step - loss: 0.4559 - accuracy: 0.8736 - val_loss: 0.4525 - val_accuracy: 0.8719\n",
            "Epoch 63/70\n",
            "56/56 [==============================] - 0s 2ms/step - loss: 0.4506 - accuracy: 0.8787 - val_loss: 0.4561 - val_accuracy: 0.8719\n",
            "Epoch 64/70\n",
            "56/56 [==============================] - 0s 2ms/step - loss: 0.4438 - accuracy: 0.8775 - val_loss: 0.4528 - val_accuracy: 0.8674\n",
            "Epoch 65/70\n",
            "56/56 [==============================] - 0s 2ms/step - loss: 0.4463 - accuracy: 0.8809 - val_loss: 0.4522 - val_accuracy: 0.8719\n",
            "Epoch 66/70\n",
            "56/56 [==============================] - 0s 2ms/step - loss: 0.4513 - accuracy: 0.8758 - val_loss: 0.4567 - val_accuracy: 0.8652\n",
            "Epoch 67/70\n",
            "56/56 [==============================] - 0s 2ms/step - loss: 0.4447 - accuracy: 0.8775 - val_loss: 0.4580 - val_accuracy: 0.8652\n",
            "Epoch 68/70\n",
            "56/56 [==============================] - 0s 2ms/step - loss: 0.4405 - accuracy: 0.8815 - val_loss: 0.4583 - val_accuracy: 0.8629\n",
            "Epoch 69/70\n",
            "56/56 [==============================] - 0s 2ms/step - loss: 0.4442 - accuracy: 0.8792 - val_loss: 0.4504 - val_accuracy: 0.8697\n",
            "Epoch 70/70\n",
            "56/56 [==============================] - 0s 2ms/step - loss: 0.4524 - accuracy: 0.8753 - val_loss: 0.4558 - val_accuracy: 0.8652\n",
            "____________________________________________________________________________________________________\n",
            "FOLD NO 6 START\n",
            "Epoch 1/70\n",
            "56/56 [==============================] - 0s 4ms/step - loss: 1.2423 - accuracy: 0.4315 - val_loss: 1.0063 - val_accuracy: 0.7146\n",
            "Epoch 2/70\n",
            "56/56 [==============================] - 0s 2ms/step - loss: 0.8537 - accuracy: 0.7152 - val_loss: 0.6552 - val_accuracy: 0.8112\n",
            "Epoch 3/70\n",
            "56/56 [==============================] - 0s 2ms/step - loss: 0.7033 - accuracy: 0.7787 - val_loss: 0.5080 - val_accuracy: 0.8517\n",
            "Epoch 4/70\n",
            "56/56 [==============================] - 0s 2ms/step - loss: 0.6563 - accuracy: 0.8034 - val_loss: 0.4696 - val_accuracy: 0.8674\n",
            "Epoch 5/70\n",
            "56/56 [==============================] - 0s 2ms/step - loss: 0.6084 - accuracy: 0.8371 - val_loss: 0.4497 - val_accuracy: 0.8719\n",
            "Epoch 6/70\n",
            "56/56 [==============================] - 0s 2ms/step - loss: 0.6029 - accuracy: 0.8461 - val_loss: 0.4498 - val_accuracy: 0.8719\n",
            "Epoch 7/70\n",
            "56/56 [==============================] - 0s 2ms/step - loss: 0.5588 - accuracy: 0.8483 - val_loss: 0.4445 - val_accuracy: 0.8719\n",
            "Epoch 8/70\n",
            "56/56 [==============================] - 0s 2ms/step - loss: 0.5693 - accuracy: 0.8562 - val_loss: 0.4529 - val_accuracy: 0.8742\n",
            "Epoch 9/70\n",
            "56/56 [==============================] - 0s 2ms/step - loss: 0.5402 - accuracy: 0.8551 - val_loss: 0.4516 - val_accuracy: 0.8742\n",
            "Epoch 10/70\n",
            "56/56 [==============================] - 0s 2ms/step - loss: 0.5265 - accuracy: 0.8607 - val_loss: 0.4489 - val_accuracy: 0.8719\n",
            "Epoch 11/70\n",
            "56/56 [==============================] - 0s 2ms/step - loss: 0.5449 - accuracy: 0.8551 - val_loss: 0.4457 - val_accuracy: 0.8719\n",
            "Epoch 12/70\n",
            "56/56 [==============================] - 0s 2ms/step - loss: 0.5244 - accuracy: 0.8584 - val_loss: 0.4467 - val_accuracy: 0.8719\n",
            "Epoch 13/70\n",
            "56/56 [==============================] - 0s 2ms/step - loss: 0.5242 - accuracy: 0.8573 - val_loss: 0.4494 - val_accuracy: 0.8719\n",
            "Epoch 14/70\n",
            "56/56 [==============================] - 0s 2ms/step - loss: 0.5210 - accuracy: 0.8573 - val_loss: 0.4456 - val_accuracy: 0.8719\n",
            "Epoch 15/70\n",
            "56/56 [==============================] - 0s 2ms/step - loss: 0.5111 - accuracy: 0.8646 - val_loss: 0.4459 - val_accuracy: 0.8719\n",
            "Epoch 16/70\n",
            "56/56 [==============================] - 0s 2ms/step - loss: 0.5051 - accuracy: 0.8584 - val_loss: 0.4427 - val_accuracy: 0.8719\n",
            "Epoch 17/70\n",
            "56/56 [==============================] - 0s 2ms/step - loss: 0.4982 - accuracy: 0.8635 - val_loss: 0.4402 - val_accuracy: 0.8787\n",
            "Epoch 18/70\n",
            "56/56 [==============================] - 0s 2ms/step - loss: 0.5039 - accuracy: 0.8584 - val_loss: 0.4455 - val_accuracy: 0.8719\n",
            "Epoch 19/70\n",
            "56/56 [==============================] - 0s 2ms/step - loss: 0.4955 - accuracy: 0.8635 - val_loss: 0.4434 - val_accuracy: 0.8742\n",
            "Epoch 20/70\n",
            "56/56 [==============================] - 0s 2ms/step - loss: 0.5004 - accuracy: 0.8640 - val_loss: 0.4451 - val_accuracy: 0.8742\n",
            "Epoch 21/70\n",
            "56/56 [==============================] - 0s 2ms/step - loss: 0.4796 - accuracy: 0.8624 - val_loss: 0.4389 - val_accuracy: 0.8787\n",
            "Epoch 22/70\n",
            "56/56 [==============================] - 0s 2ms/step - loss: 0.4941 - accuracy: 0.8657 - val_loss: 0.4431 - val_accuracy: 0.8787\n",
            "Epoch 23/70\n",
            "56/56 [==============================] - 0s 2ms/step - loss: 0.4751 - accuracy: 0.8697 - val_loss: 0.4423 - val_accuracy: 0.8787\n",
            "Epoch 24/70\n",
            "56/56 [==============================] - 0s 2ms/step - loss: 0.4805 - accuracy: 0.8680 - val_loss: 0.4405 - val_accuracy: 0.8787\n",
            "Epoch 25/70\n",
            "56/56 [==============================] - 0s 2ms/step - loss: 0.4845 - accuracy: 0.8663 - val_loss: 0.4472 - val_accuracy: 0.8787\n",
            "Epoch 26/70\n",
            "56/56 [==============================] - 0s 2ms/step - loss: 0.4876 - accuracy: 0.8635 - val_loss: 0.4414 - val_accuracy: 0.8787\n",
            "Epoch 27/70\n",
            "56/56 [==============================] - 0s 2ms/step - loss: 0.4743 - accuracy: 0.8652 - val_loss: 0.4485 - val_accuracy: 0.8742\n",
            "Epoch 28/70\n",
            "56/56 [==============================] - 0s 2ms/step - loss: 0.4727 - accuracy: 0.8657 - val_loss: 0.4428 - val_accuracy: 0.8787\n",
            "Epoch 29/70\n",
            "56/56 [==============================] - 0s 2ms/step - loss: 0.4742 - accuracy: 0.8691 - val_loss: 0.4444 - val_accuracy: 0.8787\n",
            "Epoch 30/70\n",
            "56/56 [==============================] - 0s 2ms/step - loss: 0.4611 - accuracy: 0.8713 - val_loss: 0.4431 - val_accuracy: 0.8787\n",
            "Epoch 31/70\n",
            "56/56 [==============================] - 0s 2ms/step - loss: 0.4686 - accuracy: 0.8713 - val_loss: 0.4447 - val_accuracy: 0.8787\n",
            "Epoch 32/70\n",
            "56/56 [==============================] - 0s 2ms/step - loss: 0.4658 - accuracy: 0.8708 - val_loss: 0.4465 - val_accuracy: 0.8787\n",
            "Epoch 33/70\n",
            "56/56 [==============================] - 0s 3ms/step - loss: 0.4568 - accuracy: 0.8719 - val_loss: 0.4421 - val_accuracy: 0.8787\n",
            "Epoch 34/70\n",
            "56/56 [==============================] - 0s 2ms/step - loss: 0.4584 - accuracy: 0.8742 - val_loss: 0.4442 - val_accuracy: 0.8787\n",
            "Epoch 35/70\n",
            "56/56 [==============================] - 0s 2ms/step - loss: 0.4590 - accuracy: 0.8736 - val_loss: 0.4463 - val_accuracy: 0.8787\n",
            "Epoch 36/70\n",
            "56/56 [==============================] - 0s 2ms/step - loss: 0.4544 - accuracy: 0.8730 - val_loss: 0.4441 - val_accuracy: 0.8787\n",
            "Epoch 37/70\n",
            "56/56 [==============================] - 0s 2ms/step - loss: 0.4703 - accuracy: 0.8713 - val_loss: 0.4479 - val_accuracy: 0.8787\n",
            "Epoch 38/70\n",
            "56/56 [==============================] - 0s 2ms/step - loss: 0.4467 - accuracy: 0.8781 - val_loss: 0.4471 - val_accuracy: 0.8787\n",
            "Epoch 39/70\n",
            "56/56 [==============================] - 0s 2ms/step - loss: 0.4498 - accuracy: 0.8742 - val_loss: 0.4421 - val_accuracy: 0.8787\n",
            "Epoch 40/70\n",
            "56/56 [==============================] - 0s 2ms/step - loss: 0.4574 - accuracy: 0.8736 - val_loss: 0.4444 - val_accuracy: 0.8787\n",
            "Epoch 41/70\n",
            "56/56 [==============================] - 0s 2ms/step - loss: 0.4530 - accuracy: 0.8764 - val_loss: 0.4460 - val_accuracy: 0.8787\n",
            "Epoch 42/70\n",
            "56/56 [==============================] - 0s 2ms/step - loss: 0.4541 - accuracy: 0.8702 - val_loss: 0.4511 - val_accuracy: 0.8787\n",
            "Epoch 43/70\n",
            "56/56 [==============================] - 0s 2ms/step - loss: 0.4670 - accuracy: 0.8742 - val_loss: 0.4440 - val_accuracy: 0.8787\n",
            "Epoch 44/70\n",
            "56/56 [==============================] - 0s 2ms/step - loss: 0.4449 - accuracy: 0.8781 - val_loss: 0.4472 - val_accuracy: 0.8787\n",
            "Epoch 45/70\n",
            "56/56 [==============================] - 0s 2ms/step - loss: 0.4509 - accuracy: 0.8758 - val_loss: 0.4503 - val_accuracy: 0.8787\n",
            "Epoch 46/70\n",
            "56/56 [==============================] - 0s 2ms/step - loss: 0.4483 - accuracy: 0.8736 - val_loss: 0.4520 - val_accuracy: 0.8787\n",
            "Epoch 47/70\n",
            "56/56 [==============================] - 0s 2ms/step - loss: 0.4525 - accuracy: 0.8792 - val_loss: 0.4435 - val_accuracy: 0.8764\n",
            "Epoch 48/70\n",
            "56/56 [==============================] - 0s 2ms/step - loss: 0.4554 - accuracy: 0.8713 - val_loss: 0.4503 - val_accuracy: 0.8787\n",
            "Epoch 49/70\n",
            "56/56 [==============================] - 0s 2ms/step - loss: 0.4434 - accuracy: 0.8792 - val_loss: 0.4473 - val_accuracy: 0.8764\n",
            "Epoch 50/70\n",
            "56/56 [==============================] - 0s 2ms/step - loss: 0.4380 - accuracy: 0.8770 - val_loss: 0.4450 - val_accuracy: 0.8764\n",
            "Epoch 51/70\n",
            "56/56 [==============================] - 0s 2ms/step - loss: 0.4458 - accuracy: 0.8758 - val_loss: 0.4458 - val_accuracy: 0.8764\n",
            "Epoch 52/70\n",
            "56/56 [==============================] - 0s 2ms/step - loss: 0.4539 - accuracy: 0.8730 - val_loss: 0.4433 - val_accuracy: 0.8764\n",
            "Epoch 53/70\n",
            "56/56 [==============================] - 0s 2ms/step - loss: 0.4516 - accuracy: 0.8758 - val_loss: 0.4505 - val_accuracy: 0.8787\n",
            "Epoch 54/70\n",
            "56/56 [==============================] - 0s 2ms/step - loss: 0.4493 - accuracy: 0.8781 - val_loss: 0.4494 - val_accuracy: 0.8764\n",
            "Epoch 55/70\n",
            "56/56 [==============================] - 0s 2ms/step - loss: 0.4415 - accuracy: 0.8764 - val_loss: 0.4507 - val_accuracy: 0.8764\n",
            "Epoch 56/70\n",
            "56/56 [==============================] - 0s 2ms/step - loss: 0.4495 - accuracy: 0.8753 - val_loss: 0.4550 - val_accuracy: 0.8764\n",
            "Epoch 57/70\n",
            "56/56 [==============================] - 0s 2ms/step - loss: 0.4556 - accuracy: 0.8775 - val_loss: 0.4571 - val_accuracy: 0.8787\n",
            "Epoch 58/70\n",
            "56/56 [==============================] - 0s 2ms/step - loss: 0.4387 - accuracy: 0.8781 - val_loss: 0.4436 - val_accuracy: 0.8764\n",
            "Epoch 59/70\n",
            "56/56 [==============================] - 0s 2ms/step - loss: 0.4420 - accuracy: 0.8742 - val_loss: 0.4502 - val_accuracy: 0.8764\n",
            "Epoch 60/70\n",
            "56/56 [==============================] - 0s 2ms/step - loss: 0.4452 - accuracy: 0.8770 - val_loss: 0.4539 - val_accuracy: 0.8764\n",
            "Epoch 61/70\n",
            "56/56 [==============================] - 0s 2ms/step - loss: 0.4464 - accuracy: 0.8764 - val_loss: 0.4572 - val_accuracy: 0.8764\n",
            "Epoch 62/70\n",
            "56/56 [==============================] - 0s 2ms/step - loss: 0.4346 - accuracy: 0.8747 - val_loss: 0.4459 - val_accuracy: 0.8764\n",
            "Epoch 63/70\n",
            "56/56 [==============================] - 0s 3ms/step - loss: 0.4439 - accuracy: 0.8742 - val_loss: 0.4514 - val_accuracy: 0.8764\n",
            "Epoch 64/70\n",
            "56/56 [==============================] - 0s 2ms/step - loss: 0.4512 - accuracy: 0.8747 - val_loss: 0.4500 - val_accuracy: 0.8764\n",
            "Epoch 65/70\n",
            "56/56 [==============================] - 0s 2ms/step - loss: 0.4318 - accuracy: 0.8803 - val_loss: 0.4500 - val_accuracy: 0.8787\n",
            "Epoch 66/70\n",
            "56/56 [==============================] - 0s 2ms/step - loss: 0.4407 - accuracy: 0.8792 - val_loss: 0.4554 - val_accuracy: 0.8764\n",
            "Epoch 67/70\n",
            "56/56 [==============================] - 0s 2ms/step - loss: 0.4430 - accuracy: 0.8747 - val_loss: 0.4490 - val_accuracy: 0.8764\n",
            "Epoch 68/70\n",
            "56/56 [==============================] - 0s 2ms/step - loss: 0.4365 - accuracy: 0.8764 - val_loss: 0.4473 - val_accuracy: 0.8764\n",
            "Epoch 69/70\n",
            "56/56 [==============================] - 0s 2ms/step - loss: 0.4464 - accuracy: 0.8764 - val_loss: 0.4473 - val_accuracy: 0.8787\n",
            "Epoch 70/70\n",
            "56/56 [==============================] - 0s 2ms/step - loss: 0.4422 - accuracy: 0.8758 - val_loss: 0.4491 - val_accuracy: 0.8787\n",
            "____________________________________________________________________________________________________\n",
            "FOLD NO 7 START\n",
            "Epoch 1/70\n",
            "56/56 [==============================] - 0s 4ms/step - loss: 1.1081 - accuracy: 0.5938 - val_loss: 0.8869 - val_accuracy: 0.7399\n",
            "Epoch 2/70\n",
            "56/56 [==============================] - 0s 2ms/step - loss: 0.8134 - accuracy: 0.7146 - val_loss: 0.6426 - val_accuracy: 0.8229\n",
            "Epoch 3/70\n",
            "56/56 [==============================] - 0s 2ms/step - loss: 0.7136 - accuracy: 0.7893 - val_loss: 0.5403 - val_accuracy: 0.8543\n",
            "Epoch 4/70\n",
            "56/56 [==============================] - 0s 2ms/step - loss: 0.6600 - accuracy: 0.8084 - val_loss: 0.5006 - val_accuracy: 0.8744\n",
            "Epoch 5/70\n",
            "56/56 [==============================] - 0s 2ms/step - loss: 0.6154 - accuracy: 0.8247 - val_loss: 0.4823 - val_accuracy: 0.8812\n",
            "Epoch 6/70\n",
            "56/56 [==============================] - 0s 2ms/step - loss: 0.6052 - accuracy: 0.8320 - val_loss: 0.4749 - val_accuracy: 0.8812\n",
            "Epoch 7/70\n",
            "56/56 [==============================] - 0s 2ms/step - loss: 0.5864 - accuracy: 0.8388 - val_loss: 0.4642 - val_accuracy: 0.8767\n",
            "Epoch 8/70\n",
            "56/56 [==============================] - 0s 2ms/step - loss: 0.5634 - accuracy: 0.8449 - val_loss: 0.4619 - val_accuracy: 0.8767\n",
            "Epoch 9/70\n",
            "56/56 [==============================] - 0s 2ms/step - loss: 0.5506 - accuracy: 0.8522 - val_loss: 0.4642 - val_accuracy: 0.8767\n",
            "Epoch 10/70\n",
            "56/56 [==============================] - 0s 2ms/step - loss: 0.5546 - accuracy: 0.8506 - val_loss: 0.4624 - val_accuracy: 0.8767\n",
            "Epoch 11/70\n",
            "56/56 [==============================] - 0s 2ms/step - loss: 0.5541 - accuracy: 0.8472 - val_loss: 0.4627 - val_accuracy: 0.8767\n",
            "Epoch 12/70\n",
            "56/56 [==============================] - 0s 2ms/step - loss: 0.5427 - accuracy: 0.8545 - val_loss: 0.4647 - val_accuracy: 0.8767\n",
            "Epoch 13/70\n",
            "56/56 [==============================] - 0s 2ms/step - loss: 0.5276 - accuracy: 0.8556 - val_loss: 0.4653 - val_accuracy: 0.8767\n",
            "Epoch 14/70\n",
            "56/56 [==============================] - 0s 2ms/step - loss: 0.5331 - accuracy: 0.8506 - val_loss: 0.4670 - val_accuracy: 0.8767\n",
            "Epoch 15/70\n",
            "56/56 [==============================] - 0s 2ms/step - loss: 0.5171 - accuracy: 0.8545 - val_loss: 0.4639 - val_accuracy: 0.8767\n",
            "Epoch 16/70\n",
            "56/56 [==============================] - 0s 2ms/step - loss: 0.5271 - accuracy: 0.8573 - val_loss: 0.4607 - val_accuracy: 0.8767\n",
            "Epoch 17/70\n",
            "56/56 [==============================] - 0s 2ms/step - loss: 0.5250 - accuracy: 0.8556 - val_loss: 0.4680 - val_accuracy: 0.8767\n",
            "Epoch 18/70\n",
            "56/56 [==============================] - 0s 2ms/step - loss: 0.5095 - accuracy: 0.8612 - val_loss: 0.4621 - val_accuracy: 0.8744\n",
            "Epoch 19/70\n",
            "56/56 [==============================] - 0s 2ms/step - loss: 0.5054 - accuracy: 0.8618 - val_loss: 0.4647 - val_accuracy: 0.8744\n",
            "Epoch 20/70\n",
            "56/56 [==============================] - 0s 2ms/step - loss: 0.5226 - accuracy: 0.8522 - val_loss: 0.4666 - val_accuracy: 0.8744\n",
            "Epoch 21/70\n",
            "56/56 [==============================] - 0s 2ms/step - loss: 0.4905 - accuracy: 0.8590 - val_loss: 0.4701 - val_accuracy: 0.8744\n",
            "Epoch 22/70\n",
            "56/56 [==============================] - 0s 2ms/step - loss: 0.5027 - accuracy: 0.8596 - val_loss: 0.4660 - val_accuracy: 0.8744\n",
            "Epoch 23/70\n",
            "56/56 [==============================] - 0s 2ms/step - loss: 0.4880 - accuracy: 0.8624 - val_loss: 0.4672 - val_accuracy: 0.8744\n",
            "Epoch 24/70\n",
            "56/56 [==============================] - 0s 2ms/step - loss: 0.4967 - accuracy: 0.8556 - val_loss: 0.4660 - val_accuracy: 0.8744\n",
            "Epoch 25/70\n",
            "56/56 [==============================] - 0s 2ms/step - loss: 0.4957 - accuracy: 0.8618 - val_loss: 0.4664 - val_accuracy: 0.8744\n",
            "Epoch 26/70\n",
            "56/56 [==============================] - 0s 2ms/step - loss: 0.4855 - accuracy: 0.8646 - val_loss: 0.4660 - val_accuracy: 0.8744\n",
            "Epoch 27/70\n",
            "56/56 [==============================] - 0s 2ms/step - loss: 0.4896 - accuracy: 0.8596 - val_loss: 0.4628 - val_accuracy: 0.8767\n",
            "Epoch 28/70\n",
            "56/56 [==============================] - 0s 2ms/step - loss: 0.4912 - accuracy: 0.8646 - val_loss: 0.4659 - val_accuracy: 0.8767\n",
            "Epoch 29/70\n",
            "56/56 [==============================] - 0s 2ms/step - loss: 0.5040 - accuracy: 0.8652 - val_loss: 0.4690 - val_accuracy: 0.8767\n",
            "Epoch 30/70\n",
            "56/56 [==============================] - 0s 2ms/step - loss: 0.4815 - accuracy: 0.8607 - val_loss: 0.4652 - val_accuracy: 0.8767\n",
            "Epoch 31/70\n",
            "56/56 [==============================] - 0s 2ms/step - loss: 0.4767 - accuracy: 0.8669 - val_loss: 0.4633 - val_accuracy: 0.8767\n",
            "Epoch 32/70\n",
            "56/56 [==============================] - 0s 2ms/step - loss: 0.4924 - accuracy: 0.8629 - val_loss: 0.4650 - val_accuracy: 0.8767\n",
            "Epoch 33/70\n",
            "56/56 [==============================] - 0s 2ms/step - loss: 0.4815 - accuracy: 0.8640 - val_loss: 0.4667 - val_accuracy: 0.8767\n",
            "Epoch 34/70\n",
            "56/56 [==============================] - 0s 2ms/step - loss: 0.4844 - accuracy: 0.8646 - val_loss: 0.4637 - val_accuracy: 0.8767\n",
            "Epoch 35/70\n",
            "56/56 [==============================] - 0s 2ms/step - loss: 0.4830 - accuracy: 0.8624 - val_loss: 0.4651 - val_accuracy: 0.8767\n",
            "Epoch 36/70\n",
            "56/56 [==============================] - 0s 2ms/step - loss: 0.4739 - accuracy: 0.8657 - val_loss: 0.4660 - val_accuracy: 0.8767\n",
            "Epoch 37/70\n",
            "56/56 [==============================] - 0s 2ms/step - loss: 0.4782 - accuracy: 0.8635 - val_loss: 0.4650 - val_accuracy: 0.8767\n",
            "Epoch 38/70\n",
            "56/56 [==============================] - 0s 2ms/step - loss: 0.4735 - accuracy: 0.8640 - val_loss: 0.4675 - val_accuracy: 0.8767\n",
            "Epoch 39/70\n",
            "56/56 [==============================] - 0s 2ms/step - loss: 0.4707 - accuracy: 0.8702 - val_loss: 0.4649 - val_accuracy: 0.8767\n",
            "Epoch 40/70\n",
            "56/56 [==============================] - 0s 2ms/step - loss: 0.4933 - accuracy: 0.8680 - val_loss: 0.4684 - val_accuracy: 0.8789\n",
            "Epoch 41/70\n",
            "56/56 [==============================] - 0s 2ms/step - loss: 0.4770 - accuracy: 0.8635 - val_loss: 0.4672 - val_accuracy: 0.8767\n",
            "Epoch 42/70\n",
            "56/56 [==============================] - 0s 2ms/step - loss: 0.4829 - accuracy: 0.8640 - val_loss: 0.4659 - val_accuracy: 0.8767\n",
            "Epoch 43/70\n",
            "56/56 [==============================] - 0s 2ms/step - loss: 0.4816 - accuracy: 0.8646 - val_loss: 0.4651 - val_accuracy: 0.8767\n",
            "Epoch 44/70\n",
            "56/56 [==============================] - 0s 2ms/step - loss: 0.4676 - accuracy: 0.8708 - val_loss: 0.4664 - val_accuracy: 0.8789\n",
            "Epoch 45/70\n",
            "56/56 [==============================] - 0s 2ms/step - loss: 0.4808 - accuracy: 0.8612 - val_loss: 0.4639 - val_accuracy: 0.8767\n",
            "Epoch 46/70\n",
            "56/56 [==============================] - 0s 2ms/step - loss: 0.4902 - accuracy: 0.8624 - val_loss: 0.4637 - val_accuracy: 0.8789\n",
            "Epoch 47/70\n",
            "56/56 [==============================] - 0s 2ms/step - loss: 0.4799 - accuracy: 0.8646 - val_loss: 0.4672 - val_accuracy: 0.8767\n",
            "Epoch 48/70\n",
            "56/56 [==============================] - 0s 2ms/step - loss: 0.4834 - accuracy: 0.8657 - val_loss: 0.4671 - val_accuracy: 0.8767\n",
            "Epoch 49/70\n",
            "56/56 [==============================] - 0s 2ms/step - loss: 0.4732 - accuracy: 0.8669 - val_loss: 0.4634 - val_accuracy: 0.8767\n",
            "Epoch 50/70\n",
            "56/56 [==============================] - 0s 2ms/step - loss: 0.4536 - accuracy: 0.8697 - val_loss: 0.4580 - val_accuracy: 0.8767\n",
            "Epoch 51/70\n",
            "56/56 [==============================] - 0s 2ms/step - loss: 0.4703 - accuracy: 0.8680 - val_loss: 0.4576 - val_accuracy: 0.8789\n",
            "Epoch 52/70\n",
            "56/56 [==============================] - 0s 2ms/step - loss: 0.4707 - accuracy: 0.8652 - val_loss: 0.4599 - val_accuracy: 0.8789\n",
            "Epoch 53/70\n",
            "56/56 [==============================] - 0s 2ms/step - loss: 0.4694 - accuracy: 0.8635 - val_loss: 0.4630 - val_accuracy: 0.8789\n",
            "Epoch 54/70\n",
            "56/56 [==============================] - 0s 3ms/step - loss: 0.4576 - accuracy: 0.8652 - val_loss: 0.4633 - val_accuracy: 0.8789\n",
            "Epoch 55/70\n",
            "56/56 [==============================] - 0s 2ms/step - loss: 0.4828 - accuracy: 0.8646 - val_loss: 0.4604 - val_accuracy: 0.8789\n",
            "Epoch 56/70\n",
            "56/56 [==============================] - 0s 2ms/step - loss: 0.4741 - accuracy: 0.8663 - val_loss: 0.4573 - val_accuracy: 0.8812\n",
            "Epoch 57/70\n",
            "56/56 [==============================] - 0s 2ms/step - loss: 0.4800 - accuracy: 0.8674 - val_loss: 0.4630 - val_accuracy: 0.8789\n",
            "Epoch 58/70\n",
            "56/56 [==============================] - 0s 2ms/step - loss: 0.4690 - accuracy: 0.8663 - val_loss: 0.4609 - val_accuracy: 0.8789\n",
            "Epoch 59/70\n",
            "56/56 [==============================] - 0s 2ms/step - loss: 0.4774 - accuracy: 0.8640 - val_loss: 0.4618 - val_accuracy: 0.8789\n",
            "Epoch 60/70\n",
            "56/56 [==============================] - 0s 2ms/step - loss: 0.4550 - accuracy: 0.8669 - val_loss: 0.4601 - val_accuracy: 0.8789\n",
            "Epoch 61/70\n",
            "56/56 [==============================] - 0s 2ms/step - loss: 0.4671 - accuracy: 0.8669 - val_loss: 0.4621 - val_accuracy: 0.8789\n",
            "Epoch 62/70\n",
            "56/56 [==============================] - 0s 2ms/step - loss: 0.4718 - accuracy: 0.8691 - val_loss: 0.4584 - val_accuracy: 0.8789\n",
            "Epoch 63/70\n",
            "56/56 [==============================] - 0s 2ms/step - loss: 0.4672 - accuracy: 0.8635 - val_loss: 0.4580 - val_accuracy: 0.8789\n",
            "Epoch 64/70\n",
            "56/56 [==============================] - 0s 2ms/step - loss: 0.4595 - accuracy: 0.8674 - val_loss: 0.4589 - val_accuracy: 0.8789\n",
            "Epoch 65/70\n",
            "56/56 [==============================] - 0s 2ms/step - loss: 0.4768 - accuracy: 0.8691 - val_loss: 0.4602 - val_accuracy: 0.8789\n",
            "Epoch 66/70\n",
            "56/56 [==============================] - 0s 2ms/step - loss: 0.4699 - accuracy: 0.8652 - val_loss: 0.4593 - val_accuracy: 0.8789\n",
            "Epoch 67/70\n",
            "56/56 [==============================] - 0s 2ms/step - loss: 0.4597 - accuracy: 0.8736 - val_loss: 0.4611 - val_accuracy: 0.8789\n",
            "Epoch 68/70\n",
            "56/56 [==============================] - 0s 2ms/step - loss: 0.4624 - accuracy: 0.8652 - val_loss: 0.4624 - val_accuracy: 0.8789\n",
            "Epoch 69/70\n",
            "56/56 [==============================] - 0s 2ms/step - loss: 0.4660 - accuracy: 0.8685 - val_loss: 0.4612 - val_accuracy: 0.8812\n",
            "Epoch 70/70\n",
            "56/56 [==============================] - 0s 2ms/step - loss: 0.4674 - accuracy: 0.8663 - val_loss: 0.4618 - val_accuracy: 0.8812\n"
          ],
          "name": "stdout"
        }
      ]
    },
    {
      "cell_type": "markdown",
      "metadata": {
        "id": "fZF1RHlg1v3X",
        "colab_type": "text"
      },
      "source": [
        "### Scores"
      ]
    },
    {
      "cell_type": "code",
      "metadata": {
        "id": "dh3V3QdWu0VG",
        "colab_type": "code",
        "outputId": "740ccc3d-dd4a-495e-98fc-49214c43eba6",
        "colab": {
          "base_uri": "https://localhost:8080/",
          "height": 238
        }
      },
      "source": [
        "# == Provide average scores ==\n",
        "print('Score per fold:')\n",
        "for i in range(0, len(acc_per_fold)):\n",
        "  print(f'> Fold {i+1} - Loss: {loss_per_fold[i]} - Accuracy: {acc_per_fold[i]}%')\n",
        "print('------------------------------------------------------------------------')\n",
        "print('Average scores for all folds:')\n",
        "print(f'> Accuracy: {np.mean(acc_per_fold)} (+- {np.std(acc_per_fold)})')\n",
        "print(f'> Loss: {np.mean(loss_per_fold)}')\n",
        "print('------------------------------------------------------------------------')"
      ],
      "execution_count": 15,
      "outputs": [
        {
          "output_type": "stream",
          "text": [
            "Score per fold:\n",
            "> Fold 1 - Loss: 0.5186271071434021 - Accuracy: 85.44474244117737%\n",
            "> Fold 2 - Loss: 0.5082710981369019 - Accuracy: 85.98382472991943%\n",
            "> Fold 3 - Loss: 0.41896623373031616 - Accuracy: 88.40970396995544%\n",
            "> Fold 4 - Loss: 0.5098980069160461 - Accuracy: 86.52291297912598%\n",
            "> Fold 5 - Loss: 0.4092913866043091 - Accuracy: 87.87062168121338%\n",
            "> Fold 6 - Loss: 0.39911746978759766 - Accuracy: 88.94878625869751%\n",
            "> Fold 7 - Loss: 0.3293522894382477 - Accuracy: 92.43243336677551%\n",
            "------------------------------------------------------------------------\n",
            "Average scores for all folds:\n",
            "> Accuracy: 87.94471791812352 (+- 2.1871688884678027)\n",
            "> Loss: 0.4419319416795458\n",
            "------------------------------------------------------------------------\n"
          ],
          "name": "stdout"
        }
      ]
    },
    {
      "cell_type": "markdown",
      "metadata": {
        "id": "YQDKmJQ_kmdh",
        "colab_type": "text"
      },
      "source": [
        "## Plot with train and test accuracy"
      ]
    },
    {
      "cell_type": "code",
      "metadata": {
        "id": "mi0f_JObgC4C",
        "colab_type": "code",
        "outputId": "66bdb7cb-dc6f-4e59-ceb8-01ca6cc41a4d",
        "colab": {
          "base_uri": "https://localhost:8080/",
          "height": 295
        }
      },
      "source": [
        "import matplotlib.pyplot as plt\n",
        "plt.plot(history.history['accuracy'])\n",
        "plt.plot(history.history['val_accuracy'])\n",
        "plt.title('model accuracy')\n",
        "plt.ylabel('accuracy')\n",
        "plt.xlabel('epoch')\n",
        "plt.ylim(0,1)\n",
        "plt.legend(['train', 'test'], loc='upper left')\n",
        "plt.show()"
      ],
      "execution_count": 16,
      "outputs": [
        {
          "output_type": "display_data",
          "data": {
            "image/png": "[encoded data removed]",
            "text/plain": [
              "<Figure size 432x288 with 1 Axes>"
            ]
          },
          "metadata": {
            "tags": [],
            "needs_background": "light"
          }
        }
      ]
    },
    {
      "cell_type": "code",
      "metadata": {
        "colab_type": "code",
        "outputId": "96821b45-0e1e-48a0-b450-6fd5b5a62edc",
        "id": "YQosphMa9Zab",
        "colab": {
          "base_uri": "https://localhost:8080/",
          "height": 295
        }
      },
      "source": [
        "import matplotlib.pyplot as plt\n",
        "plt.plot(history.history['loss'])\n",
        "plt.plot(history.history['val_loss'])\n",
        "plt.title('training loss')\n",
        "plt.ylabel('loss')\n",
        "plt.xlabel('epoch')\n",
        "plt.legend(['train', 'test'], loc='upper left')\n",
        "plt.show()"
      ],
      "execution_count": 17,
      "outputs": [
        {
          "output_type": "display_data",
          "data": {
            "image/png": "[encoded data removed]",
            "text/plain": [
              "<Figure size 432x288 with 1 Axes>"
            ]
          },
          "metadata": {
            "tags": [],
            "needs_background": "light"
          }
        }
      ]
    },
    {
      "cell_type": "markdown",
      "metadata": {
        "id": "W7jx7N_ZwHgm",
        "colab_type": "text"
      },
      "source": [
        "Confusion matrix "
      ]
    },
    {
      "cell_type": "code",
      "metadata": {
        "id": "gWH11sjmwJ4P",
        "colab_type": "code",
        "colab": {
          "base_uri": "https://localhost:8080/",
          "height": 282
        },
        "outputId": "dd393974-7b9c-4ac5-debf-8402b7ee5891"
      },
      "source": [
        "X_conf_matrix = X.iloc[test]\n",
        "y_conf_matrix = y.iloc[test]\n",
        "predicted_conf_matrix = model.predict_classes(X_conf_matrix)\n",
        "\n",
        "conf_matrix = confusion_matrix(y_conf_matrix.values.argmax(axis=1), predicted_conf_matrix)\n",
        "sns.heatmap(conf_matrix, annot=True, fmt=\"d\")"
      ],
      "execution_count": 24,
      "outputs": [
        {
          "output_type": "execute_result",
          "data": {
            "text/plain": [
              "<matplotlib.axes._subplots.AxesSubplot at 0x7fcfa67abc50>"
            ]
          },
          "metadata": {
            "tags": []
          },
          "execution_count": 24
        },
        {
          "output_type": "display_data",
          "data": {
            "image/png": "[encoded data removed]",
            "text/plain": [
              "<Figure size 432x288 with 2 Axes>"
            ]
          },
          "metadata": {
            "tags": [],
            "needs_background": "light"
          }
        }
      ]
    },
    {
      "cell_type": "markdown",
      "metadata": {
        "id": "RwVgSUc6uC6Y",
        "colab_type": "text"
      },
      "source": [
        "### Save model \n"
      ]
    },
    {
      "cell_type": "code",
      "metadata": {
        "id": "Z2XZ1N0JuIop",
        "colab_type": "code",
        "colab": {}
      },
      "source": [
        "model.save('featureModelPl.h5')"
      ],
      "execution_count": 0,
      "outputs": []
    },
    {
      "cell_type": "markdown",
      "metadata": {
        "id": "ey04c2ykpMf6",
        "colab_type": "text"
      },
      "source": [
        "## Check RANDOM FOREST Classifier"
      ]
    },
    {
      "cell_type": "code",
      "metadata": {
        "id": "WkLf7YkgpiMc",
        "colab_type": "code",
        "colab": {}
      },
      "source": [
        "from sklearn.ensemble import RandomForestClassifier"
      ],
      "execution_count": 0,
      "outputs": []
    },
    {
      "cell_type": "code",
      "metadata": {
        "id": "qLVy_y00pm_s",
        "colab_type": "code",
        "colab": {}
      },
      "source": [
        "random_forest = RandomForestClassifier(\n",
        "    n_estimators = 2000, \n",
        ")"
      ],
      "execution_count": 0,
      "outputs": []
    },
    {
      "cell_type": "code",
      "metadata": {
        "id": "psCPtOdbpPzU",
        "colab_type": "code",
        "outputId": "9051c682-bfc4-45fc-f605-b1eb2cae0cc0",
        "colab": {
          "base_uri": "https://localhost:8080/",
          "height": 153
        }
      },
      "source": [
        " X_train, X_test, y_train, y_test = train_test_split(X, ml_classifier_labels, test_size=0.33, random_state=42)\n",
        "random_forest.fit(X_train, y_train)"
      ],
      "execution_count": 33,
      "outputs": [
        {
          "output_type": "execute_result",
          "data": {
            "text/plain": [
              "RandomForestClassifier(bootstrap=True, ccp_alpha=0.0, class_weight=None,\n",
              "                       criterion='gini', max_depth=None, max_features='auto',\n",
              "                       max_leaf_nodes=None, max_samples=None,\n",
              "                       min_impurity_decrease=0.0, min_impurity_split=None,\n",
              "                       min_samples_leaf=1, min_samples_split=2,\n",
              "                       min_weight_fraction_leaf=0.0, n_estimators=2000,\n",
              "                       n_jobs=None, oob_score=False, random_state=None,\n",
              "                       verbose=0, warm_start=False)"
            ]
          },
          "metadata": {
            "tags": []
          },
          "execution_count": 33
        }
      ]
    },
    {
      "cell_type": "code",
      "metadata": {
        "id": "r7eal1FbzzLu",
        "colab_type": "code",
        "outputId": "ede06140-8d3a-469c-8023-fc030bc9451c",
        "colab": {
          "base_uri": "https://localhost:8080/",
          "height": 350
        }
      },
      "source": [
        "predict = random_forest.predict(X_test)\n",
        "print(predict.shape)\n",
        "print(np.unique(predict))\n",
        "print(y_test.shape)\n",
        "print(np.unique(y_test, return_counts = True))\n",
        "conf_matrix = confusion_matrix(y_test, predict)\n",
        "sns.heatmap(conf_matrix, annot=True, fmt=\"d\")"
      ],
      "execution_count": 29,
      "outputs": [
        {
          "output_type": "stream",
          "text": [
            "(857,)\n",
            "['C' 'E' 'N']\n",
            "(857,)\n",
            "(array(['?', 'C', 'E', 'N'], dtype=object), array([ 30,  21, 240, 566]))\n"
          ],
          "name": "stdout"
        },
        {
          "output_type": "execute_result",
          "data": {
            "text/plain": [
              "<matplotlib.axes._subplots.AxesSubplot at 0x7fcfae963f98>"
            ]
          },
          "metadata": {
            "tags": []
          },
          "execution_count": 29
        },
        {
          "output_type": "display_data",
          "data": {
            "image/png": "[encoded data removed]",
            "text/plain": [
              "<Figure size 432x288 with 2 Axes>"
            ]
          },
          "metadata": {
            "tags": [],
            "needs_background": "light"
          }
        }
      ]
    },
    {
      "cell_type": "code",
      "metadata": {
        "id": "LO2MtVpmqexD",
        "colab_type": "code",
        "outputId": "4a05da55-7915-480f-e2f5-b98e3ec37a88",
        "colab": {
          "base_uri": "https://localhost:8080/",
          "height": 34
        }
      },
      "source": [
        "random_forest.score(X_test, y_test)"
      ],
      "execution_count": 30,
      "outputs": [
        {
          "output_type": "execute_result",
          "data": {
            "text/plain": [
              "0.8833138856476079"
            ]
          },
          "metadata": {
            "tags": []
          },
          "execution_count": 30
        }
      ]
    }
  ]
}