{
  "nbformat": 4,
  "nbformat_minor": 0,
  "metadata": {
    "colab": {
      "name": "SecondModelPolishDataset.ipynb",
      "provenance": [],
      "collapsed_sections": [],
      "toc_visible": true
    },
    "kernelspec": {
      "name": "python3",
      "display_name": "Python 3"
    }
  },
  "cells": [
    {
      "cell_type": "markdown",
      "metadata": {
        "id": "i61b34AJ1zPY",
        "colab_type": "text"
      },
      "source": [
        "# Second model - Polish Dataset"
      ]
    },
    {
      "cell_type": "markdown",
      "metadata": {
        "id": "4R8arNJb14eM",
        "colab_type": "text"
      },
      "source": [
        "## Libraries"
      ]
    },
    {
      "cell_type": "code",
      "metadata": {
        "id": "QLg6EMKN2D0x",
        "colab_type": "code",
        "outputId": "895db307-048f-4d44-b52a-d36ce63244ab",
        "colab": {
          "base_uri": "https://localhost:8080/",
          "height": 663
        }
      },
      "source": [
        "!pip install transformers\n",
        "!pip install -q pyyaml h5py\n",
        "import pandas as pd\n",
        "from transformers import *\n",
        "import numpy as np\n",
        "from sklearn.model_selection import train_test_split\n"
      ],
      "execution_count": 3,
      "outputs": [
        {
          "output_type": "stream",
          "text": [
            "Collecting transformers\n",
            "\u001b[?25l  Downloading https://files.pythonhosted.org/packages/a3/78/92cedda05552398352ed9784908b834ee32a0bd071a9b32de287327370b7/transformers-2.8.0-py3-none-any.whl (563kB)\n",
            "\u001b[K     |████████████████████████████████| 573kB 2.7MB/s \n",
            "\u001b[?25hCollecting sacremoses\n",
            "\u001b[?25l  Downloading https://files.pythonhosted.org/packages/99/50/93509f906a40bffd7d175f97fd75ea328ad9bd91f48f59c4bd084c94a25e/sacremoses-0.0.41.tar.gz (883kB)\n",
            "\u001b[K     |████████████████████████████████| 890kB 10.8MB/s \n",
            "\u001b[?25hRequirement already satisfied: requests in /usr/local/lib/python3.6/dist-packages (from transformers) (2.21.0)\n",
            "Requirement already satisfied: tqdm>=4.27 in /usr/local/lib/python3.6/dist-packages (from transformers) (4.38.0)\n",
            "Requirement already satisfied: filelock in /usr/local/lib/python3.6/dist-packages (from transformers) (3.0.12)\n",
            "Requirement already satisfied: regex!=2019.12.17 in /usr/local/lib/python3.6/dist-packages (from transformers) (2019.12.20)\n",
            "Collecting tokenizers==0.5.2\n",
            "\u001b[?25l  Downloading https://files.pythonhosted.org/packages/d1/3f/73c881ea4723e43c1e9acf317cf407fab3a278daab3a69c98dcac511c04f/tokenizers-0.5.2-cp36-cp36m-manylinux1_x86_64.whl (3.7MB)\n",
            "\u001b[K     |████████████████████████████████| 3.7MB 13.7MB/s \n",
            "\u001b[?25hRequirement already satisfied: boto3 in /usr/local/lib/python3.6/dist-packages (from transformers) (1.12.40)\n",
            "Collecting sentencepiece\n",
            "\u001b[?25l  Downloading https://files.pythonhosted.org/packages/74/f4/2d5214cbf13d06e7cb2c20d84115ca25b53ea76fa1f0ade0e3c9749de214/sentencepiece-0.1.85-cp36-cp36m-manylinux1_x86_64.whl (1.0MB)\n",
            "\u001b[K     |████████████████████████████████| 1.0MB 33.5MB/s \n",
            "\u001b[?25hRequirement already satisfied: dataclasses; python_version < \"3.7\" in /usr/local/lib/python3.6/dist-packages (from transformers) (0.7)\n",
            "Requirement already satisfied: numpy in /usr/local/lib/python3.6/dist-packages (from transformers) (1.18.2)\n",
            "Requirement already satisfied: six in /usr/local/lib/python3.6/dist-packages (from sacremoses->transformers) (1.12.0)\n",
            "Requirement already satisfied: click in /usr/local/lib/python3.6/dist-packages (from sacremoses->transformers) (7.1.1)\n",
            "Requirement already satisfied: joblib in /usr/local/lib/python3.6/dist-packages (from sacremoses->transformers) (0.14.1)\n",
            "Requirement already satisfied: idna<2.9,>=2.5 in /usr/local/lib/python3.6/dist-packages (from requests->transformers) (2.8)\n",
            "Requirement already satisfied: chardet<3.1.0,>=3.0.2 in /usr/local/lib/python3.6/dist-packages (from requests->transformers) (3.0.4)\n",
            "Requirement already satisfied: certifi>=2017.4.17 in /usr/local/lib/python3.6/dist-packages (from requests->transformers) (2020.4.5.1)\n",
            "Requirement already satisfied: urllib3<1.25,>=1.21.1 in /usr/local/lib/python3.6/dist-packages (from requests->transformers) (1.24.3)\n",
            "Requirement already satisfied: botocore<1.16.0,>=1.15.40 in /usr/local/lib/python3.6/dist-packages (from boto3->transformers) (1.15.40)\n",
            "Requirement already satisfied: s3transfer<0.4.0,>=0.3.0 in /usr/local/lib/python3.6/dist-packages (from boto3->transformers) (0.3.3)\n",
            "Requirement already satisfied: jmespath<1.0.0,>=0.7.1 in /usr/local/lib/python3.6/dist-packages (from boto3->transformers) (0.9.5)\n",
            "Requirement already satisfied: docutils<0.16,>=0.10 in /usr/local/lib/python3.6/dist-packages (from botocore<1.16.0,>=1.15.40->boto3->transformers) (0.15.2)\n",
            "Requirement already satisfied: python-dateutil<3.0.0,>=2.1 in /usr/local/lib/python3.6/dist-packages (from botocore<1.16.0,>=1.15.40->boto3->transformers) (2.8.1)\n",
            "Building wheels for collected packages: sacremoses\n",
            "  Building wheel for sacremoses (setup.py) ... \u001b[?25l\u001b[?25hdone\n",
            "  Created wheel for sacremoses: filename=sacremoses-0.0.41-cp36-none-any.whl size=893334 sha256=041fd87876daf66f7f7ac06a6219a00e21ff53fc4d3db462c672ca2990d39f6a\n",
            "  Stored in directory: /root/.cache/pip/wheels/22/5a/d4/b020a81249de7dc63758a34222feaa668dbe8ebfe9170cc9b1\n",
            "Successfully built sacremoses\n",
            "Installing collected packages: sacremoses, tokenizers, sentencepiece, transformers\n",
            "Successfully installed sacremoses-0.0.41 sentencepiece-0.1.85 tokenizers-0.5.2 transformers-2.8.0\n"
          ],
          "name": "stdout"
        }
      ]
    },
    {
      "cell_type": "markdown",
      "metadata": {
        "id": "Qr2zJmEf2Eh3",
        "colab_type": "text"
      },
      "source": [
        "## Data Preprocessing"
      ]
    },
    {
      "cell_type": "markdown",
      "metadata": {
        "id": "vLXojV3K5Y1U",
        "colab_type": "text"
      },
      "source": [
        "*   Reading data\n",
        "*   Change columns names\n",
        "*   Drop NaN rows\n",
        "*   Fill others NaN values by special sign"
      ]
    },
    {
      "cell_type": "code",
      "metadata": {
        "id": "j--zuCZf2HvJ",
        "colab_type": "code",
        "outputId": "32a995e0-86d1-42a7-de26-bfd326f818f2",
        "colab": {
          "base_uri": "https://localhost:8080/",
          "height": 204
        }
      },
      "source": [
        "df = pd.read_excel('polishOriginalDataset.xlsx')\n",
        "df.reset_index()\n",
        "df = df.iloc[:,[6,8,9,10,15,16,19,21,5]]\n",
        "df.columns = [\n",
        "              \"type_of_sentence\",\n",
        "              \"verb_main_semantic_class\",\n",
        "              \"verb_second_semantic_class\",\n",
        "              \"verb_third_semantic_class\",\n",
        "              \"verb_veridical_positive\",\n",
        "              \"verb_veridical_negative\",\n",
        "              \"verb_tense\",\n",
        "              \"t_negation\",\n",
        "              \"semantic_relation\"\n",
        "              ]\n",
        "df.dropna(inplace=True, axis = 0, how = 'all')\n",
        "df.fillna(axis = 0, inplace =True, value=\"none\")\n",
        "df.head()"
      ],
      "execution_count": 93,
      "outputs": [
        {
          "output_type": "execute_result",
          "data": {
            "text/html": [
              "<div>\n",
              "<style scoped>\n",
              "    .dataframe tbody tr th:only-of-type {\n",
              "        vertical-align: middle;\n",
              "    }\n",
              "\n",
              "    .dataframe tbody tr th {\n",
              "        vertical-align: top;\n",
              "    }\n",
              "\n",
              "    .dataframe thead th {\n",
              "        text-align: right;\n",
              "    }\n",
              "</style>\n",
              "<table border=\"1\" class=\"dataframe\">\n",
              "  <thead>\n",
              "    <tr style=\"text-align: right;\">\n",
              "      <th></th>\n",
              "      <th>type_of_sentence</th>\n",
              "      <th>verb_main_semantic_class</th>\n",
              "      <th>verb_second_semantic_class</th>\n",
              "      <th>verb_third_semantic_class</th>\n",
              "      <th>verb_veridical_positive</th>\n",
              "      <th>verb_veridical_negative</th>\n",
              "      <th>verb_tense</th>\n",
              "      <th>t_negation</th>\n",
              "      <th>semantic_relation</th>\n",
              "    </tr>\n",
              "  </thead>\n",
              "  <tbody>\n",
              "    <tr>\n",
              "      <th>0</th>\n",
              "      <td>eliptyczne</td>\n",
              "      <td>mówienia</td>\n",
              "      <td>none</td>\n",
              "      <td>none</td>\n",
              "      <td>o?</td>\n",
              "      <td>?</td>\n",
              "      <td>brak</td>\n",
              "      <td>0</td>\n",
              "      <td>N</td>\n",
              "    </tr>\n",
              "    <tr>\n",
              "      <th>1</th>\n",
              "      <td>eliptyczne</td>\n",
              "      <td>epistemiczny</td>\n",
              "      <td>none</td>\n",
              "      <td>none</td>\n",
              "      <td>?</td>\n",
              "      <td>?</td>\n",
              "      <td>past</td>\n",
              "      <td>0</td>\n",
              "      <td>?</td>\n",
              "    </tr>\n",
              "    <tr>\n",
              "      <th>2</th>\n",
              "      <td>eliptyczne</td>\n",
              "      <td>mówienia</td>\n",
              "      <td>none</td>\n",
              "      <td>none</td>\n",
              "      <td>?</td>\n",
              "      <td>?</td>\n",
              "      <td>past</td>\n",
              "      <td>0</td>\n",
              "      <td>N</td>\n",
              "    </tr>\n",
              "    <tr>\n",
              "      <th>3</th>\n",
              "      <td>1</td>\n",
              "      <td>epistemiczny</td>\n",
              "      <td>percepcyjny</td>\n",
              "      <td>none</td>\n",
              "      <td>\"+\"</td>\n",
              "      <td>\"+\"</td>\n",
              "      <td>past</td>\n",
              "      <td>0</td>\n",
              "      <td>N</td>\n",
              "    </tr>\n",
              "    <tr>\n",
              "      <th>4</th>\n",
              "      <td>1</td>\n",
              "      <td>epistemiczny</td>\n",
              "      <td>percepcyjny</td>\n",
              "      <td>none</td>\n",
              "      <td>o</td>\n",
              "      <td>o</td>\n",
              "      <td>present</td>\n",
              "      <td>0</td>\n",
              "      <td>N</td>\n",
              "    </tr>\n",
              "  </tbody>\n",
              "</table>\n",
              "</div>"
            ],
            "text/plain": [
              "  type_of_sentence verb_main_semantic_class  ... t_negation semantic_relation\n",
              "0       eliptyczne                 mówienia  ...          0                 N\n",
              "1       eliptyczne             epistemiczny  ...          0                 ?\n",
              "2       eliptyczne                 mówienia  ...          0                 N\n",
              "3                1             epistemiczny  ...          0                 N\n",
              "4                1             epistemiczny  ...          0                 N\n",
              "\n",
              "[5 rows x 9 columns]"
            ]
          },
          "metadata": {
            "tags": []
          },
          "execution_count": 93
        }
      ]
    },
    {
      "cell_type": "markdown",
      "metadata": {
        "id": "fTXvttwo5v0D",
        "colab_type": "text"
      },
      "source": [
        "### Cleaning data by deleting uncertainty - simplification "
      ]
    },
    {
      "cell_type": "code",
      "metadata": {
        "id": "ewr4Z-ZH8e6Q",
        "colab_type": "code",
        "outputId": "49171947-042d-4066-fd44-e98cc3cd104f",
        "colab": {
          "base_uri": "https://localhost:8080/",
          "height": 204
        }
      },
      "source": [
        "# df.type_of_sentence.unique() cleaning not needed \n",
        "# df.verb_main_semantic_class.unique() cleaning not needed\n",
        "# df.verb_second_semantic_class.unique() cleaning not needed \n",
        "# df.verb_third_semantic_class.unique() cleaning not needed\n",
        "\n",
        "# verb veridical positive cleaning\n",
        "df.verb_veridical_positive = df.verb_veridical_positive.apply(lambda x: '+' if '+' in x else x)\n",
        "df.verb_veridical_positive = df.verb_veridical_positive.apply(lambda x: '-' if '-' in x else x)\n",
        "df.verb_veridical_positive = df.verb_veridical_positive.apply(lambda x: 'o' if 'o' in x else x)\n",
        "df.verb_veridical_positive = df.verb_veridical_positive.apply(lambda x: '?' if '?' in x else x)\n",
        "\n",
        "# verb veridical negative cleaning\n",
        "df.verb_veridical_negative = df.verb_veridical_negative.apply(lambda x: '+' if '+' in x else x)\n",
        "df.verb_veridical_negative = df.verb_veridical_negative.apply(lambda x: 'o' if 'o' in x else x)\n",
        "df.verb_veridical_negative = df.verb_veridical_negative.apply(lambda x: '-' if '-' in x else x)\n",
        "df.verb_veridical_negative = df.verb_veridical_negative.apply(lambda x: '?' if '?' in x else x)\n",
        "\n",
        "# df.verb_tense.unique() cleaning not needed\n",
        "# df.t_negation.unique() cleaning not needed\n",
        "# df.semantic_relation.unique() cleaning not needed \n",
        "\n",
        "df.head()"
      ],
      "execution_count": 94,
      "outputs": [
        {
          "output_type": "execute_result",
          "data": {
            "text/html": [
              "<div>\n",
              "<style scoped>\n",
              "    .dataframe tbody tr th:only-of-type {\n",
              "        vertical-align: middle;\n",
              "    }\n",
              "\n",
              "    .dataframe tbody tr th {\n",
              "        vertical-align: top;\n",
              "    }\n",
              "\n",
              "    .dataframe thead th {\n",
              "        text-align: right;\n",
              "    }\n",
              "</style>\n",
              "<table border=\"1\" class=\"dataframe\">\n",
              "  <thead>\n",
              "    <tr style=\"text-align: right;\">\n",
              "      <th></th>\n",
              "      <th>type_of_sentence</th>\n",
              "      <th>verb_main_semantic_class</th>\n",
              "      <th>verb_second_semantic_class</th>\n",
              "      <th>verb_third_semantic_class</th>\n",
              "      <th>verb_veridical_positive</th>\n",
              "      <th>verb_veridical_negative</th>\n",
              "      <th>verb_tense</th>\n",
              "      <th>t_negation</th>\n",
              "      <th>semantic_relation</th>\n",
              "    </tr>\n",
              "  </thead>\n",
              "  <tbody>\n",
              "    <tr>\n",
              "      <th>0</th>\n",
              "      <td>eliptyczne</td>\n",
              "      <td>mówienia</td>\n",
              "      <td>none</td>\n",
              "      <td>none</td>\n",
              "      <td>o</td>\n",
              "      <td>?</td>\n",
              "      <td>brak</td>\n",
              "      <td>0</td>\n",
              "      <td>N</td>\n",
              "    </tr>\n",
              "    <tr>\n",
              "      <th>1</th>\n",
              "      <td>eliptyczne</td>\n",
              "      <td>epistemiczny</td>\n",
              "      <td>none</td>\n",
              "      <td>none</td>\n",
              "      <td>?</td>\n",
              "      <td>?</td>\n",
              "      <td>past</td>\n",
              "      <td>0</td>\n",
              "      <td>?</td>\n",
              "    </tr>\n",
              "    <tr>\n",
              "      <th>2</th>\n",
              "      <td>eliptyczne</td>\n",
              "      <td>mówienia</td>\n",
              "      <td>none</td>\n",
              "      <td>none</td>\n",
              "      <td>?</td>\n",
              "      <td>?</td>\n",
              "      <td>past</td>\n",
              "      <td>0</td>\n",
              "      <td>N</td>\n",
              "    </tr>\n",
              "    <tr>\n",
              "      <th>3</th>\n",
              "      <td>1</td>\n",
              "      <td>epistemiczny</td>\n",
              "      <td>percepcyjny</td>\n",
              "      <td>none</td>\n",
              "      <td>+</td>\n",
              "      <td>+</td>\n",
              "      <td>past</td>\n",
              "      <td>0</td>\n",
              "      <td>N</td>\n",
              "    </tr>\n",
              "    <tr>\n",
              "      <th>4</th>\n",
              "      <td>1</td>\n",
              "      <td>epistemiczny</td>\n",
              "      <td>percepcyjny</td>\n",
              "      <td>none</td>\n",
              "      <td>o</td>\n",
              "      <td>o</td>\n",
              "      <td>present</td>\n",
              "      <td>0</td>\n",
              "      <td>N</td>\n",
              "    </tr>\n",
              "  </tbody>\n",
              "</table>\n",
              "</div>"
            ],
            "text/plain": [
              "  type_of_sentence verb_main_semantic_class  ... t_negation semantic_relation\n",
              "0       eliptyczne                 mówienia  ...          0                 N\n",
              "1       eliptyczne             epistemiczny  ...          0                 ?\n",
              "2       eliptyczne                 mówienia  ...          0                 N\n",
              "3                1             epistemiczny  ...          0                 N\n",
              "4                1             epistemiczny  ...          0                 N\n",
              "\n",
              "[5 rows x 9 columns]"
            ]
          },
          "metadata": {
            "tags": []
          },
          "execution_count": 94
        }
      ]
    },
    {
      "cell_type": "markdown",
      "metadata": {
        "id": "Eq5Zke-TO3zd",
        "colab_type": "text"
      },
      "source": [
        "#### Possible feature values"
      ]
    },
    {
      "cell_type": "code",
      "metadata": {
        "id": "FVbjgIUMOXXi",
        "colab_type": "code",
        "outputId": "f8286e72-699f-413a-ccc5-63d8d9fb2bc0",
        "colab": {
          "base_uri": "https://localhost:8080/",
          "height": 350
        }
      },
      "source": [
        "print(df.type_of_sentence.unique())\n",
        "print(df.verb_main_semantic_class.unique())\n",
        "print(df.verb_second_semantic_class.unique())\n",
        "print(df.verb_third_semantic_class.unique())\n",
        "print(df.verb_veridical_positive.unique())\n",
        "print(df.verb_veridical_negative.unique())\n",
        "print(df.verb_tense.unique())\n",
        "print(df.t_negation.unique())\n"
      ],
      "execution_count": 0,
      "outputs": [
        {
          "output_type": "error",
          "ename": "AttributeError",
          "evalue": "ignored",
          "traceback": [
            "\u001b[0;31m---------------------------------------------------------------------------\u001b[0m",
            "\u001b[0;31mAttributeError\u001b[0m                            Traceback (most recent call last)",
            "\u001b[0;32m<ipython-input-96-6481dab47bfe>\u001b[0m in \u001b[0;36m<module>\u001b[0;34m()\u001b[0m\n\u001b[0;32m----> 1\u001b[0;31m \u001b[0mprint\u001b[0m\u001b[0;34m(\u001b[0m\u001b[0mdf\u001b[0m\u001b[0;34m.\u001b[0m\u001b[0mtype_of_sentence\u001b[0m\u001b[0;34m.\u001b[0m\u001b[0munique\u001b[0m\u001b[0;34m(\u001b[0m\u001b[0;34m)\u001b[0m\u001b[0;34m)\u001b[0m\u001b[0;34m\u001b[0m\u001b[0;34m\u001b[0m\u001b[0m\n\u001b[0m\u001b[1;32m      2\u001b[0m \u001b[0mprint\u001b[0m\u001b[0;34m(\u001b[0m\u001b[0mdf\u001b[0m\u001b[0;34m.\u001b[0m\u001b[0mverb_main_semantic_class\u001b[0m\u001b[0;34m.\u001b[0m\u001b[0munique\u001b[0m\u001b[0;34m(\u001b[0m\u001b[0;34m)\u001b[0m\u001b[0;34m)\u001b[0m\u001b[0;34m\u001b[0m\u001b[0;34m\u001b[0m\u001b[0m\n\u001b[1;32m      3\u001b[0m \u001b[0mprint\u001b[0m\u001b[0;34m(\u001b[0m\u001b[0mdf\u001b[0m\u001b[0;34m.\u001b[0m\u001b[0mverb_second_semantic_class\u001b[0m\u001b[0;34m.\u001b[0m\u001b[0munique\u001b[0m\u001b[0;34m(\u001b[0m\u001b[0;34m)\u001b[0m\u001b[0;34m)\u001b[0m\u001b[0;34m\u001b[0m\u001b[0;34m\u001b[0m\u001b[0m\n\u001b[1;32m      4\u001b[0m \u001b[0mprint\u001b[0m\u001b[0;34m(\u001b[0m\u001b[0mdf\u001b[0m\u001b[0;34m.\u001b[0m\u001b[0mverb_third_semantic_class\u001b[0m\u001b[0;34m.\u001b[0m\u001b[0munique\u001b[0m\u001b[0;34m(\u001b[0m\u001b[0;34m)\u001b[0m\u001b[0;34m)\u001b[0m\u001b[0;34m\u001b[0m\u001b[0;34m\u001b[0m\u001b[0m\n\u001b[1;32m      5\u001b[0m \u001b[0mprint\u001b[0m\u001b[0;34m(\u001b[0m\u001b[0mdf\u001b[0m\u001b[0;34m.\u001b[0m\u001b[0mverb_veridical_positive\u001b[0m\u001b[0;34m.\u001b[0m\u001b[0munique\u001b[0m\u001b[0;34m(\u001b[0m\u001b[0;34m)\u001b[0m\u001b[0;34m)\u001b[0m\u001b[0;34m\u001b[0m\u001b[0;34m\u001b[0m\u001b[0m\n",
            "\u001b[0;32m/usr/local/lib/python3.6/dist-packages/pandas/core/generic.py\u001b[0m in \u001b[0;36m__getattr__\u001b[0;34m(self, name)\u001b[0m\n\u001b[1;32m   5272\u001b[0m             \u001b[0;32mif\u001b[0m \u001b[0mself\u001b[0m\u001b[0;34m.\u001b[0m\u001b[0m_info_axis\u001b[0m\u001b[0;34m.\u001b[0m\u001b[0m_can_hold_identifiers_and_holds_name\u001b[0m\u001b[0;34m(\u001b[0m\u001b[0mname\u001b[0m\u001b[0;34m)\u001b[0m\u001b[0;34m:\u001b[0m\u001b[0;34m\u001b[0m\u001b[0;34m\u001b[0m\u001b[0m\n\u001b[1;32m   5273\u001b[0m                 \u001b[0;32mreturn\u001b[0m \u001b[0mself\u001b[0m\u001b[0;34m[\u001b[0m\u001b[0mname\u001b[0m\u001b[0;34m]\u001b[0m\u001b[0;34m\u001b[0m\u001b[0;34m\u001b[0m\u001b[0m\n\u001b[0;32m-> 5274\u001b[0;31m             \u001b[0;32mreturn\u001b[0m \u001b[0mobject\u001b[0m\u001b[0;34m.\u001b[0m\u001b[0m__getattribute__\u001b[0m\u001b[0;34m(\u001b[0m\u001b[0mself\u001b[0m\u001b[0;34m,\u001b[0m \u001b[0mname\u001b[0m\u001b[0;34m)\u001b[0m\u001b[0;34m\u001b[0m\u001b[0;34m\u001b[0m\u001b[0m\n\u001b[0m\u001b[1;32m   5275\u001b[0m \u001b[0;34m\u001b[0m\u001b[0m\n\u001b[1;32m   5276\u001b[0m     \u001b[0;32mdef\u001b[0m \u001b[0m__setattr__\u001b[0m\u001b[0;34m(\u001b[0m\u001b[0mself\u001b[0m\u001b[0;34m,\u001b[0m \u001b[0mname\u001b[0m\u001b[0;34m:\u001b[0m \u001b[0mstr\u001b[0m\u001b[0;34m,\u001b[0m \u001b[0mvalue\u001b[0m\u001b[0;34m)\u001b[0m \u001b[0;34m->\u001b[0m \u001b[0;32mNone\u001b[0m\u001b[0;34m:\u001b[0m\u001b[0;34m\u001b[0m\u001b[0;34m\u001b[0m\u001b[0m\n",
            "\u001b[0;31mAttributeError\u001b[0m: 'DataFrame' object has no attribute 'type_of_sentence'"
          ]
        }
      ]
    },
    {
      "cell_type": "code",
      "metadata": {
        "id": "d0yf4jWrgB4D",
        "colab_type": "code",
        "colab": {}
      },
      "source": [
        "# choose columns \n",
        "df = df[[\n",
        "  \"verb_veridical_positive\",\n",
        "  \"verb_veridical_negative\",\n",
        "  \"verb_tense\",\n",
        "  \"t_negation\",\n",
        "  \"semantic_relation\"      \n",
        "]]\n",
        "df.to_csv(\"plData.csv\", index=False)"
      ],
      "execution_count": 0,
      "outputs": []
    },
    {
      "cell_type": "markdown",
      "metadata": {
        "id": "MIX0AGcQkGG5",
        "colab_type": "text"
      },
      "source": [
        "### vectorize data and split to features and target"
      ]
    },
    {
      "cell_type": "code",
      "metadata": {
        "id": "5r7NRdcwkIX5",
        "colab_type": "code",
        "outputId": "b30a606b-ef2d-47a6-fd0d-daa67ecab2fb",
        "colab": {
          "base_uri": "https://localhost:8080/",
          "height": 224
        }
      },
      "source": [
        "df = pd.get_dummies(df)\n",
        "\n",
        "X_train = df.iloc[:,1:-4]\n",
        "y_train = df.iloc[:,-4:]\n",
        "\n",
        "X_train.head()"
      ],
      "execution_count": 99,
      "outputs": [
        {
          "output_type": "execute_result",
          "data": {
            "text/html": [
              "<div>\n",
              "<style scoped>\n",
              "    .dataframe tbody tr th:only-of-type {\n",
              "        vertical-align: middle;\n",
              "    }\n",
              "\n",
              "    .dataframe tbody tr th {\n",
              "        vertical-align: top;\n",
              "    }\n",
              "\n",
              "    .dataframe thead th {\n",
              "        text-align: right;\n",
              "    }\n",
              "</style>\n",
              "<table border=\"1\" class=\"dataframe\">\n",
              "  <thead>\n",
              "    <tr style=\"text-align: right;\">\n",
              "      <th></th>\n",
              "      <th>verb_veridical_positive_+</th>\n",
              "      <th>verb_veridical_positive_-</th>\n",
              "      <th>verb_veridical_positive_?</th>\n",
              "      <th>verb_veridical_positive_o</th>\n",
              "      <th>verb_veridical_negative_+</th>\n",
              "      <th>verb_veridical_negative_-</th>\n",
              "      <th>verb_veridical_negative_?</th>\n",
              "      <th>verb_veridical_negative_o</th>\n",
              "      <th>verb_tense_brak</th>\n",
              "      <th>verb_tense_future</th>\n",
              "      <th>verb_tense_past</th>\n",
              "      <th>verb_tense_present</th>\n",
              "    </tr>\n",
              "  </thead>\n",
              "  <tbody>\n",
              "    <tr>\n",
              "      <th>0</th>\n",
              "      <td>0</td>\n",
              "      <td>0</td>\n",
              "      <td>0</td>\n",
              "      <td>1</td>\n",
              "      <td>0</td>\n",
              "      <td>0</td>\n",
              "      <td>1</td>\n",
              "      <td>0</td>\n",
              "      <td>1</td>\n",
              "      <td>0</td>\n",
              "      <td>0</td>\n",
              "      <td>0</td>\n",
              "    </tr>\n",
              "    <tr>\n",
              "      <th>1</th>\n",
              "      <td>0</td>\n",
              "      <td>0</td>\n",
              "      <td>1</td>\n",
              "      <td>0</td>\n",
              "      <td>0</td>\n",
              "      <td>0</td>\n",
              "      <td>1</td>\n",
              "      <td>0</td>\n",
              "      <td>0</td>\n",
              "      <td>0</td>\n",
              "      <td>1</td>\n",
              "      <td>0</td>\n",
              "    </tr>\n",
              "    <tr>\n",
              "      <th>2</th>\n",
              "      <td>0</td>\n",
              "      <td>0</td>\n",
              "      <td>1</td>\n",
              "      <td>0</td>\n",
              "      <td>0</td>\n",
              "      <td>0</td>\n",
              "      <td>1</td>\n",
              "      <td>0</td>\n",
              "      <td>0</td>\n",
              "      <td>0</td>\n",
              "      <td>1</td>\n",
              "      <td>0</td>\n",
              "    </tr>\n",
              "    <tr>\n",
              "      <th>3</th>\n",
              "      <td>1</td>\n",
              "      <td>0</td>\n",
              "      <td>0</td>\n",
              "      <td>0</td>\n",
              "      <td>1</td>\n",
              "      <td>0</td>\n",
              "      <td>0</td>\n",
              "      <td>0</td>\n",
              "      <td>0</td>\n",
              "      <td>0</td>\n",
              "      <td>1</td>\n",
              "      <td>0</td>\n",
              "    </tr>\n",
              "    <tr>\n",
              "      <th>4</th>\n",
              "      <td>0</td>\n",
              "      <td>0</td>\n",
              "      <td>0</td>\n",
              "      <td>1</td>\n",
              "      <td>0</td>\n",
              "      <td>0</td>\n",
              "      <td>0</td>\n",
              "      <td>1</td>\n",
              "      <td>0</td>\n",
              "      <td>0</td>\n",
              "      <td>0</td>\n",
              "      <td>1</td>\n",
              "    </tr>\n",
              "  </tbody>\n",
              "</table>\n",
              "</div>"
            ],
            "text/plain": [
              "   verb_veridical_positive_+  ...  verb_tense_present\n",
              "0                          0  ...                   0\n",
              "1                          0  ...                   0\n",
              "2                          0  ...                   0\n",
              "3                          1  ...                   0\n",
              "4                          0  ...                   1\n",
              "\n",
              "[5 rows x 12 columns]"
            ]
          },
          "metadata": {
            "tags": []
          },
          "execution_count": 99
        }
      ]
    },
    {
      "cell_type": "code",
      "metadata": {
        "id": "ZCoFLf-U9HHm",
        "colab_type": "code",
        "outputId": "a79bc80c-2460-4f38-de52-18d1d1114bfb",
        "colab": {
          "base_uri": "https://localhost:8080/",
          "height": 204
        }
      },
      "source": [
        "y_train.head()"
      ],
      "execution_count": 100,
      "outputs": [
        {
          "output_type": "execute_result",
          "data": {
            "text/html": [
              "<div>\n",
              "<style scoped>\n",
              "    .dataframe tbody tr th:only-of-type {\n",
              "        vertical-align: middle;\n",
              "    }\n",
              "\n",
              "    .dataframe tbody tr th {\n",
              "        vertical-align: top;\n",
              "    }\n",
              "\n",
              "    .dataframe thead th {\n",
              "        text-align: right;\n",
              "    }\n",
              "</style>\n",
              "<table border=\"1\" class=\"dataframe\">\n",
              "  <thead>\n",
              "    <tr style=\"text-align: right;\">\n",
              "      <th></th>\n",
              "      <th>semantic_relation_?</th>\n",
              "      <th>semantic_relation_C</th>\n",
              "      <th>semantic_relation_E</th>\n",
              "      <th>semantic_relation_N</th>\n",
              "    </tr>\n",
              "  </thead>\n",
              "  <tbody>\n",
              "    <tr>\n",
              "      <th>0</th>\n",
              "      <td>0</td>\n",
              "      <td>0</td>\n",
              "      <td>0</td>\n",
              "      <td>1</td>\n",
              "    </tr>\n",
              "    <tr>\n",
              "      <th>1</th>\n",
              "      <td>1</td>\n",
              "      <td>0</td>\n",
              "      <td>0</td>\n",
              "      <td>0</td>\n",
              "    </tr>\n",
              "    <tr>\n",
              "      <th>2</th>\n",
              "      <td>0</td>\n",
              "      <td>0</td>\n",
              "      <td>0</td>\n",
              "      <td>1</td>\n",
              "    </tr>\n",
              "    <tr>\n",
              "      <th>3</th>\n",
              "      <td>0</td>\n",
              "      <td>0</td>\n",
              "      <td>0</td>\n",
              "      <td>1</td>\n",
              "    </tr>\n",
              "    <tr>\n",
              "      <th>4</th>\n",
              "      <td>0</td>\n",
              "      <td>0</td>\n",
              "      <td>0</td>\n",
              "      <td>1</td>\n",
              "    </tr>\n",
              "  </tbody>\n",
              "</table>\n",
              "</div>"
            ],
            "text/plain": [
              "   semantic_relation_?  ...  semantic_relation_N\n",
              "0                    0  ...                    1\n",
              "1                    1  ...                    0\n",
              "2                    0  ...                    1\n",
              "3                    0  ...                    1\n",
              "4                    0  ...                    1\n",
              "\n",
              "[5 rows x 4 columns]"
            ]
          },
          "metadata": {
            "tags": []
          },
          "execution_count": 100
        }
      ]
    },
    {
      "cell_type": "markdown",
      "metadata": {
        "id": "9Xi8QfyAkbiN",
        "colab_type": "text"
      },
      "source": [
        "***\n",
        "# Keras model building"
      ]
    },
    {
      "cell_type": "code",
      "metadata": {
        "id": "amhvtjnZQwhz",
        "colab_type": "code",
        "colab": {}
      },
      "source": [
        "import tensorflow as tf \n",
        "from tensorflow import keras\n",
        "from tensorflow.keras import layers\n",
        "from tensorflow.keras.layers import Dense"
      ],
      "execution_count": 0,
      "outputs": []
    },
    {
      "cell_type": "code",
      "metadata": {
        "id": "YQA-dmJ5RL9y",
        "colab_type": "code",
        "outputId": "4bd1f256-01ae-4f75-cf10-db90648df5d4",
        "colab": {
          "base_uri": "https://localhost:8080/",
          "height": 306
        }
      },
      "source": [
        "model = tf.keras.Sequential()\n",
        "\n",
        "#get number of columns in training data\n",
        "n_cols = X_train.shape[1]\n",
        "print(\"Model input size {}\".format(n_cols))\n",
        "#add model layers\n",
        "model.add(Dense(16, activation='relu', input_shape=(n_cols,)))\n",
        "model.add(Dense(32, activation='relu'))\n",
        "model.add(Dense(16, activation='relu'))\n",
        "model.add(Dense(4, activation='softmax'))\n",
        "\n",
        "optimizer = tf.keras.optimizers.Adam(learning_rate=0.001)\n",
        "model.compile(optimizer = optimizer, loss=\"categorical_crossentropy\", metrics = ['accuracy'])\n",
        "model.summary()"
      ],
      "execution_count": 102,
      "outputs": [
        {
          "output_type": "stream",
          "text": [
            "Model input size 12\n",
            "Model: \"sequential_23\"\n",
            "_________________________________________________________________\n",
            "Layer (type)                 Output Shape              Param #   \n",
            "=================================================================\n",
            "dense_94 (Dense)             (None, 16)                208       \n",
            "_________________________________________________________________\n",
            "dense_95 (Dense)             (None, 32)                544       \n",
            "_________________________________________________________________\n",
            "dense_96 (Dense)             (None, 16)                528       \n",
            "_________________________________________________________________\n",
            "dense_97 (Dense)             (None, 4)                 68        \n",
            "=================================================================\n",
            "Total params: 1,348\n",
            "Trainable params: 1,348\n",
            "Non-trainable params: 0\n",
            "_________________________________________________________________\n"
          ],
          "name": "stdout"
        }
      ]
    },
    {
      "cell_type": "markdown",
      "metadata": {
        "id": "xq3yIS2Kkh2r",
        "colab_type": "text"
      },
      "source": [
        "## Training model on prepared data"
      ]
    },
    {
      "cell_type": "code",
      "metadata": {
        "id": "1gnjHDM5dJb_",
        "colab_type": "code",
        "outputId": "b3fbde90-8740-403e-ee32-09f5324afcee",
        "colab": {
          "base_uri": "https://localhost:8080/",
          "height": 1000
        }
      },
      "source": [
        "#train model\n",
        "history = model.fit(X_train, y_train, validation_split=0.4, epochs=30)"
      ],
      "execution_count": 103,
      "outputs": [
        {
          "output_type": "stream",
          "text": [
            "Epoch 1/30\n",
            "49/49 [==============================] - 0s 4ms/step - loss: 1.2809 - accuracy: 0.6243 - val_loss: 1.0049 - val_accuracy: 0.8903\n",
            "Epoch 2/30\n",
            "49/49 [==============================] - 0s 3ms/step - loss: 0.8839 - accuracy: 0.8587 - val_loss: 0.5471 - val_accuracy: 0.8961\n",
            "Epoch 3/30\n",
            "49/49 [==============================] - 0s 3ms/step - loss: 0.5754 - accuracy: 0.8574 - val_loss: 0.4335 - val_accuracy: 0.8961\n",
            "Epoch 4/30\n",
            "49/49 [==============================] - 0s 2ms/step - loss: 0.5326 - accuracy: 0.8606 - val_loss: 0.4299 - val_accuracy: 0.8941\n",
            "Epoch 5/30\n",
            "49/49 [==============================] - 0s 3ms/step - loss: 0.5233 - accuracy: 0.8593 - val_loss: 0.4211 - val_accuracy: 0.8941\n",
            "Epoch 6/30\n",
            "49/49 [==============================] - 0s 2ms/step - loss: 0.5215 - accuracy: 0.8593 - val_loss: 0.4108 - val_accuracy: 0.8961\n",
            "Epoch 7/30\n",
            "49/49 [==============================] - 0s 3ms/step - loss: 0.5184 - accuracy: 0.8593 - val_loss: 0.4096 - val_accuracy: 0.8941\n",
            "Epoch 8/30\n",
            "49/49 [==============================] - 0s 3ms/step - loss: 0.5160 - accuracy: 0.8606 - val_loss: 0.4070 - val_accuracy: 0.8961\n",
            "Epoch 9/30\n",
            "49/49 [==============================] - 0s 3ms/step - loss: 0.5136 - accuracy: 0.8613 - val_loss: 0.4052 - val_accuracy: 0.8961\n",
            "Epoch 10/30\n",
            "49/49 [==============================] - 0s 3ms/step - loss: 0.5140 - accuracy: 0.8626 - val_loss: 0.4037 - val_accuracy: 0.8961\n",
            "Epoch 11/30\n",
            "49/49 [==============================] - 0s 2ms/step - loss: 0.5149 - accuracy: 0.8626 - val_loss: 0.3970 - val_accuracy: 0.8980\n",
            "Epoch 12/30\n",
            "49/49 [==============================] - 0s 3ms/step - loss: 0.5104 - accuracy: 0.8626 - val_loss: 0.3949 - val_accuracy: 0.8980\n",
            "Epoch 13/30\n",
            "49/49 [==============================] - 0s 2ms/step - loss: 0.5086 - accuracy: 0.8632 - val_loss: 0.3942 - val_accuracy: 0.9028\n",
            "Epoch 14/30\n",
            "49/49 [==============================] - 0s 2ms/step - loss: 0.5095 - accuracy: 0.8632 - val_loss: 0.3899 - val_accuracy: 0.9028\n",
            "Epoch 15/30\n",
            "49/49 [==============================] - 0s 3ms/step - loss: 0.5080 - accuracy: 0.8632 - val_loss: 0.3910 - val_accuracy: 0.9028\n",
            "Epoch 16/30\n",
            "49/49 [==============================] - 0s 3ms/step - loss: 0.5066 - accuracy: 0.8638 - val_loss: 0.3910 - val_accuracy: 0.9028\n",
            "Epoch 17/30\n",
            "49/49 [==============================] - 0s 2ms/step - loss: 0.5070 - accuracy: 0.8638 - val_loss: 0.3881 - val_accuracy: 0.9028\n",
            "Epoch 18/30\n",
            "49/49 [==============================] - 0s 3ms/step - loss: 0.5050 - accuracy: 0.8638 - val_loss: 0.3890 - val_accuracy: 0.9028\n",
            "Epoch 19/30\n",
            "49/49 [==============================] - 0s 2ms/step - loss: 0.5061 - accuracy: 0.8638 - val_loss: 0.3885 - val_accuracy: 0.9057\n",
            "Epoch 20/30\n",
            "49/49 [==============================] - 0s 3ms/step - loss: 0.5045 - accuracy: 0.8638 - val_loss: 0.3868 - val_accuracy: 0.9057\n",
            "Epoch 21/30\n",
            "49/49 [==============================] - 0s 3ms/step - loss: 0.5047 - accuracy: 0.8638 - val_loss: 0.3816 - val_accuracy: 0.9057\n",
            "Epoch 22/30\n",
            "49/49 [==============================] - 0s 2ms/step - loss: 0.5060 - accuracy: 0.8638 - val_loss: 0.3866 - val_accuracy: 0.9047\n",
            "Epoch 23/30\n",
            "49/49 [==============================] - 0s 3ms/step - loss: 0.5040 - accuracy: 0.8638 - val_loss: 0.3783 - val_accuracy: 0.9047\n",
            "Epoch 24/30\n",
            "49/49 [==============================] - 0s 3ms/step - loss: 0.5009 - accuracy: 0.8638 - val_loss: 0.3882 - val_accuracy: 0.9047\n",
            "Epoch 25/30\n",
            "49/49 [==============================] - 0s 2ms/step - loss: 0.5048 - accuracy: 0.8638 - val_loss: 0.3707 - val_accuracy: 0.9047\n",
            "Epoch 26/30\n",
            "49/49 [==============================] - 0s 3ms/step - loss: 0.5019 - accuracy: 0.8638 - val_loss: 0.3774 - val_accuracy: 0.9047\n",
            "Epoch 27/30\n",
            "49/49 [==============================] - 0s 2ms/step - loss: 0.5014 - accuracy: 0.8638 - val_loss: 0.3826 - val_accuracy: 0.9047\n",
            "Epoch 28/30\n",
            "49/49 [==============================] - 0s 3ms/step - loss: 0.5003 - accuracy: 0.8645 - val_loss: 0.3765 - val_accuracy: 0.9115\n",
            "Epoch 29/30\n",
            "49/49 [==============================] - 0s 2ms/step - loss: 0.4998 - accuracy: 0.8638 - val_loss: 0.3783 - val_accuracy: 0.9047\n",
            "Epoch 30/30\n",
            "49/49 [==============================] - 0s 2ms/step - loss: 0.5013 - accuracy: 0.8638 - val_loss: 0.3796 - val_accuracy: 0.9047\n"
          ],
          "name": "stdout"
        }
      ]
    },
    {
      "cell_type": "markdown",
      "metadata": {
        "id": "YQDKmJQ_kmdh",
        "colab_type": "text"
      },
      "source": [
        "## plot with train and test accuracy"
      ]
    },
    {
      "cell_type": "code",
      "metadata": {
        "id": "mi0f_JObgC4C",
        "colab_type": "code",
        "outputId": "c604bf1e-cf9c-4032-c81b-ad214734e677",
        "colab": {
          "base_uri": "https://localhost:8080/",
          "height": 295
        }
      },
      "source": [
        "import matplotlib.pyplot as plt\n",
        "plt.plot(history.history['accuracy'])\n",
        "plt.plot(history.history['val_accuracy'])\n",
        "plt.title('model accuracy')\n",
        "plt.ylabel('accuracy')\n",
        "plt.xlabel('epoch')\n",
        "plt.ylim(0,1)\n",
        "plt.legend(['train', 'test'], loc='upper left')\n",
        "plt.show()"
      ],
      "execution_count": 104,
      "outputs": [
        {
          "output_type": "display_data",
          "data": {
            "image/png": "[encoded data removed]",
            "text/plain": [
              "<Figure size 432x288 with 1 Axes>"
            ]
          },
          "metadata": {
            "tags": [],
            "needs_background": "light"
          }
        }
      ]
    },
    {
      "cell_type": "code",
      "metadata": {
        "colab_type": "code",
        "outputId": "d071ca3d-4d35-461a-b5f3-8c6e2f02ab3b",
        "id": "YQosphMa9Zab",
        "colab": {
          "base_uri": "https://localhost:8080/",
          "height": 295
        }
      },
      "source": [
        "import matplotlib.pyplot as plt\n",
        "plt.plot(history.history['loss'])\n",
        "plt.plot(history.history['val_loss'])\n",
        "plt.title('training loss')\n",
        "plt.ylabel('loss')\n",
        "plt.xlabel('epoch')\n",
        "plt.ylim(0,1)\n",
        "plt.legend(['train', 'test'], loc='upper left')\n",
        "plt.show()"
      ],
      "execution_count": 105,
      "outputs": [
        {
          "output_type": "display_data",
          "data": {
            "image/png": "[encoded data removed]",
            "text/plain": [
              "<Figure size 432x288 with 1 Axes>"
            ]
          },
          "metadata": {
            "tags": [],
            "needs_background": "light"
          }
        }
      ]
    },
    {
      "cell_type": "markdown",
      "metadata": {
        "id": "RwVgSUc6uC6Y",
        "colab_type": "text"
      },
      "source": [
        "### Save model \n"
      ]
    },
    {
      "cell_type": "code",
      "metadata": {
        "id": "Z2XZ1N0JuIop",
        "colab_type": "code",
        "colab": {}
      },
      "source": [
        "model.save('featureModelPl.h5')"
      ],
      "execution_count": 0,
      "outputs": []
    }
  ]
}