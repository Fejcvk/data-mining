{
 "cells": [
  {
   "cell_type": "markdown",
   "metadata": {
    "colab_type": "text",
    "id": "i61b34AJ1zPY"
   },
   "source": [
    "# Second model presupposition - Polish Dataset"
   ]
  },
  {
   "cell_type": "code",
   "execution_count": 2,
   "metadata": {
    "colab": {
     "base_uri": "https://localhost:8080/",
     "height": 665
    },
    "colab_type": "code",
    "id": "QLg6EMKN2D0x",
    "outputId": "4b58d7ae-bd32-4ffb-a97d-c9b4d7c93f76"
   },
   "outputs": [
    {
     "name": "stdout",
     "output_type": "stream",
     "text": [
      "Collecting transformers\n",
      "\u001b[?25l  Downloading https://files.pythonhosted.org/packages/a3/78/92cedda05552398352ed9784908b834ee32a0bd071a9b32de287327370b7/transformers-2.8.0-py3-none-any.whl (563kB)\n",
      "\u001b[K     |████████████████████████████████| 573kB 3.3MB/s \n",
      "\u001b[?25hCollecting sentencepiece\n",
      "\u001b[?25l  Downloading https://files.pythonhosted.org/packages/74/f4/2d5214cbf13d06e7cb2c20d84115ca25b53ea76fa1f0ade0e3c9749de214/sentencepiece-0.1.85-cp36-cp36m-manylinux1_x86_64.whl (1.0MB)\n",
      "\u001b[K     |████████████████████████████████| 1.0MB 14.9MB/s \n",
      "\u001b[?25hRequirement already satisfied: requests in /usr/local/lib/python3.6/dist-packages (from transformers) (2.21.0)\n",
      "Requirement already satisfied: filelock in /usr/local/lib/python3.6/dist-packages (from transformers) (3.0.12)\n",
      "Collecting tokenizers==0.5.2\n",
      "\u001b[?25l  Downloading https://files.pythonhosted.org/packages/d1/3f/73c881ea4723e43c1e9acf317cf407fab3a278daab3a69c98dcac511c04f/tokenizers-0.5.2-cp36-cp36m-manylinux1_x86_64.whl (3.7MB)\n",
      "\u001b[K     |████████████████████████████████| 3.7MB 21.4MB/s \n",
      "\u001b[?25hCollecting sacremoses\n",
      "\u001b[?25l  Downloading https://files.pythonhosted.org/packages/99/50/93509f906a40bffd7d175f97fd75ea328ad9bd91f48f59c4bd084c94a25e/sacremoses-0.0.41.tar.gz (883kB)\n",
      "\u001b[K     |████████████████████████████████| 890kB 48.7MB/s \n",
      "\u001b[?25hRequirement already satisfied: dataclasses; python_version < \"3.7\" in /usr/local/lib/python3.6/dist-packages (from transformers) (0.7)\n",
      "Requirement already satisfied: numpy in /usr/local/lib/python3.6/dist-packages (from transformers) (1.18.2)\n",
      "Requirement already satisfied: regex!=2019.12.17 in /usr/local/lib/python3.6/dist-packages (from transformers) (2019.12.20)\n",
      "Requirement already satisfied: tqdm>=4.27 in /usr/local/lib/python3.6/dist-packages (from transformers) (4.38.0)\n",
      "Requirement already satisfied: boto3 in /usr/local/lib/python3.6/dist-packages (from transformers) (1.12.40)\n",
      "Requirement already satisfied: chardet<3.1.0,>=3.0.2 in /usr/local/lib/python3.6/dist-packages (from requests->transformers) (3.0.4)\n",
      "Requirement already satisfied: urllib3<1.25,>=1.21.1 in /usr/local/lib/python3.6/dist-packages (from requests->transformers) (1.24.3)\n",
      "Requirement already satisfied: idna<2.9,>=2.5 in /usr/local/lib/python3.6/dist-packages (from requests->transformers) (2.8)\n",
      "Requirement already satisfied: certifi>=2017.4.17 in /usr/local/lib/python3.6/dist-packages (from requests->transformers) (2020.4.5.1)\n",
      "Requirement already satisfied: six in /usr/local/lib/python3.6/dist-packages (from sacremoses->transformers) (1.12.0)\n",
      "Requirement already satisfied: click in /usr/local/lib/python3.6/dist-packages (from sacremoses->transformers) (7.1.1)\n",
      "Requirement already satisfied: joblib in /usr/local/lib/python3.6/dist-packages (from sacremoses->transformers) (0.14.1)\n",
      "Requirement already satisfied: botocore<1.16.0,>=1.15.40 in /usr/local/lib/python3.6/dist-packages (from boto3->transformers) (1.15.40)\n",
      "Requirement already satisfied: s3transfer<0.4.0,>=0.3.0 in /usr/local/lib/python3.6/dist-packages (from boto3->transformers) (0.3.3)\n",
      "Requirement already satisfied: jmespath<1.0.0,>=0.7.1 in /usr/local/lib/python3.6/dist-packages (from boto3->transformers) (0.9.5)\n",
      "Requirement already satisfied: docutils<0.16,>=0.10 in /usr/local/lib/python3.6/dist-packages (from botocore<1.16.0,>=1.15.40->boto3->transformers) (0.15.2)\n",
      "Requirement already satisfied: python-dateutil<3.0.0,>=2.1 in /usr/local/lib/python3.6/dist-packages (from botocore<1.16.0,>=1.15.40->boto3->transformers) (2.8.1)\n",
      "Building wheels for collected packages: sacremoses\n",
      "  Building wheel for sacremoses (setup.py) ... \u001b[?25l\u001b[?25hdone\n",
      "  Created wheel for sacremoses: filename=sacremoses-0.0.41-cp36-none-any.whl size=893334 sha256=92475016d1c85aa3e13560ab84502f54b3435880424e3e1092521e5428d3bfb0\n",
      "  Stored in directory: /root/.cache/pip/wheels/22/5a/d4/b020a81249de7dc63758a34222feaa668dbe8ebfe9170cc9b1\n",
      "Successfully built sacremoses\n",
      "Installing collected packages: sentencepiece, tokenizers, sacremoses, transformers\n",
      "Successfully installed sacremoses-0.0.41 sentencepiece-0.1.85 tokenizers-0.5.2 transformers-2.8.0\n"
     ]
    }
   ],
   "source": [
    "!pip install transformers\n",
    "!pip install -q pyyaml h5py\n",
    "import pandas as pd\n",
    "from transformers import *\n",
    "import numpy as np\n",
    "from sklearn.model_selection import train_test_split\n"
   ]
  },
  {
   "cell_type": "markdown",
   "metadata": {
    "colab_type": "text",
    "id": "Qr2zJmEf2Eh3"
   },
   "source": [
    "## Data Preprocessing"
   ]
  },
  {
   "cell_type": "markdown",
   "metadata": {
    "colab_type": "text",
    "id": "vLXojV3K5Y1U"
   },
   "source": [
    "*   Reading data\n",
    "*   Change columns names\n",
    "*   Drop NaN rows\n",
    "*   Fill others NaN values by special sign"
   ]
  },
  {
   "cell_type": "code",
   "execution_count": 3,
   "metadata": {
    "colab": {
     "base_uri": "https://localhost:8080/",
     "height": 197
    },
    "colab_type": "code",
    "id": "j--zuCZf2HvJ",
    "outputId": "3fbd6e00-ca80-40b9-f708-c5fee3e3db49"
   },
   "outputs": [
    {
     "data": {
      "text/html": [
       "<div>\n",
       "<style scoped>\n",
       "    .dataframe tbody tr th:only-of-type {\n",
       "        vertical-align: middle;\n",
       "    }\n",
       "\n",
       "    .dataframe tbody tr th {\n",
       "        vertical-align: top;\n",
       "    }\n",
       "\n",
       "    .dataframe thead th {\n",
       "        text-align: right;\n",
       "    }\n",
       "</style>\n",
       "<table border=\"1\" class=\"dataframe\">\n",
       "  <thead>\n",
       "    <tr style=\"text-align: right;\">\n",
       "      <th></th>\n",
       "      <th>type_of_sentence</th>\n",
       "      <th>verb_main_semantic_class</th>\n",
       "      <th>verb_second_semantic_class</th>\n",
       "      <th>verb_third_semantic_class</th>\n",
       "      <th>verb_veridical_positive</th>\n",
       "      <th>verb_veridical_negative</th>\n",
       "      <th>verb_tense</th>\n",
       "      <th>t_negation</th>\n",
       "      <th>presupposition</th>\n",
       "    </tr>\n",
       "  </thead>\n",
       "  <tbody>\n",
       "    <tr>\n",
       "      <th>0</th>\n",
       "      <td>eliptyczne</td>\n",
       "      <td>mówienia</td>\n",
       "      <td>none</td>\n",
       "      <td>none</td>\n",
       "      <td>o?</td>\n",
       "      <td>?</td>\n",
       "      <td>brak</td>\n",
       "      <td>0</td>\n",
       "      <td>nie dotyczy</td>\n",
       "    </tr>\n",
       "    <tr>\n",
       "      <th>1</th>\n",
       "      <td>eliptyczne</td>\n",
       "      <td>epistemiczny</td>\n",
       "      <td>none</td>\n",
       "      <td>none</td>\n",
       "      <td>?</td>\n",
       "      <td>?</td>\n",
       "      <td>past</td>\n",
       "      <td>0</td>\n",
       "      <td>no</td>\n",
       "    </tr>\n",
       "    <tr>\n",
       "      <th>2</th>\n",
       "      <td>eliptyczne</td>\n",
       "      <td>mówienia</td>\n",
       "      <td>none</td>\n",
       "      <td>none</td>\n",
       "      <td>?</td>\n",
       "      <td>?</td>\n",
       "      <td>past</td>\n",
       "      <td>0</td>\n",
       "      <td>nie dotyczy</td>\n",
       "    </tr>\n",
       "    <tr>\n",
       "      <th>3</th>\n",
       "      <td>1</td>\n",
       "      <td>epistemiczny</td>\n",
       "      <td>percepcyjny</td>\n",
       "      <td>none</td>\n",
       "      <td>\"+\"</td>\n",
       "      <td>\"+\"</td>\n",
       "      <td>past</td>\n",
       "      <td>0</td>\n",
       "      <td>nie dotyczy</td>\n",
       "    </tr>\n",
       "    <tr>\n",
       "      <th>4</th>\n",
       "      <td>1</td>\n",
       "      <td>epistemiczny</td>\n",
       "      <td>percepcyjny</td>\n",
       "      <td>none</td>\n",
       "      <td>o</td>\n",
       "      <td>o</td>\n",
       "      <td>present</td>\n",
       "      <td>0</td>\n",
       "      <td>nie dotyczy</td>\n",
       "    </tr>\n",
       "  </tbody>\n",
       "</table>\n",
       "</div>"
      ],
      "text/plain": [
       "  type_of_sentence verb_main_semantic_class  ... t_negation presupposition\n",
       "0       eliptyczne                 mówienia  ...          0    nie dotyczy\n",
       "1       eliptyczne             epistemiczny  ...          0             no\n",
       "2       eliptyczne                 mówienia  ...          0    nie dotyczy\n",
       "3                1             epistemiczny  ...          0    nie dotyczy\n",
       "4                1             epistemiczny  ...          0    nie dotyczy\n",
       "\n",
       "[5 rows x 9 columns]"
      ]
     },
     "execution_count": 3,
     "metadata": {
      "tags": []
     },
     "output_type": "execute_result"
    }
   ],
   "source": [
    "df = pd.read_excel('polishOriginalDataset.xlsx')\n",
    "df.reset_index()\n",
    "df = df.iloc[:,[6,8,9,10,15,16,19,21,23]]\n",
    "df.columns = [\n",
    "              \"type_of_sentence\",\n",
    "              \"verb_main_semantic_class\",\n",
    "              \"verb_second_semantic_class\",\n",
    "              \"verb_third_semantic_class\",\n",
    "              \"verb_veridical_positive\",\n",
    "              \"verb_veridical_negative\",\n",
    "              \"verb_tense\",\n",
    "              \"t_negation\",\n",
    "              \"presupposition\"\n",
    "              ]\n",
    "df.dropna(inplace=True, axis = 0, how = 'all')\n",
    "df.fillna(axis = 0, inplace =True, value=\"none\")\n",
    "df.head()"
   ]
  },
  {
   "cell_type": "markdown",
   "metadata": {
    "colab_type": "text",
    "id": "fTXvttwo5v0D"
   },
   "source": [
    "### Cleaning data by deleting uncertainty - simplification "
   ]
  },
  {
   "cell_type": "code",
   "execution_count": 10,
   "metadata": {
    "colab": {
     "base_uri": "https://localhost:8080/",
     "height": 34
    },
    "colab_type": "code",
    "id": "ewr4Z-ZH8e6Q",
    "outputId": "8c94c188-d499-429e-ceae-b719e740ae85"
   },
   "outputs": [
    {
     "data": {
      "text/plain": [
       "array(['no', 'yes'], dtype=object)"
      ]
     },
     "execution_count": 10,
     "metadata": {
      "tags": []
     },
     "output_type": "execute_result"
    }
   ],
   "source": [
    "# df.type_of_sentence.unique() cleaning not needed \n",
    "# df.verb_main_semantic_class.unique() cleaning not needed\n",
    "# df.verb_second_semantic_class.unique() cleaning not needed \n",
    "# df.verb_third_semantic_class.unique() cleaning not needed\n",
    "\n",
    "# verb veridical positive cleaning\n",
    "df.verb_veridical_positive = df.verb_veridical_positive.apply(lambda x: '+' if '+' in x else x)\n",
    "df.verb_veridical_positive = df.verb_veridical_positive.apply(lambda x: '-' if '-' in x else x)\n",
    "df.verb_veridical_positive = df.verb_veridical_positive.apply(lambda x: 'o' if 'o' in x else x)\n",
    "df.verb_veridical_positive = df.verb_veridical_positive.apply(lambda x: '?' if '?' in x else x)\n",
    "\n",
    "# verb veridical negative cleaning\n",
    "df.verb_veridical_negative = df.verb_veridical_negative.apply(lambda x: '+' if '+' in x else x)\n",
    "df.verb_veridical_negative = df.verb_veridical_negative.apply(lambda x: 'o' if 'o' in x else x)\n",
    "df.verb_veridical_negative = df.verb_veridical_negative.apply(lambda x: '-' if '-' in x else x)\n",
    "df.verb_veridical_negative = df.verb_veridical_negative.apply(lambda x: '?' if '?' in x else x)\n",
    "\n",
    "# df.verb_tense.unique() cleaning not needed\n",
    "# df.t_negation.unique() cleaning not needed\n",
    "# df.semantic_relation.unique() cleaning not needed \n",
    "\n",
    "df = df[df[\"presupposition\"] != \"nie dotyczy\"]"
   ]
  },
  {
   "cell_type": "code",
   "execution_count": 0,
   "metadata": {
    "colab": {},
    "colab_type": "code",
    "id": "d0yf4jWrgB4D"
   },
   "outputs": [],
   "source": [
    "df.to_csv(\"plDataPresup.csv\", index=False)"
   ]
  },
  {
   "cell_type": "markdown",
   "metadata": {
    "colab_type": "text",
    "id": "Eq5Zke-TO3zd"
   },
   "source": [
    "#### Possible feature values"
   ]
  },
  {
   "cell_type": "code",
   "execution_count": 12,
   "metadata": {
    "colab": {
     "base_uri": "https://localhost:8080/",
     "height": 238
    },
    "colab_type": "code",
    "id": "FVbjgIUMOXXi",
    "outputId": "c538a64e-0fa7-4446-efee-e4cdd1368764"
   },
   "outputs": [
    {
     "name": "stdout",
     "output_type": "stream",
     "text": [
      "['eliptyczne' 1 'modalne' 'powinnościowe' 'none' '?' 'warunkowe; pytajne'\n",
      " 'performatyw' 'imperatyw' 'pytajne' 'wolitywne' 'warunkowe; modalne'\n",
      " 'generalne' 'modalne; pytajne' 'imperatyw ' 'warunkowe']\n",
      "['epistemiczny' 'percepcyjny' 'emotywny' '?' 'zdarzeniowy' 'mówienia'\n",
      " 'czynnościowy' 'przyczynowy' 'dowodzenia' 'odkrycia' 'pamięciowy'\n",
      " 'wnioskowania']\n",
      "['none' 'percepcyjny' 'epistemiczny' 'emotywny' 'wolicjonalny'\n",
      " 'wnioskowania' 'pamięciowy' 'zdarzeniowy' 'mówienia']\n",
      "['none' 'mówienia' 'epistemiczny' 'percepcyjny']\n",
      "['?' 'o' '+' '-']\n",
      "['?' 'o' '+' '-']\n",
      "['past' 'brak' 'present' 'future']\n",
      "[0 1]\n"
     ]
    }
   ],
   "source": [
    "print(df.type_of_sentence.unique())\n",
    "print(df.verb_main_semantic_class.unique())\n",
    "print(df.verb_second_semantic_class.unique())\n",
    "print(df.verb_third_semantic_class.unique())\n",
    "print(df.verb_veridical_positive.unique())\n",
    "print(df.verb_veridical_negative.unique())\n",
    "print(df.verb_tense.unique())\n",
    "print(df.t_negation.unique())\n"
   ]
  },
  {
   "cell_type": "markdown",
   "metadata": {
    "colab_type": "text",
    "id": "MIX0AGcQkGG5"
   },
   "source": [
    "### vectorize data and split to features and target"
   ]
  },
  {
   "cell_type": "code",
   "execution_count": 15,
   "metadata": {
    "colab": {
     "base_uri": "https://localhost:8080/",
     "height": 234
    },
    "colab_type": "code",
    "id": "5r7NRdcwkIX5",
    "outputId": "42670109-db50-41d7-b587-6ec519e36bda"
   },
   "outputs": [
    {
     "data": {
      "text/html": [
       "<div>\n",
       "<style scoped>\n",
       "    .dataframe tbody tr th:only-of-type {\n",
       "        vertical-align: middle;\n",
       "    }\n",
       "\n",
       "    .dataframe tbody tr th {\n",
       "        vertical-align: top;\n",
       "    }\n",
       "\n",
       "    .dataframe thead th {\n",
       "        text-align: right;\n",
       "    }\n",
       "</style>\n",
       "<table border=\"1\" class=\"dataframe\">\n",
       "  <thead>\n",
       "    <tr style=\"text-align: right;\">\n",
       "      <th></th>\n",
       "      <th>type_of_sentence_1</th>\n",
       "      <th>type_of_sentence_?</th>\n",
       "      <th>type_of_sentence_eliptyczne</th>\n",
       "      <th>type_of_sentence_generalne</th>\n",
       "      <th>type_of_sentence_imperatyw</th>\n",
       "      <th>type_of_sentence_imperatyw</th>\n",
       "      <th>type_of_sentence_modalne</th>\n",
       "      <th>type_of_sentence_modalne; pytajne</th>\n",
       "      <th>type_of_sentence_none</th>\n",
       "      <th>type_of_sentence_performatyw</th>\n",
       "      <th>type_of_sentence_powinnościowe</th>\n",
       "      <th>type_of_sentence_pytajne</th>\n",
       "      <th>type_of_sentence_warunkowe</th>\n",
       "      <th>type_of_sentence_warunkowe; modalne</th>\n",
       "      <th>type_of_sentence_warunkowe; pytajne</th>\n",
       "      <th>type_of_sentence_wolitywne</th>\n",
       "      <th>verb_main_semantic_class_?</th>\n",
       "      <th>verb_main_semantic_class_czynnościowy</th>\n",
       "      <th>verb_main_semantic_class_dowodzenia</th>\n",
       "      <th>verb_main_semantic_class_emotywny</th>\n",
       "      <th>verb_main_semantic_class_epistemiczny</th>\n",
       "      <th>verb_main_semantic_class_mówienia</th>\n",
       "      <th>verb_main_semantic_class_odkrycia</th>\n",
       "      <th>verb_main_semantic_class_pamięciowy</th>\n",
       "      <th>verb_main_semantic_class_percepcyjny</th>\n",
       "      <th>verb_main_semantic_class_przyczynowy</th>\n",
       "      <th>verb_main_semantic_class_wnioskowania</th>\n",
       "      <th>verb_main_semantic_class_zdarzeniowy</th>\n",
       "      <th>verb_second_semantic_class_emotywny</th>\n",
       "      <th>verb_second_semantic_class_epistemiczny</th>\n",
       "      <th>verb_second_semantic_class_mówienia</th>\n",
       "      <th>verb_second_semantic_class_none</th>\n",
       "      <th>verb_second_semantic_class_pamięciowy</th>\n",
       "      <th>verb_second_semantic_class_percepcyjny</th>\n",
       "      <th>verb_second_semantic_class_wnioskowania</th>\n",
       "      <th>verb_second_semantic_class_wolicjonalny</th>\n",
       "      <th>verb_second_semantic_class_zdarzeniowy</th>\n",
       "      <th>verb_third_semantic_class_epistemiczny</th>\n",
       "      <th>verb_third_semantic_class_mówienia</th>\n",
       "      <th>verb_third_semantic_class_none</th>\n",
       "      <th>verb_third_semantic_class_percepcyjny</th>\n",
       "      <th>verb_veridical_positive_+</th>\n",
       "      <th>verb_veridical_positive_-</th>\n",
       "      <th>verb_veridical_positive_?</th>\n",
       "      <th>verb_veridical_positive_o</th>\n",
       "      <th>verb_veridical_negative_+</th>\n",
       "      <th>verb_veridical_negative_-</th>\n",
       "      <th>verb_veridical_negative_?</th>\n",
       "      <th>verb_veridical_negative_o</th>\n",
       "      <th>verb_tense_brak</th>\n",
       "      <th>verb_tense_future</th>\n",
       "      <th>verb_tense_past</th>\n",
       "      <th>verb_tense_present</th>\n",
       "    </tr>\n",
       "  </thead>\n",
       "  <tbody>\n",
       "    <tr>\n",
       "      <th>1</th>\n",
       "      <td>0</td>\n",
       "      <td>0</td>\n",
       "      <td>1</td>\n",
       "      <td>0</td>\n",
       "      <td>0</td>\n",
       "      <td>0</td>\n",
       "      <td>0</td>\n",
       "      <td>0</td>\n",
       "      <td>0</td>\n",
       "      <td>0</td>\n",
       "      <td>0</td>\n",
       "      <td>0</td>\n",
       "      <td>0</td>\n",
       "      <td>0</td>\n",
       "      <td>0</td>\n",
       "      <td>0</td>\n",
       "      <td>0</td>\n",
       "      <td>0</td>\n",
       "      <td>0</td>\n",
       "      <td>0</td>\n",
       "      <td>1</td>\n",
       "      <td>0</td>\n",
       "      <td>0</td>\n",
       "      <td>0</td>\n",
       "      <td>0</td>\n",
       "      <td>0</td>\n",
       "      <td>0</td>\n",
       "      <td>0</td>\n",
       "      <td>0</td>\n",
       "      <td>0</td>\n",
       "      <td>0</td>\n",
       "      <td>1</td>\n",
       "      <td>0</td>\n",
       "      <td>0</td>\n",
       "      <td>0</td>\n",
       "      <td>0</td>\n",
       "      <td>0</td>\n",
       "      <td>0</td>\n",
       "      <td>0</td>\n",
       "      <td>1</td>\n",
       "      <td>0</td>\n",
       "      <td>0</td>\n",
       "      <td>0</td>\n",
       "      <td>1</td>\n",
       "      <td>0</td>\n",
       "      <td>0</td>\n",
       "      <td>0</td>\n",
       "      <td>1</td>\n",
       "      <td>0</td>\n",
       "      <td>0</td>\n",
       "      <td>0</td>\n",
       "      <td>1</td>\n",
       "      <td>0</td>\n",
       "    </tr>\n",
       "    <tr>\n",
       "      <th>6</th>\n",
       "      <td>1</td>\n",
       "      <td>0</td>\n",
       "      <td>0</td>\n",
       "      <td>0</td>\n",
       "      <td>0</td>\n",
       "      <td>0</td>\n",
       "      <td>0</td>\n",
       "      <td>0</td>\n",
       "      <td>0</td>\n",
       "      <td>0</td>\n",
       "      <td>0</td>\n",
       "      <td>0</td>\n",
       "      <td>0</td>\n",
       "      <td>0</td>\n",
       "      <td>0</td>\n",
       "      <td>0</td>\n",
       "      <td>0</td>\n",
       "      <td>0</td>\n",
       "      <td>0</td>\n",
       "      <td>0</td>\n",
       "      <td>1</td>\n",
       "      <td>0</td>\n",
       "      <td>0</td>\n",
       "      <td>0</td>\n",
       "      <td>0</td>\n",
       "      <td>0</td>\n",
       "      <td>0</td>\n",
       "      <td>0</td>\n",
       "      <td>0</td>\n",
       "      <td>0</td>\n",
       "      <td>0</td>\n",
       "      <td>0</td>\n",
       "      <td>0</td>\n",
       "      <td>1</td>\n",
       "      <td>0</td>\n",
       "      <td>0</td>\n",
       "      <td>0</td>\n",
       "      <td>0</td>\n",
       "      <td>0</td>\n",
       "      <td>1</td>\n",
       "      <td>0</td>\n",
       "      <td>0</td>\n",
       "      <td>0</td>\n",
       "      <td>0</td>\n",
       "      <td>1</td>\n",
       "      <td>0</td>\n",
       "      <td>0</td>\n",
       "      <td>0</td>\n",
       "      <td>1</td>\n",
       "      <td>0</td>\n",
       "      <td>0</td>\n",
       "      <td>1</td>\n",
       "      <td>0</td>\n",
       "    </tr>\n",
       "    <tr>\n",
       "      <th>19</th>\n",
       "      <td>1</td>\n",
       "      <td>0</td>\n",
       "      <td>0</td>\n",
       "      <td>0</td>\n",
       "      <td>0</td>\n",
       "      <td>0</td>\n",
       "      <td>0</td>\n",
       "      <td>0</td>\n",
       "      <td>0</td>\n",
       "      <td>0</td>\n",
       "      <td>0</td>\n",
       "      <td>0</td>\n",
       "      <td>0</td>\n",
       "      <td>0</td>\n",
       "      <td>0</td>\n",
       "      <td>0</td>\n",
       "      <td>0</td>\n",
       "      <td>0</td>\n",
       "      <td>0</td>\n",
       "      <td>0</td>\n",
       "      <td>1</td>\n",
       "      <td>0</td>\n",
       "      <td>0</td>\n",
       "      <td>0</td>\n",
       "      <td>0</td>\n",
       "      <td>0</td>\n",
       "      <td>0</td>\n",
       "      <td>0</td>\n",
       "      <td>0</td>\n",
       "      <td>0</td>\n",
       "      <td>0</td>\n",
       "      <td>0</td>\n",
       "      <td>0</td>\n",
       "      <td>1</td>\n",
       "      <td>0</td>\n",
       "      <td>0</td>\n",
       "      <td>0</td>\n",
       "      <td>0</td>\n",
       "      <td>0</td>\n",
       "      <td>1</td>\n",
       "      <td>0</td>\n",
       "      <td>0</td>\n",
       "      <td>0</td>\n",
       "      <td>0</td>\n",
       "      <td>1</td>\n",
       "      <td>0</td>\n",
       "      <td>0</td>\n",
       "      <td>0</td>\n",
       "      <td>1</td>\n",
       "      <td>0</td>\n",
       "      <td>0</td>\n",
       "      <td>1</td>\n",
       "      <td>0</td>\n",
       "    </tr>\n",
       "    <tr>\n",
       "      <th>20</th>\n",
       "      <td>1</td>\n",
       "      <td>0</td>\n",
       "      <td>0</td>\n",
       "      <td>0</td>\n",
       "      <td>0</td>\n",
       "      <td>0</td>\n",
       "      <td>0</td>\n",
       "      <td>0</td>\n",
       "      <td>0</td>\n",
       "      <td>0</td>\n",
       "      <td>0</td>\n",
       "      <td>0</td>\n",
       "      <td>0</td>\n",
       "      <td>0</td>\n",
       "      <td>0</td>\n",
       "      <td>0</td>\n",
       "      <td>0</td>\n",
       "      <td>0</td>\n",
       "      <td>0</td>\n",
       "      <td>0</td>\n",
       "      <td>0</td>\n",
       "      <td>0</td>\n",
       "      <td>0</td>\n",
       "      <td>0</td>\n",
       "      <td>1</td>\n",
       "      <td>0</td>\n",
       "      <td>0</td>\n",
       "      <td>0</td>\n",
       "      <td>0</td>\n",
       "      <td>1</td>\n",
       "      <td>0</td>\n",
       "      <td>0</td>\n",
       "      <td>0</td>\n",
       "      <td>0</td>\n",
       "      <td>0</td>\n",
       "      <td>0</td>\n",
       "      <td>0</td>\n",
       "      <td>0</td>\n",
       "      <td>0</td>\n",
       "      <td>1</td>\n",
       "      <td>0</td>\n",
       "      <td>1</td>\n",
       "      <td>0</td>\n",
       "      <td>0</td>\n",
       "      <td>0</td>\n",
       "      <td>1</td>\n",
       "      <td>0</td>\n",
       "      <td>0</td>\n",
       "      <td>0</td>\n",
       "      <td>0</td>\n",
       "      <td>0</td>\n",
       "      <td>1</td>\n",
       "      <td>0</td>\n",
       "    </tr>\n",
       "    <tr>\n",
       "      <th>35</th>\n",
       "      <td>1</td>\n",
       "      <td>0</td>\n",
       "      <td>0</td>\n",
       "      <td>0</td>\n",
       "      <td>0</td>\n",
       "      <td>0</td>\n",
       "      <td>0</td>\n",
       "      <td>0</td>\n",
       "      <td>0</td>\n",
       "      <td>0</td>\n",
       "      <td>0</td>\n",
       "      <td>0</td>\n",
       "      <td>0</td>\n",
       "      <td>0</td>\n",
       "      <td>0</td>\n",
       "      <td>0</td>\n",
       "      <td>0</td>\n",
       "      <td>0</td>\n",
       "      <td>0</td>\n",
       "      <td>0</td>\n",
       "      <td>1</td>\n",
       "      <td>0</td>\n",
       "      <td>0</td>\n",
       "      <td>0</td>\n",
       "      <td>0</td>\n",
       "      <td>0</td>\n",
       "      <td>0</td>\n",
       "      <td>0</td>\n",
       "      <td>0</td>\n",
       "      <td>0</td>\n",
       "      <td>0</td>\n",
       "      <td>1</td>\n",
       "      <td>0</td>\n",
       "      <td>0</td>\n",
       "      <td>0</td>\n",
       "      <td>0</td>\n",
       "      <td>0</td>\n",
       "      <td>0</td>\n",
       "      <td>0</td>\n",
       "      <td>1</td>\n",
       "      <td>0</td>\n",
       "      <td>0</td>\n",
       "      <td>0</td>\n",
       "      <td>0</td>\n",
       "      <td>1</td>\n",
       "      <td>1</td>\n",
       "      <td>0</td>\n",
       "      <td>0</td>\n",
       "      <td>0</td>\n",
       "      <td>1</td>\n",
       "      <td>0</td>\n",
       "      <td>0</td>\n",
       "      <td>0</td>\n",
       "    </tr>\n",
       "  </tbody>\n",
       "</table>\n",
       "</div>"
      ],
      "text/plain": [
       "    type_of_sentence_1  type_of_sentence_?  ...  verb_tense_past  verb_tense_present\n",
       "1                    0                   0  ...                1                   0\n",
       "6                    1                   0  ...                1                   0\n",
       "19                   1                   0  ...                1                   0\n",
       "20                   1                   0  ...                1                   0\n",
       "35                   1                   0  ...                0                   0\n",
       "\n",
       "[5 rows x 53 columns]"
      ]
     },
     "execution_count": 15,
     "metadata": {
      "tags": []
     },
     "output_type": "execute_result"
    }
   ],
   "source": [
    "df = pd.get_dummies(df)\n",
    "\n",
    "X_train = df.iloc[:,1:-2]\n",
    "y_train = df.iloc[:,-2:]\n",
    "\n",
    "X_train.head()"
   ]
  },
  {
   "cell_type": "code",
   "execution_count": 16,
   "metadata": {
    "colab": {
     "base_uri": "https://localhost:8080/",
     "height": 197
    },
    "colab_type": "code",
    "id": "ZCoFLf-U9HHm",
    "outputId": "cba11965-2112-40c8-d985-b8dae10d54ff"
   },
   "outputs": [
    {
     "data": {
      "text/html": [
       "<div>\n",
       "<style scoped>\n",
       "    .dataframe tbody tr th:only-of-type {\n",
       "        vertical-align: middle;\n",
       "    }\n",
       "\n",
       "    .dataframe tbody tr th {\n",
       "        vertical-align: top;\n",
       "    }\n",
       "\n",
       "    .dataframe thead th {\n",
       "        text-align: right;\n",
       "    }\n",
       "</style>\n",
       "<table border=\"1\" class=\"dataframe\">\n",
       "  <thead>\n",
       "    <tr style=\"text-align: right;\">\n",
       "      <th></th>\n",
       "      <th>presupposition_no</th>\n",
       "      <th>presupposition_yes</th>\n",
       "    </tr>\n",
       "  </thead>\n",
       "  <tbody>\n",
       "    <tr>\n",
       "      <th>1</th>\n",
       "      <td>1</td>\n",
       "      <td>0</td>\n",
       "    </tr>\n",
       "    <tr>\n",
       "      <th>6</th>\n",
       "      <td>0</td>\n",
       "      <td>1</td>\n",
       "    </tr>\n",
       "    <tr>\n",
       "      <th>19</th>\n",
       "      <td>0</td>\n",
       "      <td>1</td>\n",
       "    </tr>\n",
       "    <tr>\n",
       "      <th>20</th>\n",
       "      <td>0</td>\n",
       "      <td>1</td>\n",
       "    </tr>\n",
       "    <tr>\n",
       "      <th>35</th>\n",
       "      <td>0</td>\n",
       "      <td>1</td>\n",
       "    </tr>\n",
       "  </tbody>\n",
       "</table>\n",
       "</div>"
      ],
      "text/plain": [
       "    presupposition_no  presupposition_yes\n",
       "1                   1                   0\n",
       "6                   0                   1\n",
       "19                  0                   1\n",
       "20                  0                   1\n",
       "35                  0                   1"
      ]
     },
     "execution_count": 16,
     "metadata": {
      "tags": []
     },
     "output_type": "execute_result"
    }
   ],
   "source": [
    "y_train.head()"
   ]
  },
  {
   "cell_type": "markdown",
   "metadata": {
    "colab_type": "text",
    "id": "9Xi8QfyAkbiN"
   },
   "source": [
    "***\n",
    "# Keras model building"
   ]
  },
  {
   "cell_type": "code",
   "execution_count": 0,
   "metadata": {
    "colab": {},
    "colab_type": "code",
    "id": "amhvtjnZQwhz"
   },
   "outputs": [],
   "source": [
    "import tensorflow as tf \n",
    "from tensorflow import keras\n",
    "from tensorflow.keras import layers\n",
    "from tensorflow.keras.layers import Dense"
   ]
  },
  {
   "cell_type": "code",
   "execution_count": 18,
   "metadata": {
    "colab": {
     "base_uri": "https://localhost:8080/",
     "height": 443
    },
    "colab_type": "code",
    "id": "YQA-dmJ5RL9y",
    "outputId": "6334c104-153c-47d8-a73c-bf8245ba40bd"
   },
   "outputs": [
    {
     "name": "stdout",
     "output_type": "stream",
     "text": [
      "Model input size 53\n",
      "Model: \"sequential\"\n",
      "_________________________________________________________________\n",
      "Layer (type)                 Output Shape              Param #   \n",
      "=================================================================\n",
      "dense (Dense)                (None, 250)               13500     \n",
      "_________________________________________________________________\n",
      "dense_1 (Dense)              (None, 500)               125500    \n",
      "_________________________________________________________________\n",
      "dense_2 (Dense)              (None, 1000)              501000    \n",
      "_________________________________________________________________\n",
      "dense_3 (Dense)              (None, 500)               500500    \n",
      "_________________________________________________________________\n",
      "dense_4 (Dense)              (None, 275)               137775    \n",
      "_________________________________________________________________\n",
      "dense_5 (Dense)              (None, 150)               41400     \n",
      "_________________________________________________________________\n",
      "dense_6 (Dense)              (None, 25)                3775      \n",
      "_________________________________________________________________\n",
      "dense_7 (Dense)              (None, 2)                 52        \n",
      "=================================================================\n",
      "Total params: 1,323,502\n",
      "Trainable params: 1,323,502\n",
      "Non-trainable params: 0\n",
      "_________________________________________________________________\n"
     ]
    }
   ],
   "source": [
    "model = tf.keras.Sequential()\n",
    "\n",
    "#get number of columns in training data\n",
    "n_cols = X_train.shape[1]\n",
    "print(\"Model input size {}\".format(n_cols))\n",
    "#add model layers\n",
    "model.add(Dense(250, activation=keras.layers.LeakyReLU(alpha=0.9), input_shape=(n_cols,)))\n",
    "model.add(Dense(500, activation='relu'))\n",
    "model.add(Dense(1000, activation=keras.layers.LeakyReLU(alpha=0.3)))\n",
    "model.add(Dense(500, activation='relu'))\n",
    "model.add(Dense(275, activation='selu'))\n",
    "model.add(Dense(150, activation=keras.layers.LeakyReLU(alpha=0.3)))\n",
    "model.add(Dense(25, activation=keras.layers.LeakyReLU(alpha=0.3)))\n",
    "model.add(Dense(2, activation='softmax'))\n",
    "\n",
    "optimizer = tf.keras.optimizers.Adam(learning_rate=0.0001)\n",
    "model.compile(optimizer = 'adam', loss=\"categorical_crossentropy\", metrics = ['accuracy'])\n",
    "model.summary()"
   ]
  },
  {
   "cell_type": "markdown",
   "metadata": {
    "colab_type": "text",
    "id": "xq3yIS2Kkh2r"
   },
   "source": [
    "## Training model on prepared data"
   ]
  },
  {
   "cell_type": "code",
   "execution_count": 19,
   "metadata": {
    "colab": {
     "base_uri": "https://localhost:8080/",
     "height": 1000
    },
    "colab_type": "code",
    "id": "1gnjHDM5dJb_",
    "outputId": "6ce2eb37-ab37-4a37-8ba7-15103f168bef"
   },
   "outputs": [
    {
     "name": "stdout",
     "output_type": "stream",
     "text": [
      "Epoch 1/30\n",
      "15/15 [==============================] - 1s 39ms/step - loss: 0.4853 - accuracy: 0.7538 - val_loss: 0.3389 - val_accuracy: 0.8497\n",
      "Epoch 2/30\n",
      "15/15 [==============================] - 0s 23ms/step - loss: 0.3175 - accuracy: 0.8627 - val_loss: 0.3521 - val_accuracy: 0.8725\n",
      "Epoch 3/30\n",
      "15/15 [==============================] - 0s 24ms/step - loss: 0.3562 - accuracy: 0.8540 - val_loss: 0.3627 - val_accuracy: 0.8497\n",
      "Epoch 4/30\n",
      "15/15 [==============================] - 0s 25ms/step - loss: 0.3131 - accuracy: 0.8693 - val_loss: 0.3915 - val_accuracy: 0.8758\n",
      "Epoch 5/30\n",
      "15/15 [==============================] - 0s 26ms/step - loss: 0.2702 - accuracy: 0.8911 - val_loss: 0.4222 - val_accuracy: 0.8431\n",
      "Epoch 6/30\n",
      "15/15 [==============================] - 0s 25ms/step - loss: 0.2454 - accuracy: 0.8932 - val_loss: 0.5913 - val_accuracy: 0.8366\n",
      "Epoch 7/30\n",
      "15/15 [==============================] - 0s 24ms/step - loss: 0.2229 - accuracy: 0.8824 - val_loss: 0.5218 - val_accuracy: 0.8301\n",
      "Epoch 8/30\n",
      "15/15 [==============================] - 0s 25ms/step - loss: 0.2212 - accuracy: 0.9085 - val_loss: 0.5955 - val_accuracy: 0.8301\n",
      "Epoch 9/30\n",
      "15/15 [==============================] - 0s 29ms/step - loss: 0.1970 - accuracy: 0.8998 - val_loss: 0.5486 - val_accuracy: 0.8464\n",
      "Epoch 10/30\n",
      "15/15 [==============================] - 0s 28ms/step - loss: 0.2111 - accuracy: 0.9020 - val_loss: 0.5969 - val_accuracy: 0.8268\n",
      "Epoch 11/30\n",
      "15/15 [==============================] - 0s 27ms/step - loss: 0.1889 - accuracy: 0.9107 - val_loss: 0.7453 - val_accuracy: 0.8333\n",
      "Epoch 12/30\n",
      "15/15 [==============================] - 0s 26ms/step - loss: 0.2035 - accuracy: 0.9129 - val_loss: 0.6942 - val_accuracy: 0.8333\n",
      "Epoch 13/30\n",
      "15/15 [==============================] - 0s 24ms/step - loss: 0.1925 - accuracy: 0.9129 - val_loss: 0.6096 - val_accuracy: 0.8301\n",
      "Epoch 14/30\n",
      "15/15 [==============================] - 0s 25ms/step - loss: 0.1915 - accuracy: 0.9085 - val_loss: 0.8126 - val_accuracy: 0.8268\n",
      "Epoch 15/30\n",
      "15/15 [==============================] - 0s 26ms/step - loss: 0.2214 - accuracy: 0.9063 - val_loss: 0.7266 - val_accuracy: 0.8268\n",
      "Epoch 16/30\n",
      "15/15 [==============================] - 0s 27ms/step - loss: 0.2013 - accuracy: 0.8998 - val_loss: 0.7308 - val_accuracy: 0.8333\n",
      "Epoch 17/30\n",
      "15/15 [==============================] - 0s 28ms/step - loss: 0.1826 - accuracy: 0.9129 - val_loss: 0.7983 - val_accuracy: 0.8366\n",
      "Epoch 18/30\n",
      "15/15 [==============================] - 0s 30ms/step - loss: 0.1754 - accuracy: 0.9107 - val_loss: 0.8584 - val_accuracy: 0.8301\n",
      "Epoch 19/30\n",
      "15/15 [==============================] - 0s 29ms/step - loss: 0.1803 - accuracy: 0.9172 - val_loss: 1.0086 - val_accuracy: 0.8235\n",
      "Epoch 20/30\n",
      "15/15 [==============================] - 0s 28ms/step - loss: 0.1768 - accuracy: 0.9172 - val_loss: 0.9956 - val_accuracy: 0.8301\n",
      "Epoch 21/30\n",
      "15/15 [==============================] - 0s 27ms/step - loss: 0.1863 - accuracy: 0.9172 - val_loss: 0.9166 - val_accuracy: 0.8301\n",
      "Epoch 22/30\n",
      "15/15 [==============================] - 0s 32ms/step - loss: 0.1653 - accuracy: 0.9150 - val_loss: 0.9017 - val_accuracy: 0.8301\n",
      "Epoch 23/30\n",
      "15/15 [==============================] - 0s 29ms/step - loss: 0.1785 - accuracy: 0.9172 - val_loss: 0.9942 - val_accuracy: 0.8301\n",
      "Epoch 24/30\n",
      "15/15 [==============================] - 0s 30ms/step - loss: 0.1734 - accuracy: 0.9129 - val_loss: 1.0644 - val_accuracy: 0.8268\n",
      "Epoch 25/30\n",
      "15/15 [==============================] - 0s 29ms/step - loss: 0.1677 - accuracy: 0.9172 - val_loss: 1.0554 - val_accuracy: 0.8301\n",
      "Epoch 26/30\n",
      "15/15 [==============================] - 0s 25ms/step - loss: 0.1785 - accuracy: 0.9194 - val_loss: 1.0474 - val_accuracy: 0.8268\n",
      "Epoch 27/30\n",
      "15/15 [==============================] - 0s 29ms/step - loss: 0.1740 - accuracy: 0.9172 - val_loss: 1.1036 - val_accuracy: 0.8301\n",
      "Epoch 28/30\n",
      "15/15 [==============================] - 0s 28ms/step - loss: 0.1731 - accuracy: 0.9150 - val_loss: 1.0311 - val_accuracy: 0.8268\n",
      "Epoch 29/30\n",
      "15/15 [==============================] - 0s 25ms/step - loss: 0.1635 - accuracy: 0.9150 - val_loss: 0.9943 - val_accuracy: 0.8301\n",
      "Epoch 30/30\n",
      "15/15 [==============================] - 0s 26ms/step - loss: 0.1681 - accuracy: 0.9150 - val_loss: 1.1444 - val_accuracy: 0.8301\n"
     ]
    }
   ],
   "source": [
    "#train model\n",
    "history = model.fit(X_train, y_train, validation_split=0.4, epochs=30)"
   ]
  },
  {
   "cell_type": "markdown",
   "metadata": {
    "colab_type": "text",
    "id": "YQDKmJQ_kmdh"
   },
   "source": [
    "## plot with train and test accuracy"
   ]
  },
  {
   "cell_type": "code",
   "execution_count": 20,
   "metadata": {
    "colab": {
     "base_uri": "https://localhost:8080/",
     "height": 295
    },
    "colab_type": "code",
    "id": "mi0f_JObgC4C",
    "outputId": "12c6e756-db0a-45e5-f5aa-3a6a9cf38307"
   },
   "outputs": [
    {
     "data": {
      "image/png": "[encoded data removed]",
      "text/plain": [
       "<Figure size 432x288 with 1 Axes>"
      ]
     },
     "metadata": {
      "needs_background": "light",
      "tags": []
     },
     "output_type": "display_data"
    }
   ],
   "source": [
    "import matplotlib.pyplot as plt\n",
    "plt.plot(history.history['accuracy'])\n",
    "plt.plot(history.history['val_accuracy'])\n",
    "plt.title('model accuracy')\n",
    "plt.ylabel('accuracy')\n",
    "plt.xlabel('epoch')\n",
    "plt.ylim(0,1)\n",
    "plt.legend(['train', 'test'], loc='upper left')\n",
    "plt.show()"
   ]
  },
  {
   "cell_type": "markdown",
   "metadata": {
    "colab_type": "text",
    "id": "RwVgSUc6uC6Y"
   },
   "source": [
    "### Save model \n"
   ]
  },
  {
   "cell_type": "code",
   "execution_count": 0,
   "metadata": {
    "colab": {},
    "colab_type": "code",
    "id": "Z2XZ1N0JuIop"
   },
   "outputs": [],
   "source": [
    "model.save('featureModelPlPresup.h5')"
   ]
  }
 ],
 "metadata": {
  "colab": {
   "collapsed_sections": [],
   "name": "SecondModelPlPressuposition.ipynb",
   "provenance": [],
   "toc_visible": true
  },
  "kernelspec": {
   "display_name": "Python 3",
   "language": "python",
   "name": "python3"
  },
  "language_info": {
   "codemirror_mode": {
    "name": "ipython",
    "version": 3
   },
   "file_extension": ".py",
   "mimetype": "text/x-python",
   "name": "python",
   "nbconvert_exporter": "python",
   "pygments_lexer": "ipython3",
   "version": "3.7.6"
  }
 },
 "nbformat": 4,
 "nbformat_minor": 1
}
