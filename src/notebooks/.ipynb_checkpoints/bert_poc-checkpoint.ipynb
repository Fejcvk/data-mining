{
 "cells": [
  {
   "cell_type": "markdown",
   "metadata": {
    "colab_type": "text",
    "id": "LS8rpwLvQJjN"
   },
   "source": [
    "# Preprocessing\n",
    "\n",
    "For now we need just pandas for parsing dataset and transformers for BERT"
   ]
  },
  {
   "cell_type": "code",
   "execution_count": 102,
   "metadata": {
    "colab": {
     "base_uri": "https://localhost:8080/",
     "height": 408
    },
    "colab_type": "code",
    "id": "lAuMoWx0QJjO",
    "outputId": "4da6028c-26bd-4b40-fd8e-d716eed3050e"
   },
   "outputs": [
    {
     "name": "stdout",
     "output_type": "stream",
     "text": [
      "Requirement already satisfied: transformers in /usr/local/lib/python3.6/dist-packages (2.8.0)\n",
      "Requirement already satisfied: boto3 in /usr/local/lib/python3.6/dist-packages (from transformers) (1.12.40)\n",
      "Requirement already satisfied: dataclasses; python_version < \"3.7\" in /usr/local/lib/python3.6/dist-packages (from transformers) (0.7)\n",
      "Requirement already satisfied: tokenizers==0.5.2 in /usr/local/lib/python3.6/dist-packages (from transformers) (0.5.2)\n",
      "Requirement already satisfied: numpy in /usr/local/lib/python3.6/dist-packages (from transformers) (1.18.2)\n",
      "Requirement already satisfied: sentencepiece in /usr/local/lib/python3.6/dist-packages (from transformers) (0.1.85)\n",
      "Requirement already satisfied: tqdm>=4.27 in /usr/local/lib/python3.6/dist-packages (from transformers) (4.38.0)\n",
      "Requirement already satisfied: filelock in /usr/local/lib/python3.6/dist-packages (from transformers) (3.0.12)\n",
      "Requirement already satisfied: sacremoses in /usr/local/lib/python3.6/dist-packages (from transformers) (0.0.41)\n",
      "Requirement already satisfied: regex!=2019.12.17 in /usr/local/lib/python3.6/dist-packages (from transformers) (2019.12.20)\n",
      "Requirement already satisfied: requests in /usr/local/lib/python3.6/dist-packages (from transformers) (2.21.0)\n",
      "Requirement already satisfied: jmespath<1.0.0,>=0.7.1 in /usr/local/lib/python3.6/dist-packages (from boto3->transformers) (0.9.5)\n",
      "Requirement already satisfied: s3transfer<0.4.0,>=0.3.0 in /usr/local/lib/python3.6/dist-packages (from boto3->transformers) (0.3.3)\n",
      "Requirement already satisfied: botocore<1.16.0,>=1.15.40 in /usr/local/lib/python3.6/dist-packages (from boto3->transformers) (1.15.40)\n",
      "Requirement already satisfied: click in /usr/local/lib/python3.6/dist-packages (from sacremoses->transformers) (7.1.1)\n",
      "Requirement already satisfied: six in /usr/local/lib/python3.6/dist-packages (from sacremoses->transformers) (1.12.0)\n",
      "Requirement already satisfied: joblib in /usr/local/lib/python3.6/dist-packages (from sacremoses->transformers) (0.14.1)\n",
      "Requirement already satisfied: idna<2.9,>=2.5 in /usr/local/lib/python3.6/dist-packages (from requests->transformers) (2.8)\n",
      "Requirement already satisfied: urllib3<1.25,>=1.21.1 in /usr/local/lib/python3.6/dist-packages (from requests->transformers) (1.24.3)\n",
      "Requirement already satisfied: certifi>=2017.4.17 in /usr/local/lib/python3.6/dist-packages (from requests->transformers) (2020.4.5.1)\n",
      "Requirement already satisfied: chardet<3.1.0,>=3.0.2 in /usr/local/lib/python3.6/dist-packages (from requests->transformers) (3.0.4)\n",
      "Requirement already satisfied: python-dateutil<3.0.0,>=2.1 in /usr/local/lib/python3.6/dist-packages (from botocore<1.16.0,>=1.15.40->boto3->transformers) (2.8.1)\n",
      "Requirement already satisfied: docutils<0.16,>=0.10 in /usr/local/lib/python3.6/dist-packages (from botocore<1.16.0,>=1.15.40->boto3->transformers) (0.15.2)\n"
     ]
    }
   ],
   "source": [
    "# !conda update nbformat -y #AWS related package\n",
    "!pip install transformers\n",
    "import pandas as pd\n",
    "from transformers import *\n",
    "import numpy as np\n",
    "import torch\n",
    "%matplotlib inline\n",
    "import matplotlib\n",
    "import matplotlib.pyplot as plt\n"
   ]
  },
  {
   "cell_type": "markdown",
   "metadata": {
    "colab_type": "text",
    "id": "s0lj_syhQJjU"
   },
   "source": [
    "Read excel file, skip headers and 1st row with column nasmes\n",
    "\n",
    "PS : Small hack with deleting biggest files from dataset. Gonna be fixed after obtaining bigger resources"
   ]
  },
  {
   "cell_type": "code",
   "execution_count": 0,
   "metadata": {
    "colab": {},
    "colab_type": "code",
    "id": "vtWjVFAHQJjU",
    "scrolled": true
   },
   "outputs": [],
   "source": [
    "df= pd.read_excel('dataset.xlsx', header=None, skiprows=1)\n",
    "pdf = pd.read_excel('dataset.xlsx', header=None, skiprows=1)\n",
    "pdf.drop(pdf[pdf[23] == 'nie dotyczy'].index, inplace=True)\n",
    "pdf = pdf.reset_index()"
   ]
  },
  {
   "cell_type": "markdown",
   "metadata": {
    "colab_type": "text",
    "id": "7N8cby-nQJjY"
   },
   "source": [
    "For our smaller version of dataset just take two features that we are interested in, namely T PL and GOLD<T,H>"
   ]
  },
  {
   "cell_type": "code",
   "execution_count": 0,
   "metadata": {
    "colab": {},
    "colab_type": "code",
    "id": "Ojgr5FaqQJjZ"
   },
   "outputs": [],
   "source": [
    "dataset = df[[4, 5]]"
   ]
  },
  {
   "cell_type": "markdown",
   "metadata": {
    "colab_type": "text",
    "id": "5-paPmaHufst"
   },
   "source": [
    "Dataset which includes presupposition"
   ]
  },
  {
   "cell_type": "code",
   "execution_count": 105,
   "metadata": {
    "colab": {
     "base_uri": "https://localhost:8080/",
     "height": 255
    },
    "colab_type": "code",
    "id": "jKAtjo9xttCo",
    "outputId": "0db189f2-2806-4061-9833-086f6b1e9864"
   },
   "outputs": [
    {
     "data": {
      "text/plain": [
       "<bound method NDFrame.head of                                                     4  5    23\n",
       "0           Ani że na progu stanął właśnie Romanyczko.  ?   no\n",
       "1    Zresztą, w celi wcale nie czuło się, że jest maj.  E  yes\n",
       "2         Czuł, że maszynistka nie spuszczają zeń oczu  E  yes\n",
       "3    Trochę po północy ksiądz Suryn obudził się gwa...  E  yes\n",
       "4    Biorąc pod uwagę, że grunty pod park nie są je...  E  yes\n",
       "..                                                 ... ..  ...\n",
       "760  Patrząc na fundamenty podtopionych budynków pa...  E  yes\n",
       "761  Widać było, że nie ustoi, że jak badyl złamany...  E  yes\n",
       "762  Widać było, że nie ustoi, że jak badyl złamany...  E  yes\n",
       "763            Widać, że jest już na ostatnich nogach.  E  yes\n",
       "764  Tu będą mogli zobaczyć, że Państwo Izrael ma k...  E  yes\n",
       "\n",
       "[765 rows x 3 columns]>"
      ]
     },
     "execution_count": 105,
     "metadata": {
      "tags": []
     },
     "output_type": "execute_result"
    }
   ],
   "source": [
    "presup_dataset = pdf[[4,5,23]]\n",
    "presup_dataset.head"
   ]
  },
  {
   "cell_type": "code",
   "execution_count": 106,
   "metadata": {
    "colab": {
     "base_uri": "https://localhost:8080/",
     "height": 255
    },
    "colab_type": "code",
    "id": "77iv84InQJjc",
    "outputId": "15fbb0b1-8b62-4ce8-96ab-b7747792fea3"
   },
   "outputs": [
    {
     "data": {
      "text/plain": [
       "<bound method NDFrame.head of                                                       4  5\n",
       "0     Ja na to, że mam klasówkę, że zawalę biologię ...  N\n",
       "1            Ani że na progu stanął właśnie Romanyczko.  ?\n",
       "2                  Potem, że się przywiezie Chińczyków.  N\n",
       "3     Słabł coraz bardziej, czuł, że to kwestia zale...  N\n",
       "4     Jednak ludzie bardzo ciężko chorzy, gdy już cz...  N\n",
       "...                                                 ... ..\n",
       "2591  Udało się ustalić, że obie dziewczynki mogą pr...  N\n",
       "2592  Ustalono, że łączą go z niektórymi członkami g...  N\n",
       "2593  Tu będą mogli zobaczyć, że Państwo Izrael ma k...  E\n",
       "2594  Oczywiście, że można kochać, jeśli zobaczy się...  N\n",
       "2595  Oczywiście, że można kochać, jeśli zobaczy się...  N\n",
       "\n",
       "[2596 rows x 2 columns]>"
      ]
     },
     "execution_count": 106,
     "metadata": {
      "tags": []
     },
     "output_type": "execute_result"
    }
   ],
   "source": [
    "dataset.head"
   ]
  },
  {
   "cell_type": "markdown",
   "metadata": {
    "colab_type": "text",
    "id": "Jm5HWQwo9Lqx"
   },
   "source": [
    "Graphical representation of dataset"
   ]
  },
  {
   "cell_type": "code",
   "execution_count": 107,
   "metadata": {
    "colab": {
     "base_uri": "https://localhost:8080/",
     "height": 265
    },
    "colab_type": "code",
    "id": "OlFWZva89AhI",
    "outputId": "8cdfc9f7-d6aa-41d9-bb47-dea11dda6b33"
   },
   "outputs": [
    {
     "data": {
      "text/plain": [
       "<matplotlib.axes._subplots.AxesSubplot at 0x7fb3271b9710>"
      ]
     },
     "execution_count": 107,
     "metadata": {
      "tags": []
     },
     "output_type": "execute_result"
    },
    {
     "data": {
      "image/png": "[encoded data removed]",
      "text/plain": [
       "<Figure size 432x288 with 1 Axes>"
      ]
     },
     "metadata": {
      "tags": []
     },
     "output_type": "display_data"
    }
   ],
   "source": [
    "dataset[5].value_counts().plot(kind='pie', autopct='%1.0f%%')"
   ]
  },
  {
   "cell_type": "code",
   "execution_count": 108,
   "metadata": {
    "colab": {
     "base_uri": "https://localhost:8080/",
     "height": 265
    },
    "colab_type": "code",
    "id": "htwj9TEQvvhR",
    "outputId": "b7c35a5d-b342-4b94-9d0a-97be82ea43ec"
   },
   "outputs": [
    {
     "data": {
      "text/plain": [
       "<matplotlib.axes._subplots.AxesSubplot at 0x7fb326c3ab70>"
      ]
     },
     "execution_count": 108,
     "metadata": {
      "tags": []
     },
     "output_type": "execute_result"
    },
    {
     "data": {
      "image/png": "[encoded data removed]",
      "text/plain": [
       "<Figure size 432x288 with 1 Axes>"
      ]
     },
     "metadata": {
      "tags": []
     },
     "output_type": "display_data"
    }
   ],
   "source": [
    "presup_dataset[23].value_counts().plot(kind='pie', autopct='%1.0f%%')"
   ]
  },
  {
   "cell_type": "markdown",
   "metadata": {
    "colab_type": "text",
    "id": "lm3X0MrYQJjf"
   },
   "source": [
    "Change labels of ECN for numeric values"
   ]
  },
  {
   "cell_type": "code",
   "execution_count": 0,
   "metadata": {
    "colab": {},
    "colab_type": "code",
    "id": "hUBnlvgIQJjg"
   },
   "outputs": [],
   "source": [
    "labels = {'E':0,'C':1,'N':2,'?':3}\n",
    "\n",
    "for idx, row in dataset.iterrows():\n",
    "    row[5] = labels[row[5]]"
   ]
  },
  {
   "cell_type": "code",
   "execution_count": 110,
   "metadata": {
    "colab": {
     "base_uri": "https://localhost:8080/",
     "height": 419
    },
    "colab_type": "code",
    "id": "jDFnAzgCQJjj",
    "outputId": "eb68341a-c68b-48f6-b9b5-ecc9241a77ea"
   },
   "outputs": [
    {
     "data": {
      "text/html": [
       "<div>\n",
       "<style scoped>\n",
       "    .dataframe tbody tr th:only-of-type {\n",
       "        vertical-align: middle;\n",
       "    }\n",
       "\n",
       "    .dataframe tbody tr th {\n",
       "        vertical-align: top;\n",
       "    }\n",
       "\n",
       "    .dataframe thead th {\n",
       "        text-align: right;\n",
       "    }\n",
       "</style>\n",
       "<table border=\"1\" class=\"dataframe\">\n",
       "  <thead>\n",
       "    <tr style=\"text-align: right;\">\n",
       "      <th></th>\n",
       "      <th>4</th>\n",
       "      <th>5</th>\n",
       "    </tr>\n",
       "  </thead>\n",
       "  <tbody>\n",
       "    <tr>\n",
       "      <th>0</th>\n",
       "      <td>Ja na to, że mam klasówkę, że zawalę biologię ...</td>\n",
       "      <td>2</td>\n",
       "    </tr>\n",
       "    <tr>\n",
       "      <th>1</th>\n",
       "      <td>Ani że na progu stanął właśnie Romanyczko.</td>\n",
       "      <td>3</td>\n",
       "    </tr>\n",
       "    <tr>\n",
       "      <th>2</th>\n",
       "      <td>Potem, że się przywiezie Chińczyków.</td>\n",
       "      <td>2</td>\n",
       "    </tr>\n",
       "    <tr>\n",
       "      <th>3</th>\n",
       "      <td>Słabł coraz bardziej, czuł, że to kwestia zale...</td>\n",
       "      <td>2</td>\n",
       "    </tr>\n",
       "    <tr>\n",
       "      <th>4</th>\n",
       "      <td>Jednak ludzie bardzo ciężko chorzy, gdy już cz...</td>\n",
       "      <td>2</td>\n",
       "    </tr>\n",
       "    <tr>\n",
       "      <th>...</th>\n",
       "      <td>...</td>\n",
       "      <td>...</td>\n",
       "    </tr>\n",
       "    <tr>\n",
       "      <th>2591</th>\n",
       "      <td>Udało się ustalić, że obie dziewczynki mogą pr...</td>\n",
       "      <td>2</td>\n",
       "    </tr>\n",
       "    <tr>\n",
       "      <th>2592</th>\n",
       "      <td>Ustalono, że łączą go z niektórymi członkami g...</td>\n",
       "      <td>2</td>\n",
       "    </tr>\n",
       "    <tr>\n",
       "      <th>2593</th>\n",
       "      <td>Tu będą mogli zobaczyć, że Państwo Izrael ma k...</td>\n",
       "      <td>0</td>\n",
       "    </tr>\n",
       "    <tr>\n",
       "      <th>2594</th>\n",
       "      <td>Oczywiście, że można kochać, jeśli zobaczy się...</td>\n",
       "      <td>2</td>\n",
       "    </tr>\n",
       "    <tr>\n",
       "      <th>2595</th>\n",
       "      <td>Oczywiście, że można kochać, jeśli zobaczy się...</td>\n",
       "      <td>2</td>\n",
       "    </tr>\n",
       "  </tbody>\n",
       "</table>\n",
       "<p>2596 rows × 2 columns</p>\n",
       "</div>"
      ],
      "text/plain": [
       "                                                      4  5\n",
       "0     Ja na to, że mam klasówkę, że zawalę biologię ...  2\n",
       "1            Ani że na progu stanął właśnie Romanyczko.  3\n",
       "2                  Potem, że się przywiezie Chińczyków.  2\n",
       "3     Słabł coraz bardziej, czuł, że to kwestia zale...  2\n",
       "4     Jednak ludzie bardzo ciężko chorzy, gdy już cz...  2\n",
       "...                                                 ... ..\n",
       "2591  Udało się ustalić, że obie dziewczynki mogą pr...  2\n",
       "2592  Ustalono, że łączą go z niektórymi członkami g...  2\n",
       "2593  Tu będą mogli zobaczyć, że Państwo Izrael ma k...  0\n",
       "2594  Oczywiście, że można kochać, jeśli zobaczy się...  2\n",
       "2595  Oczywiście, że można kochać, jeśli zobaczy się...  2\n",
       "\n",
       "[2596 rows x 2 columns]"
      ]
     },
     "execution_count": 110,
     "metadata": {
      "tags": []
     },
     "output_type": "execute_result"
    }
   ],
   "source": [
    "dataset"
   ]
  },
  {
   "cell_type": "code",
   "execution_count": 111,
   "metadata": {
    "colab": {
     "base_uri": "https://localhost:8080/",
     "height": 419
    },
    "colab_type": "code",
    "id": "AgOx1RUSwJNX",
    "outputId": "dff0fc78-9798-4d97-aa31-49bc21967030"
   },
   "outputs": [
    {
     "data": {
      "text/html": [
       "<div>\n",
       "<style scoped>\n",
       "    .dataframe tbody tr th:only-of-type {\n",
       "        vertical-align: middle;\n",
       "    }\n",
       "\n",
       "    .dataframe tbody tr th {\n",
       "        vertical-align: top;\n",
       "    }\n",
       "\n",
       "    .dataframe thead th {\n",
       "        text-align: right;\n",
       "    }\n",
       "</style>\n",
       "<table border=\"1\" class=\"dataframe\">\n",
       "  <thead>\n",
       "    <tr style=\"text-align: right;\">\n",
       "      <th></th>\n",
       "      <th>4</th>\n",
       "      <th>5</th>\n",
       "      <th>23</th>\n",
       "    </tr>\n",
       "  </thead>\n",
       "  <tbody>\n",
       "    <tr>\n",
       "      <th>0</th>\n",
       "      <td>Ani że na progu stanął właśnie Romanyczko.</td>\n",
       "      <td>3</td>\n",
       "      <td>0</td>\n",
       "    </tr>\n",
       "    <tr>\n",
       "      <th>1</th>\n",
       "      <td>Zresztą, w celi wcale nie czuło się, że jest maj.</td>\n",
       "      <td>0</td>\n",
       "      <td>1</td>\n",
       "    </tr>\n",
       "    <tr>\n",
       "      <th>2</th>\n",
       "      <td>Czuł, że maszynistka nie spuszczają zeń oczu</td>\n",
       "      <td>0</td>\n",
       "      <td>1</td>\n",
       "    </tr>\n",
       "    <tr>\n",
       "      <th>3</th>\n",
       "      <td>Trochę po północy ksiądz Suryn obudził się gwa...</td>\n",
       "      <td>0</td>\n",
       "      <td>1</td>\n",
       "    </tr>\n",
       "    <tr>\n",
       "      <th>4</th>\n",
       "      <td>Biorąc pod uwagę, że grunty pod park nie są je...</td>\n",
       "      <td>0</td>\n",
       "      <td>1</td>\n",
       "    </tr>\n",
       "    <tr>\n",
       "      <th>...</th>\n",
       "      <td>...</td>\n",
       "      <td>...</td>\n",
       "      <td>...</td>\n",
       "    </tr>\n",
       "    <tr>\n",
       "      <th>760</th>\n",
       "      <td>Patrząc na fundamenty podtopionych budynków pa...</td>\n",
       "      <td>0</td>\n",
       "      <td>1</td>\n",
       "    </tr>\n",
       "    <tr>\n",
       "      <th>761</th>\n",
       "      <td>Widać było, że nie ustoi, że jak badyl złamany...</td>\n",
       "      <td>0</td>\n",
       "      <td>1</td>\n",
       "    </tr>\n",
       "    <tr>\n",
       "      <th>762</th>\n",
       "      <td>Widać było, że nie ustoi, że jak badyl złamany...</td>\n",
       "      <td>0</td>\n",
       "      <td>1</td>\n",
       "    </tr>\n",
       "    <tr>\n",
       "      <th>763</th>\n",
       "      <td>Widać, że jest już na ostatnich nogach.</td>\n",
       "      <td>0</td>\n",
       "      <td>1</td>\n",
       "    </tr>\n",
       "    <tr>\n",
       "      <th>764</th>\n",
       "      <td>Tu będą mogli zobaczyć, że Państwo Izrael ma k...</td>\n",
       "      <td>0</td>\n",
       "      <td>1</td>\n",
       "    </tr>\n",
       "  </tbody>\n",
       "</table>\n",
       "<p>765 rows × 3 columns</p>\n",
       "</div>"
      ],
      "text/plain": [
       "                                                    4  5  23\n",
       "0           Ani że na progu stanął właśnie Romanyczko.  3  0\n",
       "1    Zresztą, w celi wcale nie czuło się, że jest maj.  0  1\n",
       "2         Czuł, że maszynistka nie spuszczają zeń oczu  0  1\n",
       "3    Trochę po północy ksiądz Suryn obudził się gwa...  0  1\n",
       "4    Biorąc pod uwagę, że grunty pod park nie są je...  0  1\n",
       "..                                                 ... .. ..\n",
       "760  Patrząc na fundamenty podtopionych budynków pa...  0  1\n",
       "761  Widać było, że nie ustoi, że jak badyl złamany...  0  1\n",
       "762  Widać było, że nie ustoi, że jak badyl złamany...  0  1\n",
       "763            Widać, że jest już na ostatnich nogach.  0  1\n",
       "764  Tu będą mogli zobaczyć, że Państwo Izrael ma k...  0  1\n",
       "\n",
       "[765 rows x 3 columns]"
      ]
     },
     "execution_count": 111,
     "metadata": {
      "tags": []
     },
     "output_type": "execute_result"
    }
   ],
   "source": [
    "presup_labels = {'yes':1, 'no':0}\n",
    "for idx,row in presup_dataset.iterrows():\n",
    "  row[23] = presup_labels[row[23]]\n",
    "  row[5] = labels[row[5]]\n",
    "presup_dataset"
   ]
  },
  {
   "cell_type": "code",
   "execution_count": 112,
   "metadata": {
    "colab": {
     "base_uri": "https://localhost:8080/",
     "height": 34
    },
    "colab_type": "code",
    "id": "Mj_Fsx6RQJjp",
    "outputId": "bcc4e4a2-85f9-4c50-f263-5708c15deb4b"
   },
   "outputs": [
    {
     "name": "stdout",
     "output_type": "stream",
     "text": [
      "360\n"
     ]
    }
   ],
   "source": [
    "max_len = 0\n",
    "m_idx = 0\n",
    "for idx,row in dataset.iterrows():\n",
    "    l = len(row[4])\n",
    "    if l > max_len:\n",
    "        max_len = l\n",
    "        m_idx = idx\n",
    "print(m_idx)"
   ]
  },
  {
   "cell_type": "code",
   "execution_count": 113,
   "metadata": {
    "colab": {
     "base_uri": "https://localhost:8080/",
     "height": 54
    },
    "colab_type": "code",
    "id": "DMGWi_5oQJjr",
    "outputId": "7d6d26fa-2951-46e7-d6f5-b827da3dff45"
   },
   "outputs": [
    {
     "name": "stdout",
     "output_type": "stream",
     "text": [
      "Ci z koalicji rządzącej, ci posłowie, którzy w trakcie posiedzenia sejmowej Komisji Polityki Gospodarczej, Budżetu i Finansów z uporem, myślę, godnym lepszej sprawy, bronili faktu, aby rząd łącznie z budżetem - zapowiadam, łącznie z budżetem, bo mamy świadomość, że nie było i nie ma czasu na to, żeby wcześniej rozpatrywać założenia, a potem przedkładać budżet - przedłożył założenia polityki społeczno-gospodarczej, jako dokumentu ujmującego tę politykę w dłuższym czasie, posłowie, którzy nie dopuścili do takiego rozstrzygnięcia - przypominam, tylko jednym głosem - źle służą również rządowi.\n"
     ]
    }
   ],
   "source": [
    "print(dataset[4][m_idx])"
   ]
  },
  {
   "cell_type": "code",
   "execution_count": 114,
   "metadata": {
    "colab": {
     "base_uri": "https://localhost:8080/",
     "height": 102
    },
    "colab_type": "code",
    "id": "jnyxW57oQJju",
    "outputId": "ff188bd7-8738-4d9c-e4f7-e1cf827d2ac5"
   },
   "outputs": [
    {
     "name": "stdout",
     "output_type": "stream",
     "text": [
      "Requirement already satisfied: sklearn in /usr/local/lib/python3.6/dist-packages (0.0)\n",
      "Requirement already satisfied: scikit-learn in /usr/local/lib/python3.6/dist-packages (from sklearn) (0.22.2.post1)\n",
      "Requirement already satisfied: joblib>=0.11 in /usr/local/lib/python3.6/dist-packages (from scikit-learn->sklearn) (0.14.1)\n",
      "Requirement already satisfied: numpy>=1.11.0 in /usr/local/lib/python3.6/dist-packages (from scikit-learn->sklearn) (1.18.2)\n",
      "Requirement already satisfied: scipy>=0.17.0 in /usr/local/lib/python3.6/dist-packages (from scikit-learn->sklearn) (1.4.1)\n"
     ]
    }
   ],
   "source": [
    "!pip install sklearn\n",
    "from sklearn.model_selection import train_test_split"
   ]
  },
  {
   "cell_type": "markdown",
   "metadata": {
    "colab_type": "text",
    "id": "gWyQKEhGQJjx"
   },
   "source": [
    "# Polbert\n",
    "\n",
    "Here we import pretrained version of Bert for Polish language"
   ]
  },
  {
   "cell_type": "code",
   "execution_count": 0,
   "metadata": {
    "colab": {},
    "colab_type": "code",
    "id": "m0MH6jDKQJjx"
   },
   "outputs": [],
   "source": [
    "model_class, tokenizer_class, pretrained_weights = (BertModel, BertTokenizer, \"dkleczek/bert-base-polish-uncased-v1\")\n",
    "\n",
    "model = model_class.from_pretrained(pretrained_weights)\n",
    "tokenizer = tokenizer_class.from_pretrained(pretrained_weights)"
   ]
  },
  {
   "cell_type": "markdown",
   "metadata": {
    "colab_type": "text",
    "id": "FTDjTaE9QJj1"
   },
   "source": [
    "## Tokenization\n",
    "\n",
    "Tokenize every sentence from our dataset"
   ]
  },
  {
   "cell_type": "code",
   "execution_count": 0,
   "metadata": {
    "colab": {},
    "colab_type": "code",
    "id": "ynst0zmtQJj2"
   },
   "outputs": [],
   "source": [
    "tokenized = dataset[4].apply((lambda x: tokenizer.encode(x, add_special_tokens=True)))\n",
    "presup_tokenized = presup_dataset[4].apply((lambda x: tokenizer.encode(x, add_special_tokens=True)))"
   ]
  },
  {
   "cell_type": "code",
   "execution_count": 117,
   "metadata": {
    "colab": {
     "base_uri": "https://localhost:8080/",
     "height": 173
    },
    "colab_type": "code",
    "id": "mZPS_Q89QJj5",
    "outputId": "48c07700-5125-4ed4-e65c-f41f89ae5e2e"
   },
   "outputs": [
    {
     "data": {
      "text/plain": [
       "array([list([2, 2055, 1898, 1907, 16, 2095, 2040, 15701, 1889, 3118, 16, 2095, 32091, 1014, 12071, 1014, 51, 1893, 15887, 1012, 1906, 27508, 2165, 4785, 18, 4]),\n",
       "       list([2, 2937, 2095, 1898, 26468, 40126, 1019, 29480, 6977, 1013, 7150, 18, 4]),\n",
       "       list([2, 3006, 16, 2095, 2243, 11319, 2713, 11007, 8572, 1889, 18, 4]),\n",
       "       ...,\n",
       "       list([2, 2030, 40221, 4949, 38584, 16, 2095, 2013, 2803, 12250, 1994, 26825, 2437, 48721, 16, 2030, 14229, 2114, 2808, 21694, 40575, 4955, 52867, 9417, 16, 2030, 8822, 1948, 2243, 24391, 3117, 4955, 52867, 1014, 27972, 16, 2030, 48570, 41886, 2243, 51, 5245, 50930, 36755, 50719, 15956, 23652, 2054, 18, 4]),\n",
       "       list([2, 31040, 16, 2095, 29801, 6289, 1015, 16, 10865, 3403, 2243, 16, 2095, 2259, 16879, 1015, 1893, 40065, 1923, 2243, 68, 4109, 16, 2095, 2499, 3089, 1906, 3115, 3410, 18, 4]),\n",
       "       list([2, 31040, 16, 2095, 29801, 6289, 1015, 16, 10865, 3403, 2243, 16, 2095, 2259, 16879, 1015, 1893, 40065, 1923, 2243, 68, 4109, 16, 2095, 2499, 3089, 1906, 3115, 3410, 18, 4])],\n",
       "      dtype=object)"
      ]
     },
     "execution_count": 117,
     "metadata": {
      "tags": []
     },
     "output_type": "execute_result"
    }
   ],
   "source": [
    "tokenized.values"
   ]
  },
  {
   "cell_type": "code",
   "execution_count": 118,
   "metadata": {
    "colab": {
     "base_uri": "https://localhost:8080/",
     "height": 1000
    },
    "colab_type": "code",
    "id": "_uf8GwBixngn",
    "outputId": "58685369-9cc9-45ef-ee86-b86f4d7a6ccd"
   },
   "outputs": [
    {
     "data": {
      "text/plain": [
       "array([list([2, 2937, 2095, 1898, 26468, 40126, 1019, 29480, 6977, 1013, 7150, 18, 4]),\n",
       "       list([2, 4309, 29850, 16, 65, 11409, 4771, 1893, 11981, 1005, 2243, 16, 2095, 1919, 3623, 18, 4]),\n",
       "       list([2, 11981, 16, 2095, 9073, 6798, 1922, 1893, 52102, 1008, 26246, 9325, 4]),\n",
       "       list([2, 15556, 1896, 3949, 53023, 1013, 41502, 1899, 7970, 12191, 21635, 2243, 28984, 16, 1951, 1961, 35387, 15075, 1895, 16, 51, 3241, 22237, 16, 2095, 8182, 22566, 1892, 2243, 65, 2524, 5261, 16, 2095, 3869, 3430, 26716, 1013, 50590, 1013, 58461, 7518, 7295, 25607, 51, 2095, 1898, 14486, 1919, 34252, 3415, 16, 38053, 31135, 41262, 2203, 2243, 2114, 2840, 18, 4]),\n",
       "       list([2, 5412, 16609, 2011, 14997, 1014, 16, 2095, 45544, 2011, 5780, 1893, 3003, 2286, 10997, 25092, 16, 10367, 38185, 52421, 3234, 5533, 4471, 31435, 1927, 17, 15469, 12292, 35663, 23260, 1905, 8668, 18, 4]),\n",
       "       list([2, 5412, 16609, 2011, 14997, 1014, 16, 2095, 2150, 65, 39130, 16, 1907, 2216, 59377, 16, 2095, 2303, 1937, 13510, 2293, 2011, 21692, 2689, 18, 18, 18, 4]),\n",
       "       list([2, 1911, 1937, 2622, 8817, 5386, 50406, 2639, 2138, 2451, 16, 2007, 2599, 9437, 2345, 1015, 2011, 14997, 1014, 16, 2095, 2134, 3411, 16, 40604, 4339, 16, 37113, 2568, 16, 8346, 51, 1893, 2040, 9437, 3126, 6084, 1935, 14366, 18, 4]),\n",
       "       list([2, 31040, 16, 3003, 40462, 16, 34357, 1012, 2243, 23110, 51, 68, 34357, 1998, 5446, 2243, 37201, 1015, 16, 3063, 2827, 2345, 1015, 2011, 14997, 1014, 16, 2095, 2152, 57976, 2847, 2243, 4911, 51, 1907, 16, 1935, 14366, 11261, 2243, 15466, 1960, 16, 32994, 8090, 12026, 7257, 1927, 2376, 56907, 1019, 4]),\n",
       "       list([2, 1919, 12913, 16, 2095, 12656, 1994, 46896, 1898, 15190, 12694, 16, 9568, 3251, 25068, 2243, 1898, 30958, 16, 2227, 20134, 1898, 13048, 18, 4]),\n",
       "       list([2, 2198, 29653, 1907, 45737, 16, 3167, 14417, 16, 2095, 8589, 48237, 18, 4]),\n",
       "       list([2, 2141, 16, 9091, 16, 1950, 2243, 7318, 5676, 16, 2055, 16, 34357, 3167, 14417, 16, 2095, 2622, 5829, 14506, 2114, 17392, 1951, 29887, 18, 4]),\n",
       "       list([2, 6, 2228, 2451, 16, 2095, 2575, 32980, 1914, 16, 2007, 3167, 14417, 16, 2095, 2013, 1907, 3241, 2153, 5, 6, 18, 4]),\n",
       "       list([2, 2359, 20611, 5966, 1008, 2079, 16, 2095, 2210, 45015, 65, 2063, 23010, 1919, 5687, 35399, 51, 1898, 5089, 4080, 2051, 7947, 16609, 2071, 5394, 1889, 4958, 12026, 51501, 8967, 18, 4]),\n",
       "       list([2, 3715, 2280, 25881, 2349, 4967, 4822, 1927, 6623, 611, 51, 3895, 21280, 41465, 16, 2095, 1893, 2098, 3582, 14692, 1919, 14069, 2079, 16, 2095, 7672, 31578, 2783, 65, 4877, 5890, 7800, 18, 4]),\n",
       "       list([2, 13512, 16, 2095, 3618, 1893, 1994, 2854, 2212, 4267, 6809, 18, 4]),\n",
       "       list([2, 4579, 13512, 1950, 16, 2095, 1893, 4234, 2461, 2243, 23717, 7746, 1015, 53484, 1013, 2070, 44443, 2004, 9787, 51, 7799, 33553, 7053, 45280, 2899, 3467, 18, 4]),\n",
       "       list([2, 43, 13512, 16, 2095, 65, 3928, 3493, 1012, 3486, 29473, 2047, 12358, 1950, 2039, 2878, 16, 1951, 2039, 3896, 5587, 18, 4]),\n",
       "       list([2, 2007, 13512, 51, 1950, 16, 2095, 2369, 2047, 3820, 5261, 13767, 2232, 68, 14442, 1889, 2241, 54448, 1012, 25852, 18, 4]),\n",
       "       list([2, 2007, 13512, 13654, 51, 1950, 2095, 5222, 7438, 2095, 36142, 4955, 3283, 2281, 2508, 58218, 5386, 2359, 24391, 4148, 5222, 2208, 14294, 2959, 10540, 26727, 2095, 2367, 3439, 2180, 1898, 3247, 30993, 1889, 58218, 14104, 9262, 2342, 51, 2915, 2243, 1907, 2246, 65, 2217, 7673, 2095, 3582, 58218, 5386, 1919, 24391, 4148, 2007, 3694, 4488, 19877, 8699, 28493, 3003, 26727, 4]),\n",
       "       list([2, 13512, 2827, 16, 2095, 16418, 55350, 18483, 14109, 10144, 51, 4767, 1015, 3858, 6967, 1889, 18, 4]),\n",
       "       list([2, 13512, 16, 2095, 2039, 23567, 3212, 10437, 24467, 22128, 3003, 54365, 65, 2239, 53874, 1021, 18, 4]),\n",
       "       list([2, 13512, 16, 2095, 1893, 34087, 54833, 13410, 68, 3459, 3212, 2224, 26557, 11415, 65, 2851, 4]),\n",
       "       list([2, 13512, 16, 2095, 2175, 16, 2478, 2208, 16, 2175, 16, 1935, 9948, 38220, 16, 2508, 1907, 40078, 49538, 51, 2040, 19269, 2382, 1906, 21094, 18, 4]),\n",
       "       list([2, 30647, 51, 1950, 16, 2095, 2013, 2946, 14111, 16609, 1014, 68, 5629, 2103, 20320, 1010, 63, 2878, 16, 51711, 2529, 51084, 1013, 2436, 8808, 63, 16331, 18, 4]),\n",
       "       list([2, 30647, 2456, 16, 2095, 2508, 6810, 33527, 2243, 2095, 2865, 13696, 3940, 16, 3116, 2345, 1015, 2923, 3173, 29538, 18, 4]),\n",
       "       list([2, 30647, 16, 2095, 28574, 16, 1947, 1898, 3356, 4677, 1015, 2292, 68, 34665, 17, 5134, 1920, 2131, 17, 23748, 12195, 1022, 12894, 5104, 30, 4827, 14104, 16, 15846, 2946, 51, 4626, 17248, 37102, 16, 34706, 25607, 51, 15409, 36921, 1988, 6023, 5545, 3670, 18, 4]),\n",
       "       list([2, 30647, 16, 2095, 3694, 2665, 1893, 4594, 5777, 24388, 1015, 1906, 25137, 16, 2244, 1006, 9437, 2241, 9562, 3063, 2216, 41644, 1015, 24444, 5904, 1016, 18, 4]),\n",
       "       list([2, 5927, 5419, 1961, 28, 18, 3217, 1906, 2167, 18, 3217, 16, 2007, 13512, 16, 2095, 51, 1906, 3949, 53023, 1013, 18, 4]),\n",
       "       list([2, 2204, 2893, 1893, 15432, 57, 50405, 16, 2007, 2299, 17, 1965, 33018, 17061, 32457, 2243, 16, 2095, 2500, 1906, 2851, 18, 4]),\n",
       "       list([2, 42272, 2243, 16, 2095, 5230, 5958, 36015, 65, 8728, 2178, 2537, 3521, 17022, 2382, 18, 4]),\n",
       "       list([2, 2007, 23114, 2243, 16, 2095, 68, 19174, 1011, 17, 63, 11594, 3445, 10481, 18, 4]),\n",
       "       list([2, 42272, 2243, 16, 2095, 26228, 2079, 5015, 12654, 18, 4]),\n",
       "       list([2, 23114, 2243, 16, 2095, 6335, 16582, 3003, 2021, 14104, 51, 1893, 8966, 63, 2891, 51040, 30875, 1889, 18, 4]),\n",
       "       list([2, 49026, 1956, 15814, 1008, 2243, 16, 2095, 13963, 11676, 35936, 2342, 13445, 1008, 65, 4877, 51, 1893, 55350, 6708, 43716, 4053, 27071, 18, 4]),\n",
       "       list([2, 13324, 9612, 2191, 8840, 48748, 1943, 2243, 7133, 1908, 2095, 3003, 36494, 1008, 4]),\n",
       "       list([2, 47649, 1886, 52733, 2047, 37971, 16, 15814, 1008, 2243, 16, 2095, 3809, 18967, 53341, 9922, 4970, 5958, 25717, 38763, 1893, 7669, 1019, 49588, 616, 7813, 2937, 1898, 49854, 1014, 18, 4]),\n",
       "       list([2, 2893, 1893, 7133, 2243, 16, 2095, 21392, 1919, 6975, 1889, 16, 38053, 2959, 27022, 22219, 1014, 23503, 18, 4]),\n",
       "       list([2, 30565, 1914, 2243, 65, 17855, 16, 2095, 7836, 12690, 1898, 7986, 1976, 44444, 1007, 38360, 31769, 8668, 51, 1893, 23525, 15692, 36121, 1022, 6023, 7119, 2095, 42169, 1998, 5479, 8248, 5351, 4]),\n",
       "       list([2, 30565, 2243, 16, 2095, 2239, 9400, 1988, 2286, 2243, 1893, 13742, 2110, 18, 4]),\n",
       "       list([2, 2007, 2243, 42272, 2095, 2281, 2217, 3982, 37212, 6737, 2310, 35, 4]),\n",
       "       list([2, 2228, 2243, 42272, 16, 2095, 65, 52164, 20262, 42627, 6943, 1896, 9630, 1906, 4956, 51, 25745, 3234, 19907, 18, 4]),\n",
       "       list([2, 42272, 2243, 68, 2079, 16, 2095, 25825, 13951, 2468, 50813, 2231, 17586, 4258, 65, 22679, 11325, 16, 1935, 17422, 2419, 38685, 51, 3135, 12672, 4032, 16623, 18, 4]),\n",
       "       list([2, 42272, 2243, 16, 2095, 21409, 2388, 2851, 5230, 3524, 1015, 1950, 3513, 22414, 2686, 2618, 51, 2271, 36693, 18, 4]),\n",
       "       list([2, 42272, 2243, 16, 2095, 1893, 2098, 2055, 14228, 2243, 1951, 42032, 18, 18, 18, 4]),\n",
       "       list([2, 42272, 2243, 16, 2095, 6550, 2243, 51103, 2334, 18, 4]),\n",
       "       list([2, 42272, 2243, 16, 2095, 2130, 2315, 52533, 1919, 24039, 4832, 5658, 26557, 11351, 7285, 2338, 37154, 18, 4]),\n",
       "       list([2, 7133, 2243, 16, 2095, 24907, 17069, 1010, 21073, 6081, 1008, 65, 7485, 14455, 18, 4]),\n",
       "       list([2, 23114, 2243, 2827, 16, 2095, 7581, 14506, 51, 2241, 17676, 20362, 2369, 1924, 9089, 2232, 3272, 1888, 1980, 14664, 18, 4]),\n",
       "       list([2, 3168, 28522, 9930, 2282, 16064, 16, 42272, 2243, 16, 2095, 58314, 2243, 1950, 32511, 2802, 4]),\n",
       "       list([2, 7718, 17, 2474, 2376, 1011, 30550, 4453, 27071, 9698, 16, 42272, 2243, 16, 2095, 37263, 1012, 6545, 17233, 31, 4]),\n",
       "       list([2, 15556, 2024, 5732, 13654, 1907, 16, 2095, 4317, 3675, 1018, 7417, 10907, 1898, 6776, 4326, 18, 2475, 35648, 1896, 33361, 6616, 14615, 12, 1935, 1893, 11594, 2286, 2239, 4459, 13, 8090, 50748, 2788, 18, 4]),\n",
       "       list([2, 1893, 2353, 2456, 41400, 2788, 65, 14120, 16, 2202, 5342, 13069, 1898, 12667, 16, 2095, 15880, 1888, 6873, 2243, 4671, 1015, 3679, 51, 2167, 20260, 18, 43, 3937, 6954, 35399, 55, 18, 2027, 18, 1898, 6998, 31186, 15319, 2095, 2367, 3439, 2180, 1898, 8415, 30385, 15353, 68, 12466, 26629, 7890, 3059, 19221, 16, 24539, 2600, 4596, 2534, 18, 4]),\n",
       "       list([2, 43588, 2893, 2243, 2024, 1893, 27903, 1019, 16, 2095, 49290, 31159, 65, 6662, 8057, 8520, 18, 4]),\n",
       "       list([2, 10521, 11981, 16, 2095, 28248, 1898, 52957, 16609, 1005, 18, 4]),\n",
       "       list([2, 4472, 1013, 3221, 5855, 50930, 17147, 38683, 57, 24688, 39962, 68, 35722, 1998, 58210, 1910, 42810, 1021, 16, 8462, 1893, 11578, 3524, 1015, 16, 2095, 9437, 1893, 4012, 4671, 1908, 4340, 2231, 18, 4]),\n",
       "       list([2, 24007, 1937, 56250, 1008, 16, 2095, 65, 12654, 1897, 8600, 3337, 38685, 5227, 1007, 29714, 2686, 16, 31767, 12139, 1007, 16, 2021, 27077, 1889, 27032, 3431, 5959, 4428, 5618, 6741, 1924, 16, 6190, 2776, 1969, 3429, 8823, 5618, 1989, 4]),\n",
       "       list([2, 27215, 2118, 8512, 2616, 19439, 55261, 16, 2095, 2759, 27601, 3670, 65, 2485, 37971, 18, 4]),\n",
       "       list([2, 10973, 1906, 2079, 2095, 2246, 1008, 2899, 24076, 8941, 2202, 65, 3486, 8728, 32469, 3043, 2126, 3982, 6517, 2170, 18, 4]),\n",
       "       list([2, 25141, 1908, 7940, 2881, 1890, 36563, 1015, 16, 2095, 65, 32210, 31972, 2243, 6782, 21392, 14442, 1889, 51, 21226, 23319, 65, 4877, 18, 4]),\n",
       "       list([2, 7546, 1906, 2079, 16, 2095, 43883, 25083, 2808, 58927, 1911, 4584, 14265, 5, 4]),\n",
       "       list([2, 54026, 3586, 2243, 5740, 22219, 8599, 16, 2095, 55223, 37839, 6873, 2932, 2886, 1015, 2271, 4249, 1931, 16, 43, 5005, 2881, 1890, 1902, 35753, 1015, 1896, 43862, 37495, 5257, 16, 43, 2241, 12585, 16609, 1934, 18028, 59685, 18, 4]),\n",
       "       list([2, 5740, 22219, 11706, 2243, 16, 2095, 2881, 2126, 1019, 42032, 1906, 31941, 2423, 16, 2007, 1896, 2063, 16, 1951, 17654, 2150, 35459, 5386, 2243, 1898, 2152, 4328, 16, 31877, 2567, 2015, 1898, 2062, 3129, 1949, 16, 1947, 8162, 2096, 1019, 2212, 9652, 1017, 6501, 14109, 2824, 21580, 34330, 18, 4]),\n",
       "       list([2, 5740, 22219, 11706, 2243, 16, 2095, 65, 2063, 2504, 2394, 1890, 1019, 1911, 17550, 16, 35648, 1893, 4706, 1890, 2086, 65, 2524, 5366, 44667, 18, 4]),\n",
       "       list([2, 17359, 2149, 1893, 3116, 30713, 1015, 4956, 16, 1947, 5740, 22219, 8599, 2243, 16, 2095, 2437, 11438, 11558, 3482, 1006, 18, 4]),\n",
       "       list([2, 2227, 1896, 1907, 16, 2508, 12894, 1886, 1963, 1893, 5740, 22219, 13689, 2243, 16, 2095, 27789, 2243, 5587, 18, 4]),\n",
       "       list([2, 51, 13061, 4696, 39874, 65, 33290, 2273, 28335, 1916, 2243, 14711, 25219, 51, 28817, 14104, 1019, 1906, 2079, 16, 2095, 68, 11553, 8647, 2353, 21618, 3805, 2320, 17, 19655, 16779, 60, 18, 4]),\n",
       "       list([2, 6287, 59104, 2004, 1976, 44535, 2096, 1019, 19933, 16, 2095, 21935, 37873, 11701, 2788, 42090, 1893, 4809, 2047, 16178, 1889, 51, 7975, 3061, 16, 4263, 24778, 15955, 16, 7288, 9428, 68, 34803, 30721, 34863, 16, 43, 48570, 58620, 1988, 1949, 3519, 35201, 30517, 2032, 2076, 6202, 14104, 51, 4129, 1889, 23512, 65, 12880, 49089, 50919, 1897, 18, 4]),\n",
       "       list([2, 16387, 1919, 26099, 5848, 33913, 1914, 6192, 14104, 17, 1951, 32761, 4460, 65, 7901, 38685, 11459, 3895, 14104, 16, 2007, 31792, 17065, 9216, 48544, 1898, 2063, 16, 2095, 3895, 14104, 1937, 34087, 2527, 1015, 68, 42056, 65, 2931, 7627, 14104, 18, 4]),\n",
       "       list([2, 57914, 18201, 23590, 20904, 43643, 18, 2864, 12230, 1886, 1015, 2243, 4949, 16, 2095, 31066, 6, 7520, 3170, 36993, 6, 17726, 1005, 50267, 2298, 4292, 1898, 3653, 11193, 1006, 1946, 16109, 15953, 1910, 1906, 6836, 48761, 2328, 13540, 2042, 1898, 4955, 31147, 32669, 611, 8090, 2221, 52361, 1015, 8022, 36490, 2115, 1898, 11672, 10042, 13217, 1980, 4]),\n",
       "       list([2, 4142, 13856, 2243, 16, 2095, 36780, 29621, 26385, 13696, 1037, 2149, 18, 4]),\n",
       "       list([2, 2134, 11750, 15715, 16, 34357, 14982, 6392, 4455, 1014, 16, 2508, 2243, 12230, 1886, 1015, 16, 2095, 2666, 17691, 2803, 1907, 7514, 38551, 2351, 16, 29714, 2717, 12739, 16, 26686, 2231, 52540, 1931, 16763, 1927, 68, 18183, 1898, 23566, 18, 4]),\n",
       "       list([2, 34296, 23582, 13951, 2243, 16, 2095, 7467, 1948, 1907, 68, 12079, 5875, 9380, 1898, 5735, 6325, 17, 19274, 18, 4]),\n",
       "       list([2, 65, 25036, 1938, 5334, 36750, 65, 40354, 16, 9133, 16609, 1934, 22770, 1898, 48885, 4832, 16, 23582, 13951, 2243, 16, 2095, 1893, 1994, 5394, 1889, 16, 38053, 14556, 58165, 1012, 56152, 6813, 1975, 7257, 1015, 41692, 1933, 2021, 53532, 18, 4]),\n",
       "       list([2, 6980, 2243, 16, 2095, 1893, 3622, 39681, 4122, 16, 2095, 56232, 2243, 2015, 6590, 1015, 68, 7283, 1021, 18, 4]),\n",
       "       list([2, 6980, 2243, 16, 2095, 1893, 3622, 39681, 4122, 16, 2095, 56232, 2243, 2015, 6590, 1015, 68, 7283, 1021, 18, 4]),\n",
       "       list([2, 20797, 2243, 16, 2095, 44305, 3640, 51, 44305, 23046, 15380, 12, 2474, 1950, 1907, 2243, 8589, 13, 18, 4]),\n",
       "       list([2, 23582, 13951, 2243, 16, 2095, 4673, 16, 65, 38053, 1037, 11200, 7546, 1906, 3289, 2018, 10418, 2243, 2191, 29686, 18, 4]),\n",
       "       list([2, 23582, 13951, 2243, 16, 2095, 44203, 16356, 35221, 1906, 2244, 9922, 4999, 14613, 68, 40667, 1897, 18645, 18, 4]),\n",
       "       list([2, 2198, 23582, 2243, 16, 2095, 55039, 1994, 2414, 51, 31047, 47824, 1014, 21402, 2388, 4249, 7379, 65, 8538, 2338, 40078, 5187, 1019, 31768, 1014, 3217, 6612, 4620, 1889, 16, 43, 9489, 4312, 2293, 45370, 6421, 2534, 32080, 1906, 4258, 18, 4]),\n",
       "       list([2, 2198, 3890, 8284, 16, 23582, 2243, 16, 2095, 40189, 4878, 57488, 8549, 52033, 9335, 1019, 51137, 2343, 28084, 1898, 6262, 1014, 2504, 18, 4]),\n",
       "       list([2, 15766, 19646, 10851, 1898, 16447, 5379, 51, 6980, 2243, 16, 2095, 18, 18, 18, 2899, 5363, 1893, 5007, 18, 4]),\n",
       "       list([2, 5384, 1994, 2811, 46132, 1906, 10144, 8125, 16, 2062, 13982, 28509, 6980, 2243, 16, 2095, 2239, 3703, 10153, 43830, 2243, 27134, 1889, 1922, 68, 19844, 13789, 57, 34492, 1926, 30, 10521, 10144, 8668, 16, 24540, 4114, 2537, 4636, 4138, 5399, 4606, 7170, 18, 4]),\n",
       "       list([2, 2610, 25946, 36644, 5720, 1999, 3937, 29972, 2664, 16, 43, 4145, 27, 5707, 23582, 13951, 2243, 16, 2095, 3270, 27069, 1902, 5478, 16609, 18, 4]),\n",
       "       list([2, 49035, 51, 2095, 25421, 16, 51, 68, 21061, 39405, 16825, 2243, 57, 29938, 7473, 16, 1907, 65, 2560, 7673, 2243, 3198, 16, 2095, 8462, 39238, 3594, 13951, 1937, 47928, 19942, 35, 4]),\n",
       "       list([2, 26981, 38814, 2033, 16, 2095, 14887, 16, 40221, 1949, 30977, 15073, 30239, 16, 21104, 3367, 1008, 16678, 1007, 18, 4]),\n",
       "       list([2, 5244, 59284, 10241, 10558, 2637, 51, 12142, 36613, 2351, 1927, 38814, 2033, 16, 2095, 3221, 33553, 7053, 14504, 6460, 16, 2095, 3003, 29946, 13960, 16, 32401, 31634, 2271, 68, 5059, 18, 4]),\n",
       "       list([2, 11115, 9899, 51, 6023, 1019, 30287, 34373, 1978, 65, 16873, 11750, 2476, 3198, 4064, 16, 2095, 29468, 57, 8049, 29946, 1926, 8255, 1008, 2618, 3075, 42947, 31487, 51179, 51, 6308, 1008, 45939, 1998, 1906, 8438, 35936, 4577, 1005, 9624, 2180, 16, 43, 25605, 1905, 3727, 23557, 16214, 5030, 2618, 57, 3000, 35936, 4577, 1005, 9624, 1938, 18, 4]),\n",
       "       list([2, 8253, 49013, 3587, 12112, 9303, 16, 38384, 39825, 1008, 1907, 40435, 16, 38814, 1923, 16, 2095, 2759, 57, 24801, 47840, 5215, 3003, 3075, 52427, 1906, 8855, 2448, 1007, 51, 58235, 17687, 1988, 3247, 6821, 16, 4263, 5446, 40210, 1015, 2271, 9011, 2010, 6308, 1008, 52421, 1906, 8049, 5233, 18, 4]),\n",
       "       list([2, 9654, 7359, 1015, 4915, 7306, 1923, 9216, 1898, 2063, 16, 2095, 2404, 1893, 43476, 49605, 2076, 2039, 2878, 6942, 42639, 16, 2197, 2827, 2243, 3076, 16, 2095, 27069, 12026, 53028, 2608, 2865, 6377, 1022, 18, 4]),\n",
       "       list([2, 22396, 6134, 16, 2095, 29480, 20622, 2243, 1898, 6789, 18, 4]),\n",
       "       list([2, 22396, 6134, 16, 2095, 1893, 1994, 7771, 29946, 18303, 1897, 4]),\n",
       "       list([2, 2244, 6678, 29149, 1906, 2608, 12195, 1022, 16, 1907, 22396, 24501, 2380, 16, 2095, 1970, 2243, 6095, 2527, 49538, 2480, 39188, 65, 17391, 2286, 3919, 18, 4]),\n",
       "       list([2, 22396, 2095, 14473, 2243, 2013, 68, 3423, 12026, 2415, 55452, 4]),\n",
       "       list([2, 4771, 2210, 2243, 1893, 19360, 1014, 16, 2095, 1893, 8090, 34888, 31715, 18, 18, 18, 4]),\n",
       "       list([2, 1906, 32994, 49782, 19360, 1008, 2243, 16, 2095, 4019, 4357, 1898, 4084, 18, 4]),\n",
       "       list([2, 5446, 9489, 2243, 19360, 1015, 16, 2095, 4697, 2243, 6068, 34706, 16609, 1934, 2243, 18016, 1898, 52225, 18, 4]),\n",
       "       list([2, 19360, 1014, 2243, 2934, 32008, 3638, 4945, 16, 2095, 3699, 65, 3486, 16, 2198, 4330, 4066, 14109, 12318, 1906, 2851, 16, 2996, 50850, 8024, 2047, 65, 6005, 6654, 39947, 18, 4]),\n",
       "       list([2, 19360, 1014, 2243, 16, 2095, 2013, 5384, 13364, 68, 5341, 10759, 12294, 16, 2508, 12843, 1015, 2243, 2095, 25421, 9041, 59135, 4195, 1998, 16, 4008, 2611, 5751, 5384, 2162, 11669, 6502, 58131, 1015, 56001, 36100, 10850, 1022, 4]),\n",
       "       list([2, 1893, 2881, 1890, 19360, 1015, 2243, 16, 2095, 26228, 3075, 56000, 5258, 51, 5668, 1912, 1898, 29936, 1933, 18, 4]),\n",
       "       list([2, 2021, 29801, 2243, 19360, 1015, 16, 2095, 7031, 1890, 6809, 40967, 13654, 14964, 1908, 2243, 9268, 1889, 16, 6284, 49841, 3367, 16609, 2071, 1896, 52225, 2011, 31894, 2274, 35218, 2061, 65, 24152, 1014, 25936, 1996, 8194, 6383, 2298, 35, 4]),\n",
       "       list([2, 11477, 2243, 19360, 1014, 2095, 3757, 18835, 4]),\n",
       "       list([2, 2007, 68, 2299, 5449, 2126, 24448, 9437, 65, 29708, 3431, 17362, 8427, 1897, 5535, 6780, 16, 43, 1911, 2524, 10499, 3505, 16, 9600, 1018, 16, 51, 2652, 8822, 1908, 2243, 10908, 10786, 14723, 1015, 51, 19360, 1015, 16, 2095, 44908, 18, 4]),\n",
       "       list([2, 19360, 1014, 2243, 2228, 17, 52795, 1019, 56351, 1032, 4941, 44931, 17, 2095, 23154, 2117, 2013, 2485, 4080, 2051, 42090, 18, 4]),\n",
       "       list([2, 51, 4771, 2243, 1893, 19360, 1008, 16, 2095, 65, 3577, 16, 2244, 2011, 10755, 1911, 6989, 21287, 1008, 16, 2610, 46587, 4160, 35823, 1958, 16, 43, 2456, 3518, 18, 4]),\n",
       "       list([2, 17989, 4236, 2024, 1907, 16, 2095, 2550, 13245, 2583, 2567, 2024, 2098, 68, 8257, 9162, 6824, 18, 4]),\n",
       "       list([2, 1902, 2537, 2095, 2436, 32399, 4]),\n",
       "       list([2, 1893, 3842, 1008, 2243, 68, 2063, 16, 2095, 1937, 51793, 1013, 16, 2367, 3439, 2706, 4487, 2021, 2456, 14968, 41052, 1910, 41970, 16, 29464, 2047, 2271, 3595, 51, 34760, 3367, 1008, 65, 18882, 2079, 3979, 16910, 18, 4]),\n",
       "       list([2, 27016, 37262, 12240, 16, 54067, 4598, 2036, 2450, 68, 15323, 6, 1898, 3135, 51, 1898, 5673, 6, 16, 38384, 65, 2063, 2338, 4591, 1011, 1927, 1923, 24509, 38683, 65, 26533, 6876, 65, 23862, 3043, 27976, 2476, 16, 8418, 2243, 16, 2095, 33593, 29233, 3935, 5386, 47364, 23383, 1022, 1893, 41284, 7788, 6170, 2243, 68, 2063, 16, 2095, 21985, 7630, 16, 38053, 1910, 15912, 29303, 65, 49588, 16, 1994, 3410, 1906, 7986, 2671, 33721, 18, 4]),\n",
       "       list([2, 1951, 2259, 33648, 8090, 65, 2063, 17116, 1015, 6, 17, 39031, 2110, 29835, 16, 7693, 47600, 2243, 1898, 2063, 16, 2095, 2827, 4984, 33929, 1037, 5029, 14102, 1905, 29468, 16, 17867, 18, 4]),\n",
       "       list([2, 1893, 6118, 44952, 2243, 2827, 16, 2095, 15131, 18635, 53096, 16609, 1013, 18641, 44445, 2206, 31309, 1014, 3415, 2548, 27132, 5, 4]),\n",
       "       list([2, 41284, 2243, 6118, 3106, 16, 2095, 17765, 2376, 1011, 2243, 18877, 2126, 18, 4]),\n",
       "       list([2, 6118, 6519, 2243, 16, 2095, 33747, 1008, 3531, 37154, 1994, 2485, 3774, 16, 2095, 3410, 7031, 14104, 1907, 22227, 8859, 1898, 35936, 51, 2239, 5750, 18, 4]),\n",
       "       list([2, 6118, 6519, 2243, 16, 2095, 33747, 1008, 3531, 37154, 1994, 2485, 3774, 16, 2095, 3410, 7031, 14104, 1907, 22227, 8859, 1898, 35936, 51, 2239, 5750, 18, 4]),\n",
       "       list([2, 2228, 2243, 39174, 16, 2095, 65, 13373, 16, 65, 18100, 1008, 35201, 1037, 3278, 2039, 3115, 3950, 17, 3121, 5636, 49867, 17, 2349, 1969, 3115, 1893, 2216, 18, 4]),\n",
       "       list([2, 4594, 13951, 13654, 13175, 16, 2095, 49357, 16609, 68, 12189, 1889, 7058, 51, 56212, 25170, 46200, 4234, 2243, 2461, 29697, 33527, 15960, 2298, 6023, 1019, 3936, 1014, 2095, 52808, 68, 13556, 2268, 10134, 2534, 18, 4]),\n",
       "       list([2, 12201, 1021, 1926, 5332, 20611, 5966, 32669, 16, 2095, 3003, 1907, 29084, 30490, 16, 2845, 3075, 33157, 1008, 7467, 2380, 26018, 18, 4]),\n",
       "       list([2, 2349, 10054, 20611, 5966, 32669, 16, 2095, 3759, 1008, 2292, 20709, 4959, 4]),\n",
       "       list([2, 4479, 1007, 1978, 5332, 20611, 5966, 32669, 16, 2095, 2271, 11650, 16, 1907, 9832, 52509, 36378, 51, 49313, 2931, 1020, 18, 4]),\n",
       "       list([2, 2063, 2676, 15556, 26909, 3228, 24509, 4497, 5386, 5332, 1015, 20611, 5966, 32669, 16, 2095, 18803, 1906, 4384, 50809, 5566, 16, 2039, 38053, 1037, 5981, 3273, 11446, 3003, 3727, 5968, 44166, 18, 4]),\n",
       "       list([2, 3063, 32599, 20611, 5966, 32669, 16, 2095, 1937, 5244, 38495, 1008, 36700, 3915, 1984, 1924, 5626, 10468, 1015, 4915, 7306, 1923, 18, 4]),\n",
       "       list([2, 36894, 4592, 17956, 5386, 1911, 2786, 2495, 2608, 5735, 22165, 29480, 1898, 2013, 5311, 611, 7581, 18803, 16, 2095, 1994, 8102, 24337, 1015, 8706, 8709, 16451, 1889, 51, 8800, 18, 4]),\n",
       "       list([2, 3710, 18, 5535, 41156, 6780, 22148, 2847, 6581, 1889, 16, 18803, 16609, 2071, 57, 2063, 16, 2095, 8889, 1919, 22645, 7947, 16609, 1934, 57134, 2020, 16, 53742, 2720, 5504, 29410, 1008, 16, 10898, 1914, 37330, 2020, 51, 65, 9434, 1007, 7673, 1893, 2053, 14104, 2243, 65, 34992, 33092, 4258, 17567, 18, 4]),\n",
       "       list([2, 2030, 29442, 2047, 30, 18803, 1943, 27215, 2118, 16, 2095, 3513, 23940, 1889, 4310, 1927, 1948, 27011, 16609, 4955, 2834, 51, 2095, 27124, 1908, 17, 1935, 1919, 2530, 17, 2676, 68, 4432, 9878, 16, 2007, 22349, 2334, 49605, 1954, 3273, 3088, 16, 2095, 65, 32204, 9011, 3530, 14104, 3214, 3543, 27124, 1908, 1896, 8304, 2157, 2215, 5171, 3247, 23940, 1889, 18, 4]),\n",
       "       list([2, 65, 15194, 35936, 2342, 5007, 5394, 16, 34357, 18803, 16, 2095, 16623, 24495, 55350, 12026, 8980, 2664, 65, 5837, 1935, 6196, 13778, 35630, 1012, 16, 2202, 1893, 1994, 2918, 1889, 68, 37318, 1998, 5366, 44667, 1998, 18, 4]),\n",
       "       list([2, 2062, 9437, 3949, 2338, 2787, 24623, 28621, 1005, 2461, 8295, 51, 18803, 2567, 16, 2095, 2286, 2923, 52911, 51, 28974, 4949, 1902, 4825, 1015, 18, 4]),\n",
       "       list([2, 31019, 18803, 16, 2095, 6, 32554, 5946, 1919, 9778, 14714, 2013, 7064, 20478, 6, 2021, 2508, 1898, 3274, 16, 10865, 1898, 2210, 10125, 8090, 10973, 1015, 1907, 3872, 20316, 50387, 18, 4]),\n",
       "       list([2, 2260, 17486, 41536, 2243, 1898, 9374, 2382, 40274, 1910, 9585, 17878, 22516, 16, 38384, 18803, 16, 2095, 65, 3694, 2818, 1897, 11646, 16, 2244, 11082, 5549, 2047, 2243, 4663, 2104, 6683, 22516, 16, 6873, 12026, 15953, 51039, 2010, 4038, 18, 4]),\n",
       "       list([2, 39594, 4436, 18803, 57, 2063, 16, 2095, 6806, 2185, 12026, 44206, 1898, 3703, 16, 2474, 2095, 28312, 13951, 2587, 4249, 5469, 18, 4]),\n",
       "       list([2, 39594, 4607, 18803, 16, 2095, 14634, 2382, 16, 65, 6616, 34357, 1897, 10973, 1906, 16727, 2975, 1889, 1942, 16, 9184, 2904, 8124, 2323, 13265, 6873, 12026, 30510, 1927, 26232, 18, 4]),\n",
       "       list([2, 2030, 29442, 2047, 30, 18803, 1943, 27215, 2118, 16, 2095, 3513, 23940, 1889, 4310, 1927, 1948, 27011, 16609, 4955, 2834, 51, 2095, 27124, 1908, 17, 1935, 1919, 2530, 17, 2676, 68, 4432, 9878, 16, 2007, 22349, 2334, 49605, 1954, 3273, 3088, 16, 2095, 65, 32204, 9011, 3530, 14104, 3214, 3543, 27124, 1908, 1896, 8304, 2157, 2215, 5171, 3247, 23940, 1889, 18, 4]),\n",
       "       list([2, 7581, 57, 7190, 1931, 24251, 6412, 18803, 6190, 1905, 16, 2095, 19252, 5332, 4080, 2051, 4328, 21237, 14109, 6967, 1889, 57, 57309, 44444, 9265, 2342, 18, 4]),\n",
       "       list([2, 1893, 29801, 18803, 1015, 16, 2095, 5946, 1994, 31399, 12, 52606, 9726, 1021, 2421, 1012, 13, 6, 51026, 23940, 1889, 1898, 21740, 6, 1907, 5863, 18, 4]),\n",
       "       list([2, 1893, 29149, 2214, 16, 2095, 2221, 2243, 1950, 5458, 2147, 18767, 1015, 18, 4]),\n",
       "       list([2, 12332, 16609, 2217, 9296, 65, 5116, 2301, 1938, 31371, 1898, 58128, 16, 2198, 25285, 20023, 1014, 16, 29149, 1015, 16, 2095, 1919, 1907, 14817, 5052, 16856, 3402, 3102, 2254, 18, 4]),\n",
       "       list([2, 51, 2845, 1893, 18961, 2243, 37354, 2788, 16, 29149, 2086, 16, 2095, 2893, 2030, 57, 2024, 1893, 21280, 2020, 4]),\n",
       "       list([2, 2055, 29149, 2086, 2095, 1907, 1919, 29340, 1893, 35, 2095, 65, 18249, 2150, 1906, 12789, 18, 5010, 18, 1907, 1907, 1919, 8285, 4]),\n",
       "       list([2, 2055, 29149, 2086, 2095, 1907, 1919, 29340, 1893, 35, 2095, 65, 18249, 2150, 1906, 12789, 18, 5010, 18, 1907, 1907, 1919, 8285, 4]),\n",
       "       list([2, 5465, 3813, 2270, 17, 18803, 25105, 1018, 17, 29149, 1019, 2055, 16, 2095, 2500, 2363, 57, 2718, 1905, 2575, 16, 2007, 1893, 16, 2652, 2098, 30, 43024, 51, 43024, 5, 4]),\n",
       "       list([2, 43, 7548, 1907, 29149, 2086, 16, 2095, 2243, 2130, 1931, 12139, 18, 4]),\n",
       "       list([2, 2007, 2055, 29149, 2214, 2095, 9437, 24235, 2098, 34479, 2070, 5122, 2126, 1923, 18, 4]),\n",
       "       list([2, 2055, 13654, 42032, 29149, 2214, 16, 2095, 3063, 19272, 1015, 18, 4]),\n",
       "       list([2, 2286, 2923, 2254, 2787, 29149, 2086, 16, 2095, 9944, 5635, 2618, 18, 4]),\n",
       "       list([2, 40457, 1918, 44792, 18, 18, 18, 29149, 2086, 2095, 24, 1919, 6719, 3518, 9928, 1955, 51, 2095, 4549, 1006, 3126, 42548, 2230, 18, 18, 18, 2141, 2007, 3075, 27680, 3254, 9915, 2474, 1893, 1994, 4]),\n",
       "       list([2, 40457, 1918, 44792, 18, 18, 18, 29149, 2086, 2095, 24, 1919, 6719, 3518, 9928, 1955, 51, 2095, 4549, 1006, 3126, 42548, 2230, 18, 18, 18, 2141, 2007, 3075, 27680, 3254, 9915, 2474, 1893, 1994, 4]),\n",
       "       list([2, 29149, 2214, 2095, 7982, 18, 4]),\n",
       "       list([2, 29149, 2214, 16, 2095, 4390, 68, 6101, 2281, 13911, 18, 4]),\n",
       "       list([2, 29149, 2214, 16, 2095, 3003, 2098, 65, 23385, 18, 18, 18, 4]),\n",
       "       list([2, 29149, 2214, 16, 2095, 1907, 2227, 39336, 18, 4]),\n",
       "       list([2, 29149, 2086, 2095, 1907, 2239, 4]),\n",
       "       list([2, 29149, 2086, 16, 2095, 27913, 1911, 1937, 46896, 11645, 3543, 51, 29169, 17, 8823, 5618, 7167, 14590, 18625, 8194, 1895, 18, 4]),\n",
       "       list([2, 29149, 2086, 16, 2095, 2260, 1906, 2024, 4993, 18, 18, 18, 4]),\n",
       "       list([2, 29149, 2086, 16, 2095, 1907, 2098, 1906, 52533, 11950, 51, 3480, 32390, 1898, 33338, 1014, 1906, 7058, 4]),\n",
       "       list([2, 29468, 16, 2095, 2246, 2197, 16, 2007, 1950, 13781, 9986, 18, 4]),\n",
       "       list([2, 3365, 1890, 2214, 2006, 2243, 1898, 1907, 16, 2062, 29149, 2214, 16, 2095, 1893, 1964, 18, 4]),\n",
       "       list([2, 2652, 29152, 1908, 16, 2095, 51026, 2243, 6458, 5, 4]),\n",
       "       list([2, 51, 26761, 16, 2095, 2134, 2899, 5041, 51, 1893, 2175, 16, 1935, 1907, 1919, 621, 34935, 1007, 51, 5082, 19287, 1008, 620, 35, 5, 4]),\n",
       "       list([2, 29801, 6687, 28073, 1976, 1015, 2243, 2063, 16, 2095, 41284, 3703, 4629, 1907, 2855, 1906, 21007, 1926, 16, 35648, 36294, 2286, 4012, 8741, 16, 1947, 20621, 6824, 1015, 24509, 14667, 68, 10433, 18, 4]),\n",
       "       list([2, 2234, 10161, 16, 2095, 35429, 44370, 16, 40078, 42101, 16609, 1014, 4663, 21482, 3081, 14104, 16, 3003, 65, 10253, 11378, 35201, 42634, 1911, 8587, 2039, 4257, 18, 4]),\n",
       "       list([2, 23519, 48544, 1893, 17351, 1008, 16, 2095, 23892, 17, 27437, 11683, 51, 2116, 2707, 34074, 2031, 17, 13609, 27071, 46896, 1911, 41284, 4629, 2675, 5256, 65, 7209, 18, 4]),\n",
       "       list([2, 1898, 4067, 10623, 1893, 21190, 16, 2095, 621, 2011, 2047, 1019, 2847, 47202, 2783, 1007, 4316, 5134, 12522, 4909, 14104, 36468, 16, 16053, 16235, 65, 14336, 56978, 1013, 2698, 16, 32897, 2380, 30875, 1889, 51, 27175, 5504, 25036, 35960, 2380, 620, 18, 4]),\n",
       "       list([2, 2404, 1893, 52876, 16, 2095, 6, 3779, 4842, 9373, 2057, 6, 1919, 13832, 25911, 18, 4]),\n",
       "       list([2, 17500, 29233, 11134, 1893, 52876, 16, 2095, 65, 9909, 1919, 2228, 7160, 18, 4]),\n",
       "       list([2, 1893, 1994, 1935, 13385, 1015, 16, 2095, 35663, 1907, 4024, 9265, 3895, 14104, 6579, 611, 21385, 20149, 39330, 1917, 18, 4]),\n",
       "       list([2, 1907, 1919, 18100, 1008, 35201, 1037, 2010, 16, 4549, 1006, 1893, 31883, 16, 2095, 49035, 31589, 1907, 7968, 54204, 1013, 1898, 48138, 2261, 19912, 7245, 2039, 2024, 21218, 2112, 39341, 2079, 8728, 4]),\n",
       "       list([2, 65, 3694, 2818, 1897, 7623, 8813, 13385, 2243, 2241, 6023, 1019, 50137, 8862, 3176, 16, 2095, 17, 3289, 6023, 5848, 15478, 1914, 53593, 17, 1994, 2243, 2286, 2528, 16, 43078, 8695, 18, 4]),\n",
       "       list([2, 2827, 1893, 13385, 16, 2095, 65, 11430, 2338, 55148, 11041, 1919, 27799, 19015, 1889, 18, 4]),\n",
       "       list([2, 8439, 2243, 1898, 3115, 4767, 1015, 16, 23319, 3926, 14109, 17, 18803, 2959, 10344, 42529, 1007, 55727, 7090, 1905, 8549, 18, 17, 2207, 18803, 16, 2095, 28974, 2243, 4767, 1015, 17, 20830, 2677, 2117, 13052, 16548, 7050, 48325, 43065, 28511, 1922, 16, 34357, 2827, 1893, 13385, 16, 2095, 1994, 19322, 9199, 4956, 1969, 51808, 21096, 18, 4]),\n",
       "       list([2, 1893, 26228, 3212, 27074, 25715, 16, 7623, 13654, 9051, 14109, 28974, 4571, 1898, 8826, 45216, 16, 2177, 1015, 1893, 31883, 16, 2095, 29900, 2243, 2461, 12189, 1898, 26299, 4]),\n",
       "       list([2, 1893, 27753, 16, 2095, 1919, 1907, 2827, 58689, 7124, 14681, 58238, 18, 4]),\n",
       "       list([2, 1893, 31883, 16, 2095, 3121, 13866, 63, 30888, 16411, 16, 7134, 18491, 2413, 2208, 18, 4]),\n",
       "       list([2, 1893, 31883, 16, 2095, 1907, 1919, 2918, 4]),\n",
       "       list([2, 2013, 5535, 1893, 13385, 16, 2095, 2039, 4384, 21773, 2165, 1919, 1907, 18154, 8165, 37296, 2281, 2760, 18, 4]),\n",
       "       list([2, 5627, 24027, 7184, 1037, 2126, 1893, 27753, 16, 2095, 49566, 1013, 1019, 2243, 16, 2244, 65, 36137, 55833, 1005, 7998, 23312, 20659, 18591, 7548, 1007, 6, 38636, 41209, 13294, 6, 18, 4]),\n",
       "       list([2, 42928, 1893, 13385, 13654, 16, 2095, 6170, 2243, 68, 26017, 1012, 41492, 1898, 29568, 18, 4]),\n",
       "       list([2, 2373, 2101, 16, 2254, 3438, 16, 1893, 13385, 16, 2095, 1893, 1919, 24396, 16, 2062, 9442, 48498, 18, 4]),\n",
       "       list([2, 2204, 3980, 2292, 1961, 27, 1906, 3309, 5397, 8592, 13963, 2170, 51, 1893, 31883, 16, 2095, 4313, 6230, 1919, 2432, 57, 14201, 11914, 51, 45947, 6812, 17, 26454, 2117, 7503, 35201, 10344, 4242, 6735, 2149, 18, 4]),\n",
       "       list([2, 65, 2241, 3929, 4909, 5684, 12346, 2476, 10344, 45317, 2471, 8572, 1893, 27753, 16, 2095, 2239, 35677, 2428, 3980, 9741, 19149, 2020, 44760, 18, 4]),\n",
       "       list([2, 65, 52164, 1893, 29801, 2216, 2577, 26557, 13385, 1015, 16, 2095, 3703, 3357, 13956, 2717, 25259, 1919, 1898, 3126, 1893, 5415, 3636, 16, 2095, 1893, 12245, 2281, 68, 2730, 33527, 1008, 37558, 56624, 1897, 18, 4]),\n",
       "       list([2, 2175, 16, 2095, 6377, 4479, 1007, 46200, 22967, 1948, 2243, 16, 2095, 3417, 2243, 11864, 2126, 16, 2007, 4458, 68, 10001, 2349, 2173, 1898, 1907, 16, 1947, 8295, 4619, 1015, 1906, 2178, 2059, 22087, 2338, 18, 4]),\n",
       "       list([2, 51, 7283, 31303, 2692, 2286, 2241, 37299, 5396, 26805, 18, 2095, 40221, 30756, 14418, 9847, 1933, 65, 3272, 1888, 11146, 1949, 51, 2204, 65, 3272, 1888, 1931, 8600, 2095, 2079, 1893, 1994, 4]),\n",
       "       list([2, 8133, 4050, 1924, 2243, 1898, 2024, 49982, 1008, 2095, 2210, 1893, 38481, 2376, 20611, 50919, 4]),\n",
       "       list([2, 2114, 55309, 3118, 19055, 16, 2095, 46132, 2230, 3937, 9576, 29426, 5378, 2999, 18, 4]),\n",
       "       list([2, 13521, 2119, 31590, 1978, 27604, 16, 15540, 2614, 51, 4967, 4822, 1889, 16, 2095, 31590, 4448, 1893, 1919, 37087, 2937, 11468, 7716, 18, 4]),\n",
       "       list([2, 19840, 16, 2095, 1898, 2063, 41145, 12045, 52225, 2587, 48866, 1014, 24659, 2047, 49177, 14095, 18, 4]),\n",
       "       list([2, 30858, 3035, 8577, 1010, 46418, 68, 3459, 2271, 6, 8659, 1010, 8823, 1923, 14872, 6581, 1889, 65, 36656, 52697, 16609, 1014, 23759, 6, 16, 2007, 29480, 2259, 19038, 18839, 33554, 2119, 4740, 1015, 16, 2095, 10236, 16665, 2047, 2243, 19960, 2608, 9017, 2186, 16, 1935, 11150, 16609, 1013, 5050, 1007, 16, 2890, 45461, 14134, 2119, 46847, 1015, 16, 2095, 42730, 1919, 8165, 38456, 16, 43, 49207, 2119, 58624, 1015, 16, 2095, 11673, 2215, 36494, 5815, 1919, 54303, 6575, 6029, 5721, 9965, 3012, 18, 4]),\n",
       "       list([2, 36494, 32669, 1907, 5553, 7673, 1898, 36494, 2343, 37154, 16, 2244, 1006, 3737, 36494, 1013, 1907, 25788, 16, 2207, 17749, 16, 2095, 16879, 1015, 51, 21007, 1015, 1893, 5332, 16399, 5, 4]),\n",
       "       list([2, 2207, 17868, 3059, 1895, 2243, 68, 10433, 16, 2217, 7995, 2243, 6691, 2618, 51, 42565, 16, 2095, 4856, 3737, 1893, 1919, 8535, 2544, 2937, 54365, 65, 4642, 1906, 52981, 2123, 18, 4]),\n",
       "       list([2, 7133, 1908, 2243, 59514, 16, 30565, 2243, 25269, 16548, 2170, 16, 43, 3895, 20205, 14109, 16, 2095, 68, 20343, 4242, 6735, 2949, 6023, 1019, 3936, 3367, 1008, 39859, 5051, 2702, 45941, 1008, 51, 23708, 36296, 1900, 18, 4]),\n",
       "       list([2, 9271, 2243, 16, 2095, 13403, 1893, 3003, 2436, 9463, 18, 4]),\n",
       "       list([2, 2198, 9271, 2243, 16, 2095, 2015, 1893, 11594, 16, 58814, 1013, 5803, 37368, 32660, 1898, 35385, 12749, 51, 51439, 1013, 1898, 18994, 18, 4]),\n",
       "       list([2, 1898, 3570, 9271, 2243, 16, 2095, 5626, 14535, 5007, 15635, 31015, 5687, 3324, 18, 4]),\n",
       "       list([2, 3096, 9271, 2243, 16, 2095, 5609, 4957, 3670, 10755, 2342, 1919, 6870, 18, 4]),\n",
       "       list([2, 5432, 2017, 11149, 4046, 1985, 1898, 6266, 2137, 1933, 22718, 16, 11477, 9271, 2243, 16, 2095, 65, 2210, 13711, 2763, 12522, 2117, 20956, 1018, 18, 4]),\n",
       "       list([2, 2007, 1896, 3486, 12021, 2243, 16, 2095, 2540, 5991, 1013, 13654, 1919, 4727, 5904, 3059, 5577, 1013, 16, 43, 12515, 1959, 1907, 33654, 18, 4]),\n",
       "       list([2, 2007, 13654, 7029, 22921, 1013, 14997, 1014, 2095, 18, 2934, 2807, 1886, 1907, 1935, 18803, 1943, 9437, 1919, 16534, 65, 4313, 33020, 65, 15513, 65, 4313, 2451, 11708, 14535, 23883, 65, 4313, 13445, 2113, 19042, 2062, 2204, 6058, 12021, 2243, 2095, 30143, 1985, 68, 19265, 1919, 2934, 25607, 1008, 18, 8004, 18, 4]),\n",
       "       list([2, 2244, 18330, 16, 9271, 2243, 16, 2095, 1893, 1994, 51040, 11991, 18, 4]),\n",
       "       list([2, 1951, 2015, 4312, 1890, 1019, 1898, 13585, 16, 1907, 9271, 2243, 16, 2095, 18, 18, 18, 18108, 2243, 2437, 14454, 10278, 32624, 18, 4]),\n",
       "       list([2, 2827, 2244, 26179, 2270, 8822, 2118, 6608, 1015, 4292, 16, 9271, 2243, 16, 2095, 6719, 5829, 16, 38384, 9678, 4955, 44166, 1910, 30561, 40335, 3890, 11814, 2150, 2239, 3505, 22945, 18, 4]),\n",
       "       list([2, 2827, 2244, 1898, 2239, 6628, 5762, 24192, 1013, 1019, 8652, 51137, 2343, 16, 9271, 2243, 16, 2095, 1911, 3666, 4303, 28, 5644, 18, 11594, 3116, 11426, 1015, 3548, 5644, 18, 3369, 18, 4]),\n",
       "       list([2, 2286, 2808, 16, 2447, 3527, 2787, 2210, 4854, 49007, 65, 11861, 2476, 16, 2095, 1893, 6170, 1898, 52321, 21601, 14748, 2114, 6603, 3118, 16, 2007, 9271, 2243, 16, 2095, 32459, 27332, 9497, 1015, 1898, 27972, 1950, 2381, 16, 1951, 2996, 18, 4]),\n",
       "       list([2, 2198, 2015, 5245, 50930, 16, 9271, 2243, 16, 2095, 1919, 1907, 18108, 18, 4]),\n",
       "       list([2, 46060, 1890, 10663, 2483, 18311, 3524, 9922, 5104, 4426, 3819, 3543, 1969, 4619, 1890, 22425, 14104, 51, 9271, 2243, 16, 2095, 3547, 3594, 2996, 19863, 6295, 1961, 23, 17, 25, 22561, 18, 4]),\n",
       "       list([2, 9271, 2373, 47, 2827, 16, 2095, 35098, 16045, 21600, 2216, 3405, 5510, 18, 4]),\n",
       "       list([2, 9271, 2243, 2827, 16, 2095, 4878, 14737, 28692, 1907, 5443, 3349, 8592, 2039, 8196, 18, 4]),\n",
       "       list([2, 9271, 2243, 2827, 16, 2095, 39857, 1012, 13012, 2243, 2186, 1906, 2608, 5332, 9928, 1022, 16, 2244, 1006, 21387, 16, 2095, 1893, 5332, 3820, 2234, 6023, 5011, 68, 58265, 45939, 1998, 26371, 1998, 18, 4]),\n",
       "       list([2, 9271, 2243, 2095, 3003, 1907, 1937, 6169, 8633, 4]),\n",
       "       list([2, 9271, 2243, 2095, 6227, 1994, 1902, 24108, 2664, 18, 4]),\n",
       "       list([2, 9271, 2243, 16, 2095, 1906, 12723, 49294, 2059, 35221, 21497, 1942, 68, 46490, 1910, 18, 4]),\n",
       "       list([2, 9271, 2243, 16, 2095, 1906, 2764, 34863, 13696, 10343, 1037, 10566, 1942, 2303, 1893, 21392, 23319, 24039, 3391, 2760, 18, 4]),\n",
       "       list([2, 9271, 2243, 16, 2095, 3527, 16388, 1889, 50561, 2033, 2243, 29564, 1010, 10847, 2103, 18, 4]),\n",
       "       list([2, 9271, 2243, 16, 2095, 2759, 16, 34357, 1897, 13650, 5577, 1005, 1906, 40468, 6334, 1906, 5233, 51, 7639, 40931, 2416, 2243, 65, 40525, 32500, 2210, 16, 3836, 65, 21559, 6782, 3075, 20637, 68, 2878, 23319, 13580, 18, 4]),\n",
       "       list([2, 9271, 2243, 16, 2095, 11250, 1937, 30603, 13047, 2420, 10505, 16, 2244, 8409, 25036, 2180, 2150, 20701, 21292, 1905, 8668, 18, 4]),\n",
       "       list([2, 9271, 2243, 16, 2095, 4479, 2221, 65, 43359, 2374, 1949, 6623, 54189, 18, 4]),\n",
       "       list([2, 9271, 2243, 16, 2095, 29801, 68, 14454, 4955, 1015, 16, 51, 1907, 2456, 52981, 18625, 16, 2011, 13730, 43952, 8049, 9003, 2412, 4959, 10915, 37154, 18, 4]),\n",
       "       list([2, 9271, 2243, 16, 2095, 1898, 22656, 1037, 6267, 1949, 9322, 21069, 1939, 1006, 58806, 1954, 16, 34357, 54805, 1019, 18, 4]),\n",
       "       list([2, 9271, 2243, 16, 2095, 3003, 1907, 2808, 40618, 1013, 35183, 47149, 1910, 2455, 1980, 2080, 18, 4]),\n",
       "       list([2, 9271, 2243, 16, 2095, 3003, 1907, 15450, 2039, 4034, 1889, 18, 4]),\n",
       "       list([2, 9271, 2243, 16, 2095, 30973, 4967, 4822, 1905, 14652, 3367, 1008, 16, 2095, 23810, 1909, 2079, 5556, 55350, 12026, 6190, 1905, 4133, 65, 8949, 2376, 46024, 2021, 7284, 2886, 1949, 16, 43, 37613, 27215, 2118, 27698, 2761, 8663, 12522, 2416, 10755, 2231, 46669, 1013, 1937, 5963, 1014, 5999, 44014, 3012, 18, 4]),\n",
       "       list([2, 9271, 2243, 16, 2095, 4277, 9314, 4664, 2689, 4]),\n",
       "       list([2, 9271, 2243, 16, 2095, 2191, 65, 7596, 16, 2437, 11653, 40262, 16, 10342, 1022, 27600, 18288, 5815, 6985, 18, 4]),\n",
       "       list([2, 9271, 2243, 16, 2095, 1907, 2783, 17, 6335, 2759, 13645, 1908, 68, 8049, 7716, 16, 2212, 27544, 15075, 1895, 11560, 1896, 20614, 14535, 27134, 11563, 16, 4984, 38590, 1961, 28, 1906, 2654, 16, 1935, 2216, 40689, 5474, 1890, 65, 17797, 9669, 18, 4]),\n",
       "       list([2, 9271, 2243, 16, 2095, 1907, 3556, 2846, 7634, 25485, 47789, 18, 4]),\n",
       "       list([2, 9271, 2243, 16, 2095, 1907, 1893, 2436, 6238, 18, 4]),\n",
       "       list([2, 9271, 2243, 16, 2095, 2915, 5907, 1897, 2116, 2707, 34074, 1890, 10300, 1005, 26656, 22897, 18255, 1911, 7433, 1013, 51, 43531, 68, 5335, 18, 4]),\n",
       "       list([2, 9271, 2243, 18, 2095, 18, 40468, 8274, 1906, 11920, 3172, 18, 21899, 1948, 3551, 2380, 18, 55792, 13346, 55780, 31474, 1013, 24317, 8050, 39430, 5545, 18, 19036, 2076, 46667, 1889, 3272, 1888, 9924, 4]),\n",
       "       list([2, 3006, 9271, 2243, 16, 2095, 30699, 1907, 1911, 4827, 51, 24421, 6738, 4856, 15487, 19442, 18, 4]),\n",
       "       list([2, 58689, 16, 2198, 9271, 2243, 16, 2095, 61, 18, 47, 18, 51, 18, 45, 18, 45, 18, 48, 18, 1893, 1919, 65, 3100, 15374, 14109, 3858, 6803, 4694, 14106, 16, 5138, 1011, 3819, 1005, 32979, 2483, 13951, 2243, 68, 5299, 2241, 2251, 3552, 39050, 18, 4]),\n",
       "       list([2, 2114, 2923, 3173, 4830, 12426, 1941, 13059, 4721, 68, 4139, 20983, 34386, 2281, 68, 29339, 1012, 16, 2827, 1896, 6221, 9271, 2243, 16, 2095, 29117, 1906, 12426, 1941, 13059, 4721, 23175, 2165, 1893, 1919, 65, 3100, 7212, 1015, 30061, 18, 4]),\n",
       "       list([2, 2243, 9271, 2095, 1950, 2259, 4515, 38384, 1937, 11173, 21090, 40699, 2243, 65, 3809, 17167, 8248, 1931, 4]),\n",
       "       list([2, 3096, 9271, 2243, 16, 2095, 37374, 18096, 2117, 2243, 68, 13893, 18, 4]),\n",
       "       list([2, 1950, 16, 9271, 2243, 16, 2095, 8432, 4224, 1914, 2114, 5445, 21310, 4056, 15108, 65, 3402, 15869, 10468, 23854, 33857, 1012, 30368, 1909, 68, 9615, 17906, 18092, 16, 34357, 5181, 2243, 12795, 12, 43, 41284, 3289, 25421, 1919, 12999, 13, 16, 5181, 2243, 8640, 1889, 51, 2114, 9011, 3530, 5386, 2760, 2185, 12026, 7799, 5577, 1013, 1898, 4901, 2476, 611, 1893, 1919, 9463, 18, 4]),\n",
       "       list([2, 2191, 2114, 2923, 2254, 16, 1896, 23826, 16, 12566, 2020, 2359, 1898, 1986, 3493, 1906, 7253, 2416, 16, 43, 2244, 4019, 7563, 1906, 4237, 16, 9271, 2243, 16, 2095, 37374, 12406, 2243, 1906, 33469, 16, 2062, 18, 18, 18, 21370, 3228, 26105, 1898, 6361, 18, 4]),\n",
       "       list([2, 1907, 52540, 1931, 43541, 16, 2062, 1969, 24001, 5174, 18867, 1889, 9271, 2243, 16, 2095, 44103, 13951, 1898, 48712, 21103, 1949, 2811, 68, 17207, 10325, 2671, 21833, 3543, 65, 4877, 4]),\n",
       "       list([2, 1907, 16, 2095, 50850, 7133, 2243, 2224, 44851, 58916, 7889, 1022, 16, 9271, 2243, 3121, 8559, 1889, 1906, 4062, 8377, 18, 4]),\n",
       "       list([2, 65, 52164, 2243, 9271, 16, 2095, 3985, 24157, 18, 4]),\n",
       "       list([2, 65, 17302, 9271, 2243, 16, 2095, 12672, 1906, 10997, 2189, 1898, 5635, 15427, 1919, 11964, 1008, 1006, 3138, 51, 58342, 18, 4]),\n",
       "       list([2, 13982, 28509, 9271, 2243, 16, 2095, 2881, 1890, 1906, 16787, 16, 34357, 18274, 2692, 16252, 16, 3949, 53023, 1924, 7221, 3118, 51, 17475, 5252, 2241, 2058, 2450, 12586, 5644, 1886, 1978, 2254, 18, 4]),\n",
       "       list([2, 51, 1935, 2243, 9271, 35, 2095, 33747, 1008, 68, 2292, 3089, 8105, 26143, 56727, 2643, 18, 4]),\n",
       "       list([2, 12021, 2243, 3289, 2063, 16, 2095, 8741, 6285, 40221, 32599, 6284, 2052, 40289, 16, 38053, 11470, 50217, 2243, 18, 18, 18, 20674, 25607, 1008, 65, 30738, 1886, 18, 4]),\n",
       "       list([2, 12021, 2243, 2095, 18, 65, 11267, 1909, 43942, 1942, 3898, 2231, 14629, 20417, 15103, 3172, 18, 3003, 65, 11267, 1909, 20558, 50217, 1949, 4]),\n",
       "       list([2, 12021, 2243, 16, 2095, 24171, 17, 10035, 11508, 7957, 20429, 1911, 46896, 18, 18, 18, 2881, 33527, 2004, 1906, 2840, 10857, 17, 36449, 1980, 18, 4]),\n",
       "       list([2, 43, 2095, 2204, 12021, 2243, 16, 2095, 1919, 1907, 5863, 16, 1907, 8200, 3347, 6, 18, 4]),\n",
       "       list([2, 6959, 5826, 2502, 2437, 24700, 12940, 43436, 2103, 16, 2021, 1907, 53484, 16, 2021, 57434, 1020, 16, 43, 2198, 12114, 2243, 1902, 20938, 12379, 1015, 16, 12021, 2243, 16, 2095, 2863, 2216, 16, 1951, 22719, 18825, 3012, 6821, 1014, 16, 35648, 2204, 8822, 2033, 2461, 16, 6460, 16, 10388, 1015, 18, 4]),\n",
       "       list([2, 4248, 12821, 25036, 2180, 17422, 2047, 16, 2095, 11345, 9076, 1015, 11360, 57, 53200, 2527, 1890, 40276, 16, 58689, 6058, 12021, 2243, 16, 2095, 1898, 2527, 1888, 1893, 1994, 9437, 58238, 611, 18803, 52, 18, 4903, 1960, 5129, 18, 4]),\n",
       "       list([2, 12021, 2243, 2827, 16, 2095, 14595, 3012, 2032, 4816, 9427, 14104, 9667, 51, 8684, 1919, 6782, 18192, 65, 47200, 23319, 65, 8950, 35936, 1923, 17077, 5011, 18, 4]),\n",
       "       list([2, 12021, 2243, 2827, 16, 2095, 19671, 1893, 1994, 3126, 58238, 16, 1947, 3545, 7400, 1015, 24509, 2783, 17956, 34863, 7234, 1905, 1006, 43942, 19278, 4832, 15142, 18, 4]),\n",
       "       list([2, 12021, 2243, 2095, 2827, 67, 1013, 2141, 68, 35435, 2855, 1889, 1893, 42911, 2243, 1898, 33752, 1889, 45095, 54360, 1013, 1911, 2884, 12522, 4997, 4]),\n",
       "       list([2, 12021, 2243, 2095, 1937, 46667, 1013, 3003, 54636, 2095, 68, 4021, 9612, 3063, 38220, 18, 4]),\n",
       "       list([2, 12021, 2243, 2095, 1937, 46667, 1013, 3003, 54636, 2095, 68, 4021, 9612, 3063, 38220, 18, 4]),\n",
       "       list([2, 12021, 2243, 16, 2095, 36605, 65, 2608, 22200, 5958, 3846, 65, 39355, 3764, 13711, 18, 4]),\n",
       "       list([2, 12021, 2243, 16, 2095, 11003, 52362, 4384, 33476, 2004, 65, 8085, 13085, 2148, 51, 2763, 12522, 3367, 16609, 2004, 65, 7810, 1919, 9011, 2298, 23319, 11130, 7443, 18, 4]),\n",
       "       list([2, 12021, 2243, 16, 2095, 1950, 13512, 1961, 2254, 18, 4]),\n",
       "       list([2, 12021, 2243, 16, 2095, 65, 18, 32786, 3881, 8549, 2150, 10061, 2503, 26596, 16, 43, 2934, 2807, 1886, 2239, 7325, 16, 7014, 621, 17052, 1028, 620, 16, 21129, 16, 34357, 65, 621, 10786, 1927, 3447, 48544, 1012, 16, 31930, 1012, 14834, 1886, 620, 47527, 2436, 57, 1907, 22225, 3117, 38551, 1013, 19, 54729, 36979, 2942, 2973, 2243, 625, 24590, 1954, 4915, 7306, 1019, 625, 19, 51, 13991, 2717, 55690, 625, 5049, 10530, 1905, 19, 43, 37800, 1015, 35888, 4055, 33891, 1007, 65, 4055, 33891, 1007, 15897, 19, 2884, 1013, 14690, 1037, 35360, 21499, 51, 5050, 1007, 5050, 1007, 19, 17, 1907, 3694, 4488, 2098, 18486, 18, 4]),\n",
       "       list([2, 12021, 2243, 16, 2095, 9011, 3530, 5386, 1893, 3904, 3916, 2942, 1022, 5107, 5681, 51, 10222, 1942, 16, 7544, 3219, 65, 19861, 31636, 51, 46922, 1938, 18, 4]),\n",
       "       list([2, 12021, 2243, 16, 2095, 2095, 7014, 29801, 4955, 1015, 18, 4]),\n",
       "       list([2, 12021, 2243, 16, 2095, 65, 4387, 11427, 57, 32299, 28130, 14719, 3209, 15816, 2343, 39435, 13145, 23166, 1919, 4208, 2999, 12599, 1886, 28343, 23319, 1969, 39554, 10039, 4249, 9928, 5684, 16, 3872, 1951, 8397, 20651, 16, 47996, 33864, 33857, 2021, 36680, 1898, 56208, 1926, 18, 4]),\n",
       "       list([2, 43067, 11524, 2243, 2095, 1937, 1987, 18, 1937, 49603, 2382, 68, 34357, 1998, 4594, 13951, 1906, 8927, 18, 43067, 6813, 2243, 2228, 18, 49275, 2103, 1898, 1898, 8857, 2076, 17786, 4]),\n",
       "       list([2, 43067, 11524, 2243, 18, 2095, 2349, 1906, 8927, 68, 5829, 38384, 5181, 2243, 2079, 1935, 18, 3985, 44862, 5119, 2210, 49603, 2382, 4]),\n",
       "       list([2, 21943, 41994, 12682, 2626, 31571, 3082, 2114, 30858, 8427, 23862, 2063, 16, 1935, 10880, 2021, 13654, 11193, 43864, 4579, 16, 43, 2063, 16, 1935, 37762, 16, 7211, 28120, 7086, 65, 14225, 20653, 9175, 16, 2198, 1907, 12021, 2243, 16, 2095, 4927, 4944, 5121, 1912, 30272, 65, 33986, 20618, 18, 4]),\n",
       "       list([2, 3410, 1893, 2783, 19725, 16, 28648, 17, 12021, 2243, 17, 2095, 1950, 18, 4]),\n",
       "       list([2, 2243, 12021, 2095, 4293, 12870, 5039, 36286, 1924, 1893, 2783, 2611, 35654, 16609, 1888, 11023, 2047, 5377, 14109, 51, 2227, 2114, 2292, 56014, 2616, 1893, 2208, 22136, 1015, 4]),\n",
       "       list([2, 1907, 2243, 12021, 2095, 1907, 1919, 23862, 5153, 2170, 13575, 28435, 2170, 18, 43, 1893, 24313, 18751, 18, 4]),\n",
       "       list([2, 2352, 1951, 2243, 5369, 1898, 2618, 16204, 25347, 1897, 65, 3390, 1990, 56001, 2243, 12021, 2095, 13781, 1893, 1994, 6388, 2021, 1907, 2150, 7466, 1954, 26322, 2021, 1907, 2150, 3785, 23553, 34357, 3778, 3106, 3074, 35936, 2021, 2259, 5222, 2011, 18428, 24529, 45362, 1008, 17207, 10325, 2615, 2021, 2143, 8248, 2615, 11481, 4]),\n",
       "       list([2, 65, 29343, 12522, 21502, 1995, 3076, 2243, 2847, 14595, 2686, 6877, 1956, 1007, 31, 12021, 2243, 16, 2095, 6839, 2344, 4575, 12717, 16, 43026, 1013, 6298, 5353, 3981, 8549, 16, 1919, 7642, 3519, 31015, 1910, 4854, 1892, 2030, 3675, 1037, 17, 22174, 1008, 16, 34357, 33869, 38185, 24094, 2847, 2545, 1017, 4877, 18, 4]),\n",
       "       list([2, 68, 17220, 5227, 1007, 12021, 2243, 16, 2095, 65, 12676, 7673, 3999, 12750, 2675, 4632, 10024, 68, 5515, 32037, 1012, 51, 65, 35674, 2273, 18, 4]),\n",
       "       list([2, 39594, 4349, 6095, 1958, 16, 2095, 49035, 14634, 2215, 3622, 50853, 2114, 9184, 3324, 8124, 16, 1907, 47113, 1887, 4268, 12026, 32871, 1954, 1906, 17721, 4249, 29725, 53508, 14104, 2114, 13074, 3347, 18, 4]),\n",
       "       list([2, 4145, 6623, 15542, 16, 1969, 19268, 68, 6603, 1922, 6113, 1011, 11316, 2024, 16, 2095, 12863, 47775, 7409, 1007, 1898, 19352, 17, 18803, 47922, 2452, 18, 4]),\n",
       "       list([2, 2007, 3096, 32577, 2117, 2243, 16, 2095, 1893, 1919, 2030, 3582, 16, 4719, 11634, 3024, 43864, 1018, 12, 65, 3290, 53508, 14104, 1961, 32595, 16951, 11668, 17, 2500, 2098, 57, 1907, 16, 14294, 3820, 2210, 1893, 4706, 1890, 2033, 16, 43, 2499, 34179, 1935, 18803, 1008, 13, 4]),\n",
       "       list([2, 10481, 2277, 4328, 52795, 1019, 2243, 32577, 14109, 16, 2095, 9145, 2149, 1893, 14321, 65, 5296, 7673, 3932, 4941, 2006, 25036, 3152, 18, 4]),\n",
       "       list([2, 19304, 50850, 21280, 7767, 16, 2095, 2268, 10589, 1890, 43067, 3331, 2461, 24967, 17956, 5386, 65, 8779, 4761, 4589, 16, 2177, 1015, 17, 21313, 17, 21382, 2483, 46632, 65, 24457, 68, 15851, 1914, 18, 4]),\n",
       "       list([2, 27717, 19058, 11049, 1922, 16, 38053, 1037, 22, 17, 22749, 51535, 30948, 2243, 65, 5366, 18605, 7209, 1969, 10367, 2165, 1898, 10704, 38895, 16, 21280, 2020, 68, 2608, 8733, 3173, 2098, 1907, 16, 2095, 4517, 3059, 25271, 2055, 16, 2244, 44925, 1898, 17442, 3221, 54577, 17574, 1886, 2122, 5561, 3247, 2802, 51, 22736, 33167, 56208, 1897, 40937, 48544, 68, 3247, 4897, 18, 4]),\n",
       "       list([2, 21280, 32165, 1013, 46632, 16, 2095, 29480, 2468, 56414, 2095, 12785, 42374, 14897, 2325, 12508, 3228, 35109, 2115, 46292, 2103, 4414, 68, 13963, 2423, 11655, 52324, 17135, 16997, 4258, 18, 4]),\n",
       "       list([2, 7256, 3367, 16609, 32602, 7498, 52636, 1013, 16, 2095, 24334, 5272, 2314, 1005, 1919, 3417, 2437, 1956, 5130, 2039, 33747, 2061, 68, 2292, 4]),\n",
       "       list([2, 3063, 1969, 2063, 21280, 41465, 16, 2095, 3737, 6459, 68, 22498, 2504, 40711, 1985, 13418, 58354, 16, 48570, 10865, 2500, 57, 7673, 44395, 50773, 15135, 18, 4]),\n",
       "       list([2, 3063, 13654, 21280, 41465, 16, 2095, 2376, 5386, 4249, 24975, 12410, 1890, 68, 40734, 29799, 4579, 6377, 1906, 4955, 2643, 18, 4]),\n",
       "       list([2, 3895, 21280, 41465, 16, 2095, 2530, 9076, 2243, 68, 35054, 1914, 1889, 18, 4]),\n",
       "       list([2, 4027, 1014, 1898, 12525, 2095, 1919, 6711, 4]),\n",
       "       list([2, 46301, 51, 39864, 1893, 57752, 16, 2095, 40221, 4594, 6392, 16, 5483, 2325, 5137, 1014, 18, 4]),\n",
       "       list([2, 20855, 15044, 1017, 37735, 7167, 2243, 1969, 5777, 16, 2095, 11584, 9437, 5756, 17650, 1020, 30, 6, 2021, 15880, 2424, 1994, 7594, 35, 4094, 1994, 6, 18, 4]),\n",
       "       list([2, 15556, 1896, 3949, 53023, 1013, 41502, 1899, 7970, 12191, 21635, 2243, 28984, 16, 1951, 1961, 35387, 15075, 1895, 16, 51, 3241, 22237, 16, 2095, 8182, 22566, 1892, 2243, 65, 2524, 5261, 16, 2095, 3869, 3430, 26716, 1013, 50590, 1013, 58461, 7518, 7295, 25607, 51, 2095, 1898, 14486, 1919, 34252, 3415, 16, 38053, 31135, 41262, 2203, 2243, 2114, 2840, 18, 4]),\n",
       "       list([2, 3759, 16609, 1898, 39345, 1931, 18604, 59686, 2131, 1898, 21197, 4955, 31147, 37102, 12, 1898, 2564, 10646, 5332, 6459, 1015, 7717, 6540, 6612, 7123, 18, 13716, 13, 29801, 2243, 45127, 1015, 16, 2095, 4258, 21197, 1906, 9909, 2243, 3778, 4036, 1890, 1019, 68, 22, 16, 28, 12571, 7123, 18, 65, 8306, 60, 18, 1906, 3618, 24, 12571, 3874, 58689, 18, 4]),\n",
       "       list([2, 9523, 8415, 1889, 50794, 15778, 2622, 20586, 1989, 2382, 2376, 4046, 2154, 1016, 2906, 5139, 4412, 2074, 16, 1893, 26467, 29233, 16, 2095, 5202, 2353, 2461, 2098, 23016, 1016, 31715, 48237, 16, 38794, 17861, 13383, 3884, 7858, 18, 4]),\n",
       "       list([2, 2915, 3727, 16, 3223, 3075, 20421, 12090, 1911, 1907, 16, 2095, 65, 5341, 5029, 36364, 7167, 2243, 2011, 3482, 2488, 3630, 2344, 1889, 17, 18803, 14467, 1018, 18, 4]),\n",
       "       list([2, 2292, 2893, 2456, 1893, 23786, 16, 2095, 22457, 4217, 2011, 35237, 18, 4]),\n",
       "       list([2, 2845, 13654, 25164, 22429, 24130, 2117, 16, 2095, 1898, 52225, 5007, 18755, 31147, 1005, 8158, 16, 1951, 51, 2898, 16, 43, 5005, 3972, 2243, 5299, 10341, 7415, 37674, 2983, 44443, 1905, 20465, 27071, 16, 1950, 1951, 1907, 8255, 3445, 47082, 1011, 5922, 2013, 18, 4]),\n",
       "       list([2, 2173, 13594, 16, 2095, 12054, 19398, 45237, 2380, 16, 10010, 53447, 51, 30100, 2148, 1893, 2959, 26086, 44166, 16, 6284, 16, 2095, 1969, 13589, 7404, 1906, 15062, 58274, 3513, 2470, 34291, 2319, 1889, 2456, 1893, 21280, 32165, 1005, 16, 43, 8090, 2456, 1893, 55504, 16, 2095, 13947, 3359, 14332, 1015, 1937, 29139, 18, 4]),\n",
       "       list([2, 2007, 13654, 1919, 7267, 44853, 29480, 1907, 2095, 2499, 1893, 1919, 39349, 3707, 2141, 1893, 5261, 4]),\n",
       "       list([2, 5676, 23562, 16, 2095, 29502, 65, 2217, 7673, 4612, 3547, 2773, 1889, 37435, 17, 33495, 65, 3584, 11351, 7515, 2150, 6509, 18, 4]),\n",
       "       list([2, 15086, 1007, 1978, 4955, 2834, 2511, 68, 16809, 29896, 35864, 16, 2095, 29801, 53441, 41464, 15075, 2243, 57, 2485, 2824, 51, 4849, 1015, 1911, 24509, 11378, 31015, 17, 2429, 36603, 18, 4]),\n",
       "       list([2, 20037, 3309, 4304, 1011, 1988, 23562, 16, 2095, 2530, 1919, 15960, 2298, 2898, 22219, 1010, 4921, 11959, 37982, 2869, 1012, 9229, 2594, 17504, 16, 1898, 34357, 1897, 29460, 3377, 20867, 5258, 3003, 2376, 21535, 2122, 1906, 6791, 2031, 38451, 26896, 2484, 3088, 1942, 18, 4]),\n",
       "       list([2, 65, 7281, 3945, 6221, 20518, 13594, 16, 2095, 2202, 1947, 2015, 10344, 21129, 3880, 2846, 19646, 1893, 22423, 16, 2191, 5557, 1951, 2098, 3972, 6068, 18, 4]),\n",
       "       list([2, 4364, 2006, 9905, 41465, 56059, 1008, 51, 4760, 16609, 16, 2095, 65, 7499, 1893, 2349, 12925, 1037, 2468, 53962, 18, 4]),\n",
       "       list([2, 1907, 10307, 2095, 1893, 18, 2095, 1893, 2349, 1906, 8927, 68, 7632, 1008, 2827, 5431, 45911, 2098, 7438, 3896, 56897, 6630, 25470, 5969, 18, 5969, 20733, 4]),\n",
       "       list([2, 56727, 2643, 44184, 1889, 21015, 38495, 1008, 16, 2095, 2363, 9011, 2298, 6328, 16, 2063, 26726, 26773, 2009, 1017, 18, 4]),\n",
       "       list([2, 39031, 2788, 16, 2095, 4977, 2259, 22611, 6643, 56208, 32599, 45312, 16, 2095, 31783, 1980, 12283, 1008, 2363, 6676, 18, 4]),\n",
       "       list([2, 55586, 16, 2095, 2212, 10162, 2234, 1893, 5007, 16, 43, 1893, 39031, 8497, 1011, 16, 2095, 4338, 14786, 17605, 12791, 1893, 34415, 1900, 18, 4]),\n",
       "       list([2, 39031, 2788, 16, 2095, 2167, 2254, 2787, 2150, 1907, 36494, 1954, 56212, 25170, 1886, 1015, 18, 4]),\n",
       "       list([2, 2460, 2059, 1015, 14102, 38685, 39031, 1916, 16, 2095, 1893, 25397, 2243, 3126, 5994, 65, 1950, 8554, 4941, 11385, 18, 4]),\n",
       "       list([2, 2098, 2310, 18, 48748, 2281, 1893, 39031, 2110, 2281, 2095, 1898, 2550, 18, 4]),\n",
       "       list([2, 3294, 1893, 22978, 2298, 1978, 2243, 65, 11516, 3273, 3386, 1954, 8249, 35083, 16, 29801, 1947, 39031, 2788, 16, 2095, 1907, 4728, 31390, 10398, 18, 4]),\n",
       "       list([2, 2234, 1893, 19636, 16611, 1015, 1898, 1907, 16, 2095, 3774, 10832, 52697, 1008, 17, 51, 2021, 2366, 16, 2021, 1893, 16, 68, 2891, 19636, 13364, 1015, 2323, 19636, 2271, 1893, 31792, 1015, 18, 4]),\n",
       "       list([2, 2426, 2351, 1970, 16, 2095, 5253, 1906, 47368, 2065, 625, 4]),\n",
       "       list([2, 27372, 3532, 1970, 16, 2095, 2260, 9437, 3223, 1893, 11594, 625, 4]),\n",
       "       list([2, 50451, 33527, 1014, 2114, 4977, 2034, 1014, 50100, 17, 67, 3459, 2047, 16, 2095, 1893, 27069, 4478, 1015, 611, 18803, 4012, 68, 4479, 2967, 5832, 12, 5519, 11535, 29563, 13, 18, 4]),\n",
       "       list([2, 16976, 15412, 16, 4431, 18097, 2382, 14138, 65, 3706, 18, 3309, 65, 3876, 18, 22, 2412, 3706, 18, 3548, 65, 3876, 18, 23, 51, 24, 49005, 2047, 8554, 3263, 1955, 14104, 11193, 43864, 68, 14220, 4921, 45734, 20618, 23071, 1037, 1906, 41129, 65, 3291, 15826, 10053, 2412, 11267, 17956, 34863, 38590, 2505, 2537, 2601, 34492, 1926, 3291, 15826, 2904, 16, 38384, 9375, 16, 2095, 27384, 1893, 3485, 1008, 18471, 6189, 22978, 1016, 2100, 5362, 1935, 1906, 34492, 1926, 3090, 40554, 18, 4]),\n",
       "       list([2, 2352, 1907, 25240, 6524, 44208, 1897, 13946, 16374, 6183, 51, 11027, 54139, 1919, 5687, 8943, 2039, 3337, 25607, 16, 16652, 16, 34357, 9375, 16, 2095, 1893, 27069, 3337, 25607, 6131, 1015, 1911, 2376, 5386, 10649, 1924, 51, 12612, 18, 4]),\n",
       "       list([2, 2610, 1937, 24007, 3459, 2047, 16, 2095, 2349, 1906, 8927, 68, 4012, 68, 8196, 12845, 5214, 2328, 65, 4877, 18, 4]),\n",
       "       list([2, 1893, 3256, 52721, 1015, 1893, 3524, 16, 2095, 1907, 47022, 14294, 18, 4]),\n",
       "       list([2, 55943, 1970, 55869, 12379, 1015, 1902, 68, 12102, 4207, 48410, 1012, 11130, 36848, 16, 9476, 19996, 16, 2095, 2282, 33822, 2092, 23836, 9107, 2293, 3003, 2063, 4338, 16, 1935, 63, 2432, 9346, 3171, 1889, 33822, 2092, 1906, 21713, 18, 4]),\n",
       "       list([2, 19527, 7706, 1907, 16, 2095, 4048, 3118, 2898, 1890, 1019, 48570, 5384, 33790, 3731, 1900, 3475, 18, 4]),\n",
       "       list([2, 2007, 9437, 1898, 29428, 7045, 6494, 2214, 16, 2095, 2243, 1950, 50561, 17, 24529, 1923, 3884, 2164, 18, 4]),\n",
       "       list([2, 2451, 16, 2095, 1950, 4579, 29152, 2281, 57, 2555, 18, 4]),\n",
       "       list([2, 2451, 16, 2095, 2243, 8823, 5618, 1014, 16, 2007, 2474, 2863, 1951, 2013, 47974, 16609, 1942, 16068, 1907, 16, 57, 2564, 2013, 2803, 18803, 1931, 51, 11594, 2096, 1019, 2243, 2376, 1011, 1906, 2079, 44600, 10430, 1015, 18, 4]),\n",
       "       list([2, 2616, 2286, 4322, 30, 32521, 51, 28066, 12313, 2243, 29468, 16, 1951, 2228, 1919, 59055, 1008, 16, 4207, 12818, 1919, 1907, 16, 2095, 2243, 44908, 16, 28066, 12313, 2243, 2079, 16, 2095, 1919, 29946, 4132, 1924, 16, 51, 2204, 16, 1898, 2271, 8870, 16, 4849, 2095, 10992, 2241, 29946, 2123, 18, 4]),\n",
       "       list([2, 2413, 15893, 14104, 10083, 1890, 2033, 16, 2095, 2013, 2011, 2047, 1019, 3409, 10535, 35, 4]),\n",
       "       list([2, 46632, 4949, 14317, 2788, 16, 2095, 1896, 30989, 3208, 40221, 2030, 18610, 56208, 1926, 18, 4]),\n",
       "       list([2, 1893, 25192, 16, 2095, 11594, 2006, 8227, 2141, 1006, 16, 2508, 2096, 1019, 49067, 1015, 2281, 8626, 1014, 18, 4]),\n",
       "       list([2, 14317, 4050, 16, 2095, 2227, 10819, 1938, 1906, 18610, 14365, 18, 4]),\n",
       "       list([2, 9595, 1893, 25192, 1013, 2827, 16, 2095, 21409, 18451, 14104, 37702, 1922, 2443, 3059, 15739, 11594, 2096, 1019, 2243, 32510, 27071, 2095, 14356, 2800, 15946, 1012, 35677, 3209, 16, 43, 2456, 5662, 2602, 1015, 2239, 16383, 18, 4]),\n",
       "       list([2, 2006, 20728, 1014, 2006, 20728, 2103, 16, 4263, 2021, 4095, 8509, 37292, 2165, 50178, 14504, 1007, 2074, 25192, 1008, 16, 2095, 5149, 43751, 1927, 2114, 14454, 26541, 51, 44323, 1980, 5877, 1924, 4955, 1015, 8818, 27972, 1012, 35, 4]),\n",
       "       list([2, 9271, 2243, 16, 2095, 30973, 4967, 4822, 1905, 14652, 3367, 1008, 16, 2095, 23810, 1909, 2079, 5556, 55350, 12026, 6190, 1905, 4133, 65, 8949, 2376, 46024, 2021, 7284, 2886, 1949, 16, 43, 37613, 27215, 2118, 27698, 2761, 8663, 12522, 2416, 10755, 2231, 46669, 1013, 1937, 5963, 1014, 5999, 44014, 3012, 18, 4]),\n",
       "       list([2, 21085, 1943, 16, 2095, 9595, 16020, 1927, 1961, 8107, 16388, 2435, 57, 4619, 1006, 1893, 4249, 57297, 2115, 6215, 18, 4]),\n",
       "       list([2, 5893, 1927, 16, 2095, 37702, 2279, 20519, 1007, 17, 5149, 43751, 2112, 16, 31040, 17, 42151, 2047, 2243, 6, 11197, 8206, 6, 15323, 16, 43, 42169, 13028, 12, 41468, 18803, 16609, 16, 5626, 14535, 52697, 16609, 1008, 12601, 24976, 13, 4728, 1898, 5347, 7886, 2243, 2239, 44530, 51, 10794, 39743, 16, 24638, 29233, 4787, 37702, 1018, 2376, 27508, 1949, 58970, 2118, 18, 4]),\n",
       "       list([2, 2474, 1893, 4900, 7803, 19142, 1013, 16, 1947, 37354, 2788, 16, 2095, 14195, 57, 37702, 1946, 5431, 25370, 4348, 1961, 14370, 4375, 1011, 3819, 2643, 51, 4551, 6778, 1907, 12612, 14039, 3846, 18, 4]),\n",
       "       list([2, 55708, 16, 2095, 2244, 23, 3527, 2787, 44303, 11134, 9797, 16, 10100, 2150, 6524, 24461, 25347, 51, 3063, 2216, 40450, 1015, 2243, 68, 6803, 4694, 44606, 1998, 16, 34357, 1897, 8415, 6974, 25607, 6103, 20492, 1019, 18, 4]),\n",
       "       list([2, 3635, 9948, 37354, 2788, 16, 2095, 6023, 1019, 5310, 1905, 52697, 1008, 3641, 47299, 11586, 56285, 18, 4]),\n",
       "       list([2, 21085, 1943, 16, 2095, 3417, 2274, 8828, 54737, 44552, 33405, 2783, 1007, 15252, 59547, 39307, 65, 3584, 9834, 2788, 1938, 2450, 3219, 4]),\n",
       "       list([2, 21085, 1943, 16, 2095, 8730, 1916, 3166, 56350, 2483, 2011, 41259, 35338, 65, 6108, 11192, 1021, 51, 23260, 1909, 18, 4]),\n",
       "       list([2, 21085, 1943, 16, 2095, 43588, 3874, 17330, 16, 36378, 4785, 44, 16, 12508, 2168, 65, 16473, 15411, 42627, 2004, 1896, 26223, 27, 30, 22, 3477, 17, 25470, 1010, 13864, 9922, 1922, 14316, 16, 65, 5636, 16473, 13125, 19424, 1914, 23, 30, 20, 30652, 1028, 4768, 7719, 1018, 16, 65, 4761, 1896, 3053, 1931, 5311, 22, 30, 21, 54, 1006, 1011, 3876, 3543, 18, 4]),\n",
       "       list([2, 51, 22148, 16, 2095, 12971, 51, 10192, 10619, 6873, 11023, 1015, 2095, 42056, 7027, 1015, 16, 43, 4544, 4277, 1015, 18257, 57425, 6023, 4924, 2783, 1007, 18, 4]),\n",
       "       list([2, 1893, 6601, 1982, 16, 2095, 4008, 7283, 1013, 2013, 3983, 11920, 3172, 1893, 5332, 9437, 18257, 57425, 39868, 9585, 4224, 58329, 1897, 51, 15905, 35947, 16, 43, 3270, 18312, 55350, 15432, 1015, 57, 17585, 10364, 16, 2495, 3791, 1889, 7908, 51, 10720, 27071, 65, 58013, 5403, 24461, 2904, 16, 1907, 11003, 2587, 6873, 32599, 9011, 2010, 3761, 57522, 65, 10517, 8050, 3272, 1888, 8483, 18, 4]),\n",
       "       list([2, 55943, 37354, 2788, 16, 2095, 65, 16610, 60, 18, 20078, 2243, 5557, 1015, 5156, 59119, 7122, 1014, 65, 11750, 6871, 32588, 6, 11437, 4773, 3928, 1908, 6, 65, 13972, 17128, 2688, 18, 4]),\n",
       "       list([2, 10865, 4217, 57, 5267, 12691, 16, 38384, 44814, 2013, 5384, 15329, 43249, 16, 1907, 5893, 1927, 16, 2095, 22710, 3324, 7283, 2231, 18803, 1948, 57, 40035, 3642, 16, 2560, 45227, 7691, 65, 6616, 3858, 10188, 18, 4]),\n",
       "       list([2, 10481, 19228, 51711, 1007, 10348, 3035, 22148, 2827, 16, 2095, 1994, 9732, 15231, 1020, 4768, 1893, 58265, 15441, 2865, 2918, 1889, 68, 7544, 4711, 5635, 13801, 16, 4988, 18, 1935, 21618, 16, 1947, 7544, 1931, 29012, 3551, 1889, 68, 4176, 13556, 1893, 19326, 1005, 3272, 1888, 2012, 8126, 18, 4]),\n",
       "       list([2, 37354, 2788, 16, 2095, 30993, 8090, 65, 33747, 2004, 3950, 8517, 14109, 68, 15796, 18, 4]),\n",
       "       list([2, 65, 16259, 1037, 16, 20938, 43702, 1037, 25818, 2448, 4497, 5386, 2259, 24866, 2110, 15582, 16, 6979, 1951, 9629, 3807, 20227, 2061, 3057, 14658, 8494, 11249, 16, 13491, 16897, 2190, 16, 2021, 14876, 17150, 7019, 35094, 1008, 55756, 3607, 16, 34357, 17, 2524, 36506, 1019, 4223, 1961, 3949, 14658, 2126, 10531, 2033, 65, 25818, 2448, 16, 22148, 16, 2095, 68, 3057, 14658, 8494, 1008, 24346, 2239, 10988, 51, 2095, 11155, 2865, 3057, 14658, 32387, 5104, 41739, 1889, 18, 4]),\n",
       "       list([2, 65, 16259, 1037, 16, 20938, 43702, 1037, 25818, 2448, 4497, 5386, 2259, 24866, 2110, 15582, 16, 6979, 1951, 9629, 3807, 20227, 2061, 3057, 14658, 8494, 11249, 16, 13491, 16897, 2190, 16, 2021, 14876, 17150, 7019, 35094, 1008, 55756, 3607, 16, 34357, 17, 2524, 36506, 1019, 4223, 1961, 3949, 14658, 2126, 10531, 2033, 65, 25818, 2448, 16, 22148, 16, 2095, 68, 3057, 14658, 8494, 1008, 24346, 2239, 10988, 51, 2095, 11155, 2865, 3057, 14658, 32387, 5104, 41739, 1889, 18, 4]),\n",
       "       list([2, 43, 3895, 37354, 2788, 16, 2095, 1911, 42077, 2673, 6225, 14104, 1906, 2654, 4696, 19, 12087, 18, 13760, 2185, 11791, 1015, 1961, 2167, 1906, 4024, 14265, 18, 4]),\n",
       "       list([2, 21085, 1943, 16, 2095, 25470, 10793, 48544, 1897, 1898, 16764, 30981, 1893, 20078, 2243, 1898, 2239, 9825, 32397, 51, 38077, 1008, 41570, 6, 1906, 18862, 6, 18, 4]),\n",
       "       list([2, 21085, 1943, 16, 2095, 20614, 14535, 52911, 2787, 15346, 10492, 2243, 14305, 2416, 1898, 3347, 2851, 65, 46430, 18, 4]),\n",
       "       list([2, 21085, 1943, 16, 2095, 1898, 23531, 20656, 19540, 22, 30, 21, 18, 4]),\n",
       "       list([2, 21085, 1943, 16, 2095, 20656, 25068, 2243, 2432, 1015, 65, 11020, 5366, 15906, 16, 2202, 1919, 3548, 2468, 50813, 16, 23151, 3367, 16609, 68, 27664, 65, 11020, 36378, 1889, 68, 4176, 13556, 16, 34357, 1897, 1919, 8819, 6870, 18, 4]),\n",
       "       list([2, 29480, 2281, 33398, 16, 2095, 12548, 12472, 4310, 50930, 65, 5526, 18, 4]),\n",
       "       list([2, 43, 2198, 9437, 2150, 2011, 11438, 16, 22148, 2281, 16, 2095, 2185, 15882, 1015, 8415, 40067, 18, 4]),\n",
       "       list([2, 7470, 1018, 22148, 2281, 16, 2095, 2030, 29480, 4479, 2239, 13496, 16, 55431, 2031, 40637, 3068, 18, 4]),\n",
       "       list([2, 1911, 2808, 3527, 5446, 11594, 2281, 37354, 2788, 16, 2095, 2079, 17217, 42032, 1893, 2216, 18, 4]),\n",
       "       list([2, 12483, 22148, 2281, 16, 2095, 65, 2217, 2094, 7673, 15263, 20211, 37546, 36150, 5104, 15640, 2344, 1889, 2011, 36046, 1918, 18, 4]),\n",
       "       list([2, 2198, 20701, 12503, 3068, 65, 9025, 15527, 60, 18, 14357, 21613, 16609, 65, 9017, 10756, 30694, 7390, 1897, 3057, 1905, 34040, 20212, 65, 43173, 3166, 16, 1893, 2096, 1019, 36732, 1015, 16, 2095, 29480, 4375, 2537, 57297, 1019, 3703, 28648, 40155, 13883, 1889, 18, 4]),\n",
       "       list([2, 2893, 8399, 2726, 1893, 58184, 16, 2095, 5342, 1911, 2063, 30413, 44, 18, 16, 16439, 16, 53442, 1007, 25765, 47599, 2101, 12744, 52189, 621, 14597, 3668, 1918, 620, 18, 4]),\n",
       "       list([2, 2893, 16, 11942, 2893, 1893, 58184, 16, 2095, 9437, 7226, 1006, 2010, 54696, 1949, 5925, 1008, 1950, 37639, 8624, 16, 38053, 4375, 2537, 3538, 2047, 17290, 2320, 8167, 1889, 3676, 1007, 15759, 18, 4]),\n",
       "       list([2, 5010, 14497, 2243, 16, 2095, 2089, 11588, 6579, 7398, 51, 2426, 1970, 31343, 10794, 1898, 2239, 3653, 18, 4]),\n",
       "       list([2, 10865, 65, 12382, 60, 18, 3438, 22561, 18, 4832, 26222, 1005, 16, 2095, 3058, 35201, 1902, 6499, 33864, 16, 1907, 65, 2730, 33527, 1934, 3409, 55223, 2898, 1890, 1948, 9437, 2098, 27, 22561, 18, 16, 68, 2478, 8819, 24, 22561, 18, 14497, 1005, 16, 2095, 2246, 1907, 68, 39028, 18, 4]),\n",
       "       list([2, 19174, 1011, 17, 63, 9437, 1893, 1994, 16, 8024, 1905, 65, 2524, 1893, 1994, 6996, 17, 2426, 2461, 4114, 2537, 1978, 16, 34357, 14497, 16, 2095, 1950, 9007, 42829, 2243, 7286, 19174, 1011, 2216, 15265, 14175, 25607, 2865, 52533, 18, 4]),\n",
       "       list([2, 2959, 19136, 1917, 2752, 14959, 54807, 1909, 16, 53445, 5828, 18, 16997, 35936, 1008, 65, 18648, 11193, 1006, 1946, 34242, 1012, 16, 14497, 16, 2095, 1919, 621, 20843, 39948, 2568, 620, 30, 611, 3074, 2173, 5332, 2824, 23390, 18, 4]),\n",
       "       list([2, 2138, 49240, 2006, 9898, 16609, 5099, 1015, 16, 2095, 1907, 5783, 57, 616, 41009, 1013, 16, 2154, 1016, 2059, 43290, 1008, 16, 1994, 16383, 18, 4]),\n",
       "       list([2, 3294, 27600, 3356, 53508, 5386, 16, 1907, 10819, 2794, 1906, 7825, 16, 26166, 16, 2095, 2228, 5420, 2191, 2434, 14109, 18, 6, 4]),\n",
       "       list([2, 36604, 37722, 1955, 5386, 15780, 16609, 1008, 4309, 29850, 68, 22320, 30, 3347, 2140, 7872, 14497, 16, 2095, 2150, 65, 24783, 51, 24993, 16, 2095, 45497, 35685, 46896, 1961, 6981, 31056, 1978, 16, 57, 34357, 1012, 2924, 16, 2095, 1919, 55943, 13696, 9219, 18, 4]),\n",
       "       list([2, 11607, 68, 7899, 2483, 57957, 16, 2095, 39072, 3264, 1028, 2293, 56619, 50051, 2243, 63, 2891, 68, 9337, 2537, 2601, 2015, 10643, 1006, 18, 4]),\n",
       "       list([2, 2893, 1893, 5099, 16, 2095, 1898, 2239, 8390, 15212, 21123, 27022, 7892, 10393, 16, 9489, 1893, 42913, 3234, 8507, 18, 4]),\n",
       "       list([2, 2141, 4213, 2013, 16, 2094, 2013, 14497, 16, 2095, 1919, 8789, 18, 4]),\n",
       "       list([2, 7388, 14104, 44722, 32500, 16, 2021, 57937, 4988, 18, 1898, 27972, 1919, 9333, 2021, 1893, 1919, 12898, 2760, 16, 2062, 41284, 53681, 4343, 3737, 5099, 16, 2095, 1919, 23500, 16, 2007, 2098, 2011, 13730, 16, 2095, 2292, 1898, 1907, 2527, 1015, 18, 4]),\n",
       "       list([2, 4027, 16609, 3066, 17478, 55930, 16, 3063, 5099, 1015, 16, 2095, 15164, 44176, 65, 4074, 16026, 29799, 2047, 2847, 1906, 4955, 2643, 16, 10865, 2500, 57, 50704, 2382, 2021, 5460, 1006, 56208, 1926, 18, 4]),\n",
       "       list([2, 3006, 3167, 53449, 16, 2244, 15477, 14497, 16, 2095, 8554, 2031, 4258, 1919, 2191, 16835, 2568, 22925, 18, 4]),\n",
       "       list([2, 11700, 2437, 14454, 2114, 2923, 4247, 16, 2095, 3273, 3386, 2112, 33822, 3146, 16, 2177, 1015, 26166, 16, 2095, 2040, 2847, 4855, 16883, 1906, 5318, 2818, 4448, 1889, 18, 4]),\n",
       "       list([2, 12821, 4945, 57957, 16, 2095, 65, 5331, 16, 65, 34357, 1012, 32651, 36351, 16, 4017, 47922, 2452, 4256, 55495, 1890, 1019, 2138, 42090, 2931, 1020, 18, 4]),\n",
       "       list([2, 9383, 31836, 13567, 1007, 16076, 14497, 16, 2095, 2959, 5981, 33563, 15075, 1895, 16, 2007, 16497, 1905, 5083, 33025, 38685, 1907, 19864, 1007, 31836, 4]),\n",
       "       list([2, 9383, 33410, 12191, 2149, 14497, 16, 2095, 1907, 1898, 3544, 2039, 2840, 1911, 6776, 18, 4]),\n",
       "       list([2, 26166, 2827, 16, 2095, 46510, 2126, 1893, 5332, 5137, 1898, 34906, 2845, 2363, 2608, 58238, 2001, 3632, 15888, 1962, 18, 4]),\n",
       "       list([2, 26166, 16, 2095, 4450, 14535, 2134, 1898, 11693, 21713, 2434, 16, 43, 2783, 17956, 34863, 2040, 13175, 2243, 46810, 1015, 18, 4]),\n",
       "       list([2, 1907, 2474, 3168, 2899, 8512, 1898, 52225, 17, 8589, 6, 27972, 13232, 6, 57, 3119, 26500, 2537, 4636, 11267, 17956, 43016, 2061, 11193, 1006, 1946, 21117, 11683, 16230, 1021, 18607, 20689, 16, 34357, 14497, 16, 2095, 65, 13111, 1938, 1016, 2344, 2328, 12166, 1893, 40638, 1898, 11096, 1949, 51, 9778, 11146, 16, 2177, 1015, 68, 2388, 29480, 6790, 53035, 2243, 57, 19015, 41138, 18, 4]),\n",
       "       list([2, 11997, 5413, 15575, 1890, 3227, 32131, 25036, 2834, 3630, 14855, 57957, 16, 2095, 12261, 46674, 1898, 23973, 43811, 4967, 4822, 1889, 16, 57, 34357, 1897, 2652, 65, 54852, 14355, 18, 4]),\n",
       "       list([2, 65, 3757, 68, 4876, 9784, 2767, 25603, 4258, 3425, 7170, 14497, 16, 2095, 5184, 2904, 9229, 2162, 57, 18257, 57425, 23595, 8681, 3926, 1889, 57478, 5946, 17762, 57521, 51, 7836, 2281, 51250, 16, 2095, 7234, 1905, 1006, 8090, 2527, 1015, 2243, 2271, 25420, 18, 4]),\n",
       "       list([2, 65, 14197, 1897, 5907, 1897, 46551, 17455, 2012, 12, 8254, 1893, 3937, 54407, 13, 2898, 25347, 1897, 2241, 53052, 5438, 16, 25694, 57957, 16, 2095, 1906, 2614, 1013, 48690, 2946, 7546, 18, 4]),\n",
       "       list([2, 17, 2785, 12597, 2672, 13762, 68, 21193, 13366, 1021, 16, 2007, 2150, 28776, 4591, 7892, 2103, 3390, 25347, 1998, 65, 13451, 8599, 1013, 17, 52079, 1988, 16, 19940, 16609, 25605, 1905, 16, 2095, 2063, 2676, 19060, 9271, 2243, 1907, 12026, 3212, 33361, 57342, 18, 4]),\n",
       "       list([2, 36700, 16927, 1889, 14497, 16, 2095, 5959, 16, 65, 38053, 1037, 5946, 2185, 4001, 1015, 68, 24372, 16, 43, 11983, 68, 26694, 16, 1919, 17138, 18, 4]),\n",
       "       list([2, 5099, 1015, 3063, 16, 2095, 1893, 2216, 5458, 18, 4]),\n",
       "       list([2, 3063, 5099, 1015, 16, 2095, 1937, 6099, 2246, 1008, 2224, 1888, 4634, 14504, 18, 4]),\n",
       "       list([2, 3063, 5099, 1015, 16, 2095, 2651, 1020, 2572, 1019, 55943, 5968, 29233, 1008, 10065, 7170, 18, 4]),\n",
       "       list([2, 7438, 19386, 14606, 10373, 1009, 3171, 2185, 5099, 1015, 16, 2095, 2923, 6783, 2254, 1907, 7538, 2173, 2039, 2840, 5015, 51, 2239, 6670, 18, 4]),\n",
       "       list([2, 26166, 16, 2095, 1906, 3223, 1970, 1907, 21193, 1886, 1959, 65, 37807, 18, 4]),\n",
       "       list([2, 4326, 41903, 12197, 28893, 9306, 17, 9506, 68, 7598, 10990, 24319, 16, 2095, 1919, 2436, 4298, 17691, 2803, 16, 2007, 25605, 1905, 1893, 9400, 1008, 2281, 16, 1951, 29801, 1947, 2216, 1893, 37511, 12766, 4121, 43138, 1966, 9219, 13322, 18, 4]),\n",
       "       list([2, 35570, 1939, 21813, 24319, 16, 2095, 56727, 2586, 37702, 1922, 2185, 12026, 56727, 6913, 4375, 1011, 3819, 2643, 12, 7623, 13362, 57, 50727, 6, 4375, 1011, 3819, 14727, 37702, 9945, 6, 13, 18, 4]),\n",
       "       list([2, 3703, 1961, 27813, 4531, 12467, 20040, 2342, 8816, 2529, 30525, 20149, 38037, 11146, 2149, 24319, 16, 2095, 2274, 3059, 5577, 1005, 2243, 2095, 2898, 8943, 9143, 18, 4]),\n",
       "       list([2, 24319, 16, 2095, 9049, 2224, 1890, 48006, 16, 2021, 51510, 1015, 1911, 2259, 7581, 18, 4]),\n",
       "       list([2, 8563, 20959, 13041, 16, 18406, 26201, 2274, 8828, 3524, 1007, 2036, 4160, 1009, 16, 34357, 1919, 9788, 1911, 42459, 11300, 8277, 3524, 9922, 4999, 10117, 21757, 16, 24319, 16, 2095, 2286, 2241, 11242, 6913, 8277, 2239, 6328, 19938, 2243, 57, 38463, 10327, 19423, 37606, 18, 4]),\n",
       "       list([2, 2094, 5099, 2692, 16, 2095, 2303, 2224, 1888, 5446, 14104, 65, 29152, 2341, 44806, 6871, 51, 1898, 6955, 36414, 3242, 14719, 18, 4]),\n",
       "       list([2, 2204, 3121, 17878, 7592, 19304, 39882, 1008, 10398, 16, 65, 34357, 1012, 1919, 8896, 12, 2233, 22561, 18, 13, 2323, 47321, 16609, 50759, 1008, 10084, 12, 5128, 22561, 18, 13, 16, 43, 2098, 26, 22561, 18, 68, 2891, 24319, 16, 2095, 6499, 33864, 5381, 1950, 2381, 1951, 3598, 11896, 18, 4]),\n",
       "       list([2, 4549, 1006, 24319, 16, 2095, 12691, 48116, 2074, 65, 13834, 29801, 2216, 30933, 1037, 6868, 16609, 18, 4]),\n",
       "       list([2, 4450, 14535, 3945, 2032, 2578, 22876, 2024, 4100, 16, 2095, 2011, 3057, 33553, 6913, 41534, 1919, 32404, 35423, 6481, 51, 26845, 6481, 44414, 1037, 17, 1951, 29801, 2243, 5740, 22219, 8599, 17, 57268, 18, 4]),\n",
       "       list([2, 2499, 1893, 2602, 16, 2095, 2204, 6170, 2243, 2098, 2241, 2251, 3552, 4909, 5386, 18, 4]),\n",
       "       list([2, 3737, 16721, 1964, 51, 2602, 16, 2095, 5309, 1906, 16721, 1919, 10054, 2954, 25607, 51, 22555, 16883, 18, 4]),\n",
       "       list([2, 1893, 2602, 2047, 16, 2095, 5332, 43923, 3913, 65, 2063, 16, 2095, 1893, 3003, 5539, 1927, 1906, 2079, 16, 1947, 12026, 40613, 18, 4]),\n",
       "       list([2, 2228, 2451, 16, 2007, 10755, 24094, 1914, 16, 2095, 1907, 1893, 1919, 11477, 1950, 19679, 18, 4]),\n",
       "       list([2, 2556, 34991, 16, 2095, 25788, 5544, 3691, 16205, 4]),\n",
       "       list([2, 2021, 25397, 2243, 2013, 42032, 16, 2095, 11594, 45809, 8459, 35, 4]),\n",
       "       list([2, 1893, 13485, 2243, 16, 2095, 5461, 1898, 1907, 24226, 18, 4]),\n",
       "       list([2, 2404, 3772, 2243, 1893, 58379, 16, 2095, 29480, 2499, 18, 18, 18, 4]),\n",
       "       list([2, 2079, 16, 2095, 40221, 9571, 16, 29801, 2243, 2216, 27789, 1015, 31, 2087, 9437, 1961, 4773, 4247, 4594, 13951, 2436, 3769, 14104, 18, 4]),\n",
       "       list([2, 51, 2204, 27069, 25410, 16, 2095, 16, 7394, 16, 1919, 15556, 7800, 16, 2007, 59186, 13951, 2243, 16, 2095, 11594, 6782, 7800, 18, 4]),\n",
       "       list([2, 1893, 25397, 2351, 2243, 16, 2095, 5461, 1907, 3427, 2024, 23250, 16, 1935, 35, 4]),\n",
       "       list([2, 4479, 1007, 1978, 9701, 65, 3344, 1014, 19035, 10859, 16, 2095, 30756, 16971, 4909, 17, 44414, 36644, 1013, 3485, 1008, 28576, 5956, 13257, 1014, 1906, 5522, 25365, 20726, 51, 2104, 31147, 1996, 35399, 1037, 20726, 16751, 7858, 16, 43, 25605, 1905, 3409, 8165, 20726, 8090, 3898, 65, 26123, 15597, 1907, 1006, 4051, 37102, 9701, 16, 2210, 6886, 51, 5411, 25607, 18, 4]),\n",
       "       list([2, 4579, 1919, 1907, 12816, 2063, 16, 2095, 3694, 4488, 19184, 53484, 48472, 2243, 68, 28322, 4]),\n",
       "       list([2, 1951, 9437, 7986, 2004, 24110, 16, 5801, 4255, 5907, 1897, 11368, 24306, 16, 2095, 29126, 1889, 68, 5688, 7282, 2286, 1893, 4594, 13951, 51, 2610, 18675, 45237, 1008, 51, 34156, 13869, 5469, 3937, 1898, 57608, 63, 33747, 2061, 68, 9263, 1889, 68, 45911, 18, 4]),\n",
       "       list([2, 9486, 20866, 5080, 14109, 2095, 65, 3486, 11566, 5396, 5399, 11725, 8443, 24334, 5272, 39237, 8802, 4]),\n",
       "       list([2, 4080, 2051, 7947, 16609, 1008, 11412, 7234, 2115, 32251, 24306, 16, 2095, 16732, 2243, 13852, 1898, 2070, 15246, 9787, 15600, 1924, 2618, 65, 2032, 2076, 18232, 4955, 7306, 5684, 18, 4]),\n",
       "       list([2, 15026, 1907, 7234, 1905, 1006, 1907, 16, 2095, 29097, 13951, 2243, 48570, 1898, 11039, 9453, 13340, 16, 38053, 1893, 5332, 9437, 3234, 6388, 18, 4]),\n",
       "       list([2, 6812, 16380, 621, 1907, 1893, 2759, 620, 20644, 16, 2095, 2811, 68, 10015, 52286, 2898, 1890, 1019, 32095, 1905, 1906, 3824, 18, 4]),\n",
       "       list([2, 4959, 65, 43942, 30981, 16, 43, 48570, 8663, 12522, 65, 40844, 51, 17616, 1927, 16763, 1905, 4967, 4822, 1889, 14266, 16, 2202, 4895, 1898, 5325, 7247, 51013, 1889, 30551, 3688, 2243, 12315, 27308, 16, 6922, 2047, 16, 2095, 15476, 2266, 24700, 5890, 5092, 18, 4]),\n",
       "       list([2, 65, 2388, 17767, 4364, 4760, 16609, 31901, 29018, 16, 38053, 68, 4957, 3656, 33508, 2033, 8251, 46200, 6973, 1906, 16388, 2092, 57, 1907, 16, 1947, 4955, 1963, 2243, 2030, 24387, 1908, 16, 43, 68, 4761, 43121, 1013, 16, 2095, 2217, 8583, 2150, 5968, 48544, 51, 49605, 1954, 2376, 5788, 18962, 2170, 49597, 18615, 1018, 4955, 42468, 3305, 52449, 1013, 18, 4]),\n",
       "       list([2, 5443, 3349, 16, 22394, 35086, 7673, 29152, 1988, 51, 37392, 1988, 4962, 1014, 2210, 16, 65, 6782, 9011, 3278, 18927, 23319, 1907, 8255, 4934, 8549, 16, 10261, 14109, 37845, 1914, 17, 43, 3337, 38685, 37845, 1021, 6922, 16, 2095, 19828, 7995, 2243, 1893, 4338, 2098, 26002, 1012, 56253, 56727, 2643, 4263, 16374, 5956, 20085, 18, 4]),\n",
       "       list([2, 65, 4877, 19825, 2827, 7234, 5831, 2131, 23862, 6163, 2269, 17552, 44662, 1998, 8004, 16, 1935, 6922, 16, 2095, 5396, 3117, 7283, 1013, 621, 39435, 19959, 620, 1893, 3003, 7347, 18, 4]),\n",
       "       list([2, 2007, 65, 55197, 5240, 31715, 4999, 16, 65, 23520, 1012, 3572, 2788, 3079, 2053, 1011, 1912, 2216, 9612, 16, 1935, 24630, 16, 2095, 2456, 2437, 2694, 33527, 1013, 10317, 3607, 1923, 1893, 31384, 3062, 2115, 4635, 16, 2098, 40126, 1019, 5402, 51, 1950, 1951, 2996, 16993, 65, 23874, 3962, 1014, 18, 4]),\n",
       "       list([2, 12026, 8090, 16, 1907, 29480, 29360, 6179, 12983, 16, 59106, 1927, 5446, 14104, 40893, 2412, 58550, 5959, 7668, 9922, 5104, 33914, 11146, 41151, 16, 2095, 4670, 16666, 1007, 1893, 29697, 2126, 1019, 12294, 68, 31009, 6, 7228, 6, 65, 3486, 3896, 10730, 65, 8123, 18, 4]),\n",
       "       list([2, 38232, 6001, 1017, 3121, 5341, 38800, 6922, 16, 2095, 4959, 1898, 39345, 2716, 3003, 34933, 3396, 18, 4]),\n",
       "       list([2, 33167, 2114, 4286, 3527, 2212, 29540, 48208, 10535, 16, 38053, 6922, 2047, 16, 2095, 49976, 1943, 2243, 1961, 2575, 18, 4]),\n",
       "       list([2, 6922, 2047, 48570, 16, 2095, 8124, 10521, 7788, 1889, 24386, 1008, 2243, 3727, 36872, 18, 4]),\n",
       "       list([2, 21078, 6922, 2047, 2827, 16, 2095, 18311, 1911, 53532, 5478, 22602, 1906, 9663, 12, 7806, 2270, 26494, 31547, 2055, 1898, 6095, 23, 17, 25, 2254, 13, 5179, 1924, 18, 4]),\n",
       "       list([2, 3357, 46868, 16, 34357, 37374, 2394, 1890, 2363, 1898, 16876, 2713, 16, 6922, 16, 2095, 24386, 1008, 2243, 42641, 27165, 1914, 65, 14957, 2476, 18, 4]),\n",
       "       list([2, 2259, 47643, 2315, 38685, 6922, 16, 2095, 1893, 22116, 1008, 2243, 65, 6900, 16609, 1008, 18209, 1927, 16, 2062, 2458, 3063, 34306, 1015, 5839, 4928, 37154, 8193, 16, 3000, 2676, 3524, 27071, 3729, 3823, 4776, 18100, 1886, 4036, 55495, 1032, 7997, 18, 4]),\n",
       "       list([2, 1937, 10442, 65, 29222, 4751, 68, 2228, 6245, 1924, 47231, 51, 21836, 21144, 45283, 8946, 3412, 1021, 6922, 2047, 16, 2095, 36839, 15808, 3904, 2610, 6321, 20131, 2549, 18, 4]),\n",
       "       list([2, 1907, 1935, 24630, 16, 2095, 14790, 1988, 9125, 2224, 1888, 12981, 65, 37791, 32411, 51, 53641, 1949, 1907, 5894, 3714, 4195, 1960, 12, 7288, 4618, 38677, 1952, 13, 51, 56486, 45, 16, 34357, 1897, 2228, 32511, 4809, 2047, 15971, 18, 4]),\n",
       "       list([2, 15129, 16847, 10828, 1014, 16, 14581, 44166, 42385, 2114, 2808, 54696, 1949, 16, 41151, 16, 2095, 4056, 16, 34357, 1998, 50451, 2850, 1908, 7426, 2026, 2138, 12597, 5239, 40521, 16, 6191, 20634, 51, 8484, 2103, 16, 27561, 1013, 2243, 65, 12310, 1999, 16, 8587, 43003, 1014, 18, 4]),\n",
       "       list([2, 9797, 1893, 32047, 2214, 16, 2007, 2239, 12903, 1923, 31225, 33171, 16, 2095, 65, 22325, 7544, 1015, 6401, 14215, 14636, 65, 3841, 27565, 20146, 39345, 2118, 9254, 50128, 1014, 46128, 1996, 18, 4]),\n",
       "       list([2, 4066, 6625, 18, 11193, 49240, 1022, 39309, 16609, 55495, 1032, 23753, 16, 2095, 1893, 22070, 2243, 1015, 51861, 3429, 65, 18232, 12303, 2328, 18, 4]),\n",
       "       list([2, 1898, 6260, 1014, 65, 3197, 14104, 1021, 1906, 4215, 12, 1961, 5086, 4215, 40755, 1906, 26364, 13, 3089, 4964, 55, 18, 2027, 18, 10649, 38685, 41394, 6185, 16, 38384, 33171, 16, 2095, 41179, 3820, 12026, 3290, 31015, 32378, 1961, 47038, 1022, 18, 4]),\n",
       "       list([2, 46555, 14370, 3476, 16, 2823, 2788, 13194, 26911, 14104, 1906, 8277, 19888, 1898, 2271, 5836, 51, 27987, 6147, 12403, 35201, 1988, 41151, 16, 2095, 16737, 50985, 1897, 19888, 52248, 2228, 7715, 65, 3486, 16, 2244, 24290, 8822, 1923, 21647, 1015, 3939, 28006, 18, 4]),\n",
       "       list([2, 38761, 16609, 1014, 2243, 30102, 57, 8907, 4633, 9437, 2614, 1886, 13472, 2123, 2079, 8152, 2114, 38053, 24185, 68, 10387, 14844, 11146, 41151, 16, 2095, 28043, 1898, 15912, 11320, 40357, 10342, 1022, 1893, 2672, 19211, 33209, 18, 4]),\n",
       "       list([2, 65, 3291, 15826, 10053, 5220, 2851, 51, 8050, 8928, 68, 2854, 4436, 5332, 9478, 2338, 65, 3119, 55642, 57, 9973, 9723, 25607, 12, 1965, 18, 63, 18, 2994, 12579, 2160, 18, 5660, 1051, 13, 27185, 2243, 16, 2095, 38359, 44444, 1007, 9723, 25607, 47285, 2243, 65, 4387, 22331, 2419, 25607, 20966, 3459, 44166, 1910, 30, 4]),\n",
       "       list([2, 2095, 2024, 1907, 2243, 9437, 56208, 2047, 1957, 1063, 30, 2095, 5186, 1888, 1906, 2851, 51, 9437, 16077, 4]),\n",
       "       list([2, 2759, 56208, 2047, 2243, 16, 2095, 3417, 2271, 33045, 3543, 20162, 11477, 1906, 13232, 51, 54187, 1008, 57, 8826, 9981, 1897, 65, 8295, 1897, 18, 4]),\n",
       "       list([2, 47996, 2033, 1970, 2243, 30547, 17, 19315, 1980, 16, 1935, 12069, 1008, 37, 35, 39, 16, 2095, 1902, 42181, 1903, 16, 43, 3006, 16, 2095, 4124, 1898, 8335, 1931, 15691, 20149, 7868, 12, 5, 5, 13, 18, 4]),\n",
       "       list([2, 42671, 5486, 2827, 2437, 2063, 16, 2095, 11193, 49240, 19481, 1893, 56232, 2434, 14109, 65, 8065, 5828, 18, 13410, 2021, 8065, 27650, 10301, 49533, 20611, 17848, 16883, 42785, 18, 4]),\n",
       "       list([2, 2244, 47280, 2243, 16, 2095, 2098, 1898, 2239, 26274, 1013, 1946, 3276, 16814, 57876, 1922, 16, 16312, 16, 2095, 42258, 2055, 2281, 1906, 3876, 18, 4]),\n",
       "       list([2, 26190, 16079, 16, 2095, 48428, 1980, 1919, 2858, 5019, 16, 2007, 37623, 41502, 42090, 16, 4458, 68, 43588, 7402, 30920, 1010, 5184, 2904, 1998, 16, 3058, 35201, 26375, 4977, 15701, 1014, 4]),\n",
       "       list([2, 4773, 24698, 2703, 1005, 1037, 46200, 17, 13892, 1889, 3280, 10855, 2243, 1896, 8868, 2206, 16, 48154, 16609, 2241, 30533, 3942, 16, 2095, 7561, 2047, 1898, 43174, 1010, 18, 4]),\n",
       "       list([2, 2845, 2456, 1893, 2040, 3774, 9338, 16609, 16, 2095, 1907, 2055, 2015, 12470, 18, 4]),\n",
       "       list([2, 2197, 18, 18, 18, 2474, 1893, 1994, 6996, 16, 48748, 1943, 9338, 2483, 2241, 42056, 16, 2095, 2234, 2243, 1893, 2743, 18, 18, 18, 4]),\n",
       "       list([2, 6468, 32530, 1008, 16, 39354, 1008, 2243, 65, 2281, 16, 48154, 1008, 16, 2095, 2234, 2271, 1893, 4995, 16, 3121, 2244, 5959, 6537, 1961, 2891, 4776, 16, 18148, 1988, 3429, 16, 14175, 25607, 18, 4]),\n",
       "       list([2, 10508, 1919, 9022, 1923, 3209, 52342, 59547, 2026, 44606, 2013, 7064, 51, 1893, 23525, 9338, 16609, 16, 2095, 2147, 2243, 2210, 7349, 31715, 18, 4]),\n",
       "       list([2, 50183, 1943, 2243, 48570, 16, 3951, 24303, 2026, 2115, 6095, 4195, 39247, 29894, 6732, 54959, 16, 2456, 1906, 6, 44193, 3983, 46178, 6, 16, 48154, 16609, 1969, 2063, 16, 2095, 2227, 1919, 65, 21396, 18, 4]),\n",
       "       list([2, 1957, 1035, 30, 2062, 2087, 28974, 9338, 16609, 2095, 2095, 23684, 1919, 1957, 1063, 30, 38559, 43, 1971, 31643, 1922, 4]),\n",
       "       list([2, 12114, 2095, 3168, 2458, 9612, 4719, 18, 4]),\n",
       "       list([2, 12114, 16, 2095, 2089, 4]),\n",
       "       list([2, 2227, 14163, 8090, 2095, 2447, 12943, 16, 43, 41932, 611, 1898, 52981, 1931, 611, 26190, 16, 2095, 2234, 1893, 4719, 18, 4]),\n",
       "       list([2, 26246, 1918, 16, 1893, 2212, 5969, 29540, 16, 48054, 1906, 2079, 5751, 51, 48154, 16609, 16, 2095, 4277, 65, 24688, 16, 9975, 1897, 16, 7826, 4560, 2601, 30452, 1914, 51, 6959, 6384, 2544, 19197, 1897, 16, 2934, 2807, 2061, 3841, 16, 14575, 1906, 37609, 18, 4]),\n",
       "       list([2, 2599, 9338, 16609, 16, 2095, 2227, 4276, 18, 4]),\n",
       "       list([2, 2335, 2040, 2243, 20207, 4669, 16609, 51, 9338, 16609, 16, 2095, 9178, 2024, 4629, 16, 4008, 29398, 3395, 35, 4]),\n",
       "       list([2, 2250, 6611, 9338, 16609, 16, 2095, 2234, 2243, 1893, 2743, 35, 4]),\n",
       "       list([2, 2063, 4338, 27687, 2047, 16, 2095, 5332, 1906, 2840, 8652, 12561, 4]),\n",
       "       list([2, 65, 2608, 5907, 1897, 23043, 5629, 41270, 16, 2095, 1919, 2414, 2468, 56414, 18, 4]),\n",
       "       list([2, 5244, 3211, 17412, 36471, 1008, 51, 3211, 23556, 33761, 1008, 41270, 1013, 16, 2095, 1911, 3898, 1008, 57926, 16, 24775, 1910, 5779, 14005, 2802, 22944, 1897, 65, 3757, 59134, 15684, 13951, 5138, 1011, 3819, 1005, 4714, 14109, 1893, 2098, 1907, 23566, 16, 2007, 7234, 1905, 1006, 5431, 7610, 31715, 5687, 3324, 65, 27508, 2076, 18, 4]),\n",
       "       list([2, 11780, 10350, 1978, 17, 6788, 17769, 68, 20695, 42732, 18567, 6533, 1013, 65, 14031, 2412, 8269, 45727, 20194, 68, 22326, 12887, 65, 29695, 65, 6151, 17, 40210, 1908, 16, 2095, 65, 5245, 15075, 3079, 2058, 2251, 12045, 7595, 16, 22757, 13654, 21874, 46361, 28824, 6384, 16, 36053, 2243, 51657, 39031, 2294, 3140, 1007, 2273, 1897, 21133, 19186, 18, 4]),\n",
       "       list([2, 51898, 2548, 5306, 16, 56232, 1015, 1893, 56232, 1015, 16, 41270, 1008, 16, 2095, 1994, 11872, 50723, 18, 4]),\n",
       "       list([2, 65, 25929, 21410, 32360, 65, 6151, 6186, 51105, 51, 8578, 6849, 19521, 1013, 40210, 1908, 16, 2095, 1969, 23646, 37102, 45839, 45237, 1008, 9972, 21, 16, 25, 5644, 18, 1898, 4696, 13464, 18, 45887, 43347, 56881, 7600, 3309, 4696, 16, 1969, 25, 5644, 18, 17, 24, 16, 25, 4696, 16, 43, 1969, 3405, 5644, 18, 17, 8819, 21, 16, 25, 4696, 18, 4]),\n",
       "       list([2, 51, 68, 4389, 1011, 3459, 2893, 68, 23803, 2021, 13654, 68, 46510, 1890, 1893, 18602, 2243, 35434, 1005, 3129, 1015, 16, 2095, 1919, 9612, 58235, 65, 2388, 22957, 2165, 8766, 2806, 1010, 18, 4]),\n",
       "       list([2, 4008, 32836, 4514, 8446, 2281, 16, 2095, 13997, 2760, 1919, 2383, 38748, 55439, 8165, 37154, 20611, 5966, 37102, 51, 2095, 20998, 16382, 5386, 17, 2204, 2164, 3530, 5386, 17, 11950, 5386, 1919, 2210, 13047, 3012, 27837, 1955, 34863, 16, 4706, 44851, 1013, 4377, 16, 2095, 1907, 16, 1935, 65, 20611, 5966, 37102, 22393, 16, 1919, 5431, 25791, 2401, 2886, 4283, 1906, 13320, 1989, 21508, 51, 2095, 22654, 1006, 3138, 51, 38804, 1919, 30399, 1985, 2079, 65, 2271, 28605, 18, 4]),\n",
       "       list([2, 4008, 32836, 4514, 8446, 2281, 16, 2095, 13997, 2760, 1919, 2383, 38748, 55439, 8165, 37154, 20611, 5966, 37102, 51, 2095, 20998, 16382, 5386, 17, 2204, 2164, 3530, 5386, 17, 11950, 5386, 1919, 2210, 13047, 3012, 27837, 1955, 34863, 16, 4706, 44851, 1013, 4377, 16, 2095, 1907, 16, 1935, 65, 20611, 5966, 37102, 22393, 16, 1919, 5431, 25791, 2401, 2886, 4283, 1906, 13320, 1989, 21508, 51, 2095, 22654, 1006, 3138, 51, 38804, 1919, 30399, 1985, 2079, 65, 2271, 28605, 18, 4]),\n",
       "       list([2, 3207, 7167, 2281, 16, 2095, 1919, 26596, 18, 4]),\n",
       "       list([2, 49035, 3221, 33553, 7053, 1943, 2281, 16, 2095, 17857, 1942, 1907, 2007, 5723, 1895, 36188, 16, 16728, 2101, 51, 43888, 16, 15160, 11959, 37982, 14090, 13654, 11594, 3141, 18, 4]),\n",
       "       list([2, 14869, 2190, 1919, 2224, 2126, 17, 3273, 3386, 1905, 2244, 2197, 35822, 1954, 2027, 50813, 4289, 16, 9383, 2021, 58064, 3221, 33553, 7053, 2281, 16, 2095, 4312, 2293, 68, 33747, 2061, 2854, 5419, 1898, 17580, 18, 4]),\n",
       "       list([2, 3221, 33553, 7053, 1908, 2281, 16, 2095, 1893, 45993, 2047, 18, 4]),\n",
       "       list([2, 3058, 8208, 16, 2095, 3949, 24494, 1019, 1907, 9553, 12142, 18, 4]),\n",
       "       list([2, 11204, 1893, 3058, 33527, 16, 2095, 2134, 2634, 9903, 16, 2055, 1907, 2175, 13781, 18, 4]),\n",
       "       list([2, 2244, 35160, 2567, 2024, 1898, 16876, 16, 3167, 9437, 65, 3100, 6565, 1015, 2268, 2227, 16, 7234, 1905, 1006, 65, 1907, 16, 2095, 5861, 2243, 21089, 2280, 11007, 3822, 9934, 16, 3945, 16802, 24560, 1008, 16, 12548, 5456, 2672, 3289, 11900, 1013, 2114, 14957, 3405, 5510, 18, 4]),\n",
       "       list([2, 1919, 1907, 2224, 1890, 9553, 4074, 35102, 25734, 1889, 16, 6284, 2244, 2243, 28220, 12636, 37159, 1912, 16, 2095, 2268, 10589, 1890, 3003, 20934, 35102, 50976, 1998, 35936, 1008, 18, 4]),\n",
       "       list([2, 2007, 3006, 16, 2244, 22245, 1898, 13191, 49157, 40457, 1014, 16, 58067, 1008, 6491, 2281, 16, 2095, 2234, 2243, 1893, 2743, 18, 4]),\n",
       "       list([2, 1951, 41228, 2502, 16, 1907, 2461, 45186, 1008, 16, 2095, 3551, 1919, 16555, 16, 2095, 1893, 1994, 58238, 18, 4]),\n",
       "       list([2, 14, 1907, 10174, 11235, 16, 2007, 3769, 1898, 3274, 16, 2095, 1893, 29801, 2030, 6170, 1015, 1898, 43942, 1942, 3272, 1888, 2012, 18275, 16, 65, 15202, 1897, 56212, 25170, 2071, 13654, 28315, 18, 4]),\n",
       "       list([2, 2216, 3769, 9437, 43588, 2095, 2217, 12303, 5626, 14535, 1906, 4258, 2243, 4281, 2126, 4]),\n",
       "       list([2, 2216, 3769, 9437, 43588, 2095, 2217, 12303, 5626, 14535, 1906, 4258, 2243, 4281, 2126, 51, 2095, 2349, 5890, 9011, 2010, 24461, 3324, 18, 4]),\n",
       "       list([2, 1906, 27813, 3769, 2216, 16, 2095, 8090, 2221, 8401, 12379, 1015, 611, 43, 2114, 1907, 25313, 2059, 1015, 611, 6676, 52194, 1889, 18, 4]),\n",
       "       list([2, 34296, 3769, 16, 2095, 20237, 3994, 34863, 68, 22408, 2594, 11368, 22934, 9384, 9263, 1889, 12, 54790, 1008, 31457, 2991, 2534, 16, 43065, 1008, 51001, 2534, 16, 38940, 21211, 2258, 51, 45817, 9682, 16514, 13, 2959, 29480, 46896, 18, 4]),\n",
       "       list([2, 31040, 24355, 1982, 57, 16127, 45254, 16, 2007, 1950, 1951, 2268, 7736, 21280, 1015, 57, 9710, 5821, 1905, 1893, 25313, 2059, 7549, 2416, 31770, 20844, 34795, 1037, 16, 1950, 51, 2030, 17, 3769, 2216, 16, 2095, 3836, 45758, 1014, 16, 29282, 1890, 29133, 2483, 16124, 2099, 65, 42110, 12735, 1010, 51, 6545, 16110, 1013, 16, 2007, 32994, 18853, 25212, 10797, 16, 29853, 51, 12894, 44253, 1010, 16, 43, 27907, 22338, 3003, 3135, 1898, 42334, 18, 4]),\n",
       "       list([2, 65, 4405, 6728, 27312, 3769, 16, 2095, 3922, 18, 16241, 5640, 36494, 1927, 24467, 17, 2197, 2089, 52561, 2149, 51, 36453, 1014, 13865, 9922, 1922, 16, 1919, 39758, 16, 49051, 16, 19581, 2243, 1896, 51711, 1897, 16, 1994, 15463, 65, 10517, 13265, 21210, 51, 49662, 16, 1919, 17516, 3513, 2434, 16, 55, 18, 2027, 18, 57, 46475, 1012, 2940, 6553, 1929, 51, 43576, 14720, 1909, 4768, 16, 6550, 2983, 2243, 19809, 4107, 1015, 2152, 57976, 8826, 2419, 18, 4]),\n",
       "       list([2, 3769, 2216, 16, 2095, 3003, 2376, 1011, 5967, 43864, 16, 46632, 1907, 7801, 8097, 26900, 2055, 1906, 29563, 18, 18, 18, 4]),\n",
       "       list([2, 3251, 25967, 42347, 1927, 6099, 8559, 1889, 16, 2216, 9437, 3769, 16, 2095, 4829, 5334, 2279, 14215, 6330, 7123, 7047, 5720, 4999, 13948, 11594, 24516, 2142, 52144, 16, 13052, 10238, 59547, 39307, 14215, 6330, 18, 4]),\n",
       "       list([2, 1911, 67, 2983, 44443, 38685, 28331, 9338, 2776, 4808, 1015, 2062, 1893, 2175, 2021, 4706, 1890, 42962, 1951, 2221, 10287, 2432, 8267, 51, 9898, 16609, 2095, 2221, 1902, 12114, 4]),\n",
       "       list([2, 53230, 3945, 8638, 2114, 5928, 65, 25006, 45237, 1021, 16, 4263, 54976, 1015, 16, 2095, 32569, 50112, 1008, 1961, 2840, 4389, 1011, 3979, 16, 18078, 30, 17, 32209, 3246, 3902, 1008, 1898, 40261, 18, 4]),\n",
       "       list([2, 25993, 2558, 2095, 51570, 1997, 12, 2786, 4309, 29850, 13, 4430, 6, 4436, 38473, 1022, 6, 35, 35, 35, 4]),\n",
       "       list([2, 2007, 25993, 16, 2095, 2575, 2419, 38685, 1919, 4728, 16, 4728, 17, 32745, 7167, 4340, 2231, 18, 4]),\n",
       "       list([2, 2827, 1893, 31826, 3221, 54577, 27516, 16, 2724, 16, 2095, 9612, 8976, 2126, 18, 4]),\n",
       "       list([2, 7717, 16, 2198, 36378, 22679, 1959, 7544, 3043, 2126, 1898, 2824, 5526, 51, 4213, 16, 2095, 28448, 5566, 13038, 14335, 9462, 16, 1907, 2915, 57437, 3003, 9811, 12839, 16, 2095, 2259, 5829, 1893, 44908, 18, 4]),\n",
       "       list([2, 39768, 17560, 2059, 2216, 1951, 38392, 16, 2062, 41407, 9678, 16, 2095, 11016, 65, 4508, 2850, 1893, 1907, 16, 1935, 2499, 1950, 2228, 3397, 54833, 18, 4]),\n",
       "       list([2, 25993, 2095, 14926, 1922, 1950, 2281, 15556, 56401, 3118, 1898, 1907, 2961, 2141, 18, 4]),\n",
       "       list([2, 25993, 16, 2095, 2243, 2013, 3221, 54577, 3675, 16, 2007, 2413, 44880, 40443, 1975, 2013, 37954, 5043, 1898, 27669, 19489, 35, 4]),\n",
       "       list([2, 20177, 1893, 1919, 8988, 16, 2007, 1947, 2015, 4645, 1015, 16, 3063, 2089, 1015, 5946, 13604, 1014, 51, 14224, 16, 37879, 16, 2095, 5946, 2359, 2011, 46148, 2103, 51, 2687, 3836, 10642, 5904, 18, 4]),\n",
       "       list([2, 8090, 1907, 2572, 1015, 2616, 8837, 1014, 4855, 2904, 16, 1898, 38053, 29292, 9832, 1902, 10277, 2100, 6911, 29233, 16, 2616, 2094, 2310, 16, 2095, 5007, 3409, 54365, 51, 53290, 6, 9753, 45782, 3998, 6, 18, 4]),\n",
       "       list([2, 68, 13737, 3777, 16, 2095, 5060, 16765, 1019, 1906, 12965, 2206, 18, 4]),\n",
       "       list([2, 16357, 38522, 65, 7371, 3950, 24599, 50930, 18299, 51, 8796, 4340, 38190, 27071, 19199, 16, 43, 7564, 3804, 2456, 1893, 5670, 50930, 2015, 1969, 2388, 7673, 25607, 65, 24307, 16, 2177, 1015, 2096, 1019, 46632, 37879, 16, 2095, 1896, 2458, 4856, 9437, 2006, 2243, 3409, 12677, 1893, 56645, 18, 4]),\n",
       "       list([2, 1893, 1964, 1893, 1964, 1893, 4447, 2095, 28974, 18, 67, 28974, 2345, 1015, 3913, 32994, 65, 35936, 2788, 9219, 4629, 11566, 12990, 2165, 1906, 12971, 1016, 3564, 5826, 4]),\n",
       "       list([2, 1964, 2095, 1907, 3496, 1893, 1919, 4673, 4]),\n",
       "       list([2, 4764, 2095, 1970, 2243, 1896, 4761, 41483, 4330, 4461, 1015, 4478, 1015, 1951, 56124, 6711, 47824, 1014, 35, 4]),\n",
       "       list([2, 2007, 39185, 16, 2095, 21293, 2020, 4479, 4895, 68, 2934, 32008, 2337, 18940, 2011, 31208, 3942, 18, 4]),\n",
       "       list([2, 57584, 8021, 8699, 14355, 16, 2095, 6658, 1917, 6110, 46392, 49605, 1927, 3003, 48570, 29961, 34538, 33527, 1014, 40591, 68, 3884, 8103, 18, 4]),\n",
       "       list([2, 11477, 6550, 36352, 2760, 13841, 7708, 1995, 34863, 1923, 5261, 16, 23154, 2110, 4080, 2051, 49240, 1022, 51, 2893, 1893, 2924, 16, 2095, 5552, 5465, 1916, 2243, 4034, 14109, 18, 4]),\n",
       "       list([2, 38994, 1905, 5225, 56488, 3776, 2138, 2241, 46510, 4711, 16, 54839, 7889, 17, 55379, 41208, 11984, 1905, 16, 14355, 1015, 16, 2095, 51, 1950, 1893, 2096, 15509, 2243, 8221, 8599, 4955, 58848, 48695, 30180, 18, 4]),\n",
       "       list([2, 59083, 14355, 16, 2095, 4008, 5798, 27345, 47649, 2594, 40221, 18686, 14109, 58796, 1022, 16, 1907, 9437, 2863, 4310, 31715, 68, 8049, 19959, 16, 23319, 12026, 47613, 1934, 1898, 14905, 18, 4]),\n",
       "       list([2, 51, 3006, 3595, 2456, 1951, 6065, 4250, 2800, 1017, 1907, 36379, 56300, 1911, 6397, 14989, 14294, 9437, 5150, 1015, 2062, 1964, 2095, 2243, 11822, 1951, 2243, 4304, 1976, 9437, 1896, 30535, 1014, 43, 1951, 2243, 50270, 2098, 15556, 1907, 2243, 1893, 11822, 4]),\n",
       "       list([2, 2055, 2208, 25410, 2095, 18, 8234, 4569, 4764, 2095, 1893, 2610, 10535, 19846, 18145, 7868, 1969, 54184, 1914, 68, 40876, 1914, 51, 49035, 2500, 57, 8009, 1014, 57, 39596, 17, 16212, 51, 49035, 2500, 57, 36041, 36557, 3723, 8287, 18, 65, 15925, 5396, 5399, 18, 5010, 2259, 7462, 18, 3688, 1970, 2243, 65, 6594, 8761, 8373, 4]),\n",
       "       list([2, 24516, 3471, 11049, 1942, 16, 9383, 4945, 58822, 4545, 16, 2924, 16, 2095, 2259, 31432, 11594, 6719, 3347, 1008, 16, 1898, 3845, 5369, 18, 4]),\n",
       "       list([2, 2210, 3390, 55495, 11813, 15356, 42901, 1018, 16, 12262, 8572, 68, 23781, 16, 21551, 5795, 51833, 20077, 16, 2197, 1964, 16, 2095, 65, 2034, 26832, 2476, 1919, 6377, 17409, 5566, 5704, 2270, 7764, 1890, 16, 38053, 1037, 3063, 37511, 8741, 18, 4]),\n",
       "       list([2, 2286, 68, 2458, 29802, 12894, 2998, 3118, 68, 18, 16, 2021, 7289, 16, 2095, 5969, 5650, 3890, 4357, 43588, 68, 27981, 4959, 16, 43, 2036, 1954, 1893, 2216, 35, 4]),\n",
       "       list([2, 2077, 5721, 40604, 3283, 2243, 16, 2303, 12163, 1014, 1898, 42015, 1910, 6342, 1008, 16, 15609, 2015, 2227, 1961, 2079, 34652, 2092, 16, 41407, 1893, 35231, 9437, 4286, 6573, 20598, 37154, 16, 32640, 1018, 4235, 1911, 14454, 6825, 16, 2177, 1015, 46632, 2924, 16, 2095, 1950, 2185, 12026, 18, 4]),\n",
       "       list([2, 41284, 16, 2207, 4910, 3673, 2162, 14604, 1964, 16, 2095, 2239, 19126, 29020, 2243, 2178, 1959, 18, 4]),\n",
       "       list([2, 2198, 4546, 2191, 5034, 2095, 46679, 4043, 16, 2216, 1970, 12222, 16, 4549, 1006, 5993, 16, 2095, 46679, 1029, 47481, 65, 2053, 14535, 33163, 4921, 24869, 65, 50921, 2724, 18, 4]),\n",
       "       list([2, 13760, 1893, 2185, 2243, 18989, 4626, 14109, 32600, 6163, 2269, 4924, 23993, 3982, 1889, 16, 35648, 1964, 16, 2095, 41284, 68, 2891, 31471, 1954, 1919, 5119, 45566, 5215, 52452, 1008, 65, 27421, 1037, 1949, 16, 43, 13346, 9556, 59377, 1919, 21409, 8345, 5214, 1889, 2412, 7485, 2054, 4249, 7404, 2931, 21841, 16, 12353, 51, 19669, 2059, 18, 4]),\n",
       "       list([2, 36604, 37722, 1955, 5386, 15780, 16609, 1008, 4309, 29850, 68, 22320, 30, 3347, 2140, 7872, 14497, 16, 2095, 2150, 65, 24783, 51, 24993, 16, 2095, 45497, 35685, 46896, 1961, 6981, 31056, 1978, 16, 57, 34357, 1012, 2924, 16, 2095, 1919, 55943, 13696, 9219, 18, 4]),\n",
       "       list([2, 2207, 29314, 1019, 23287, 18594, 1013, 2241, 45724, 16, 2217, 1964, 16, 2095, 44419, 2047, 3820, 27258, 16, 4984, 4431, 6169, 65, 2281, 3003, 4728, 36756, 1010, 4800, 3176, 18, 4]),\n",
       "       list([2, 4827, 2207, 1964, 16, 2095, 32567, 57425, 11193, 43864, 68, 13850, 4970, 3245, 35218, 3146, 29801, 18938, 30948, 1015, 18, 4]),\n",
       "       list([2, 4827, 1976, 1949, 14355, 16, 2095, 2260, 1917, 43024, 2243, 11911, 1019, 18, 4]),\n",
       "       list([2, 18803, 32511, 57, 10012, 68, 45566, 5351, 1898, 19048, 9403, 16, 2007, 2456, 1893, 1964, 16, 2095, 65, 39180, 1897, 13756, 7730, 2243, 1961, 8107, 1898, 13575, 2476, 48057, 48323, 2328, 51, 57628, 25022, 11874, 30662, 1022, 16, 43, 9489, 2608, 9267, 16, 38053, 43588, 30237, 34727, 3106, 4]),\n",
       "       list([2, 1898, 4046, 2652, 65, 23317, 14355, 16, 2095, 2934, 32008, 1009, 32219, 36195, 3709, 1912, 1907, 12808, 4649, 17, 47048, 1008, 52622, 15447, 18, 4]),\n",
       "       list([2, 1893, 5993, 16, 2095, 2030, 22437, 16, 17230, 2031, 16, 2062, 3772, 40065, 1923, 9088, 56131, 7287, 18, 4]),\n",
       "       list([2, 1893, 4447, 16, 4055, 25706, 1898, 1907, 16, 2095, 24549, 2243, 68, 19483, 2043, 18, 4]),\n",
       "       list([2, 1893, 4447, 16, 2095, 3409, 16621, 54174, 1919, 65, 52163, 9922, 1946, 6, 18, 4]),\n",
       "       list([2, 2893, 2191, 1893, 1964, 16, 2095, 4124, 47922, 2452, 18, 4]),\n",
       "       list([2, 57, 29673, 5721, 3071, 18803, 2243, 5890, 21392, 51, 5974, 14355, 16, 2095, 34087, 3898, 13322, 18, 4]),\n",
       "       list([2, 57, 2997, 9362, 5446, 14332, 1015, 1937, 7595, 65, 4387, 9011, 3530, 14104, 3227, 32101, 36440, 16, 1907, 34296, 3777, 16, 2095, 2268, 17938, 3053, 1931, 1890, 1019, 13324, 23425, 16, 26729, 3578, 15319, 48544, 68, 5975, 33739, 17, 2253, 18, 3548, 5644, 18, 3884, 1889, 18, 4]),\n",
       "       list([2, 1961, 5650, 5993, 16, 2095, 9612, 1919, 1893, 1950, 18, 4]),\n",
       "       list([2, 6349, 39818, 2924, 16, 2095, 2134, 7639, 40931, 2568, 65, 27972, 4915, 7306, 1923, 51, 29801, 1970, 35610, 1015, 4]),\n",
       "       list([2, 46632, 2310, 16, 2095, 1893, 11345, 2079, 21618, 18, 18, 18, 4]),\n",
       "       list([2, 14345, 16, 2062, 2243, 50756, 1960, 16, 43, 46632, 2310, 16, 2095, 29229, 1014, 1893, 14590, 1008, 18, 18, 18, 4]),\n",
       "       list([2, 47002, 2021, 1964, 16, 2095, 2210, 3505, 1919, 5754, 5587, 16, 38053, 6557, 1898, 35936, 18, 18, 18, 4]),\n",
       "       list([2, 2259, 4297, 9437, 1964, 2095, 2204, 4]),\n",
       "       list([2, 1950, 9489, 15887, 29233, 4447, 16, 2095, 1907, 12391, 57, 3597, 17691, 5311, 17, 18803, 12130, 1018, 18, 4]),\n",
       "       list([2, 1950, 16, 8090, 1893, 2652, 51, 1893, 65, 54464, 2476, 16, 2007, 57, 2063, 16, 2095, 3003, 2191, 32745, 4053, 2101, 13774, 2759, 16, 24355, 1982, 18, 4]),\n",
       "       list([2, 1950, 16, 25067, 3003, 9437, 17, 2426, 68, 42789, 1016, 8469, 2797, 17295, 17, 1893, 4447, 4771, 16, 2095, 9575, 1011, 1911, 12298, 18, 4]),\n",
       "       list([2, 2204, 9437, 7289, 16, 2095, 1907, 3356, 18, 4]),\n",
       "       list([2, 2098, 2095, 1893, 2310, 2095, 11345, 18, 4]),\n",
       "       list([2, 1964, 57, 2063, 16, 2095, 58265, 33527, 1902, 8090, 2098, 33535, 25960, 4032, 5029, 18445, 4]),\n",
       "       list([2, 1964, 16, 2095, 1893, 2150, 16, 1893, 1919, 51, 9437, 1893, 11594, 12851, 9170, 1914, 18, 4]),\n",
       "       list([2, 1964, 16, 2095, 18408, 6625, 18, 3341, 18139, 1032, 16, 2228, 56932, 1013, 2717, 51, 20773, 9447, 1016, 4]),\n",
       "       list([2, 14355, 2827, 16, 2095, 23500, 1919, 4390, 7975, 3456, 18451, 5386, 37702, 1922, 23125, 18, 4]),\n",
       "       list([2, 14355, 7234, 1905, 1006, 51, 57, 2063, 16, 2095, 24912, 1893, 2783, 19725, 51, 2095, 20305, 4634, 57425, 1008, 19003, 2881, 1890, 17687, 1015, 3337, 1007, 47, 17, 43, 1893, 7900, 2761, 17, 19709, 18, 4]),\n",
       "       list([2, 14355, 7234, 1905, 1006, 51, 57, 2063, 16, 2095, 24912, 1893, 2783, 19725, 51, 2095, 20305, 4634, 57425, 1008, 19003, 2881, 1890, 17687, 1015, 18173, 17, 43, 1893, 7900, 2761, 17, 19709, 18, 4]),\n",
       "       list([2, 14355, 16, 2095, 1898, 5600, 1927, 3063, 1902, 11594, 49067, 1015, 16, 14294, 1893, 2482, 2033, 18533, 6125, 16, 14294, 42564, 2850, 1015, 4023, 18, 4]),\n",
       "       list([2, 2924, 16, 2095, 1961, 3656, 5832, 23538, 1893, 1994, 43903, 1021, 51, 29801, 3220, 5386, 1898, 6517, 27783, 18, 4]),\n",
       "       list([2, 7289, 16, 2095, 10144, 5634, 16, 2652, 9247, 16, 9489, 1906, 2210, 23995, 13654, 1907, 65, 52164, 7546, 18, 4]),\n",
       "       list([2, 5993, 2095, 2499, 1950, 3545, 25410, 1951, 4027, 1014, 1898, 2210, 65, 11267, 1909, 4286, 9781, 18, 4]),\n",
       "       list([2, 4447, 16, 2095, 32265, 1923, 2024, 49595, 3012, 4955, 1917, 2848, 5386, 2618, 16, 33585, 9243, 1015, 2243, 1898, 6062, 16, 14294, 1970, 2098, 14921, 39675, 16, 4263, 5300, 14921, 39675, 1950, 16, 1951, 2996, 1907, 58414, 16, 43, 1893, 2055, 18, 4]),\n",
       "       list([2, 9247, 13951, 16, 2095, 1893, 27069, 6490, 5386, 5658, 26557, 9585, 16, 34357, 6208, 8701, 13951, 2281, 65, 5636, 25470, 1010, 18, 4]),\n",
       "       list([2, 2310, 2095, 2191, 18, 5332, 2899, 2763, 12522, 18, 18, 4]),\n",
       "       list([2, 2310, 2095, 2114, 1907, 11345, 45144, 1015, 4]),\n",
       "       list([2, 2310, 16, 2095, 5261, 2243, 2079, 1893, 13485, 18, 4]),\n",
       "       list([2, 2652, 14355, 48570, 16, 2095, 3003, 12175, 9694, 51, 5446, 14104, 68, 4910, 1012, 2243, 1898, 34351, 9295, 51, 1906, 4830, 1889, 12515, 4997, 18, 4]),\n",
       "       list([2, 2652, 9247, 16, 2095, 22054, 2098, 4912, 6, 28374, 2140, 6, 2114, 2878, 18, 4]),\n",
       "       list([2, 2915, 31544, 57887, 7271, 22822, 27508, 1954, 19828, 51, 42896, 65, 2524, 49826, 5519, 16, 12026, 8090, 16, 17041, 9922, 1999, 16, 20798, 5208, 2131, 2028, 16, 2007, 51, 8102, 1893, 45473, 2234, 2460, 1890, 2911, 3995, 2119, 16, 34357, 1893, 2924, 16, 2095, 1950, 12510, 2243, 36142, 2241, 17676, 40901, 1015, 28698, 16, 30803, 29899, 9701, 18, 4]),\n",
       "       list([2, 2915, 4447, 9437, 16, 2212, 23591, 1988, 4956, 16, 2095, 20606, 10828, 16, 27703, 1954, 16, 2007, 4165, 1917, 7822, 16, 21292, 1954, 51, 25674, 16, 4072, 1938, 1898, 33438, 1931, 18272, 16609, 1013, 1937, 2578, 44166, 29019, 18, 4]),\n",
       "       list([2, 6341, 1919, 16962, 51, 32378, 12489, 15163, 9219, 16, 2007, 32127, 16609, 2015, 5993, 16, 2095, 46896, 1893, 13445, 1008, 2030, 2800, 24317, 6944, 16, 2098, 6989, 18148, 1988, 3429, 65, 48090, 18, 4]),\n",
       "       list([2, 4281, 3324, 47939, 16, 38384, 2228, 16745, 3197, 5386, 1906, 47368, 2065, 51, 2006, 3898, 16, 2007, 1964, 16, 2095, 1919, 1907, 25234, 3347, 3845, 9840, 21618, 18, 4]),\n",
       "       list([2, 21050, 9247, 16, 2095, 2244, 56124, 31343, 52422, 7910, 55495, 1032, 16, 2863, 6490, 5386, 2006, 68, 4056, 18, 4]),\n",
       "       list([2, 41407, 7289, 16, 2095, 17560, 1886, 1015, 16, 34357, 20561, 1902, 1950, 6786, 1985, 38053, 24185, 3527, 16, 2150, 65, 35435, 7673, 11193, 45939, 68, 46475, 1012, 18, 4]),\n",
       "       list([2, 2095, 7961, 2241, 33288, 16, 1907, 2055, 2175, 18, 4]),\n",
       "       list([2, 2310, 16, 2095, 10865, 2243, 1893, 4290, 65, 11362, 16, 1907, 18, 18, 18, 1907, 2204, 13654, 2243, 8090, 1893, 4234, 1015, 18, 18, 35, 4]),\n",
       "       list([2, 2021, 1006, 1893, 7289, 1011, 16, 16777, 1929, 16, 2095, 13836, 20682, 24521, 10832, 3545, 3074, 2173, 1898, 2024, 13702, 1015, 6094, 1008, 11703, 21033, 2537, 4636, 2243, 21683, 63, 35, 4]),\n",
       "       list([2, 4764, 16, 2095, 2349, 2204, 3703, 9523, 35, 4]),\n",
       "       list([2, 34929, 1943, 2281, 16, 2095, 1907, 2098, 42229, 4032, 9400, 1912, 18, 4]),\n",
       "       list([2, 17650, 14578, 51, 4066, 4721, 6527, 1927, 2033, 1898, 1907, 16, 2095, 3445, 7325, 2150, 6286, 1007, 4339, 18, 4]),\n",
       "       list([2, 43230, 11383, 16, 2095, 45656, 7349, 31715, 47162, 2092, 2243, 68, 44345, 1006, 19646, 8086, 16, 1935, 2006, 2243, 2827, 1893, 4290, 18, 4]),\n",
       "       list([2, 3895, 13823, 2788, 16, 2095, 2098, 18723, 1015, 15635, 1011, 11174, 2095, 42056, 41664, 13203, 1005, 2243, 5654, 16609, 2217, 6641, 18, 4]),\n",
       "       list([2, 3895, 13823, 2788, 16, 2095, 65, 55414, 15320, 1018, 25245, 1008, 7234, 1924, 5313, 5386, 9778, 11146, 51, 47649, 1889, 18, 4]),\n",
       "       list([2, 3895, 7234, 1905, 1006, 65, 2063, 3570, 13823, 2788, 16, 2095, 4293, 30072, 16436, 3082, 19136, 3748, 26567, 23260, 7137, 16166, 16, 2244, 45190, 1008, 26767, 1898, 12042, 10850, 1022, 65, 16796, 16, 54191, 1008, 23711, 1961, 51023, 2752, 5991, 15739, 18, 4]),\n",
       "       list([2, 11204, 15772, 1015, 16, 2095, 1950, 4498, 1005, 17, 2007, 65, 30892, 1014, 8390, 1015, 8852, 1898, 29946, 1015, 57, 3042, 16, 2095, 35118, 18, 4]),\n",
       "       list([2, 1898, 5465, 50585, 6392, 4267, 17750, 16, 38384, 1896, 9915, 51687, 3926, 1889, 53531, 1008, 7961, 2873, 4945, 1906, 10755, 1021, 16, 32553, 2243, 20382, 23080, 1012, 5907, 1897, 57430, 1889, 6, 20340, 34863, 2890, 5727, 12247, 1895, 6, 22892, 2942, 14382, 19478, 51, 45651, 40237, 4879, 5782, 30363, 2061, 16, 1893, 34087, 2601, 15772, 1015, 31428, 24256, 2054, 41877, 68, 6579, 40925, 42798, 6049, 2119, 16, 2095, 1911, 2923, 8167, 1889, 3172, 9930, 1906, 17877, 51, 4697, 2243, 65, 3377, 2261, 4299, 52911, 19078, 9099, 9378, 16919, 18, 4]),\n",
       "       list([2, 5443, 3349, 2827, 45995, 1893, 8090, 15772, 1015, 9254, 16, 2095, 5332, 1015, 1906, 5779, 30, 5688, 46007, 2616, 6603, 1922, 16, 11718, 47495, 18, 4]),\n",
       "       list([2, 1893, 8090, 2052, 15772, 1015, 16, 2095, 20093, 2351, 68, 19915, 35, 4]),\n",
       "       list([2, 5198, 1898, 1907, 16, 2095, 2243, 29692, 1010, 18, 4]),\n",
       "       list([2, 8787, 6125, 12623, 2380, 13654, 3688, 2243, 16, 2095, 3003, 50850, 17276, 1010, 16, 2177, 1015, 1950, 13781, 3937, 68, 2891, 29358, 1008, 51, 4915, 1926, 18, 4]),\n",
       "       list([2, 3223, 10521, 17592, 3885, 3927, 1019, 2243, 1906, 2024, 16, 2007, 35648, 3629, 2440, 1906, 2840, 8267, 16, 2621, 27045, 2006, 8438, 25638, 16, 43, 2094, 49501, 2243, 1898, 2440, 5366, 49240, 16, 11594, 1970, 2243, 11261, 16, 2095, 2040, 3309, 2254, 16, 2198, 2243, 5475, 1888, 22000, 31077, 1998, 51, 5971, 16273, 16, 5971, 16273, 16, 5971, 16273, 18, 4]),\n",
       "       list([2, 11863, 3890, 6282, 16, 24540, 41192, 65, 15925, 34198, 28560, 58, 18, 3890, 6282, 51, 61, 18, 27758, 15567, 52079, 1988, 16, 2095, 9571, 1961, 10211, 41855, 3003, 21426, 68, 2628, 1014, 1898, 3347, 15252, 6023, 1019, 50137, 8862, 1922, 14306, 2079, 10301, 16, 4]),\n",
       "       list([2, 51, 52079, 1988, 16, 2095, 2114, 2847, 52911, 2437, 2063, 43646, 6274, 11808, 36378, 3402, 5907, 1897, 5644, 1886, 1978, 7083, 40276, 2095, 11649, 3551, 1889, 35936, 1008, 18, 4]),\n",
       "       list([2, 2827, 21588, 52079, 4235, 1970, 2095, 56208, 7117, 16, 2095, 2436, 9609, 1951, 11745, 2027, 3905, 11049, 2021, 25367, 4678, 2234, 2006, 1893, 18803, 1008, 18, 2095, 3126, 1919, 8973, 1007, 1906, 39244, 16, 2095, 3013, 2404, 1893, 10308, 1906, 8699, 2608, 6821, 18, 18, 4]),\n",
       "       list([2, 59380, 4289, 1006, 4127, 9489, 52079, 4235, 16, 2095, 1896, 2697, 3405, 5510, 13654, 2015, 65, 19371, 1893, 2216, 51, 7623, 31968, 15035, 18, 4]),\n",
       "       list([2, 52079, 4235, 16, 2095, 4322, 5959, 28500, 65, 12785, 16, 4322, 1898, 18992, 16, 2202, 1961, 2254, 4955, 2047, 2095, 42056, 33724, 2032, 2076, 4915, 7306, 33464, 51, 4809, 1927, 3003, 2857, 16883, 2946, 621, 31083, 620, 16, 4322, 16, 2202, 13074, 26911, 5386, 1919, 3727, 3530, 34863, 18, 4]),\n",
       "       list([2, 3289, 2063, 16, 52079, 2459, 2363, 16, 2095, 40221, 10011, 1908, 17313, 19481, 16, 29282, 1890, 40221, 9656, 14109, 4286, 4438, 27351, 51, 1898, 3062, 1924, 2699, 1886, 2937, 51163, 2382, 16, 2243, 1893, 21796, 31947, 18, 4]),\n",
       "       list([2, 2599, 2210, 52079, 4722, 16, 2095, 1893, 2246, 3906, 12368, 18, 18, 18, 4]),\n",
       "       list([2, 57228, 10114, 1898, 13223, 16, 2095, 58752, 13770, 1994, 2286, 3598, 9753, 18, 4]),\n",
       "       list([2, 29357, 10114, 1898, 13223, 16, 2095, 1893, 2098, 23374, 28115, 16, 2007, 48570, 16599, 24938, 1019, 2447, 25969, 6603, 3118, 18, 4]),\n",
       "       list([2, 10114, 1898, 1907, 2095, 2055, 3882, 2095, 1893, 2208, 48748, 1943, 42408, 65, 2504, 4]),\n",
       "       list([2, 10114, 1898, 1907, 16, 2095, 2063, 18288, 5848, 4861, 1906, 52484, 2115, 51, 38668, 12829, 2092, 7645, 11406, 22822, 2210, 4663, 5386, 18, 4]),\n",
       "       list([2, 5244, 9229, 2162, 24106, 16, 2095, 44620, 16609, 1013, 4964, 1898, 32806, 42963, 8090, 32599, 7234, 1905, 1006, 4129, 2851, 3918, 18, 4]),\n",
       "       list([2, 12261, 21740, 4160, 34195, 50492, 12127, 1896, 2763, 12522, 1886, 65, 40483, 17, 2460, 11640, 1898, 22667, 16, 28843, 2095, 3547, 3228, 2499, 46024, 28878, 39765, 44166, 611, 8106, 5991, 3709, 1922, 1893, 57989, 1008, 2243, 2827, 1898, 4551, 56642, 1014, 11659, 18, 4]),\n",
       "       list([2, 6054, 68, 5397, 10297, 2338, 51, 25242, 16, 2095, 45770, 2344, 1889, 4747, 1011, 41274, 65, 6215, 1919, 4499, 3384, 21392, 23319, 34290, 2047, 15415, 16, 1935, 621, 8090, 41929, 16609, 9167, 34607, 16, 3273, 3386, 1905, 11630, 56707, 1910, 620, 18, 4]),\n",
       "       list([2, 68, 6358, 1889, 6843, 23862, 16113, 2803, 5663, 34937, 16, 2095, 65, 3172, 5616, 40931, 1886, 3641, 3656, 5332, 32599, 1896, 4024, 22561, 18, 16, 2039, 13794, 3364, 1893, 1994, 18, 4]),\n",
       "       list([2, 68, 4238, 1898, 43479, 1897, 5287, 5866, 1015, 16, 2095, 17202, 5995, 3752, 65, 4299, 15352, 46595, 17249, 9100, 65, 4877, 18, 4]),\n",
       "       list([2, 9400, 1943, 2281, 16, 2095, 3251, 3291, 10028, 2351, 9362, 2783, 17956, 5386, 16, 11265, 2692, 2351, 14479, 1889, 11193, 45939, 1897, 68, 5269, 8943, 9560, 51, 21101, 1012, 6806, 1889, 18, 4]),\n",
       "       list([2, 9400, 2281, 16, 2095, 2055, 13654, 2040, 4805, 18, 4]),\n",
       "       list([2, 9400, 1943, 2281, 2827, 16, 2095, 42938, 3118, 4176, 11630, 2931, 4467, 1013, 52364, 12056, 68, 8200, 42938, 1922, 29222, 5622, 68, 52974, 65, 7632, 22566, 3219, 2437, 8276, 37988, 1889, 18, 4]),\n",
       "       list([2, 9400, 2229, 2281, 16, 2095, 1951, 1919, 4459, 16, 1907, 1919, 51, 5703, 18, 4]),\n",
       "       list([2, 2198, 37985, 19004, 27623, 2031, 68, 14730, 621, 58972, 1900, 620, 16, 5903, 44166, 1037, 44509, 2838, 32126, 13322, 16, 1896, 2458, 3168, 27858, 1898, 4686, 24764, 27516, 11586, 6481, 6401, 1969, 10367, 2165, 16, 9400, 2110, 2281, 16, 2095, 3403, 53894, 1014, 16, 35690, 16, 10786, 1927, 24826, 2802, 51, 17065, 7226, 1006, 2671, 18, 4]),\n",
       "       list([2, 1896, 2697, 30303, 3367, 1937, 20279, 1014, 65, 20766, 51, 9400, 2281, 16, 2095, 1919, 3547, 1914, 14265, 24039, 2942, 14542, 34350, 1018, 18, 4]),\n",
       "       list([2, 2204, 9400, 2281, 16, 2095, 54865, 2351, 43923, 3745, 18, 4]),\n",
       "       list([2, 65, 2241, 5896, 65, 6, 18418, 26800, 6, 19838, 2243, 9296, 6, 14175, 9170, 1939, 2059, 6, 16, 4256, 13822, 16609, 1013, 16, 2095, 3515, 1015, 4709, 2149, 65, 3100, 31426, 23738, 1019, 68, 2851, 13801, 4606, 4830, 2342, 14175, 25607, 18, 4]),\n",
       "       list([2, 2063, 2676, 20570, 16, 2095, 9353, 2679, 2086, 39326, 1017, 51, 9781, 2575, 61, 18, 68, 53154, 17025, 4256, 55495, 2904, 11372, 1007, 4176, 36516, 1008, 16, 43, 9437, 10025, 2015, 65, 29468, 10302, 3865, 16609, 2061, 2243, 16957, 1905, 68, 6691, 12528, 14104, 16, 20691, 68, 16127, 2254, 16, 4895, 53520, 1914, 59241, 3900, 19672, 14328, 40960, 1910, 16, 27022, 25688, 1898, 1937, 35875, 1906, 7041, 2049, 2115, 40825, 1021, 18, 4]),\n",
       "       list([2, 2227, 2216, 9489, 1950, 16, 1951, 12026, 4958, 16, 2062, 1907, 9437, 53395, 2461, 53140, 1019, 16, 2095, 6, 25788, 1893, 5712, 16, 2508, 4478, 1015, 2096, 1019, 25788, 6, 18, 4]),\n",
       "       list([2, 23973, 34333, 8535, 4514, 16, 2095, 11816, 2298, 1898, 10318, 6122, 6739, 3138, 10646, 18, 4]),\n",
       "       list([2, 2915, 2499, 57580, 1008, 15477, 16, 2095, 10755, 2850, 2243, 68, 54015, 1886, 23312, 57, 7986, 2010, 23319, 12042, 3369, 2053, 2251, 2420, 46896, 1898, 2271, 3679, 17, 22378, 4525, 18, 4]),\n",
       "       list([2, 1919, 1907, 2227, 22641, 16, 2244, 3902, 18140, 2011, 14997, 1014, 16, 2095, 3003, 65, 30738, 1886, 36494, 1934, 7963, 16, 38053, 12548, 1888, 1900, 40471, 1019, 46075, 58236, 2336, 65, 3486, 42754, 16, 4207, 2359, 49597, 2999, 1922, 1906, 3877, 33565, 2165, 18, 4]),\n",
       "       list([2, 44, 1893, 2367, 1981, 2011, 14997, 1014, 16, 2095, 43, 29417, 13654, 1014, 65, 7632, 12654, 51522, 18, 4]),\n",
       "       list([2, 2204, 40528, 68, 9783, 65, 51677, 24757, 3594, 16, 2095, 52361, 2221, 1906, 17900, 3694, 4488, 5556, 18145, 2031, 15236, 10042, 13217, 1980, 16, 1898, 15388, 65, 2899, 7673, 16, 2095, 63, 4832, 12926, 9366, 2243, 5059, 37332, 2328, 18145, 2031, 36490, 2076, 1898, 7357, 2056, 18, 4]),\n",
       "       list([2, 2013, 9020, 19764, 68, 4497, 14104, 9767, 9286, 2017, 32165, 16, 2095, 5060, 2893, 68, 4215, 16871, 4036, 1006, 4054, 3462, 1893, 20227, 18, 4]),\n",
       "       list([2, 1893, 29801, 13056, 1015, 16, 2095, 2800, 15946, 1998, 37100, 1037, 3942, 65, 11430, 40112, 3003, 50850, 2800, 1017, 51, 10693, 1895, 18, 4]),\n",
       "       list([2, 13056, 2243, 16, 2095, 36100, 30993, 1889, 9951, 38170, 1893, 31575, 1906, 3062, 2165, 8647, 18, 4]),\n",
       "       list([2, 1893, 47921, 16, 2095, 2217, 12272, 2717, 43942, 2031, 40908, 2118, 47870, 1959, 51181, 10879, 1893, 2098, 22400, 8825, 4859, 3073, 19634, 2637, 1022, 16, 2114, 1935, 37494, 1019, 2243, 2114, 2058, 2450, 3493, 2254, 1906, 24284, 17136, 4]),\n",
       "       list([2, 51, 1893, 16900, 2404, 16, 2095, 2729, 16609, 27972, 16, 29292, 1911, 1893, 18, 4]),\n",
       "       list([2, 1893, 29801, 13654, 13056, 1015, 16, 2095, 19705, 21386, 13766, 7892, 50930, 1975, 1911, 42056, 27515, 5141, 3513, 1967, 19619, 3367, 16609, 2071, 68, 2524, 4830, 1889, 16, 43, 2063, 4338, 6802, 2122, 4299, 1938, 2251, 2716, 5644, 1886, 1978, 4158, 2851, 18, 4]),\n",
       "       list([2, 11204, 15772, 1015, 16, 2095, 1950, 4498, 1005, 17, 2007, 65, 30892, 1014, 8390, 1015, 8852, 1898, 29946, 1015, 57, 3042, 16, 2095, 35118, 18, 4]),\n",
       "       list([2, 1893, 30676, 1012, 16, 2095, 1911, 6926, 2676, 8852, 16, 2095, 1907, 2150, 9108, 28865, 51, 15962, 45737, 68, 2855, 1889, 21601, 17, 2426, 2959, 9486, 8913, 30448, 12859, 1007, 18, 4]),\n",
       "       list([2, 5300, 16, 5261, 6934, 16, 2095, 27692, 1953, 1982, 2131, 1893, 1994, 3234, 38563, 1008, 1951, 8484, 17714, 18, 4]),\n",
       "       list([2, 2915, 48061, 2281, 13362, 46220, 46510, 2886, 28450, 8125, 30, 6, 5841, 2095, 9664, 16, 2198, 55586, 16, 2095, 7107, 6, 18, 4]),\n",
       "       list([2, 12736, 16, 2095, 2134, 52981, 11877, 27372, 5, 4]),\n",
       "       list([2, 24669, 5244, 3359, 19272, 1015, 57, 2063, 16, 2095, 3003, 41439, 1912, 16, 51, 2831, 1015, 2243, 22177, 65, 3486, 36121, 1022, 18, 4]),\n",
       "       list([2, 44759, 2024, 16, 2095, 4145, 1935, 17457, 3594, 16, 43, 9437, 5332, 43923, 8985, 18, 4]),\n",
       "       list([2, 3737, 2095, 41555, 14504, 1012, 4706, 2126, 16, 2095, 1898, 16316, 1931, 7211, 2098, 2811, 23799, 4807, 24177, 29087, 4582, 22994, 2243, 29222, 12325, 68, 13688, 2537, 2800, 2834, 1922, 51, 9290, 33527, 1008, 4611, 8321, 18, 4]),\n",
       "       list([2, 1951, 24713, 2243, 1898, 22776, 1022, 3118, 2618, 16, 29282, 1890, 49399, 37501, 11757, 16, 35417, 3594, 27972, 36689, 65, 3584, 6564, 18, 51, 6142, 18, 16, 1907, 29801, 4706, 55495, 16, 2095, 2652, 2996, 5460, 2886, 2243, 68, 23701, 1017, 51, 43760, 18, 4]),\n",
       "       list([2, 27344, 20132, 1893, 4706, 1890, 1923, 2827, 16, 2095, 65, 39136, 2114, 7569, 58391, 33152, 5107, 8526, 51, 2210, 2681, 1919, 27595, 16, 2007, 4340, 1010, 2047, 2243, 68, 8580, 9878, 58265, 44606, 1998, 4169, 5239, 18, 4]),\n",
       "       list([2, 4169, 26721, 1013, 51, 5432, 3834, 1908, 2271, 5313, 6735, 31, 4706, 38845, 16, 2095, 7467, 1919, 5432, 3834, 14486, 29480, 2268, 50939, 2241, 5791, 7632, 21210, 16, 9128, 18, 6194, 2991, 1013, 2519, 2344, 18, 4]),\n",
       "       list([2, 2508, 37845, 2380, 1893, 2216, 2178, 2059, 16, 22196, 4706, 55495, 16, 2095, 4895, 13077, 1962, 2243, 42017, 16, 43, 16816, 20894, 25036, 10831, 12335, 16, 34357, 1012, 17, 1951, 2847, 9275, 17, 11594, 40189, 14837, 18, 4]),\n",
       "       list([2, 5638, 2243, 4706, 55495, 16, 2095, 3986, 1006, 2010, 2021, 23421, 68, 3986, 1006, 2671, 34460, 16883, 59547, 39307, 1893, 2550, 48126, 2047, 2243, 1898, 7234, 1905, 10437, 9847, 1933, 9453, 12744, 1889, 16, 2478, 15401, 1919, 53942, 18, 4]),\n",
       "       list([2, 9437, 23161, 50566, 9922, 1942, 16, 34357, 2150, 24579, 8794, 51, 26967, 3609, 2154, 1016, 4909, 14104, 32786, 3881, 12032, 16, 4706, 1890, 1019, 16, 2095, 9741, 29984, 16205, 16, 5857, 3367, 16609, 1934, 4191, 1886, 2239, 19233, 16, 2359, 5222, 18, 4]),\n",
       "       list([2, 4008, 32836, 4514, 8446, 2281, 16, 2095, 13997, 2760, 1919, 2383, 38748, 55439, 8165, 37154, 20611, 5966, 37102, 51, 2095, 20998, 16382, 5386, 17, 2204, 2164, 3530, 5386, 17, 11950, 5386, 1919, 2210, 13047, 3012, 27837, 1955, 34863, 16, 4706, 44851, 1013, 4377, 16, 2095, 1907, 16, 1935, 65, 20611, 5966, 37102, 22393, 16, 1919, 5431, 25791, 2401, 2886, 4283, 1906, 13320, 1989, 21508, 51, 2095, 22654, 1006, 3138, 51, 38804, 1919, 30399, 1985, 2079, 65, 2271, 28605, 18, 4]),\n",
       "       list([2, 3063, 4706, 55495, 16, 2095, 1898, 17858, 23923, 12191, 8940, 2471, 24073, 1021, 2847, 47788, 3985, 39601, 14542, 3431, 37912, 2103, 19412, 1889, 16, 43556, 1998, 10699, 44667, 1998, 18, 4]),\n",
       "       list([2, 4706, 1890, 1908, 2827, 16, 2095, 4805, 68, 55331, 3003, 27215, 9146, 1888, 65, 45288, 16, 2202, 46701, 22041, 2243, 65, 2504, 3874, 2323, 2808, 3527, 1896, 44895, 5587, 31, 10865, 2216, 65, 2524, 16, 3251, 33206, 2031, 6106, 1898, 35936, 16, 23557, 2215, 1898, 14605, 49919, 15887, 1890, 1923, 51715, 1015, 2243, 9437, 65, 50921, 7344, 23879, 21409, 3778, 4036, 35399, 1037, 10602, 25607, 5561, 18, 4]),\n",
       "       list([2, 3895, 4706, 55495, 16, 2095, 65, 3062, 2112, 68, 3551, 1889, 7932, 43942, 7858, 51, 10099, 17639, 30959, 1893, 1919, 1950, 21111, 5245, 1905, 2020, 51, 47643, 2315, 1924, 1951, 65, 4877, 18, 4]),\n",
       "       list([2, 51, 1893, 2147, 2243, 1893, 4706, 55495, 16, 2095, 4394, 36097, 1005, 2243, 1898, 2808, 37742, 18, 4]),\n",
       "       list([2, 29801, 4706, 55495, 16, 2095, 14883, 6006, 7975, 2236, 2059, 44445, 45939, 1897, 30937, 1022, 2359, 15810, 1006, 2298, 2039, 26433, 1008, 16, 4426, 3819, 1008, 2039, 9145, 1021, 51, 3986, 1006, 2298, 2039, 58651, 18, 4]),\n",
       "       list([2, 4008, 32836, 4514, 8446, 2281, 16, 2095, 13997, 2760, 1919, 2383, 38748, 55439, 8165, 37154, 20611, 5966, 37102, 51, 2095, 20998, 16382, 5386, 17, 2204, 2164, 3530, 5386, 17, 11950, 5386, 1919, 2210, 13047, 3012, 27837, 1955, 34863, 16, 4706, 44851, 1013, 4377, 16, 2095, 1907, 16, 1935, 65, 20611, 5966, 37102, 22393, 16, 1919, 5431, 25791, 2401, 2886, 4283, 1906, 13320, 1989, 21508, 51, 2095, 22654, 1006, 3138, 51, 38804, 1919, 30399, 1985, 2079, 65, 2271, 28605, 18, 4]),\n",
       "       list([2, 18, 18, 18, 6825, 16, 11230, 1926, 2079, 16, 2095, 26228, 2676, 16, 51, 2456, 13700, 16, 2021, 2243, 68, 21061, 41479, 1905, 16, 10324, 25032, 18, 4]),\n",
       "       list([2, 2141, 29801, 1907, 1950, 7282, 1015, 5010, 49035, 2500, 57, 18, 57, 1907, 3450, 2575, 18, 1907, 2055, 58272, 2095, 3063, 2281, 15887, 1015, 51250, 2095, 2087, 50850, 16665, 1943, 2243, 18, 2954, 2323, 4458, 68, 18, 10341, 14788, 12128, 2103, 5722, 44710, 51, 5722, 8050, 51, 5722, 8050, 29085, 65, 59378, 6005, 2198, 5946, 2359, 11909, 1923, 4]),\n",
       "       list([2, 4145, 2915, 17993, 1010, 2281, 51250, 16, 2095, 25370, 2118, 2363, 7507, 8626, 1014, 11840, 18, 4]),\n",
       "       list([2, 5627, 6058, 26758, 2281, 51250, 16, 2095, 2239, 7283, 33527, 1008, 14572, 13242, 17, 58, 1036, 12, 35627, 5901, 1889, 1898, 9179, 4158, 13, 8090, 6945, 1015, 23599, 2230, 1898, 3524, 5600, 1927, 13455, 18, 4]),\n",
       "       list([2, 15458, 2243, 19685, 25794, 1886, 51, 26758, 2281, 51250, 16, 2095, 3116, 4027, 2788, 37185, 16, 2062, 35752, 18, 4]),\n",
       "       list([2, 15887, 1982, 2281, 9568, 51250, 16, 2095, 2608, 5907, 1897, 20855, 1889, 1893, 4234, 2243, 12508, 14109, 68, 9298, 14236, 18, 4]),\n",
       "       list([2, 2458, 1898, 2923, 2254, 10059, 2243, 16, 2095, 32364, 10727, 10393, 2243, 1898, 54636, 42561, 2343, 16, 2614, 3367, 16609, 18312, 6232, 31715, 9112, 1886, 52650, 13795, 8551, 1021, 18, 4]),\n",
       "       list([2, 2228, 27215, 2118, 10059, 2243, 9489, 16, 2095, 6711, 4944, 3789, 2243, 11324, 17783, 14109, 35685, 6596, 1016, 27028, 16, 3291, 15826, 33527, 4927, 13142, 18312, 16, 2062, 1907, 5638, 10431, 5083, 33025, 25607, 18, 4]),\n",
       "       list([2, 21409, 5283, 2119, 7929, 1933, 1911, 6485, 16, 10059, 2243, 16, 2095, 5145, 13262, 2117, 19015, 18, 4]),\n",
       "       list([2, 2244, 9922, 1999, 4945, 1893, 6873, 2461, 31982, 1015, 16, 2177, 1015, 10059, 2243, 16, 2095, 7884, 2003, 1950, 50387, 30298, 50451, 2126, 63, 2292, 1898, 57389, 17, 21385, 13324, 3351, 8066, 16, 32349, 38863, 6916, 24455, 18, 4]),\n",
       "       list([2, 2827, 10059, 2243, 16, 2095, 2228, 14183, 1912, 2759, 37374, 2281, 2984, 2126, 18, 4]),\n",
       "       list([2, 21874, 10059, 2243, 16, 2095, 4631, 2243, 38761, 1008, 16, 7445, 49067, 5187, 1019, 44120, 55965, 2323, 16, 1935, 7800, 16, 1937, 3582, 16, 9437, 2458, 9001, 2174, 18, 4]),\n",
       "       list([2, 3289, 2063, 10059, 2243, 16, 2095, 29081, 22219, 2344, 16, 2177, 1015, 2855, 2568, 57928, 3650, 33227, 1006, 3942, 16, 1994, 5542, 51, 30307, 27126, 16, 4263, 22949, 10689, 29744, 48878, 16, 35648, 8687, 1893, 2602, 51, 1893, 8090, 2602, 1015, 14263, 34142, 44879, 2115, 13015, 18, 4]),\n",
       "       list([2, 40067, 51, 27215, 2118, 34638, 2243, 16, 2095, 3116, 43716, 4053, 27071, 46246, 16, 14294, 3735, 15887, 55495, 65, 3344, 1014, 18, 4]),\n",
       "       list([2, 26860, 3068, 7886, 2243, 20189, 1914, 16, 50451, 2850, 2095, 3809, 8409, 65, 6517, 16, 10059, 2243, 2456, 16, 2095, 30510, 3670, 14664, 6718, 44758, 18, 4]),\n",
       "       list([2, 10059, 2243, 27215, 2118, 16, 2095, 15789, 1889, 1922, 35270, 2227, 18, 4]),\n",
       "       list([2, 10059, 2243, 16, 2095, 2241, 2251, 3552, 1978, 29314, 65, 12266, 43136, 2479, 1889, 18, 4]),\n",
       "       list([2, 12397, 2243, 42032, 16, 2095, 5981, 2054, 7630, 2119, 10173, 18487, 15763, 65, 14419, 11044, 1897, 18, 18, 18, 4]),\n",
       "       list([2, 2443, 3059, 8599, 1013, 15887, 2047, 2281, 51250, 16, 2095, 21541, 18493, 2079, 15287, 1919, 22654, 1006, 3138, 18, 4]),\n",
       "       list([2, 611, 42824, 2281, 51250, 16, 2095, 5712, 1943, 2114, 1907, 1898, 48913, 611, 18803, 1008, 18, 4]),\n",
       "       list([2, 12022, 30, 44222, 1008, 2281, 51250, 16, 2095, 7823, 40221, 14480, 27071, 1898, 14585, 16, 46701, 1988, 16, 24821, 12928, 1898, 19885, 18, 4]),\n",
       "       list([2, 1893, 42824, 2281, 3670, 68, 2079, 16, 2095, 40884, 1013, 2428, 8692, 1942, 24391, 11192, 1021, 2021, 58651, 22398, 1008, 32765, 65, 11200, 18, 4]),\n",
       "       list([2, 8010, 4832, 7836, 2281, 51250, 16, 2095, 32567, 57425, 11193, 43864, 68, 9055, 3609, 14119, 4724, 1889, 29801, 28120, 39675, 3547, 3367, 16609, 54396, 2382, 58472, 1924, 16, 38384, 9655, 57665, 44549, 1889, 53173, 18, 4]),\n",
       "       list([2, 6867, 2759, 1893, 8641, 3367, 1008, 4967, 4822, 1889, 16, 2413, 48677, 16, 2007, 13654, 15887, 2047, 2281, 51250, 68, 2079, 16, 2095, 1893, 2610, 4967, 24031, 48677, 65, 7673, 20611, 5966, 1013, 51, 17812, 3636, 18, 4]),\n",
       "       list([2, 42824, 2281, 51250, 16, 2095, 1907, 58265, 52421, 8090, 12267, 39675, 2847, 47049, 16, 2007, 1893, 2349, 3807, 2935, 34863, 17, 38799, 10570, 59547, 39307, 18, 4]),\n",
       "       list([2, 1919, 23500, 16, 2062, 2599, 16898, 16609, 2281, 51250, 16, 2095, 7400, 22395, 16609, 2243, 55780, 1893, 2098, 52543, 24509, 30989, 53965, 16, 4263, 37494, 1900, 2243, 1906, 10253, 31435, 2165, 29946, 1926, 16, 43, 3251, 13008, 16, 2847, 56048, 12058, 68, 3459, 51286, 1910, 57918, 2380, 2946, 18, 4]),\n",
       "       list([2, 2007, 13674, 2281, 51250, 16, 2095, 1907, 1893, 1919, 5981, 35, 4]),\n",
       "       list([2, 1907, 5034, 68, 22023, 1914, 39297, 23312, 43150, 4143, 16, 2095, 2013, 45125, 1891, 52795, 1019, 4095, 16609, 18, 4]),\n",
       "       list([2, 11477, 2243, 39157, 1914, 16, 2095, 65, 36172, 9083, 2899, 5629, 18, 4]),\n",
       "       list([2, 49444, 3096, 15072, 3594, 2243, 16, 2095, 27412, 1893, 3003, 5299, 18730, 16, 34357, 1012, 29801, 35610, 1015, 18, 4]),\n",
       "       list([2, 4309, 19508, 47599, 5486, 2243, 2827, 16, 2095, 1919, 17455, 1988, 51, 1893, 1994, 1935, 68, 2878, 9207, 2059, 1015, 16, 1935, 15898, 11316, 2210, 3732, 16, 17455, 9922, 1999, 4729, 55137, 18, 4]),\n",
       "       list([2, 4145, 58689, 7808, 16, 2095, 2198, 2013, 7299, 2461, 9612, 4983, 16, 1907, 2404, 65, 2063, 3570, 1893, 9500, 15711, 18, 4]),\n",
       "       list([2, 2335, 1969, 2614, 1886, 54980, 45237, 1008, 3890, 1020, 35749, 2627, 4645, 1015, 16, 2095, 26228, 2098, 4332, 1998, 35, 4]),\n",
       "       list([2, 51, 18, 18, 18, 21409, 15902, 16129, 16, 2095, 18, 18, 18, 2827, 3895, 2722, 4955, 1015, 18, 18, 18, 4]),\n",
       "       list([2, 2062, 16129, 16, 2095, 2055, 1893, 2208, 3234, 37154, 16, 2413, 1971, 21104, 2613, 18, 4]),\n",
       "       list([2, 53051, 16, 37248, 16, 25036, 34065, 17, 2652, 16, 29282, 1890, 6170, 1908, 1898, 58864, 31303, 6495, 65, 25986, 48, 31147, 17, 31910, 16, 2095, 2271, 5047, 2394, 1890, 4571, 4232, 15497, 2243, 39015, 18, 4]),\n",
       "       list([2, 37035, 40365, 1916, 50127, 1906, 3877, 51, 1893, 46451, 2243, 16, 43, 2198, 41145, 7935, 2015, 1898, 50859, 1018, 16, 4377, 7808, 16, 2095, 2404, 21392, 2243, 1893, 10624, 18, 4]),\n",
       "       list([2, 2198, 1896, 4299, 9669, 47922, 2452, 10851, 2011, 34322, 3611, 10135, 1048, 7208, 16, 2095, 15282, 6001, 1017, 18, 4]),\n",
       "       list([2, 27412, 65, 2608, 10289, 31910, 16, 2095, 68, 16053, 3424, 30875, 1889, 57, 2847, 21392, 1919, 2545, 1017, 23319, 4170, 14104, 18, 4]),\n",
       "       list([2, 3289, 2063, 16, 51983, 7208, 16, 2095, 2499, 8010, 8090, 18, 4]),\n",
       "       list([2, 65, 4957, 3950, 31910, 16, 2095, 18358, 1908, 1911, 5068, 16, 2177, 1015, 3062, 1927, 2243, 1906, 2079, 1893, 14497, 1005, 18, 4]),\n",
       "       list([2, 17403, 16, 2095, 4066, 54415, 2165, 16879, 1926, 65, 35435, 7673, 2785, 1888, 2243, 68, 2063, 17025, 16, 2095, 1907, 2499, 16, 4508, 12412, 16, 52984, 2243, 1906, 29946, 1926, 2079, 2360, 2529, 15877, 3900, 8273, 18, 4]),\n",
       "       list([2, 16129, 16, 2095, 3754, 2255, 18332, 3040, 13654, 1919, 3174, 35701, 2268, 8818, 42344, 18, 4]),\n",
       "       list([2, 31910, 16, 2095, 21194, 2063, 2676, 13361, 17650, 12379, 1015, 51, 2095, 9611, 5791, 7313, 51365, 1924, 65, 26578, 18, 4]),\n",
       "       list([2, 31910, 16, 2095, 21194, 2063, 2676, 13361, 17650, 12379, 1015, 4]),\n",
       "       list([2, 2007, 11204, 4645, 1015, 2095, 2114, 3527, 9909, 35251, 12446, 17049, 18, 49113, 1988, 18864, 2838, 36679, 11193, 1006, 1946, 28094, 18, 51, 3234, 45721, 11987, 31179, 28094, 4257, 2376, 4257, 20621, 2115, 18, 49035, 21843, 1995, 5731, 1022, 2614, 2117, 4340, 38190, 2101, 27071, 2436, 29152, 1905, 1907, 2185, 1907, 38220, 7715, 4]),\n",
       "       list([2, 12744, 51, 51447, 7896, 55350, 2281, 14372, 35610, 1015, 16, 4645, 1015, 16, 2095, 3842, 1008, 2243, 15218, 16, 43, 1893, 2173, 2675, 37261, 1969, 16471, 2011, 11560, 8287, 18, 4]),\n",
       "       list([2, 4764, 18, 18, 18, 17, 20965, 23021, 4891, 16, 1893, 11542, 50759, 16609, 1898, 1907, 16, 2095, 1893, 8503, 22219, 3097, 1943, 2800, 1022, 51, 3270, 2619, 15446, 65, 2538, 3604, 1006, 2537, 2385, 32486, 18, 4]),\n",
       "       list([2, 11542, 10279, 1976, 16, 2095, 14538, 1924, 4553, 1922, 59390, 1008, 6459, 34281, 5095, 1033, 6612, 3172, 13716, 16, 29801, 8730, 2203, 25410, 16, 2095, 28105, 1976, 3551, 8245, 1919, 47180, 1914, 24030, 44917, 1037, 6832, 17, 1951, 5946, 16, 4]),\n",
       "       list([2, 11542, 45362, 16, 2095, 1893, 41284, 2243, 3415, 5043, 1010, 1961, 17455, 2012, 1906, 3577, 65, 43271, 27542, 3607, 1015, 16, 2095, 2363, 2191, 9898, 16609, 2197, 5180, 2026, 1948, 16, 2198, 2212, 53738, 1906, 5341, 5697, 2243, 7017, 3846, 31, 1896, 12211, 34863, 17428, 10196, 17, 51237, 17, 1907, 2197, 16, 43, 1893, 16, 1907, 1893, 18, 18, 18, 4]),\n",
       "       list([2, 11542, 45362, 16, 2095, 1893, 41284, 2243, 3415, 5043, 1010, 1961, 17455, 2012, 1906, 3577, 65, 43271, 27542, 3607, 1015, 16, 2095, 2363, 2191, 9898, 16609, 2197, 5180, 2026, 1948, 16, 2198, 2212, 53738, 1906, 5341, 5697, 2243, 7017, 3846, 31, 1896, 12211, 34863, 17428, 10196, 17, 51237, 17, 1907, 2197, 16, 43, 1893, 16, 1907, 1893, 18, 18, 18, 4]),\n",
       "       list([2, 2007, 13654, 7029, 22921, 1013, 14997, 1014, 2095, 18, 2934, 2807, 1886, 1907, 1935, 18803, 1943, 9437, 1919, 16534, 65, 4313, 33020, 65, 15513, 65, 4313, 2451, 11708, 14535, 23883, 65, 4313, 13445, 2113, 19042, 2062, 2204, 6058, 12021, 2243, 2095, 30143, 1985, 68, 19265, 1919, 2934, 25607, 1008, 18, 8004, 18, 4]),\n",
       "       list([2, 7029, 4357, 13654, 14997, 1014, 1898, 1907, 16, 2095, 24156, 32236, 4265, 2039, 4955, 2834, 4927, 29946, 1015, 18, 4]),\n",
       "       list([2, 27016, 37262, 12240, 16, 54067, 4598, 2036, 2450, 68, 15323, 6, 1898, 3135, 51, 1898, 5673, 6, 16, 38384, 65, 2063, 2338, 4591, 1011, 1927, 1923, 24509, 38683, 65, 26533, 6876, 65, 23862, 3043, 27976, 2476, 16, 8418, 2243, 16, 2095, 33593, 29233, 3935, 5386, 47364, 23383, 1022, 1893, 41284, 7788, 6170, 2243, 68, 2063, 16, 2095, 21985, 7630, 16, 38053, 1910, 15912, 29303, 65, 49588, 16, 1994, 3410, 1906, 7986, 2671, 33721, 18, 4]),\n",
       "       list([2, 65, 6151, 13141, 22561, 18, 55535, 1897, 6185, 51, 5660, 22561, 18, 47922, 3059, 53262, 2117, 16, 2095, 7546, 1906, 25102, 18, 4]),\n",
       "       list([2, 1893, 53262, 2117, 2260, 2095, 9437, 18803, 1923, 2260, 57, 17506, 13925, 2095, 2851, 4131, 19585, 65, 2063, 6189, 65, 67, 1013, 2141, 2138, 49240, 1947, 2216, 4481, 39675, 2530, 1969, 22829, 3952, 2039, 11699, 2802, 51, 1907, 2802, 68, 19390, 4]),\n",
       "       list([2, 53262, 2117, 16, 2095, 1893, 37138, 65, 22200, 68, 45503, 50492, 1914, 4768, 3121, 2239, 23905, 2031, 1906, 4258, 18, 4]),\n",
       "       list([2, 51, 4579, 65, 17855, 53262, 5000, 16, 2095, 25956, 25249, 1007, 56937, 36494, 1013, 49927, 2802, 9922, 39237, 18, 4]),\n",
       "       list([2, 51, 53262, 2117, 16, 2095, 6370, 7050, 1893, 36706, 2243, 1961, 6942, 57, 21109, 8663, 12522, 2042, 1906, 10755, 1021, 18, 4]),\n",
       "       list([2, 52957, 1014, 9437, 4693, 3391, 16, 53262, 2117, 16, 2095, 1893, 40065, 2214, 41502, 42090, 4]),\n",
       "       list([2, 53262, 2117, 2098, 3888, 30, 2095, 1893, 1994, 9437, 16890, 51, 2095, 3348, 1893, 23923, 1013, 1019, 3130, 43362, 1898, 6345, 9797, 6629, 2919, 2423, 18, 4]),\n",
       "       list([2, 53262, 2117, 2098, 3888, 30, 2095, 1893, 1994, 9437, 16890, 51, 2095, 3348, 1893, 23923, 1013, 1019, 3130, 43362, 1898, 6345, 9797, 6629, 2919, 2423, 18, 4]),\n",
       "       list([2, 53262, 2613, 16, 2095, 2191, 2359, 1011, 35, 4]),\n",
       "       list([2, 9486, 8913, 4706, 1890, 1019, 16, 2095, 65, 2388, 13202, 25470, 1886, 1037, 23319, 65, 14078, 10973, 1906, 37165, 45237, 1008, 44736, 48973, 18, 4]),\n",
       "       list([2, 6058, 15685, 16, 2095, 68, 18610, 19932, 2811, 7548, 18, 4]),\n",
       "       list([2, 25089, 2086, 2243, 16, 2244, 10025, 16, 2095, 3348, 2243, 1906, 2024, 4281, 2126, 18, 4]),\n",
       "       list([2, 9489, 1951, 2055, 9437, 43860, 1903, 1906, 2079, 6108, 11192, 1021, 51, 15685, 2095, 21020, 34066, 1903, 57, 7129, 4054, 4362, 51, 1893, 1994, 47996, 22963, 1021, 18, 18, 4]),\n",
       "       list([2, 13947, 2124, 1889, 17224, 2328, 36500, 3367, 1008, 2243, 1896, 7757, 45237, 1021, 2271, 3919, 17224, 2423, 16, 2095, 24008, 4090, 2383, 7903, 5332, 29580, 3212, 17386, 18, 4]),\n",
       "       list([2, 3006, 43808, 2243, 68, 2011, 55485, 3059, 28052, 16, 2095, 2899, 1898, 4032, 9119, 14104, 1893, 2763, 12522, 2117, 4]),\n",
       "       list([2, 19792, 33605, 8621, 6780, 5225, 2537, 2243, 12, 65, 10955, 2241, 5335, 13, 68, 42868, 2661, 3981, 7909, 16166, 16, 2827, 16, 2244, 43808, 2243, 16, 2095, 28115, 6289, 3807, 16, 7438, 5465, 3813, 2342, 2898, 14104, 1898, 45574, 51, 6303, 1926, 14931, 5345, 2210, 11687, 4901, 1014, 51, 41479, 4235, 2243, 68, 5133, 1895, 27388, 27231, 18, 4]),\n",
       "       list([2, 65, 20653, 25470, 1010, 13318, 56120, 2243, 16, 2095, 16, 16, 10630, 12324, 1889, 17495, 1898, 3570, 2216, 16904, 21396, 51, 10994, 3324, 6965, 6735, 2380, 23862, 11542, 1011, 57975, 47222, 16, 38053, 11718, 1013, 4354, 34453, 58265, 44606, 5029, 65, 3845, 28980, 18, 4]),\n",
       "       list([2, 15556, 1896, 3949, 53023, 1013, 41502, 1899, 7970, 12191, 21635, 2243, 28984, 16, 1951, 1961, 35387, 15075, 1895, 16, 51, 3241, 22237, 16, 2095, 8182, 22566, 1892, 2243, 65, 2524, 5261, 16, 2095, 3869, 3430, 26716, 1013, 50590, 1013, 58461, 7518, 7295, 25607, 51, 2095, 1898, 14486, 1919, 34252, 3415, 16, 38053, 31135, 41262, 2203, 2243, 2114, 2840, 18, 4]),\n",
       "       list([2, 621, 7116, 22800, 3068, 620, 6601, 48570, 16, 2095, 5224, 50759, 16609, 1013, 3896, 15252, 9794, 56418, 621, 21386, 8721, 620, 3836, 10418, 5224, 15187, 57, 47768, 65, 15328, 9478, 2338, 56599, 33775, 8086, 16, 2827, 10755, 5636, 40164, 15923, 1937, 14604, 1911, 42058, 1927, 51, 30395, 4235, 11193, 49240, 1022, 46200, 18, 4]),\n",
       "       list([2, 1906, 2388, 6133, 5059, 7745, 52533, 2359, 2228, 17443, 2020, 16, 1893, 2216, 9011, 2671, 50852, 11146, 17, 15412, 9486, 16, 6601, 29233, 16, 2095, 4776, 59547, 39307, 2228, 27215, 2118, 20448, 6813, 13654, 15922, 19432, 18, 4]),\n",
       "       list([2, 6601, 1908, 16, 2095, 45617, 14504, 2281, 5750, 621, 2241, 3060, 14535, 1012, 2114, 58294, 1014, 41400, 65, 8289, 16, 3006, 65, 3410, 51, 2286, 2458, 65, 8289, 620, 8090, 4714, 14109, 27972, 18, 4]),\n",
       "       list([2, 47041, 1886, 16, 2217, 2555, 16, 34357, 2052, 2243, 1950, 21808, 1905, 5585, 17010, 16, 6601, 16, 2095, 9437, 47, 45559, 46101, 2122, 7984, 23679, 2351, 4318, 1895, 8116, 2351, 16, 10758, 20666, 8887, 31156, 6015, 52084, 1914, 5150, 6738, 2351, 16, 2173, 1919, 29152, 1015, 57, 37635, 14153, 1978, 10055, 30, 35648, 2813, 17528, 11901, 2450, 1012, 35137, 18, 25901, 17195, 13770, 1893, 2250, 7366, 2027, 58441, 13383, 16, 1893, 7211, 1951, 2243, 4234, 1015, 1906, 27456, 2013, 2534, 16, 51, 1906, 2079, 6663, 7429, 1012, 2138, 11426, 1015, 31, 24256, 58041, 18148, 16, 4342, 2243, 2177, 1015, 20167, 1942, 11984, 2594, 18, 4]),\n",
       "       list([2, 9595, 15084, 26227, 50813, 6601, 2047, 16, 2095, 2244, 65, 7918, 2254, 6548, 18, 22710, 8862, 1005, 3703, 2908, 27454, 6517, 1889, 65, 2388, 9884, 16, 17019, 1013, 21316, 18, 4]),\n",
       "       list([2, 1893, 9948, 2013, 22862, 2474, 6601, 1015, 16, 2095, 1907, 29480, 20749, 1924, 19734, 3012, 25180, 54662, 31715, 6741, 25607, 10690, 13867, 13650, 12313, 21015, 10643, 4412, 2289, 3714, 1889, 1906, 2388, 57195, 9047, 4797, 43486, 33553, 2380, 37102, 10476, 65, 3100, 57132, 3209, 18, 4]),\n",
       "       list([2, 11954, 16, 2095, 34774, 2437, 17777, 2237, 7581, 3276, 11242, 5622, 51, 4895, 27069, 40468, 36015, 1906, 11145, 65, 3119, 2388, 3662, 18, 4]),\n",
       "       list([2, 11954, 16, 2095, 7691, 11594, 17777, 16609, 2098, 1937, 11360, 16, 38053, 3937, 2898, 35399, 1898, 30738, 1886, 1906, 19846, 13789, 1906, 2760, 28634, 2123, 10188, 18, 4]),\n",
       "       list([2, 11954, 16, 2095, 17777, 2237, 7581, 3276, 56439, 2114, 7526, 1898, 6356, 1938, 2450, 4348, 13438, 10952, 16, 65, 5331, 3405, 5941, 2730, 33527, 2061, 2338, 18, 4]),\n",
       "       list([2, 11954, 16, 2095, 65, 10188, 2437, 7581, 3272, 1888, 12379, 23576, 1893, 34087, 18057, 1015, 3927, 3543, 57, 22668, 3662, 18, 4]),\n",
       "       list([2, 11954, 16, 2095, 34774, 2437, 17777, 2237, 7581, 3276, 11242, 5622, 51, 4895, 27069, 40468, 36015, 1906, 11145, 65, 3119, 2388, 3662, 18, 4]),\n",
       "       list([2, 11954, 16, 2095, 7691, 2186, 4257, 51, 3410, 15826, 25607, 35128, 3779, 16313, 16, 65, 34357, 1012, 20289, 1923, 57, 7544, 1931, 2388, 3662, 2212, 13340, 18, 4]),\n",
       "       list([2, 21085, 1943, 16, 2095, 65, 4313, 9480, 6769, 32419, 2349, 8667, 28962, 40276, 68, 17319, 44242, 2338, 30, 49043, 30313, 16166, 51, 11897, 3142, 8125, 18, 4]),\n",
       "       list([2, 4727, 5904, 3059, 5577, 2336, 3221, 33553, 19051, 2243, 16, 2095, 1919, 59504, 5030, 38012, 18, 4]),\n",
       "       list([2, 5244, 59284, 10241, 10558, 2637, 51, 12142, 36613, 2351, 1927, 38814, 2033, 16, 2095, 3221, 33553, 7053, 14504, 6460, 16, 2095, 3003, 29946, 13960, 16, 32401, 31634, 2271, 68, 5059, 18, 4]),\n",
       "       list([2, 3461, 16, 2614, 2117, 2098, 3221, 33553, 7053, 1015, 18814, 18271, 16, 2095, 1919, 13040, 18, 4]),\n",
       "       list([2, 1893, 4447, 16, 2335, 2614, 2613, 2024, 3221, 33553, 7053, 1015, 16, 2095, 9664, 4673, 18, 4]),\n",
       "       list([2, 1961, 8107, 2614, 2117, 2052, 3221, 33553, 7053, 1015, 16, 2095, 2996, 2138, 2191, 1893, 56232, 18, 4]),\n",
       "       list([2, 1896, 5133, 1010, 13654, 9898, 16609, 16, 2095, 14993, 1897, 1927, 1923, 18, 4]),\n",
       "       list([2, 9898, 16609, 16, 2095, 51, 26845, 6994, 7228, 65, 7159, 38822, 18, 4]),\n",
       "       list([2, 9898, 16609, 16, 2095, 15737, 36034, 3668, 1013, 41151, 2006, 3216, 5386, 18, 18, 18, 4]),\n",
       "       list([2, 9898, 16609, 16, 2095, 9290, 2126, 9437, 1950, 2577, 1006, 2298, 5928, 18, 4]),\n",
       "       list([2, 9898, 16609, 16, 2095, 15619, 1907, 1898, 3115, 4634, 14504, 18, 4]),\n",
       "       list([2, 13932, 25312, 9905, 10795, 4535, 19487, 2949, 54336, 8894, 9437, 2011, 3356, 4304, 1011, 1988, 16, 2007, 9898, 16609, 16, 2095, 6031, 11300, 27456, 1893, 2959, 13836, 2039, 4479, 1007, 46200, 4139, 3578, 3073, 11075, 16, 1935, 5287, 51, 1937, 2414, 3962, 1014, 16, 2095, 15355, 26816, 16783, 6460, 4805, 3928, 32242, 2004, 6224, 25607, 18, 4]),\n",
       "       list([2, 1898, 2271, 39766, 9898, 16609, 1951, 1898, 13079, 16, 2095, 5946, 1907, 7506, 2039, 29362, 1889, 16, 29282, 1890, 65, 49945, 26149, 3774, 12084, 2047, 2143, 5310, 4085, 3641, 23759, 2618, 17, 2608, 2228, 38288, 1897, 2616, 2608, 2228, 32935, 1897, 16, 1950, 2228, 16, 2095, 1893, 4027, 1008, 1961, 2772, 2934, 2807, 1886, 56232, 3666, 2537, 1015, 46896, 18, 4]),\n",
       "       list([2, 15301, 9898, 16609, 16, 2095, 65, 2063, 9615, 23317, 1919, 22512, 23213, 1906, 49989, 30, 3842, 1924, 51, 4955, 1955, 18483, 3367, 16609, 1008, 57265, 5386, 16, 34010, 9513, 16, 16775, 16, 43, 5443, 3349, 46538, 12601, 18, 4]),\n",
       "       list([2, 9898, 16609, 9437, 1896, 2608, 23599, 2476, 2095, 4095, 45296, 27819, 1014, 10865, 2500, 57, 19021, 7595, 32182, 40276, 4]),\n",
       "       list([2, 9898, 16609, 6190, 1905, 16, 2095, 27972, 65, 7281, 3486, 25131, 1013, 1948, 4]),\n",
       "       list([2, 9898, 16609, 16, 2095, 8389, 3883, 25470, 1013, 68, 34701, 28399, 2064, 2126, 1906, 7228, 8389, 2165, 16, 63, 2891, 5890, 10257, 1006, 3278, 18, 4]),\n",
       "       list([2, 9898, 16609, 16, 2095, 2456, 5553, 7287, 1893, 26086, 18, 4]),\n",
       "       list([2, 9898, 16609, 16, 2095, 15586, 7879, 16, 14764, 18, 4]),\n",
       "       list([2, 9898, 16609, 16, 2095, 11369, 16533, 1007, 3003, 6524, 39489, 22328, 1896, 6783, 25007, 4]),\n",
       "       list([2, 9898, 16609, 16, 2095, 11971, 2243, 16, 1935, 38220, 2722, 18, 4]),\n",
       "       list([2, 4706, 1890, 2086, 16, 2095, 4856, 24733, 1961, 9883, 1021, 4482, 2243, 2011, 48585, 37102, 5724, 16, 23961, 1013, 6495, 51, 5445, 17763, 18, 4]),\n",
       "       list([2, 2244, 5529, 25302, 1906, 2504, 16, 4706, 1890, 1019, 16, 2095, 2124, 4443, 50930, 18, 4]),\n",
       "       list([2, 51026, 1896, 6221, 4706, 1890, 1923, 16, 2095, 2244, 2243, 27590, 10393, 16, 6134, 1011, 1919, 51324, 18, 4]),\n",
       "       list([2, 9437, 3659, 2024, 2963, 1890, 1019, 16, 2244, 4706, 1890, 2086, 16, 2095, 25788, 33111, 2574, 2243, 6292, 1906, 9987, 5366, 2126, 51, 10144, 35201, 58282, 2692, 2239, 38371, 18, 4]),\n",
       "       list([2, 4706, 1890, 2214, 2095, 2055, 2030, 2040, 37971, 43, 2499, 1898, 3934, 4901, 2476, 1994, 1937, 67, 13654, 11420, 2436, 18, 4]),\n",
       "       list([2, 2134, 2011, 4634, 14504, 1012, 15009, 51935, 1037, 2114, 36022, 2026, 5334, 12717, 16, 2007, 1896, 17863, 10188, 51, 5179, 1006, 6436, 2503, 35888, 4340, 1889, 46200, 25993, 16, 2095, 1893, 1994, 2013, 16, 2415, 7851, 16, 6671, 1889, 1906, 2210, 7089, 4]),\n",
       "       list([2, 1893, 54976, 16, 2095, 2221, 14875, 5779, 18, 4]),\n",
       "       list([2, 5413, 2013, 2803, 54976, 16, 2095, 18, 18, 18, 43, 18, 65, 2388, 27103, 5446, 57, 3347, 1996, 30440, 6, 31, 44, 18, 10186, 4340, 13198, 3075, 8547, 9558, 51687, 3926, 1889, 16, 23319, 18, 18, 18, 6, 31, 45, 18, 68, 6101, 66, 9720, 9297, 8090, 4890, 25607, 1008, 16, 5010, 2292, 9178, 8158, 3670, 43, 6, 31, 46, 18, 49914, 19235, 1898, 2063, 6955, 1893, 5496, 1906, 3879, 18, 4]),\n",
       "       list([2, 1950, 16, 2062, 54976, 16, 2095, 12021, 1943, 12909, 18, 4]),\n",
       "       list([2, 3063, 12026, 13654, 13781, 14294, 1893, 4213, 2788, 2095, 2141, 2095, 2095, 2461, 1919, 3409, 5829, 9333, 4]),\n",
       "       list([2, 1898, 3356, 54252, 2243, 51, 54976, 1015, 16, 2095, 50850, 2134, 2094, 16, 12102, 1951, 16, 1893, 4027, 16609, 16, 4551, 1013, 16729, 1902, 1898, 4019, 1020, 1906, 28504, 14567, 18, 4]),\n",
       "       list([2, 54976, 1015, 16, 2095, 47666, 43942, 3176, 1893, 8090, 2281, 37511, 4062, 16, 13953, 1906, 9231, 5831, 16, 1947, 7029, 25253, 2243, 57, 3898, 1906, 7884, 2982, 35619, 16, 34357, 7717, 26516, 20207, 4669, 16609, 19201, 2617, 5994, 18, 4]),\n",
       "       list([2, 25993, 2095, 9664, 1893, 50217, 2059, 18, 4]),\n",
       "       list([2, 2062, 54976, 16, 2095, 63, 2292, 55356, 1994, 51, 3913, 2268, 8004, 16, 65, 7283, 10053, 2013, 7064, 18, 4]),\n",
       "       list([2, 4515, 5369, 54691, 16, 2007, 54976, 1015, 16, 2095, 2243, 37761, 1906, 3115, 3221, 54577, 3675, 16, 41302, 68, 26828, 1898, 18108, 17299, 27119, 51, 68, 11687, 2011, 2123, 5187, 8210, 11887, 16, 68, 50127, 5118, 3700, 1924, 44088, 11813, 1008, 20054, 2776, 20768, 1889, 16, 7836, 2243, 36359, 1015, 18, 4]),\n",
       "       list([2, 9072, 4213, 16, 2095, 23213, 1919, 2228, 3572, 12197, 18, 4]),\n",
       "       list([2, 3814, 1898, 33430, 30, 3959, 2243, 11113, 51, 4213, 16, 2095, 2239, 22917, 2131, 1919, 25729, 5107, 65, 11678, 10990, 18, 18, 18, 4]),\n",
       "       list([2, 2204, 25993, 16, 2095, 1907, 2212, 6996, 18, 4]),\n",
       "       list([2, 2098, 18, 18, 18, 25993, 16, 2095, 2243, 68, 2564, 1011, 59461, 1900, 18, 18, 18, 4]),\n",
       "       list([2, 8600, 2095, 2079, 1893, 1994, 18, 4]),\n",
       "       list([2, 8600, 16, 2095, 2752, 16631, 16, 6823, 2537, 1015, 68, 18153, 1914, 4213, 16, 2095, 41675, 8893, 1911, 18969, 2279, 18, 4]),\n",
       "       list([2, 8600, 16, 2095, 2752, 16631, 16, 6823, 2537, 1015, 68, 18153, 1914, 4213, 16, 2095, 41675, 8893, 1911, 18969, 2279, 18, 4]),\n",
       "       list([2, 8600, 16, 2095, 2241, 5791, 2243, 2411, 1984, 10473, 1908, 18, 10808, 40365, 1013, 65, 5366, 1006, 1946, 51, 2614, 2117, 16377, 1015, 41502, 1006, 3118, 18, 4]),\n",
       "       list([2, 3553, 2095, 3409, 1919, 13654, 65, 8539, 1893, 3933, 12026, 29766, 2039, 14883, 10247, 6453, 2062, 2286, 1919, 6703, 18, 4]),\n",
       "       list([2, 6857, 39864, 18, 4213, 16, 2095, 31457, 56208, 1933, 2243, 68, 31145, 2074, 16, 38384, 20611, 5966, 1886, 30488, 2241, 39864, 6381, 7086, 18, 4]),\n",
       "       list([2, 2610, 3598, 2032, 10325, 3318, 30858, 8427, 35109, 1008, 2217, 2094, 4833, 30, 65, 9282, 2935, 14104, 2503, 9133, 1008, 2243, 2461, 16998, 16, 2212, 51040, 10072, 1889, 4426, 3819, 1897, 16, 65, 33847, 6616, 2827, 1888, 8600, 16, 2095, 33747, 1008, 4944, 32624, 29887, 2388, 4761, 18, 4]),\n",
       "       list([2, 4908, 2827, 25993, 16, 2095, 5972, 39622, 1005, 2614, 1014, 16, 3707, 9893, 2122, 68, 2271, 19864, 2346, 16, 68, 6358, 3543, 2616, 16073, 1007, 17, 51, 2915, 6065, 8129, 26393, 16, 1951, 2353, 9273, 16, 5283, 58683, 2858, 2910, 16, 8344, 2051, 2385, 65, 3482, 2206, 17, 6845, 1996, 26828, 16, 14452, 65, 3377, 14690, 1037, 45055, 1911, 7041, 2049, 3764, 18, 4]),\n",
       "       list([2, 45274, 11560, 2827, 9898, 16609, 16, 2095, 16665, 44166, 2243, 1896, 2555, 4633, 5832, 29378, 2664, 2138, 12597, 1889, 1942, 50451, 2126, 2437, 36559, 1998, 18, 4]),\n",
       "       list([2, 4027, 16609, 1898, 42897, 2011, 23854, 5577, 2071, 4013, 9107, 1022, 2013, 2946, 3753, 10085, 1886, 8549, 1889, 9898, 16609, 16, 2095, 5403, 5945, 1021, 1919, 38894, 23319, 1976, 18, 4]),\n",
       "       list([2, 9898, 16609, 2216, 16, 2095, 1893, 3876, 38677, 16, 2095, 1951, 3984, 22062, 33374, 1961, 18568, 33323, 1911, 5928, 1898, 17259, 18, 4]),\n",
       "       list([2, 9898, 16609, 2216, 16, 2095, 1893, 3876, 38677, 16, 2095, 1951, 3984, 22062, 33374, 1961, 18568, 33323, 1911, 5928, 1898, 17259, 18, 4]),\n",
       "       list([2, 9898, 16609, 16, 2095, 1919, 9437, 1898, 6783, 17786, 18, 4]),\n",
       "       list([2, 2030, 40221, 4949, 38584, 16, 2095, 2013, 2803, 12250, 1994, 26825, 2437, 48721, 16, 2030, 14229, 2114, 2808, 21694, 40575, 4955, 52867, 9417, 16, 2030, 8822, 1948, 2243, 24391, 3117, 4955, 52867, 1014, 27972, 16, 2030, 48570, 41886, 2243, 51, 5245, 50930, 36755, 50719, 15956, 23652, 2054, 18, 4])],\n",
       "      dtype=object)"
      ]
     },
     "execution_count": 118,
     "metadata": {
      "tags": []
     },
     "output_type": "execute_result"
    }
   ],
   "source": [
    "presup_tokenized.values"
   ]
  },
  {
   "cell_type": "markdown",
   "metadata": {
    "colab_type": "text",
    "id": "oaDi0KStQJj8"
   },
   "source": [
    "## Padding\n",
    "\n",
    "We need to have input of the same lenght in order to feed BERT once (we will get performance speed). This will be some simple python string manipulations"
   ]
  },
  {
   "cell_type": "code",
   "execution_count": 0,
   "metadata": {
    "colab": {},
    "colab_type": "code",
    "id": "5aSvvbmTQJj8"
   },
   "outputs": [],
   "source": [
    "max_len = 0\n",
    "for i in tokenized.values:\n",
    "    if len(i) > max_len:\n",
    "        max_len = len(i)"
   ]
  },
  {
   "cell_type": "code",
   "execution_count": 120,
   "metadata": {
    "colab": {
     "base_uri": "https://localhost:8080/",
     "height": 34
    },
    "colab_type": "code",
    "id": "nGx5Tv89QJj_",
    "outputId": "15d62f82-fd45-43d0-d21b-a7ac7cc26237"
   },
   "outputs": [
    {
     "data": {
      "text/plain": [
       "146"
      ]
     },
     "execution_count": 120,
     "metadata": {
      "tags": []
     },
     "output_type": "execute_result"
    }
   ],
   "source": [
    "max_len"
   ]
  },
  {
   "cell_type": "code",
   "execution_count": 121,
   "metadata": {
    "colab": {
     "base_uri": "https://localhost:8080/",
     "height": 34
    },
    "colab_type": "code",
    "id": "mTHbEjXuxvip",
    "outputId": "cdbc54f8-eebd-43d5-b5e7-307596fd07c6"
   },
   "outputs": [
    {
     "data": {
      "text/plain": [
       "108"
      ]
     },
     "execution_count": 121,
     "metadata": {
      "tags": []
     },
     "output_type": "execute_result"
    }
   ],
   "source": [
    "presup_max_len = 0\n",
    "for i in presup_tokenized.values:\n",
    "  if len(i) > presup_max_len:\n",
    "    presup_max_len = len(i)\n",
    "presup_max_len"
   ]
  },
  {
   "cell_type": "markdown",
   "metadata": {
    "colab_type": "text",
    "id": "m6khNyYFQJkC"
   },
   "source": [
    "Maybe we can consider shortening some sentences here"
   ]
  },
  {
   "cell_type": "code",
   "execution_count": 0,
   "metadata": {
    "colab": {},
    "colab_type": "code",
    "id": "yrk93wfaQJkC"
   },
   "outputs": [],
   "source": [
    "padded = np.array([i + [0]*(max_len-len(i)) for i in tokenized.values])\n",
    "presup_padded = np.array([i + [0]*(presup_max_len-len(i)) for i in presup_tokenized.values])"
   ]
  },
  {
   "cell_type": "code",
   "execution_count": 123,
   "metadata": {
    "colab": {
     "base_uri": "https://localhost:8080/",
     "height": 136
    },
    "colab_type": "code",
    "id": "kKCOSXjXQJkF",
    "outputId": "68004eb4-87e2-46ae-8a7c-a0a6c4aa8ca2",
    "scrolled": true
   },
   "outputs": [
    {
     "data": {
      "text/plain": [
       "array([[    2,  2055,  1898, ...,     0,     0,     0],\n",
       "       [    2,  2937,  2095, ...,     0,     0,     0],\n",
       "       [    2,  3006,    16, ...,     0,     0,     0],\n",
       "       ...,\n",
       "       [    2,  2030, 40221, ...,     0,     0,     0],\n",
       "       [    2, 31040,    16, ...,     0,     0,     0],\n",
       "       [    2, 31040,    16, ...,     0,     0,     0]])"
      ]
     },
     "execution_count": 123,
     "metadata": {
      "tags": []
     },
     "output_type": "execute_result"
    }
   ],
   "source": [
    "padded"
   ]
  },
  {
   "cell_type": "code",
   "execution_count": 124,
   "metadata": {
    "colab": {
     "base_uri": "https://localhost:8080/",
     "height": 136
    },
    "colab_type": "code",
    "id": "PiDseS3iyPyT",
    "outputId": "cd8df9a9-2d5f-4613-b466-4d8c51c63e39"
   },
   "outputs": [
    {
     "data": {
      "text/plain": [
       "array([[    2,  2937,  2095, ...,     0,     0,     0],\n",
       "       [    2,  4309, 29850, ...,     0,     0,     0],\n",
       "       [    2, 11981,    16, ...,     0,     0,     0],\n",
       "       ...,\n",
       "       [    2,  9898, 16609, ...,     0,     0,     0],\n",
       "       [    2,  9898, 16609, ...,     0,     0,     0],\n",
       "       [    2,  2030, 40221, ...,     0,     0,     0]])"
      ]
     },
     "execution_count": 124,
     "metadata": {
      "tags": []
     },
     "output_type": "execute_result"
    }
   ],
   "source": [
    "presup_padded"
   ]
  },
  {
   "cell_type": "code",
   "execution_count": 125,
   "metadata": {
    "colab": {
     "base_uri": "https://localhost:8080/",
     "height": 34
    },
    "colab_type": "code",
    "id": "ziFFn1CAQJkI",
    "outputId": "3aa9cfd3-98e1-4aef-a9f6-3ad680983150"
   },
   "outputs": [
    {
     "data": {
      "text/plain": [
       "(2596, 146)"
      ]
     },
     "execution_count": 125,
     "metadata": {
      "tags": []
     },
     "output_type": "execute_result"
    }
   ],
   "source": [
    "np.array(padded).shape"
   ]
  },
  {
   "cell_type": "markdown",
   "metadata": {
    "colab_type": "text",
    "id": "iFdLTJj4SX0-"
   },
   "source": [
    "## Computing embedding using BERT\n",
    "\n",
    "Now we do create cube of 146(tokens per row) * 768 (hidden layers) * 2596"
   ]
  },
  {
   "cell_type": "code",
   "execution_count": 0,
   "metadata": {
    "colab": {},
    "colab_type": "code",
    "id": "ydNiAHljQJkK"
   },
   "outputs": [],
   "source": [
    "input_ids = torch.tensor(np.array(padded))"
   ]
  },
  {
   "cell_type": "code",
   "execution_count": 127,
   "metadata": {
    "colab": {
     "base_uri": "https://localhost:8080/",
     "height": 136
    },
    "colab_type": "code",
    "id": "8wHwKIMGQJkM",
    "outputId": "68d4f526-91ad-44c6-bda1-779ae1957efa"
   },
   "outputs": [
    {
     "data": {
      "text/plain": [
       "tensor([[    2,  2055,  1898,  ...,     0,     0,     0],\n",
       "        [    2,  2937,  2095,  ...,     0,     0,     0],\n",
       "        [    2,  3006,    16,  ...,     0,     0,     0],\n",
       "        ...,\n",
       "        [    2,  2030, 40221,  ...,     0,     0,     0],\n",
       "        [    2, 31040,    16,  ...,     0,     0,     0],\n",
       "        [    2, 31040,    16,  ...,     0,     0,     0]])"
      ]
     },
     "execution_count": 127,
     "metadata": {
      "tags": []
     },
     "output_type": "execute_result"
    }
   ],
   "source": [
    "input_ids"
   ]
  },
  {
   "cell_type": "code",
   "execution_count": 128,
   "metadata": {
    "colab": {
     "base_uri": "https://localhost:8080/",
     "height": 34
    },
    "colab_type": "code",
    "id": "NFpdpWXg4eKg",
    "outputId": "40fc99da-f727-4bde-ad58-0de4f57b3005"
   },
   "outputs": [
    {
     "data": {
      "text/plain": [
       "torch.Size([2596, 146])"
      ]
     },
     "execution_count": 128,
     "metadata": {
      "tags": []
     },
     "output_type": "execute_result"
    }
   ],
   "source": [
    "input_ids.shape"
   ]
  },
  {
   "cell_type": "code",
   "execution_count": 0,
   "metadata": {
    "colab": {},
    "colab_type": "code",
    "id": "RhaInBWiQJkP"
   },
   "outputs": [],
   "source": [
    "with torch.no_grad():\n",
    "    last_hidden_states = model(input_ids)"
   ]
  },
  {
   "cell_type": "markdown",
   "metadata": {
    "colab_type": "text",
    "id": "a6yN8AJkwCTT"
   },
   "source": [
    "We will extract two sets of embeddings. One for CSL only (2D array) and one for the whole cube"
   ]
  },
  {
   "cell_type": "code",
   "execution_count": 0,
   "metadata": {
    "colab": {},
    "colab_type": "code",
    "id": "l7J8kG1XwNyo"
   },
   "outputs": [],
   "source": [
    "features = last_hidden_states[0][:,:,:].numpy()"
   ]
  },
  {
   "cell_type": "code",
   "execution_count": 131,
   "metadata": {
    "colab": {
     "base_uri": "https://localhost:8080/",
     "height": 238
    },
    "colab_type": "code",
    "id": "ARcBn555mnQm",
    "outputId": "a7ca598e-eb64-4628-b4a1-1531a367427a"
   },
   "outputs": [
    {
     "data": {
      "text/plain": [
       "array([[ 0.2512698 ,  0.05621049,  0.528381  , ..., -0.16011806,\n",
       "         0.09001451, -0.3821133 ],\n",
       "       [ 0.4223248 ,  0.08961057,  0.49109307, ..., -0.20376708,\n",
       "        -0.16196994, -0.53562206],\n",
       "       [ 0.5043764 ,  0.0117968 ,  0.48297426, ..., -0.11081165,\n",
       "        -0.0925103 , -0.424763  ],\n",
       "       ...,\n",
       "       [ 0.24305862, -0.14591734,  0.98260427, ...,  0.15874973,\n",
       "         0.02587716, -0.27605462],\n",
       "       [ 0.19790395, -0.05286026,  0.5464178 , ..., -0.07265604,\n",
       "         0.03099428, -0.3345407 ],\n",
       "       [ 0.19790395, -0.05286026,  0.5464178 , ..., -0.07265604,\n",
       "         0.03099428, -0.3345407 ]], dtype=float32)"
      ]
     },
     "execution_count": 131,
     "metadata": {
      "tags": []
     },
     "output_type": "execute_result"
    }
   ],
   "source": [
    "cls_features = last_hidden_states[0][:,0,:].numpy()\n",
    "cls_features"
   ]
  },
  {
   "cell_type": "code",
   "execution_count": 132,
   "metadata": {
    "colab": {
     "base_uri": "https://localhost:8080/",
     "height": 34
    },
    "colab_type": "code",
    "id": "UTMLzojKmuno",
    "outputId": "1c8f488a-7a43-41bf-fe65-28c8f4341df7"
   },
   "outputs": [
    {
     "data": {
      "text/plain": [
       "(2596, 146, 768)"
      ]
     },
     "execution_count": 132,
     "metadata": {
      "tags": []
     },
     "output_type": "execute_result"
    }
   ],
   "source": [
    "features.shape"
   ]
  },
  {
   "cell_type": "code",
   "execution_count": 133,
   "metadata": {
    "colab": {
     "base_uri": "https://localhost:8080/",
     "height": 34
    },
    "colab_type": "code",
    "id": "1sQC37m4wYK2",
    "outputId": "011ee23e-138c-44fc-e40e-d5130850eb4d"
   },
   "outputs": [
    {
     "data": {
      "text/plain": [
       "(2596, 768)"
      ]
     },
     "execution_count": 133,
     "metadata": {
      "tags": []
     },
     "output_type": "execute_result"
    }
   ],
   "source": [
    "cls_features.shape"
   ]
  },
  {
   "cell_type": "markdown",
   "metadata": {
    "colab_type": "text",
    "id": "QysgA3rj4eLB"
   },
   "source": [
    "## Onehot encoding"
   ]
  },
  {
   "cell_type": "code",
   "execution_count": 216,
   "metadata": {
    "colab": {
     "base_uri": "https://localhost:8080/",
     "height": 136
    },
    "colab_type": "code",
    "id": "xxR7-ir-wlDy",
    "outputId": "948c3bc9-cc83-4eec-a377-83a65a463185"
   },
   "outputs": [
    {
     "data": {
      "text/plain": [
       "array([[0., 0., 1., 0.],\n",
       "       [0., 0., 0., 1.],\n",
       "       [0., 0., 1., 0.],\n",
       "       ...,\n",
       "       [1., 0., 0., 0.],\n",
       "       [0., 0., 1., 0.],\n",
       "       [0., 0., 1., 0.]])"
      ]
     },
     "execution_count": 216,
     "metadata": {
      "tags": []
     },
     "output_type": "execute_result"
    }
   ],
   "source": [
    "y = np.array(dataset[5], dtype=np.int16)\n",
    "y_labels = np.zeros((y.size, y.max()+1))\n",
    "y_labels[np.arange(y.size),y] = 1\n",
    "y_labels"
   ]
  },
  {
   "cell_type": "markdown",
   "metadata": {
    "colab_type": "text",
    "id": "jFndQqv-xLNy"
   },
   "source": [
    "## Feed Forward Neural Network\n",
    "Creating Feed Forward Neural Network which will take as an input vector of embeddings and return one of semantic classes. Firstly we will do it for 2d CLS matrix"
   ]
  },
  {
   "cell_type": "code",
   "execution_count": 0,
   "metadata": {
    "colab": {},
    "colab_type": "code",
    "id": "iY8WmSEkxZV2"
   },
   "outputs": [],
   "source": [
    "import torch.nn as nn\n",
    "import torchvision.transforms as transforms\n",
    "import torchvision.datasets as ds\n",
    "import torch.nn.functional as F\n",
    "import time"
   ]
  },
  {
   "cell_type": "markdown",
   "metadata": {
    "colab_type": "text",
    "id": "4vFWqVXTxuk2"
   },
   "source": [
    "### Creating dataset"
   ]
  },
  {
   "cell_type": "code",
   "execution_count": 218,
   "metadata": {
    "colab": {
     "base_uri": "https://localhost:8080/",
     "height": 238
    },
    "colab_type": "code",
    "id": "ITzN8xfvxihR",
    "outputId": "6942b59c-6cab-43f6-f18c-b4ecf4001672"
   },
   "outputs": [
    {
     "data": {
      "text/plain": [
       "array([[ 0.26140895,  0.07139207,  0.52444804, ..., -0.24794541,\n",
       "        -0.19105747, -0.5191335 ],\n",
       "       [ 0.4108196 ,  0.19798458,  0.4003112 , ..., -0.26405695,\n",
       "        -0.05931758, -0.3274356 ],\n",
       "       [ 0.07884499,  0.16841729,  0.7820503 , ...,  0.00329559,\n",
       "         0.07028607, -0.19367433],\n",
       "       ...,\n",
       "       [ 0.20053367, -0.00272239,  0.51505595, ..., -0.20775847,\n",
       "        -0.00782436, -0.30883926],\n",
       "       [ 0.01918204, -0.21970029,  1.2215774 , ..., -0.18515465,\n",
       "         0.13517557, -0.24311075],\n",
       "       [ 0.79402167, -0.11055598,  0.7340445 , ..., -0.15846951,\n",
       "        -0.3714194 , -0.6478746 ]], dtype=float32)"
      ]
     },
     "execution_count": 218,
     "metadata": {
      "tags": []
     },
     "output_type": "execute_result"
    }
   ],
   "source": [
    "train_features, test_features, train_labels, test_labels = train_test_split(cls_features, y)\n",
    "train_features[:10]"
   ]
  },
  {
   "cell_type": "markdown",
   "metadata": {
    "colab_type": "text",
    "id": "TLvi_eEb4eLP"
   },
   "source": [
    "## Convert data to Torch tensor"
   ]
  },
  {
   "cell_type": "code",
   "execution_count": 0,
   "metadata": {
    "colab": {},
    "colab_type": "code",
    "id": "u2gc86p_4eLQ"
   },
   "outputs": [],
   "source": [
    "train_features = torch.from_numpy(train_features)\n",
    "test_features = torch.from_numpy(test_features)\n",
    "train_labels = torch.from_numpy(train_labels)\n",
    "test_labels = torch.from_numpy(test_labels)"
   ]
  },
  {
   "cell_type": "code",
   "execution_count": 220,
   "metadata": {
    "colab": {
     "base_uri": "https://localhost:8080/",
     "height": 85
    },
    "colab_type": "code",
    "id": "_tL4Yw7j_HH5",
    "outputId": "db4cd911-9abe-46cb-c584-449b38e6ed46"
   },
   "outputs": [
    {
     "name": "stdout",
     "output_type": "stream",
     "text": [
      "torch.Size([1947, 768])\n",
      "torch.Size([649, 768])\n",
      "torch.Size([1947])\n",
      "torch.Size([649])\n"
     ]
    }
   ],
   "source": [
    "print(train_features.shape)\n",
    "print(test_features.shape)\n",
    "print(train_labels.shape)\n",
    "print(test_labels.shape)"
   ]
  },
  {
   "cell_type": "code",
   "execution_count": 221,
   "metadata": {
    "colab": {
     "base_uri": "https://localhost:8080/",
     "height": 34
    },
    "colab_type": "code",
    "id": "Qct6HbphyCVV",
    "outputId": "5fb8f890-78bf-4b76-b33e-f0c977e36e19"
   },
   "outputs": [
    {
     "data": {
      "text/plain": [
       "38"
      ]
     },
     "execution_count": 221,
     "metadata": {
      "tags": []
     },
     "output_type": "execute_result"
    }
   ],
   "source": [
    "batch_size = int(train_features.shape[0] / 50)\n",
    "batch_size"
   ]
  },
  {
   "cell_type": "code",
   "execution_count": 0,
   "metadata": {
    "colab": {},
    "colab_type": "code",
    "id": "0hGGi59u1E62"
   },
   "outputs": [],
   "source": [
    "class FeedforwardNeuralNetModel(nn.Module):\n",
    "  def __init__(self, input_size, hidden_size, output_size):\n",
    "    super(FeedforwardNeuralNetModel, self).__init__()\n",
    "    self.input_size = input_size\n",
    "    self.hidden_size  = hidden_size\n",
    "    self.output_zise = output_size\n",
    "    self.fc1 = nn.Linear(self.input_size, self.hidden_size)\n",
    "    self.fc2 = nn.Linear(hidden_size,hidden_size)\n",
    "    self.fc3 = nn.Linear(self.hidden_size, output_size)\n",
    "\n",
    "\n",
    "  def forward(self,x):\n",
    "    x = F.relu(self.fc1(x))\n",
    "    x = F.relu(self.fc2(x))\n",
    "    output = self.fc3(x)\n",
    "    return F.log_softmax(output, dim=0)"
   ]
  },
  {
   "cell_type": "code",
   "execution_count": 223,
   "metadata": {
    "colab": {
     "base_uri": "https://localhost:8080/",
     "height": 34
    },
    "colab_type": "code",
    "id": "6F86gYor1z_p",
    "outputId": "befc2814-bf71-4c75-fc4b-d47023cb4d28"
   },
   "outputs": [
    {
     "data": {
      "text/plain": [
       "768"
      ]
     },
     "execution_count": 223,
     "metadata": {
      "tags": []
     },
     "output_type": "execute_result"
    }
   ],
   "source": [
    "tokens = 1\n",
    "input_dim = 768 * tokens\n",
    "hidden_dim = 256\n",
    "output_dim = len(labels)\n",
    "\n",
    "input_dim"
   ]
  },
  {
   "cell_type": "code",
   "execution_count": 0,
   "metadata": {
    "colab": {},
    "colab_type": "code",
    "id": "EDy7hQfj2ciB"
   },
   "outputs": [],
   "source": [
    "ffnn = FeedforwardNeuralNetModel(input_dim, hidden_dim, output_dim)"
   ]
  },
  {
   "cell_type": "code",
   "execution_count": 0,
   "metadata": {
    "colab": {},
    "colab_type": "code",
    "id": "Cf5LG44b4C7T"
   },
   "outputs": [],
   "source": [
    "criterion = nn.CrossEntropyLoss()"
   ]
  },
  {
   "cell_type": "code",
   "execution_count": 257,
   "metadata": {
    "colab": {
     "base_uri": "https://localhost:8080/",
     "height": 102
    },
    "colab_type": "code",
    "id": "Zq4wSXC74eLo",
    "outputId": "8944c6ae-a0a1-4344-ed59-3860c3cd09f6"
   },
   "outputs": [
    {
     "name": "stdout",
     "output_type": "stream",
     "text": [
      "FeedforwardNeuralNetModel(\n",
      "  (fc1): Linear(in_features=768, out_features=256, bias=True)\n",
      "  (fc2): Linear(in_features=256, out_features=256, bias=True)\n",
      "  (fc3): Linear(in_features=256, out_features=4, bias=True)\n",
      ")\n"
     ]
    }
   ],
   "source": [
    "print(ffnn)"
   ]
  },
  {
   "cell_type": "code",
   "execution_count": 0,
   "metadata": {
    "colab": {},
    "colab_type": "code",
    "id": "zTTTazHA-HOX"
   },
   "outputs": [],
   "source": [
    "def generate_batch_data(x, y, batch_size):\n",
    "    i, batch = 0, 0\n",
    "    for batch, i in enumerate(range(0, len(x) - batch_size, batch_size), 1):\n",
    "        x_batch = x[i : i + batch_size]\n",
    "        y_batch = y[i : i + batch_size]\n",
    "        yield x_batch, y_batch, batch\n",
    "    if i + batch_size < len(x):\n",
    "        yield x[i + batch_size :], y[i + batch_size :], batch + 1\n",
    "    if batch == 0:\n",
    "        yield x, y, 1"
   ]
  },
  {
   "cell_type": "code",
   "execution_count": 260,
   "metadata": {
    "colab": {
     "base_uri": "https://localhost:8080/",
     "height": 374
    },
    "colab_type": "code",
    "id": "Tnz6d-894cqm",
    "outputId": "35e22861-ee63-4703-c105-d4d9090ff0c9"
   },
   "outputs": [
    {
     "name": "stdout",
     "output_type": "stream",
     "text": [
      "0 / 100 | loss = 0.03696854535775363\n",
      "5 / 100 | loss = 0.024734927987097224\n",
      "10 / 100 | loss = 0.021065099351395077\n",
      "15 / 100 | loss = 0.019459548796147766\n",
      "20 / 100 | loss = 0.01792504855407221\n",
      "25 / 100 | loss = 0.016473613185765013\n",
      "30 / 100 | loss = 0.01610170957609881\n",
      "35 / 100 | loss = 0.015363077934913654\n",
      "40 / 100 | loss = 0.015583824762394321\n",
      "45 / 100 | loss = 0.014153706350875133\n",
      "50 / 100 | loss = 0.013017344288049628\n",
      "55 / 100 | loss = 0.012388227969545796\n",
      "60 / 100 | loss = 0.011898352991757052\n",
      "65 / 100 | loss = 0.011588008313774144\n",
      "70 / 100 | loss = 0.011157435281312215\n",
      "75 / 100 | loss = 0.010658523571999427\n",
      "80 / 100 | loss = 0.010600336190670898\n",
      "85 / 100 | loss = 0.010337834273721844\n",
      "90 / 100 | loss = 0.010098178821707238\n",
      "95 / 100 | loss = 0.010254578570188102\n",
      "100 / 100 | loss = 0.009371207274102405\n"
     ]
    }
   ],
   "source": [
    "train_losses = []\n",
    "ffnn = FeedforwardNeuralNetModel(input_dim, hidden_dim, output_dim)\n",
    "learning_rate = 0.1\n",
    "optimizer = torch.optim.SGD(ffnn.parameters(), lr=learning_rate)\n",
    "\n",
    "for epoch in range(0,101):\n",
    "    \n",
    "    ffnn.train(True)\n",
    "    train_loss = 0 \n",
    "\n",
    "    for x_batch, y_batch, batch in generate_batch_data(train_features, train_labels, batch_size):\n",
    "        optimizer.zero_grad()\n",
    "        y_pred = ffnn(x_batch)\n",
    "        loss = criterion(y_pred, y_batch.long())\n",
    "        loss.backward()\n",
    "        optimizer.step()\n",
    "        train_loss += loss.item()\n",
    "\n",
    "    if epoch % 5 == 0:\n",
    "      train_losses.append(train_loss/len(train_features))\n",
    "      print(f\"{epoch} / 100 | loss = {train_loss/len(train_features)}\")\n",
    "\n",
    "\n",
    "\n",
    "\n"
   ]
  },
  {
   "cell_type": "code",
   "execution_count": 261,
   "metadata": {
    "colab": {
     "base_uri": "https://localhost:8080/",
     "height": 298
    },
    "colab_type": "code",
    "id": "4M1CcIBf4eLz",
    "outputId": "016f221d-67e3-46fd-bb02-f69b87fba7c4"
   },
   "outputs": [
    {
     "data": {
      "text/plain": [
       "Text(0.5, 1.0, 'Losses')"
      ]
     },
     "execution_count": 261,
     "metadata": {
      "tags": []
     },
     "output_type": "execute_result"
    },
    {
     "data": {
      "image/png": "[encoded data removed]",
      "text/plain": [
       "<Figure size 432x288 with 1 Axes>"
      ]
     },
     "metadata": {
      "needs_background": "light",
      "tags": []
     },
     "output_type": "display_data"
    }
   ],
   "source": [
    "plt.plot(train_losses, label=\"Training loss\")\n",
    "plt.legend()\n",
    "plt.title(\"Losses\")"
   ]
  },
  {
   "cell_type": "code",
   "execution_count": 262,
   "metadata": {
    "colab": {
     "base_uri": "https://localhost:8080/",
     "height": 374
    },
    "colab_type": "code",
    "id": "t66E8tBv4eL4",
    "outputId": "604d167e-d7ad-455c-d7e4-12f3af2abdd8"
   },
   "outputs": [
    {
     "name": "stdout",
     "output_type": "stream",
     "text": [
      "0 / 100 | loss = 0.03892706194533773 | Accuracy = 66.5639419555664%\n",
      "5 / 100 | loss = 0.03892706194533773 | Accuracy = 66.5639419555664%\n",
      "10 / 100 | loss = 0.03892706194533773 | Accuracy = 66.5639419555664%\n",
      "15 / 100 | loss = 0.03892706194533773 | Accuracy = 66.5639419555664%\n",
      "20 / 100 | loss = 0.03892706194533773 | Accuracy = 66.5639419555664%\n",
      "25 / 100 | loss = 0.03892706194533773 | Accuracy = 66.5639419555664%\n",
      "30 / 100 | loss = 0.03892706194533773 | Accuracy = 66.5639419555664%\n",
      "35 / 100 | loss = 0.03892706194533773 | Accuracy = 66.5639419555664%\n",
      "40 / 100 | loss = 0.03892706194533773 | Accuracy = 66.5639419555664%\n",
      "45 / 100 | loss = 0.03892706194533773 | Accuracy = 66.5639419555664%\n",
      "50 / 100 | loss = 0.03892706194533773 | Accuracy = 66.5639419555664%\n",
      "55 / 100 | loss = 0.03892706194533773 | Accuracy = 66.5639419555664%\n",
      "60 / 100 | loss = 0.03892706194533773 | Accuracy = 66.5639419555664%\n",
      "65 / 100 | loss = 0.03892706194533773 | Accuracy = 66.5639419555664%\n",
      "70 / 100 | loss = 0.03892706194533773 | Accuracy = 66.5639419555664%\n",
      "75 / 100 | loss = 0.03892706194533773 | Accuracy = 66.5639419555664%\n",
      "80 / 100 | loss = 0.03892706194533773 | Accuracy = 66.5639419555664%\n",
      "85 / 100 | loss = 0.03892706194533773 | Accuracy = 66.5639419555664%\n",
      "90 / 100 | loss = 0.03892706194533773 | Accuracy = 66.5639419555664%\n",
      "95 / 100 | loss = 0.03892706194533773 | Accuracy = 66.5639419555664%\n",
      "100 / 100 | loss = 0.03892706194533773 | Accuracy = 66.5639419555664%\n"
     ]
    }
   ],
   "source": [
    "test_losses = []\n",
    "\n",
    "for epoch in range(0,101):\n",
    "    \n",
    "    test_loss = 0 \n",
    "    correct = 0\n",
    "    ffnn.eval()\n",
    "\n",
    "    for x_batch, y_batch, batch in generate_batch_data(test_features, test_labels, batch_size):\n",
    "        y_pred = ffnn(x_batch)\n",
    "        loss = criterion(y_pred, y_batch.long())\n",
    "        pred = np.argmax(y_pred.data,axis=1)\n",
    "        test_loss += loss.item()\n",
    "        correct += pred.eq(y_batch.data).sum()\n",
    "\n",
    "    if epoch % 5 == 0:\n",
    "      test_losses.append(test_loss/len(test_features))\n",
    "\n",
    "      print(f\"{epoch} / 100 | loss = {test_loss/len(test_features)} | Accuracy = {100. * correct/len(test_features)}%\")"
   ]
  },
  {
   "cell_type": "markdown",
   "metadata": {
    "colab_type": "text",
    "id": "dHS5HcrDyZaO"
   },
   "source": [
    "# Presupperposition\n",
    "\n",
    "## Compute BERT embeddings again"
   ]
  },
  {
   "cell_type": "code",
   "execution_count": 263,
   "metadata": {
    "colab": {
     "base_uri": "https://localhost:8080/",
     "height": 238
    },
    "colab_type": "code",
    "id": "M7SubiLByluv",
    "outputId": "8ed31d85-6d6d-40ca-9601-ac378d58d4a6"
   },
   "outputs": [
    {
     "data": {
      "text/plain": [
       "array([[ 0.4220215 ,  0.02268829,  0.5369999 , ..., -0.21211378,\n",
       "         0.06441129, -0.48880184],\n",
       "       [ 0.33168983, -0.10472142,  0.81897926, ..., -0.3639786 ,\n",
       "         0.1149414 , -0.3867493 ],\n",
       "       [ 0.35144496, -0.06816269,  0.9282092 , ..., -0.30233523,\n",
       "        -0.20365418, -0.62760854],\n",
       "       ...,\n",
       "       [ 0.36513472, -0.09129252,  0.56237125, ..., -0.15368387,\n",
       "         0.21516114, -0.27237692],\n",
       "       [ 0.6597148 , -0.13337763,  0.5392588 , ..., -0.25120854,\n",
       "         0.24526626, -0.5249602 ],\n",
       "       [ 0.08453283, -0.20293275,  1.1157788 , ...,  0.10464879,\n",
       "         0.2794123 , -0.2950267 ]], dtype=float32)"
      ]
     },
     "execution_count": 263,
     "metadata": {
      "tags": []
     },
     "output_type": "execute_result"
    }
   ],
   "source": [
    "input_ids = torch.tensor(np.array(presup_padded))\n",
    "input_ids.shape\n",
    "with torch.no_grad():\n",
    "    last_hidden_states = model(input_ids)\n",
    "features = last_hidden_states[0][:,:,:].numpy()\n",
    "cls_features = last_hidden_states[0][:,0,:].numpy()\n",
    "cls_features"
   ]
  },
  {
   "cell_type": "markdown",
   "metadata": {
    "colab_type": "text",
    "id": "OuBadRVZzhU-"
   },
   "source": [
    "## Onehot encoding of the data"
   ]
  },
  {
   "cell_type": "code",
   "execution_count": 264,
   "metadata": {
    "colab": {
     "base_uri": "https://localhost:8080/",
     "height": 136
    },
    "colab_type": "code",
    "id": "xX88y3PDzj-e",
    "outputId": "4fff79d2-f88c-4d09-8bb5-646e4a1eafd4"
   },
   "outputs": [
    {
     "data": {
      "text/plain": [
       "array([[1., 0.],\n",
       "       [0., 1.],\n",
       "       [0., 1.],\n",
       "       ...,\n",
       "       [0., 1.],\n",
       "       [0., 1.],\n",
       "       [0., 1.]])"
      ]
     },
     "execution_count": 264,
     "metadata": {
      "tags": []
     },
     "output_type": "execute_result"
    }
   ],
   "source": [
    "y = np.array(presup_dataset[23], dtype=np.int64)\n",
    "y_labels = np.zeros((y.size, y.max()+1), dtype=np.float64)\n",
    "y_labels[np.arange(y.size),y] = 1\n",
    "y_labels"
   ]
  },
  {
   "cell_type": "markdown",
   "metadata": {
    "colab_type": "text",
    "id": "E8YuMJ2dzsV9"
   },
   "source": [
    "## Splitting data"
   ]
  },
  {
   "cell_type": "code",
   "execution_count": 265,
   "metadata": {
    "colab": {
     "base_uri": "https://localhost:8080/",
     "height": 238
    },
    "colab_type": "code",
    "id": "bHRUpvZ9ztm1",
    "outputId": "d5f9f5ac-567e-4c40-c951-2a5e7c1a3e73"
   },
   "outputs": [
    {
     "data": {
      "text/plain": [
       "array([[ 0.6199732 , -0.15337744,  0.7810959 , ..., -0.2986049 ,\n",
       "         0.18807551, -0.260451  ],\n",
       "       [ 0.2831656 , -0.06895956,  0.5407422 , ..., -0.18795414,\n",
       "         0.14808151, -0.31608453],\n",
       "       [ 0.6250208 , -0.14276336,  0.6830608 , ..., -0.3066411 ,\n",
       "        -0.02018354, -0.3880725 ],\n",
       "       ...,\n",
       "       [ 0.56438357,  0.07362346,  0.6760075 , ..., -0.32427284,\n",
       "         0.2001686 , -0.60400736],\n",
       "       [ 0.0308604 ,  0.04977451,  0.6986215 , ..., -0.26359454,\n",
       "         0.8473842 , -0.47863978],\n",
       "       [ 0.49729306, -0.09167918,  0.6892663 , ..., -0.46061382,\n",
       "        -0.28335035, -0.4992696 ]], dtype=float32)"
      ]
     },
     "execution_count": 265,
     "metadata": {
      "tags": []
     },
     "output_type": "execute_result"
    }
   ],
   "source": [
    "train_features, test_features, train_labels, test_labels = train_test_split(cls_features, y)\n",
    "train_features[:10]"
   ]
  },
  {
   "cell_type": "markdown",
   "metadata": {
    "colab_type": "text",
    "id": "nxCtI3e7z4qc"
   },
   "source": [
    "## Training model itself"
   ]
  },
  {
   "cell_type": "code",
   "execution_count": 0,
   "metadata": {
    "colab": {},
    "colab_type": "code",
    "id": "yH8QUyWVz6p4"
   },
   "outputs": [],
   "source": [
    "train_features = torch.from_numpy(train_features)\n",
    "test_features = torch.from_numpy(test_features)\n",
    "train_labels = torch.from_numpy(train_labels)\n",
    "test_labels = torch.from_numpy(test_labels)\n",
    "batch_size = int(train_features.shape[0] / 50)\n",
    "batch_size\n",
    "tokens = 1\n",
    "hidden_dim = 256\n",
    "input_dim = 768 * tokens\n",
    "output_dim = len(presup_labels)"
   ]
  },
  {
   "cell_type": "code",
   "execution_count": 268,
   "metadata": {
    "colab": {
     "base_uri": "https://localhost:8080/",
     "height": 374
    },
    "colab_type": "code",
    "id": "wajdRHDm1HBd",
    "outputId": "ac01afd6-aa0c-48f5-8dab-ffc8625cc1e4"
   },
   "outputs": [
    {
     "name": "stdout",
     "output_type": "stream",
     "text": [
      "0 / 100 | loss = 0.06382352498605405\n",
      "5 / 100 | loss = 0.04819516907811789\n",
      "10 / 100 | loss = 0.04154532916362789\n",
      "15 / 100 | loss = 0.03804764744498967\n",
      "20 / 100 | loss = 0.03372496054434652\n",
      "25 / 100 | loss = 0.03491294120046689\n",
      "30 / 100 | loss = 0.029966800475255774\n",
      "35 / 100 | loss = 0.027004990824230055\n",
      "40 / 100 | loss = 0.02572512364967435\n",
      "45 / 100 | loss = 0.024514703180829475\n",
      "50 / 100 | loss = 0.035904468575177186\n",
      "55 / 100 | loss = 0.02191762145394118\n",
      "60 / 100 | loss = 0.02131962717996738\n",
      "65 / 100 | loss = 0.021504713638472724\n",
      "70 / 100 | loss = 0.02359195690875122\n",
      "75 / 100 | loss = 0.02168682269608995\n",
      "80 / 100 | loss = 0.014363319064485621\n",
      "85 / 100 | loss = 0.020492103449792243\n",
      "90 / 100 | loss = 0.017680296894604985\n",
      "95 / 100 | loss = 0.01666828117091176\n",
      "100 / 100 | loss = 0.01489761762644439\n"
     ]
    }
   ],
   "source": [
    "train_losses = []\n",
    "ffnn = FeedforwardNeuralNetModel(input_dim, hidden_dim, output_dim)\n",
    "learning_rate = 0.1\n",
    "optimizer = torch.optim.SGD(ffnn.parameters(), lr=learning_rate)\n",
    "\n",
    "for epoch in range(0,101):\n",
    "    \n",
    "    ffnn.train(True)\n",
    "    train_loss = 0 \n",
    "\n",
    "    for x_batch, y_batch, batch in generate_batch_data(train_features, train_labels, batch_size):\n",
    "        optimizer.zero_grad()\n",
    "        y_pred = ffnn(x_batch)\n",
    "        loss = criterion(y_pred, y_batch.long())\n",
    "        loss.backward()\n",
    "        optimizer.step()\n",
    "        train_loss += loss.item()\n",
    "\n",
    "    if epoch % 5 == 0:\n",
    "      train_losses.append(train_loss/len(train_features))\n",
    "      print(f\"{epoch} / 100 | loss = {train_loss/len(train_features)}\")"
   ]
  },
  {
   "cell_type": "code",
   "execution_count": 269,
   "metadata": {
    "colab": {
     "base_uri": "https://localhost:8080/",
     "height": 298
    },
    "colab_type": "code",
    "id": "swlto1yBA9CY",
    "outputId": "457ece09-81d9-44f7-c4bb-83b48cf4af45"
   },
   "outputs": [
    {
     "data": {
      "text/plain": [
       "Text(0.5, 1.0, 'Losses')"
      ]
     },
     "execution_count": 269,
     "metadata": {
      "tags": []
     },
     "output_type": "execute_result"
    },
    {
     "data": {
      "image/png": "[encoded data removed]",
      "text/plain": [
       "<Figure size 432x288 with 1 Axes>"
      ]
     },
     "metadata": {
      "needs_background": "light",
      "tags": []
     },
     "output_type": "display_data"
    }
   ],
   "source": [
    "plt.plot(train_losses, label=\"Training loss\")\n",
    "plt.legend()\n",
    "plt.title(\"Losses\")"
   ]
  },
  {
   "cell_type": "code",
   "execution_count": 270,
   "metadata": {
    "colab": {
     "base_uri": "https://localhost:8080/",
     "height": 374
    },
    "colab_type": "code",
    "id": "3w4EFSHxBEBG",
    "outputId": "0b174772-73d1-4b17-f4e9-0821f38d897d"
   },
   "outputs": [
    {
     "name": "stdout",
     "output_type": "stream",
     "text": [
      "0 / 100 | loss = 0.13810799395044646 | Accuracy = 73.4375%\n",
      "5 / 100 | loss = 0.13810799395044646 | Accuracy = 73.4375%\n",
      "10 / 100 | loss = 0.13810799395044646 | Accuracy = 73.4375%\n",
      "15 / 100 | loss = 0.13810799395044646 | Accuracy = 73.4375%\n",
      "20 / 100 | loss = 0.13810799395044646 | Accuracy = 73.4375%\n",
      "25 / 100 | loss = 0.13810799395044646 | Accuracy = 73.4375%\n",
      "30 / 100 | loss = 0.13810799395044646 | Accuracy = 73.4375%\n",
      "35 / 100 | loss = 0.13810799395044646 | Accuracy = 73.4375%\n",
      "40 / 100 | loss = 0.13810799395044646 | Accuracy = 73.4375%\n",
      "45 / 100 | loss = 0.13810799395044646 | Accuracy = 73.4375%\n",
      "50 / 100 | loss = 0.13810799395044646 | Accuracy = 73.4375%\n",
      "55 / 100 | loss = 0.13810799395044646 | Accuracy = 73.4375%\n",
      "60 / 100 | loss = 0.13810799395044646 | Accuracy = 73.4375%\n",
      "65 / 100 | loss = 0.13810799395044646 | Accuracy = 73.4375%\n",
      "70 / 100 | loss = 0.13810799395044646 | Accuracy = 73.4375%\n",
      "75 / 100 | loss = 0.13810799395044646 | Accuracy = 73.4375%\n",
      "80 / 100 | loss = 0.13810799395044646 | Accuracy = 73.4375%\n",
      "85 / 100 | loss = 0.13810799395044646 | Accuracy = 73.4375%\n",
      "90 / 100 | loss = 0.13810799395044646 | Accuracy = 73.4375%\n",
      "95 / 100 | loss = 0.13810799395044646 | Accuracy = 73.4375%\n",
      "100 / 100 | loss = 0.13810799395044646 | Accuracy = 73.4375%\n"
     ]
    }
   ],
   "source": [
    "test_losses = []\n",
    "\n",
    "for epoch in range(0,101):\n",
    "    \n",
    "    test_loss = 0 \n",
    "    correct = 0\n",
    "    ffnn.eval()\n",
    "\n",
    "    for x_batch, y_batch, batch in generate_batch_data(test_features, test_labels, batch_size):\n",
    "        y_pred = ffnn(x_batch)\n",
    "        loss = criterion(y_pred, y_batch.long())\n",
    "        pred = np.argmax(y_pred.data,axis=1)\n",
    "        test_loss += loss.item()\n",
    "        correct += pred.eq(y_batch.data).sum()\n",
    "\n",
    "    if epoch % 5 == 0:\n",
    "      test_losses.append(test_loss/len(test_features))\n",
    "\n",
    "      print(f\"{epoch} / 100 | loss = {test_loss/len(test_features)} | Accuracy = {100. * correct/len(test_features)}%\")"
   ]
  }
 ],
 "metadata": {
  "colab": {
   "collapsed_sections": [],
   "machine_shape": "hm",
   "name": "Copy of bert-poc.ipynb",
   "provenance": [],
   "toc_visible": true
  },
  "kernelspec": {
   "display_name": "Python 3",
   "language": "python",
   "name": "python3"
  },
  "language_info": {
   "codemirror_mode": {
    "name": "ipython",
    "version": 3
   },
   "file_extension": ".py",
   "mimetype": "text/x-python",
   "name": "python",
   "nbconvert_exporter": "python",
   "pygments_lexer": "ipython3",
   "version": "3.7.6"
  }
 },
 "nbformat": 4,
 "nbformat_minor": 1
}
