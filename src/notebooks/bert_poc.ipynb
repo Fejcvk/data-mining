{
  "nbformat": 4,
  "nbformat_minor": 0,
  "metadata": {
    "colab": {
      "name": "Copy of bert-poc.ipynb",
      "provenance": [],
      "collapsed_sections": [],
      "machine_shape": "hm"
    },
    "kernelspec": {
      "display_name": "conda_pytorch_p36",
      "language": "python",
      "name": "conda_pytorch_p36"
    },
    "language_info": {
      "codemirror_mode": {
        "name": "ipython",
        "version": 3
      },
      "file_extension": ".py",
      "mimetype": "text/x-python",
      "name": "python",
      "nbconvert_exporter": "python",
      "pygments_lexer": "ipython3",
      "version": "3.6.5"
    }
  },
  "cells": [
    {
      "cell_type": "markdown",
      "metadata": {
        "colab_type": "text",
        "id": "LS8rpwLvQJjN"
      },
      "source": [
        "# Preprocessing\n",
        "\n",
        "For now we need just pandas for parsing dataset and transformers for BERT"
      ]
    },
    {
      "cell_type": "code",
      "metadata": {
        "colab_type": "code",
        "id": "lAuMoWx0QJjO",
        "outputId": "bd98db3c-6953-402b-9a47-32a3c52a6d97",
        "colab": {
          "base_uri": "https://localhost:8080/",
          "height": 408
        }
      },
      "source": [
        "# !conda update nbformat -y #AWS related package\n",
        "!pip install transformers\n",
        "import pandas as pd\n",
        "from transformers import *\n",
        "import numpy as np\n",
        "import torch\n",
        "%matplotlib inline\n",
        "import matplotlib\n",
        "import matplotlib.pyplot as plt\n"
      ],
      "execution_count": 180,
      "outputs": [
        {
          "output_type": "stream",
          "text": [
            "Requirement already satisfied: transformers in /usr/local/lib/python3.6/dist-packages (2.8.0)\n",
            "Requirement already satisfied: tokenizers==0.5.2 in /usr/local/lib/python3.6/dist-packages (from transformers) (0.5.2)\n",
            "Requirement already satisfied: dataclasses; python_version < \"3.7\" in /usr/local/lib/python3.6/dist-packages (from transformers) (0.7)\n",
            "Requirement already satisfied: filelock in /usr/local/lib/python3.6/dist-packages (from transformers) (3.0.12)\n",
            "Requirement already satisfied: sacremoses in /usr/local/lib/python3.6/dist-packages (from transformers) (0.0.41)\n",
            "Requirement already satisfied: numpy in /usr/local/lib/python3.6/dist-packages (from transformers) (1.18.3)\n",
            "Requirement already satisfied: requests in /usr/local/lib/python3.6/dist-packages (from transformers) (2.21.0)\n",
            "Requirement already satisfied: regex!=2019.12.17 in /usr/local/lib/python3.6/dist-packages (from transformers) (2019.12.20)\n",
            "Requirement already satisfied: tqdm>=4.27 in /usr/local/lib/python3.6/dist-packages (from transformers) (4.38.0)\n",
            "Requirement already satisfied: sentencepiece in /usr/local/lib/python3.6/dist-packages (from transformers) (0.1.86)\n",
            "Requirement already satisfied: boto3 in /usr/local/lib/python3.6/dist-packages (from transformers) (1.12.46)\n",
            "Requirement already satisfied: click in /usr/local/lib/python3.6/dist-packages (from sacremoses->transformers) (7.1.1)\n",
            "Requirement already satisfied: joblib in /usr/local/lib/python3.6/dist-packages (from sacremoses->transformers) (0.14.1)\n",
            "Requirement already satisfied: six in /usr/local/lib/python3.6/dist-packages (from sacremoses->transformers) (1.12.0)\n",
            "Requirement already satisfied: certifi>=2017.4.17 in /usr/local/lib/python3.6/dist-packages (from requests->transformers) (2020.4.5.1)\n",
            "Requirement already satisfied: idna<2.9,>=2.5 in /usr/local/lib/python3.6/dist-packages (from requests->transformers) (2.8)\n",
            "Requirement already satisfied: urllib3<1.25,>=1.21.1 in /usr/local/lib/python3.6/dist-packages (from requests->transformers) (1.24.3)\n",
            "Requirement already satisfied: chardet<3.1.0,>=3.0.2 in /usr/local/lib/python3.6/dist-packages (from requests->transformers) (3.0.4)\n",
            "Requirement already satisfied: s3transfer<0.4.0,>=0.3.0 in /usr/local/lib/python3.6/dist-packages (from boto3->transformers) (0.3.3)\n",
            "Requirement already satisfied: botocore<1.16.0,>=1.15.46 in /usr/local/lib/python3.6/dist-packages (from boto3->transformers) (1.15.46)\n",
            "Requirement already satisfied: jmespath<1.0.0,>=0.7.1 in /usr/local/lib/python3.6/dist-packages (from boto3->transformers) (0.9.5)\n",
            "Requirement already satisfied: python-dateutil<3.0.0,>=2.1 in /usr/local/lib/python3.6/dist-packages (from botocore<1.16.0,>=1.15.46->boto3->transformers) (2.8.1)\n",
            "Requirement already satisfied: docutils<0.16,>=0.10 in /usr/local/lib/python3.6/dist-packages (from botocore<1.16.0,>=1.15.46->boto3->transformers) (0.15.2)\n"
          ],
          "name": "stdout"
        }
      ]
    },
    {
      "cell_type": "markdown",
      "metadata": {
        "colab_type": "text",
        "id": "s0lj_syhQJjU"
      },
      "source": [
        "Read excel file, skip headers and 1st row with column nasmes"
      ]
    },
    {
      "cell_type": "code",
      "metadata": {
        "colab_type": "code",
        "id": "vtWjVFAHQJjU",
        "scrolled": true,
        "colab": {}
      },
      "source": [
        "df= pd.read_excel('dataset.xlsx', header=None, skiprows=1)\n",
        "pdf = pd.read_excel('dataset.xlsx', header=None, skiprows=1)\n",
        "pdf.drop(pdf[pdf[23] == 'nie dotyczy'].index, inplace=True)\n",
        "pdf = pdf.reset_index()"
      ],
      "execution_count": 0,
      "outputs": []
    },
    {
      "cell_type": "markdown",
      "metadata": {
        "colab_type": "text",
        "id": "7N8cby-nQJjY"
      },
      "source": [
        "For our smaller version of dataset just take two features that we are interested in, namely T PL and GOLD<T,H>"
      ]
    },
    {
      "cell_type": "code",
      "metadata": {
        "colab_type": "code",
        "id": "Ojgr5FaqQJjZ",
        "colab": {}
      },
      "source": [
        "dataset = df[[4, 5]]"
      ],
      "execution_count": 0,
      "outputs": []
    },
    {
      "cell_type": "markdown",
      "metadata": {
        "id": "5-paPmaHufst",
        "colab_type": "text"
      },
      "source": [
        "Dataset which includes presupposition"
      ]
    },
    {
      "cell_type": "code",
      "metadata": {
        "id": "jKAtjo9xttCo",
        "colab_type": "code",
        "outputId": "bcb7366a-9cdc-48e3-81b8-dbb1f07d26e6",
        "colab": {
          "base_uri": "https://localhost:8080/",
          "height": 255
        }
      },
      "source": [
        "presup_dataset = pdf[[4,5,23]]\n",
        "presup_dataset.head"
      ],
      "execution_count": 183,
      "outputs": [
        {
          "output_type": "execute_result",
          "data": {
            "text/plain": [
              "<bound method NDFrame.head of                                                     4  5    23\n",
              "0           Ani że na progu stanął właśnie Romanyczko.  ?   no\n",
              "1    Zresztą, w celi wcale nie czuło się, że jest maj.  E  yes\n",
              "2         Czuł, że maszynistka nie spuszczają zeń oczu  E  yes\n",
              "3    Trochę po północy ksiądz Suryn obudził się gwa...  E  yes\n",
              "4    Biorąc pod uwagę, że grunty pod park nie są je...  E  yes\n",
              "..                                                 ... ..  ...\n",
              "760  Patrząc na fundamenty podtopionych budynków pa...  E  yes\n",
              "761  Widać było, że nie ustoi, że jak badyl złamany...  E  yes\n",
              "762  Widać było, że nie ustoi, że jak badyl złamany...  E  yes\n",
              "763            Widać, że jest już na ostatnich nogach.  E  yes\n",
              "764  Tu będą mogli zobaczyć, że Państwo Izrael ma k...  E  yes\n",
              "\n",
              "[765 rows x 3 columns]>"
            ]
          },
          "metadata": {
            "tags": []
          },
          "execution_count": 183
        }
      ]
    },
    {
      "cell_type": "code",
      "metadata": {
        "colab_type": "code",
        "id": "77iv84InQJjc",
        "outputId": "a2015bba-9f36-4c4c-a5db-c8185b385d80",
        "colab": {
          "base_uri": "https://localhost:8080/",
          "height": 255
        }
      },
      "source": [
        "dataset.head"
      ],
      "execution_count": 184,
      "outputs": [
        {
          "output_type": "execute_result",
          "data": {
            "text/plain": [
              "<bound method NDFrame.head of                                                       4  5\n",
              "0     Ja na to, że mam klasówkę, że zawalę biologię ...  N\n",
              "1            Ani że na progu stanął właśnie Romanyczko.  ?\n",
              "2                  Potem, że się przywiezie Chińczyków.  N\n",
              "3     Słabł coraz bardziej, czuł, że to kwestia zale...  N\n",
              "4     Jednak ludzie bardzo ciężko chorzy, gdy już cz...  N\n",
              "...                                                 ... ..\n",
              "2591  Udało się ustalić, że obie dziewczynki mogą pr...  N\n",
              "2592  Ustalono, że łączą go z niektórymi członkami g...  N\n",
              "2593  Tu będą mogli zobaczyć, że Państwo Izrael ma k...  E\n",
              "2594  Oczywiście, że można kochać, jeśli zobaczy się...  N\n",
              "2595  Oczywiście, że można kochać, jeśli zobaczy się...  N\n",
              "\n",
              "[2596 rows x 2 columns]>"
            ]
          },
          "metadata": {
            "tags": []
          },
          "execution_count": 184
        }
      ]
    },
    {
      "cell_type": "markdown",
      "metadata": {
        "id": "Jm5HWQwo9Lqx",
        "colab_type": "text"
      },
      "source": [
        "Graphical representation of dataset"
      ]
    },
    {
      "cell_type": "code",
      "metadata": {
        "id": "OlFWZva89AhI",
        "colab_type": "code",
        "outputId": "57d0c7f6-d2ae-440c-f7cd-98a9aae73a27",
        "colab": {
          "base_uri": "https://localhost:8080/",
          "height": 265
        }
      },
      "source": [
        "dataset[5].value_counts().plot(kind='pie', autopct='%1.0f%%')"
      ],
      "execution_count": 185,
      "outputs": [
        {
          "output_type": "execute_result",
          "data": {
            "text/plain": [
              "<matplotlib.axes._subplots.AxesSubplot at 0x7f75cc655f28>"
            ]
          },
          "metadata": {
            "tags": []
          },
          "execution_count": 185
        },
        {
          "output_type": "display_data",
          "data": {
            "image/png": "[encoded data removed]",
            "text/plain": [
              "<Figure size 432x288 with 1 Axes>"
            ]
          },
          "metadata": {
            "tags": []
          }
        }
      ]
    },
    {
      "cell_type": "code",
      "metadata": {
        "id": "htwj9TEQvvhR",
        "colab_type": "code",
        "outputId": "1e5d577b-3dd6-4684-8bec-697d49496a14",
        "colab": {
          "base_uri": "https://localhost:8080/",
          "height": 265
        }
      },
      "source": [
        "presup_dataset[23].value_counts().plot(kind='pie', autopct='%1.0f%%')"
      ],
      "execution_count": 186,
      "outputs": [
        {
          "output_type": "execute_result",
          "data": {
            "text/plain": [
              "<matplotlib.axes._subplots.AxesSubplot at 0x7f75cc658748>"
            ]
          },
          "metadata": {
            "tags": []
          },
          "execution_count": 186
        },
        {
          "output_type": "display_data",
          "data": {
            "image/png": "[encoded data removed]",
            "text/plain": [
              "<Figure size 432x288 with 1 Axes>"
            ]
          },
          "metadata": {
            "tags": []
          }
        }
      ]
    },
    {
      "cell_type": "markdown",
      "metadata": {
        "colab_type": "text",
        "id": "lm3X0MrYQJjf"
      },
      "source": [
        "Change labels of ECN for numeric values"
      ]
    },
    {
      "cell_type": "code",
      "metadata": {
        "colab_type": "code",
        "id": "hUBnlvgIQJjg",
        "colab": {}
      },
      "source": [
        "labels = {'E':0,'C':1,'N':2,'?':3}\n",
        "\n",
        "for idx, row in dataset.iterrows():\n",
        "    row[5] = labels[row[5]]"
      ],
      "execution_count": 0,
      "outputs": []
    },
    {
      "cell_type": "code",
      "metadata": {
        "colab_type": "code",
        "id": "jDFnAzgCQJjj",
        "outputId": "e4673afb-cf50-4470-f036-84e509e32cd3",
        "colab": {
          "base_uri": "https://localhost:8080/",
          "height": 419
        }
      },
      "source": [
        "dataset"
      ],
      "execution_count": 188,
      "outputs": [
        {
          "output_type": "execute_result",
          "data": {
            "text/html": [
              "<div>\n",
              "<style scoped>\n",
              "    .dataframe tbody tr th:only-of-type {\n",
              "        vertical-align: middle;\n",
              "    }\n",
              "\n",
              "    .dataframe tbody tr th {\n",
              "        vertical-align: top;\n",
              "    }\n",
              "\n",
              "    .dataframe thead th {\n",
              "        text-align: right;\n",
              "    }\n",
              "</style>\n",
              "<table border=\"1\" class=\"dataframe\">\n",
              "  <thead>\n",
              "    <tr style=\"text-align: right;\">\n",
              "      <th></th>\n",
              "      <th>4</th>\n",
              "      <th>5</th>\n",
              "    </tr>\n",
              "  </thead>\n",
              "  <tbody>\n",
              "    <tr>\n",
              "      <th>0</th>\n",
              "      <td>Ja na to, że mam klasówkę, że zawalę biologię ...</td>\n",
              "      <td>2</td>\n",
              "    </tr>\n",
              "    <tr>\n",
              "      <th>1</th>\n",
              "      <td>Ani że na progu stanął właśnie Romanyczko.</td>\n",
              "      <td>3</td>\n",
              "    </tr>\n",
              "    <tr>\n",
              "      <th>2</th>\n",
              "      <td>Potem, że się przywiezie Chińczyków.</td>\n",
              "      <td>2</td>\n",
              "    </tr>\n",
              "    <tr>\n",
              "      <th>3</th>\n",
              "      <td>Słabł coraz bardziej, czuł, że to kwestia zale...</td>\n",
              "      <td>2</td>\n",
              "    </tr>\n",
              "    <tr>\n",
              "      <th>4</th>\n",
              "      <td>Jednak ludzie bardzo ciężko chorzy, gdy już cz...</td>\n",
              "      <td>2</td>\n",
              "    </tr>\n",
              "    <tr>\n",
              "      <th>...</th>\n",
              "      <td>...</td>\n",
              "      <td>...</td>\n",
              "    </tr>\n",
              "    <tr>\n",
              "      <th>2591</th>\n",
              "      <td>Udało się ustalić, że obie dziewczynki mogą pr...</td>\n",
              "      <td>2</td>\n",
              "    </tr>\n",
              "    <tr>\n",
              "      <th>2592</th>\n",
              "      <td>Ustalono, że łączą go z niektórymi członkami g...</td>\n",
              "      <td>2</td>\n",
              "    </tr>\n",
              "    <tr>\n",
              "      <th>2593</th>\n",
              "      <td>Tu będą mogli zobaczyć, że Państwo Izrael ma k...</td>\n",
              "      <td>0</td>\n",
              "    </tr>\n",
              "    <tr>\n",
              "      <th>2594</th>\n",
              "      <td>Oczywiście, że można kochać, jeśli zobaczy się...</td>\n",
              "      <td>2</td>\n",
              "    </tr>\n",
              "    <tr>\n",
              "      <th>2595</th>\n",
              "      <td>Oczywiście, że można kochać, jeśli zobaczy się...</td>\n",
              "      <td>2</td>\n",
              "    </tr>\n",
              "  </tbody>\n",
              "</table>\n",
              "<p>2596 rows × 2 columns</p>\n",
              "</div>"
            ],
            "text/plain": [
              "                                                      4  5\n",
              "0     Ja na to, że mam klasówkę, że zawalę biologię ...  2\n",
              "1            Ani że na progu stanął właśnie Romanyczko.  3\n",
              "2                  Potem, że się przywiezie Chińczyków.  2\n",
              "3     Słabł coraz bardziej, czuł, że to kwestia zale...  2\n",
              "4     Jednak ludzie bardzo ciężko chorzy, gdy już cz...  2\n",
              "...                                                 ... ..\n",
              "2591  Udało się ustalić, że obie dziewczynki mogą pr...  2\n",
              "2592  Ustalono, że łączą go z niektórymi członkami g...  2\n",
              "2593  Tu będą mogli zobaczyć, że Państwo Izrael ma k...  0\n",
              "2594  Oczywiście, że można kochać, jeśli zobaczy się...  2\n",
              "2595  Oczywiście, że można kochać, jeśli zobaczy się...  2\n",
              "\n",
              "[2596 rows x 2 columns]"
            ]
          },
          "metadata": {
            "tags": []
          },
          "execution_count": 188
        }
      ]
    },
    {
      "cell_type": "code",
      "metadata": {
        "id": "AgOx1RUSwJNX",
        "colab_type": "code",
        "outputId": "67253bb4-51cb-4e26-801f-91b571929ae8",
        "colab": {
          "base_uri": "https://localhost:8080/",
          "height": 419
        }
      },
      "source": [
        "presup_labels = {'yes':1, 'no':0}\n",
        "for idx,row in presup_dataset.iterrows():\n",
        "  row[23] = presup_labels[row[23]]\n",
        "  row[5] = labels[row[5]]\n",
        "presup_dataset"
      ],
      "execution_count": 189,
      "outputs": [
        {
          "output_type": "execute_result",
          "data": {
            "text/html": [
              "<div>\n",
              "<style scoped>\n",
              "    .dataframe tbody tr th:only-of-type {\n",
              "        vertical-align: middle;\n",
              "    }\n",
              "\n",
              "    .dataframe tbody tr th {\n",
              "        vertical-align: top;\n",
              "    }\n",
              "\n",
              "    .dataframe thead th {\n",
              "        text-align: right;\n",
              "    }\n",
              "</style>\n",
              "<table border=\"1\" class=\"dataframe\">\n",
              "  <thead>\n",
              "    <tr style=\"text-align: right;\">\n",
              "      <th></th>\n",
              "      <th>4</th>\n",
              "      <th>5</th>\n",
              "      <th>23</th>\n",
              "    </tr>\n",
              "  </thead>\n",
              "  <tbody>\n",
              "    <tr>\n",
              "      <th>0</th>\n",
              "      <td>Ani że na progu stanął właśnie Romanyczko.</td>\n",
              "      <td>3</td>\n",
              "      <td>0</td>\n",
              "    </tr>\n",
              "    <tr>\n",
              "      <th>1</th>\n",
              "      <td>Zresztą, w celi wcale nie czuło się, że jest maj.</td>\n",
              "      <td>0</td>\n",
              "      <td>1</td>\n",
              "    </tr>\n",
              "    <tr>\n",
              "      <th>2</th>\n",
              "      <td>Czuł, że maszynistka nie spuszczają zeń oczu</td>\n",
              "      <td>0</td>\n",
              "      <td>1</td>\n",
              "    </tr>\n",
              "    <tr>\n",
              "      <th>3</th>\n",
              "      <td>Trochę po północy ksiądz Suryn obudził się gwa...</td>\n",
              "      <td>0</td>\n",
              "      <td>1</td>\n",
              "    </tr>\n",
              "    <tr>\n",
              "      <th>4</th>\n",
              "      <td>Biorąc pod uwagę, że grunty pod park nie są je...</td>\n",
              "      <td>0</td>\n",
              "      <td>1</td>\n",
              "    </tr>\n",
              "    <tr>\n",
              "      <th>...</th>\n",
              "      <td>...</td>\n",
              "      <td>...</td>\n",
              "      <td>...</td>\n",
              "    </tr>\n",
              "    <tr>\n",
              "      <th>760</th>\n",
              "      <td>Patrząc na fundamenty podtopionych budynków pa...</td>\n",
              "      <td>0</td>\n",
              "      <td>1</td>\n",
              "    </tr>\n",
              "    <tr>\n",
              "      <th>761</th>\n",
              "      <td>Widać było, że nie ustoi, że jak badyl złamany...</td>\n",
              "      <td>0</td>\n",
              "      <td>1</td>\n",
              "    </tr>\n",
              "    <tr>\n",
              "      <th>762</th>\n",
              "      <td>Widać było, że nie ustoi, że jak badyl złamany...</td>\n",
              "      <td>0</td>\n",
              "      <td>1</td>\n",
              "    </tr>\n",
              "    <tr>\n",
              "      <th>763</th>\n",
              "      <td>Widać, że jest już na ostatnich nogach.</td>\n",
              "      <td>0</td>\n",
              "      <td>1</td>\n",
              "    </tr>\n",
              "    <tr>\n",
              "      <th>764</th>\n",
              "      <td>Tu będą mogli zobaczyć, że Państwo Izrael ma k...</td>\n",
              "      <td>0</td>\n",
              "      <td>1</td>\n",
              "    </tr>\n",
              "  </tbody>\n",
              "</table>\n",
              "<p>765 rows × 3 columns</p>\n",
              "</div>"
            ],
            "text/plain": [
              "                                                    4  5  23\n",
              "0           Ani że na progu stanął właśnie Romanyczko.  3  0\n",
              "1    Zresztą, w celi wcale nie czuło się, że jest maj.  0  1\n",
              "2         Czuł, że maszynistka nie spuszczają zeń oczu  0  1\n",
              "3    Trochę po północy ksiądz Suryn obudził się gwa...  0  1\n",
              "4    Biorąc pod uwagę, że grunty pod park nie są je...  0  1\n",
              "..                                                 ... .. ..\n",
              "760  Patrząc na fundamenty podtopionych budynków pa...  0  1\n",
              "761  Widać było, że nie ustoi, że jak badyl złamany...  0  1\n",
              "762  Widać było, że nie ustoi, że jak badyl złamany...  0  1\n",
              "763            Widać, że jest już na ostatnich nogach.  0  1\n",
              "764  Tu będą mogli zobaczyć, że Państwo Izrael ma k...  0  1\n",
              "\n",
              "[765 rows x 3 columns]"
            ]
          },
          "metadata": {
            "tags": []
          },
          "execution_count": 189
        }
      ]
    },
    {
      "cell_type": "markdown",
      "metadata": {
        "id": "AXz6IwcJjYTC",
        "colab_type": "text"
      },
      "source": [
        "Finding longest sentence for future padding"
      ]
    },
    {
      "cell_type": "code",
      "metadata": {
        "colab_type": "code",
        "id": "Mj_Fsx6RQJjp",
        "outputId": "6c4f2a21-062e-4750-dd51-216111019256",
        "colab": {
          "base_uri": "https://localhost:8080/",
          "height": 34
        }
      },
      "source": [
        "max_len = 0\n",
        "m_idx = 0\n",
        "for idx,row in dataset.iterrows():\n",
        "    l = len(row[4])\n",
        "    if l > max_len:\n",
        "        max_len = l\n",
        "        m_idx = idx\n",
        "print(m_idx)"
      ],
      "execution_count": 190,
      "outputs": [
        {
          "output_type": "stream",
          "text": [
            "360\n"
          ],
          "name": "stdout"
        }
      ]
    },
    {
      "cell_type": "code",
      "metadata": {
        "colab_type": "code",
        "id": "DMGWi_5oQJjr",
        "outputId": "f610cf5f-f5ac-4ccb-f280-d2ceaee161a0",
        "colab": {
          "base_uri": "https://localhost:8080/",
          "height": 54
        }
      },
      "source": [
        "print(dataset[4][m_idx])"
      ],
      "execution_count": 191,
      "outputs": [
        {
          "output_type": "stream",
          "text": [
            "Ci z koalicji rządzącej, ci posłowie, którzy w trakcie posiedzenia sejmowej Komisji Polityki Gospodarczej, Budżetu i Finansów z uporem, myślę, godnym lepszej sprawy, bronili faktu, aby rząd łącznie z budżetem - zapowiadam, łącznie z budżetem, bo mamy świadomość, że nie było i nie ma czasu na to, żeby wcześniej rozpatrywać założenia, a potem przedkładać budżet - przedłożył założenia polityki społeczno-gospodarczej, jako dokumentu ujmującego tę politykę w dłuższym czasie, posłowie, którzy nie dopuścili do takiego rozstrzygnięcia - przypominam, tylko jednym głosem - źle służą również rządowi.\n"
          ],
          "name": "stdout"
        }
      ]
    },
    {
      "cell_type": "code",
      "metadata": {
        "colab_type": "code",
        "id": "jnyxW57oQJju",
        "outputId": "0a3462c9-1d67-4d7c-938b-0962097e7090",
        "colab": {
          "base_uri": "https://localhost:8080/",
          "height": 102
        }
      },
      "source": [
        "!pip install sklearn\n",
        "from sklearn.model_selection import train_test_split"
      ],
      "execution_count": 192,
      "outputs": [
        {
          "output_type": "stream",
          "text": [
            "Requirement already satisfied: sklearn in /usr/local/lib/python3.6/dist-packages (0.0)\n",
            "Requirement already satisfied: scikit-learn in /usr/local/lib/python3.6/dist-packages (from sklearn) (0.22.2.post1)\n",
            "Requirement already satisfied: numpy>=1.11.0 in /usr/local/lib/python3.6/dist-packages (from scikit-learn->sklearn) (1.18.3)\n",
            "Requirement already satisfied: joblib>=0.11 in /usr/local/lib/python3.6/dist-packages (from scikit-learn->sklearn) (0.14.1)\n",
            "Requirement already satisfied: scipy>=0.17.0 in /usr/local/lib/python3.6/dist-packages (from scikit-learn->sklearn) (1.4.1)\n"
          ],
          "name": "stdout"
        }
      ]
    },
    {
      "cell_type": "markdown",
      "metadata": {
        "colab_type": "text",
        "id": "gWyQKEhGQJjx"
      },
      "source": [
        "# Polbert\n",
        "\n",
        "Here we import pretrained version of Bert for Polish language"
      ]
    },
    {
      "cell_type": "code",
      "metadata": {
        "colab_type": "code",
        "id": "m0MH6jDKQJjx",
        "colab": {}
      },
      "source": [
        "model_class, tokenizer_class, pretrained_weights = (BertModel, BertTokenizer, \"dkleczek/bert-base-polish-uncased-v1\")\n",
        "\n",
        "model = model_class.from_pretrained(pretrained_weights)\n",
        "tokenizer = tokenizer_class.from_pretrained(pretrained_weights)"
      ],
      "execution_count": 0,
      "outputs": []
    },
    {
      "cell_type": "markdown",
      "metadata": {
        "colab_type": "text",
        "id": "FTDjTaE9QJj1"
      },
      "source": [
        "## Tokenization\n",
        "\n",
        "Tokenize every sentence from our dataset"
      ]
    },
    {
      "cell_type": "code",
      "metadata": {
        "colab_type": "code",
        "id": "ynst0zmtQJj2",
        "colab": {}
      },
      "source": [
        "tokenized = dataset[4].apply((lambda x: tokenizer.encode(x, add_special_tokens=True)))\n",
        "presup_tokenized = presup_dataset[4].apply((lambda x: tokenizer.encode(x, add_special_tokens=True)))"
      ],
      "execution_count": 0,
      "outputs": []
    },
    {
      "cell_type": "markdown",
      "metadata": {
        "id": "B19K2r4fkI59",
        "colab_type": "text"
      },
      "source": [
        "Values from tokenization"
      ]
    },
    {
      "cell_type": "code",
      "metadata": {
        "colab_type": "code",
        "id": "mZPS_Q89QJj5",
        "outputId": "1631ad70-e257-4967-e115-edbe75ed078c",
        "colab": {
          "base_uri": "https://localhost:8080/",
          "height": 173
        }
      },
      "source": [
        "tokenized.values"
      ],
      "execution_count": 195,
      "outputs": [
        {
          "output_type": "execute_result",
          "data": {
            "text/plain": [
              "array([list([2, 2055, 1898, 1907, 16, 2095, 2040, 15701, 1889, 3118, 16, 2095, 32091, 1014, 12071, 1014, 51, 1893, 15887, 1012, 1906, 27508, 2165, 4785, 18, 4]),\n",
              "       list([2, 2937, 2095, 1898, 26468, 40126, 1019, 29480, 6977, 1013, 7150, 18, 4]),\n",
              "       list([2, 3006, 16, 2095, 2243, 11319, 2713, 11007, 8572, 1889, 18, 4]),\n",
              "       ...,\n",
              "       list([2, 2030, 40221, 4949, 38584, 16, 2095, 2013, 2803, 12250, 1994, 26825, 2437, 48721, 16, 2030, 14229, 2114, 2808, 21694, 40575, 4955, 52867, 9417, 16, 2030, 8822, 1948, 2243, 24391, 3117, 4955, 52867, 1014, 27972, 16, 2030, 48570, 41886, 2243, 51, 5245, 50930, 36755, 50719, 15956, 23652, 2054, 18, 4]),\n",
              "       list([2, 31040, 16, 2095, 29801, 6289, 1015, 16, 10865, 3403, 2243, 16, 2095, 2259, 16879, 1015, 1893, 40065, 1923, 2243, 68, 4109, 16, 2095, 2499, 3089, 1906, 3115, 3410, 18, 4]),\n",
              "       list([2, 31040, 16, 2095, 29801, 6289, 1015, 16, 10865, 3403, 2243, 16, 2095, 2259, 16879, 1015, 1893, 40065, 1923, 2243, 68, 4109, 16, 2095, 2499, 3089, 1906, 3115, 3410, 18, 4])],\n",
              "      dtype=object)"
            ]
          },
          "metadata": {
            "tags": []
          },
          "execution_count": 195
        }
      ]
    },
    {
      "cell_type": "code",
      "metadata": {
        "id": "_uf8GwBixngn",
        "colab_type": "code",
        "outputId": "89ee201a-81d1-4227-ff93-9f271444cca8",
        "colab": {
          "base_uri": "https://localhost:8080/",
          "height": 224
        }
      },
      "source": [
        "presup_tokenized.values[:10]"
      ],
      "execution_count": 260,
      "outputs": [
        {
          "output_type": "execute_result",
          "data": {
            "text/plain": [
              "array([list([2, 2937, 2095, 1898, 26468, 40126, 1019, 29480, 6977, 1013, 7150, 18, 4]),\n",
              "       list([2, 4309, 29850, 16, 65, 11409, 4771, 1893, 11981, 1005, 2243, 16, 2095, 1919, 3623, 18, 4]),\n",
              "       list([2, 11981, 16, 2095, 9073, 6798, 1922, 1893, 52102, 1008, 26246, 9325, 4]),\n",
              "       list([2, 15556, 1896, 3949, 53023, 1013, 41502, 1899, 7970, 12191, 21635, 2243, 28984, 16, 1951, 1961, 35387, 15075, 1895, 16, 51, 3241, 22237, 16, 2095, 8182, 22566, 1892, 2243, 65, 2524, 5261, 16, 2095, 3869, 3430, 26716, 1013, 50590, 1013, 58461, 7518, 7295, 25607, 51, 2095, 1898, 14486, 1919, 34252, 3415, 16, 38053, 31135, 41262, 2203, 2243, 2114, 2840, 18, 4]),\n",
              "       list([2, 5412, 16609, 2011, 14997, 1014, 16, 2095, 45544, 2011, 5780, 1893, 3003, 2286, 10997, 25092, 16, 10367, 38185, 52421, 3234, 5533, 4471, 31435, 1927, 17, 15469, 12292, 35663, 23260, 1905, 8668, 18, 4]),\n",
              "       list([2, 5412, 16609, 2011, 14997, 1014, 16, 2095, 2150, 65, 39130, 16, 1907, 2216, 59377, 16, 2095, 2303, 1937, 13510, 2293, 2011, 21692, 2689, 18, 18, 18, 4]),\n",
              "       list([2, 1911, 1937, 2622, 8817, 5386, 50406, 2639, 2138, 2451, 16, 2007, 2599, 9437, 2345, 1015, 2011, 14997, 1014, 16, 2095, 2134, 3411, 16, 40604, 4339, 16, 37113, 2568, 16, 8346, 51, 1893, 2040, 9437, 3126, 6084, 1935, 14366, 18, 4]),\n",
              "       list([2, 31040, 16, 3003, 40462, 16, 34357, 1012, 2243, 23110, 51, 68, 34357, 1998, 5446, 2243, 37201, 1015, 16, 3063, 2827, 2345, 1015, 2011, 14997, 1014, 16, 2095, 2152, 57976, 2847, 2243, 4911, 51, 1907, 16, 1935, 14366, 11261, 2243, 15466, 1960, 16, 32994, 8090, 12026, 7257, 1927, 2376, 56907, 1019, 4]),\n",
              "       list([2, 1919, 12913, 16, 2095, 12656, 1994, 46896, 1898, 15190, 12694, 16, 9568, 3251, 25068, 2243, 1898, 30958, 16, 2227, 20134, 1898, 13048, 18, 4]),\n",
              "       list([2, 2198, 29653, 1907, 45737, 16, 3167, 14417, 16, 2095, 8589, 48237, 18, 4])],\n",
              "      dtype=object)"
            ]
          },
          "metadata": {
            "tags": []
          },
          "execution_count": 260
        }
      ]
    },
    {
      "cell_type": "markdown",
      "metadata": {
        "colab_type": "text",
        "id": "oaDi0KStQJj8"
      },
      "source": [
        "## Padding\n",
        "\n",
        "We need to have input of the same lenght in order to feed BERT once (we will get performance speed). This will be some simple python string manipulation"
      ]
    },
    {
      "cell_type": "code",
      "metadata": {
        "colab_type": "code",
        "id": "5aSvvbmTQJj8",
        "colab": {}
      },
      "source": [
        "max_len = 0\n",
        "for i in tokenized.values:\n",
        "    if len(i) > max_len:\n",
        "        max_len = len(i)"
      ],
      "execution_count": 0,
      "outputs": []
    },
    {
      "cell_type": "code",
      "metadata": {
        "colab_type": "code",
        "id": "nGx5Tv89QJj_",
        "outputId": "f989ad6b-2254-4694-8537-20379b5e1c89",
        "colab": {
          "base_uri": "https://localhost:8080/",
          "height": 34
        }
      },
      "source": [
        "max_len"
      ],
      "execution_count": 198,
      "outputs": [
        {
          "output_type": "execute_result",
          "data": {
            "text/plain": [
              "146"
            ]
          },
          "metadata": {
            "tags": []
          },
          "execution_count": 198
        }
      ]
    },
    {
      "cell_type": "code",
      "metadata": {
        "id": "mTHbEjXuxvip",
        "colab_type": "code",
        "outputId": "75ca4f25-e80d-4375-d2ea-4fb7e7766073",
        "colab": {
          "base_uri": "https://localhost:8080/",
          "height": 34
        }
      },
      "source": [
        "presup_max_len = 0\n",
        "for i in presup_tokenized.values:\n",
        "  if len(i) > presup_max_len:\n",
        "    presup_max_len = len(i)\n",
        "presup_max_len"
      ],
      "execution_count": 199,
      "outputs": [
        {
          "output_type": "execute_result",
          "data": {
            "text/plain": [
              "108"
            ]
          },
          "metadata": {
            "tags": []
          },
          "execution_count": 199
        }
      ]
    },
    {
      "cell_type": "markdown",
      "metadata": {
        "colab_type": "text",
        "id": "m6khNyYFQJkC"
      },
      "source": [
        "Maybe we can consider shortening some sentences here"
      ]
    },
    {
      "cell_type": "code",
      "metadata": {
        "colab_type": "code",
        "id": "yrk93wfaQJkC",
        "colab": {}
      },
      "source": [
        "padded = np.array([i + [0]*(max_len-len(i)) for i in tokenized.values])\n",
        "presup_padded = np.array([i + [0]*(presup_max_len-len(i)) for i in presup_tokenized.values])"
      ],
      "execution_count": 0,
      "outputs": []
    },
    {
      "cell_type": "markdown",
      "metadata": {
        "id": "ZpLmxT-5l58c",
        "colab_type": "text"
      },
      "source": [
        "Padded tokenized values looks as follow"
      ]
    },
    {
      "cell_type": "code",
      "metadata": {
        "colab_type": "code",
        "id": "kKCOSXjXQJkF",
        "outputId": "2973f72d-11b5-4b65-f2b3-e3dfaebac495",
        "colab": {
          "base_uri": "https://localhost:8080/",
          "height": 136
        }
      },
      "source": [
        "padded"
      ],
      "execution_count": 201,
      "outputs": [
        {
          "output_type": "execute_result",
          "data": {
            "text/plain": [
              "array([[    2,  2055,  1898, ...,     0,     0,     0],\n",
              "       [    2,  2937,  2095, ...,     0,     0,     0],\n",
              "       [    2,  3006,    16, ...,     0,     0,     0],\n",
              "       ...,\n",
              "       [    2,  2030, 40221, ...,     0,     0,     0],\n",
              "       [    2, 31040,    16, ...,     0,     0,     0],\n",
              "       [    2, 31040,    16, ...,     0,     0,     0]])"
            ]
          },
          "metadata": {
            "tags": []
          },
          "execution_count": 201
        }
      ]
    },
    {
      "cell_type": "code",
      "metadata": {
        "id": "PiDseS3iyPyT",
        "colab_type": "code",
        "outputId": "e4e44d81-c667-4f5f-a1cd-491928908fce",
        "colab": {
          "base_uri": "https://localhost:8080/",
          "height": 136
        }
      },
      "source": [
        "presup_padded"
      ],
      "execution_count": 202,
      "outputs": [
        {
          "output_type": "execute_result",
          "data": {
            "text/plain": [
              "array([[    2,  2937,  2095, ...,     0,     0,     0],\n",
              "       [    2,  4309, 29850, ...,     0,     0,     0],\n",
              "       [    2, 11981,    16, ...,     0,     0,     0],\n",
              "       ...,\n",
              "       [    2,  9898, 16609, ...,     0,     0,     0],\n",
              "       [    2,  9898, 16609, ...,     0,     0,     0],\n",
              "       [    2,  2030, 40221, ...,     0,     0,     0]])"
            ]
          },
          "metadata": {
            "tags": []
          },
          "execution_count": 202
        }
      ]
    },
    {
      "cell_type": "code",
      "metadata": {
        "colab_type": "code",
        "id": "ziFFn1CAQJkI",
        "outputId": "93181b80-7205-46c4-c927-3f3f3783e639",
        "colab": {
          "base_uri": "https://localhost:8080/",
          "height": 34
        }
      },
      "source": [
        "np.array(padded).shape"
      ],
      "execution_count": 203,
      "outputs": [
        {
          "output_type": "execute_result",
          "data": {
            "text/plain": [
              "(2596, 146)"
            ]
          },
          "metadata": {
            "tags": []
          },
          "execution_count": 203
        }
      ]
    },
    {
      "cell_type": "markdown",
      "metadata": {
        "colab_type": "text",
        "id": "iFdLTJj4SX0-"
      },
      "source": [
        "## Computing embedding using BERT\n",
        "\n",
        "Now we do create cube of 146(tokens per row) * 768 (hidden layers) * 2596 (number of sentences)"
      ]
    },
    {
      "cell_type": "code",
      "metadata": {
        "colab_type": "code",
        "id": "ydNiAHljQJkK",
        "colab": {}
      },
      "source": [
        "input_ids = torch.tensor(np.array(padded))"
      ],
      "execution_count": 0,
      "outputs": []
    },
    {
      "cell_type": "code",
      "metadata": {
        "colab_type": "code",
        "id": "8wHwKIMGQJkM",
        "outputId": "1f7328a4-2447-4a5f-ac08-e76a13ed93bd",
        "colab": {
          "base_uri": "https://localhost:8080/",
          "height": 136
        }
      },
      "source": [
        "input_ids"
      ],
      "execution_count": 205,
      "outputs": [
        {
          "output_type": "execute_result",
          "data": {
            "text/plain": [
              "tensor([[    2,  2055,  1898,  ...,     0,     0,     0],\n",
              "        [    2,  2937,  2095,  ...,     0,     0,     0],\n",
              "        [    2,  3006,    16,  ...,     0,     0,     0],\n",
              "        ...,\n",
              "        [    2,  2030, 40221,  ...,     0,     0,     0],\n",
              "        [    2, 31040,    16,  ...,     0,     0,     0],\n",
              "        [    2, 31040,    16,  ...,     0,     0,     0]])"
            ]
          },
          "metadata": {
            "tags": []
          },
          "execution_count": 205
        }
      ]
    },
    {
      "cell_type": "code",
      "metadata": {
        "id": "NFpdpWXg4eKg",
        "colab_type": "code",
        "outputId": "b91d2abc-c417-418d-e586-c69665f42f95",
        "colab": {
          "base_uri": "https://localhost:8080/",
          "height": 34
        }
      },
      "source": [
        "input_ids.shape"
      ],
      "execution_count": 206,
      "outputs": [
        {
          "output_type": "execute_result",
          "data": {
            "text/plain": [
              "torch.Size([2596, 146])"
            ]
          },
          "metadata": {
            "tags": []
          },
          "execution_count": 206
        }
      ]
    },
    {
      "cell_type": "markdown",
      "metadata": {
        "id": "aJ2zQOSKmKU_",
        "colab_type": "text"
      },
      "source": [
        "Here we compute embeddings for our tokenized values. It is the longest time consuming operation in this notebook, can take approximately up to 10 minutes"
      ]
    },
    {
      "cell_type": "code",
      "metadata": {
        "colab_type": "code",
        "id": "RhaInBWiQJkP",
        "colab": {}
      },
      "source": [
        "with torch.no_grad():\n",
        "    last_hidden_states = model(input_ids)"
      ],
      "execution_count": 0,
      "outputs": []
    },
    {
      "cell_type": "markdown",
      "metadata": {
        "colab_type": "text",
        "id": "a6yN8AJkwCTT"
      },
      "source": [
        "We will extract two sets of embeddings. One for CSL only (2D array) and one for the whole cube"
      ]
    },
    {
      "cell_type": "code",
      "metadata": {
        "colab_type": "code",
        "id": "l7J8kG1XwNyo",
        "colab": {}
      },
      "source": [
        "features = last_hidden_states[0][:,:,:].numpy()"
      ],
      "execution_count": 0,
      "outputs": []
    },
    {
      "cell_type": "code",
      "metadata": {
        "colab_type": "code",
        "id": "ARcBn555mnQm",
        "outputId": "83b0e433-8a27-465d-c1d2-e525209cdd21",
        "colab": {
          "base_uri": "https://localhost:8080/",
          "height": 238
        }
      },
      "source": [
        "cls_features = last_hidden_states[0][:,0,:].numpy()\n",
        "cls_features"
      ],
      "execution_count": 209,
      "outputs": [
        {
          "output_type": "execute_result",
          "data": {
            "text/plain": [
              "array([[ 0.25127047,  0.05621039,  0.5283817 , ..., -0.16011767,\n",
              "         0.09001464, -0.38211265],\n",
              "       [ 0.42232475,  0.08961002,  0.49109307, ..., -0.20376782,\n",
              "        -0.16197048, -0.5356227 ],\n",
              "       [ 0.50437593,  0.01179665,  0.48297465, ..., -0.11081177,\n",
              "        -0.09251087, -0.42476308],\n",
              "       ...,\n",
              "       [ 0.24305844, -0.14591762,  0.9826037 , ...,  0.15874851,\n",
              "         0.02587719, -0.27605474],\n",
              "       [ 0.19790465, -0.05286083,  0.54641706, ..., -0.07265625,\n",
              "         0.03099446, -0.33454126],\n",
              "       [ 0.19790465, -0.05286083,  0.54641706, ..., -0.07265625,\n",
              "         0.03099446, -0.33454126]], dtype=float32)"
            ]
          },
          "metadata": {
            "tags": []
          },
          "execution_count": 209
        }
      ]
    },
    {
      "cell_type": "code",
      "metadata": {
        "colab_type": "code",
        "id": "UTMLzojKmuno",
        "outputId": "082f4f66-c0a2-4118-8cd9-67c1209edfb0",
        "colab": {
          "base_uri": "https://localhost:8080/",
          "height": 34
        }
      },
      "source": [
        "features.shape"
      ],
      "execution_count": 210,
      "outputs": [
        {
          "output_type": "execute_result",
          "data": {
            "text/plain": [
              "(2596, 146, 768)"
            ]
          },
          "metadata": {
            "tags": []
          },
          "execution_count": 210
        }
      ]
    },
    {
      "cell_type": "code",
      "metadata": {
        "colab_type": "code",
        "id": "1sQC37m4wYK2",
        "outputId": "06431067-1b2a-4938-d612-c312fb9f019b",
        "colab": {
          "base_uri": "https://localhost:8080/",
          "height": 34
        }
      },
      "source": [
        "cls_features.shape"
      ],
      "execution_count": 211,
      "outputs": [
        {
          "output_type": "execute_result",
          "data": {
            "text/plain": [
              "(2596, 768)"
            ]
          },
          "metadata": {
            "tags": []
          },
          "execution_count": 211
        }
      ]
    },
    {
      "cell_type": "markdown",
      "metadata": {
        "id": "QysgA3rj4eLB",
        "colab_type": "text"
      },
      "source": [
        "## Onehot encoding"
      ]
    },
    {
      "cell_type": "code",
      "metadata": {
        "colab_type": "code",
        "id": "xxR7-ir-wlDy",
        "outputId": "bd9d176e-45f2-41a8-94f1-ae81b2a26ad7",
        "colab": {
          "base_uri": "https://localhost:8080/",
          "height": 136
        }
      },
      "source": [
        "y = np.array(dataset[5], dtype=np.int16)\n",
        "y_labels = np.zeros((y.size, y.max()+1))\n",
        "y_labels[np.arange(y.size),y] = 1\n",
        "y_labels"
      ],
      "execution_count": 212,
      "outputs": [
        {
          "output_type": "execute_result",
          "data": {
            "text/plain": [
              "array([[0., 0., 1., 0.],\n",
              "       [0., 0., 0., 1.],\n",
              "       [0., 0., 1., 0.],\n",
              "       ...,\n",
              "       [1., 0., 0., 0.],\n",
              "       [0., 0., 1., 0.],\n",
              "       [0., 0., 1., 0.]])"
            ]
          },
          "metadata": {
            "tags": []
          },
          "execution_count": 212
        }
      ]
    },
    {
      "cell_type": "markdown",
      "metadata": {
        "colab_type": "text",
        "id": "jFndQqv-xLNy"
      },
      "source": [
        "## Feed Forward Neural Network\n",
        "Creating Feed Forward Neural Network which will take as an input vector of embeddings and return one of semantic classes. Firstly we will do it for 2d CLS matrix"
      ]
    },
    {
      "cell_type": "code",
      "metadata": {
        "colab_type": "code",
        "id": "iY8WmSEkxZV2",
        "colab": {}
      },
      "source": [
        "import torch.nn as nn\n",
        "import torchvision.transforms as transforms\n",
        "import torchvision.datasets as ds\n",
        "import torch.nn.functional as F\n",
        "import time"
      ],
      "execution_count": 0,
      "outputs": []
    },
    {
      "cell_type": "markdown",
      "metadata": {
        "colab_type": "text",
        "id": "4vFWqVXTxuk2"
      },
      "source": [
        "### Creating dataset"
      ]
    },
    {
      "cell_type": "code",
      "metadata": {
        "colab_type": "code",
        "id": "ITzN8xfvxihR",
        "outputId": "3b51d033-da8b-4561-c633-1be3a0e7fb88",
        "colab": {
          "base_uri": "https://localhost:8080/",
          "height": 238
        }
      },
      "source": [
        "train_features, test_features, train_labels, test_labels = train_test_split(cls_features, y)\n",
        "train_features[:10]"
      ],
      "execution_count": 214,
      "outputs": [
        {
          "output_type": "execute_result",
          "data": {
            "text/plain": [
              "array([[ 0.7036125 , -0.21495306,  0.7767872 , ..., -0.30695572,\n",
              "        -0.28999647, -0.7216592 ],\n",
              "       [ 0.13759235, -0.01129367,  0.60140604, ..., -0.06906768,\n",
              "         0.1671999 , -0.27325547],\n",
              "       [ 0.05100797,  0.09301066,  0.7130889 , ..., -0.3162811 ,\n",
              "         0.560127  , -0.3455388 ],\n",
              "       ...,\n",
              "       [ 0.24265398,  0.14142074,  0.70771456, ..., -0.0333265 ,\n",
              "         0.0443786 , -0.15903404],\n",
              "       [ 0.29462156, -0.02298697,  0.8642586 , ..., -0.07703716,\n",
              "        -0.00921529, -0.3532715 ],\n",
              "       [ 0.21536855, -0.10234317,  0.7758023 , ..., -0.3234807 ,\n",
              "         0.04727036, -0.26320168]], dtype=float32)"
            ]
          },
          "metadata": {
            "tags": []
          },
          "execution_count": 214
        }
      ]
    },
    {
      "cell_type": "markdown",
      "metadata": {
        "id": "TLvi_eEb4eLP",
        "colab_type": "text"
      },
      "source": [
        "## Convert data to Torch tensor"
      ]
    },
    {
      "cell_type": "code",
      "metadata": {
        "id": "u2gc86p_4eLQ",
        "colab_type": "code",
        "colab": {}
      },
      "source": [
        "train_features = torch.from_numpy(train_features)\n",
        "test_features = torch.from_numpy(test_features)\n",
        "train_labels = torch.from_numpy(train_labels)\n",
        "test_labels = torch.from_numpy(test_labels)"
      ],
      "execution_count": 0,
      "outputs": []
    },
    {
      "cell_type": "code",
      "metadata": {
        "id": "_tL4Yw7j_HH5",
        "colab_type": "code",
        "outputId": "ab1d882b-766f-467d-ccd2-3101a75f3e2d",
        "colab": {
          "base_uri": "https://localhost:8080/",
          "height": 85
        }
      },
      "source": [
        "print(train_features.shape)\n",
        "print(test_features.shape)\n",
        "print(train_labels.shape)\n",
        "print(test_labels.shape)"
      ],
      "execution_count": 216,
      "outputs": [
        {
          "output_type": "stream",
          "text": [
            "torch.Size([1947, 768])\n",
            "torch.Size([649, 768])\n",
            "torch.Size([1947])\n",
            "torch.Size([649])\n"
          ],
          "name": "stdout"
        }
      ]
    },
    {
      "cell_type": "code",
      "metadata": {
        "colab_type": "code",
        "id": "Qct6HbphyCVV",
        "outputId": "0ef6e0a7-ba26-4b0f-fe45-ea1f48782d37",
        "colab": {
          "base_uri": "https://localhost:8080/",
          "height": 34
        }
      },
      "source": [
        "batch_size = int(train_features.shape[0] / 50)\n",
        "batch_size"
      ],
      "execution_count": 217,
      "outputs": [
        {
          "output_type": "execute_result",
          "data": {
            "text/plain": [
              "38"
            ]
          },
          "metadata": {
            "tags": []
          },
          "execution_count": 217
        }
      ]
    },
    {
      "cell_type": "markdown",
      "metadata": {
        "id": "nBYIiCHLmw3i",
        "colab_type": "text"
      },
      "source": [
        "Here we define class of our neural network. It will be simple FFNN, which uses RELu for activation and softmax for squashing"
      ]
    },
    {
      "cell_type": "code",
      "metadata": {
        "colab_type": "code",
        "id": "0hGGi59u1E62",
        "colab": {}
      },
      "source": [
        "class FeedforwardNeuralNetModel(nn.Module):\n",
        "  def __init__(self, input_size, hidden_size, output_size):\n",
        "    super(FeedforwardNeuralNetModel, self).__init__()\n",
        "    self.input_size = input_size\n",
        "    self.hidden_size  = hidden_size\n",
        "    self.output_zise = output_size\n",
        "    self.fc1 = nn.Linear(self.input_size, self.hidden_size)\n",
        "    self.fc2 = nn.Linear(hidden_size,hidden_size)\n",
        "    self.fc3 = nn.Linear(self.hidden_size, output_size)\n",
        "\n",
        "\n",
        "  def forward(self,x):\n",
        "    x = F.relu(self.fc1(x))\n",
        "    x = F.relu(self.fc2(x))\n",
        "    output = self.fc3(x)\n",
        "    return F.log_softmax(output, dim=0)"
      ],
      "execution_count": 0,
      "outputs": []
    },
    {
      "cell_type": "markdown",
      "metadata": {
        "id": "FTDqnm3_nM7J",
        "colab_type": "text"
      },
      "source": [
        "Here we define some parameters for the NN"
      ]
    },
    {
      "cell_type": "code",
      "metadata": {
        "colab_type": "code",
        "id": "6F86gYor1z_p",
        "outputId": "c72e6536-a36f-4a99-d241-653206b96a8f",
        "colab": {
          "base_uri": "https://localhost:8080/",
          "height": 34
        }
      },
      "source": [
        "tokens = 1\n",
        "input_dim = 768 * tokens\n",
        "hidden_dim = 256\n",
        "output_dim = len(labels)\n",
        "\n",
        "input_dim"
      ],
      "execution_count": 219,
      "outputs": [
        {
          "output_type": "execute_result",
          "data": {
            "text/plain": [
              "768"
            ]
          },
          "metadata": {
            "tags": []
          },
          "execution_count": 219
        }
      ]
    },
    {
      "cell_type": "code",
      "metadata": {
        "colab_type": "code",
        "id": "EDy7hQfj2ciB",
        "colab": {}
      },
      "source": [
        "ffnn = FeedforwardNeuralNetModel(input_dim, hidden_dim, output_dim)"
      ],
      "execution_count": 0,
      "outputs": []
    },
    {
      "cell_type": "markdown",
      "metadata": {
        "id": "nezzBre9nSS0",
        "colab_type": "text"
      },
      "source": [
        "As a loss criterion we will use CrossEntropyLoss"
      ]
    },
    {
      "cell_type": "code",
      "metadata": {
        "colab_type": "code",
        "id": "Cf5LG44b4C7T",
        "colab": {}
      },
      "source": [
        "criterion = nn.CrossEntropyLoss()"
      ],
      "execution_count": 0,
      "outputs": []
    },
    {
      "cell_type": "code",
      "metadata": {
        "id": "Zq4wSXC74eLo",
        "colab_type": "code",
        "outputId": "8092e681-7c26-4d50-f08c-727f79022fc1",
        "colab": {
          "base_uri": "https://localhost:8080/",
          "height": 102
        }
      },
      "source": [
        "print(ffnn)"
      ],
      "execution_count": 222,
      "outputs": [
        {
          "output_type": "stream",
          "text": [
            "FeedforwardNeuralNetModel(\n",
            "  (fc1): Linear(in_features=768, out_features=256, bias=True)\n",
            "  (fc2): Linear(in_features=256, out_features=256, bias=True)\n",
            "  (fc3): Linear(in_features=256, out_features=4, bias=True)\n",
            ")\n"
          ],
          "name": "stdout"
        }
      ]
    },
    {
      "cell_type": "code",
      "metadata": {
        "colab_type": "code",
        "id": "zTTTazHA-HOX",
        "colab": {}
      },
      "source": [
        "def generate_batch_data(x, y, batch_size):\n",
        "    i, batch = 0, 0\n",
        "    for batch, i in enumerate(range(0, len(x) - batch_size, batch_size), 1):\n",
        "        x_batch = x[i : i + batch_size]\n",
        "        y_batch = y[i : i + batch_size]\n",
        "        yield x_batch, y_batch, batch\n",
        "    if i + batch_size < len(x):\n",
        "        yield x[i + batch_size :], y[i + batch_size :], batch + 1\n",
        "    if batch == 0:\n",
        "        yield x, y, 1"
      ],
      "execution_count": 0,
      "outputs": []
    },
    {
      "cell_type": "code",
      "metadata": {
        "colab_type": "code",
        "id": "Tnz6d-894cqm",
        "outputId": "4546b508-41f3-444b-d6b5-ca041b20663b",
        "colab": {
          "base_uri": "https://localhost:8080/",
          "height": 544
        }
      },
      "source": [
        "train_losses = []\n",
        "ffnn = FeedforwardNeuralNetModel(input_dim, hidden_dim, output_dim)\n",
        "learning_rate = 0.00001\n",
        "optimizer = torch.optim.Adam(ffnn.parameters(), lr=learning_rate)\n",
        "\n",
        "for epoch in range(0,151):\n",
        "    \n",
        "    ffnn.train(True)\n",
        "    train_loss = 0 \n",
        "\n",
        "    for x_batch, y_batch, batch in generate_batch_data(train_features, train_labels, batch_size):\n",
        "        optimizer.zero_grad()\n",
        "        y_pred = ffnn(x_batch)\n",
        "        loss = criterion(y_pred, y_batch.long())\n",
        "        loss.backward()\n",
        "        optimizer.step()\n",
        "        train_loss += loss.item()\n",
        "\n",
        "    if epoch % 5 == 0:\n",
        "      train_losses.append(train_loss/len(train_features))\n",
        "      print(f\"{epoch} / 150 | loss = {train_loss/len(train_features)}\")\n",
        "\n",
        "\n",
        "\n",
        "\n"
      ],
      "execution_count": 230,
      "outputs": [
        {
          "output_type": "stream",
          "text": [
            "0 / 150 | loss = 0.036980828506614716\n",
            "5 / 150 | loss = 0.036776336572938044\n",
            "10 / 150 | loss = 0.03651312001252333\n",
            "15 / 150 | loss = 0.03603161575246849\n",
            "20 / 150 | loss = 0.03441241783059801\n",
            "25 / 150 | loss = 0.028968967103198913\n",
            "30 / 150 | loss = 0.02513042865316257\n",
            "35 / 150 | loss = 0.02373676099223728\n",
            "40 / 150 | loss = 0.023038911862317022\n",
            "45 / 150 | loss = 0.022575266004894474\n",
            "50 / 150 | loss = 0.022220932953652812\n",
            "55 / 150 | loss = 0.021924876132008966\n",
            "60 / 150 | loss = 0.021664412237768854\n",
            "65 / 150 | loss = 0.021428319234754956\n",
            "70 / 150 | loss = 0.021212273214680142\n",
            "75 / 150 | loss = 0.021011820972792358\n",
            "80 / 150 | loss = 0.020823626761321355\n",
            "85 / 150 | loss = 0.020645480019408247\n",
            "90 / 150 | loss = 0.02047396540396876\n",
            "95 / 150 | loss = 0.020309627331644067\n",
            "100 / 150 | loss = 0.02015300281058842\n",
            "105 / 150 | loss = 0.020001420591449395\n",
            "110 / 150 | loss = 0.019854948697606907\n",
            "115 / 150 | loss = 0.019710772455075368\n",
            "120 / 150 | loss = 0.01957205233355945\n",
            "125 / 150 | loss = 0.019437075901104967\n",
            "130 / 150 | loss = 0.019307699672491293\n",
            "135 / 150 | loss = 0.019182302030956187\n",
            "140 / 150 | loss = 0.019060974465190415\n",
            "145 / 150 | loss = 0.018943026746060215\n",
            "150 / 150 | loss = 0.018826975140378118\n"
          ],
          "name": "stdout"
        }
      ]
    },
    {
      "cell_type": "code",
      "metadata": {
        "id": "4M1CcIBf4eLz",
        "colab_type": "code",
        "outputId": "700dff61-1097-4db8-c99f-5658b8ea875d",
        "colab": {
          "base_uri": "https://localhost:8080/",
          "height": 298
        }
      },
      "source": [
        "plt.plot(train_losses, label=\"Training loss\")\n",
        "plt.legend()\n",
        "plt.title(\"Losses\")"
      ],
      "execution_count": 225,
      "outputs": [
        {
          "output_type": "execute_result",
          "data": {
            "text/plain": [
              "Text(0.5, 1.0, 'Losses')"
            ]
          },
          "metadata": {
            "tags": []
          },
          "execution_count": 225
        },
        {
          "output_type": "display_data",
          "data": {
            "image/png": "[encoded data removed]",
            "text/plain": [
              "<Figure size 432x288 with 1 Axes>"
            ]
          },
          "metadata": {
            "tags": [],
            "needs_background": "light"
          }
        }
      ]
    },
    {
      "cell_type": "code",
      "metadata": {
        "id": "t66E8tBv4eL4",
        "colab_type": "code",
        "outputId": "8c3b8293-ee95-4860-cbd5-45f026b0cb42",
        "colab": {
          "base_uri": "https://localhost:8080/",
          "height": 374
        }
      },
      "source": [
        "test_losses = []\n",
        "\n",
        "for epoch in range(0,101):\n",
        "    \n",
        "    test_loss = 0 \n",
        "    correct = 0\n",
        "    ffnn.eval()\n",
        "\n",
        "    for x_batch, y_batch, batch in generate_batch_data(test_features, test_labels, batch_size):\n",
        "        y_pred = ffnn(x_batch)\n",
        "        loss = criterion(y_pred, y_batch.long())\n",
        "        pred = np.argmax(y_pred.data,axis=1)\n",
        "        test_loss += loss.item()\n",
        "        correct += pred.eq(y_batch.data).sum()\n",
        "\n",
        "    if epoch % 5 == 0:\n",
        "      test_losses.append(test_loss/len(test_features))\n",
        "\n",
        "      print(f\"{epoch} / 100 | loss = {test_loss/len(test_features)} | Accuracy = {100. * correct/len(test_features)}%\")"
      ],
      "execution_count": 252,
      "outputs": [
        {
          "output_type": "stream",
          "text": [
            "0 / 100 | loss = 0.34688631095923483 | Accuracy = 63.54166793823242%\n",
            "5 / 100 | loss = 0.34688631095923483 | Accuracy = 63.54166793823242%\n",
            "10 / 100 | loss = 0.34688631095923483 | Accuracy = 63.54166793823242%\n",
            "15 / 100 | loss = 0.34688631095923483 | Accuracy = 63.54166793823242%\n",
            "20 / 100 | loss = 0.34688631095923483 | Accuracy = 63.54166793823242%\n",
            "25 / 100 | loss = 0.34688631095923483 | Accuracy = 63.54166793823242%\n",
            "30 / 100 | loss = 0.34688631095923483 | Accuracy = 63.54166793823242%\n",
            "35 / 100 | loss = 0.34688631095923483 | Accuracy = 63.54166793823242%\n",
            "40 / 100 | loss = 0.34688631095923483 | Accuracy = 63.54166793823242%\n",
            "45 / 100 | loss = 0.34688631095923483 | Accuracy = 63.54166793823242%\n",
            "50 / 100 | loss = 0.34688631095923483 | Accuracy = 63.54166793823242%\n",
            "55 / 100 | loss = 0.34688631095923483 | Accuracy = 63.54166793823242%\n",
            "60 / 100 | loss = 0.34688631095923483 | Accuracy = 63.54166793823242%\n",
            "65 / 100 | loss = 0.34688631095923483 | Accuracy = 63.54166793823242%\n",
            "70 / 100 | loss = 0.34688631095923483 | Accuracy = 63.54166793823242%\n",
            "75 / 100 | loss = 0.34688631095923483 | Accuracy = 63.54166793823242%\n",
            "80 / 100 | loss = 0.34688631095923483 | Accuracy = 63.54166793823242%\n",
            "85 / 100 | loss = 0.34688631095923483 | Accuracy = 63.54166793823242%\n",
            "90 / 100 | loss = 0.34688631095923483 | Accuracy = 63.54166793823242%\n",
            "95 / 100 | loss = 0.34688631095923483 | Accuracy = 63.54166793823242%\n",
            "100 / 100 | loss = 0.34688631095923483 | Accuracy = 63.54166793823242%\n"
          ],
          "name": "stdout"
        }
      ]
    },
    {
      "cell_type": "markdown",
      "metadata": {
        "id": "3-io5Bt2GKR5",
        "colab_type": "text"
      },
      "source": [
        "### 7 times cross-validation"
      ]
    },
    {
      "cell_type": "code",
      "metadata": {
        "id": "-IOKQQWsGJ_i",
        "colab_type": "code",
        "colab": {
          "base_uri": "https://localhost:8080/",
          "height": 136
        },
        "outputId": "534c2db0-cdba-4e60-9971-ca7cb2811d57"
      },
      "source": [
        "!pip install skorch\n",
        "\n",
        "from skorch import NeuralNetClassifier\n",
        "from sklearn.model_selection import cross_val_score"
      ],
      "execution_count": 226,
      "outputs": [
        {
          "output_type": "stream",
          "text": [
            "Requirement already satisfied: skorch in /usr/local/lib/python3.6/dist-packages (0.8.0)\n",
            "Requirement already satisfied: tqdm>=4.14.0 in /usr/local/lib/python3.6/dist-packages (from skorch) (4.38.0)\n",
            "Requirement already satisfied: numpy>=1.13.3 in /usr/local/lib/python3.6/dist-packages (from skorch) (1.18.3)\n",
            "Requirement already satisfied: tabulate>=0.7.7 in /usr/local/lib/python3.6/dist-packages (from skorch) (0.8.7)\n",
            "Requirement already satisfied: scikit-learn>=0.19.1 in /usr/local/lib/python3.6/dist-packages (from skorch) (0.22.2.post1)\n",
            "Requirement already satisfied: scipy>=1.1.0 in /usr/local/lib/python3.6/dist-packages (from skorch) (1.4.1)\n",
            "Requirement already satisfied: joblib>=0.11 in /usr/local/lib/python3.6/dist-packages (from scikit-learn>=0.19.1->skorch) (0.14.1)\n"
          ],
          "name": "stdout"
        }
      ]
    },
    {
      "cell_type": "code",
      "metadata": {
        "id": "75nfxswsPCLV",
        "colab_type": "code",
        "colab": {
          "base_uri": "https://localhost:8080/",
          "height": 1000
        },
        "outputId": "de74d5ec-f455-4b8a-f68f-eb396b28eca7"
      },
      "source": [
        "classifier = NeuralNetClassifier(module= ffnn, criterion= nn.CrossEntropyLoss, max_epochs = 100)\n",
        "scores = cross_val_score(classifier, cls_features, y.astype(int), cv=7)"
      ],
      "execution_count": 253,
      "outputs": [
        {
          "output_type": "stream",
          "text": [
            "  epoch    train_loss    valid_acc    valid_loss     dur\n",
            "-------  ------------  -----------  ------------  ------\n",
            "      1        \u001b[36m1.7982\u001b[0m       \u001b[32m0.8626\u001b[0m        \u001b[35m0.6126\u001b[0m  0.0327\n",
            "      2        \u001b[36m1.2447\u001b[0m       \u001b[32m0.8779\u001b[0m        \u001b[35m0.5945\u001b[0m  0.0323\n",
            "      3        \u001b[36m1.1864\u001b[0m       0.8626        0.6213  0.0305\n",
            "      4        \u001b[36m1.0882\u001b[0m       0.8092        0.6804  0.0310\n",
            "      5        1.1322       0.8015        0.7587  0.0317\n",
            "      6        \u001b[36m1.0706\u001b[0m       0.7786        0.8487  0.0299\n",
            "      7        1.2305       0.7252        1.0709  0.0278\n",
            "      8        1.1895       0.7786        0.8142  0.0284\n",
            "      9        \u001b[36m1.0068\u001b[0m       0.8015        0.7452  0.0311\n",
            "     10        1.0151       0.7786        0.8190  0.0329\n",
            "     11        \u001b[36m0.9608\u001b[0m       0.8244        0.6727  0.0328\n",
            "     12        0.9610       0.7786        0.7986  0.0333\n",
            "     13        \u001b[36m0.8731\u001b[0m       0.8473        0.5999  0.0325\n",
            "     14        0.8752       0.7786        0.7797  0.0280\n",
            "     15        \u001b[36m0.8231\u001b[0m       0.8550        \u001b[35m0.5742\u001b[0m  0.0259\n",
            "     16        \u001b[36m0.8186\u001b[0m       0.7786        0.7599  0.0250\n",
            "     17        \u001b[36m0.7719\u001b[0m       0.8397        \u001b[35m0.5723\u001b[0m  0.0285\n",
            "     18        \u001b[36m0.7643\u001b[0m       0.7786        0.7425  0.0256\n",
            "     19        \u001b[36m0.7277\u001b[0m       0.8321        0.5849  0.0255\n",
            "     20        \u001b[36m0.7167\u001b[0m       0.7786        0.7273  0.0266\n",
            "     21        \u001b[36m0.6893\u001b[0m       0.7939        0.6017  0.0282\n",
            "     22        \u001b[36m0.6756\u001b[0m       0.7786        0.7141  0.0260\n",
            "     23        \u001b[36m0.6554\u001b[0m       0.8015        0.6157  0.0311\n",
            "     24        \u001b[36m0.6400\u001b[0m       0.7786        0.7021  0.0331\n",
            "     25        \u001b[36m0.6244\u001b[0m       0.7939        0.6265  0.0260\n",
            "     26        \u001b[36m0.6078\u001b[0m       0.7786        0.6917  0.0285\n",
            "     27        \u001b[36m0.5965\u001b[0m       0.7939        0.6328  0.0372\n",
            "     28        \u001b[36m0.5794\u001b[0m       0.7786        0.6821  0.0271\n",
            "     29        \u001b[36m0.5717\u001b[0m       0.7863        0.6352  0.0271\n",
            "     30        \u001b[36m0.5544\u001b[0m       0.7786        0.6730  0.0269\n",
            "     31        \u001b[36m0.5485\u001b[0m       0.7863        0.6360  0.0277\n",
            "     32        \u001b[36m0.5318\u001b[0m       0.7710        0.6648  0.0259\n",
            "     33        \u001b[36m0.5283\u001b[0m       0.7786        0.6345  0.0270\n",
            "     34        \u001b[36m0.5128\u001b[0m       0.7710        0.6567  0.0302\n",
            "     35        \u001b[36m0.5106\u001b[0m       0.7786        0.6317  0.0288\n",
            "     36        \u001b[36m0.4961\u001b[0m       0.7710        0.6488  0.0274\n",
            "     37        \u001b[36m0.4948\u001b[0m       0.7786        0.6278  0.0261\n",
            "     38        \u001b[36m0.4815\u001b[0m       0.7710        0.6411  0.0264\n",
            "     39        \u001b[36m0.4807\u001b[0m       0.7786        0.6231  0.0269\n",
            "     40        \u001b[36m0.4686\u001b[0m       0.7710        0.6334  0.0268\n",
            "     41        \u001b[36m0.4679\u001b[0m       0.7786        0.6185  0.0288\n",
            "     42        \u001b[36m0.4570\u001b[0m       0.7710        0.6261  0.0273\n",
            "     43        \u001b[36m0.4567\u001b[0m       0.7786        0.6134  0.0272\n",
            "     44        \u001b[36m0.4469\u001b[0m       0.7710        0.6192  0.0298\n",
            "     45        \u001b[36m0.4467\u001b[0m       0.7786        0.6082  0.0286\n",
            "     46        \u001b[36m0.4378\u001b[0m       0.7786        0.6124  0.0257\n",
            "     47        \u001b[36m0.4376\u001b[0m       0.7786        0.6031  0.0292\n",
            "     48        \u001b[36m0.4295\u001b[0m       0.7786        0.6062  0.0318\n",
            "     49        \u001b[36m0.4292\u001b[0m       0.7786        0.5982  0.0331\n",
            "     50        \u001b[36m0.4217\u001b[0m       0.7786        0.6002  0.0310\n",
            "     51        \u001b[36m0.4214\u001b[0m       0.7786        0.5937  0.0338\n",
            "     52        \u001b[36m0.4147\u001b[0m       0.7786        0.5949  0.0320\n",
            "     53        \u001b[36m0.4144\u001b[0m       0.7786        0.5895  0.0306\n",
            "     54        \u001b[36m0.4082\u001b[0m       0.7786        0.5900  0.0314\n",
            "     55        \u001b[36m0.4080\u001b[0m       0.7786        0.5855  0.0272\n",
            "     56        \u001b[36m0.4024\u001b[0m       0.7710        0.5856  0.0307\n",
            "     57        \u001b[36m0.4020\u001b[0m       0.7786        0.5818  0.0341\n",
            "     58        \u001b[36m0.3969\u001b[0m       0.7710        0.5813  0.0264\n",
            "     59        \u001b[36m0.3966\u001b[0m       0.7786        0.5781  0.0262\n",
            "     60        \u001b[36m0.3919\u001b[0m       0.7710        0.5773  0.0290\n",
            "     61        \u001b[36m0.3916\u001b[0m       0.7710        0.5746  0.0277\n",
            "     62        \u001b[36m0.3874\u001b[0m       0.7710        0.5737  0.0293\n",
            "     63        \u001b[36m0.3868\u001b[0m       0.7710        \u001b[35m0.5713\u001b[0m  0.0320\n",
            "     64        \u001b[36m0.3829\u001b[0m       0.7710        \u001b[35m0.5701\u001b[0m  0.0324\n",
            "     65        \u001b[36m0.3824\u001b[0m       0.7710        \u001b[35m0.5683\u001b[0m  0.0318\n",
            "     66        \u001b[36m0.3789\u001b[0m       0.7710        \u001b[35m0.5669\u001b[0m  0.0312\n",
            "     67        \u001b[36m0.3784\u001b[0m       0.7710        \u001b[35m0.5655\u001b[0m  0.0314\n",
            "     68        \u001b[36m0.3751\u001b[0m       0.7710        \u001b[35m0.5639\u001b[0m  0.0322\n",
            "     69        \u001b[36m0.3744\u001b[0m       0.7710        \u001b[35m0.5628\u001b[0m  0.0331\n",
            "     70        \u001b[36m0.3715\u001b[0m       0.7710        \u001b[35m0.5613\u001b[0m  0.0279\n",
            "     71        \u001b[36m0.3708\u001b[0m       0.7634        \u001b[35m0.5605\u001b[0m  0.0321\n",
            "     72        \u001b[36m0.3682\u001b[0m       0.7634        \u001b[35m0.5590\u001b[0m  0.0325\n",
            "     73        \u001b[36m0.3674\u001b[0m       0.7634        \u001b[35m0.5584\u001b[0m  0.0316\n",
            "     74        \u001b[36m0.3651\u001b[0m       0.7634        \u001b[35m0.5569\u001b[0m  0.0310\n",
            "     75        \u001b[36m0.3642\u001b[0m       0.7634        \u001b[35m0.5566\u001b[0m  0.0320\n",
            "     76        \u001b[36m0.3621\u001b[0m       0.7557        \u001b[35m0.5551\u001b[0m  0.0304\n",
            "     77        \u001b[36m0.3612\u001b[0m       0.7557        \u001b[35m0.5549\u001b[0m  0.0314\n",
            "     78        \u001b[36m0.3593\u001b[0m       0.7557        \u001b[35m0.5535\u001b[0m  0.0314\n",
            "     79        \u001b[36m0.3584\u001b[0m       0.7557        \u001b[35m0.5534\u001b[0m  0.0345\n",
            "     80        \u001b[36m0.3567\u001b[0m       0.7557        \u001b[35m0.5520\u001b[0m  0.0301\n",
            "     81        \u001b[36m0.3558\u001b[0m       0.7557        \u001b[35m0.5520\u001b[0m  0.0334\n",
            "     82        \u001b[36m0.3542\u001b[0m       0.7557        \u001b[35m0.5506\u001b[0m  0.0236\n",
            "     83        \u001b[36m0.3533\u001b[0m       0.7557        \u001b[35m0.5506\u001b[0m  0.0274\n",
            "     84        \u001b[36m0.3518\u001b[0m       0.7557        \u001b[35m0.5493\u001b[0m  0.0302\n",
            "     85        \u001b[36m0.3509\u001b[0m       0.7557        \u001b[35m0.5492\u001b[0m  0.0264\n",
            "     86        \u001b[36m0.3496\u001b[0m       0.7557        \u001b[35m0.5481\u001b[0m  0.0321\n",
            "     87        \u001b[36m0.3487\u001b[0m       0.7557        \u001b[35m0.5479\u001b[0m  0.0361\n",
            "     88        \u001b[36m0.3474\u001b[0m       0.7557        \u001b[35m0.5468\u001b[0m  0.0302\n",
            "     89        \u001b[36m0.3466\u001b[0m       0.7557        \u001b[35m0.5467\u001b[0m  0.0250\n",
            "     90        \u001b[36m0.3454\u001b[0m       0.7557        \u001b[35m0.5457\u001b[0m  0.0283\n",
            "     91        \u001b[36m0.3446\u001b[0m       0.7557        \u001b[35m0.5454\u001b[0m  0.0301\n",
            "     92        \u001b[36m0.3435\u001b[0m       0.7557        \u001b[35m0.5444\u001b[0m  0.0260\n",
            "     93        \u001b[36m0.3427\u001b[0m       0.7557        \u001b[35m0.5441\u001b[0m  0.0287\n",
            "     94        \u001b[36m0.3417\u001b[0m       0.7557        \u001b[35m0.5432\u001b[0m  0.0257\n",
            "     95        \u001b[36m0.3408\u001b[0m       0.7557        \u001b[35m0.5428\u001b[0m  0.0260\n",
            "     96        \u001b[36m0.3399\u001b[0m       0.7557        \u001b[35m0.5419\u001b[0m  0.0334\n",
            "     97        \u001b[36m0.3390\u001b[0m       0.7557        \u001b[35m0.5415\u001b[0m  0.0318\n",
            "     98        \u001b[36m0.3381\u001b[0m       0.7557        \u001b[35m0.5407\u001b[0m  0.0314\n",
            "     99        \u001b[36m0.3373\u001b[0m       0.7557        \u001b[35m0.5403\u001b[0m  0.0317\n",
            "    100        \u001b[36m0.3364\u001b[0m       0.7557        \u001b[35m0.5396\u001b[0m  0.0269\n",
            "  epoch    train_loss    valid_acc    valid_loss     dur\n",
            "-------  ------------  -----------  ------------  ------\n",
            "      1        \u001b[36m1.7981\u001b[0m       \u001b[32m0.8168\u001b[0m        \u001b[35m1.0275\u001b[0m  0.0232\n",
            "      2        \u001b[36m1.2447\u001b[0m       0.8168        \u001b[35m0.9536\u001b[0m  0.0241\n",
            "      3        \u001b[36m1.1862\u001b[0m       \u001b[32m0.8244\u001b[0m        \u001b[35m0.9222\u001b[0m  0.0250\n",
            "      4        \u001b[36m1.0881\u001b[0m       \u001b[32m0.8321\u001b[0m        \u001b[35m0.8938\u001b[0m  0.0265\n",
            "      5        1.1315       \u001b[32m0.8397\u001b[0m        \u001b[35m0.8863\u001b[0m  0.0290\n",
            "      6        \u001b[36m1.0696\u001b[0m       0.8397        \u001b[35m0.8776\u001b[0m  0.0267\n",
            "      7        1.2302       0.8321        \u001b[35m0.8640\u001b[0m  0.0255\n",
            "      8        1.1906       \u001b[32m0.8473\u001b[0m        \u001b[35m0.8636\u001b[0m  0.0264\n",
            "      9        \u001b[36m1.0172\u001b[0m       0.8397        \u001b[35m0.8327\u001b[0m  0.0243\n",
            "     10        1.0272       0.8397        \u001b[35m0.8293\u001b[0m  0.0245\n",
            "     11        \u001b[36m0.9594\u001b[0m       0.8321        \u001b[35m0.8023\u001b[0m  0.0244\n",
            "     12        0.9601       0.8397        \u001b[35m0.7966\u001b[0m  0.0257\n",
            "     13        \u001b[36m0.8803\u001b[0m       0.8244        \u001b[35m0.7748\u001b[0m  0.0251\n",
            "     14        \u001b[36m0.8785\u001b[0m       0.8397        \u001b[35m0.7673\u001b[0m  0.0290\n",
            "     15        \u001b[36m0.8217\u001b[0m       0.8168        \u001b[35m0.7523\u001b[0m  0.0263\n",
            "     16        \u001b[36m0.8187\u001b[0m       0.8397        \u001b[35m0.7435\u001b[0m  0.0240\n",
            "     17        \u001b[36m0.7732\u001b[0m       0.8168        \u001b[35m0.7338\u001b[0m  0.0250\n",
            "     18        \u001b[36m0.7651\u001b[0m       0.8397        \u001b[35m0.7238\u001b[0m  0.0244\n",
            "     19        \u001b[36m0.7282\u001b[0m       0.8168        \u001b[35m0.7180\u001b[0m  0.0260\n",
            "     20        \u001b[36m0.7170\u001b[0m       0.8168        \u001b[35m0.7068\u001b[0m  0.0251\n",
            "     21        \u001b[36m0.6898\u001b[0m       0.8092        \u001b[35m0.7046\u001b[0m  0.0250\n",
            "     22        \u001b[36m0.6759\u001b[0m       0.8092        \u001b[35m0.6925\u001b[0m  0.0276\n",
            "     23        \u001b[36m0.6559\u001b[0m       0.8092        0.6928  0.0237\n",
            "     24        \u001b[36m0.6402\u001b[0m       0.8092        \u001b[35m0.6801\u001b[0m  0.0235\n",
            "     25        \u001b[36m0.6248\u001b[0m       0.8015        0.6823  0.0253\n",
            "     26        \u001b[36m0.6079\u001b[0m       0.8092        \u001b[35m0.6693\u001b[0m  0.0248\n",
            "     27        \u001b[36m0.5971\u001b[0m       0.8015        0.6727  0.0243\n",
            "     28        \u001b[36m0.5798\u001b[0m       0.8015        \u001b[35m0.6596\u001b[0m  0.0257\n",
            "     29        \u001b[36m0.5717\u001b[0m       0.8092        0.6640  0.0257\n",
            "     30        \u001b[36m0.5539\u001b[0m       0.8015        \u001b[35m0.6510\u001b[0m  0.0252\n",
            "     31        \u001b[36m0.5485\u001b[0m       0.8092        0.6558  0.0242\n",
            "     32        \u001b[36m0.5316\u001b[0m       0.8015        \u001b[35m0.6432\u001b[0m  0.0247\n",
            "     33        \u001b[36m0.5283\u001b[0m       0.8092        0.6481  0.0247\n",
            "     34        \u001b[36m0.5126\u001b[0m       0.8015        \u001b[35m0.6358\u001b[0m  0.0244\n",
            "     35        \u001b[36m0.5106\u001b[0m       0.8092        0.6408  0.0247\n",
            "     36        \u001b[36m0.4959\u001b[0m       0.7939        \u001b[35m0.6291\u001b[0m  0.0256\n",
            "     37        \u001b[36m0.4947\u001b[0m       0.8092        0.6338  0.0320\n",
            "     38        \u001b[36m0.4814\u001b[0m       0.7939        \u001b[35m0.6227\u001b[0m  0.0288\n",
            "     39        \u001b[36m0.4806\u001b[0m       0.8168        0.6272  0.0270\n",
            "     40        \u001b[36m0.4685\u001b[0m       0.7939        \u001b[35m0.6167\u001b[0m  0.0259\n",
            "     41        \u001b[36m0.4679\u001b[0m       0.8092        0.6210  0.0242\n",
            "     42        \u001b[36m0.4570\u001b[0m       0.7939        \u001b[35m0.6111\u001b[0m  0.0246\n",
            "     43        \u001b[36m0.4567\u001b[0m       0.8092        0.6152  0.0250\n",
            "     44        \u001b[36m0.4469\u001b[0m       0.8092        \u001b[35m0.6058\u001b[0m  0.0239\n",
            "     45        \u001b[36m0.4467\u001b[0m       0.8092        0.6097  0.0248\n",
            "     46        \u001b[36m0.4378\u001b[0m       0.8092        \u001b[35m0.6008\u001b[0m  0.0252\n",
            "     47        \u001b[36m0.4376\u001b[0m       0.8092        0.6044  0.0244\n",
            "     48        \u001b[36m0.4294\u001b[0m       0.8092        \u001b[35m0.5961\u001b[0m  0.0255\n",
            "     49        \u001b[36m0.4292\u001b[0m       0.8092        0.5992  0.0305\n",
            "     50        \u001b[36m0.4217\u001b[0m       0.8092        \u001b[35m0.5915\u001b[0m  0.0270\n",
            "     51        \u001b[36m0.4215\u001b[0m       0.8092        0.5942  0.0325\n",
            "     52        \u001b[36m0.4147\u001b[0m       0.8092        \u001b[35m0.5872\u001b[0m  0.0319\n",
            "     53        \u001b[36m0.4145\u001b[0m       0.8092        0.5895  0.0323\n",
            "     54        \u001b[36m0.4083\u001b[0m       0.8092        \u001b[35m0.5829\u001b[0m  0.0312\n",
            "     55        \u001b[36m0.4080\u001b[0m       0.8092        0.5849  0.0265\n",
            "     56        \u001b[36m0.4024\u001b[0m       0.8092        \u001b[35m0.5788\u001b[0m  0.0272\n",
            "     57        \u001b[36m0.4021\u001b[0m       0.8092        0.5805  0.0330\n",
            "     58        \u001b[36m0.3970\u001b[0m       0.8168        \u001b[35m0.5750\u001b[0m  0.0328\n",
            "     59        \u001b[36m0.3966\u001b[0m       0.8092        0.5764  0.0259\n",
            "     60        \u001b[36m0.3920\u001b[0m       0.8168        \u001b[35m0.5713\u001b[0m  0.0299\n",
            "     61        \u001b[36m0.3916\u001b[0m       0.8092        0.5726  0.0261\n",
            "     62        \u001b[36m0.3874\u001b[0m       0.8015        \u001b[35m0.5679\u001b[0m  0.0271\n",
            "     63        \u001b[36m0.3868\u001b[0m       0.8092        0.5689  0.0266\n",
            "     64        \u001b[36m0.3830\u001b[0m       0.8015        \u001b[35m0.5646\u001b[0m  0.0263\n",
            "     65        \u001b[36m0.3825\u001b[0m       0.8015        0.5655  0.0271\n",
            "     66        \u001b[36m0.3790\u001b[0m       0.8015        \u001b[35m0.5615\u001b[0m  0.0277\n",
            "     67        \u001b[36m0.3785\u001b[0m       0.8015        0.5622  0.0270\n",
            "     68        \u001b[36m0.3752\u001b[0m       0.8015        \u001b[35m0.5586\u001b[0m  0.0252\n",
            "     69        \u001b[36m0.3745\u001b[0m       0.8015        0.5591  0.0265\n",
            "     70        \u001b[36m0.3716\u001b[0m       0.8015        \u001b[35m0.5558\u001b[0m  0.0254\n",
            "     71        \u001b[36m0.3709\u001b[0m       0.8015        0.5561  0.0260\n",
            "     72        \u001b[36m0.3683\u001b[0m       0.8092        \u001b[35m0.5532\u001b[0m  0.0278\n",
            "     73        \u001b[36m0.3675\u001b[0m       0.8015        0.5534  0.0264\n",
            "     74        \u001b[36m0.3652\u001b[0m       0.8092        \u001b[35m0.5508\u001b[0m  0.0259\n",
            "     75        \u001b[36m0.3643\u001b[0m       0.8015        0.5509  0.0270\n",
            "     76        \u001b[36m0.3622\u001b[0m       0.8092        \u001b[35m0.5485\u001b[0m  0.0271\n",
            "     77        \u001b[36m0.3614\u001b[0m       0.7939        0.5485  0.0265\n",
            "     78        \u001b[36m0.3594\u001b[0m       0.8092        \u001b[35m0.5464\u001b[0m  0.0358\n",
            "     79        \u001b[36m0.3585\u001b[0m       0.7939        \u001b[35m0.5463\u001b[0m  0.0253\n",
            "     80        \u001b[36m0.3568\u001b[0m       0.8015        \u001b[35m0.5443\u001b[0m  0.0300\n",
            "     81        \u001b[36m0.3559\u001b[0m       0.8015        \u001b[35m0.5442\u001b[0m  0.0282\n",
            "     82        \u001b[36m0.3543\u001b[0m       0.8015        \u001b[35m0.5424\u001b[0m  0.0298\n",
            "     83        \u001b[36m0.3534\u001b[0m       0.8015        \u001b[35m0.5422\u001b[0m  0.0315\n",
            "     84        \u001b[36m0.3519\u001b[0m       0.7939        \u001b[35m0.5405\u001b[0m  0.0321\n",
            "     85        \u001b[36m0.3510\u001b[0m       0.8015        \u001b[35m0.5403\u001b[0m  0.0302\n",
            "     86        \u001b[36m0.3497\u001b[0m       0.7939        \u001b[35m0.5388\u001b[0m  0.0302\n",
            "     87        \u001b[36m0.3488\u001b[0m       0.8015        \u001b[35m0.5385\u001b[0m  0.0264\n",
            "     88        \u001b[36m0.3475\u001b[0m       0.7939        \u001b[35m0.5372\u001b[0m  0.0260\n",
            "     89        \u001b[36m0.3467\u001b[0m       0.8015        \u001b[35m0.5370\u001b[0m  0.0257\n",
            "     90        \u001b[36m0.3455\u001b[0m       0.7939        \u001b[35m0.5359\u001b[0m  0.0257\n",
            "     91        \u001b[36m0.3447\u001b[0m       0.8015        \u001b[35m0.5354\u001b[0m  0.0257\n",
            "     92        \u001b[36m0.3436\u001b[0m       0.7939        \u001b[35m0.5345\u001b[0m  0.0290\n",
            "     93        \u001b[36m0.3428\u001b[0m       0.8015        \u001b[35m0.5341\u001b[0m  0.0261\n",
            "     94        \u001b[36m0.3418\u001b[0m       0.7939        \u001b[35m0.5331\u001b[0m  0.0273\n",
            "     95        \u001b[36m0.3409\u001b[0m       0.8015        \u001b[35m0.5328\u001b[0m  0.0268\n",
            "     96        \u001b[36m0.3400\u001b[0m       0.7939        \u001b[35m0.5320\u001b[0m  0.0288\n",
            "     97        \u001b[36m0.3391\u001b[0m       0.8015        \u001b[35m0.5316\u001b[0m  0.0317\n",
            "     98        \u001b[36m0.3382\u001b[0m       0.8015        \u001b[35m0.5309\u001b[0m  0.0323\n",
            "     99        \u001b[36m0.3374\u001b[0m       0.8015        \u001b[35m0.5305\u001b[0m  0.0301\n",
            "    100        \u001b[36m0.3365\u001b[0m       0.8015        \u001b[35m0.5299\u001b[0m  0.0321\n",
            "  epoch    train_loss    valid_acc    valid_loss     dur\n",
            "-------  ------------  -----------  ------------  ------\n",
            "      1        \u001b[36m1.7733\u001b[0m       \u001b[32m0.8106\u001b[0m        \u001b[35m1.1106\u001b[0m  0.0252\n",
            "      2        \u001b[36m1.4487\u001b[0m       0.8106        \u001b[35m1.0562\u001b[0m  0.0274\n",
            "      3        \u001b[36m1.1724\u001b[0m       \u001b[32m0.8409\u001b[0m        \u001b[35m0.9823\u001b[0m  0.0263\n",
            "      4        1.2489       0.8182        0.9863  0.0276\n",
            "      5        \u001b[36m1.0845\u001b[0m       0.8333        \u001b[35m0.9330\u001b[0m  0.0258\n",
            "      6        1.1631       0.8333        0.9344  0.0332\n",
            "      7        \u001b[36m1.0181\u001b[0m       0.8409        \u001b[35m0.8957\u001b[0m  0.0318\n",
            "      8        1.0743       0.8258        \u001b[35m0.8900\u001b[0m  0.0310\n",
            "      9        \u001b[36m0.9527\u001b[0m       0.8409        \u001b[35m0.8602\u001b[0m  0.0331\n",
            "     10        0.9832       0.8409        \u001b[35m0.8465\u001b[0m  0.0318\n",
            "     11        \u001b[36m0.8849\u001b[0m       \u001b[32m0.8485\u001b[0m        \u001b[35m0.8213\u001b[0m  0.0334\n",
            "     12        0.8943       0.8258        \u001b[35m0.8108\u001b[0m  0.0319\n",
            "     13        \u001b[36m0.8206\u001b[0m       0.8409        \u001b[35m0.7877\u001b[0m  0.0323\n",
            "     14        0.8268       0.8182        \u001b[35m0.7800\u001b[0m  0.0307\n",
            "     15        \u001b[36m0.7639\u001b[0m       0.8258        \u001b[35m0.7584\u001b[0m  0.0326\n",
            "     16        0.7687       0.8182        \u001b[35m0.7537\u001b[0m  0.0332\n",
            "     17        \u001b[36m0.7152\u001b[0m       0.8106        \u001b[35m0.7338\u001b[0m  0.0279\n",
            "     18        0.7198       0.8258        \u001b[35m0.7314\u001b[0m  0.0268\n",
            "     19        \u001b[36m0.6744\u001b[0m       0.8182        \u001b[35m0.7133\u001b[0m  0.0263\n",
            "     20        0.6792       0.8333        \u001b[35m0.7124\u001b[0m  0.0255\n",
            "     21        \u001b[36m0.6401\u001b[0m       0.8182        \u001b[35m0.6960\u001b[0m  0.0257\n",
            "     22        0.6436       0.8182        \u001b[35m0.6960\u001b[0m  0.0329\n",
            "     23        \u001b[36m0.6102\u001b[0m       0.8106        \u001b[35m0.6814\u001b[0m  0.0315\n",
            "     24        0.6128       0.8106        0.6819  0.0328\n",
            "     25        \u001b[36m0.5848\u001b[0m       0.8106        \u001b[35m0.6690\u001b[0m  0.0327\n",
            "     26        0.5861       0.8106        0.6695  0.0319\n",
            "     27        \u001b[36m0.5627\u001b[0m       0.8106        \u001b[35m0.6583\u001b[0m  0.0324\n",
            "     28        0.5629       0.8182        0.6587  0.0329\n",
            "     29        \u001b[36m0.5434\u001b[0m       0.8182        \u001b[35m0.6488\u001b[0m  0.0268\n",
            "     30        \u001b[36m0.5430\u001b[0m       0.8106        0.6492  0.0265\n",
            "     31        \u001b[36m0.5265\u001b[0m       0.8106        \u001b[35m0.6405\u001b[0m  0.0253\n",
            "     32        \u001b[36m0.5251\u001b[0m       0.7955        0.6406  0.0260\n",
            "     33        \u001b[36m0.5114\u001b[0m       0.7955        \u001b[35m0.6332\u001b[0m  0.0258\n",
            "     34        \u001b[36m0.5095\u001b[0m       0.7955        \u001b[35m0.6331\u001b[0m  0.0264\n",
            "     35        \u001b[36m0.4980\u001b[0m       0.7955        \u001b[35m0.6266\u001b[0m  0.0271\n",
            "     36        \u001b[36m0.4956\u001b[0m       0.7879        \u001b[35m0.6262\u001b[0m  0.0288\n",
            "     37        \u001b[36m0.4860\u001b[0m       0.7879        \u001b[35m0.6206\u001b[0m  0.0303\n",
            "     38        \u001b[36m0.4833\u001b[0m       0.7879        \u001b[35m0.6201\u001b[0m  0.0274\n",
            "     39        \u001b[36m0.4751\u001b[0m       0.7879        \u001b[35m0.6152\u001b[0m  0.0251\n",
            "     40        \u001b[36m0.4722\u001b[0m       0.7879        \u001b[35m0.6146\u001b[0m  0.0281\n",
            "     41        \u001b[36m0.4651\u001b[0m       0.7879        \u001b[35m0.6100\u001b[0m  0.0294\n",
            "     42        \u001b[36m0.4626\u001b[0m       0.7879        \u001b[35m0.6097\u001b[0m  0.0266\n",
            "     43        \u001b[36m0.4560\u001b[0m       0.7879        \u001b[35m0.6050\u001b[0m  0.0258\n",
            "     44        \u001b[36m0.4540\u001b[0m       0.7879        0.6053  0.0261\n",
            "     45        \u001b[36m0.4477\u001b[0m       0.7879        \u001b[35m0.6004\u001b[0m  0.0250\n",
            "     46        \u001b[36m0.4463\u001b[0m       0.7803        0.6013  0.0300\n",
            "     47        \u001b[36m0.4401\u001b[0m       0.7879        \u001b[35m0.5963\u001b[0m  0.0291\n",
            "     48        \u001b[36m0.4391\u001b[0m       0.7879        0.5976  0.0267\n",
            "     49        \u001b[36m0.4333\u001b[0m       0.7803        \u001b[35m0.5924\u001b[0m  0.0255\n",
            "     50        \u001b[36m0.4325\u001b[0m       0.7879        0.5941  0.0266\n",
            "     51        \u001b[36m0.4270\u001b[0m       0.7879        \u001b[35m0.5888\u001b[0m  0.0261\n",
            "     52        \u001b[36m0.4264\u001b[0m       0.7879        0.5909  0.0276\n",
            "     53        \u001b[36m0.4212\u001b[0m       0.7879        \u001b[35m0.5855\u001b[0m  0.0276\n",
            "     54        \u001b[36m0.4208\u001b[0m       0.7879        0.5879  0.0286\n",
            "     55        \u001b[36m0.4158\u001b[0m       0.7879        \u001b[35m0.5823\u001b[0m  0.0251\n",
            "     56        \u001b[36m0.4157\u001b[0m       0.7879        0.5851  0.0301\n",
            "     57        \u001b[36m0.4110\u001b[0m       0.7879        \u001b[35m0.5792\u001b[0m  0.0338\n",
            "     58        0.4110       0.7955        0.5825  0.0310\n",
            "     59        \u001b[36m0.4064\u001b[0m       0.7879        \u001b[35m0.5763\u001b[0m  0.0268\n",
            "     60        0.4066       0.7955        0.5800  0.0281\n",
            "     61        \u001b[36m0.4022\u001b[0m       0.7955        \u001b[35m0.5735\u001b[0m  0.0257\n",
            "     62        0.4026       0.7955        0.5778  0.0253\n",
            "     63        \u001b[36m0.3984\u001b[0m       0.7955        \u001b[35m0.5710\u001b[0m  0.0263\n",
            "     64        0.3990       0.7955        0.5760  0.0260\n",
            "     65        \u001b[36m0.3950\u001b[0m       0.7955        \u001b[35m0.5689\u001b[0m  0.0255\n",
            "     66        0.3958       0.7955        0.5746  0.0268\n",
            "     67        \u001b[36m0.3918\u001b[0m       0.7955        \u001b[35m0.5671\u001b[0m  0.0342\n",
            "     68        0.3928       0.7955        0.5735  0.0342\n",
            "     69        \u001b[36m0.3891\u001b[0m       0.7955        \u001b[35m0.5653\u001b[0m  0.0282\n",
            "     70        0.3906       0.7955        0.5729  0.0289\n",
            "     71        \u001b[36m0.3866\u001b[0m       0.7879        \u001b[35m0.5640\u001b[0m  0.0267\n",
            "     72        0.3879       0.7879        0.5725  0.0262\n",
            "     73        \u001b[36m0.3841\u001b[0m       0.7879        \u001b[35m0.5627\u001b[0m  0.0289\n",
            "     74        0.3859       0.7879        0.5722  0.0309\n",
            "     75        \u001b[36m0.3818\u001b[0m       0.7879        \u001b[35m0.5615\u001b[0m  0.0321\n",
            "     76        0.3833       0.7879        0.5716  0.0262\n",
            "     77        \u001b[36m0.3792\u001b[0m       0.7879        \u001b[35m0.5601\u001b[0m  0.0287\n",
            "     78        0.3804       0.7879        0.5709  0.0286\n",
            "     79        \u001b[36m0.3763\u001b[0m       0.7879        \u001b[35m0.5585\u001b[0m  0.0271\n",
            "     80        0.3782       0.7879        0.5700  0.0337\n",
            "     81        \u001b[36m0.3737\u001b[0m       0.7879        \u001b[35m0.5564\u001b[0m  0.0316\n",
            "     82        0.3751       0.7879        0.5682  0.0292\n",
            "     83        \u001b[36m0.3708\u001b[0m       0.7879        \u001b[35m0.5533\u001b[0m  0.0360\n",
            "     84        0.3719       0.7879        0.5649  0.0334\n",
            "     85        \u001b[36m0.3680\u001b[0m       0.7879        \u001b[35m0.5493\u001b[0m  0.0297\n",
            "     86        0.3698       0.7879        0.5612  0.0275\n",
            "     87        \u001b[36m0.3656\u001b[0m       0.7879        \u001b[35m0.5447\u001b[0m  0.0280\n",
            "     88        0.3666       0.7879        0.5565  0.0275\n",
            "     89        \u001b[36m0.3628\u001b[0m       0.7955        \u001b[35m0.5408\u001b[0m  0.0276\n",
            "     90        0.3643       0.7879        0.5537  0.0271\n",
            "     91        \u001b[36m0.3616\u001b[0m       0.7955        \u001b[35m0.5380\u001b[0m  0.0264\n",
            "     92        0.3637       0.7955        0.5518  0.0261\n",
            "     93        \u001b[36m0.3602\u001b[0m       0.7955        \u001b[35m0.5356\u001b[0m  0.0280\n",
            "     94        0.3617       0.7955        0.5497  0.0296\n",
            "     95        \u001b[36m0.3585\u001b[0m       0.7955        \u001b[35m0.5336\u001b[0m  0.0341\n",
            "     96        0.3600       0.7955        0.5471  0.0269\n",
            "     97        \u001b[36m0.3567\u001b[0m       0.7955        \u001b[35m0.5314\u001b[0m  0.0268\n",
            "     98        0.3581       0.7955        0.5450  0.0270\n",
            "     99        \u001b[36m0.3551\u001b[0m       0.8030        \u001b[35m0.5301\u001b[0m  0.0269\n",
            "    100        0.3566       0.7955        0.5427  0.0269\n",
            "  epoch    train_loss    valid_acc    valid_loss     dur\n",
            "-------  ------------  -----------  ------------  ------\n",
            "      1        \u001b[36m1.8865\u001b[0m       \u001b[32m0.8106\u001b[0m        \u001b[35m1.0874\u001b[0m  0.0245\n",
            "      2        \u001b[36m1.5482\u001b[0m       0.8106        \u001b[35m0.9971\u001b[0m  0.0269\n",
            "      3        \u001b[36m1.2612\u001b[0m       \u001b[32m0.8333\u001b[0m        \u001b[35m0.9856\u001b[0m  0.0260\n",
            "      4        \u001b[36m1.0856\u001b[0m       0.8333        \u001b[35m0.9436\u001b[0m  0.0299\n",
            "      5        \u001b[36m1.0329\u001b[0m       0.8258        \u001b[35m0.9389\u001b[0m  0.0305\n",
            "      6        \u001b[36m0.9829\u001b[0m       0.8258        \u001b[35m0.9056\u001b[0m  0.0324\n",
            "      7        \u001b[36m0.9548\u001b[0m       0.8258        \u001b[35m0.9012\u001b[0m  0.0270\n",
            "      8        \u001b[36m0.9054\u001b[0m       0.8258        \u001b[35m0.8716\u001b[0m  0.0313\n",
            "      9        \u001b[36m0.8890\u001b[0m       0.8258        \u001b[35m0.8665\u001b[0m  0.0309\n",
            "     10        \u001b[36m0.8426\u001b[0m       0.8258        \u001b[35m0.8405\u001b[0m  0.0315\n",
            "     11        \u001b[36m0.8319\u001b[0m       0.8258        \u001b[35m0.8348\u001b[0m  0.0311\n",
            "     12        \u001b[36m0.7901\u001b[0m       0.8258        \u001b[35m0.8123\u001b[0m  0.0308\n",
            "     13        \u001b[36m0.7821\u001b[0m       0.8258        \u001b[35m0.8064\u001b[0m  0.0315\n",
            "     14        \u001b[36m0.7456\u001b[0m       0.8258        \u001b[35m0.7868\u001b[0m  0.0307\n",
            "     15        \u001b[36m0.7386\u001b[0m       0.8258        \u001b[35m0.7809\u001b[0m  0.0297\n",
            "     16        \u001b[36m0.7070\u001b[0m       0.8258        \u001b[35m0.7635\u001b[0m  0.0318\n",
            "     17        \u001b[36m0.7006\u001b[0m       0.8258        \u001b[35m0.7577\u001b[0m  0.0316\n",
            "     18        \u001b[36m0.6734\u001b[0m       0.8258        \u001b[35m0.7422\u001b[0m  0.0314\n",
            "     19        \u001b[36m0.6669\u001b[0m       0.8182        \u001b[35m0.7368\u001b[0m  0.0328\n",
            "     20        \u001b[36m0.6436\u001b[0m       0.8182        \u001b[35m0.7229\u001b[0m  0.0324\n",
            "     21        \u001b[36m0.6375\u001b[0m       0.8182        \u001b[35m0.7179\u001b[0m  0.0345\n",
            "     22        \u001b[36m0.6174\u001b[0m       0.8182        \u001b[35m0.7054\u001b[0m  0.0315\n",
            "     23        \u001b[36m0.6117\u001b[0m       0.8182        \u001b[35m0.7007\u001b[0m  0.0349\n",
            "     24        \u001b[36m0.5944\u001b[0m       0.8182        \u001b[35m0.6893\u001b[0m  0.0243\n",
            "     25        \u001b[36m0.5892\u001b[0m       0.8182        \u001b[35m0.6851\u001b[0m  0.0234\n",
            "     26        \u001b[36m0.5741\u001b[0m       0.8182        \u001b[35m0.6746\u001b[0m  0.0242\n",
            "     27        \u001b[36m0.5694\u001b[0m       0.8106        \u001b[35m0.6709\u001b[0m  0.0232\n",
            "     28        \u001b[36m0.5560\u001b[0m       0.8182        \u001b[35m0.6611\u001b[0m  0.0257\n",
            "     29        \u001b[36m0.5525\u001b[0m       0.8106        \u001b[35m0.6580\u001b[0m  0.0301\n",
            "     30        \u001b[36m0.5402\u001b[0m       0.8106        \u001b[35m0.6486\u001b[0m  0.0286\n",
            "     31        \u001b[36m0.5374\u001b[0m       0.8106        \u001b[35m0.6462\u001b[0m  0.0276\n",
            "     32        \u001b[36m0.5259\u001b[0m       0.8106        \u001b[35m0.6371\u001b[0m  0.0251\n",
            "     33        \u001b[36m0.5238\u001b[0m       0.8106        \u001b[35m0.6351\u001b[0m  0.0339\n",
            "     34        \u001b[36m0.5131\u001b[0m       0.8106        \u001b[35m0.6265\u001b[0m  0.0250\n",
            "     35        \u001b[36m0.5114\u001b[0m       0.8106        \u001b[35m0.6250\u001b[0m  0.0271\n",
            "     36        \u001b[36m0.5015\u001b[0m       0.8106        \u001b[35m0.6167\u001b[0m  0.0252\n",
            "     37        \u001b[36m0.5001\u001b[0m       0.8106        \u001b[35m0.6155\u001b[0m  0.0250\n",
            "     38        \u001b[36m0.4910\u001b[0m       0.8030        \u001b[35m0.6076\u001b[0m  0.0243\n",
            "     39        \u001b[36m0.4899\u001b[0m       0.8106        \u001b[35m0.6068\u001b[0m  0.0269\n",
            "     40        \u001b[36m0.4813\u001b[0m       0.8030        \u001b[35m0.5992\u001b[0m  0.0268\n",
            "     41        \u001b[36m0.4806\u001b[0m       0.8106        \u001b[35m0.5988\u001b[0m  0.0262\n",
            "     42        \u001b[36m0.4725\u001b[0m       0.8030        \u001b[35m0.5914\u001b[0m  0.0256\n",
            "     43        \u001b[36m0.4722\u001b[0m       0.8030        \u001b[35m0.5914\u001b[0m  0.0251\n",
            "     44        \u001b[36m0.4645\u001b[0m       0.8030        \u001b[35m0.5842\u001b[0m  0.0257\n",
            "     45        \u001b[36m0.4644\u001b[0m       0.8030        0.5845  0.0288\n",
            "     46        \u001b[36m0.4571\u001b[0m       0.8030        \u001b[35m0.5775\u001b[0m  0.0257\n",
            "     47        0.4573       0.8030        0.5782  0.0257\n",
            "     48        \u001b[36m0.4503\u001b[0m       0.8106        \u001b[35m0.5713\u001b[0m  0.0248\n",
            "     49        0.4507       0.8030        0.5723  0.0249\n",
            "     50        \u001b[36m0.4441\u001b[0m       0.8182        \u001b[35m0.5657\u001b[0m  0.0241\n",
            "     51        0.4445       0.8106        0.5668  0.0251\n",
            "     52        \u001b[36m0.4383\u001b[0m       0.8182        \u001b[35m0.5605\u001b[0m  0.0246\n",
            "     53        0.4388       0.8106        0.5617  0.0257\n",
            "     54        \u001b[36m0.4330\u001b[0m       0.8182        \u001b[35m0.5556\u001b[0m  0.0262\n",
            "     55        0.4337       0.8106        0.5570  0.0265\n",
            "     56        \u001b[36m0.4281\u001b[0m       0.8182        \u001b[35m0.5511\u001b[0m  0.0247\n",
            "     57        0.4289       0.8106        0.5527  0.0285\n",
            "     58        \u001b[36m0.4237\u001b[0m       0.8182        \u001b[35m0.5469\u001b[0m  0.0260\n",
            "     59        0.4244       0.8106        0.5487  0.0257\n",
            "     60        \u001b[36m0.4195\u001b[0m       0.8182        \u001b[35m0.5431\u001b[0m  0.0299\n",
            "     61        0.4203       0.8106        0.5450  0.0327\n",
            "     62        \u001b[36m0.4156\u001b[0m       0.8258        \u001b[35m0.5396\u001b[0m  0.0258\n",
            "     63        0.4164       0.8106        0.5416  0.0261\n",
            "     64        \u001b[36m0.4121\u001b[0m       0.8258        \u001b[35m0.5363\u001b[0m  0.0273\n",
            "     65        0.4130       0.8030        0.5384  0.0311\n",
            "     66        \u001b[36m0.4088\u001b[0m       0.8182        \u001b[35m0.5333\u001b[0m  0.0319\n",
            "     67        0.4097       0.8030        0.5355  0.0299\n",
            "     68        \u001b[36m0.4058\u001b[0m       0.8182        \u001b[35m0.5305\u001b[0m  0.0259\n",
            "     69        0.4069       0.8030        0.5328  0.0268\n",
            "     70        \u001b[36m0.4030\u001b[0m       0.8182        \u001b[35m0.5279\u001b[0m  0.0258\n",
            "     71        0.4041       0.8030        0.5304  0.0248\n",
            "     72        \u001b[36m0.4004\u001b[0m       0.8182        \u001b[35m0.5255\u001b[0m  0.0257\n",
            "     73        0.4017       0.8030        0.5281  0.0284\n",
            "     74        \u001b[36m0.3981\u001b[0m       0.8182        \u001b[35m0.5232\u001b[0m  0.0316\n",
            "     75        0.3993       0.8106        0.5260  0.0333\n",
            "     76        \u001b[36m0.3958\u001b[0m       0.8182        \u001b[35m0.5212\u001b[0m  0.0326\n",
            "     77        0.3972       0.8106        0.5241  0.0280\n",
            "     78        \u001b[36m0.3938\u001b[0m       0.8106        \u001b[35m0.5192\u001b[0m  0.0306\n",
            "     79        0.3951       0.8106        0.5222  0.0268\n",
            "     80        \u001b[36m0.3918\u001b[0m       0.8182        \u001b[35m0.5174\u001b[0m  0.0263\n",
            "     81        0.3932       0.8106        0.5206  0.0331\n",
            "     82        \u001b[36m0.3900\u001b[0m       0.8182        \u001b[35m0.5157\u001b[0m  0.0332\n",
            "     83        0.3917       0.8106        0.5191  0.0325\n",
            "     84        \u001b[36m0.3884\u001b[0m       0.8106        \u001b[35m0.5142\u001b[0m  0.0332\n",
            "     85        0.3900       0.8106        0.5177  0.0321\n",
            "     86        \u001b[36m0.3868\u001b[0m       0.8106        \u001b[35m0.5128\u001b[0m  0.0274\n",
            "     87        0.3884       0.8106        0.5163  0.0256\n",
            "     88        \u001b[36m0.3853\u001b[0m       0.8106        \u001b[35m0.5114\u001b[0m  0.0248\n",
            "     89        0.3873       0.8106        0.5152  0.0258\n",
            "     90        \u001b[36m0.3840\u001b[0m       0.8106        \u001b[35m0.5103\u001b[0m  0.0306\n",
            "     91        0.3859       0.8030        0.5141  0.0282\n",
            "     92        \u001b[36m0.3827\u001b[0m       0.8106        \u001b[35m0.5092\u001b[0m  0.0283\n",
            "     93        0.3845       0.8030        0.5130  0.0318\n",
            "     94        \u001b[36m0.3813\u001b[0m       0.8106        \u001b[35m0.5082\u001b[0m  0.0318\n",
            "     95        0.3831       0.8030        0.5120  0.0279\n",
            "     96        \u001b[36m0.3800\u001b[0m       0.8106        \u001b[35m0.5071\u001b[0m  0.0258\n",
            "     97        0.3822       0.8030        0.5112  0.0262\n",
            "     98        \u001b[36m0.3789\u001b[0m       0.8106        \u001b[35m0.5063\u001b[0m  0.0282\n",
            "     99        0.3808       0.7955        0.5103  0.0264\n",
            "    100        \u001b[36m0.3777\u001b[0m       0.8106        \u001b[35m0.5055\u001b[0m  0.0272\n",
            "  epoch    train_loss    valid_acc    valid_loss     dur\n",
            "-------  ------------  -----------  ------------  ------\n",
            "      1        \u001b[36m1.5127\u001b[0m       \u001b[32m0.8106\u001b[0m        \u001b[35m1.1037\u001b[0m  0.0255\n",
            "      2        \u001b[36m1.1991\u001b[0m       0.8030        \u001b[35m1.0730\u001b[0m  0.0274\n",
            "      3        \u001b[36m0.9710\u001b[0m       \u001b[32m0.8258\u001b[0m        \u001b[35m1.0319\u001b[0m  0.0260\n",
            "      4        \u001b[36m0.9613\u001b[0m       0.8258        \u001b[35m1.0150\u001b[0m  0.0262\n",
            "      5        \u001b[36m0.8970\u001b[0m       0.8106        \u001b[35m0.9918\u001b[0m  0.0273\n",
            "      6        \u001b[36m0.8803\u001b[0m       0.8106        \u001b[35m0.9757\u001b[0m  0.0318\n",
            "      7        \u001b[36m0.8433\u001b[0m       0.8106        \u001b[35m0.9579\u001b[0m  0.0290\n",
            "      8        \u001b[36m0.8250\u001b[0m       0.8106        \u001b[35m0.9431\u001b[0m  0.0306\n",
            "      9        \u001b[36m0.7988\u001b[0m       0.8182        \u001b[35m0.9282\u001b[0m  0.0301\n",
            "     10        \u001b[36m0.7810\u001b[0m       0.8182        \u001b[35m0.9147\u001b[0m  0.0302\n",
            "     11        \u001b[36m0.7603\u001b[0m       0.8258        \u001b[35m0.9013\u001b[0m  0.0310\n",
            "     12        \u001b[36m0.7437\u001b[0m       0.8258        \u001b[35m0.8888\u001b[0m  0.0319\n",
            "     13        \u001b[36m0.7263\u001b[0m       0.8258        \u001b[35m0.8765\u001b[0m  0.0287\n",
            "     14        \u001b[36m0.7109\u001b[0m       0.8258        \u001b[35m0.8647\u001b[0m  0.0306\n",
            "     15        \u001b[36m0.6956\u001b[0m       0.8258        \u001b[35m0.8531\u001b[0m  0.0308\n",
            "     16        \u001b[36m0.6815\u001b[0m       0.8258        \u001b[35m0.8419\u001b[0m  0.0321\n",
            "     17        \u001b[36m0.6679\u001b[0m       0.8258        \u001b[35m0.8309\u001b[0m  0.0318\n",
            "     18        \u001b[36m0.6550\u001b[0m       0.8258        \u001b[35m0.8202\u001b[0m  0.0343\n",
            "     19        \u001b[36m0.6425\u001b[0m       0.8258        \u001b[35m0.8098\u001b[0m  0.0317\n",
            "     20        \u001b[36m0.6307\u001b[0m       0.8258        \u001b[35m0.7997\u001b[0m  0.0302\n",
            "     21        \u001b[36m0.6194\u001b[0m       0.8258        \u001b[35m0.7899\u001b[0m  0.0320\n",
            "     22        \u001b[36m0.6085\u001b[0m       0.8258        \u001b[35m0.7805\u001b[0m  0.0262\n",
            "     23        \u001b[36m0.5982\u001b[0m       0.8258        \u001b[35m0.7714\u001b[0m  0.0263\n",
            "     24        \u001b[36m0.5880\u001b[0m       0.8258        \u001b[35m0.7627\u001b[0m  0.0261\n",
            "     25        \u001b[36m0.5784\u001b[0m       0.8258        \u001b[35m0.7543\u001b[0m  0.0268\n",
            "     26        \u001b[36m0.5691\u001b[0m       0.8258        \u001b[35m0.7463\u001b[0m  0.0262\n",
            "     27        \u001b[36m0.5602\u001b[0m       0.8182        \u001b[35m0.7386\u001b[0m  0.0264\n",
            "     28        \u001b[36m0.5516\u001b[0m       0.8182        \u001b[35m0.7312\u001b[0m  0.0315\n",
            "     29        \u001b[36m0.5433\u001b[0m       0.8258        \u001b[35m0.7240\u001b[0m  0.0248\n",
            "     30        \u001b[36m0.5353\u001b[0m       0.8258        \u001b[35m0.7171\u001b[0m  0.0291\n",
            "     31        \u001b[36m0.5275\u001b[0m       0.8258        \u001b[35m0.7104\u001b[0m  0.0321\n",
            "     32        \u001b[36m0.5199\u001b[0m       0.8258        \u001b[35m0.7040\u001b[0m  0.0311\n",
            "     33        \u001b[36m0.5125\u001b[0m       0.8258        \u001b[35m0.6977\u001b[0m  0.0326\n",
            "     34        \u001b[36m0.5053\u001b[0m       0.8258        \u001b[35m0.6916\u001b[0m  0.0325\n",
            "     35        \u001b[36m0.4982\u001b[0m       0.8258        \u001b[35m0.6857\u001b[0m  0.0332\n",
            "     36        \u001b[36m0.4911\u001b[0m       0.8258        \u001b[35m0.6799\u001b[0m  0.0329\n",
            "     37        \u001b[36m0.4841\u001b[0m       0.8258        \u001b[35m0.6743\u001b[0m  0.0311\n",
            "     38        \u001b[36m0.4772\u001b[0m       0.8258        \u001b[35m0.6689\u001b[0m  0.0312\n",
            "     39        \u001b[36m0.4704\u001b[0m       0.8258        \u001b[35m0.6636\u001b[0m  0.0304\n",
            "     40        \u001b[36m0.4638\u001b[0m       0.8258        \u001b[35m0.6586\u001b[0m  0.0270\n",
            "     41        \u001b[36m0.4575\u001b[0m       0.8258        \u001b[35m0.6537\u001b[0m  0.0292\n",
            "     42        \u001b[36m0.4515\u001b[0m       0.8258        \u001b[35m0.6491\u001b[0m  0.0273\n",
            "     43        \u001b[36m0.4459\u001b[0m       0.8258        \u001b[35m0.6448\u001b[0m  0.0268\n",
            "     44        \u001b[36m0.4406\u001b[0m       0.8182        \u001b[35m0.6407\u001b[0m  0.0312\n",
            "     45        \u001b[36m0.4357\u001b[0m       0.8182        \u001b[35m0.6368\u001b[0m  0.0275\n",
            "     46        \u001b[36m0.4311\u001b[0m       0.8106        \u001b[35m0.6332\u001b[0m  0.0272\n",
            "     47        \u001b[36m0.4267\u001b[0m       0.8106        \u001b[35m0.6298\u001b[0m  0.0306\n",
            "     48        \u001b[36m0.4226\u001b[0m       0.8030        \u001b[35m0.6266\u001b[0m  0.0260\n",
            "     49        \u001b[36m0.4186\u001b[0m       0.8106        \u001b[35m0.6236\u001b[0m  0.0264\n",
            "     50        \u001b[36m0.4149\u001b[0m       0.8106        \u001b[35m0.6207\u001b[0m  0.0261\n",
            "     51        \u001b[36m0.4112\u001b[0m       0.8106        \u001b[35m0.6180\u001b[0m  0.0276\n",
            "     52        \u001b[36m0.4078\u001b[0m       0.8030        \u001b[35m0.6154\u001b[0m  0.0258\n",
            "     53        \u001b[36m0.4045\u001b[0m       0.8030        \u001b[35m0.6130\u001b[0m  0.0298\n",
            "     54        \u001b[36m0.4013\u001b[0m       0.8030        \u001b[35m0.6107\u001b[0m  0.0321\n",
            "     55        \u001b[36m0.3983\u001b[0m       0.7955        \u001b[35m0.6086\u001b[0m  0.0313\n",
            "     56        \u001b[36m0.3954\u001b[0m       0.7879        \u001b[35m0.6065\u001b[0m  0.0311\n",
            "     57        \u001b[36m0.3925\u001b[0m       0.7879        \u001b[35m0.6045\u001b[0m  0.0302\n",
            "     58        \u001b[36m0.3898\u001b[0m       0.7803        \u001b[35m0.6026\u001b[0m  0.0326\n",
            "     59        \u001b[36m0.3872\u001b[0m       0.7803        \u001b[35m0.6008\u001b[0m  0.0264\n",
            "     60        \u001b[36m0.3847\u001b[0m       0.7803        \u001b[35m0.5991\u001b[0m  0.0260\n",
            "     61        \u001b[36m0.3823\u001b[0m       0.7803        \u001b[35m0.5974\u001b[0m  0.0270\n",
            "     62        \u001b[36m0.3799\u001b[0m       0.7879        \u001b[35m0.5959\u001b[0m  0.0269\n",
            "     63        \u001b[36m0.3777\u001b[0m       0.7879        \u001b[35m0.5944\u001b[0m  0.0272\n",
            "     64        \u001b[36m0.3755\u001b[0m       0.7879        \u001b[35m0.5929\u001b[0m  0.0301\n",
            "     65        \u001b[36m0.3734\u001b[0m       0.7879        \u001b[35m0.5915\u001b[0m  0.0292\n",
            "     66        \u001b[36m0.3714\u001b[0m       0.7879        \u001b[35m0.5902\u001b[0m  0.0288\n",
            "     67        \u001b[36m0.3695\u001b[0m       0.7955        \u001b[35m0.5889\u001b[0m  0.0250\n",
            "     68        \u001b[36m0.3676\u001b[0m       0.7955        \u001b[35m0.5877\u001b[0m  0.0300\n",
            "     69        \u001b[36m0.3658\u001b[0m       0.7955        \u001b[35m0.5865\u001b[0m  0.0276\n",
            "     70        \u001b[36m0.3640\u001b[0m       0.8030        \u001b[35m0.5854\u001b[0m  0.0290\n",
            "     71        \u001b[36m0.3623\u001b[0m       0.8030        \u001b[35m0.5843\u001b[0m  0.0286\n",
            "     72        \u001b[36m0.3607\u001b[0m       0.8030        \u001b[35m0.5833\u001b[0m  0.0279\n",
            "     73        \u001b[36m0.3591\u001b[0m       0.8030        \u001b[35m0.5823\u001b[0m  0.0275\n",
            "     74        \u001b[36m0.3576\u001b[0m       0.8030        \u001b[35m0.5813\u001b[0m  0.0270\n",
            "     75        \u001b[36m0.3561\u001b[0m       0.7955        \u001b[35m0.5803\u001b[0m  0.0271\n",
            "     76        \u001b[36m0.3547\u001b[0m       0.7955        \u001b[35m0.5794\u001b[0m  0.0261\n",
            "     77        \u001b[36m0.3533\u001b[0m       0.7955        \u001b[35m0.5786\u001b[0m  0.0294\n",
            "     78        \u001b[36m0.3519\u001b[0m       0.7879        \u001b[35m0.5777\u001b[0m  0.0268\n",
            "     79        \u001b[36m0.3506\u001b[0m       0.7879        \u001b[35m0.5769\u001b[0m  0.0287\n",
            "     80        \u001b[36m0.3493\u001b[0m       0.7879        \u001b[35m0.5761\u001b[0m  0.0264\n",
            "     81        \u001b[36m0.3480\u001b[0m       0.7803        \u001b[35m0.5754\u001b[0m  0.0295\n",
            "     82        \u001b[36m0.3468\u001b[0m       0.7803        \u001b[35m0.5747\u001b[0m  0.0320\n",
            "     83        \u001b[36m0.3456\u001b[0m       0.7803        \u001b[35m0.5740\u001b[0m  0.0308\n",
            "     84        \u001b[36m0.3445\u001b[0m       0.7803        \u001b[35m0.5733\u001b[0m  0.0315\n",
            "     85        \u001b[36m0.3434\u001b[0m       0.7803        \u001b[35m0.5727\u001b[0m  0.0320\n",
            "     86        \u001b[36m0.3422\u001b[0m       0.7803        \u001b[35m0.5720\u001b[0m  0.0302\n",
            "     87        \u001b[36m0.3412\u001b[0m       0.7803        \u001b[35m0.5712\u001b[0m  0.0323\n",
            "     88        \u001b[36m0.3401\u001b[0m       0.7803        \u001b[35m0.5704\u001b[0m  0.0307\n",
            "     89        \u001b[36m0.3391\u001b[0m       0.7803        \u001b[35m0.5696\u001b[0m  0.0289\n",
            "     90        \u001b[36m0.3381\u001b[0m       0.7803        \u001b[35m0.5688\u001b[0m  0.0267\n",
            "     91        \u001b[36m0.3371\u001b[0m       0.7803        \u001b[35m0.5680\u001b[0m  0.0269\n",
            "     92        \u001b[36m0.3362\u001b[0m       0.7803        \u001b[35m0.5672\u001b[0m  0.0253\n",
            "     93        \u001b[36m0.3352\u001b[0m       0.7803        \u001b[35m0.5664\u001b[0m  0.0261\n",
            "     94        \u001b[36m0.3343\u001b[0m       0.7803        \u001b[35m0.5656\u001b[0m  0.0306\n",
            "     95        \u001b[36m0.3334\u001b[0m       0.7803        \u001b[35m0.5648\u001b[0m  0.0330\n",
            "     96        \u001b[36m0.3326\u001b[0m       0.7803        \u001b[35m0.5641\u001b[0m  0.0239\n",
            "     97        \u001b[36m0.3317\u001b[0m       0.7803        \u001b[35m0.5634\u001b[0m  0.0261\n",
            "     98        \u001b[36m0.3309\u001b[0m       0.7803        \u001b[35m0.5627\u001b[0m  0.0268\n",
            "     99        \u001b[36m0.3300\u001b[0m       0.7803        \u001b[35m0.5620\u001b[0m  0.0239\n",
            "    100        \u001b[36m0.3292\u001b[0m       0.7803        \u001b[35m0.5613\u001b[0m  0.0261\n",
            "  epoch    train_loss    valid_acc    valid_loss     dur\n",
            "-------  ------------  -----------  ------------  ------\n",
            "      1        \u001b[36m1.8067\u001b[0m       \u001b[32m0.8030\u001b[0m        \u001b[35m1.0585\u001b[0m  0.0328\n",
            "      2        \u001b[36m1.5499\u001b[0m       0.7879        \u001b[35m0.9824\u001b[0m  0.0283\n",
            "      3        \u001b[36m1.3493\u001b[0m       \u001b[32m0.8182\u001b[0m        \u001b[35m0.9413\u001b[0m  0.0349\n",
            "      4        \u001b[36m1.2086\u001b[0m       0.7955        \u001b[35m0.9147\u001b[0m  0.0312\n",
            "      5        \u001b[36m1.0990\u001b[0m       0.7879        \u001b[35m0.8943\u001b[0m  0.0305\n",
            "      6        \u001b[36m1.0093\u001b[0m       0.7879        \u001b[35m0.8770\u001b[0m  0.0312\n",
            "      7        \u001b[36m0.9343\u001b[0m       0.7879        \u001b[35m0.8620\u001b[0m  0.0315\n",
            "      8        \u001b[36m0.8719\u001b[0m       0.7879        \u001b[35m0.8490\u001b[0m  0.0324\n",
            "      9        \u001b[36m0.8204\u001b[0m       0.7879        \u001b[35m0.8374\u001b[0m  0.0320\n",
            "     10        \u001b[36m0.7781\u001b[0m       0.7879        \u001b[35m0.8271\u001b[0m  0.0319\n",
            "     11        \u001b[36m0.7432\u001b[0m       0.7803        \u001b[35m0.8180\u001b[0m  0.0307\n",
            "     12        \u001b[36m0.7139\u001b[0m       0.7803        \u001b[35m0.8102\u001b[0m  0.0306\n",
            "     13        \u001b[36m0.6886\u001b[0m       0.7803        \u001b[35m0.8029\u001b[0m  0.0314\n",
            "     14        \u001b[36m0.6664\u001b[0m       0.7803        \u001b[35m0.7976\u001b[0m  0.0292\n",
            "     15        \u001b[36m0.6463\u001b[0m       0.7803        \u001b[35m0.7935\u001b[0m  0.0300\n",
            "     16        \u001b[36m0.6280\u001b[0m       0.7879        \u001b[35m0.7902\u001b[0m  0.0318\n",
            "     17        \u001b[36m0.6109\u001b[0m       0.7879        \u001b[35m0.7887\u001b[0m  0.0305\n",
            "     18        \u001b[36m0.5954\u001b[0m       0.7803        0.7898  0.0327\n",
            "     19        \u001b[36m0.5806\u001b[0m       0.7727        \u001b[35m0.7881\u001b[0m  0.0318\n",
            "     20        \u001b[36m0.5666\u001b[0m       0.7652        \u001b[35m0.7876\u001b[0m  0.0347\n",
            "     21        \u001b[36m0.5540\u001b[0m       0.7576        0.7904  0.0326\n",
            "     22        \u001b[36m0.5417\u001b[0m       0.7576        0.7898  0.0288\n",
            "     23        \u001b[36m0.5305\u001b[0m       0.7576        0.7927  0.0272\n",
            "     24        \u001b[36m0.5197\u001b[0m       0.7576        0.7924  0.0291\n",
            "     25        \u001b[36m0.5098\u001b[0m       0.7500        0.7952  0.0286\n",
            "     26        \u001b[36m0.5004\u001b[0m       0.7348        0.7953  0.0313\n",
            "     27        \u001b[36m0.4918\u001b[0m       0.7348        0.7993  0.0275\n",
            "     28        \u001b[36m0.4835\u001b[0m       0.7348        0.7990  0.0274\n",
            "     29        \u001b[36m0.4757\u001b[0m       0.7197        0.7994  0.0279\n",
            "     30        \u001b[36m0.4686\u001b[0m       0.7197        0.8030  0.0313\n",
            "     31        \u001b[36m0.4618\u001b[0m       0.7197        0.8021  0.0323\n",
            "     32        \u001b[36m0.4554\u001b[0m       0.7121        0.8043  0.0340\n",
            "     33        \u001b[36m0.4493\u001b[0m       0.7121        0.8052  0.0323\n",
            "     34        \u001b[36m0.4436\u001b[0m       0.7045        0.8045  0.0322\n",
            "     35        \u001b[36m0.4382\u001b[0m       0.7045        0.8056  0.0314\n",
            "     36        \u001b[36m0.4330\u001b[0m       0.6970        0.8072  0.0275\n",
            "     37        \u001b[36m0.4281\u001b[0m       0.6970        0.8079  0.0290\n",
            "     38        \u001b[36m0.4234\u001b[0m       0.6970        0.8073  0.0327\n",
            "     39        \u001b[36m0.4189\u001b[0m       0.6970        0.8079  0.0330\n",
            "     40        \u001b[36m0.4147\u001b[0m       0.6894        0.8066  0.0326\n",
            "     41        \u001b[36m0.4106\u001b[0m       0.6894        0.8076  0.0270\n",
            "     42        \u001b[36m0.4066\u001b[0m       0.6894        0.8049  0.0319\n",
            "     43        \u001b[36m0.4028\u001b[0m       0.6894        0.8035  0.0272\n",
            "     44        \u001b[36m0.3990\u001b[0m       0.6970        0.8008  0.0302\n",
            "     45        \u001b[36m0.3953\u001b[0m       0.7045        0.7986  0.0260\n",
            "     46        \u001b[36m0.3917\u001b[0m       0.7045        0.7929  0.0254\n",
            "     47        \u001b[36m0.3883\u001b[0m       0.7045        0.7920  0.0290\n",
            "     48        \u001b[36m0.3849\u001b[0m       0.7045        0.7911  0.0316\n",
            "     49        \u001b[36m0.3818\u001b[0m       0.6970        0.7924  0.0313\n",
            "     50        \u001b[36m0.3788\u001b[0m       0.6970        0.7918  0.0323\n",
            "     51        \u001b[36m0.3758\u001b[0m       0.6970        0.7898  0.0310\n",
            "     52        \u001b[36m0.3730\u001b[0m       0.6894        0.7908  0.0302\n",
            "     53        \u001b[36m0.3702\u001b[0m       0.6894        0.7900  0.0303\n",
            "     54        \u001b[36m0.3676\u001b[0m       0.6818        0.7896  0.0299\n",
            "     55        \u001b[36m0.3652\u001b[0m       0.6894        0.7884  0.0307\n",
            "     56        \u001b[36m0.3629\u001b[0m       0.6894        0.7902  0.0312\n",
            "     57        \u001b[36m0.3608\u001b[0m       0.6818        0.7911  0.0251\n",
            "     58        \u001b[36m0.3588\u001b[0m       0.6667        0.7925  0.0263\n",
            "     59        \u001b[36m0.3570\u001b[0m       0.6667        0.7933  0.0255\n",
            "     60        \u001b[36m0.3555\u001b[0m       0.6667        0.7946  0.0275\n",
            "     61        \u001b[36m0.3539\u001b[0m       0.6515        0.7944  0.0325\n",
            "     62        \u001b[36m0.3523\u001b[0m       0.6515        0.7945  0.0322\n",
            "     63        \u001b[36m0.3509\u001b[0m       0.6515        0.7953  0.0301\n",
            "     64        \u001b[36m0.3496\u001b[0m       0.6439        0.7955  0.0265\n",
            "     65        \u001b[36m0.3483\u001b[0m       0.6439        0.7957  0.0262\n",
            "     66        \u001b[36m0.3470\u001b[0m       0.6439        0.7960  0.0301\n",
            "     67        \u001b[36m0.3457\u001b[0m       0.6439        0.7967  0.0303\n",
            "     68        \u001b[36m0.3444\u001b[0m       0.6439        0.7974  0.0272\n",
            "     69        \u001b[36m0.3430\u001b[0m       0.6439        0.7981  0.0277\n",
            "     70        \u001b[36m0.3418\u001b[0m       0.6439        0.7991  0.0318\n",
            "     71        \u001b[36m0.3406\u001b[0m       0.6439        0.8005  0.0272\n",
            "     72        \u001b[36m0.3394\u001b[0m       0.6515        0.8018  0.0301\n",
            "     73        \u001b[36m0.3382\u001b[0m       0.6364        0.8025  0.0315\n",
            "     74        \u001b[36m0.3370\u001b[0m       0.6364        0.8043  0.0299\n",
            "     75        \u001b[36m0.3357\u001b[0m       0.6364        0.8060  0.0320\n",
            "     76        \u001b[36m0.3346\u001b[0m       0.6364        0.8066  0.0252\n",
            "     77        \u001b[36m0.3335\u001b[0m       0.6364        0.8068  0.0258\n",
            "     78        \u001b[36m0.3325\u001b[0m       0.6364        0.8049  0.0279\n",
            "     79        \u001b[36m0.3316\u001b[0m       0.6364        0.8027  0.0305\n",
            "     80        \u001b[36m0.3306\u001b[0m       0.6439        0.8006  0.0250\n",
            "     81        \u001b[36m0.3297\u001b[0m       0.6439        0.7992  0.0271\n",
            "     82        \u001b[36m0.3288\u001b[0m       0.6439        0.7967  0.0314\n",
            "     83        \u001b[36m0.3279\u001b[0m       0.6439        0.7941  0.0272\n",
            "     84        \u001b[36m0.3270\u001b[0m       0.6439        0.7910  0.0244\n",
            "     85        \u001b[36m0.3262\u001b[0m       0.6439        0.7899  0.0235\n",
            "     86        \u001b[36m0.3254\u001b[0m       0.6439        0.7876  0.0251\n",
            "     87        \u001b[36m0.3247\u001b[0m       0.6515        \u001b[35m0.7847\u001b[0m  0.0251\n",
            "     88        \u001b[36m0.3241\u001b[0m       0.6515        0.7850  0.0246\n",
            "     89        \u001b[36m0.3234\u001b[0m       0.6515        \u001b[35m0.7815\u001b[0m  0.0255\n",
            "     90        \u001b[36m0.3228\u001b[0m       0.6515        \u001b[35m0.7812\u001b[0m  0.0248\n",
            "     91        \u001b[36m0.3222\u001b[0m       0.6591        \u001b[35m0.7788\u001b[0m  0.0263\n",
            "     92        \u001b[36m0.3216\u001b[0m       0.6591        \u001b[35m0.7779\u001b[0m  0.0271\n",
            "     93        \u001b[36m0.3211\u001b[0m       0.6591        \u001b[35m0.7752\u001b[0m  0.0234\n",
            "     94        \u001b[36m0.3205\u001b[0m       0.6591        0.7753  0.0247\n",
            "     95        \u001b[36m0.3200\u001b[0m       0.6591        \u001b[35m0.7715\u001b[0m  0.0251\n",
            "     96        \u001b[36m0.3195\u001b[0m       0.6591        \u001b[35m0.7708\u001b[0m  0.0324\n",
            "     97        \u001b[36m0.3190\u001b[0m       0.6591        \u001b[35m0.7682\u001b[0m  0.0401\n",
            "     98        \u001b[36m0.3185\u001b[0m       0.6591        \u001b[35m0.7672\u001b[0m  0.0276\n",
            "     99        \u001b[36m0.3181\u001b[0m       0.6591        \u001b[35m0.7649\u001b[0m  0.0263\n",
            "    100        \u001b[36m0.3176\u001b[0m       0.6591        \u001b[35m0.7641\u001b[0m  0.0264\n",
            "  epoch    train_loss    valid_acc    valid_loss     dur\n",
            "-------  ------------  -----------  ------------  ------\n",
            "      1        \u001b[36m1.6358\u001b[0m       \u001b[32m0.8106\u001b[0m        \u001b[35m1.0404\u001b[0m  0.0258\n",
            "      2        \u001b[36m1.4532\u001b[0m       0.8106        \u001b[35m0.9759\u001b[0m  0.0263\n",
            "      3        \u001b[36m1.2396\u001b[0m       0.8030        \u001b[35m0.9219\u001b[0m  0.0272\n",
            "      4        \u001b[36m1.1191\u001b[0m       \u001b[32m0.8182\u001b[0m        \u001b[35m0.8882\u001b[0m  0.0279\n",
            "      5        \u001b[36m1.0306\u001b[0m       \u001b[32m0.8258\u001b[0m        \u001b[35m0.8642\u001b[0m  0.0268\n",
            "      6        \u001b[36m0.9629\u001b[0m       0.8258        \u001b[35m0.8432\u001b[0m  0.0252\n",
            "      7        \u001b[36m0.9058\u001b[0m       0.8182        \u001b[35m0.8257\u001b[0m  0.0267\n",
            "      8        \u001b[36m0.8590\u001b[0m       0.8106        \u001b[35m0.8101\u001b[0m  0.0284\n",
            "      9        \u001b[36m0.8173\u001b[0m       0.8030        \u001b[35m0.7958\u001b[0m  0.0263\n",
            "     10        \u001b[36m0.7779\u001b[0m       0.8030        \u001b[35m0.7834\u001b[0m  0.0280\n",
            "     11        \u001b[36m0.7451\u001b[0m       0.8030        \u001b[35m0.7719\u001b[0m  0.0260\n",
            "     12        \u001b[36m0.7132\u001b[0m       0.7955        \u001b[35m0.7614\u001b[0m  0.0287\n",
            "     13        \u001b[36m0.6843\u001b[0m       0.7955        \u001b[35m0.7519\u001b[0m  0.0273\n",
            "     14        \u001b[36m0.6571\u001b[0m       0.7879        \u001b[35m0.7432\u001b[0m  0.0279\n",
            "     15        \u001b[36m0.6312\u001b[0m       0.7879        \u001b[35m0.7350\u001b[0m  0.0259\n",
            "     16        \u001b[36m0.6089\u001b[0m       0.7879        \u001b[35m0.7277\u001b[0m  0.0284\n",
            "     17        \u001b[36m0.5877\u001b[0m       0.7879        \u001b[35m0.7210\u001b[0m  0.0280\n",
            "     18        \u001b[36m0.5674\u001b[0m       0.7879        \u001b[35m0.7146\u001b[0m  0.0329\n",
            "     19        \u001b[36m0.5486\u001b[0m       0.7879        \u001b[35m0.7084\u001b[0m  0.0269\n",
            "     20        \u001b[36m0.5316\u001b[0m       0.7879        \u001b[35m0.7025\u001b[0m  0.0311\n",
            "     21        \u001b[36m0.5160\u001b[0m       0.7879        \u001b[35m0.6972\u001b[0m  0.0253\n",
            "     22        \u001b[36m0.5015\u001b[0m       0.7955        \u001b[35m0.6923\u001b[0m  0.0264\n",
            "     23        \u001b[36m0.4878\u001b[0m       0.7955        \u001b[35m0.6872\u001b[0m  0.0273\n",
            "     24        \u001b[36m0.4753\u001b[0m       0.7955        \u001b[35m0.6822\u001b[0m  0.0262\n",
            "     25        \u001b[36m0.4639\u001b[0m       0.7955        \u001b[35m0.6775\u001b[0m  0.0276\n",
            "     26        \u001b[36m0.4531\u001b[0m       0.7879        \u001b[35m0.6728\u001b[0m  0.0274\n",
            "     27        \u001b[36m0.4434\u001b[0m       0.7803        \u001b[35m0.6684\u001b[0m  0.0315\n",
            "     28        \u001b[36m0.4341\u001b[0m       0.7803        \u001b[35m0.6640\u001b[0m  0.0314\n",
            "     29        \u001b[36m0.4256\u001b[0m       0.7803        \u001b[35m0.6597\u001b[0m  0.0307\n",
            "     30        \u001b[36m0.4177\u001b[0m       0.7803        \u001b[35m0.6558\u001b[0m  0.0314\n",
            "     31        \u001b[36m0.4100\u001b[0m       0.7803        \u001b[35m0.6520\u001b[0m  0.0309\n",
            "     32        \u001b[36m0.4029\u001b[0m       0.7803        \u001b[35m0.6482\u001b[0m  0.0314\n",
            "     33        \u001b[36m0.3961\u001b[0m       0.7803        \u001b[35m0.6444\u001b[0m  0.0323\n",
            "     34        \u001b[36m0.3898\u001b[0m       0.7803        \u001b[35m0.6405\u001b[0m  0.0317\n",
            "     35        \u001b[36m0.3838\u001b[0m       0.7803        \u001b[35m0.6369\u001b[0m  0.0316\n",
            "     36        \u001b[36m0.3781\u001b[0m       0.7727        \u001b[35m0.6332\u001b[0m  0.0299\n",
            "     37        \u001b[36m0.3727\u001b[0m       0.7727        \u001b[35m0.6295\u001b[0m  0.0330\n",
            "     38        \u001b[36m0.3674\u001b[0m       0.7727        \u001b[35m0.6257\u001b[0m  0.0346\n",
            "     39        \u001b[36m0.3625\u001b[0m       0.7727        \u001b[35m0.6218\u001b[0m  0.0318\n",
            "     40        \u001b[36m0.3578\u001b[0m       0.7727        \u001b[35m0.6179\u001b[0m  0.0327\n",
            "     41        \u001b[36m0.3533\u001b[0m       0.7727        \u001b[35m0.6140\u001b[0m  0.0304\n",
            "     42        \u001b[36m0.3490\u001b[0m       0.7727        \u001b[35m0.6100\u001b[0m  0.0313\n",
            "     43        \u001b[36m0.3447\u001b[0m       0.7727        \u001b[35m0.6061\u001b[0m  0.0316\n",
            "     44        \u001b[36m0.3406\u001b[0m       0.7727        \u001b[35m0.6022\u001b[0m  0.0267\n",
            "     45        \u001b[36m0.3365\u001b[0m       0.7727        \u001b[35m0.5983\u001b[0m  0.0257\n",
            "     46        \u001b[36m0.3324\u001b[0m       0.7727        \u001b[35m0.5946\u001b[0m  0.0287\n",
            "     47        \u001b[36m0.3283\u001b[0m       0.7727        \u001b[35m0.5911\u001b[0m  0.0287\n",
            "     48        \u001b[36m0.3245\u001b[0m       0.7727        \u001b[35m0.5878\u001b[0m  0.0318\n",
            "     49        \u001b[36m0.3205\u001b[0m       0.7727        \u001b[35m0.5838\u001b[0m  0.0327\n",
            "     50        \u001b[36m0.3163\u001b[0m       0.7727        \u001b[35m0.5786\u001b[0m  0.0321\n",
            "     51        \u001b[36m0.3118\u001b[0m       0.7652        \u001b[35m0.5732\u001b[0m  0.0314\n",
            "     52        \u001b[36m0.3076\u001b[0m       0.7652        \u001b[35m0.5680\u001b[0m  0.0302\n",
            "     53        \u001b[36m0.3036\u001b[0m       0.7652        \u001b[35m0.5632\u001b[0m  0.0322\n",
            "     54        \u001b[36m0.3005\u001b[0m       0.7652        \u001b[35m0.5598\u001b[0m  0.0264\n",
            "     55        \u001b[36m0.2976\u001b[0m       0.7652        \u001b[35m0.5558\u001b[0m  0.0256\n",
            "     56        \u001b[36m0.2945\u001b[0m       0.7652        \u001b[35m0.5516\u001b[0m  0.0291\n",
            "     57        \u001b[36m0.2914\u001b[0m       0.7652        \u001b[35m0.5479\u001b[0m  0.0255\n",
            "     58        \u001b[36m0.2887\u001b[0m       0.7652        \u001b[35m0.5450\u001b[0m  0.0352\n",
            "     59        \u001b[36m0.2862\u001b[0m       0.7652        \u001b[35m0.5429\u001b[0m  0.0285\n",
            "     60        \u001b[36m0.2839\u001b[0m       0.7652        \u001b[35m0.5404\u001b[0m  0.0272\n",
            "     61        \u001b[36m0.2813\u001b[0m       0.7652        \u001b[35m0.5382\u001b[0m  0.0317\n",
            "     62        \u001b[36m0.2792\u001b[0m       0.7652        \u001b[35m0.5362\u001b[0m  0.0289\n",
            "     63        \u001b[36m0.2774\u001b[0m       0.7652        \u001b[35m0.5347\u001b[0m  0.0272\n",
            "     64        \u001b[36m0.2756\u001b[0m       0.7652        \u001b[35m0.5331\u001b[0m  0.0304\n",
            "     65        \u001b[36m0.2741\u001b[0m       0.7652        \u001b[35m0.5318\u001b[0m  0.0259\n",
            "     66        \u001b[36m0.2726\u001b[0m       0.7652        \u001b[35m0.5305\u001b[0m  0.0263\n",
            "     67        \u001b[36m0.2712\u001b[0m       0.7652        \u001b[35m0.5292\u001b[0m  0.0266\n",
            "     68        \u001b[36m0.2698\u001b[0m       0.7652        \u001b[35m0.5279\u001b[0m  0.0273\n",
            "     69        \u001b[36m0.2686\u001b[0m       0.7576        \u001b[35m0.5265\u001b[0m  0.0249\n",
            "     70        \u001b[36m0.2673\u001b[0m       0.7652        \u001b[35m0.5253\u001b[0m  0.0243\n",
            "     71        \u001b[36m0.2662\u001b[0m       0.7576        \u001b[35m0.5238\u001b[0m  0.0270\n",
            "     72        \u001b[36m0.2652\u001b[0m       0.7576        \u001b[35m0.5226\u001b[0m  0.0253\n",
            "     73        \u001b[36m0.2641\u001b[0m       0.7576        \u001b[35m0.5214\u001b[0m  0.0288\n",
            "     74        \u001b[36m0.2632\u001b[0m       0.7652        \u001b[35m0.5202\u001b[0m  0.0276\n",
            "     75        \u001b[36m0.2623\u001b[0m       0.7727        \u001b[35m0.5192\u001b[0m  0.0328\n",
            "     76        \u001b[36m0.2615\u001b[0m       0.7727        \u001b[35m0.5183\u001b[0m  0.0307\n",
            "     77        \u001b[36m0.2607\u001b[0m       0.7727        \u001b[35m0.5172\u001b[0m  0.0292\n",
            "     78        \u001b[36m0.2598\u001b[0m       0.7727        \u001b[35m0.5162\u001b[0m  0.0264\n",
            "     79        \u001b[36m0.2590\u001b[0m       0.7803        \u001b[35m0.5153\u001b[0m  0.0241\n",
            "     80        \u001b[36m0.2582\u001b[0m       0.7879        \u001b[35m0.5142\u001b[0m  0.0235\n",
            "     81        \u001b[36m0.2575\u001b[0m       0.7879        \u001b[35m0.5134\u001b[0m  0.0272\n",
            "     82        \u001b[36m0.2567\u001b[0m       0.7879        \u001b[35m0.5124\u001b[0m  0.0320\n",
            "     83        \u001b[36m0.2560\u001b[0m       0.7879        \u001b[35m0.5119\u001b[0m  0.0271\n",
            "     84        \u001b[36m0.2554\u001b[0m       0.7879        \u001b[35m0.5114\u001b[0m  0.0257\n",
            "     85        \u001b[36m0.2548\u001b[0m       0.7879        \u001b[35m0.5109\u001b[0m  0.0263\n",
            "     86        \u001b[36m0.2542\u001b[0m       0.7879        \u001b[35m0.5106\u001b[0m  0.0255\n",
            "     87        \u001b[36m0.2536\u001b[0m       0.7879        \u001b[35m0.5102\u001b[0m  0.0262\n",
            "     88        \u001b[36m0.2530\u001b[0m       0.7879        \u001b[35m0.5098\u001b[0m  0.0267\n",
            "     89        \u001b[36m0.2525\u001b[0m       0.7879        \u001b[35m0.5094\u001b[0m  0.0276\n",
            "     90        \u001b[36m0.2520\u001b[0m       0.7879        \u001b[35m0.5090\u001b[0m  0.0286\n",
            "     91        \u001b[36m0.2514\u001b[0m       0.8030        0.5092  0.0267\n",
            "     92        \u001b[36m0.2509\u001b[0m       0.8030        \u001b[35m0.5090\u001b[0m  0.0269\n",
            "     93        \u001b[36m0.2503\u001b[0m       0.8030        0.5091  0.0269\n",
            "     94        \u001b[36m0.2498\u001b[0m       0.8030        0.5090  0.0277\n",
            "     95        \u001b[36m0.2493\u001b[0m       0.8030        \u001b[35m0.5088\u001b[0m  0.0258\n",
            "     96        \u001b[36m0.2488\u001b[0m       0.8030        0.5090  0.0277\n",
            "     97        \u001b[36m0.2483\u001b[0m       0.8030        \u001b[35m0.5088\u001b[0m  0.0311\n",
            "     98        \u001b[36m0.2477\u001b[0m       0.8030        \u001b[35m0.5087\u001b[0m  0.0310\n",
            "     99        \u001b[36m0.2473\u001b[0m       0.8030        0.5088  0.0310\n",
            "    100        \u001b[36m0.2468\u001b[0m       0.8030        \u001b[35m0.5085\u001b[0m  0.0282\n"
          ],
          "name": "stdout"
        }
      ]
    },
    {
      "cell_type": "markdown",
      "metadata": {
        "id": "dHS5HcrDyZaO",
        "colab_type": "text"
      },
      "source": [
        "# Presupperposition\n",
        "\n",
        "## Compute BERT embeddings again"
      ]
    },
    {
      "cell_type": "code",
      "metadata": {
        "id": "M7SubiLByluv",
        "colab_type": "code",
        "outputId": "2b50a62b-3d17-4823-b818-c5522b98f70f",
        "colab": {
          "base_uri": "https://localhost:8080/",
          "height": 238
        }
      },
      "source": [
        "input_ids = torch.tensor(np.array(presup_padded))\n",
        "input_ids.shape\n",
        "with torch.no_grad():\n",
        "    last_hidden_states = model(input_ids)\n",
        "features = last_hidden_states[0][:,:,:].numpy()\n",
        "cls_features = last_hidden_states[0][:,0,:].numpy()\n",
        "cls_features"
      ],
      "execution_count": 236,
      "outputs": [
        {
          "output_type": "execute_result",
          "data": {
            "text/plain": [
              "array([[ 0.42202097,  0.02268753,  0.53699994, ..., -0.21211348,\n",
              "         0.06441058, -0.4888024 ],\n",
              "       [ 0.33169028, -0.10472161,  0.8189769 , ..., -0.3639792 ,\n",
              "         0.11494139, -0.38675058],\n",
              "       [ 0.35144442, -0.06816334,  0.9282086 , ..., -0.30233556,\n",
              "        -0.20365594, -0.6276086 ],\n",
              "       ...,\n",
              "       [ 0.3651335 , -0.09129231,  0.5623702 , ..., -0.15368372,\n",
              "         0.215161  , -0.27237758],\n",
              "       [ 0.65971494, -0.13337831,  0.5392584 , ..., -0.25120956,\n",
              "         0.24526614, -0.5249608 ],\n",
              "       [ 0.0845321 , -0.20293339,  1.1157786 , ...,  0.1046489 ,\n",
              "         0.2794116 , -0.29502675]], dtype=float32)"
            ]
          },
          "metadata": {
            "tags": []
          },
          "execution_count": 236
        }
      ]
    },
    {
      "cell_type": "markdown",
      "metadata": {
        "id": "OuBadRVZzhU-",
        "colab_type": "text"
      },
      "source": [
        "## Onehot encoding of the data"
      ]
    },
    {
      "cell_type": "code",
      "metadata": {
        "id": "xX88y3PDzj-e",
        "colab_type": "code",
        "outputId": "df12f62c-726b-4b09-b1a9-bbacbf23fe09",
        "colab": {
          "base_uri": "https://localhost:8080/",
          "height": 136
        }
      },
      "source": [
        "y = np.array(presup_dataset[23], dtype=np.int64)\n",
        "y_labels = np.zeros((y.size, y.max()+1), dtype=np.float64)\n",
        "y_labels[np.arange(y.size),y] = 1\n",
        "y_labels"
      ],
      "execution_count": 237,
      "outputs": [
        {
          "output_type": "execute_result",
          "data": {
            "text/plain": [
              "array([[1., 0.],\n",
              "       [0., 1.],\n",
              "       [0., 1.],\n",
              "       ...,\n",
              "       [0., 1.],\n",
              "       [0., 1.],\n",
              "       [0., 1.]])"
            ]
          },
          "metadata": {
            "tags": []
          },
          "execution_count": 237
        }
      ]
    },
    {
      "cell_type": "markdown",
      "metadata": {
        "id": "E8YuMJ2dzsV9",
        "colab_type": "text"
      },
      "source": [
        "## Splitting data"
      ]
    },
    {
      "cell_type": "code",
      "metadata": {
        "id": "bHRUpvZ9ztm1",
        "colab_type": "code",
        "outputId": "378cbf53-d9bd-4100-9671-e3d74aab5b0c",
        "colab": {
          "base_uri": "https://localhost:8080/",
          "height": 238
        }
      },
      "source": [
        "train_features, test_features, train_labels, test_labels = train_test_split(cls_features, y)\n",
        "train_features[:10]"
      ],
      "execution_count": 238,
      "outputs": [
        {
          "output_type": "execute_result",
          "data": {
            "text/plain": [
              "array([[ 0.22818689, -0.10756426,  1.0580812 , ...,  0.2078288 ,\n",
              "         0.27162784, -0.26951277],\n",
              "       [ 0.4603555 , -0.41618386,  0.78769034, ..., -0.1490581 ,\n",
              "         0.00485025, -0.52685505],\n",
              "       [ 0.39225036,  0.04121505,  0.79313993, ..., -0.3660587 ,\n",
              "         0.47829074, -0.10804188],\n",
              "       ...,\n",
              "       [-0.01812143, -0.26922992,  0.98781025, ..., -0.12213256,\n",
              "         0.21916227, -0.11730828],\n",
              "       [ 0.29264808, -0.4014019 ,  0.91222215, ..., -0.19865984,\n",
              "         0.12620987, -0.5263307 ],\n",
              "       [ 0.13119262, -0.06955296,  0.88669664, ..., -0.14937697,\n",
              "         0.17092377, -0.31081334]], dtype=float32)"
            ]
          },
          "metadata": {
            "tags": []
          },
          "execution_count": 238
        }
      ]
    },
    {
      "cell_type": "markdown",
      "metadata": {
        "id": "nxCtI3e7z4qc",
        "colab_type": "text"
      },
      "source": [
        "## Training model itself"
      ]
    },
    {
      "cell_type": "code",
      "metadata": {
        "id": "yH8QUyWVz6p4",
        "colab_type": "code",
        "colab": {}
      },
      "source": [
        "train_features = torch.from_numpy(train_features)\n",
        "test_features = torch.from_numpy(test_features)\n",
        "train_labels = torch.from_numpy(train_labels)\n",
        "test_labels = torch.from_numpy(test_labels)\n",
        "batch_size = int(train_features.shape[0] / 50)\n",
        "batch_size\n",
        "tokens = 1\n",
        "hidden_dim = 256\n",
        "input_dim = 768 * tokens\n",
        "output_dim = len(presup_labels)"
      ],
      "execution_count": 0,
      "outputs": []
    },
    {
      "cell_type": "code",
      "metadata": {
        "id": "wajdRHDm1HBd",
        "colab_type": "code",
        "outputId": "029cf498-f883-40a8-a2b0-cbc153a6520d",
        "colab": {
          "base_uri": "https://localhost:8080/",
          "height": 374
        }
      },
      "source": [
        "train_losses = []\n",
        "ffnn = FeedforwardNeuralNetModel(input_dim, hidden_dim, output_dim)\n",
        "learning_rate = 0.1\n",
        "optimizer = torch.optim.SGD(ffnn.parameters(), lr=learning_rate)\n",
        "\n",
        "for epoch in range(0,101):\n",
        "    \n",
        "    ffnn.train(True)\n",
        "    train_loss = 0 \n",
        "\n",
        "    for x_batch, y_batch, batch in generate_batch_data(train_features, train_labels, batch_size):\n",
        "        optimizer.zero_grad()\n",
        "        y_pred = ffnn(x_batch)\n",
        "        loss = criterion(y_pred, y_batch.long())\n",
        "        loss.backward()\n",
        "        optimizer.step()\n",
        "        train_loss += loss.item()\n",
        "\n",
        "    if epoch % 5 == 0:\n",
        "      train_losses.append(train_loss/len(train_features))\n",
        "      print(f\"{epoch} / 100 | loss = {train_loss/len(train_features)}\")"
      ],
      "execution_count": 255,
      "outputs": [
        {
          "output_type": "stream",
          "text": [
            "0 / 100 | loss = 0.06345740517188533\n",
            "5 / 100 | loss = 0.04635387196174675\n",
            "10 / 100 | loss = 0.03919575440113873\n",
            "15 / 100 | loss = 0.034126020590880365\n",
            "20 / 100 | loss = 0.030816548469803095\n",
            "25 / 100 | loss = 0.02606777204476934\n",
            "30 / 100 | loss = 0.02588782364577315\n",
            "35 / 100 | loss = 0.018695090193607003\n",
            "40 / 100 | loss = 0.01781823801406599\n",
            "45 / 100 | loss = 0.020313672120008376\n",
            "50 / 100 | loss = 0.01893698807519716\n",
            "55 / 100 | loss = 0.01829010221122213\n",
            "60 / 100 | loss = 0.03764028345311083\n",
            "65 / 100 | loss = 0.020479944598394563\n",
            "70 / 100 | loss = 0.012341449111960114\n",
            "75 / 100 | loss = 0.02050685856400308\n",
            "80 / 100 | loss = 0.023944360833049443\n",
            "85 / 100 | loss = 0.017090479410976744\n",
            "90 / 100 | loss = 0.023007693969486948\n",
            "95 / 100 | loss = 0.01523530940130275\n",
            "100 / 100 | loss = 0.020784466798834982\n"
          ],
          "name": "stdout"
        }
      ]
    },
    {
      "cell_type": "code",
      "metadata": {
        "id": "swlto1yBA9CY",
        "colab_type": "code",
        "outputId": "96d44598-de1b-4126-8186-18495bb04c29",
        "colab": {
          "base_uri": "https://localhost:8080/",
          "height": 298
        }
      },
      "source": [
        "plt.plot(train_losses, label=\"Training loss\")\n",
        "plt.legend()\n",
        "plt.title(\"Losses\")"
      ],
      "execution_count": 256,
      "outputs": [
        {
          "output_type": "execute_result",
          "data": {
            "text/plain": [
              "Text(0.5, 1.0, 'Losses')"
            ]
          },
          "metadata": {
            "tags": []
          },
          "execution_count": 256
        },
        {
          "output_type": "display_data",
          "data": {
            "image/png": "[encoded data removed]",
            "text/plain": [
              "<Figure size 432x288 with 1 Axes>"
            ]
          },
          "metadata": {
            "tags": [],
            "needs_background": "light"
          }
        }
      ]
    },
    {
      "cell_type": "code",
      "metadata": {
        "id": "3w4EFSHxBEBG",
        "colab_type": "code",
        "outputId": "a60f0321-4021-479e-9748-4118a421a481",
        "colab": {
          "base_uri": "https://localhost:8080/",
          "height": 374
        }
      },
      "source": [
        "test_losses = []\n",
        "\n",
        "for epoch in range(0,101):\n",
        "    \n",
        "    test_loss = 0 \n",
        "    correct = 0\n",
        "    ffnn.eval()\n",
        "\n",
        "    for x_batch, y_batch, batch in generate_batch_data(test_features, test_labels, batch_size):\n",
        "        y_pred = ffnn(x_batch)\n",
        "        loss = criterion(y_pred, y_batch.long())\n",
        "        pred = np.argmax(y_pred.data,axis=1)\n",
        "        test_loss += loss.item()\n",
        "        correct += pred.eq(y_batch.data).sum()\n",
        "\n",
        "    if epoch % 5 == 0:\n",
        "      test_losses.append(test_loss/len(test_features))\n",
        "\n",
        "      print(f\"{epoch} / 100 | loss = {test_loss/len(test_features)} | Accuracy = {100. * correct/len(test_features)}%\")"
      ],
      "execution_count": 257,
      "outputs": [
        {
          "output_type": "stream",
          "text": [
            "0 / 100 | loss = 0.1909887397196144 | Accuracy = 66.66666412353516%\n",
            "5 / 100 | loss = 0.1909887397196144 | Accuracy = 66.66666412353516%\n",
            "10 / 100 | loss = 0.1909887397196144 | Accuracy = 66.66666412353516%\n",
            "15 / 100 | loss = 0.1909887397196144 | Accuracy = 66.66666412353516%\n",
            "20 / 100 | loss = 0.1909887397196144 | Accuracy = 66.66666412353516%\n",
            "25 / 100 | loss = 0.1909887397196144 | Accuracy = 66.66666412353516%\n",
            "30 / 100 | loss = 0.1909887397196144 | Accuracy = 66.66666412353516%\n",
            "35 / 100 | loss = 0.1909887397196144 | Accuracy = 66.66666412353516%\n",
            "40 / 100 | loss = 0.1909887397196144 | Accuracy = 66.66666412353516%\n",
            "45 / 100 | loss = 0.1909887397196144 | Accuracy = 66.66666412353516%\n",
            "50 / 100 | loss = 0.1909887397196144 | Accuracy = 66.66666412353516%\n",
            "55 / 100 | loss = 0.1909887397196144 | Accuracy = 66.66666412353516%\n",
            "60 / 100 | loss = 0.1909887397196144 | Accuracy = 66.66666412353516%\n",
            "65 / 100 | loss = 0.1909887397196144 | Accuracy = 66.66666412353516%\n",
            "70 / 100 | loss = 0.1909887397196144 | Accuracy = 66.66666412353516%\n",
            "75 / 100 | loss = 0.1909887397196144 | Accuracy = 66.66666412353516%\n",
            "80 / 100 | loss = 0.1909887397196144 | Accuracy = 66.66666412353516%\n",
            "85 / 100 | loss = 0.1909887397196144 | Accuracy = 66.66666412353516%\n",
            "90 / 100 | loss = 0.1909887397196144 | Accuracy = 66.66666412353516%\n",
            "95 / 100 | loss = 0.1909887397196144 | Accuracy = 66.66666412353516%\n",
            "100 / 100 | loss = 0.1909887397196144 | Accuracy = 66.66666412353516%\n"
          ],
          "name": "stdout"
        }
      ]
    },
    {
      "cell_type": "code",
      "metadata": {
        "id": "7zF6gUJ4gVeB",
        "colab_type": "code",
        "colab": {
          "base_uri": "https://localhost:8080/",
          "height": 1000
        },
        "outputId": "709b9d62-741b-4c7b-cb23-ebcb9074206d"
      },
      "source": [
        "classifier = NeuralNetClassifier(module= ffnn, criterion= nn.CrossEntropyLoss, max_epochs = 100)\n",
        "scores = cross_val_score(classifier, cls_features, y.astype(int), cv=7, scoring = \"accuracy\")"
      ],
      "execution_count": 259,
      "outputs": [
        {
          "output_type": "stream",
          "text": [
            "  epoch    train_loss    valid_acc    valid_loss     dur\n",
            "-------  ------------  -----------  ------------  ------\n",
            "      1        \u001b[36m0.9735\u001b[0m       \u001b[32m0.8321\u001b[0m        \u001b[35m0.5085\u001b[0m  0.0285\n",
            "      2        \u001b[36m0.8166\u001b[0m       \u001b[32m0.8550\u001b[0m        \u001b[35m0.4797\u001b[0m  0.0282\n",
            "      3        \u001b[36m0.7450\u001b[0m       0.8550        \u001b[35m0.4710\u001b[0m  0.0259\n",
            "      4        \u001b[36m0.6957\u001b[0m       0.8550        \u001b[35m0.4653\u001b[0m  0.0262\n",
            "      5        \u001b[36m0.6539\u001b[0m       0.8397        \u001b[35m0.4619\u001b[0m  0.0274\n",
            "      6        \u001b[36m0.6174\u001b[0m       0.8397        \u001b[35m0.4604\u001b[0m  0.0272\n",
            "      7        \u001b[36m0.5852\u001b[0m       0.8321        0.4606  0.0276\n",
            "      8        \u001b[36m0.5566\u001b[0m       0.8321        0.4618  0.0268\n",
            "      9        \u001b[36m0.5310\u001b[0m       0.8397        0.4639  0.0327\n",
            "     10        \u001b[36m0.5079\u001b[0m       0.8397        0.4667  0.0279\n",
            "     11        \u001b[36m0.4870\u001b[0m       0.8397        0.4699  0.0268\n",
            "     12        \u001b[36m0.4680\u001b[0m       0.8397        0.4733  0.0260\n",
            "     13        \u001b[36m0.4510\u001b[0m       0.8321        0.4765  0.0265\n",
            "     14        \u001b[36m0.4358\u001b[0m       0.8321        0.4792  0.0269\n",
            "     15        \u001b[36m0.4224\u001b[0m       0.8321        0.4815  0.0263\n",
            "     16        \u001b[36m0.4105\u001b[0m       0.8244        0.4830  0.0256\n",
            "     17        \u001b[36m0.4002\u001b[0m       0.8244        0.4841  0.0294\n",
            "     18        \u001b[36m0.3915\u001b[0m       0.8244        0.4845  0.0256\n",
            "     19        \u001b[36m0.3842\u001b[0m       0.8244        0.4839  0.0322\n",
            "     20        \u001b[36m0.3777\u001b[0m       0.8244        0.4831  0.0274\n",
            "     21        \u001b[36m0.3716\u001b[0m       0.8244        0.4820  0.0328\n",
            "     22        \u001b[36m0.3655\u001b[0m       0.8244        0.4804  0.0313\n",
            "     23        \u001b[36m0.3607\u001b[0m       0.8244        0.4790  0.0280\n",
            "     24        \u001b[36m0.3562\u001b[0m       0.8168        0.4781  0.0286\n",
            "     25        \u001b[36m0.3521\u001b[0m       0.8168        0.4774  0.0322\n",
            "     26        \u001b[36m0.3482\u001b[0m       0.8168        0.4767  0.0263\n",
            "     27        \u001b[36m0.3447\u001b[0m       0.8168        0.4761  0.0294\n",
            "     28        \u001b[36m0.3415\u001b[0m       0.8244        0.4753  0.0302\n",
            "     29        \u001b[36m0.3385\u001b[0m       0.8244        0.4745  0.0255\n",
            "     30        \u001b[36m0.3358\u001b[0m       0.8244        0.4736  0.0264\n",
            "     31        \u001b[36m0.3333\u001b[0m       0.8244        0.4728  0.0275\n",
            "     32        \u001b[36m0.3309\u001b[0m       0.8244        0.4720  0.0252\n",
            "     33        \u001b[36m0.3286\u001b[0m       0.8244        0.4712  0.0271\n",
            "     34        \u001b[36m0.3265\u001b[0m       0.8244        0.4705  0.0288\n",
            "     35        \u001b[36m0.3244\u001b[0m       0.8244        0.4698  0.0255\n",
            "     36        \u001b[36m0.3224\u001b[0m       0.8244        0.4692  0.0273\n",
            "     37        \u001b[36m0.3204\u001b[0m       0.8244        0.4688  0.0264\n",
            "     38        \u001b[36m0.3184\u001b[0m       0.8244        0.4684  0.0281\n",
            "     39        \u001b[36m0.3165\u001b[0m       0.8244        0.4678  0.0280\n",
            "     40        \u001b[36m0.3147\u001b[0m       0.8244        0.4674  0.0281\n",
            "     41        \u001b[36m0.3126\u001b[0m       0.8244        0.4670  0.0311\n",
            "     42        \u001b[36m0.3106\u001b[0m       0.8244        0.4668  0.0247\n",
            "     43        \u001b[36m0.3086\u001b[0m       0.8244        0.4668  0.0259\n",
            "     44        \u001b[36m0.3068\u001b[0m       0.8244        0.4674  0.0300\n",
            "     45        \u001b[36m0.3051\u001b[0m       0.8244        0.4675  0.0286\n",
            "     46        \u001b[36m0.3036\u001b[0m       0.8244        0.4675  0.0314\n",
            "     47        \u001b[36m0.3020\u001b[0m       0.8244        0.4674  0.0272\n",
            "     48        \u001b[36m0.3007\u001b[0m       0.8244        0.4673  0.0282\n",
            "     49        \u001b[36m0.2993\u001b[0m       0.8244        0.4667  0.0290\n",
            "     50        \u001b[36m0.2980\u001b[0m       0.8244        0.4666  0.0260\n",
            "     51        \u001b[36m0.2967\u001b[0m       0.8244        0.4661  0.0255\n",
            "     52        \u001b[36m0.2955\u001b[0m       0.8244        0.4659  0.0290\n",
            "     53        \u001b[36m0.2944\u001b[0m       0.8244        0.4658  0.0266\n",
            "     54        \u001b[36m0.2932\u001b[0m       0.8244        0.4655  0.0264\n",
            "     55        \u001b[36m0.2921\u001b[0m       0.8244        0.4650  0.0255\n",
            "     56        \u001b[36m0.2911\u001b[0m       0.8244        0.4653  0.0291\n",
            "     57        \u001b[36m0.2901\u001b[0m       0.8244        0.4649  0.0316\n",
            "     58        \u001b[36m0.2892\u001b[0m       0.8244        0.4650  0.0307\n",
            "     59        \u001b[36m0.2883\u001b[0m       0.8244        0.4650  0.0311\n",
            "     60        \u001b[36m0.2874\u001b[0m       0.8244        0.4650  0.0304\n",
            "     61        \u001b[36m0.2865\u001b[0m       0.8244        0.4651  0.0297\n",
            "     62        \u001b[36m0.2855\u001b[0m       0.8244        0.4651  0.0265\n",
            "     63        \u001b[36m0.2848\u001b[0m       0.8244        0.4652  0.0262\n",
            "     64        \u001b[36m0.2840\u001b[0m       0.8244        0.4653  0.0275\n",
            "     65        \u001b[36m0.2831\u001b[0m       0.8244        0.4654  0.0261\n",
            "     66        \u001b[36m0.2823\u001b[0m       0.8244        0.4654  0.0298\n",
            "     67        \u001b[36m0.2815\u001b[0m       0.8244        0.4655  0.0313\n",
            "     68        \u001b[36m0.2808\u001b[0m       0.8244        0.4655  0.0312\n",
            "     69        \u001b[36m0.2800\u001b[0m       0.8244        0.4655  0.0316\n",
            "     70        \u001b[36m0.2793\u001b[0m       0.8244        0.4656  0.0320\n",
            "     71        \u001b[36m0.2786\u001b[0m       0.8244        0.4656  0.0368\n",
            "     72        \u001b[36m0.2778\u001b[0m       0.8244        0.4657  0.0379\n",
            "     73        \u001b[36m0.2772\u001b[0m       0.8244        0.4657  0.0301\n",
            "     74        \u001b[36m0.2765\u001b[0m       0.8244        0.4658  0.0339\n",
            "     75        \u001b[36m0.2758\u001b[0m       0.8244        0.4658  0.0322\n",
            "     76        \u001b[36m0.2752\u001b[0m       0.8244        0.4659  0.0314\n",
            "     77        \u001b[36m0.2745\u001b[0m       0.8244        0.4658  0.0323\n",
            "     78        \u001b[36m0.2739\u001b[0m       0.8244        0.4660  0.0328\n",
            "     79        \u001b[36m0.2733\u001b[0m       0.8244        0.4660  0.0298\n",
            "     80        \u001b[36m0.2727\u001b[0m       0.8244        0.4661  0.0276\n",
            "     81        \u001b[36m0.2721\u001b[0m       0.8244        0.4661  0.0288\n",
            "     82        \u001b[36m0.2715\u001b[0m       0.8244        0.4662  0.0332\n",
            "     83        \u001b[36m0.2709\u001b[0m       0.8244        0.4663  0.0336\n",
            "     84        \u001b[36m0.2703\u001b[0m       0.8244        0.4664  0.0268\n",
            "     85        \u001b[36m0.2698\u001b[0m       0.8244        0.4665  0.0273\n",
            "     86        \u001b[36m0.2692\u001b[0m       0.8244        0.4669  0.0262\n",
            "     87        \u001b[36m0.2687\u001b[0m       0.8244        0.4669  0.0268\n",
            "     88        \u001b[36m0.2682\u001b[0m       0.8244        0.4673  0.0282\n",
            "     89        \u001b[36m0.2676\u001b[0m       0.8244        0.4673  0.0252\n",
            "     90        \u001b[36m0.2671\u001b[0m       0.8244        0.4675  0.0274\n",
            "     91        \u001b[36m0.2665\u001b[0m       0.8244        0.4675  0.0277\n",
            "     92        \u001b[36m0.2660\u001b[0m       0.8244        0.4676  0.0272\n",
            "     93        \u001b[36m0.2655\u001b[0m       0.8244        0.4679  0.0306\n",
            "     94        \u001b[36m0.2651\u001b[0m       0.8244        0.4686  0.0267\n",
            "     95        \u001b[36m0.2645\u001b[0m       0.8244        0.4690  0.0276\n",
            "     96        \u001b[36m0.2639\u001b[0m       0.8244        0.4693  0.0261\n",
            "     97        \u001b[36m0.2633\u001b[0m       0.8244        0.4693  0.0274\n",
            "     98        \u001b[36m0.2628\u001b[0m       0.8244        0.4695  0.0319\n",
            "     99        \u001b[36m0.2623\u001b[0m       0.8244        0.4699  0.0328\n",
            "    100        \u001b[36m0.2618\u001b[0m       0.8244        0.4701  0.0304\n",
            "  epoch    train_loss    valid_acc    valid_loss     dur\n",
            "-------  ------------  -----------  ------------  ------\n",
            "      1        \u001b[36m0.9726\u001b[0m       \u001b[32m0.7786\u001b[0m        \u001b[35m0.6836\u001b[0m  0.0302\n",
            "      2        \u001b[36m0.8164\u001b[0m       0.7634        0.6913  0.0315\n",
            "      3        \u001b[36m0.7450\u001b[0m       0.7634        0.6919  0.0298\n",
            "      4        \u001b[36m0.6959\u001b[0m       0.7634        0.6953  0.0327\n",
            "      5        \u001b[36m0.6541\u001b[0m       0.7634        0.7002  0.0312\n",
            "      6        \u001b[36m0.6177\u001b[0m       0.7634        0.7059  0.0281\n",
            "      7        \u001b[36m0.5855\u001b[0m       0.7710        0.7112  0.0298\n",
            "      8        \u001b[36m0.5569\u001b[0m       0.7557        0.7164  0.0269\n",
            "      9        \u001b[36m0.5313\u001b[0m       0.7557        0.7212  0.0271\n",
            "     10        \u001b[36m0.5081\u001b[0m       0.7557        0.7256  0.0262\n",
            "     11        \u001b[36m0.4872\u001b[0m       0.7557        0.7296  0.0260\n",
            "     12        \u001b[36m0.4683\u001b[0m       0.7557        0.7330  0.0317\n",
            "     13        \u001b[36m0.4512\u001b[0m       0.7328        0.7355  0.0335\n",
            "     14        \u001b[36m0.4360\u001b[0m       0.7252        0.7381  0.0337\n",
            "     15        \u001b[36m0.4225\u001b[0m       0.7481        0.7380  0.0317\n",
            "     16        \u001b[36m0.4106\u001b[0m       0.7557        0.7380  0.0326\n",
            "     17        \u001b[36m0.4003\u001b[0m       0.7557        0.7348  0.0321\n",
            "     18        \u001b[36m0.3916\u001b[0m       0.7710        0.7293  0.0317\n",
            "     19        \u001b[36m0.3843\u001b[0m       0.7710        0.7236  0.0313\n",
            "     20        \u001b[36m0.3778\u001b[0m       0.7710        0.7176  0.0287\n",
            "     21        \u001b[36m0.3716\u001b[0m       0.7710        0.7113  0.0262\n",
            "     22        \u001b[36m0.3655\u001b[0m       0.7786        0.7078  0.0255\n",
            "     23        \u001b[36m0.3608\u001b[0m       0.7710        0.7042  0.0264\n",
            "     24        \u001b[36m0.3563\u001b[0m       0.7710        0.7001  0.0263\n",
            "     25        \u001b[36m0.3522\u001b[0m       0.7710        0.6974  0.0255\n",
            "     26        \u001b[36m0.3484\u001b[0m       0.7710        0.6936  0.0264\n",
            "     27        \u001b[36m0.3448\u001b[0m       0.7634        0.6891  0.0260\n",
            "     28        \u001b[36m0.3415\u001b[0m       0.7634        0.6856  0.0257\n",
            "     29        \u001b[36m0.3386\u001b[0m       0.7634        \u001b[35m0.6816\u001b[0m  0.0246\n",
            "     30        \u001b[36m0.3358\u001b[0m       0.7710        \u001b[35m0.6775\u001b[0m  0.0251\n",
            "     31        \u001b[36m0.3333\u001b[0m       0.7710        \u001b[35m0.6728\u001b[0m  0.0270\n",
            "     32        \u001b[36m0.3309\u001b[0m       0.7710        \u001b[35m0.6691\u001b[0m  0.0248\n",
            "     33        \u001b[36m0.3287\u001b[0m       0.7710        \u001b[35m0.6653\u001b[0m  0.0259\n",
            "     34        \u001b[36m0.3265\u001b[0m       0.7786        \u001b[35m0.6609\u001b[0m  0.0253\n",
            "     35        \u001b[36m0.3244\u001b[0m       0.7786        \u001b[35m0.6577\u001b[0m  0.0254\n",
            "     36        \u001b[36m0.3224\u001b[0m       0.7786        \u001b[35m0.6542\u001b[0m  0.0292\n",
            "     37        \u001b[36m0.3204\u001b[0m       0.7786        \u001b[35m0.6503\u001b[0m  0.0313\n",
            "     38        \u001b[36m0.3185\u001b[0m       0.7786        \u001b[35m0.6472\u001b[0m  0.0279\n",
            "     39        \u001b[36m0.3166\u001b[0m       \u001b[32m0.7863\u001b[0m        \u001b[35m0.6436\u001b[0m  0.0268\n",
            "     40        \u001b[36m0.3147\u001b[0m       0.7863        \u001b[35m0.6407\u001b[0m  0.0271\n",
            "     41        \u001b[36m0.3126\u001b[0m       0.7863        \u001b[35m0.6378\u001b[0m  0.0253\n",
            "     42        \u001b[36m0.3106\u001b[0m       0.7863        \u001b[35m0.6336\u001b[0m  0.0263\n",
            "     43        \u001b[36m0.3087\u001b[0m       0.7863        \u001b[35m0.6300\u001b[0m  0.0290\n",
            "     44        \u001b[36m0.3069\u001b[0m       0.7863        \u001b[35m0.6258\u001b[0m  0.0323\n",
            "     45        \u001b[36m0.3051\u001b[0m       0.7863        \u001b[35m0.6218\u001b[0m  0.0322\n",
            "     46        \u001b[36m0.3036\u001b[0m       0.7863        \u001b[35m0.6186\u001b[0m  0.0304\n",
            "     47        \u001b[36m0.3021\u001b[0m       0.7863        \u001b[35m0.6153\u001b[0m  0.0266\n",
            "     48        \u001b[36m0.3008\u001b[0m       0.7863        \u001b[35m0.6129\u001b[0m  0.0265\n",
            "     49        \u001b[36m0.2994\u001b[0m       0.7863        \u001b[35m0.6099\u001b[0m  0.0277\n",
            "     50        \u001b[36m0.2980\u001b[0m       \u001b[32m0.7939\u001b[0m        \u001b[35m0.6076\u001b[0m  0.0258\n",
            "     51        \u001b[36m0.2967\u001b[0m       0.7939        \u001b[35m0.6054\u001b[0m  0.0264\n",
            "     52        \u001b[36m0.2955\u001b[0m       0.7939        \u001b[35m0.6037\u001b[0m  0.0264\n",
            "     53        \u001b[36m0.2944\u001b[0m       0.7939        \u001b[35m0.6016\u001b[0m  0.0265\n",
            "     54        \u001b[36m0.2933\u001b[0m       0.7939        \u001b[35m0.5997\u001b[0m  0.0277\n",
            "     55        \u001b[36m0.2922\u001b[0m       0.7939        \u001b[35m0.5983\u001b[0m  0.0262\n",
            "     56        \u001b[36m0.2912\u001b[0m       0.7939        \u001b[35m0.5959\u001b[0m  0.0259\n",
            "     57        \u001b[36m0.2902\u001b[0m       0.7939        \u001b[35m0.5941\u001b[0m  0.0306\n",
            "     58        \u001b[36m0.2893\u001b[0m       0.7939        \u001b[35m0.5930\u001b[0m  0.0293\n",
            "     59        \u001b[36m0.2884\u001b[0m       0.7939        \u001b[35m0.5908\u001b[0m  0.0317\n",
            "     60        \u001b[36m0.2874\u001b[0m       0.7939        \u001b[35m0.5896\u001b[0m  0.0302\n",
            "     61        \u001b[36m0.2865\u001b[0m       0.7939        \u001b[35m0.5880\u001b[0m  0.0302\n",
            "     62        \u001b[36m0.2856\u001b[0m       0.7939        \u001b[35m0.5868\u001b[0m  0.0307\n",
            "     63        \u001b[36m0.2848\u001b[0m       0.7939        \u001b[35m0.5852\u001b[0m  0.0311\n",
            "     64        \u001b[36m0.2839\u001b[0m       0.7939        \u001b[35m0.5841\u001b[0m  0.0285\n",
            "     65        \u001b[36m0.2831\u001b[0m       0.7939        \u001b[35m0.5828\u001b[0m  0.0280\n",
            "     66        \u001b[36m0.2823\u001b[0m       0.7939        \u001b[35m0.5817\u001b[0m  0.0318\n",
            "     67        \u001b[36m0.2816\u001b[0m       0.7939        \u001b[35m0.5804\u001b[0m  0.0249\n",
            "     68        \u001b[36m0.2808\u001b[0m       0.7939        \u001b[35m0.5789\u001b[0m  0.0285\n",
            "     69        \u001b[36m0.2800\u001b[0m       0.7939        \u001b[35m0.5778\u001b[0m  0.0323\n",
            "     70        \u001b[36m0.2793\u001b[0m       0.7939        \u001b[35m0.5764\u001b[0m  0.0312\n",
            "     71        \u001b[36m0.2786\u001b[0m       0.7939        \u001b[35m0.5753\u001b[0m  0.0290\n",
            "     72        \u001b[36m0.2779\u001b[0m       0.7939        \u001b[35m0.5740\u001b[0m  0.0312\n",
            "     73        \u001b[36m0.2772\u001b[0m       0.7939        \u001b[35m0.5730\u001b[0m  0.0321\n",
            "     74        \u001b[36m0.2765\u001b[0m       0.7939        \u001b[35m0.5718\u001b[0m  0.0317\n",
            "     75        \u001b[36m0.2759\u001b[0m       0.7939        \u001b[35m0.5709\u001b[0m  0.0318\n",
            "     76        \u001b[36m0.2752\u001b[0m       0.7939        \u001b[35m0.5696\u001b[0m  0.0324\n",
            "     77        \u001b[36m0.2746\u001b[0m       0.7939        \u001b[35m0.5688\u001b[0m  0.0291\n",
            "     78        \u001b[36m0.2739\u001b[0m       0.7939        \u001b[35m0.5676\u001b[0m  0.0319\n",
            "     79        \u001b[36m0.2733\u001b[0m       0.7939        \u001b[35m0.5668\u001b[0m  0.0317\n",
            "     80        \u001b[36m0.2727\u001b[0m       0.7939        \u001b[35m0.5657\u001b[0m  0.0317\n",
            "     81        \u001b[36m0.2721\u001b[0m       0.7939        \u001b[35m0.5650\u001b[0m  0.0337\n",
            "     82        \u001b[36m0.2715\u001b[0m       0.7939        \u001b[35m0.5639\u001b[0m  0.0343\n",
            "     83        \u001b[36m0.2710\u001b[0m       0.7939        \u001b[35m0.5632\u001b[0m  0.0287\n",
            "     84        \u001b[36m0.2704\u001b[0m       0.7939        \u001b[35m0.5622\u001b[0m  0.0306\n",
            "     85        \u001b[36m0.2698\u001b[0m       0.7939        \u001b[35m0.5615\u001b[0m  0.0324\n",
            "     86        \u001b[36m0.2692\u001b[0m       0.7939        0.5617  0.0313\n",
            "     87        \u001b[36m0.2687\u001b[0m       0.7939        \u001b[35m0.5608\u001b[0m  0.0304\n",
            "     88        \u001b[36m0.2682\u001b[0m       0.7939        \u001b[35m0.5601\u001b[0m  0.0299\n",
            "     89        \u001b[36m0.2677\u001b[0m       0.7939        \u001b[35m0.5593\u001b[0m  0.0326\n",
            "     90        \u001b[36m0.2671\u001b[0m       \u001b[32m0.8015\u001b[0m        \u001b[35m0.5584\u001b[0m  0.0319\n",
            "     91        \u001b[36m0.2666\u001b[0m       0.8015        \u001b[35m0.5576\u001b[0m  0.0298\n",
            "     92        \u001b[36m0.2661\u001b[0m       0.8015        \u001b[35m0.5570\u001b[0m  0.0340\n",
            "     93        \u001b[36m0.2656\u001b[0m       0.8015        \u001b[35m0.5562\u001b[0m  0.0249\n",
            "     94        \u001b[36m0.2652\u001b[0m       0.7939        0.5570  0.0259\n",
            "     95        \u001b[36m0.2646\u001b[0m       0.7939        0.5576  0.0252\n",
            "     96        \u001b[36m0.2640\u001b[0m       0.7939        0.5575  0.0244\n",
            "     97        \u001b[36m0.2634\u001b[0m       0.7939        0.5568  0.0261\n",
            "     98        \u001b[36m0.2629\u001b[0m       0.7939        0.5573  0.0272\n",
            "     99        \u001b[36m0.2624\u001b[0m       0.7939        0.5562  0.0311\n",
            "    100        \u001b[36m0.2619\u001b[0m       0.7939        \u001b[35m0.5553\u001b[0m  0.0233\n",
            "  epoch    train_loss    valid_acc    valid_loss     dur\n",
            "-------  ------------  -----------  ------------  ------\n",
            "      1        \u001b[36m1.0150\u001b[0m       \u001b[32m0.7879\u001b[0m        \u001b[35m0.7376\u001b[0m  0.0269\n",
            "      2        \u001b[36m0.8370\u001b[0m       0.7727        \u001b[35m0.7199\u001b[0m  0.0288\n",
            "      3        \u001b[36m0.7606\u001b[0m       0.7727        0.7209  0.0271\n",
            "      4        \u001b[36m0.7099\u001b[0m       0.7576        \u001b[35m0.7158\u001b[0m  0.0287\n",
            "      5        \u001b[36m0.6731\u001b[0m       0.7652        \u001b[35m0.7120\u001b[0m  0.0269\n",
            "      6        \u001b[36m0.6416\u001b[0m       0.7576        \u001b[35m0.7097\u001b[0m  0.0259\n",
            "      7        \u001b[36m0.6139\u001b[0m       0.7500        \u001b[35m0.7083\u001b[0m  0.0246\n",
            "      8        \u001b[36m0.5893\u001b[0m       0.7424        \u001b[35m0.7075\u001b[0m  0.0236\n",
            "      9        \u001b[36m0.5671\u001b[0m       0.7500        \u001b[35m0.7069\u001b[0m  0.0249\n",
            "     10        \u001b[36m0.5470\u001b[0m       0.7500        \u001b[35m0.7065\u001b[0m  0.0252\n",
            "     11        \u001b[36m0.5288\u001b[0m       0.7348        \u001b[35m0.7064\u001b[0m  0.0254\n",
            "     12        \u001b[36m0.5123\u001b[0m       0.7348        \u001b[35m0.7063\u001b[0m  0.0264\n",
            "     13        \u001b[36m0.4974\u001b[0m       0.7273        \u001b[35m0.7061\u001b[0m  0.0240\n",
            "     14        \u001b[36m0.4842\u001b[0m       0.7273        \u001b[35m0.7056\u001b[0m  0.0242\n",
            "     15        \u001b[36m0.4724\u001b[0m       0.7273        \u001b[35m0.7049\u001b[0m  0.0256\n",
            "     16        \u001b[36m0.4621\u001b[0m       0.7197        \u001b[35m0.7037\u001b[0m  0.0266\n",
            "     17        \u001b[36m0.4531\u001b[0m       0.7197        \u001b[35m0.7024\u001b[0m  0.0248\n",
            "     18        \u001b[36m0.4450\u001b[0m       0.7197        \u001b[35m0.7011\u001b[0m  0.0245\n",
            "     19        \u001b[36m0.4378\u001b[0m       0.7197        \u001b[35m0.6998\u001b[0m  0.0229\n",
            "     20        \u001b[36m0.4312\u001b[0m       0.7197        \u001b[35m0.6986\u001b[0m  0.0241\n",
            "     21        \u001b[36m0.4252\u001b[0m       0.7197        \u001b[35m0.6978\u001b[0m  0.0240\n",
            "     22        \u001b[36m0.4195\u001b[0m       0.7197        \u001b[35m0.6975\u001b[0m  0.0248\n",
            "     23        \u001b[36m0.4141\u001b[0m       0.7197        \u001b[35m0.6973\u001b[0m  0.0257\n",
            "     24        \u001b[36m0.4092\u001b[0m       0.7273        \u001b[35m0.6956\u001b[0m  0.0240\n",
            "     25        \u001b[36m0.4045\u001b[0m       0.7197        \u001b[35m0.6935\u001b[0m  0.0254\n",
            "     26        \u001b[36m0.4000\u001b[0m       0.7197        \u001b[35m0.6919\u001b[0m  0.0249\n",
            "     27        \u001b[36m0.3958\u001b[0m       0.7197        \u001b[35m0.6905\u001b[0m  0.0243\n",
            "     28        \u001b[36m0.3920\u001b[0m       0.7197        \u001b[35m0.6900\u001b[0m  0.0256\n",
            "     29        \u001b[36m0.3886\u001b[0m       0.7197        \u001b[35m0.6891\u001b[0m  0.0256\n",
            "     30        \u001b[36m0.3848\u001b[0m       0.7273        \u001b[35m0.6874\u001b[0m  0.0237\n",
            "     31        \u001b[36m0.3816\u001b[0m       0.7273        0.6877  0.0260\n",
            "     32        \u001b[36m0.3788\u001b[0m       0.7273        0.6897  0.0258\n",
            "     33        \u001b[36m0.3764\u001b[0m       0.7273        0.6902  0.0297\n",
            "     34        \u001b[36m0.3739\u001b[0m       0.7273        0.6904  0.0335\n",
            "     35        \u001b[36m0.3716\u001b[0m       0.7273        0.6905  0.0254\n",
            "     36        \u001b[36m0.3694\u001b[0m       0.7273        0.6905  0.0244\n",
            "     37        \u001b[36m0.3673\u001b[0m       0.7273        0.6903  0.0289\n",
            "     38        \u001b[36m0.3654\u001b[0m       0.7273        0.6901  0.0289\n",
            "     39        \u001b[36m0.3634\u001b[0m       0.7273        0.6894  0.0297\n",
            "     40        \u001b[36m0.3616\u001b[0m       0.7273        0.6890  0.0269\n",
            "     41        \u001b[36m0.3599\u001b[0m       0.7273        0.6882  0.0245\n",
            "     42        \u001b[36m0.3583\u001b[0m       0.7273        0.6891  0.0252\n",
            "     43        \u001b[36m0.3567\u001b[0m       0.7273        0.6882  0.0264\n",
            "     44        \u001b[36m0.3551\u001b[0m       0.7273        0.6884  0.0258\n",
            "     45        \u001b[36m0.3536\u001b[0m       0.7273        0.6886  0.0258\n",
            "     46        \u001b[36m0.3521\u001b[0m       0.7273        0.6884  0.0250\n",
            "     47        \u001b[36m0.3507\u001b[0m       0.7273        0.6884  0.0248\n",
            "     48        \u001b[36m0.3494\u001b[0m       0.7273        \u001b[35m0.6871\u001b[0m  0.0275\n",
            "     49        \u001b[36m0.3480\u001b[0m       0.7273        0.6874  0.0272\n",
            "     50        \u001b[36m0.3467\u001b[0m       0.7273        \u001b[35m0.6866\u001b[0m  0.0353\n",
            "     51        \u001b[36m0.3454\u001b[0m       0.7273        0.6870  0.0319\n",
            "     52        \u001b[36m0.3441\u001b[0m       0.7348        0.6871  0.0281\n",
            "     53        \u001b[36m0.3429\u001b[0m       0.7348        \u001b[35m0.6863\u001b[0m  0.0279\n",
            "     54        \u001b[36m0.3417\u001b[0m       0.7348        0.6867  0.0260\n",
            "     55        \u001b[36m0.3402\u001b[0m       0.7424        0.6866  0.0267\n",
            "     56        \u001b[36m0.3388\u001b[0m       0.7424        \u001b[35m0.6858\u001b[0m  0.0278\n",
            "     57        \u001b[36m0.3375\u001b[0m       0.7424        \u001b[35m0.6857\u001b[0m  0.0268\n",
            "     58        \u001b[36m0.3362\u001b[0m       0.7424        \u001b[35m0.6853\u001b[0m  0.0285\n",
            "     59        \u001b[36m0.3350\u001b[0m       0.7424        \u001b[35m0.6840\u001b[0m  0.0314\n",
            "     60        \u001b[36m0.3338\u001b[0m       0.7424        \u001b[35m0.6821\u001b[0m  0.0261\n",
            "     61        \u001b[36m0.3326\u001b[0m       0.7424        \u001b[35m0.6810\u001b[0m  0.0257\n",
            "     62        \u001b[36m0.3318\u001b[0m       0.7424        \u001b[35m0.6791\u001b[0m  0.0330\n",
            "     63        \u001b[36m0.3307\u001b[0m       0.7424        0.6793  0.0315\n",
            "     64        \u001b[36m0.3298\u001b[0m       0.7424        \u001b[35m0.6779\u001b[0m  0.0334\n",
            "     65        \u001b[36m0.3288\u001b[0m       0.7424        \u001b[35m0.6776\u001b[0m  0.0264\n",
            "     66        \u001b[36m0.3280\u001b[0m       0.7424        \u001b[35m0.6774\u001b[0m  0.0265\n",
            "     67        \u001b[36m0.3270\u001b[0m       0.7424        \u001b[35m0.6772\u001b[0m  0.0299\n",
            "     68        \u001b[36m0.3263\u001b[0m       0.7424        \u001b[35m0.6758\u001b[0m  0.0261\n",
            "     69        \u001b[36m0.3253\u001b[0m       0.7424        0.6764  0.0266\n",
            "     70        \u001b[36m0.3246\u001b[0m       0.7424        \u001b[35m0.6751\u001b[0m  0.0296\n",
            "     71        \u001b[36m0.3237\u001b[0m       0.7424        \u001b[35m0.6745\u001b[0m  0.0340\n",
            "     72        \u001b[36m0.3230\u001b[0m       0.7424        \u001b[35m0.6742\u001b[0m  0.0316\n",
            "     73        \u001b[36m0.3220\u001b[0m       0.7424        \u001b[35m0.6737\u001b[0m  0.0277\n",
            "     74        \u001b[36m0.3214\u001b[0m       0.7424        \u001b[35m0.6723\u001b[0m  0.0270\n",
            "     75        \u001b[36m0.3205\u001b[0m       0.7424        0.6725  0.0319\n",
            "     76        \u001b[36m0.3199\u001b[0m       0.7424        \u001b[35m0.6719\u001b[0m  0.0314\n",
            "     77        \u001b[36m0.3191\u001b[0m       0.7424        0.6724  0.0303\n",
            "     78        \u001b[36m0.3184\u001b[0m       0.7424        \u001b[35m0.6706\u001b[0m  0.0321\n",
            "     79        \u001b[36m0.3177\u001b[0m       0.7424        0.6714  0.0284\n",
            "     80        \u001b[36m0.3169\u001b[0m       0.7424        \u001b[35m0.6703\u001b[0m  0.0263\n",
            "     81        \u001b[36m0.3163\u001b[0m       0.7424        \u001b[35m0.6690\u001b[0m  0.0265\n",
            "     82        \u001b[36m0.3156\u001b[0m       0.7424        0.6699  0.0266\n",
            "     83        \u001b[36m0.3149\u001b[0m       0.7424        \u001b[35m0.6682\u001b[0m  0.0282\n",
            "     84        \u001b[36m0.3142\u001b[0m       0.7424        \u001b[35m0.6680\u001b[0m  0.0258\n",
            "     85        \u001b[36m0.3136\u001b[0m       0.7424        \u001b[35m0.6669\u001b[0m  0.0274\n",
            "     86        \u001b[36m0.3128\u001b[0m       0.7424        0.6671  0.0310\n",
            "     87        \u001b[36m0.3123\u001b[0m       0.7424        0.6670  0.0328\n",
            "     88        \u001b[36m0.3117\u001b[0m       0.7424        \u001b[35m0.6658\u001b[0m  0.0311\n",
            "     89        \u001b[36m0.3111\u001b[0m       0.7424        \u001b[35m0.6656\u001b[0m  0.0321\n",
            "     90        \u001b[36m0.3105\u001b[0m       0.7424        \u001b[35m0.6639\u001b[0m  0.0260\n",
            "     91        \u001b[36m0.3098\u001b[0m       0.7424        0.6642  0.0343\n",
            "     92        \u001b[36m0.3093\u001b[0m       0.7348        \u001b[35m0.6638\u001b[0m  0.0306\n",
            "     93        \u001b[36m0.3087\u001b[0m       0.7348        \u001b[35m0.6630\u001b[0m  0.0323\n",
            "     94        \u001b[36m0.3080\u001b[0m       0.7348        \u001b[35m0.6624\u001b[0m  0.0346\n",
            "     95        \u001b[36m0.3076\u001b[0m       0.7348        0.6627  0.0317\n",
            "     96        \u001b[36m0.3071\u001b[0m       0.7348        0.6629  0.0329\n",
            "     97        \u001b[36m0.3066\u001b[0m       0.7348        0.6632  0.0318\n",
            "     98        \u001b[36m0.3061\u001b[0m       0.7348        0.6633  0.0331\n",
            "     99        \u001b[36m0.3055\u001b[0m       0.7500        0.6632  0.0339\n",
            "    100        \u001b[36m0.3049\u001b[0m       0.7500        0.6628  0.0246\n",
            "  epoch    train_loss    valid_acc    valid_loss     dur\n",
            "-------  ------------  -----------  ------------  ------\n",
            "      1        \u001b[36m0.8516\u001b[0m       \u001b[32m0.8030\u001b[0m        \u001b[35m0.7187\u001b[0m  0.0232\n",
            "      2        \u001b[36m0.7377\u001b[0m       0.7955        \u001b[35m0.7003\u001b[0m  0.0245\n",
            "      3        \u001b[36m0.6929\u001b[0m       0.7879        \u001b[35m0.6967\u001b[0m  0.0251\n",
            "      4        \u001b[36m0.6589\u001b[0m       0.7879        \u001b[35m0.6919\u001b[0m  0.0249\n",
            "      5        \u001b[36m0.6330\u001b[0m       0.7955        0.6940  0.0234\n",
            "      6        \u001b[36m0.6091\u001b[0m       0.7879        0.6953  0.0246\n",
            "      7        \u001b[36m0.5883\u001b[0m       0.7727        0.6969  0.0237\n",
            "      8        \u001b[36m0.5695\u001b[0m       0.7576        0.6981  0.0262\n",
            "      9        \u001b[36m0.5530\u001b[0m       0.7500        0.6998  0.0221\n",
            "     10        \u001b[36m0.5381\u001b[0m       0.7500        0.7031  0.0247\n",
            "     11        \u001b[36m0.5243\u001b[0m       0.7576        0.7059  0.0238\n",
            "     12        \u001b[36m0.5119\u001b[0m       0.7348        0.7100  0.0256\n",
            "     13        \u001b[36m0.5006\u001b[0m       0.7273        0.7132  0.0246\n",
            "     14        \u001b[36m0.4901\u001b[0m       0.7273        0.7159  0.0240\n",
            "     15        \u001b[36m0.4808\u001b[0m       0.7273        0.7192  0.0254\n",
            "     16        \u001b[36m0.4723\u001b[0m       0.7273        0.7223  0.0246\n",
            "     17        \u001b[36m0.4644\u001b[0m       0.7197        0.7254  0.0289\n",
            "     18        \u001b[36m0.4571\u001b[0m       0.7197        0.7286  0.0262\n",
            "     19        \u001b[36m0.4505\u001b[0m       0.7197        0.7317  0.0244\n",
            "     20        \u001b[36m0.4443\u001b[0m       0.7121        0.7342  0.0247\n",
            "     21        \u001b[36m0.4386\u001b[0m       0.7121        0.7361  0.0243\n",
            "     22        \u001b[36m0.4335\u001b[0m       0.7197        0.7379  0.0260\n",
            "     23        \u001b[36m0.4287\u001b[0m       0.7197        0.7393  0.0257\n",
            "     24        \u001b[36m0.4243\u001b[0m       0.7197        0.7405  0.0322\n",
            "     25        \u001b[36m0.4203\u001b[0m       0.7197        0.7415  0.0331\n",
            "     26        \u001b[36m0.4165\u001b[0m       0.7197        0.7424  0.0308\n",
            "     27        \u001b[36m0.4130\u001b[0m       0.7197        0.7427  0.0317\n",
            "     28        \u001b[36m0.4096\u001b[0m       0.7197        0.7429  0.0305\n",
            "     29        \u001b[36m0.4064\u001b[0m       0.7197        0.7432  0.0319\n",
            "     30        \u001b[36m0.4035\u001b[0m       0.7197        0.7433  0.0311\n",
            "     31        \u001b[36m0.4006\u001b[0m       0.7197        0.7433  0.0260\n",
            "     32        \u001b[36m0.3979\u001b[0m       0.7197        0.7430  0.0311\n",
            "     33        \u001b[36m0.3952\u001b[0m       0.7197        0.7426  0.0325\n",
            "     34        \u001b[36m0.3927\u001b[0m       0.7197        0.7422  0.0344\n",
            "     35        \u001b[36m0.3902\u001b[0m       0.7197        0.7417  0.0315\n",
            "     36        \u001b[36m0.3877\u001b[0m       0.7197        0.7411  0.0326\n",
            "     37        \u001b[36m0.3855\u001b[0m       0.7197        0.7405  0.0318\n",
            "     38        \u001b[36m0.3833\u001b[0m       0.7197        0.7396  0.0325\n",
            "     39        \u001b[36m0.3811\u001b[0m       0.7197        0.7389  0.0321\n",
            "     40        \u001b[36m0.3791\u001b[0m       0.7197        0.7382  0.0278\n",
            "     41        \u001b[36m0.3771\u001b[0m       0.7197        0.7374  0.0305\n",
            "     42        \u001b[36m0.3753\u001b[0m       0.7197        0.7365  0.0303\n",
            "     43        \u001b[36m0.3734\u001b[0m       0.7197        0.7357  0.0286\n",
            "     44        \u001b[36m0.3716\u001b[0m       0.7197        0.7348  0.0300\n",
            "     45        \u001b[36m0.3698\u001b[0m       0.7121        0.7339  0.0275\n",
            "     46        \u001b[36m0.3681\u001b[0m       0.7121        0.7332  0.0271\n",
            "     47        \u001b[36m0.3664\u001b[0m       0.7121        0.7325  0.0285\n",
            "     48        \u001b[36m0.3647\u001b[0m       0.7121        0.7316  0.0280\n",
            "     49        \u001b[36m0.3630\u001b[0m       0.7121        0.7303  0.0314\n",
            "     50        \u001b[36m0.3614\u001b[0m       0.7197        0.7279  0.0310\n",
            "     51        \u001b[36m0.3598\u001b[0m       0.7197        0.7252  0.0314\n",
            "     52        \u001b[36m0.3583\u001b[0m       0.7197        0.7226  0.0326\n",
            "     53        \u001b[36m0.3568\u001b[0m       0.7197        0.7198  0.0328\n",
            "     54        \u001b[36m0.3554\u001b[0m       0.7197        0.7178  0.0307\n",
            "     55        \u001b[36m0.3540\u001b[0m       0.7197        0.7162  0.0305\n",
            "     56        \u001b[36m0.3528\u001b[0m       0.7197        0.7162  0.0293\n",
            "     57        \u001b[36m0.3515\u001b[0m       0.7197        0.7144  0.0265\n",
            "     58        \u001b[36m0.3503\u001b[0m       0.7197        0.7149  0.0248\n",
            "     59        \u001b[36m0.3491\u001b[0m       0.7197        0.7127  0.0260\n",
            "     60        \u001b[36m0.3477\u001b[0m       0.7197        0.7126  0.0260\n",
            "     61        \u001b[36m0.3463\u001b[0m       0.7197        0.7119  0.0273\n",
            "     62        \u001b[36m0.3450\u001b[0m       0.7197        0.7096  0.0271\n",
            "     63        \u001b[36m0.3437\u001b[0m       0.7197        0.7084  0.0303\n",
            "     64        \u001b[36m0.3425\u001b[0m       0.7197        0.7041  0.0311\n",
            "     65        \u001b[36m0.3414\u001b[0m       0.7197        0.7023  0.0336\n",
            "     66        \u001b[36m0.3403\u001b[0m       0.7197        0.6985  0.0285\n",
            "     67        \u001b[36m0.3393\u001b[0m       0.7197        0.6967  0.0333\n",
            "     68        \u001b[36m0.3383\u001b[0m       0.7197        0.6930  0.0329\n",
            "     69        \u001b[36m0.3373\u001b[0m       0.7197        0.6937  0.0311\n",
            "     70        \u001b[36m0.3364\u001b[0m       0.7197        0.6930  0.0265\n",
            "     71        \u001b[36m0.3355\u001b[0m       0.7197        0.6920  0.0312\n",
            "     72        \u001b[36m0.3346\u001b[0m       0.7273        \u001b[35m0.6912\u001b[0m  0.0328\n",
            "     73        \u001b[36m0.3338\u001b[0m       0.7273        0.6913  0.0334\n",
            "     74        \u001b[36m0.3329\u001b[0m       0.7273        \u001b[35m0.6886\u001b[0m  0.0247\n",
            "     75        \u001b[36m0.3321\u001b[0m       0.7273        \u001b[35m0.6867\u001b[0m  0.0327\n",
            "     76        \u001b[36m0.3312\u001b[0m       0.7273        \u001b[35m0.6846\u001b[0m  0.0315\n",
            "     77        \u001b[36m0.3304\u001b[0m       0.7273        \u001b[35m0.6831\u001b[0m  0.0277\n",
            "     78        \u001b[36m0.3296\u001b[0m       0.7273        \u001b[35m0.6817\u001b[0m  0.0283\n",
            "     79        \u001b[36m0.3288\u001b[0m       0.7273        \u001b[35m0.6808\u001b[0m  0.0261\n",
            "     80        \u001b[36m0.3280\u001b[0m       0.7273        \u001b[35m0.6800\u001b[0m  0.0275\n",
            "     81        \u001b[36m0.3273\u001b[0m       0.7273        \u001b[35m0.6791\u001b[0m  0.0269\n",
            "     82        \u001b[36m0.3265\u001b[0m       0.7273        \u001b[35m0.6785\u001b[0m  0.0291\n",
            "     83        \u001b[36m0.3258\u001b[0m       0.7273        \u001b[35m0.6777\u001b[0m  0.0276\n",
            "     84        \u001b[36m0.3250\u001b[0m       0.7273        \u001b[35m0.6770\u001b[0m  0.0304\n",
            "     85        \u001b[36m0.3243\u001b[0m       0.7273        \u001b[35m0.6764\u001b[0m  0.0257\n",
            "     86        \u001b[36m0.3236\u001b[0m       0.7273        \u001b[35m0.6758\u001b[0m  0.0310\n",
            "     87        \u001b[36m0.3229\u001b[0m       0.7273        \u001b[35m0.6754\u001b[0m  0.0307\n",
            "     88        \u001b[36m0.3221\u001b[0m       0.7273        \u001b[35m0.6749\u001b[0m  0.0308\n",
            "     89        \u001b[36m0.3214\u001b[0m       0.7273        0.6750  0.0307\n",
            "     90        \u001b[36m0.3207\u001b[0m       0.7273        \u001b[35m0.6747\u001b[0m  0.0330\n",
            "     91        \u001b[36m0.3201\u001b[0m       0.7273        \u001b[35m0.6742\u001b[0m  0.0314\n",
            "     92        \u001b[36m0.3194\u001b[0m       0.7273        \u001b[35m0.6734\u001b[0m  0.0346\n",
            "     93        \u001b[36m0.3187\u001b[0m       0.7273        \u001b[35m0.6728\u001b[0m  0.0301\n",
            "     94        \u001b[36m0.3180\u001b[0m       0.7273        \u001b[35m0.6725\u001b[0m  0.0315\n",
            "     95        \u001b[36m0.3174\u001b[0m       0.7273        \u001b[35m0.6720\u001b[0m  0.0307\n",
            "     96        \u001b[36m0.3167\u001b[0m       0.7273        \u001b[35m0.6717\u001b[0m  0.0316\n",
            "     97        \u001b[36m0.3161\u001b[0m       0.7348        \u001b[35m0.6715\u001b[0m  0.0296\n",
            "     98        \u001b[36m0.3155\u001b[0m       0.7348        \u001b[35m0.6712\u001b[0m  0.0317\n",
            "     99        \u001b[36m0.3148\u001b[0m       0.7348        \u001b[35m0.6709\u001b[0m  0.0240\n",
            "    100        \u001b[36m0.3142\u001b[0m       0.7424        \u001b[35m0.6704\u001b[0m  0.0254\n",
            "  epoch    train_loss    valid_acc    valid_loss     dur\n",
            "-------  ------------  -----------  ------------  ------\n",
            "      1        \u001b[36m0.8795\u001b[0m       \u001b[32m0.8182\u001b[0m        \u001b[35m0.7256\u001b[0m  0.0235\n",
            "      2        \u001b[36m0.7746\u001b[0m       0.8182        \u001b[35m0.7068\u001b[0m  0.0240\n",
            "      3        \u001b[36m0.7245\u001b[0m       0.8030        \u001b[35m0.6900\u001b[0m  0.0242\n",
            "      4        \u001b[36m0.6865\u001b[0m       0.7955        \u001b[35m0.6752\u001b[0m  0.0277\n",
            "      5        \u001b[36m0.6536\u001b[0m       0.8030        \u001b[35m0.6638\u001b[0m  0.0247\n",
            "      6        \u001b[36m0.6298\u001b[0m       0.7955        \u001b[35m0.6552\u001b[0m  0.0295\n",
            "      7        \u001b[36m0.6106\u001b[0m       0.8030        \u001b[35m0.6461\u001b[0m  0.0296\n",
            "      8        \u001b[36m0.5900\u001b[0m       0.8030        \u001b[35m0.6369\u001b[0m  0.0251\n",
            "      9        \u001b[36m0.5732\u001b[0m       0.7955        \u001b[35m0.6282\u001b[0m  0.0358\n",
            "     10        \u001b[36m0.5563\u001b[0m       0.7879        \u001b[35m0.6201\u001b[0m  0.0341\n",
            "     11        \u001b[36m0.5363\u001b[0m       0.8030        \u001b[35m0.6125\u001b[0m  0.0351\n",
            "     12        \u001b[36m0.5191\u001b[0m       0.7955        \u001b[35m0.6047\u001b[0m  0.0340\n",
            "     13        \u001b[36m0.5035\u001b[0m       0.7955        \u001b[35m0.5984\u001b[0m  0.0314\n",
            "     14        \u001b[36m0.4893\u001b[0m       0.7955        \u001b[35m0.5919\u001b[0m  0.0338\n",
            "     15        \u001b[36m0.4758\u001b[0m       0.7955        \u001b[35m0.5867\u001b[0m  0.0370\n",
            "     16        \u001b[36m0.4633\u001b[0m       0.7955        \u001b[35m0.5832\u001b[0m  0.0343\n",
            "     17        \u001b[36m0.4519\u001b[0m       0.7955        \u001b[35m0.5800\u001b[0m  0.0332\n",
            "     18        \u001b[36m0.4414\u001b[0m       0.7955        \u001b[35m0.5776\u001b[0m  0.0314\n",
            "     19        \u001b[36m0.4313\u001b[0m       0.7955        \u001b[35m0.5756\u001b[0m  0.0300\n",
            "     20        \u001b[36m0.4220\u001b[0m       0.7879        \u001b[35m0.5739\u001b[0m  0.0331\n",
            "     21        \u001b[36m0.4131\u001b[0m       0.7879        \u001b[35m0.5727\u001b[0m  0.0299\n",
            "     22        \u001b[36m0.4049\u001b[0m       0.7879        \u001b[35m0.5718\u001b[0m  0.0298\n",
            "     23        \u001b[36m0.3976\u001b[0m       0.7879        \u001b[35m0.5715\u001b[0m  0.0302\n",
            "     24        \u001b[36m0.3904\u001b[0m       0.7879        \u001b[35m0.5715\u001b[0m  0.0300\n",
            "     25        \u001b[36m0.3838\u001b[0m       0.7879        0.5716  0.0323\n",
            "     26        \u001b[36m0.3778\u001b[0m       0.7879        0.5720  0.0320\n",
            "     27        \u001b[36m0.3723\u001b[0m       0.7955        0.5727  0.0304\n",
            "     28        \u001b[36m0.3673\u001b[0m       0.7955        0.5734  0.0284\n",
            "     29        \u001b[36m0.3626\u001b[0m       0.7955        0.5741  0.0294\n",
            "     30        \u001b[36m0.3582\u001b[0m       0.7955        0.5748  0.0343\n",
            "     31        \u001b[36m0.3541\u001b[0m       0.7955        0.5755  0.0328\n",
            "     32        \u001b[36m0.3504\u001b[0m       0.7955        0.5765  0.0315\n",
            "     33        \u001b[36m0.3468\u001b[0m       0.7955        0.5773  0.0327\n",
            "     34        \u001b[36m0.3435\u001b[0m       0.7955        0.5781  0.0309\n",
            "     35        \u001b[36m0.3403\u001b[0m       0.7955        0.5790  0.0329\n",
            "     36        \u001b[36m0.3373\u001b[0m       0.7955        0.5799  0.0309\n",
            "     37        \u001b[36m0.3345\u001b[0m       0.7955        0.5809  0.0341\n",
            "     38        \u001b[36m0.3317\u001b[0m       0.7879        0.5819  0.0319\n",
            "     39        \u001b[36m0.3291\u001b[0m       0.7879        0.5828  0.0317\n",
            "     40        \u001b[36m0.3266\u001b[0m       0.7879        0.5840  0.0316\n",
            "     41        \u001b[36m0.3241\u001b[0m       0.7879        0.5851  0.0315\n",
            "     42        \u001b[36m0.3217\u001b[0m       0.7879        0.5861  0.0335\n",
            "     43        \u001b[36m0.3194\u001b[0m       0.7879        0.5871  0.0312\n",
            "     44        \u001b[36m0.3173\u001b[0m       0.7879        0.5882  0.0269\n",
            "     45        \u001b[36m0.3151\u001b[0m       0.7879        0.5893  0.0278\n",
            "     46        \u001b[36m0.3130\u001b[0m       0.7879        0.5903  0.0270\n",
            "     47        \u001b[36m0.3111\u001b[0m       0.7955        0.5915  0.0277\n",
            "     48        \u001b[36m0.3091\u001b[0m       0.7955        0.5926  0.0254\n",
            "     49        \u001b[36m0.3073\u001b[0m       0.8030        0.5936  0.0278\n",
            "     50        \u001b[36m0.3056\u001b[0m       0.8030        0.5947  0.0267\n",
            "     51        \u001b[36m0.3039\u001b[0m       0.7955        0.5956  0.0325\n",
            "     52        \u001b[36m0.3024\u001b[0m       0.7955        0.5967  0.0327\n",
            "     53        \u001b[36m0.3009\u001b[0m       0.7955        0.5976  0.0310\n",
            "     54        \u001b[36m0.2995\u001b[0m       0.7955        0.5984  0.0314\n",
            "     55        \u001b[36m0.2983\u001b[0m       0.7955        0.5994  0.0343\n",
            "     56        \u001b[36m0.2970\u001b[0m       0.7955        0.6003  0.0350\n",
            "     57        \u001b[36m0.2959\u001b[0m       0.7955        0.6012  0.0326\n",
            "     58        \u001b[36m0.2947\u001b[0m       0.7955        0.6021  0.0320\n",
            "     59        \u001b[36m0.2936\u001b[0m       0.7955        0.6030  0.0341\n",
            "     60        \u001b[36m0.2926\u001b[0m       0.7955        0.6039  0.0322\n",
            "     61        \u001b[36m0.2916\u001b[0m       0.7803        0.6048  0.0301\n",
            "     62        \u001b[36m0.2906\u001b[0m       0.7803        0.6056  0.0266\n",
            "     63        \u001b[36m0.2896\u001b[0m       0.7803        0.6065  0.0284\n",
            "     64        \u001b[36m0.2887\u001b[0m       0.7803        0.6075  0.0281\n",
            "     65        \u001b[36m0.2878\u001b[0m       0.7803        0.6084  0.0315\n",
            "     66        \u001b[36m0.2869\u001b[0m       0.7803        0.6093  0.0313\n",
            "     67        \u001b[36m0.2860\u001b[0m       0.7803        0.6102  0.0298\n",
            "     68        \u001b[36m0.2851\u001b[0m       0.7803        0.6111  0.0277\n",
            "     69        \u001b[36m0.2843\u001b[0m       0.7879        0.6120  0.0330\n",
            "     70        \u001b[36m0.2835\u001b[0m       0.7879        0.6130  0.0324\n",
            "     71        \u001b[36m0.2826\u001b[0m       0.7879        0.6140  0.0323\n",
            "     72        \u001b[36m0.2818\u001b[0m       0.7879        0.6149  0.0338\n",
            "     73        \u001b[36m0.2811\u001b[0m       0.7879        0.6159  0.0344\n",
            "     74        \u001b[36m0.2803\u001b[0m       0.7879        0.6168  0.0318\n",
            "     75        \u001b[36m0.2795\u001b[0m       0.7879        0.6178  0.0327\n",
            "     76        \u001b[36m0.2788\u001b[0m       0.7879        0.6187  0.0307\n",
            "     77        \u001b[36m0.2781\u001b[0m       0.7879        0.6196  0.0318\n",
            "     78        \u001b[36m0.2773\u001b[0m       0.7879        0.6205  0.0320\n",
            "     79        \u001b[36m0.2766\u001b[0m       0.7879        0.6216  0.0309\n",
            "     80        \u001b[36m0.2759\u001b[0m       0.7879        0.6224  0.0318\n",
            "     81        \u001b[36m0.2752\u001b[0m       0.7879        0.6234  0.0311\n",
            "     82        \u001b[36m0.2745\u001b[0m       0.7879        0.6244  0.0331\n",
            "     83        \u001b[36m0.2739\u001b[0m       0.7879        0.6251  0.0318\n",
            "     84        \u001b[36m0.2732\u001b[0m       0.7879        0.6261  0.0326\n",
            "     85        \u001b[36m0.2726\u001b[0m       0.7803        0.6272  0.0278\n",
            "     86        \u001b[36m0.2719\u001b[0m       0.7803        0.6279  0.0250\n",
            "     87        \u001b[36m0.2713\u001b[0m       0.7803        0.6288  0.0246\n",
            "     88        \u001b[36m0.2707\u001b[0m       0.7727        0.6299  0.0248\n",
            "     89        \u001b[36m0.2700\u001b[0m       0.7652        0.6307  0.0255\n",
            "     90        \u001b[36m0.2694\u001b[0m       0.7727        0.6317  0.0247\n",
            "     91        \u001b[36m0.2688\u001b[0m       0.7727        0.6325  0.0275\n",
            "     92        \u001b[36m0.2682\u001b[0m       0.7727        0.6334  0.0312\n",
            "     93        \u001b[36m0.2677\u001b[0m       0.7727        0.6345  0.0256\n",
            "     94        \u001b[36m0.2671\u001b[0m       0.7727        0.6354  0.0286\n",
            "     95        \u001b[36m0.2665\u001b[0m       0.7727        0.6363  0.0231\n",
            "     96        \u001b[36m0.2659\u001b[0m       0.7727        0.6372  0.0250\n",
            "     97        \u001b[36m0.2654\u001b[0m       0.7727        0.6379  0.0248\n",
            "     98        \u001b[36m0.2648\u001b[0m       0.7727        0.6389  0.0245\n",
            "     99        \u001b[36m0.2643\u001b[0m       0.7727        0.6398  0.0260\n",
            "    100        \u001b[36m0.2637\u001b[0m       0.7727        0.6406  0.0263\n",
            "  epoch    train_loss    valid_acc    valid_loss     dur\n",
            "-------  ------------  -----------  ------------  ------\n",
            "      1        \u001b[36m0.8857\u001b[0m       \u001b[32m0.8030\u001b[0m        \u001b[35m0.7252\u001b[0m  0.0255\n",
            "      2        \u001b[36m0.7889\u001b[0m       0.7955        \u001b[35m0.7038\u001b[0m  0.0245\n",
            "      3        \u001b[36m0.7406\u001b[0m       0.7803        \u001b[35m0.6861\u001b[0m  0.0251\n",
            "      4        \u001b[36m0.7013\u001b[0m       0.7879        \u001b[35m0.6716\u001b[0m  0.0292\n",
            "      5        \u001b[36m0.6680\u001b[0m       0.7879        \u001b[35m0.6597\u001b[0m  0.0316\n",
            "      6        \u001b[36m0.6398\u001b[0m       0.7879        \u001b[35m0.6499\u001b[0m  0.0295\n",
            "      7        \u001b[36m0.6155\u001b[0m       0.8030        \u001b[35m0.6416\u001b[0m  0.0309\n",
            "      8        \u001b[36m0.5945\u001b[0m       0.8030        \u001b[35m0.6345\u001b[0m  0.0285\n",
            "      9        \u001b[36m0.5759\u001b[0m       0.7955        \u001b[35m0.6285\u001b[0m  0.0285\n",
            "     10        \u001b[36m0.5593\u001b[0m       0.7879        \u001b[35m0.6233\u001b[0m  0.0324\n",
            "     11        \u001b[36m0.5443\u001b[0m       0.7879        \u001b[35m0.6187\u001b[0m  0.0313\n",
            "     12        \u001b[36m0.5307\u001b[0m       0.7879        \u001b[35m0.6146\u001b[0m  0.0318\n",
            "     13        \u001b[36m0.5182\u001b[0m       0.7879        \u001b[35m0.6110\u001b[0m  0.0324\n",
            "     14        \u001b[36m0.5065\u001b[0m       0.7803        \u001b[35m0.6077\u001b[0m  0.0336\n",
            "     15        \u001b[36m0.4957\u001b[0m       0.7879        \u001b[35m0.6048\u001b[0m  0.0337\n",
            "     16        \u001b[36m0.4857\u001b[0m       0.7955        \u001b[35m0.6021\u001b[0m  0.0339\n",
            "     17        \u001b[36m0.4762\u001b[0m       0.7879        \u001b[35m0.5997\u001b[0m  0.0326\n",
            "     18        \u001b[36m0.4673\u001b[0m       0.7879        \u001b[35m0.5976\u001b[0m  0.0299\n",
            "     19        \u001b[36m0.4589\u001b[0m       0.7879        \u001b[35m0.5955\u001b[0m  0.0256\n",
            "     20        \u001b[36m0.4507\u001b[0m       0.7879        \u001b[35m0.5937\u001b[0m  0.0307\n",
            "     21        \u001b[36m0.4430\u001b[0m       0.7879        \u001b[35m0.5915\u001b[0m  0.0261\n",
            "     22        \u001b[36m0.4356\u001b[0m       0.7879        \u001b[35m0.5894\u001b[0m  0.0263\n",
            "     23        \u001b[36m0.4287\u001b[0m       0.7803        \u001b[35m0.5864\u001b[0m  0.0343\n",
            "     24        \u001b[36m0.4218\u001b[0m       0.7803        \u001b[35m0.5820\u001b[0m  0.0316\n",
            "     25        \u001b[36m0.4147\u001b[0m       0.7803        \u001b[35m0.5783\u001b[0m  0.0300\n",
            "     26        \u001b[36m0.4080\u001b[0m       0.7803        \u001b[35m0.5761\u001b[0m  0.0292\n",
            "     27        \u001b[36m0.4024\u001b[0m       0.7803        \u001b[35m0.5750\u001b[0m  0.0316\n",
            "     28        \u001b[36m0.3972\u001b[0m       0.7803        \u001b[35m0.5739\u001b[0m  0.0325\n",
            "     29        \u001b[36m0.3921\u001b[0m       0.7803        \u001b[35m0.5726\u001b[0m  0.0307\n",
            "     30        \u001b[36m0.3868\u001b[0m       0.7803        \u001b[35m0.5687\u001b[0m  0.0281\n",
            "     31        \u001b[36m0.3818\u001b[0m       0.7803        \u001b[35m0.5655\u001b[0m  0.0266\n",
            "     32        \u001b[36m0.3760\u001b[0m       0.7803        \u001b[35m0.5639\u001b[0m  0.0258\n",
            "     33        \u001b[36m0.3707\u001b[0m       0.7803        \u001b[35m0.5626\u001b[0m  0.0269\n",
            "     34        \u001b[36m0.3657\u001b[0m       0.7803        \u001b[35m0.5602\u001b[0m  0.0247\n",
            "     35        \u001b[36m0.3616\u001b[0m       0.7727        \u001b[35m0.5579\u001b[0m  0.0267\n",
            "     36        \u001b[36m0.3578\u001b[0m       0.7727        \u001b[35m0.5549\u001b[0m  0.0283\n",
            "     37        \u001b[36m0.3543\u001b[0m       0.7727        \u001b[35m0.5518\u001b[0m  0.0260\n",
            "     38        \u001b[36m0.3512\u001b[0m       0.7803        \u001b[35m0.5494\u001b[0m  0.0249\n",
            "     39        \u001b[36m0.3486\u001b[0m       0.7803        \u001b[35m0.5471\u001b[0m  0.0260\n",
            "     40        \u001b[36m0.3461\u001b[0m       0.7803        \u001b[35m0.5461\u001b[0m  0.0271\n",
            "     41        \u001b[36m0.3439\u001b[0m       0.7803        \u001b[35m0.5448\u001b[0m  0.0269\n",
            "     42        \u001b[36m0.3419\u001b[0m       0.7803        \u001b[35m0.5439\u001b[0m  0.0265\n",
            "     43        \u001b[36m0.3399\u001b[0m       0.7803        \u001b[35m0.5430\u001b[0m  0.0266\n",
            "     44        \u001b[36m0.3381\u001b[0m       0.7803        \u001b[35m0.5421\u001b[0m  0.0266\n",
            "     45        \u001b[36m0.3364\u001b[0m       0.7803        \u001b[35m0.5414\u001b[0m  0.0264\n",
            "     46        \u001b[36m0.3347\u001b[0m       0.7803        \u001b[35m0.5408\u001b[0m  0.0262\n",
            "     47        \u001b[36m0.3331\u001b[0m       0.7803        \u001b[35m0.5400\u001b[0m  0.0285\n",
            "     48        \u001b[36m0.3315\u001b[0m       0.7803        \u001b[35m0.5393\u001b[0m  0.0336\n",
            "     49        \u001b[36m0.3300\u001b[0m       0.7803        0.5393  0.0286\n",
            "     50        \u001b[36m0.3285\u001b[0m       0.7803        \u001b[35m0.5382\u001b[0m  0.0264\n",
            "     51        \u001b[36m0.3271\u001b[0m       0.7803        \u001b[35m0.5375\u001b[0m  0.0263\n",
            "     52        \u001b[36m0.3257\u001b[0m       0.7803        \u001b[35m0.5370\u001b[0m  0.0263\n",
            "     53        \u001b[36m0.3244\u001b[0m       0.7803        \u001b[35m0.5368\u001b[0m  0.0257\n",
            "     54        \u001b[36m0.3230\u001b[0m       0.7803        \u001b[35m0.5362\u001b[0m  0.0336\n",
            "     55        \u001b[36m0.3218\u001b[0m       0.7803        \u001b[35m0.5359\u001b[0m  0.0333\n",
            "     56        \u001b[36m0.3205\u001b[0m       0.7803        \u001b[35m0.5354\u001b[0m  0.0298\n",
            "     57        \u001b[36m0.3194\u001b[0m       0.7803        \u001b[35m0.5351\u001b[0m  0.0260\n",
            "     58        \u001b[36m0.3182\u001b[0m       0.7727        \u001b[35m0.5346\u001b[0m  0.0266\n",
            "     59        \u001b[36m0.3170\u001b[0m       0.7879        \u001b[35m0.5341\u001b[0m  0.0267\n",
            "     60        \u001b[36m0.3159\u001b[0m       0.7879        \u001b[35m0.5340\u001b[0m  0.0251\n",
            "     61        \u001b[36m0.3148\u001b[0m       0.7955        \u001b[35m0.5336\u001b[0m  0.0278\n",
            "     62        \u001b[36m0.3138\u001b[0m       0.8030        \u001b[35m0.5335\u001b[0m  0.0312\n",
            "     63        \u001b[36m0.3127\u001b[0m       0.8030        \u001b[35m0.5330\u001b[0m  0.0324\n",
            "     64        \u001b[36m0.3117\u001b[0m       0.8030        \u001b[35m0.5326\u001b[0m  0.0317\n",
            "     65        \u001b[36m0.3107\u001b[0m       0.8030        \u001b[35m0.5326\u001b[0m  0.0321\n",
            "     66        \u001b[36m0.3097\u001b[0m       0.8030        \u001b[35m0.5322\u001b[0m  0.0321\n",
            "     67        \u001b[36m0.3089\u001b[0m       0.8030        \u001b[35m0.5321\u001b[0m  0.0331\n",
            "     68        \u001b[36m0.3079\u001b[0m       0.8030        \u001b[35m0.5318\u001b[0m  0.0334\n",
            "     69        \u001b[36m0.3071\u001b[0m       0.8030        \u001b[35m0.5317\u001b[0m  0.0292\n",
            "     70        \u001b[36m0.3062\u001b[0m       0.7955        \u001b[35m0.5315\u001b[0m  0.0260\n",
            "     71        \u001b[36m0.3054\u001b[0m       0.8030        \u001b[35m0.5315\u001b[0m  0.0266\n",
            "     72        \u001b[36m0.3045\u001b[0m       0.8030        \u001b[35m0.5311\u001b[0m  0.0275\n",
            "     73        \u001b[36m0.3037\u001b[0m       0.8030        \u001b[35m0.5311\u001b[0m  0.0307\n",
            "     74        \u001b[36m0.3030\u001b[0m       0.8030        \u001b[35m0.5310\u001b[0m  0.0306\n",
            "     75        \u001b[36m0.3022\u001b[0m       0.8030        \u001b[35m0.5307\u001b[0m  0.0283\n",
            "     76        \u001b[36m0.3014\u001b[0m       0.7955        \u001b[35m0.5306\u001b[0m  0.0274\n",
            "     77        \u001b[36m0.3007\u001b[0m       0.7955        \u001b[35m0.5306\u001b[0m  0.0332\n",
            "     78        \u001b[36m0.2999\u001b[0m       0.7955        \u001b[35m0.5304\u001b[0m  0.0311\n",
            "     79        \u001b[36m0.2993\u001b[0m       0.7803        \u001b[35m0.5303\u001b[0m  0.0314\n",
            "     80        \u001b[36m0.2985\u001b[0m       0.7803        \u001b[35m0.5303\u001b[0m  0.0306\n",
            "     81        \u001b[36m0.2978\u001b[0m       0.7803        \u001b[35m0.5302\u001b[0m  0.0272\n",
            "     82        \u001b[36m0.2971\u001b[0m       0.7803        \u001b[35m0.5300\u001b[0m  0.0277\n",
            "     83        \u001b[36m0.2965\u001b[0m       0.7803        0.5300  0.0252\n",
            "     84        \u001b[36m0.2958\u001b[0m       0.7803        \u001b[35m0.5297\u001b[0m  0.0259\n",
            "     85        \u001b[36m0.2952\u001b[0m       0.7727        0.5299  0.0266\n",
            "     86        \u001b[36m0.2945\u001b[0m       0.7727        0.5299  0.0275\n",
            "     87        \u001b[36m0.2939\u001b[0m       0.7727        0.5297  0.0298\n",
            "     88        \u001b[36m0.2933\u001b[0m       0.7727        0.5298  0.0329\n",
            "     89        \u001b[36m0.2927\u001b[0m       0.7727        0.5298  0.0244\n",
            "     90        \u001b[36m0.2920\u001b[0m       0.7727        \u001b[35m0.5297\u001b[0m  0.0252\n",
            "     91        \u001b[36m0.2915\u001b[0m       0.7727        0.5297  0.0284\n",
            "     92        \u001b[36m0.2909\u001b[0m       0.7727        0.5299  0.0238\n",
            "     93        \u001b[36m0.2903\u001b[0m       0.7727        0.5297  0.0245\n",
            "     94        \u001b[36m0.2898\u001b[0m       0.7727        0.5299  0.0246\n",
            "     95        \u001b[36m0.2892\u001b[0m       0.7727        0.5299  0.0263\n",
            "     96        \u001b[36m0.2886\u001b[0m       0.7727        0.5299  0.0253\n",
            "     97        \u001b[36m0.2881\u001b[0m       0.7803        0.5301  0.0300\n",
            "     98        \u001b[36m0.2875\u001b[0m       0.7803        0.5300  0.0259\n",
            "     99        \u001b[36m0.2870\u001b[0m       0.7803        0.5300  0.0280\n",
            "    100        \u001b[36m0.2865\u001b[0m       0.7803        0.5303  0.0291\n",
            "  epoch    train_loss    valid_acc    valid_loss     dur\n",
            "-------  ------------  -----------  ------------  ------\n",
            "      1        \u001b[36m0.8839\u001b[0m       \u001b[32m0.8182\u001b[0m        \u001b[35m0.7104\u001b[0m  0.0245\n",
            "      2        \u001b[36m0.7985\u001b[0m       0.8182        \u001b[35m0.6932\u001b[0m  0.0250\n",
            "      3        \u001b[36m0.7225\u001b[0m       0.7879        \u001b[35m0.6795\u001b[0m  0.0250\n",
            "      4        \u001b[36m0.6671\u001b[0m       0.7879        \u001b[35m0.6705\u001b[0m  0.0250\n",
            "      5        \u001b[36m0.6309\u001b[0m       0.7955        \u001b[35m0.6634\u001b[0m  0.0262\n",
            "      6        \u001b[36m0.5991\u001b[0m       0.7879        \u001b[35m0.6574\u001b[0m  0.0275\n",
            "      7        \u001b[36m0.5717\u001b[0m       0.7879        \u001b[35m0.6522\u001b[0m  0.0314\n",
            "      8        \u001b[36m0.5471\u001b[0m       0.7879        \u001b[35m0.6478\u001b[0m  0.0274\n",
            "      9        \u001b[36m0.5251\u001b[0m       0.7803        \u001b[35m0.6439\u001b[0m  0.0346\n",
            "     10        \u001b[36m0.5051\u001b[0m       0.7955        \u001b[35m0.6405\u001b[0m  0.0328\n",
            "     11        \u001b[36m0.4870\u001b[0m       0.8030        \u001b[35m0.6373\u001b[0m  0.0340\n",
            "     12        \u001b[36m0.4704\u001b[0m       0.7879        \u001b[35m0.6340\u001b[0m  0.0329\n",
            "     13        \u001b[36m0.4563\u001b[0m       0.7879        \u001b[35m0.6319\u001b[0m  0.0315\n",
            "     14        \u001b[36m0.4417\u001b[0m       0.7879        \u001b[35m0.6304\u001b[0m  0.0295\n",
            "     15        \u001b[36m0.4288\u001b[0m       0.7879        \u001b[35m0.6300\u001b[0m  0.0267\n",
            "     16        \u001b[36m0.4159\u001b[0m       0.7879        \u001b[35m0.6280\u001b[0m  0.0316\n",
            "     17        \u001b[36m0.4066\u001b[0m       0.7879        \u001b[35m0.6279\u001b[0m  0.0289\n",
            "     18        \u001b[36m0.3958\u001b[0m       0.7879        \u001b[35m0.6259\u001b[0m  0.0336\n",
            "     19        \u001b[36m0.3874\u001b[0m       0.7879        \u001b[35m0.6234\u001b[0m  0.0318\n",
            "     20        \u001b[36m0.3782\u001b[0m       0.7879        \u001b[35m0.6193\u001b[0m  0.0304\n",
            "     21        \u001b[36m0.3702\u001b[0m       0.7879        \u001b[35m0.6164\u001b[0m  0.0326\n",
            "     22        \u001b[36m0.3624\u001b[0m       0.7879        \u001b[35m0.6121\u001b[0m  0.0311\n",
            "     23        \u001b[36m0.3530\u001b[0m       0.7879        \u001b[35m0.6101\u001b[0m  0.0330\n",
            "     24        \u001b[36m0.3469\u001b[0m       0.7879        \u001b[35m0.6093\u001b[0m  0.0301\n",
            "     25        \u001b[36m0.3410\u001b[0m       0.7879        \u001b[35m0.6082\u001b[0m  0.0253\n",
            "     26        \u001b[36m0.3360\u001b[0m       0.7879        \u001b[35m0.6072\u001b[0m  0.0271\n",
            "     27        \u001b[36m0.3314\u001b[0m       0.7879        \u001b[35m0.6063\u001b[0m  0.0273\n",
            "     28        \u001b[36m0.3271\u001b[0m       0.7879        \u001b[35m0.6044\u001b[0m  0.0264\n",
            "     29        \u001b[36m0.3231\u001b[0m       0.7879        \u001b[35m0.6041\u001b[0m  0.0279\n",
            "     30        \u001b[36m0.3192\u001b[0m       0.7879        \u001b[35m0.6031\u001b[0m  0.0262\n",
            "     31        \u001b[36m0.3162\u001b[0m       0.7879        \u001b[35m0.6024\u001b[0m  0.0264\n",
            "     32        \u001b[36m0.3128\u001b[0m       0.7879        \u001b[35m0.6006\u001b[0m  0.0268\n",
            "     33        \u001b[36m0.3100\u001b[0m       0.7879        \u001b[35m0.5997\u001b[0m  0.0282\n",
            "     34        \u001b[36m0.3070\u001b[0m       0.7879        \u001b[35m0.5985\u001b[0m  0.0278\n",
            "     35        \u001b[36m0.3040\u001b[0m       0.7879        \u001b[35m0.5961\u001b[0m  0.0280\n",
            "     36        \u001b[36m0.3016\u001b[0m       0.7879        \u001b[35m0.5951\u001b[0m  0.0320\n",
            "     37        \u001b[36m0.2989\u001b[0m       0.7879        \u001b[35m0.5939\u001b[0m  0.0306\n",
            "     38        \u001b[36m0.2964\u001b[0m       0.7879        \u001b[35m0.5928\u001b[0m  0.0315\n",
            "     39        \u001b[36m0.2941\u001b[0m       0.7879        \u001b[35m0.5915\u001b[0m  0.0326\n",
            "     40        \u001b[36m0.2918\u001b[0m       0.7879        \u001b[35m0.5899\u001b[0m  0.0329\n",
            "     41        \u001b[36m0.2896\u001b[0m       0.7879        \u001b[35m0.5883\u001b[0m  0.0270\n",
            "     42        \u001b[36m0.2875\u001b[0m       0.7879        \u001b[35m0.5871\u001b[0m  0.0293\n",
            "     43        \u001b[36m0.2855\u001b[0m       0.7879        \u001b[35m0.5853\u001b[0m  0.0293\n",
            "     44        \u001b[36m0.2836\u001b[0m       0.7879        0.5853  0.0265\n",
            "     45        \u001b[36m0.2816\u001b[0m       0.7879        \u001b[35m0.5849\u001b[0m  0.0275\n",
            "     46        \u001b[36m0.2797\u001b[0m       0.7879        \u001b[35m0.5843\u001b[0m  0.0268\n",
            "     47        \u001b[36m0.2779\u001b[0m       0.7879        \u001b[35m0.5829\u001b[0m  0.0255\n",
            "     48        \u001b[36m0.2762\u001b[0m       0.7879        \u001b[35m0.5829\u001b[0m  0.0317\n",
            "     49        \u001b[36m0.2745\u001b[0m       0.7879        \u001b[35m0.5826\u001b[0m  0.0277\n",
            "     50        \u001b[36m0.2727\u001b[0m       0.7879        \u001b[35m0.5824\u001b[0m  0.0261\n",
            "     51        \u001b[36m0.2711\u001b[0m       0.7879        \u001b[35m0.5821\u001b[0m  0.0320\n",
            "     52        \u001b[36m0.2694\u001b[0m       0.7879        \u001b[35m0.5819\u001b[0m  0.0339\n",
            "     53        \u001b[36m0.2678\u001b[0m       0.7879        \u001b[35m0.5814\u001b[0m  0.0255\n",
            "     54        \u001b[36m0.2663\u001b[0m       0.7879        \u001b[35m0.5812\u001b[0m  0.0267\n",
            "     55        \u001b[36m0.2647\u001b[0m       0.7879        \u001b[35m0.5812\u001b[0m  0.0317\n",
            "     56        \u001b[36m0.2633\u001b[0m       0.7803        \u001b[35m0.5810\u001b[0m  0.0259\n",
            "     57        \u001b[36m0.2618\u001b[0m       0.7803        \u001b[35m0.5809\u001b[0m  0.0288\n",
            "     58        \u001b[36m0.2603\u001b[0m       0.7803        \u001b[35m0.5807\u001b[0m  0.0292\n",
            "     59        \u001b[36m0.2589\u001b[0m       0.7803        0.5807  0.0286\n",
            "     60        \u001b[36m0.2575\u001b[0m       0.7727        \u001b[35m0.5806\u001b[0m  0.0267\n",
            "     61        \u001b[36m0.2561\u001b[0m       0.7727        0.5809  0.0288\n",
            "     62        \u001b[36m0.2548\u001b[0m       0.7727        0.5813  0.0309\n",
            "     63        \u001b[36m0.2534\u001b[0m       0.7727        0.5818  0.0287\n",
            "     64        \u001b[36m0.2522\u001b[0m       0.7652        0.5816  0.0314\n",
            "     65        \u001b[36m0.2509\u001b[0m       0.7727        0.5818  0.0284\n",
            "     66        \u001b[36m0.2497\u001b[0m       0.7727        0.5822  0.0307\n",
            "     67        \u001b[36m0.2484\u001b[0m       0.7727        0.5822  0.0336\n",
            "     68        \u001b[36m0.2472\u001b[0m       0.7727        0.5823  0.0267\n",
            "     69        \u001b[36m0.2461\u001b[0m       0.7727        0.5829  0.0279\n",
            "     70        \u001b[36m0.2450\u001b[0m       0.7727        0.5831  0.0279\n",
            "     71        \u001b[36m0.2438\u001b[0m       0.7727        0.5832  0.0261\n",
            "     72        \u001b[36m0.2427\u001b[0m       0.7727        0.5836  0.0283\n",
            "     73        \u001b[36m0.2416\u001b[0m       0.7727        0.5843  0.0273\n",
            "     74        \u001b[36m0.2406\u001b[0m       0.7727        0.5848  0.0304\n",
            "     75        \u001b[36m0.2395\u001b[0m       0.7727        0.5850  0.0272\n",
            "     76        \u001b[36m0.2385\u001b[0m       0.7727        0.5853  0.0283\n",
            "     77        \u001b[36m0.2375\u001b[0m       0.7727        0.5856  0.0269\n",
            "     78        \u001b[36m0.2365\u001b[0m       0.7727        0.5861  0.0272\n",
            "     79        \u001b[36m0.2355\u001b[0m       0.7727        0.5862  0.0260\n",
            "     80        \u001b[36m0.2345\u001b[0m       0.7727        0.5867  0.0318\n",
            "     81        \u001b[36m0.2336\u001b[0m       0.7727        0.5869  0.0337\n",
            "     82        \u001b[36m0.2326\u001b[0m       0.7803        0.5870  0.0321\n",
            "     83        \u001b[36m0.2317\u001b[0m       0.7803        0.5884  0.0315\n",
            "     84        \u001b[36m0.2308\u001b[0m       0.7803        0.5889  0.0306\n",
            "     85        \u001b[36m0.2299\u001b[0m       0.7803        0.5895  0.0335\n",
            "     86        \u001b[36m0.2290\u001b[0m       0.7803        0.5901  0.0319\n",
            "     87        \u001b[36m0.2281\u001b[0m       0.7803        0.5907  0.0277\n",
            "     88        \u001b[36m0.2272\u001b[0m       0.7879        0.5912  0.0323\n",
            "     89        \u001b[36m0.2264\u001b[0m       0.7879        0.5920  0.0327\n",
            "     90        \u001b[36m0.2256\u001b[0m       0.7879        0.5925  0.0339\n",
            "     91        \u001b[36m0.2247\u001b[0m       0.7955        0.5931  0.0299\n",
            "     92        \u001b[36m0.2239\u001b[0m       0.7955        0.5938  0.0284\n",
            "     93        \u001b[36m0.2231\u001b[0m       0.7955        0.5943  0.0278\n",
            "     94        \u001b[36m0.2223\u001b[0m       0.7879        0.5949  0.0269\n",
            "     95        \u001b[36m0.2216\u001b[0m       0.7879        0.5955  0.0277\n",
            "     96        \u001b[36m0.2208\u001b[0m       0.7879        0.5962  0.0317\n",
            "     97        \u001b[36m0.2200\u001b[0m       0.7879        0.5969  0.0321\n",
            "     98        \u001b[36m0.2193\u001b[0m       0.7879        0.5976  0.0241\n",
            "     99        \u001b[36m0.2186\u001b[0m       0.7879        0.5983  0.0246\n",
            "    100        \u001b[36m0.2178\u001b[0m       0.7879        0.5991  0.0281\n"
          ],
          "name": "stdout"
        }
      ]
    }
  ]
}