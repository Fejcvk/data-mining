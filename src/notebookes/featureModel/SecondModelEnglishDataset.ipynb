{
  "nbformat": 4,
  "nbformat_minor": 0,
  "metadata": {
    "colab": {
      "name": "SecondModelEnglishDataset.ipynb",
      "provenance": [],
      "collapsed_sections": [],
      "toc_visible": true
    },
    "kernelspec": {
      "name": "python3",
      "display_name": "Python 3"
    }
  },
  "cells": [
    {
      "cell_type": "markdown",
      "metadata": {
        "id": "3HJfGRjHi_Yq",
        "colab_type": "text"
      },
      "source": [
        "# Model based on sentence features\n",
        "***\n",
        "Libraries:"
      ]
    },
    {
      "cell_type": "code",
      "metadata": {
        "id": "wQH-5eAsLAiz",
        "colab_type": "code",
        "outputId": "8c3bebf4-91d8-4277-ddf4-d92f1e9b27a9",
        "colab": {
          "base_uri": "https://localhost:8080/",
          "height": 408
        }
      },
      "source": [
        "!pip install transformers\n",
        "!pip install -q pyyaml h5py\n",
        "import pandas as pd\n",
        "from transformers import *\n",
        "import numpy as np\n",
        "from sklearn.model_selection import train_test_split\n"
      ],
      "execution_count": 24,
      "outputs": [
        {
          "output_type": "stream",
          "text": [
            "Requirement already satisfied: transformers in /usr/local/lib/python3.6/dist-packages (2.8.0)\n",
            "Requirement already satisfied: regex!=2019.12.17 in /usr/local/lib/python3.6/dist-packages (from transformers) (2019.12.20)\n",
            "Requirement already satisfied: sacremoses in /usr/local/lib/python3.6/dist-packages (from transformers) (0.0.41)\n",
            "Requirement already satisfied: requests in /usr/local/lib/python3.6/dist-packages (from transformers) (2.21.0)\n",
            "Requirement already satisfied: filelock in /usr/local/lib/python3.6/dist-packages (from transformers) (3.0.12)\n",
            "Requirement already satisfied: tokenizers==0.5.2 in /usr/local/lib/python3.6/dist-packages (from transformers) (0.5.2)\n",
            "Requirement already satisfied: numpy in /usr/local/lib/python3.6/dist-packages (from transformers) (1.18.2)\n",
            "Requirement already satisfied: dataclasses; python_version < \"3.7\" in /usr/local/lib/python3.6/dist-packages (from transformers) (0.7)\n",
            "Requirement already satisfied: tqdm>=4.27 in /usr/local/lib/python3.6/dist-packages (from transformers) (4.38.0)\n",
            "Requirement already satisfied: sentencepiece in /usr/local/lib/python3.6/dist-packages (from transformers) (0.1.85)\n",
            "Requirement already satisfied: boto3 in /usr/local/lib/python3.6/dist-packages (from transformers) (1.12.40)\n",
            "Requirement already satisfied: click in /usr/local/lib/python3.6/dist-packages (from sacremoses->transformers) (7.1.1)\n",
            "Requirement already satisfied: six in /usr/local/lib/python3.6/dist-packages (from sacremoses->transformers) (1.12.0)\n",
            "Requirement already satisfied: joblib in /usr/local/lib/python3.6/dist-packages (from sacremoses->transformers) (0.14.1)\n",
            "Requirement already satisfied: chardet<3.1.0,>=3.0.2 in /usr/local/lib/python3.6/dist-packages (from requests->transformers) (3.0.4)\n",
            "Requirement already satisfied: idna<2.9,>=2.5 in /usr/local/lib/python3.6/dist-packages (from requests->transformers) (2.8)\n",
            "Requirement already satisfied: urllib3<1.25,>=1.21.1 in /usr/local/lib/python3.6/dist-packages (from requests->transformers) (1.24.3)\n",
            "Requirement already satisfied: certifi>=2017.4.17 in /usr/local/lib/python3.6/dist-packages (from requests->transformers) (2020.4.5.1)\n",
            "Requirement already satisfied: s3transfer<0.4.0,>=0.3.0 in /usr/local/lib/python3.6/dist-packages (from boto3->transformers) (0.3.3)\n",
            "Requirement already satisfied: botocore<1.16.0,>=1.15.40 in /usr/local/lib/python3.6/dist-packages (from boto3->transformers) (1.15.40)\n",
            "Requirement already satisfied: jmespath<1.0.0,>=0.7.1 in /usr/local/lib/python3.6/dist-packages (from boto3->transformers) (0.9.5)\n",
            "Requirement already satisfied: docutils<0.16,>=0.10 in /usr/local/lib/python3.6/dist-packages (from botocore<1.16.0,>=1.15.40->boto3->transformers) (0.15.2)\n",
            "Requirement already satisfied: python-dateutil<3.0.0,>=2.1 in /usr/local/lib/python3.6/dist-packages (from botocore<1.16.0,>=1.15.40->boto3->transformers) (2.8.1)\n"
          ],
          "name": "stdout"
        }
      ]
    },
    {
      "cell_type": "markdown",
      "metadata": {
        "id": "6WQzx8FvjYPs",
        "colab_type": "text"
      },
      "source": [
        "## Data preprocessing \n",
        "- reading data \n",
        "- change columns names \n",
        "- drop NaN rows \n",
        "- fill others NaN values by special sign"
      ]
    },
    {
      "cell_type": "code",
      "metadata": {
        "id": "pC-SuQGTLnrB",
        "colab_type": "code",
        "outputId": "c050bf60-7525-4ee0-f97d-5f7a4c3b03a8",
        "colab": {
          "base_uri": "https://localhost:8080/",
          "height": 204
        }
      },
      "source": [
        "df = pd.read_excel('englishOriginalDataset.xlsx')\n",
        "df.reset_index()\n",
        "df = df.iloc[:,[2,3,5,8,9,11,12,13]]\n",
        "df.columns = [\"verb_veridial_positive\",\n",
        "              \"verb_veridical_negative\",\n",
        "              \"semantic_characteristic\",\n",
        "              \"standford_signature_for_that\",\n",
        "              \"standford_signature_for_to\",\n",
        "              \"complementizer\",\n",
        "              \"verb_tense\",\n",
        "              \"semantic_relation\"]\n",
        "df.dropna(inplace=True, axis = 0, how = 'all')\n",
        "df.fillna(axis = 0, inplace =True, value=\"none\")\n",
        "df.head()"
      ],
      "execution_count": 25,
      "outputs": [
        {
          "output_type": "execute_result",
          "data": {
            "text/html": [
              "<div>\n",
              "<style scoped>\n",
              "    .dataframe tbody tr th:only-of-type {\n",
              "        vertical-align: middle;\n",
              "    }\n",
              "\n",
              "    .dataframe tbody tr th {\n",
              "        vertical-align: top;\n",
              "    }\n",
              "\n",
              "    .dataframe thead th {\n",
              "        text-align: right;\n",
              "    }\n",
              "</style>\n",
              "<table border=\"1\" class=\"dataframe\">\n",
              "  <thead>\n",
              "    <tr style=\"text-align: right;\">\n",
              "      <th></th>\n",
              "      <th>verb_veridial_positive</th>\n",
              "      <th>verb_veridical_negative</th>\n",
              "      <th>semantic_characteristic</th>\n",
              "      <th>standford_signature_for_that</th>\n",
              "      <th>standford_signature_for_to</th>\n",
              "      <th>complementizer</th>\n",
              "      <th>verb_tense</th>\n",
              "      <th>semantic_relation</th>\n",
              "    </tr>\n",
              "  </thead>\n",
              "  <tbody>\n",
              "    <tr>\n",
              "      <th>0</th>\n",
              "      <td>o</td>\n",
              "      <td>o</td>\n",
              "      <td>epistemiczny</td>\n",
              "      <td>o/o</td>\n",
              "      <td>none</td>\n",
              "      <td>that</td>\n",
              "      <td>present</td>\n",
              "      <td>N</td>\n",
              "    </tr>\n",
              "    <tr>\n",
              "      <th>1</th>\n",
              "      <td>o</td>\n",
              "      <td>o</td>\n",
              "      <td>emotywny</td>\n",
              "      <td>none</td>\n",
              "      <td>none</td>\n",
              "      <td>that</td>\n",
              "      <td>present</td>\n",
              "      <td>N</td>\n",
              "    </tr>\n",
              "    <tr>\n",
              "      <th>2</th>\n",
              "      <td>o</td>\n",
              "      <td>o</td>\n",
              "      <td>mówienia</td>\n",
              "      <td>nie ma</td>\n",
              "      <td>none</td>\n",
              "      <td>that</td>\n",
              "      <td>present</td>\n",
              "      <td>N</td>\n",
              "    </tr>\n",
              "    <tr>\n",
              "      <th>3</th>\n",
              "      <td>o</td>\n",
              "      <td>o</td>\n",
              "      <td>epistemiczny</td>\n",
              "      <td>o/o</td>\n",
              "      <td>none</td>\n",
              "      <td>that</td>\n",
              "      <td>present</td>\n",
              "      <td>N</td>\n",
              "    </tr>\n",
              "    <tr>\n",
              "      <th>4</th>\n",
              "      <td>o</td>\n",
              "      <td>o</td>\n",
              "      <td>epistemiczny</td>\n",
              "      <td>nie ma</td>\n",
              "      <td>none</td>\n",
              "      <td>that</td>\n",
              "      <td>past</td>\n",
              "      <td>E</td>\n",
              "    </tr>\n",
              "  </tbody>\n",
              "</table>\n",
              "</div>"
            ],
            "text/plain": [
              "  verb_veridial_positive verb_veridical_negative  ... verb_tense semantic_relation\n",
              "0                      o                       o  ...    present                 N\n",
              "1                      o                       o  ...    present                 N\n",
              "2                      o                       o  ...    present                 N\n",
              "3                      o                       o  ...    present                 N\n",
              "4                      o                       o  ...       past                 E\n",
              "\n",
              "[5 rows x 8 columns]"
            ]
          },
          "metadata": {
            "tags": []
          },
          "execution_count": 25
        }
      ]
    },
    {
      "cell_type": "markdown",
      "metadata": {
        "id": "94rQMkhukBCp",
        "colab_type": "text"
      },
      "source": [
        "### cleaning data by deleting uncertainty - simplification \n"
      ]
    },
    {
      "cell_type": "code",
      "metadata": {
        "id": "OnfM4fytjyde",
        "colab_type": "code",
        "outputId": "6d086a2f-39bd-4a39-a1f7-f02ce1559e73",
        "colab": {
          "base_uri": "https://localhost:8080/",
          "height": 204
        }
      },
      "source": [
        "#verb veridical positive cleaning\n",
        "df.verb_veridial_positive = df.verb_veridial_positive.apply(lambda x: '+' if '+' in x else x)\n",
        "df.verb_veridial_positive = df.verb_veridial_positive.apply(lambda x: '-' if '-' in x else x)\n",
        "df.verb_veridial_positive = df.verb_veridial_positive.apply(lambda x: 'o' if 'o' in x else x)\n",
        "df.verb_veridial_positive = df.verb_veridial_positive.apply(lambda x: '?' if '?' in x else x)\n",
        "\n",
        "#verb veridical negative cleaning\n",
        "df.verb_veridical_negative = df.verb_veridical_negative.apply(lambda x: '+' if '+' in x else x)\n",
        "df.verb_veridical_negative = df.verb_veridical_negative.apply(lambda x: 'o' if 'o' in x else x)\n",
        "df.verb_veridical_negative = df.verb_veridical_negative.apply(lambda x: '-' if '-' in x else x)\n",
        "df.verb_veridical_negative = df.verb_veridical_negative.apply(lambda x: '1' if '1' in x else x)\n",
        "df.verb_veridical_negative = df.verb_veridical_negative.apply(lambda x: '?' if '?' in x else x)\n",
        "\n",
        "#df.semantic_characteristic.unique() cleaning not needed\n",
        "#df.standford_signature_for_that.unique() cleaning not needed\n",
        "#df.standford_signature_for_to.unique() cleaning not needed\n",
        "#df.complementizer.unique() cleaning not needed\n",
        "\n",
        "#df.verb_tense cleaning\n",
        "df.verb_tense = df.verb_tense.apply(lambda x: 'present' if 'present' in x else x)\n",
        "df.verb_tense = df.verb_tense.apply(lambda x: 'past' if 'past' in x else x)\n",
        "df.verb_tense = df.verb_tense.apply(lambda x: 'future' if 'future' in x else x)\n",
        "df.verb_tense = df.verb_tense.apply(lambda x: 'none' if 'none' in x else x)\n",
        "df.verb_tense = df.verb_tense.apply(lambda x: '?' if '?' in x else x)\n",
        "\n",
        "df.head()"
      ],
      "execution_count": 26,
      "outputs": [
        {
          "output_type": "execute_result",
          "data": {
            "text/html": [
              "<div>\n",
              "<style scoped>\n",
              "    .dataframe tbody tr th:only-of-type {\n",
              "        vertical-align: middle;\n",
              "    }\n",
              "\n",
              "    .dataframe tbody tr th {\n",
              "        vertical-align: top;\n",
              "    }\n",
              "\n",
              "    .dataframe thead th {\n",
              "        text-align: right;\n",
              "    }\n",
              "</style>\n",
              "<table border=\"1\" class=\"dataframe\">\n",
              "  <thead>\n",
              "    <tr style=\"text-align: right;\">\n",
              "      <th></th>\n",
              "      <th>verb_veridial_positive</th>\n",
              "      <th>verb_veridical_negative</th>\n",
              "      <th>semantic_characteristic</th>\n",
              "      <th>standford_signature_for_that</th>\n",
              "      <th>standford_signature_for_to</th>\n",
              "      <th>complementizer</th>\n",
              "      <th>verb_tense</th>\n",
              "      <th>semantic_relation</th>\n",
              "    </tr>\n",
              "  </thead>\n",
              "  <tbody>\n",
              "    <tr>\n",
              "      <th>0</th>\n",
              "      <td>o</td>\n",
              "      <td>o</td>\n",
              "      <td>epistemiczny</td>\n",
              "      <td>o/o</td>\n",
              "      <td>none</td>\n",
              "      <td>that</td>\n",
              "      <td>present</td>\n",
              "      <td>N</td>\n",
              "    </tr>\n",
              "    <tr>\n",
              "      <th>1</th>\n",
              "      <td>o</td>\n",
              "      <td>o</td>\n",
              "      <td>emotywny</td>\n",
              "      <td>none</td>\n",
              "      <td>none</td>\n",
              "      <td>that</td>\n",
              "      <td>present</td>\n",
              "      <td>N</td>\n",
              "    </tr>\n",
              "    <tr>\n",
              "      <th>2</th>\n",
              "      <td>o</td>\n",
              "      <td>o</td>\n",
              "      <td>mówienia</td>\n",
              "      <td>nie ma</td>\n",
              "      <td>none</td>\n",
              "      <td>that</td>\n",
              "      <td>present</td>\n",
              "      <td>N</td>\n",
              "    </tr>\n",
              "    <tr>\n",
              "      <th>3</th>\n",
              "      <td>o</td>\n",
              "      <td>o</td>\n",
              "      <td>epistemiczny</td>\n",
              "      <td>o/o</td>\n",
              "      <td>none</td>\n",
              "      <td>that</td>\n",
              "      <td>present</td>\n",
              "      <td>N</td>\n",
              "    </tr>\n",
              "    <tr>\n",
              "      <th>4</th>\n",
              "      <td>o</td>\n",
              "      <td>o</td>\n",
              "      <td>epistemiczny</td>\n",
              "      <td>nie ma</td>\n",
              "      <td>none</td>\n",
              "      <td>that</td>\n",
              "      <td>past</td>\n",
              "      <td>E</td>\n",
              "    </tr>\n",
              "  </tbody>\n",
              "</table>\n",
              "</div>"
            ],
            "text/plain": [
              "  verb_veridial_positive verb_veridical_negative  ... verb_tense semantic_relation\n",
              "0                      o                       o  ...    present                 N\n",
              "1                      o                       o  ...    present                 N\n",
              "2                      o                       o  ...    present                 N\n",
              "3                      o                       o  ...    present                 N\n",
              "4                      o                       o  ...       past                 E\n",
              "\n",
              "[5 rows x 8 columns]"
            ]
          },
          "metadata": {
            "tags": []
          },
          "execution_count": 26
        }
      ]
    },
    {
      "cell_type": "code",
      "metadata": {
        "id": "09oFxOcRnZEc",
        "colab_type": "code",
        "outputId": "9567b2b9-c8f6-47be-cb8c-3c0ba42ff475",
        "colab": {
          "base_uri": "https://localhost:8080/",
          "height": 221
        }
      },
      "source": [
        "print(df.verb_veridial_positive.unique())\n",
        "print(df.verb_veridical_negative.unique())\n",
        "print(df.semantic_characteristic.unique())\n",
        "print(df.standford_signature_for_that.unique())\n",
        "print(df.standford_signature_for_to.unique())\n",
        "print(df.complementizer.unique())\n",
        "print(df.verb_tense.unique())\n",
        "print(df.semantic_relation.unique())"
      ],
      "execution_count": 27,
      "outputs": [
        {
          "output_type": "stream",
          "text": [
            "['o' '+' '-' '?']\n",
            "['o' '+' '-' '?' '1']\n",
            "['epistemiczny' 'emotywny' 'mówienia' 'ontyczny' 'wynikania'\n",
            " 'określające dostęp do wiedzy' 'percepcyjny' 'pamięciowy' 'odkrycia'\n",
            " 'czynnościowy' 'epistemiczno-percepcyjny' 'pokazywania' 'dowodzenia'\n",
            " 'mówieniowo-pamięciowy' 'liczenia' 'wnioskowania'\n",
            " 'percepcyjno-mówieniowy' 'zdarzeniowy']\n",
            "['o/o' 'none' 'nie ma' '\"+/o\"' '\"+/+\"' 'o/+']\n",
            "['none' 'o/o']\n",
            "['that' 'to']\n",
            "['present' 'past' 'none' 'future' '?']\n",
            "['N' 'E' '?' 'C']\n"
          ],
          "name": "stdout"
        }
      ]
    },
    {
      "cell_type": "code",
      "metadata": {
        "id": "qNUe-X4_gqmL",
        "colab_type": "code",
        "colab": {}
      },
      "source": [
        "df.to_csv(\"engData.csv\", index=False)"
      ],
      "execution_count": 0,
      "outputs": []
    },
    {
      "cell_type": "markdown",
      "metadata": {
        "id": "MIX0AGcQkGG5",
        "colab_type": "text"
      },
      "source": [
        "### vectorize data and split to features and target"
      ]
    },
    {
      "cell_type": "code",
      "metadata": {
        "id": "5r7NRdcwkIX5",
        "colab_type": "code",
        "outputId": "e14f0524-755a-4f72-a6c0-713753697d40",
        "colab": {
          "base_uri": "https://localhost:8080/",
          "height": 241
        }
      },
      "source": [
        "df = pd.get_dummies(df)\n",
        "\n",
        "X_train = df.iloc[:,1:-4]\n",
        "y_train = df.iloc[:,-4:]\n",
        "\n",
        "X_train.head()"
      ],
      "execution_count": 28,
      "outputs": [
        {
          "output_type": "execute_result",
          "data": {
            "text/html": [
              "<div>\n",
              "<style scoped>\n",
              "    .dataframe tbody tr th:only-of-type {\n",
              "        vertical-align: middle;\n",
              "    }\n",
              "\n",
              "    .dataframe tbody tr th {\n",
              "        vertical-align: top;\n",
              "    }\n",
              "\n",
              "    .dataframe thead th {\n",
              "        text-align: right;\n",
              "    }\n",
              "</style>\n",
              "<table border=\"1\" class=\"dataframe\">\n",
              "  <thead>\n",
              "    <tr style=\"text-align: right;\">\n",
              "      <th></th>\n",
              "      <th>verb_veridial_positive_-</th>\n",
              "      <th>verb_veridial_positive_?</th>\n",
              "      <th>verb_veridial_positive_o</th>\n",
              "      <th>verb_veridical_negative_+</th>\n",
              "      <th>verb_veridical_negative_-</th>\n",
              "      <th>verb_veridical_negative_1</th>\n",
              "      <th>verb_veridical_negative_?</th>\n",
              "      <th>verb_veridical_negative_o</th>\n",
              "      <th>semantic_characteristic_czynnościowy</th>\n",
              "      <th>semantic_characteristic_dowodzenia</th>\n",
              "      <th>semantic_characteristic_emotywny</th>\n",
              "      <th>semantic_characteristic_epistemiczno-percepcyjny</th>\n",
              "      <th>semantic_characteristic_epistemiczny</th>\n",
              "      <th>semantic_characteristic_liczenia</th>\n",
              "      <th>semantic_characteristic_mówienia</th>\n",
              "      <th>semantic_characteristic_mówieniowo-pamięciowy</th>\n",
              "      <th>semantic_characteristic_odkrycia</th>\n",
              "      <th>semantic_characteristic_określające dostęp do wiedzy</th>\n",
              "      <th>semantic_characteristic_ontyczny</th>\n",
              "      <th>semantic_characteristic_pamięciowy</th>\n",
              "      <th>semantic_characteristic_percepcyjno-mówieniowy</th>\n",
              "      <th>semantic_characteristic_percepcyjny</th>\n",
              "      <th>semantic_characteristic_pokazywania</th>\n",
              "      <th>semantic_characteristic_wnioskowania</th>\n",
              "      <th>semantic_characteristic_wynikania</th>\n",
              "      <th>semantic_characteristic_zdarzeniowy</th>\n",
              "      <th>standford_signature_for_that_\"+/+\"</th>\n",
              "      <th>standford_signature_for_that_\"+/o\"</th>\n",
              "      <th>standford_signature_for_that_nie ma</th>\n",
              "      <th>standford_signature_for_that_none</th>\n",
              "      <th>standford_signature_for_that_o/+</th>\n",
              "      <th>standford_signature_for_that_o/o</th>\n",
              "      <th>standford_signature_for_to_none</th>\n",
              "      <th>standford_signature_for_to_o/o</th>\n",
              "      <th>complementizer_that</th>\n",
              "      <th>complementizer_to</th>\n",
              "      <th>verb_tense_?</th>\n",
              "      <th>verb_tense_future</th>\n",
              "      <th>verb_tense_none</th>\n",
              "      <th>verb_tense_past</th>\n",
              "      <th>verb_tense_present</th>\n",
              "    </tr>\n",
              "  </thead>\n",
              "  <tbody>\n",
              "    <tr>\n",
              "      <th>0</th>\n",
              "      <td>0</td>\n",
              "      <td>0</td>\n",
              "      <td>1</td>\n",
              "      <td>0</td>\n",
              "      <td>0</td>\n",
              "      <td>0</td>\n",
              "      <td>0</td>\n",
              "      <td>1</td>\n",
              "      <td>0</td>\n",
              "      <td>0</td>\n",
              "      <td>0</td>\n",
              "      <td>0</td>\n",
              "      <td>1</td>\n",
              "      <td>0</td>\n",
              "      <td>0</td>\n",
              "      <td>0</td>\n",
              "      <td>0</td>\n",
              "      <td>0</td>\n",
              "      <td>0</td>\n",
              "      <td>0</td>\n",
              "      <td>0</td>\n",
              "      <td>0</td>\n",
              "      <td>0</td>\n",
              "      <td>0</td>\n",
              "      <td>0</td>\n",
              "      <td>0</td>\n",
              "      <td>0</td>\n",
              "      <td>0</td>\n",
              "      <td>0</td>\n",
              "      <td>0</td>\n",
              "      <td>0</td>\n",
              "      <td>1</td>\n",
              "      <td>1</td>\n",
              "      <td>0</td>\n",
              "      <td>1</td>\n",
              "      <td>0</td>\n",
              "      <td>0</td>\n",
              "      <td>0</td>\n",
              "      <td>0</td>\n",
              "      <td>0</td>\n",
              "      <td>1</td>\n",
              "    </tr>\n",
              "    <tr>\n",
              "      <th>1</th>\n",
              "      <td>0</td>\n",
              "      <td>0</td>\n",
              "      <td>1</td>\n",
              "      <td>0</td>\n",
              "      <td>0</td>\n",
              "      <td>0</td>\n",
              "      <td>0</td>\n",
              "      <td>1</td>\n",
              "      <td>0</td>\n",
              "      <td>0</td>\n",
              "      <td>1</td>\n",
              "      <td>0</td>\n",
              "      <td>0</td>\n",
              "      <td>0</td>\n",
              "      <td>0</td>\n",
              "      <td>0</td>\n",
              "      <td>0</td>\n",
              "      <td>0</td>\n",
              "      <td>0</td>\n",
              "      <td>0</td>\n",
              "      <td>0</td>\n",
              "      <td>0</td>\n",
              "      <td>0</td>\n",
              "      <td>0</td>\n",
              "      <td>0</td>\n",
              "      <td>0</td>\n",
              "      <td>0</td>\n",
              "      <td>0</td>\n",
              "      <td>0</td>\n",
              "      <td>1</td>\n",
              "      <td>0</td>\n",
              "      <td>0</td>\n",
              "      <td>1</td>\n",
              "      <td>0</td>\n",
              "      <td>1</td>\n",
              "      <td>0</td>\n",
              "      <td>0</td>\n",
              "      <td>0</td>\n",
              "      <td>0</td>\n",
              "      <td>0</td>\n",
              "      <td>1</td>\n",
              "    </tr>\n",
              "    <tr>\n",
              "      <th>2</th>\n",
              "      <td>0</td>\n",
              "      <td>0</td>\n",
              "      <td>1</td>\n",
              "      <td>0</td>\n",
              "      <td>0</td>\n",
              "      <td>0</td>\n",
              "      <td>0</td>\n",
              "      <td>1</td>\n",
              "      <td>0</td>\n",
              "      <td>0</td>\n",
              "      <td>0</td>\n",
              "      <td>0</td>\n",
              "      <td>0</td>\n",
              "      <td>0</td>\n",
              "      <td>1</td>\n",
              "      <td>0</td>\n",
              "      <td>0</td>\n",
              "      <td>0</td>\n",
              "      <td>0</td>\n",
              "      <td>0</td>\n",
              "      <td>0</td>\n",
              "      <td>0</td>\n",
              "      <td>0</td>\n",
              "      <td>0</td>\n",
              "      <td>0</td>\n",
              "      <td>0</td>\n",
              "      <td>0</td>\n",
              "      <td>0</td>\n",
              "      <td>1</td>\n",
              "      <td>0</td>\n",
              "      <td>0</td>\n",
              "      <td>0</td>\n",
              "      <td>1</td>\n",
              "      <td>0</td>\n",
              "      <td>1</td>\n",
              "      <td>0</td>\n",
              "      <td>0</td>\n",
              "      <td>0</td>\n",
              "      <td>0</td>\n",
              "      <td>0</td>\n",
              "      <td>1</td>\n",
              "    </tr>\n",
              "    <tr>\n",
              "      <th>3</th>\n",
              "      <td>0</td>\n",
              "      <td>0</td>\n",
              "      <td>1</td>\n",
              "      <td>0</td>\n",
              "      <td>0</td>\n",
              "      <td>0</td>\n",
              "      <td>0</td>\n",
              "      <td>1</td>\n",
              "      <td>0</td>\n",
              "      <td>0</td>\n",
              "      <td>0</td>\n",
              "      <td>0</td>\n",
              "      <td>1</td>\n",
              "      <td>0</td>\n",
              "      <td>0</td>\n",
              "      <td>0</td>\n",
              "      <td>0</td>\n",
              "      <td>0</td>\n",
              "      <td>0</td>\n",
              "      <td>0</td>\n",
              "      <td>0</td>\n",
              "      <td>0</td>\n",
              "      <td>0</td>\n",
              "      <td>0</td>\n",
              "      <td>0</td>\n",
              "      <td>0</td>\n",
              "      <td>0</td>\n",
              "      <td>0</td>\n",
              "      <td>0</td>\n",
              "      <td>0</td>\n",
              "      <td>0</td>\n",
              "      <td>1</td>\n",
              "      <td>1</td>\n",
              "      <td>0</td>\n",
              "      <td>1</td>\n",
              "      <td>0</td>\n",
              "      <td>0</td>\n",
              "      <td>0</td>\n",
              "      <td>0</td>\n",
              "      <td>0</td>\n",
              "      <td>1</td>\n",
              "    </tr>\n",
              "    <tr>\n",
              "      <th>4</th>\n",
              "      <td>0</td>\n",
              "      <td>0</td>\n",
              "      <td>1</td>\n",
              "      <td>0</td>\n",
              "      <td>0</td>\n",
              "      <td>0</td>\n",
              "      <td>0</td>\n",
              "      <td>1</td>\n",
              "      <td>0</td>\n",
              "      <td>0</td>\n",
              "      <td>0</td>\n",
              "      <td>0</td>\n",
              "      <td>1</td>\n",
              "      <td>0</td>\n",
              "      <td>0</td>\n",
              "      <td>0</td>\n",
              "      <td>0</td>\n",
              "      <td>0</td>\n",
              "      <td>0</td>\n",
              "      <td>0</td>\n",
              "      <td>0</td>\n",
              "      <td>0</td>\n",
              "      <td>0</td>\n",
              "      <td>0</td>\n",
              "      <td>0</td>\n",
              "      <td>0</td>\n",
              "      <td>0</td>\n",
              "      <td>0</td>\n",
              "      <td>1</td>\n",
              "      <td>0</td>\n",
              "      <td>0</td>\n",
              "      <td>0</td>\n",
              "      <td>1</td>\n",
              "      <td>0</td>\n",
              "      <td>1</td>\n",
              "      <td>0</td>\n",
              "      <td>0</td>\n",
              "      <td>0</td>\n",
              "      <td>0</td>\n",
              "      <td>1</td>\n",
              "      <td>0</td>\n",
              "    </tr>\n",
              "  </tbody>\n",
              "</table>\n",
              "</div>"
            ],
            "text/plain": [
              "   verb_veridial_positive_-  ...  verb_tense_present\n",
              "0                         0  ...                   1\n",
              "1                         0  ...                   1\n",
              "2                         0  ...                   1\n",
              "3                         0  ...                   1\n",
              "4                         0  ...                   0\n",
              "\n",
              "[5 rows x 41 columns]"
            ]
          },
          "metadata": {
            "tags": []
          },
          "execution_count": 28
        }
      ]
    },
    {
      "cell_type": "code",
      "metadata": {
        "id": "yLqFLidq0YLV",
        "colab_type": "code",
        "outputId": "da8ac982-5600-4ccc-b595-436073420e9a",
        "colab": {
          "base_uri": "https://localhost:8080/",
          "height": 527
        }
      },
      "source": [
        "X_train.columns"
      ],
      "execution_count": 29,
      "outputs": [
        {
          "output_type": "execute_result",
          "data": {
            "text/plain": [
              "Index(['verb_veridial_positive_-', 'verb_veridial_positive_?',\n",
              "       'verb_veridial_positive_o', 'verb_veridical_negative_+',\n",
              "       'verb_veridical_negative_-', 'verb_veridical_negative_1',\n",
              "       'verb_veridical_negative_?', 'verb_veridical_negative_o',\n",
              "       'semantic_characteristic_czynnościowy',\n",
              "       'semantic_characteristic_dowodzenia',\n",
              "       'semantic_characteristic_emotywny',\n",
              "       'semantic_characteristic_epistemiczno-percepcyjny',\n",
              "       'semantic_characteristic_epistemiczny',\n",
              "       'semantic_characteristic_liczenia', 'semantic_characteristic_mówienia',\n",
              "       'semantic_characteristic_mówieniowo-pamięciowy',\n",
              "       'semantic_characteristic_odkrycia',\n",
              "       'semantic_characteristic_określające dostęp do wiedzy',\n",
              "       'semantic_characteristic_ontyczny',\n",
              "       'semantic_characteristic_pamięciowy',\n",
              "       'semantic_characteristic_percepcyjno-mówieniowy',\n",
              "       'semantic_characteristic_percepcyjny',\n",
              "       'semantic_characteristic_pokazywania',\n",
              "       'semantic_characteristic_wnioskowania',\n",
              "       'semantic_characteristic_wynikania',\n",
              "       'semantic_characteristic_zdarzeniowy',\n",
              "       'standford_signature_for_that_\"+/+\"',\n",
              "       'standford_signature_for_that_\"+/o\"',\n",
              "       'standford_signature_for_that_nie ma',\n",
              "       'standford_signature_for_that_none', 'standford_signature_for_that_o/+',\n",
              "       'standford_signature_for_that_o/o', 'standford_signature_for_to_none',\n",
              "       'standford_signature_for_to_o/o', 'complementizer_that',\n",
              "       'complementizer_to', 'verb_tense_?', 'verb_tense_future',\n",
              "       'verb_tense_none', 'verb_tense_past', 'verb_tense_present'],\n",
              "      dtype='object')"
            ]
          },
          "metadata": {
            "tags": []
          },
          "execution_count": 29
        }
      ]
    },
    {
      "cell_type": "code",
      "metadata": {
        "id": "AxEJ6K-fxkTU",
        "colab_type": "code",
        "outputId": "b3d6ac8a-17f2-4b24-f042-7591ceaec895",
        "colab": {
          "base_uri": "https://localhost:8080/",
          "height": 204
        }
      },
      "source": [
        "y_train.head()"
      ],
      "execution_count": 30,
      "outputs": [
        {
          "output_type": "execute_result",
          "data": {
            "text/html": [
              "<div>\n",
              "<style scoped>\n",
              "    .dataframe tbody tr th:only-of-type {\n",
              "        vertical-align: middle;\n",
              "    }\n",
              "\n",
              "    .dataframe tbody tr th {\n",
              "        vertical-align: top;\n",
              "    }\n",
              "\n",
              "    .dataframe thead th {\n",
              "        text-align: right;\n",
              "    }\n",
              "</style>\n",
              "<table border=\"1\" class=\"dataframe\">\n",
              "  <thead>\n",
              "    <tr style=\"text-align: right;\">\n",
              "      <th></th>\n",
              "      <th>semantic_relation_?</th>\n",
              "      <th>semantic_relation_C</th>\n",
              "      <th>semantic_relation_E</th>\n",
              "      <th>semantic_relation_N</th>\n",
              "    </tr>\n",
              "  </thead>\n",
              "  <tbody>\n",
              "    <tr>\n",
              "      <th>0</th>\n",
              "      <td>0</td>\n",
              "      <td>0</td>\n",
              "      <td>0</td>\n",
              "      <td>1</td>\n",
              "    </tr>\n",
              "    <tr>\n",
              "      <th>1</th>\n",
              "      <td>0</td>\n",
              "      <td>0</td>\n",
              "      <td>0</td>\n",
              "      <td>1</td>\n",
              "    </tr>\n",
              "    <tr>\n",
              "      <th>2</th>\n",
              "      <td>0</td>\n",
              "      <td>0</td>\n",
              "      <td>0</td>\n",
              "      <td>1</td>\n",
              "    </tr>\n",
              "    <tr>\n",
              "      <th>3</th>\n",
              "      <td>0</td>\n",
              "      <td>0</td>\n",
              "      <td>0</td>\n",
              "      <td>1</td>\n",
              "    </tr>\n",
              "    <tr>\n",
              "      <th>4</th>\n",
              "      <td>0</td>\n",
              "      <td>0</td>\n",
              "      <td>1</td>\n",
              "      <td>0</td>\n",
              "    </tr>\n",
              "  </tbody>\n",
              "</table>\n",
              "</div>"
            ],
            "text/plain": [
              "   semantic_relation_?  ...  semantic_relation_N\n",
              "0                    0  ...                    1\n",
              "1                    0  ...                    1\n",
              "2                    0  ...                    1\n",
              "3                    0  ...                    1\n",
              "4                    0  ...                    0\n",
              "\n",
              "[5 rows x 4 columns]"
            ]
          },
          "metadata": {
            "tags": []
          },
          "execution_count": 30
        }
      ]
    },
    {
      "cell_type": "markdown",
      "metadata": {
        "id": "9Xi8QfyAkbiN",
        "colab_type": "text"
      },
      "source": [
        "***\n",
        "# Keras model building"
      ]
    },
    {
      "cell_type": "code",
      "metadata": {
        "id": "amhvtjnZQwhz",
        "colab_type": "code",
        "colab": {}
      },
      "source": [
        "import tensorflow as tf \n",
        "from tensorflow import keras\n",
        "from tensorflow.keras import layers\n",
        "from tensorflow.keras.layers import Dense"
      ],
      "execution_count": 0,
      "outputs": []
    },
    {
      "cell_type": "code",
      "metadata": {
        "id": "YQA-dmJ5RL9y",
        "colab_type": "code",
        "outputId": "8daa094a-b7cd-4110-918a-0762c572a1f2",
        "colab": {
          "base_uri": "https://localhost:8080/",
          "height": 408
        }
      },
      "source": [
        "model = tf.keras.Sequential()\n",
        "\n",
        "#get number of columns in training data\n",
        "n_cols = X_train.shape[1]\n",
        "print(n_cols)\n",
        "#add model layers\n",
        "model.add(Dense(25, activation='relu', input_shape=(n_cols,)))\n",
        "model.add(tf.keras.layers.Dropout(rate=0.3))\n",
        "model.add(Dense(15, activation='relu'))\n",
        "model.add(tf.keras.layers.Dropout(rate=0.3))\n",
        "model.add(Dense(25, activation=keras.layers.LeakyReLU(alpha=0.3)))\n",
        "model.add(tf.keras.layers.Dropout(rate=0.3))\n",
        "model.add(Dense(4, activation='softmax'))\n",
        "\n",
        "model.compile(optimizer = 'adam', loss=\"categorical_crossentropy\", metrics = ['accuracy'])\n",
        "model.summary()"
      ],
      "execution_count": 32,
      "outputs": [
        {
          "output_type": "stream",
          "text": [
            "41\n",
            "Model: \"sequential_1\"\n",
            "_________________________________________________________________\n",
            "Layer (type)                 Output Shape              Param #   \n",
            "=================================================================\n",
            "dense_4 (Dense)              (None, 25)                1050      \n",
            "_________________________________________________________________\n",
            "dropout_3 (Dropout)          (None, 25)                0         \n",
            "_________________________________________________________________\n",
            "dense_5 (Dense)              (None, 15)                390       \n",
            "_________________________________________________________________\n",
            "dropout_4 (Dropout)          (None, 15)                0         \n",
            "_________________________________________________________________\n",
            "dense_6 (Dense)              (None, 25)                400       \n",
            "_________________________________________________________________\n",
            "dropout_5 (Dropout)          (None, 25)                0         \n",
            "_________________________________________________________________\n",
            "dense_7 (Dense)              (None, 4)                 104       \n",
            "=================================================================\n",
            "Total params: 1,944\n",
            "Trainable params: 1,944\n",
            "Non-trainable params: 0\n",
            "_________________________________________________________________\n"
          ],
          "name": "stdout"
        }
      ]
    },
    {
      "cell_type": "markdown",
      "metadata": {
        "id": "xq3yIS2Kkh2r",
        "colab_type": "text"
      },
      "source": [
        "## Training model on prepared data"
      ]
    },
    {
      "cell_type": "code",
      "metadata": {
        "id": "1gnjHDM5dJb_",
        "colab_type": "code",
        "outputId": "cd98401d-34e3-4bf1-e39f-c8eb52185226",
        "colab": {
          "base_uri": "https://localhost:8080/",
          "height": 1000
        }
      },
      "source": [
        "#train model\n",
        "history = model.fit(X_train, y_train, validation_split=0.4, epochs=70)"
      ],
      "execution_count": 33,
      "outputs": [
        {
          "output_type": "stream",
          "text": [
            "Epoch 1/70\n",
            "42/42 [==============================] - 0s 5ms/step - loss: 1.2542 - accuracy: 0.4533 - val_loss: 1.0385 - val_accuracy: 0.7620\n",
            "Epoch 2/70\n",
            "42/42 [==============================] - 0s 3ms/step - loss: 0.9194 - accuracy: 0.6917 - val_loss: 0.7118 - val_accuracy: 0.7961\n",
            "Epoch 3/70\n",
            "42/42 [==============================] - 0s 3ms/step - loss: 0.7500 - accuracy: 0.7608 - val_loss: 0.5705 - val_accuracy: 0.8451\n",
            "Epoch 4/70\n",
            "42/42 [==============================] - 0s 3ms/step - loss: 0.6229 - accuracy: 0.8337 - val_loss: 0.5382 - val_accuracy: 0.8497\n",
            "Epoch 5/70\n",
            "42/42 [==============================] - 0s 3ms/step - loss: 0.6112 - accuracy: 0.8383 - val_loss: 0.5244 - val_accuracy: 0.8519\n",
            "Epoch 6/70\n",
            "42/42 [==============================] - 0s 3ms/step - loss: 0.5724 - accuracy: 0.8497 - val_loss: 0.5141 - val_accuracy: 0.8554\n",
            "Epoch 7/70\n",
            "42/42 [==============================] - 0s 3ms/step - loss: 0.5500 - accuracy: 0.8535 - val_loss: 0.5138 - val_accuracy: 0.8542\n",
            "Epoch 8/70\n",
            "42/42 [==============================] - 0s 3ms/step - loss: 0.5481 - accuracy: 0.8595 - val_loss: 0.5117 - val_accuracy: 0.8554\n",
            "Epoch 9/70\n",
            "42/42 [==============================] - 0s 3ms/step - loss: 0.5118 - accuracy: 0.8550 - val_loss: 0.5089 - val_accuracy: 0.8565\n",
            "Epoch 10/70\n",
            "42/42 [==============================] - 0s 3ms/step - loss: 0.5495 - accuracy: 0.8694 - val_loss: 0.5011 - val_accuracy: 0.8565\n",
            "Epoch 11/70\n",
            "42/42 [==============================] - 0s 3ms/step - loss: 0.5114 - accuracy: 0.8610 - val_loss: 0.4973 - val_accuracy: 0.8542\n",
            "Epoch 12/70\n",
            "42/42 [==============================] - 0s 3ms/step - loss: 0.5239 - accuracy: 0.8656 - val_loss: 0.4944 - val_accuracy: 0.8554\n",
            "Epoch 13/70\n",
            "42/42 [==============================] - 0s 3ms/step - loss: 0.4996 - accuracy: 0.8671 - val_loss: 0.4923 - val_accuracy: 0.8565\n",
            "Epoch 14/70\n",
            "42/42 [==============================] - 0s 3ms/step - loss: 0.4776 - accuracy: 0.8686 - val_loss: 0.4927 - val_accuracy: 0.8576\n",
            "Epoch 15/70\n",
            "42/42 [==============================] - 0s 3ms/step - loss: 0.4765 - accuracy: 0.8686 - val_loss: 0.4884 - val_accuracy: 0.8576\n",
            "Epoch 16/70\n",
            "42/42 [==============================] - 0s 3ms/step - loss: 0.4705 - accuracy: 0.8686 - val_loss: 0.4846 - val_accuracy: 0.8576\n",
            "Epoch 17/70\n",
            "42/42 [==============================] - 0s 3ms/step - loss: 0.4828 - accuracy: 0.8702 - val_loss: 0.4844 - val_accuracy: 0.8588\n",
            "Epoch 18/70\n",
            "42/42 [==============================] - 0s 3ms/step - loss: 0.4542 - accuracy: 0.8717 - val_loss: 0.4794 - val_accuracy: 0.8588\n",
            "Epoch 19/70\n",
            "42/42 [==============================] - 0s 3ms/step - loss: 0.4527 - accuracy: 0.8717 - val_loss: 0.4816 - val_accuracy: 0.8576\n",
            "Epoch 20/70\n",
            "42/42 [==============================] - 0s 3ms/step - loss: 0.4663 - accuracy: 0.8747 - val_loss: 0.4795 - val_accuracy: 0.8565\n",
            "Epoch 21/70\n",
            "42/42 [==============================] - 0s 3ms/step - loss: 0.4626 - accuracy: 0.8762 - val_loss: 0.4739 - val_accuracy: 0.8576\n",
            "Epoch 22/70\n",
            "42/42 [==============================] - 0s 3ms/step - loss: 0.4370 - accuracy: 0.8853 - val_loss: 0.4778 - val_accuracy: 0.8599\n",
            "Epoch 23/70\n",
            "42/42 [==============================] - 0s 3ms/step - loss: 0.4467 - accuracy: 0.8770 - val_loss: 0.4785 - val_accuracy: 0.8554\n",
            "Epoch 24/70\n",
            "42/42 [==============================] - 0s 3ms/step - loss: 0.4388 - accuracy: 0.8732 - val_loss: 0.4709 - val_accuracy: 0.8565\n",
            "Epoch 25/70\n",
            "42/42 [==============================] - 0s 3ms/step - loss: 0.4302 - accuracy: 0.8778 - val_loss: 0.4706 - val_accuracy: 0.8576\n",
            "Epoch 26/70\n",
            "42/42 [==============================] - 0s 3ms/step - loss: 0.4480 - accuracy: 0.8732 - val_loss: 0.4660 - val_accuracy: 0.8565\n",
            "Epoch 27/70\n",
            "42/42 [==============================] - 0s 3ms/step - loss: 0.4459 - accuracy: 0.8747 - val_loss: 0.4636 - val_accuracy: 0.8554\n",
            "Epoch 28/70\n",
            "42/42 [==============================] - 0s 3ms/step - loss: 0.4275 - accuracy: 0.8785 - val_loss: 0.4660 - val_accuracy: 0.8565\n",
            "Epoch 29/70\n",
            "42/42 [==============================] - 0s 3ms/step - loss: 0.4357 - accuracy: 0.8785 - val_loss: 0.4638 - val_accuracy: 0.8565\n",
            "Epoch 30/70\n",
            "42/42 [==============================] - 0s 3ms/step - loss: 0.4509 - accuracy: 0.8762 - val_loss: 0.4643 - val_accuracy: 0.8554\n",
            "Epoch 31/70\n",
            "42/42 [==============================] - 0s 3ms/step - loss: 0.4503 - accuracy: 0.8838 - val_loss: 0.4598 - val_accuracy: 0.8576\n",
            "Epoch 32/70\n",
            "42/42 [==============================] - 0s 3ms/step - loss: 0.4514 - accuracy: 0.8793 - val_loss: 0.4532 - val_accuracy: 0.8554\n",
            "Epoch 33/70\n",
            "42/42 [==============================] - 0s 3ms/step - loss: 0.4161 - accuracy: 0.8762 - val_loss: 0.4596 - val_accuracy: 0.8565\n",
            "Epoch 34/70\n",
            "42/42 [==============================] - 0s 3ms/step - loss: 0.4198 - accuracy: 0.8747 - val_loss: 0.4576 - val_accuracy: 0.8565\n",
            "Epoch 35/70\n",
            "42/42 [==============================] - 0s 3ms/step - loss: 0.4156 - accuracy: 0.8800 - val_loss: 0.4559 - val_accuracy: 0.8576\n",
            "Epoch 36/70\n",
            "42/42 [==============================] - 0s 3ms/step - loss: 0.4189 - accuracy: 0.8823 - val_loss: 0.4563 - val_accuracy: 0.8554\n",
            "Epoch 37/70\n",
            "42/42 [==============================] - 0s 3ms/step - loss: 0.4226 - accuracy: 0.8831 - val_loss: 0.4527 - val_accuracy: 0.8576\n",
            "Epoch 38/70\n",
            "42/42 [==============================] - 0s 3ms/step - loss: 0.4222 - accuracy: 0.8838 - val_loss: 0.4532 - val_accuracy: 0.8554\n",
            "Epoch 39/70\n",
            "42/42 [==============================] - 0s 3ms/step - loss: 0.4016 - accuracy: 0.8876 - val_loss: 0.4525 - val_accuracy: 0.8554\n",
            "Epoch 40/70\n",
            "42/42 [==============================] - 0s 3ms/step - loss: 0.4056 - accuracy: 0.8815 - val_loss: 0.4502 - val_accuracy: 0.8576\n",
            "Epoch 41/70\n",
            "42/42 [==============================] - 0s 3ms/step - loss: 0.4067 - accuracy: 0.8785 - val_loss: 0.4538 - val_accuracy: 0.8576\n",
            "Epoch 42/70\n",
            "42/42 [==============================] - 0s 3ms/step - loss: 0.4179 - accuracy: 0.8876 - val_loss: 0.4519 - val_accuracy: 0.8531\n",
            "Epoch 43/70\n",
            "42/42 [==============================] - 0s 3ms/step - loss: 0.4300 - accuracy: 0.8831 - val_loss: 0.4459 - val_accuracy: 0.8554\n",
            "Epoch 44/70\n",
            "42/42 [==============================] - 0s 3ms/step - loss: 0.4258 - accuracy: 0.8899 - val_loss: 0.4473 - val_accuracy: 0.8610\n",
            "Epoch 45/70\n",
            "42/42 [==============================] - 0s 3ms/step - loss: 0.4325 - accuracy: 0.8838 - val_loss: 0.4458 - val_accuracy: 0.8588\n",
            "Epoch 46/70\n",
            "42/42 [==============================] - 0s 3ms/step - loss: 0.3956 - accuracy: 0.8823 - val_loss: 0.4435 - val_accuracy: 0.8599\n",
            "Epoch 47/70\n",
            "42/42 [==============================] - 0s 3ms/step - loss: 0.4190 - accuracy: 0.8907 - val_loss: 0.4421 - val_accuracy: 0.8610\n",
            "Epoch 48/70\n",
            "42/42 [==============================] - 0s 3ms/step - loss: 0.3954 - accuracy: 0.8899 - val_loss: 0.4402 - val_accuracy: 0.8610\n",
            "Epoch 49/70\n",
            "42/42 [==============================] - 0s 3ms/step - loss: 0.3943 - accuracy: 0.8838 - val_loss: 0.4410 - val_accuracy: 0.8610\n",
            "Epoch 50/70\n",
            "42/42 [==============================] - 0s 3ms/step - loss: 0.4049 - accuracy: 0.8861 - val_loss: 0.4382 - val_accuracy: 0.8702\n",
            "Epoch 51/70\n",
            "42/42 [==============================] - 0s 3ms/step - loss: 0.4054 - accuracy: 0.8823 - val_loss: 0.4403 - val_accuracy: 0.8656\n",
            "Epoch 52/70\n",
            "42/42 [==============================] - 0s 3ms/step - loss: 0.3967 - accuracy: 0.8815 - val_loss: 0.4352 - val_accuracy: 0.8713\n",
            "Epoch 53/70\n",
            "42/42 [==============================] - 0s 3ms/step - loss: 0.3915 - accuracy: 0.8884 - val_loss: 0.4405 - val_accuracy: 0.8656\n",
            "Epoch 54/70\n",
            "42/42 [==============================] - 0s 3ms/step - loss: 0.3803 - accuracy: 0.8846 - val_loss: 0.4384 - val_accuracy: 0.8690\n",
            "Epoch 55/70\n",
            "42/42 [==============================] - 0s 3ms/step - loss: 0.3834 - accuracy: 0.8876 - val_loss: 0.4412 - val_accuracy: 0.8713\n",
            "Epoch 56/70\n",
            "42/42 [==============================] - 0s 3ms/step - loss: 0.4112 - accuracy: 0.8876 - val_loss: 0.4394 - val_accuracy: 0.8645\n",
            "Epoch 57/70\n",
            "42/42 [==============================] - 0s 3ms/step - loss: 0.3734 - accuracy: 0.8907 - val_loss: 0.4413 - val_accuracy: 0.8679\n",
            "Epoch 58/70\n",
            "42/42 [==============================] - 0s 3ms/step - loss: 0.3760 - accuracy: 0.8952 - val_loss: 0.4467 - val_accuracy: 0.8645\n",
            "Epoch 59/70\n",
            "42/42 [==============================] - 0s 3ms/step - loss: 0.3724 - accuracy: 0.8922 - val_loss: 0.4446 - val_accuracy: 0.8667\n",
            "Epoch 60/70\n",
            "42/42 [==============================] - 0s 3ms/step - loss: 0.3928 - accuracy: 0.8945 - val_loss: 0.4451 - val_accuracy: 0.8679\n",
            "Epoch 61/70\n",
            "42/42 [==============================] - 0s 3ms/step - loss: 0.3803 - accuracy: 0.8914 - val_loss: 0.4448 - val_accuracy: 0.8645\n",
            "Epoch 62/70\n",
            "42/42 [==============================] - 0s 3ms/step - loss: 0.3812 - accuracy: 0.8929 - val_loss: 0.4467 - val_accuracy: 0.8702\n",
            "Epoch 63/70\n",
            "42/42 [==============================] - 0s 3ms/step - loss: 0.3810 - accuracy: 0.8876 - val_loss: 0.4477 - val_accuracy: 0.8702\n",
            "Epoch 64/70\n",
            "42/42 [==============================] - 0s 3ms/step - loss: 0.3933 - accuracy: 0.8891 - val_loss: 0.4441 - val_accuracy: 0.8702\n",
            "Epoch 65/70\n",
            "42/42 [==============================] - 0s 3ms/step - loss: 0.3660 - accuracy: 0.8853 - val_loss: 0.4417 - val_accuracy: 0.8690\n",
            "Epoch 66/70\n",
            "42/42 [==============================] - 0s 3ms/step - loss: 0.3777 - accuracy: 0.8967 - val_loss: 0.4447 - val_accuracy: 0.8724\n",
            "Epoch 67/70\n",
            "42/42 [==============================] - 0s 3ms/step - loss: 0.3907 - accuracy: 0.8899 - val_loss: 0.4470 - val_accuracy: 0.8702\n",
            "Epoch 68/70\n",
            "42/42 [==============================] - 0s 3ms/step - loss: 0.3937 - accuracy: 0.8907 - val_loss: 0.4420 - val_accuracy: 0.8736\n",
            "Epoch 69/70\n",
            "42/42 [==============================] - 0s 3ms/step - loss: 0.3814 - accuracy: 0.8945 - val_loss: 0.4397 - val_accuracy: 0.8713\n",
            "Epoch 70/70\n",
            "42/42 [==============================] - 0s 3ms/step - loss: 0.3691 - accuracy: 0.8960 - val_loss: 0.4421 - val_accuracy: 0.8702\n"
          ],
          "name": "stdout"
        }
      ]
    },
    {
      "cell_type": "markdown",
      "metadata": {
        "id": "YQDKmJQ_kmdh",
        "colab_type": "text"
      },
      "source": [
        "## plot with train and test accuracy"
      ]
    },
    {
      "cell_type": "code",
      "metadata": {
        "id": "mi0f_JObgC4C",
        "colab_type": "code",
        "outputId": "349700f7-5e44-4c67-fcc8-730ab27ffea9",
        "colab": {
          "base_uri": "https://localhost:8080/",
          "height": 295
        }
      },
      "source": [
        "import matplotlib.pyplot as plt\n",
        "plt.plot(history.history['accuracy'])\n",
        "plt.plot(history.history['val_accuracy'])\n",
        "plt.title('model accuracy')\n",
        "plt.ylabel('accuracy')\n",
        "plt.xlabel('epoch')\n",
        "plt.ylim(0,1)\n",
        "plt.legend(['train', 'test'], loc='upper left')\n",
        "plt.show()"
      ],
      "execution_count": 34,
      "outputs": [
        {
          "output_type": "display_data",
          "data": {
            "image/png": "[encoded data removed]",
            "text/plain": [
              "<Figure size 432x288 with 1 Axes>"
            ]
          },
          "metadata": {
            "tags": [],
            "needs_background": "light"
          }
        }
      ]
    },
    {
      "cell_type": "code",
      "metadata": {
        "colab_type": "code",
        "id": "8sdN3j6SEAnL",
        "outputId": "bb0a6df7-3174-49ea-b483-82acc7916c96",
        "colab": {
          "base_uri": "https://localhost:8080/",
          "height": 295
        }
      },
      "source": [
        "import matplotlib.pyplot as plt\n",
        "plt.plot(history.history['loss'])\n",
        "plt.plot(history.history['val_loss'])\n",
        "plt.title('training loss')\n",
        "plt.ylabel('loss')\n",
        "plt.xlabel('epoch')\n",
        "plt.ylim(0,1)\n",
        "plt.legend(['train', 'test'], loc='upper left')\n",
        "plt.show()"
      ],
      "execution_count": 35,
      "outputs": [
        {
          "output_type": "display_data",
          "data": {
            "image/png": "[encoded data removed]",
            "text/plain": [
              "<Figure size 432x288 with 1 Axes>"
            ]
          },
          "metadata": {
            "tags": [],
            "needs_background": "light"
          }
        }
      ]
    },
    {
      "cell_type": "markdown",
      "metadata": {
        "id": "RwVgSUc6uC6Y",
        "colab_type": "text"
      },
      "source": [
        "### Save model \n"
      ]
    },
    {
      "cell_type": "code",
      "metadata": {
        "id": "Z2XZ1N0JuIop",
        "colab_type": "code",
        "colab": {}
      },
      "source": [
        "model.save('featureModelEng.h5')"
      ],
      "execution_count": 0,
      "outputs": []
    }
  ]
}