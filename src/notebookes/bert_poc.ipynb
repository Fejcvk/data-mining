{
 "cells": [
  {
   "cell_type": "markdown",
   "metadata": {
    "colab_type": "text",
    "id": "view-in-github"
   },
   "source": [
    "<a href=\"https://colab.research.google.com/github/Fejcvk/data-mining/blob/polbert-experiment/src/notebookes/bert_poc.ipynb\" target=\"_parent\"><img src=\"https://colab.research.google.com/assets/colab-badge.svg\" alt=\"Open In Colab\"/></a>"
   ]
  },
  {
   "cell_type": "markdown",
   "metadata": {
    "colab_type": "text",
    "id": "LS8rpwLvQJjN"
   },
   "source": [
    "# Preprocessing\n",
    "\n",
    "For now we need just pandas for parsing dataset and transformers for BERT"
   ]
  },
  {
   "cell_type": "code",
   "execution_count": 119,
   "metadata": {
    "colab": {
     "base_uri": "https://localhost:8080/",
     "height": 408
    },
    "colab_type": "code",
    "id": "lAuMoWx0QJjO",
    "outputId": "a1ec1dae-6236-48c8-c144-7db323c4bc64"
   },
   "outputs": [
    {
     "name": "stdout",
     "output_type": "stream",
     "text": [
      "Solving environment: done\n",
      "\n",
      "\n",
      "==> WARNING: A newer version of conda exists. <==\n",
      "  current version: 4.5.12\n",
      "  latest version: 4.8.3\n",
      "\n",
      "Please update conda by running\n",
      "\n",
      "    $ conda update -n base -c defaults conda\n",
      "\n",
      "\n",
      "\n",
      "# All requested packages already installed.\n",
      "\n",
      "Requirement already satisfied: transformers in /home/ec2-user/anaconda3/envs/pytorch_p36/lib/python3.6/site-packages (2.7.0)\n",
      "Requirement already satisfied: tqdm>=4.27 in /home/ec2-user/anaconda3/envs/pytorch_p36/lib/python3.6/site-packages (from transformers) (4.42.1)\n",
      "Requirement already satisfied: boto3 in /home/ec2-user/anaconda3/envs/pytorch_p36/lib/python3.6/site-packages (from transformers) (1.12.27)\n",
      "Requirement already satisfied: filelock in /home/ec2-user/anaconda3/envs/pytorch_p36/lib/python3.6/site-packages (from transformers) (3.0.4)\n",
      "Requirement already satisfied: dataclasses; python_version < \"3.7\" in /home/ec2-user/anaconda3/envs/pytorch_p36/lib/python3.6/site-packages (from transformers) (0.6)\n",
      "Requirement already satisfied: tokenizers==0.5.2 in /home/ec2-user/anaconda3/envs/pytorch_p36/lib/python3.6/site-packages (from transformers) (0.5.2)\n",
      "Requirement already satisfied: requests in /home/ec2-user/anaconda3/envs/pytorch_p36/lib/python3.6/site-packages (from transformers) (2.20.0)\n",
      "Requirement already satisfied: sacremoses in /home/ec2-user/anaconda3/envs/pytorch_p36/lib/python3.6/site-packages (from transformers) (0.0.38)\n",
      "Requirement already satisfied: regex!=2019.12.17 in /home/ec2-user/anaconda3/envs/pytorch_p36/lib/python3.6/site-packages (from transformers) (2020.2.20)\n",
      "Requirement already satisfied: sentencepiece in /home/ec2-user/anaconda3/envs/pytorch_p36/lib/python3.6/site-packages (from transformers) (0.1.85)\n",
      "Requirement already satisfied: numpy in /home/ec2-user/anaconda3/envs/pytorch_p36/lib/python3.6/site-packages (from transformers) (1.15.4)\n",
      "Requirement already satisfied: s3transfer<0.4.0,>=0.3.0 in /home/ec2-user/anaconda3/envs/pytorch_p36/lib/python3.6/site-packages (from boto3->transformers) (0.3.3)\n",
      "Requirement already satisfied: jmespath<1.0.0,>=0.7.1 in /home/ec2-user/anaconda3/envs/pytorch_p36/lib/python3.6/site-packages (from boto3->transformers) (0.9.4)\n",
      "Requirement already satisfied: botocore<1.16.0,>=1.15.27 in /home/ec2-user/anaconda3/envs/pytorch_p36/lib/python3.6/site-packages (from boto3->transformers) (1.15.27)\n",
      "Requirement already satisfied: chardet<3.1.0,>=3.0.2 in /home/ec2-user/anaconda3/envs/pytorch_p36/lib/python3.6/site-packages (from requests->transformers) (3.0.4)\n",
      "Requirement already satisfied: certifi>=2017.4.17 in /home/ec2-user/anaconda3/envs/pytorch_p36/lib/python3.6/site-packages (from requests->transformers) (2019.11.28)\n",
      "Requirement already satisfied: idna<2.8,>=2.5 in /home/ec2-user/anaconda3/envs/pytorch_p36/lib/python3.6/site-packages (from requests->transformers) (2.6)\n",
      "Requirement already satisfied: urllib3<1.25,>=1.21.1 in /home/ec2-user/anaconda3/envs/pytorch_p36/lib/python3.6/site-packages (from requests->transformers) (1.23)\n",
      "Requirement already satisfied: click in /home/ec2-user/anaconda3/envs/pytorch_p36/lib/python3.6/site-packages (from sacremoses->transformers) (6.7)\n",
      "Requirement already satisfied: six in /home/ec2-user/anaconda3/envs/pytorch_p36/lib/python3.6/site-packages (from sacremoses->transformers) (1.11.0)\n",
      "Requirement already satisfied: joblib in /home/ec2-user/anaconda3/envs/pytorch_p36/lib/python3.6/site-packages (from sacremoses->transformers) (0.14.1)\n",
      "Requirement already satisfied: docutils<0.16,>=0.10 in /home/ec2-user/anaconda3/envs/pytorch_p36/lib/python3.6/site-packages (from botocore<1.16.0,>=1.15.27->boto3->transformers) (0.14)\n",
      "Requirement already satisfied: python-dateutil<3.0.0,>=2.1 in /home/ec2-user/anaconda3/envs/pytorch_p36/lib/python3.6/site-packages (from botocore<1.16.0,>=1.15.27->boto3->transformers) (2.7.3)\n",
      "\u001b[31mfastai 1.0.60 requires nvidia-ml-py3, which is not installed.\u001b[0m\n",
      "\u001b[33mYou are using pip version 10.0.1, however version 20.0.2 is available.\n",
      "You should consider upgrading via the 'pip install --upgrade pip' command.\u001b[0m\n"
     ]
    }
   ],
   "source": [
    "!conda update nbformat -y\n",
    "!pip install transformers\n",
    "import pandas as pd\n",
    "from transformers import *\n",
    "import numpy as np\n",
    "import torch"
   ]
  },
  {
   "cell_type": "markdown",
   "metadata": {
    "colab_type": "text",
    "id": "s0lj_syhQJjU"
   },
   "source": [
    "Read excel file, skip headers and 1st row with column nasmes\n",
    "\n",
    "PS : Small hack with deleting biggest files from dataset. Gonna be fixed after obtaining bigger resources"
   ]
  },
  {
   "cell_type": "code",
   "execution_count": 120,
   "metadata": {
    "colab": {
     "base_uri": "https://localhost:8080/",
     "height": 1000
    },
    "colab_type": "code",
    "id": "vtWjVFAHQJjU",
    "outputId": "91ac5788-444e-4de9-a5f8-ccc4487a7fe5",
    "scrolled": true
   },
   "outputs": [],
   "source": [
    "df= pd.read_excel('dataset.xlsx', header=None, skiprows=1)\n",
    "# df.drop(df[df[4].map(len) > 250 ].index, inplace=True)\n",
    "# df.reset_index()"
   ]
  },
  {
   "cell_type": "markdown",
   "metadata": {
    "colab_type": "text",
    "id": "7N8cby-nQJjY"
   },
   "source": [
    "For our smaller version of dataset just take two features that we are interested in, namely T PL and GOLD<T,H>"
   ]
  },
  {
   "cell_type": "code",
   "execution_count": 121,
   "metadata": {
    "colab": {},
    "colab_type": "code",
    "id": "Ojgr5FaqQJjZ"
   },
   "outputs": [],
   "source": [
    "dataset = df[[4, 5]]"
   ]
  },
  {
   "cell_type": "code",
   "execution_count": 122,
   "metadata": {
    "colab": {
     "base_uri": "https://localhost:8080/",
     "height": 255
    },
    "colab_type": "code",
    "id": "77iv84InQJjc",
    "outputId": "d476a928-1df7-4e07-9449-cf23f434f4fa"
   },
   "outputs": [
    {
     "data": {
      "text/plain": [
       "<bound method NDFrame.head of                                                       4  5\n",
       "0     Ja na to, że mam klasówkę, że zawalę biologię ...  N\n",
       "1            Ani że na progu stanął właśnie Romanyczko.  ?\n",
       "2                  Potem, że się przywiezie Chińczyków.  N\n",
       "3     Słabł coraz bardziej, czuł, że to kwestia zale...  N\n",
       "4     Jednak ludzie bardzo ciężko chorzy, gdy już cz...  N\n",
       "5     To znaczy, że szatan jest w desperacji, przeds...  N\n",
       "6     Zresztą, w celi wcale nie czuło się, że jest maj.  E\n",
       "7                      Czuję, że już mnie nie kochasz.   N\n",
       "8                 A ja czuję, że nic z tego nie będzie.  N\n",
       "9     Choć \"Polskie Requiem\" wykonywano już w bardzo...  N\n",
       "10                  Czuję, że idą naprawdę dobre czasy.  N\n",
       "11                    czułem że coś mi brakuje że jakoś  N\n",
       "12    Ja patrzę na to tak: Niemcy czują, że ciągle m...  N\n",
       "13    Odradzam czystość, jeśli czuję, że za tym kryj...  N\n",
       "14    Po prostu czuję, że powinienem zgnić w krymina...  N\n",
       "15    Spotkaliśmy też ludzi, którzy grają w Orkiestr...  N\n",
       "16    Zarządzam trzema zespołami ludzkimi, więc czas...  N\n",
       "17    To dotyczy ludzi, którzy na co dzień mają kłop...  ?\n",
       "18    czy czujesz że jesteś stworzona do rodzenia ch...  N\n",
       "19         Czuł, że maszynistka nie spuszczają zeń oczu  E\n",
       "20    Trochę po północy ksiądz Suryn obudził się gwa...  E\n",
       "21    To oni - zagrożeni konkurencją - alarmowali, ż...  N\n",
       "22    Nie zgodzili się, argumentując, że nie stać ic...  N\n",
       "23    Sąd sprawę oddalił, argumentując, że zamiast c...  N\n",
       "24              Boję się, że to nie tylko moja porażka…  N\n",
       "25    Też miałam coś podobnego...tylko że nie bałam ...  N\n",
       "26    Magda to wtedy jak już po tym pierwszym piwie ...  N\n",
       "27     bo przede wszystkim Rosjanie boją się że wyro...  N\n",
       "28           A ja się boję, że wtedy zostanę odrzucona.  N\n",
       "29    Boimy się, że zaatakują nas bakterie, że coś n...  N\n",
       "...                                                 ... ..\n",
       "2566    Maria widzi, że atmosfera jest bardzo napięta.   E\n",
       "2567  Pomysł na opowiadanie: facet się budzi i widzi...  E\n",
       "2568                     Teraz widzę, że to bez sensu.   E\n",
       "2569         Tylko... widzę, że się z czymś męczysz...   E\n",
       "2570                            widzimy że tego nie ma.  E\n",
       "2571  Widzimy, że Jolka, tańcząc z Karolem widzi, że...  E\n",
       "2572  Widzimy, że Jolka, tańcząc z Karolem widzi, że...  E\n",
       "2573  Widzimy, że przed chwilą się poprztykali. Ela ...  E\n",
       "2574  widzisz że taka jest też w sumie nie powinna b...  E\n",
       "2575  Wraca Agnieszka. Widzi, że Łukasz śmieje się z...  E\n",
       "2576  Wszystkie inne rozróżnienia Bergsona dzielą te...  E\n",
       "2577  Przecież widziałem w twoich oczach, że mnie ko...  ?\n",
       "2578  Czasami jednak widzę, że zdanie wytrzymało pró...  E\n",
       "2579  Gołym okiem jednak widać, że poruszające się p...  E\n",
       "2580  Patrząc na fundamenty podtopionych budynków pa...  E\n",
       "2581  Widać było, że nie ustoi, że jak badyl złamany...  E\n",
       "2582  Widać było, że nie ustoi, że jak badyl złamany...  E\n",
       "2583            Widać, że jest już na ostatnich nogach.  E\n",
       "2584  Zdołał jedynie ustalić, iż system oparty jest ...  E\n",
       "2585  Ustalono, że łączą go z niektórymi członkami g...  N\n",
       "2586  Bergson gani uczonych z powodu ich \"manii wtła...  N\n",
       "2587  Nam udało się ustalić, że Malex dostał jeszcze...  N\n",
       "2588  Nieoficjalnie ustaliliśmy, że rozważane są tak...  N\n",
       "2589  Pan twierdzi na to, że pan ustalił, analizując...  N\n",
       "2590  Policjanci natychmiast ustalili, że samochód n...  N\n",
       "2591  Udało się ustalić, że obie dziewczynki mogą pr...  N\n",
       "2592  Ustalono, że łączą go z niektórymi członkami g...  N\n",
       "2593  Tu będą mogli zobaczyć, że Państwo Izrael ma k...  E\n",
       "2594  Oczywiście, że można kochać, jeśli zobaczy się...  N\n",
       "2595  Oczywiście, że można kochać, jeśli zobaczy się...  N\n",
       "\n",
       "[2596 rows x 2 columns]>"
      ]
     },
     "execution_count": 122,
     "metadata": {},
     "output_type": "execute_result"
    }
   ],
   "source": [
    "dataset.head"
   ]
  },
  {
   "cell_type": "markdown",
   "metadata": {
    "colab_type": "text",
    "id": "lm3X0MrYQJjf"
   },
   "source": [
    "Change labels of ECN for numeric values"
   ]
  },
  {
   "cell_type": "code",
   "execution_count": 123,
   "metadata": {
    "colab": {},
    "colab_type": "code",
    "id": "hUBnlvgIQJjg"
   },
   "outputs": [],
   "source": [
    "labels = {'E':0,'C':1,'N':2,'?':3}\n",
    "\n",
    "for idx, row in dataset.iterrows():\n",
    "    row[5] = labels[row[5]]"
   ]
  },
  {
   "cell_type": "code",
   "execution_count": 124,
   "metadata": {
    "colab": {
     "base_uri": "https://localhost:8080/",
     "height": 419
    },
    "colab_type": "code",
    "id": "jDFnAzgCQJjj",
    "outputId": "bd559d13-04fe-4501-eaf4-39e169e797b0"
   },
   "outputs": [
    {
     "data": {
      "text/html": [
       "<div>\n",
       "<style scoped>\n",
       "    .dataframe tbody tr th:only-of-type {\n",
       "        vertical-align: middle;\n",
       "    }\n",
       "\n",
       "    .dataframe tbody tr th {\n",
       "        vertical-align: top;\n",
       "    }\n",
       "\n",
       "    .dataframe thead th {\n",
       "        text-align: right;\n",
       "    }\n",
       "</style>\n",
       "<table border=\"1\" class=\"dataframe\">\n",
       "  <thead>\n",
       "    <tr style=\"text-align: right;\">\n",
       "      <th></th>\n",
       "      <th>4</th>\n",
       "      <th>5</th>\n",
       "    </tr>\n",
       "  </thead>\n",
       "  <tbody>\n",
       "    <tr>\n",
       "      <th>0</th>\n",
       "      <td>Ja na to, że mam klasówkę, że zawalę biologię ...</td>\n",
       "      <td>2</td>\n",
       "    </tr>\n",
       "    <tr>\n",
       "      <th>1</th>\n",
       "      <td>Ani że na progu stanął właśnie Romanyczko.</td>\n",
       "      <td>3</td>\n",
       "    </tr>\n",
       "    <tr>\n",
       "      <th>2</th>\n",
       "      <td>Potem, że się przywiezie Chińczyków.</td>\n",
       "      <td>2</td>\n",
       "    </tr>\n",
       "    <tr>\n",
       "      <th>3</th>\n",
       "      <td>Słabł coraz bardziej, czuł, że to kwestia zale...</td>\n",
       "      <td>2</td>\n",
       "    </tr>\n",
       "    <tr>\n",
       "      <th>4</th>\n",
       "      <td>Jednak ludzie bardzo ciężko chorzy, gdy już cz...</td>\n",
       "      <td>2</td>\n",
       "    </tr>\n",
       "    <tr>\n",
       "      <th>5</th>\n",
       "      <td>To znaczy, że szatan jest w desperacji, przeds...</td>\n",
       "      <td>2</td>\n",
       "    </tr>\n",
       "    <tr>\n",
       "      <th>6</th>\n",
       "      <td>Zresztą, w celi wcale nie czuło się, że jest maj.</td>\n",
       "      <td>0</td>\n",
       "    </tr>\n",
       "    <tr>\n",
       "      <th>7</th>\n",
       "      <td>Czuję, że już mnie nie kochasz.</td>\n",
       "      <td>2</td>\n",
       "    </tr>\n",
       "    <tr>\n",
       "      <th>8</th>\n",
       "      <td>A ja czuję, że nic z tego nie będzie.</td>\n",
       "      <td>2</td>\n",
       "    </tr>\n",
       "    <tr>\n",
       "      <th>9</th>\n",
       "      <td>Choć \"Polskie Requiem\" wykonywano już w bardzo...</td>\n",
       "      <td>2</td>\n",
       "    </tr>\n",
       "    <tr>\n",
       "      <th>10</th>\n",
       "      <td>Czuję, że idą naprawdę dobre czasy.</td>\n",
       "      <td>2</td>\n",
       "    </tr>\n",
       "    <tr>\n",
       "      <th>11</th>\n",
       "      <td>czułem że coś mi brakuje że jakoś</td>\n",
       "      <td>2</td>\n",
       "    </tr>\n",
       "    <tr>\n",
       "      <th>12</th>\n",
       "      <td>Ja patrzę na to tak: Niemcy czują, że ciągle m...</td>\n",
       "      <td>2</td>\n",
       "    </tr>\n",
       "    <tr>\n",
       "      <th>13</th>\n",
       "      <td>Odradzam czystość, jeśli czuję, że za tym kryj...</td>\n",
       "      <td>2</td>\n",
       "    </tr>\n",
       "    <tr>\n",
       "      <th>14</th>\n",
       "      <td>Po prostu czuję, że powinienem zgnić w krymina...</td>\n",
       "      <td>2</td>\n",
       "    </tr>\n",
       "    <tr>\n",
       "      <th>15</th>\n",
       "      <td>Spotkaliśmy też ludzi, którzy grają w Orkiestr...</td>\n",
       "      <td>2</td>\n",
       "    </tr>\n",
       "    <tr>\n",
       "      <th>16</th>\n",
       "      <td>Zarządzam trzema zespołami ludzkimi, więc czas...</td>\n",
       "      <td>2</td>\n",
       "    </tr>\n",
       "    <tr>\n",
       "      <th>17</th>\n",
       "      <td>To dotyczy ludzi, którzy na co dzień mają kłop...</td>\n",
       "      <td>3</td>\n",
       "    </tr>\n",
       "    <tr>\n",
       "      <th>18</th>\n",
       "      <td>czy czujesz że jesteś stworzona do rodzenia ch...</td>\n",
       "      <td>2</td>\n",
       "    </tr>\n",
       "    <tr>\n",
       "      <th>19</th>\n",
       "      <td>Czuł, że maszynistka nie spuszczają zeń oczu</td>\n",
       "      <td>0</td>\n",
       "    </tr>\n",
       "    <tr>\n",
       "      <th>20</th>\n",
       "      <td>Trochę po północy ksiądz Suryn obudził się gwa...</td>\n",
       "      <td>0</td>\n",
       "    </tr>\n",
       "    <tr>\n",
       "      <th>21</th>\n",
       "      <td>To oni - zagrożeni konkurencją - alarmowali, ż...</td>\n",
       "      <td>2</td>\n",
       "    </tr>\n",
       "    <tr>\n",
       "      <th>22</th>\n",
       "      <td>Nie zgodzili się, argumentując, że nie stać ic...</td>\n",
       "      <td>2</td>\n",
       "    </tr>\n",
       "    <tr>\n",
       "      <th>23</th>\n",
       "      <td>Sąd sprawę oddalił, argumentując, że zamiast c...</td>\n",
       "      <td>2</td>\n",
       "    </tr>\n",
       "    <tr>\n",
       "      <th>24</th>\n",
       "      <td>Boję się, że to nie tylko moja porażka…</td>\n",
       "      <td>2</td>\n",
       "    </tr>\n",
       "    <tr>\n",
       "      <th>25</th>\n",
       "      <td>Też miałam coś podobnego...tylko że nie bałam ...</td>\n",
       "      <td>2</td>\n",
       "    </tr>\n",
       "    <tr>\n",
       "      <th>26</th>\n",
       "      <td>Magda to wtedy jak już po tym pierwszym piwie ...</td>\n",
       "      <td>2</td>\n",
       "    </tr>\n",
       "    <tr>\n",
       "      <th>27</th>\n",
       "      <td>bo przede wszystkim Rosjanie boją się że wyro...</td>\n",
       "      <td>2</td>\n",
       "    </tr>\n",
       "    <tr>\n",
       "      <th>28</th>\n",
       "      <td>A ja się boję, że wtedy zostanę odrzucona.</td>\n",
       "      <td>2</td>\n",
       "    </tr>\n",
       "    <tr>\n",
       "      <th>29</th>\n",
       "      <td>Boimy się, że zaatakują nas bakterie, że coś n...</td>\n",
       "      <td>2</td>\n",
       "    </tr>\n",
       "    <tr>\n",
       "      <th>...</th>\n",
       "      <td>...</td>\n",
       "      <td>...</td>\n",
       "    </tr>\n",
       "    <tr>\n",
       "      <th>2566</th>\n",
       "      <td>Maria widzi, że atmosfera jest bardzo napięta.</td>\n",
       "      <td>0</td>\n",
       "    </tr>\n",
       "    <tr>\n",
       "      <th>2567</th>\n",
       "      <td>Pomysł na opowiadanie: facet się budzi i widzi...</td>\n",
       "      <td>0</td>\n",
       "    </tr>\n",
       "    <tr>\n",
       "      <th>2568</th>\n",
       "      <td>Teraz widzę, że to bez sensu.</td>\n",
       "      <td>0</td>\n",
       "    </tr>\n",
       "    <tr>\n",
       "      <th>2569</th>\n",
       "      <td>Tylko... widzę, że się z czymś męczysz...</td>\n",
       "      <td>0</td>\n",
       "    </tr>\n",
       "    <tr>\n",
       "      <th>2570</th>\n",
       "      <td>widzimy że tego nie ma.</td>\n",
       "      <td>0</td>\n",
       "    </tr>\n",
       "    <tr>\n",
       "      <th>2571</th>\n",
       "      <td>Widzimy, że Jolka, tańcząc z Karolem widzi, że...</td>\n",
       "      <td>0</td>\n",
       "    </tr>\n",
       "    <tr>\n",
       "      <th>2572</th>\n",
       "      <td>Widzimy, że Jolka, tańcząc z Karolem widzi, że...</td>\n",
       "      <td>0</td>\n",
       "    </tr>\n",
       "    <tr>\n",
       "      <th>2573</th>\n",
       "      <td>Widzimy, że przed chwilą się poprztykali. Ela ...</td>\n",
       "      <td>0</td>\n",
       "    </tr>\n",
       "    <tr>\n",
       "      <th>2574</th>\n",
       "      <td>widzisz że taka jest też w sumie nie powinna b...</td>\n",
       "      <td>0</td>\n",
       "    </tr>\n",
       "    <tr>\n",
       "      <th>2575</th>\n",
       "      <td>Wraca Agnieszka. Widzi, że Łukasz śmieje się z...</td>\n",
       "      <td>0</td>\n",
       "    </tr>\n",
       "    <tr>\n",
       "      <th>2576</th>\n",
       "      <td>Wszystkie inne rozróżnienia Bergsona dzielą te...</td>\n",
       "      <td>0</td>\n",
       "    </tr>\n",
       "    <tr>\n",
       "      <th>2577</th>\n",
       "      <td>Przecież widziałem w twoich oczach, że mnie ko...</td>\n",
       "      <td>3</td>\n",
       "    </tr>\n",
       "    <tr>\n",
       "      <th>2578</th>\n",
       "      <td>Czasami jednak widzę, że zdanie wytrzymało pró...</td>\n",
       "      <td>0</td>\n",
       "    </tr>\n",
       "    <tr>\n",
       "      <th>2579</th>\n",
       "      <td>Gołym okiem jednak widać, że poruszające się p...</td>\n",
       "      <td>0</td>\n",
       "    </tr>\n",
       "    <tr>\n",
       "      <th>2580</th>\n",
       "      <td>Patrząc na fundamenty podtopionych budynków pa...</td>\n",
       "      <td>0</td>\n",
       "    </tr>\n",
       "    <tr>\n",
       "      <th>2581</th>\n",
       "      <td>Widać było, że nie ustoi, że jak badyl złamany...</td>\n",
       "      <td>0</td>\n",
       "    </tr>\n",
       "    <tr>\n",
       "      <th>2582</th>\n",
       "      <td>Widać było, że nie ustoi, że jak badyl złamany...</td>\n",
       "      <td>0</td>\n",
       "    </tr>\n",
       "    <tr>\n",
       "      <th>2583</th>\n",
       "      <td>Widać, że jest już na ostatnich nogach.</td>\n",
       "      <td>0</td>\n",
       "    </tr>\n",
       "    <tr>\n",
       "      <th>2584</th>\n",
       "      <td>Zdołał jedynie ustalić, iż system oparty jest ...</td>\n",
       "      <td>0</td>\n",
       "    </tr>\n",
       "    <tr>\n",
       "      <th>2585</th>\n",
       "      <td>Ustalono, że łączą go z niektórymi członkami g...</td>\n",
       "      <td>2</td>\n",
       "    </tr>\n",
       "    <tr>\n",
       "      <th>2586</th>\n",
       "      <td>Bergson gani uczonych z powodu ich \"manii wtła...</td>\n",
       "      <td>2</td>\n",
       "    </tr>\n",
       "    <tr>\n",
       "      <th>2587</th>\n",
       "      <td>Nam udało się ustalić, że Malex dostał jeszcze...</td>\n",
       "      <td>2</td>\n",
       "    </tr>\n",
       "    <tr>\n",
       "      <th>2588</th>\n",
       "      <td>Nieoficjalnie ustaliliśmy, że rozważane są tak...</td>\n",
       "      <td>2</td>\n",
       "    </tr>\n",
       "    <tr>\n",
       "      <th>2589</th>\n",
       "      <td>Pan twierdzi na to, że pan ustalił, analizując...</td>\n",
       "      <td>2</td>\n",
       "    </tr>\n",
       "    <tr>\n",
       "      <th>2590</th>\n",
       "      <td>Policjanci natychmiast ustalili, że samochód n...</td>\n",
       "      <td>2</td>\n",
       "    </tr>\n",
       "    <tr>\n",
       "      <th>2591</th>\n",
       "      <td>Udało się ustalić, że obie dziewczynki mogą pr...</td>\n",
       "      <td>2</td>\n",
       "    </tr>\n",
       "    <tr>\n",
       "      <th>2592</th>\n",
       "      <td>Ustalono, że łączą go z niektórymi członkami g...</td>\n",
       "      <td>2</td>\n",
       "    </tr>\n",
       "    <tr>\n",
       "      <th>2593</th>\n",
       "      <td>Tu będą mogli zobaczyć, że Państwo Izrael ma k...</td>\n",
       "      <td>0</td>\n",
       "    </tr>\n",
       "    <tr>\n",
       "      <th>2594</th>\n",
       "      <td>Oczywiście, że można kochać, jeśli zobaczy się...</td>\n",
       "      <td>2</td>\n",
       "    </tr>\n",
       "    <tr>\n",
       "      <th>2595</th>\n",
       "      <td>Oczywiście, że można kochać, jeśli zobaczy się...</td>\n",
       "      <td>2</td>\n",
       "    </tr>\n",
       "  </tbody>\n",
       "</table>\n",
       "<p>2596 rows × 2 columns</p>\n",
       "</div>"
      ],
      "text/plain": [
       "                                                      4  5\n",
       "0     Ja na to, że mam klasówkę, że zawalę biologię ...  2\n",
       "1            Ani że na progu stanął właśnie Romanyczko.  3\n",
       "2                  Potem, że się przywiezie Chińczyków.  2\n",
       "3     Słabł coraz bardziej, czuł, że to kwestia zale...  2\n",
       "4     Jednak ludzie bardzo ciężko chorzy, gdy już cz...  2\n",
       "5     To znaczy, że szatan jest w desperacji, przeds...  2\n",
       "6     Zresztą, w celi wcale nie czuło się, że jest maj.  0\n",
       "7                      Czuję, że już mnie nie kochasz.   2\n",
       "8                 A ja czuję, że nic z tego nie będzie.  2\n",
       "9     Choć \"Polskie Requiem\" wykonywano już w bardzo...  2\n",
       "10                  Czuję, że idą naprawdę dobre czasy.  2\n",
       "11                    czułem że coś mi brakuje że jakoś  2\n",
       "12    Ja patrzę na to tak: Niemcy czują, że ciągle m...  2\n",
       "13    Odradzam czystość, jeśli czuję, że za tym kryj...  2\n",
       "14    Po prostu czuję, że powinienem zgnić w krymina...  2\n",
       "15    Spotkaliśmy też ludzi, którzy grają w Orkiestr...  2\n",
       "16    Zarządzam trzema zespołami ludzkimi, więc czas...  2\n",
       "17    To dotyczy ludzi, którzy na co dzień mają kłop...  3\n",
       "18    czy czujesz że jesteś stworzona do rodzenia ch...  2\n",
       "19         Czuł, że maszynistka nie spuszczają zeń oczu  0\n",
       "20    Trochę po północy ksiądz Suryn obudził się gwa...  0\n",
       "21    To oni - zagrożeni konkurencją - alarmowali, ż...  2\n",
       "22    Nie zgodzili się, argumentując, że nie stać ic...  2\n",
       "23    Sąd sprawę oddalił, argumentując, że zamiast c...  2\n",
       "24              Boję się, że to nie tylko moja porażka…  2\n",
       "25    Też miałam coś podobnego...tylko że nie bałam ...  2\n",
       "26    Magda to wtedy jak już po tym pierwszym piwie ...  2\n",
       "27     bo przede wszystkim Rosjanie boją się że wyro...  2\n",
       "28           A ja się boję, że wtedy zostanę odrzucona.  2\n",
       "29    Boimy się, że zaatakują nas bakterie, że coś n...  2\n",
       "...                                                 ... ..\n",
       "2566    Maria widzi, że atmosfera jest bardzo napięta.   0\n",
       "2567  Pomysł na opowiadanie: facet się budzi i widzi...  0\n",
       "2568                     Teraz widzę, że to bez sensu.   0\n",
       "2569         Tylko... widzę, że się z czymś męczysz...   0\n",
       "2570                            widzimy że tego nie ma.  0\n",
       "2571  Widzimy, że Jolka, tańcząc z Karolem widzi, że...  0\n",
       "2572  Widzimy, że Jolka, tańcząc z Karolem widzi, że...  0\n",
       "2573  Widzimy, że przed chwilą się poprztykali. Ela ...  0\n",
       "2574  widzisz że taka jest też w sumie nie powinna b...  0\n",
       "2575  Wraca Agnieszka. Widzi, że Łukasz śmieje się z...  0\n",
       "2576  Wszystkie inne rozróżnienia Bergsona dzielą te...  0\n",
       "2577  Przecież widziałem w twoich oczach, że mnie ko...  3\n",
       "2578  Czasami jednak widzę, że zdanie wytrzymało pró...  0\n",
       "2579  Gołym okiem jednak widać, że poruszające się p...  0\n",
       "2580  Patrząc na fundamenty podtopionych budynków pa...  0\n",
       "2581  Widać było, że nie ustoi, że jak badyl złamany...  0\n",
       "2582  Widać było, że nie ustoi, że jak badyl złamany...  0\n",
       "2583            Widać, że jest już na ostatnich nogach.  0\n",
       "2584  Zdołał jedynie ustalić, iż system oparty jest ...  0\n",
       "2585  Ustalono, że łączą go z niektórymi członkami g...  2\n",
       "2586  Bergson gani uczonych z powodu ich \"manii wtła...  2\n",
       "2587  Nam udało się ustalić, że Malex dostał jeszcze...  2\n",
       "2588  Nieoficjalnie ustaliliśmy, że rozważane są tak...  2\n",
       "2589  Pan twierdzi na to, że pan ustalił, analizując...  2\n",
       "2590  Policjanci natychmiast ustalili, że samochód n...  2\n",
       "2591  Udało się ustalić, że obie dziewczynki mogą pr...  2\n",
       "2592  Ustalono, że łączą go z niektórymi członkami g...  2\n",
       "2593  Tu będą mogli zobaczyć, że Państwo Izrael ma k...  0\n",
       "2594  Oczywiście, że można kochać, jeśli zobaczy się...  2\n",
       "2595  Oczywiście, że można kochać, jeśli zobaczy się...  2\n",
       "\n",
       "[2596 rows x 2 columns]"
      ]
     },
     "execution_count": 124,
     "metadata": {},
     "output_type": "execute_result"
    }
   ],
   "source": [
    "dataset"
   ]
  },
  {
   "cell_type": "code",
   "execution_count": 125,
   "metadata": {
    "colab": {
     "base_uri": "https://localhost:8080/",
     "height": 102
    },
    "colab_type": "code",
    "id": "fMzTSIRrQJjm",
    "outputId": "363dce4d-ac70-4361-c365-c20da1327824"
   },
   "outputs": [
    {
     "data": {
      "text/plain": [
       "2    1614\n",
       "0     830\n",
       "3      88\n",
       "1      64\n",
       "Name: 5, dtype: int64"
      ]
     },
     "execution_count": 125,
     "metadata": {},
     "output_type": "execute_result"
    }
   ],
   "source": [
    "dataset[5].value_counts()"
   ]
  },
  {
   "cell_type": "code",
   "execution_count": 126,
   "metadata": {
    "colab": {
     "base_uri": "https://localhost:8080/",
     "height": 34
    },
    "colab_type": "code",
    "id": "Mj_Fsx6RQJjp",
    "outputId": "83a6ff32-e545-45fe-8981-afdfaf838151"
   },
   "outputs": [
    {
     "name": "stdout",
     "output_type": "stream",
     "text": [
      "360\n"
     ]
    }
   ],
   "source": [
    "max_len = 0\n",
    "m_idx = 0\n",
    "for idx,row in dataset.iterrows():\n",
    "    l = len(row[4])\n",
    "    if l > max_len:\n",
    "        max_len = l\n",
    "        m_idx = idx\n",
    "print(m_idx)"
   ]
  },
  {
   "cell_type": "code",
   "execution_count": 127,
   "metadata": {
    "colab": {
     "base_uri": "https://localhost:8080/",
     "height": 34
    },
    "colab_type": "code",
    "id": "DMGWi_5oQJjr",
    "outputId": "3777b468-d41a-4b8e-d36d-67f6969a1e1a"
   },
   "outputs": [
    {
     "name": "stdout",
     "output_type": "stream",
     "text": [
      "Ci z koalicji rządzącej, ci posłowie, którzy w trakcie posiedzenia sejmowej Komisji Polityki Gospodarczej, Budżetu i Finansów z uporem, myślę, godnym lepszej sprawy, bronili faktu, aby rząd łącznie z budżetem - zapowiadam, łącznie z budżetem, bo mamy świadomość, że nie było i nie ma czasu na to, żeby wcześniej rozpatrywać założenia, a potem przedkładać budżet - przedłożył założenia polityki społeczno-gospodarczej, jako dokumentu ujmującego tę politykę w dłuższym czasie, posłowie, którzy nie dopuścili do takiego rozstrzygnięcia - przypominam, tylko jednym głosem - źle służą również rządowi.\n"
     ]
    }
   ],
   "source": [
    "print(dataset[4][m_idx])"
   ]
  },
  {
   "cell_type": "code",
   "execution_count": 128,
   "metadata": {
    "colab": {
     "base_uri": "https://localhost:8080/",
     "height": 102
    },
    "colab_type": "code",
    "id": "jnyxW57oQJju",
    "outputId": "431f0f19-4d1f-465d-fc23-04e572950898"
   },
   "outputs": [
    {
     "name": "stdout",
     "output_type": "stream",
     "text": [
      "Requirement already satisfied: sklearn in /home/ec2-user/anaconda3/envs/pytorch_p36/lib/python3.6/site-packages (0.0)\n",
      "Requirement already satisfied: scikit-learn in /home/ec2-user/anaconda3/envs/pytorch_p36/lib/python3.6/site-packages (from sklearn) (0.20.3)\n",
      "Requirement already satisfied: numpy>=1.8.2 in /home/ec2-user/anaconda3/envs/pytorch_p36/lib/python3.6/site-packages (from scikit-learn->sklearn) (1.15.4)\n",
      "Requirement already satisfied: scipy>=0.13.3 in /home/ec2-user/anaconda3/envs/pytorch_p36/lib/python3.6/site-packages (from scikit-learn->sklearn) (1.1.0)\n",
      "\u001b[31mfastai 1.0.60 requires nvidia-ml-py3, which is not installed.\u001b[0m\n",
      "\u001b[33mYou are using pip version 10.0.1, however version 20.0.2 is available.\n",
      "You should consider upgrading via the 'pip install --upgrade pip' command.\u001b[0m\n"
     ]
    }
   ],
   "source": [
    "!pip install sklearn\n",
    "from sklearn.model_selection import train_test_split"
   ]
  },
  {
   "cell_type": "markdown",
   "metadata": {
    "colab_type": "text",
    "id": "gWyQKEhGQJjx"
   },
   "source": [
    "# Polbert\n",
    "\n",
    "Here we import pretrained version of Bert for Polish language"
   ]
  },
  {
   "cell_type": "code",
   "execution_count": 149,
   "metadata": {
    "colab": {},
    "colab_type": "code",
    "id": "m0MH6jDKQJjx"
   },
   "outputs": [],
   "source": [
    "model_class, tokenizer_class, pretrained_weights = (BertModel, BertTokenizer, \"dkleczek/bert-base-polish-uncased-v1\")\n",
    "\n",
    "model = model_class.from_pretrained(pretrained_weights)\n",
    "tokenizer = tokenizer_class.from_pretrained(pretrained_weights)"
   ]
  },
  {
   "cell_type": "markdown",
   "metadata": {
    "colab_type": "text",
    "id": "FTDjTaE9QJj1"
   },
   "source": [
    "## Tokenization\n",
    "\n",
    "Tokenize every sentence from our dataset"
   ]
  },
  {
   "cell_type": "code",
   "execution_count": 150,
   "metadata": {
    "colab": {},
    "colab_type": "code",
    "id": "ynst0zmtQJj2"
   },
   "outputs": [],
   "source": [
    "tokenized = dataset[4].apply((lambda x: tokenizer.encode(x, add_special_tokens=True)))"
   ]
  },
  {
   "cell_type": "code",
   "execution_count": 151,
   "metadata": {
    "colab": {
     "base_uri": "https://localhost:8080/",
     "height": 173
    },
    "colab_type": "code",
    "id": "mZPS_Q89QJj5",
    "outputId": "9fa515e4-d29d-47d9-d1ed-a2105a0075a0"
   },
   "outputs": [
    {
     "data": {
      "text/plain": [
       "array([list([2, 2055, 1898, 1907, 16, 2095, 2040, 15701, 1889, 3118, 16, 2095, 32091, 1014, 12071, 1014, 51, 1893, 15887, 1012, 1906, 27508, 2165, 4785, 18, 4]),\n",
       "       list([2, 2937, 2095, 1898, 26468, 40126, 1019, 29480, 6977, 1013, 7150, 18, 4]),\n",
       "       list([2, 3006, 16, 2095, 2243, 11319, 2713, 11007, 8572, 1889, 18, 4]),\n",
       "       ...,\n",
       "       list([2, 2030, 40221, 4949, 38584, 16, 2095, 2013, 2803, 12250, 1994, 26825, 2437, 48721, 16, 2030, 14229, 2114, 2808, 21694, 40575, 4955, 52867, 9417, 16, 2030, 8822, 1948, 2243, 24391, 3117, 4955, 52867, 1014, 27972, 16, 2030, 48570, 41886, 2243, 51, 5245, 50930, 36755, 50719, 15956, 23652, 2054, 18, 4]),\n",
       "       list([2, 31040, 16, 2095, 29801, 6289, 1015, 16, 10865, 3403, 2243, 16, 2095, 2259, 16879, 1015, 1893, 40065, 1923, 2243, 68, 4109, 16, 2095, 2499, 3089, 1906, 3115, 3410, 18, 4]),\n",
       "       list([2, 31040, 16, 2095, 29801, 6289, 1015, 16, 10865, 3403, 2243, 16, 2095, 2259, 16879, 1015, 1893, 40065, 1923, 2243, 68, 4109, 16, 2095, 2499, 3089, 1906, 3115, 3410, 18, 4])],\n",
       "      dtype=object)"
      ]
     },
     "execution_count": 151,
     "metadata": {},
     "output_type": "execute_result"
    }
   ],
   "source": [
    "tokenized.values"
   ]
  },
  {
   "cell_type": "markdown",
   "metadata": {
    "colab_type": "text",
    "id": "oaDi0KStQJj8"
   },
   "source": [
    "## Padding\n",
    "\n",
    "We need to have input of the same lenght in order to feed BERT once (we will get performance speed). This will be some simple python string manipulations"
   ]
  },
  {
   "cell_type": "code",
   "execution_count": 152,
   "metadata": {
    "colab": {},
    "colab_type": "code",
    "id": "5aSvvbmTQJj8"
   },
   "outputs": [],
   "source": [
    "max_len = 0\n",
    "for i in tokenized.values:\n",
    "    if len(i) > max_len:\n",
    "        max_len = len(i)"
   ]
  },
  {
   "cell_type": "code",
   "execution_count": 153,
   "metadata": {
    "colab": {
     "base_uri": "https://localhost:8080/",
     "height": 34
    },
    "colab_type": "code",
    "id": "nGx5Tv89QJj_",
    "outputId": "a4352b2e-b43a-4f56-8f00-a0fd9db4a57b"
   },
   "outputs": [
    {
     "data": {
      "text/plain": [
       "146"
      ]
     },
     "execution_count": 153,
     "metadata": {},
     "output_type": "execute_result"
    }
   ],
   "source": [
    "max_len"
   ]
  },
  {
   "cell_type": "markdown",
   "metadata": {
    "colab_type": "text",
    "id": "m6khNyYFQJkC"
   },
   "source": [
    "Maybe we can consider shortening some sentences here"
   ]
  },
  {
   "cell_type": "code",
   "execution_count": 154,
   "metadata": {
    "colab": {},
    "colab_type": "code",
    "id": "yrk93wfaQJkC"
   },
   "outputs": [],
   "source": [
    "padded = np.array([i + [0]*(max_len-len(i)) for i in tokenized.values])"
   ]
  },
  {
   "cell_type": "code",
   "execution_count": 155,
   "metadata": {
    "colab": {
     "base_uri": "https://localhost:8080/",
     "height": 136
    },
    "colab_type": "code",
    "id": "kKCOSXjXQJkF",
    "outputId": "36e6de7a-e281-4a24-e2df-dc7b54e0fc27"
   },
   "outputs": [
    {
     "data": {
      "text/plain": [
       "array([[    2,  2055,  1898, ...,     0,     0,     0],\n",
       "       [    2,  2937,  2095, ...,     0,     0,     0],\n",
       "       [    2,  3006,    16, ...,     0,     0,     0],\n",
       "       ...,\n",
       "       [    2,  2030, 40221, ...,     0,     0,     0],\n",
       "       [    2, 31040,    16, ...,     0,     0,     0],\n",
       "       [    2, 31040,    16, ...,     0,     0,     0]])"
      ]
     },
     "execution_count": 155,
     "metadata": {},
     "output_type": "execute_result"
    }
   ],
   "source": [
    "padded"
   ]
  },
  {
   "cell_type": "code",
   "execution_count": 156,
   "metadata": {
    "colab": {
     "base_uri": "https://localhost:8080/",
     "height": 34
    },
    "colab_type": "code",
    "id": "ziFFn1CAQJkI",
    "outputId": "218dc6b4-345f-4557-9db7-38d373d34375"
   },
   "outputs": [
    {
     "data": {
      "text/plain": [
       "(2596, 146)"
      ]
     },
     "execution_count": 156,
     "metadata": {},
     "output_type": "execute_result"
    }
   ],
   "source": [
    "np.array(padded).shape"
   ]
  },
  {
   "cell_type": "markdown",
   "metadata": {
    "colab_type": "text",
    "id": "iFdLTJj4SX0-"
   },
   "source": [
    "## Computing embedding using BERT\n",
    "\n",
    "Now we do create cube of 146(tokens per row) * 768 (hidden layers) * 2596"
   ]
  },
  {
   "cell_type": "code",
   "execution_count": 157,
   "metadata": {
    "colab": {},
    "colab_type": "code",
    "id": "ydNiAHljQJkK"
   },
   "outputs": [],
   "source": [
    "input_ids = torch.tensor(np.array(padded))"
   ]
  },
  {
   "cell_type": "code",
   "execution_count": 158,
   "metadata": {
    "colab": {
     "base_uri": "https://localhost:8080/",
     "height": 136
    },
    "colab_type": "code",
    "id": "8wHwKIMGQJkM",
    "outputId": "5bb767a1-87a2-4d21-d577-600d4b0a621c"
   },
   "outputs": [
    {
     "data": {
      "text/plain": [
       "tensor([[    2,  2055,  1898,  ...,     0,     0,     0],\n",
       "        [    2,  2937,  2095,  ...,     0,     0,     0],\n",
       "        [    2,  3006,    16,  ...,     0,     0,     0],\n",
       "        ...,\n",
       "        [    2,  2030, 40221,  ...,     0,     0,     0],\n",
       "        [    2, 31040,    16,  ...,     0,     0,     0],\n",
       "        [    2, 31040,    16,  ...,     0,     0,     0]])"
      ]
     },
     "execution_count": 158,
     "metadata": {},
     "output_type": "execute_result"
    }
   ],
   "source": [
    "input_ids"
   ]
  },
  {
   "cell_type": "code",
   "execution_count": 159,
   "metadata": {},
   "outputs": [
    {
     "data": {
      "text/plain": [
       "torch.Size([2596, 146])"
      ]
     },
     "execution_count": 159,
     "metadata": {},
     "output_type": "execute_result"
    }
   ],
   "source": [
    "input_ids.shape"
   ]
  },
  {
   "cell_type": "code",
   "execution_count": 160,
   "metadata": {
    "colab": {},
    "colab_type": "code",
    "id": "RhaInBWiQJkP"
   },
   "outputs": [],
   "source": [
    "with torch.no_grad():\n",
    "    last_hidden_states = model(input_ids)"
   ]
  },
  {
   "cell_type": "markdown",
   "metadata": {
    "colab_type": "text",
    "id": "a6yN8AJkwCTT"
   },
   "source": [
    "We will extract two sets of embeddings. One for CSL only (2D array) and one for the whole cube"
   ]
  },
  {
   "cell_type": "code",
   "execution_count": 162,
   "metadata": {
    "colab": {},
    "colab_type": "code",
    "id": "l7J8kG1XwNyo"
   },
   "outputs": [],
   "source": [
    "features = last_hidden_states[0][:,:,:].numpy()"
   ]
  },
  {
   "cell_type": "code",
   "execution_count": 163,
   "metadata": {
    "colab": {},
    "colab_type": "code",
    "id": "ARcBn555mnQm"
   },
   "outputs": [],
   "source": [
    "cls_features = last_hidden_states[0][:,0,:].numpy()"
   ]
  },
  {
   "cell_type": "code",
   "execution_count": 164,
   "metadata": {
    "colab": {
     "base_uri": "https://localhost:8080/",
     "height": 34
    },
    "colab_type": "code",
    "id": "UTMLzojKmuno",
    "outputId": "2581c62b-b71b-492c-9d7e-c72a4c8b3835"
   },
   "outputs": [
    {
     "data": {
      "text/plain": [
       "(2596, 146, 768)"
      ]
     },
     "execution_count": 164,
     "metadata": {},
     "output_type": "execute_result"
    }
   ],
   "source": [
    "features.shape"
   ]
  },
  {
   "cell_type": "code",
   "execution_count": 165,
   "metadata": {
    "colab": {
     "base_uri": "https://localhost:8080/",
     "height": 34
    },
    "colab_type": "code",
    "id": "1sQC37m4wYK2",
    "outputId": "e44ace33-5d4b-43aa-e063-8fac02f3b4cc"
   },
   "outputs": [
    {
     "data": {
      "text/plain": [
       "(2596, 768)"
      ]
     },
     "execution_count": 165,
     "metadata": {},
     "output_type": "execute_result"
    }
   ],
   "source": [
    "cls_features.shape"
   ]
  },
  {
   "cell_type": "markdown",
   "metadata": {},
   "source": [
    "## Onehot encoding"
   ]
  },
  {
   "cell_type": "code",
   "execution_count": 166,
   "metadata": {
    "colab": {},
    "colab_type": "code",
    "id": "xxR7-ir-wlDy"
   },
   "outputs": [
    {
     "data": {
      "text/plain": [
       "array([[0., 0., 1., 0.],\n",
       "       [0., 0., 0., 1.],\n",
       "       [0., 0., 1., 0.],\n",
       "       ...,\n",
       "       [1., 0., 0., 0.],\n",
       "       [0., 0., 1., 0.],\n",
       "       [0., 0., 1., 0.]])"
      ]
     },
     "execution_count": 166,
     "metadata": {},
     "output_type": "execute_result"
    }
   ],
   "source": [
    "y = np.array(dataset[5], dtype=np.int64)\n",
    "y_labels = np.zeros((y.size, y.max()+1))\n",
    "y_labels[np.arange(y.size),y] = 1\n",
    "y_labels"
   ]
  },
  {
   "cell_type": "markdown",
   "metadata": {
    "colab_type": "text",
    "id": "jFndQqv-xLNy"
   },
   "source": [
    "## Feed Forward Neural Network\n",
    "Creating Feed Forward Neural Network which will take as an input vector of embeddings and return one of semantic classes. Firstly we will do it for 2d CLS matrix"
   ]
  },
  {
   "cell_type": "code",
   "execution_count": 167,
   "metadata": {
    "colab": {},
    "colab_type": "code",
    "id": "iY8WmSEkxZV2"
   },
   "outputs": [],
   "source": [
    "import torch.nn as nn\n",
    "import torchvision.transforms as transforms\n",
    "import torchvision.datasets as ds\n",
    "import time"
   ]
  },
  {
   "cell_type": "markdown",
   "metadata": {
    "colab_type": "text",
    "id": "4vFWqVXTxuk2"
   },
   "source": [
    "### Creating dataset"
   ]
  },
  {
   "cell_type": "code",
   "execution_count": 168,
   "metadata": {
    "colab": {
     "base_uri": "https://localhost:8080/",
     "height": 181
    },
    "colab_type": "code",
    "id": "ITzN8xfvxihR",
    "outputId": "49d19f80-5173-4565-ed3e-648547d4b543"
   },
   "outputs": [],
   "source": [
    "train_features, test_features, train_labels, test_labels = train_test_split(cls_features, y)"
   ]
  },
  {
   "cell_type": "markdown",
   "metadata": {},
   "source": [
    "## Convert data to Torch tensor"
   ]
  },
  {
   "cell_type": "code",
   "execution_count": 169,
   "metadata": {},
   "outputs": [],
   "source": [
    "train_features = torch.from_numpy(train_features)\n",
    "test_features = torch.from_numpy(test_features)\n",
    "train_labels = torch.from_numpy(train_labels)\n",
    "test_labels = torch.from_numpy(test_labels)"
   ]
  },
  {
   "cell_type": "code",
   "execution_count": 299,
   "metadata": {
    "colab": {},
    "colab_type": "code",
    "id": "Qct6HbphyCVV"
   },
   "outputs": [
    {
     "data": {
      "text/plain": [
       "194"
      ]
     },
     "execution_count": 299,
     "metadata": {},
     "output_type": "execute_result"
    }
   ],
   "source": [
    "batch_size = int(train_features.shape[0] / 10)\n",
    "epochs = 20\n",
    "batch_size"
   ]
  },
  {
   "cell_type": "code",
   "execution_count": 325,
   "metadata": {
    "colab": {},
    "colab_type": "code",
    "id": "0hGGi59u1E62"
   },
   "outputs": [],
   "source": [
    "import torch.nn.functional as F\n",
    "\n",
    "class FeedforwardNeuralNetModel(nn.Module):\n",
    "    def __init__(self, input_dim, hidden_dim, output_dim):\n",
    "        super(FeedforwardNeuralNetModel, self).__init__()\n",
    "        # Linear function 1: 784 --> 100\n",
    "        self.fc1 = nn.Linear(input_dim, hidden_dim) \n",
    "        # Non-linearity 1\n",
    "        self.relu1 = nn.ReLU()\n",
    "\n",
    "        # Linear function 2: 100 --> 100\n",
    "        self.fc2 = nn.Linear(hidden_dim, hidden_dim)\n",
    "        # Non-linearity 2\n",
    "        self.relu2 = nn.ReLU()\n",
    "\n",
    "        # Linear function 3: 100 --> 100\n",
    "        self.fc3 = nn.Linear(hidden_dim, hidden_dim)\n",
    "        # Non-linearity 3\n",
    "        self.relu3 = nn.ReLU()\n",
    "\n",
    "        # Linear function 4 (readout): 100 --> 10\n",
    "        self.fc4 = nn.Linear(hidden_dim, output_dim)  \n",
    "\n",
    "    def forward(self, x):\n",
    "        x = F.relu(self.conv1(x))\n",
    "        x = F.relu(self.conv2(x))\n",
    "        x = x.view(-1, 320)\n",
    "        x = F.relu(self.fc1(x))\n",
    "        return F.log_softmax(x)"
   ]
  },
  {
   "cell_type": "code",
   "execution_count": 326,
   "metadata": {
    "colab": {
     "base_uri": "https://localhost:8080/",
     "height": 34
    },
    "colab_type": "code",
    "id": "6F86gYor1z_p",
    "outputId": "f57176fb-9de1-40f3-cd78-36d6e137d3c3"
   },
   "outputs": [
    {
     "data": {
      "text/plain": [
       "768"
      ]
     },
     "execution_count": 326,
     "metadata": {},
     "output_type": "execute_result"
    }
   ],
   "source": [
    "input_dim = 768\n",
    "hidden_dim = 256\n",
    "output_dim = len(labels)\n",
    "\n",
    "input_dim"
   ]
  },
  {
   "cell_type": "code",
   "execution_count": 327,
   "metadata": {
    "colab": {},
    "colab_type": "code",
    "id": "EDy7hQfj2ciB"
   },
   "outputs": [],
   "source": [
    "ffnn = FeedforwardNeuralNetModel(input_dim, hidden_dim, output_dim)"
   ]
  },
  {
   "cell_type": "code",
   "execution_count": 328,
   "metadata": {
    "colab": {},
    "colab_type": "code",
    "id": "Cf5LG44b4C7T"
   },
   "outputs": [],
   "source": [
    "loss_fn = nn.CrossEntropyLoss()"
   ]
  },
  {
   "cell_type": "code",
   "execution_count": 329,
   "metadata": {},
   "outputs": [
    {
     "name": "stdout",
     "output_type": "stream",
     "text": [
      "Parameter containing:\n",
      "tensor([[ 0.0220, -0.0304, -0.0040,  ..., -0.0181, -0.0017,  0.0239],\n",
      "        [-0.0040, -0.0117, -0.0244,  ...,  0.0138,  0.0004, -0.0221],\n",
      "        [-0.0149,  0.0325, -0.0181,  ...,  0.0263,  0.0030, -0.0158],\n",
      "        ...,\n",
      "        [-0.0147,  0.0221, -0.0097,  ...,  0.0206, -0.0253,  0.0132],\n",
      "        [-0.0307, -0.0319, -0.0294,  ...,  0.0269, -0.0335,  0.0347],\n",
      "        [-0.0001,  0.0040,  0.0056,  ..., -0.0106, -0.0193,  0.0158]],\n",
      "       requires_grad=True)\n",
      "Parameter containing:\n",
      "tensor([ 0.0339,  0.0356,  0.0059,  0.0107, -0.0315,  0.0231, -0.0001,  0.0167,\n",
      "        -0.0012,  0.0064,  0.0060,  0.0330,  0.0347, -0.0244, -0.0129, -0.0150,\n",
      "        -0.0219,  0.0115,  0.0027, -0.0151,  0.0127, -0.0195,  0.0289,  0.0104,\n",
      "         0.0243, -0.0012,  0.0039,  0.0348,  0.0129, -0.0349, -0.0204, -0.0266,\n",
      "        -0.0204,  0.0157, -0.0337, -0.0004, -0.0214, -0.0126, -0.0310,  0.0299,\n",
      "        -0.0254,  0.0044, -0.0132, -0.0006,  0.0109, -0.0230, -0.0191,  0.0314,\n",
      "         0.0227, -0.0358, -0.0014, -0.0121, -0.0302,  0.0005,  0.0074,  0.0343,\n",
      "        -0.0169, -0.0005, -0.0157, -0.0185,  0.0251,  0.0082, -0.0360,  0.0076,\n",
      "         0.0123,  0.0156, -0.0334, -0.0169, -0.0238, -0.0119,  0.0359,  0.0287,\n",
      "         0.0244, -0.0016, -0.0001,  0.0045,  0.0089,  0.0145,  0.0177, -0.0060,\n",
      "         0.0325, -0.0175,  0.0342, -0.0179,  0.0012, -0.0178,  0.0242, -0.0357,\n",
      "        -0.0330, -0.0165, -0.0170, -0.0294, -0.0330,  0.0182,  0.0329, -0.0223,\n",
      "         0.0194,  0.0175, -0.0267, -0.0180, -0.0199,  0.0330,  0.0022,  0.0229,\n",
      "        -0.0306,  0.0347,  0.0232,  0.0173,  0.0048,  0.0302,  0.0288,  0.0292,\n",
      "        -0.0289, -0.0318, -0.0199, -0.0024, -0.0257,  0.0263, -0.0049, -0.0209,\n",
      "         0.0083,  0.0183, -0.0059,  0.0033, -0.0316,  0.0001, -0.0310, -0.0018,\n",
      "        -0.0173,  0.0020,  0.0100, -0.0145,  0.0052,  0.0258,  0.0188,  0.0022,\n",
      "         0.0251, -0.0081,  0.0057,  0.0035, -0.0015, -0.0236, -0.0356, -0.0317,\n",
      "         0.0150,  0.0225, -0.0053, -0.0339, -0.0253,  0.0305, -0.0171,  0.0289,\n",
      "        -0.0149,  0.0319, -0.0014, -0.0103,  0.0017,  0.0324, -0.0208, -0.0172,\n",
      "         0.0031, -0.0290, -0.0210,  0.0254,  0.0331, -0.0146,  0.0143, -0.0116,\n",
      "        -0.0125,  0.0293, -0.0323,  0.0100,  0.0078, -0.0213,  0.0227,  0.0037,\n",
      "        -0.0106,  0.0052, -0.0291,  0.0201, -0.0213, -0.0272, -0.0052, -0.0057,\n",
      "        -0.0208, -0.0179,  0.0227,  0.0178,  0.0104, -0.0103,  0.0165, -0.0240,\n",
      "        -0.0165,  0.0032, -0.0044, -0.0050, -0.0126, -0.0126,  0.0298, -0.0154,\n",
      "        -0.0169,  0.0319,  0.0118, -0.0093,  0.0086,  0.0196, -0.0194,  0.0105,\n",
      "         0.0135,  0.0038,  0.0099,  0.0157,  0.0072, -0.0296,  0.0134,  0.0262,\n",
      "        -0.0023, -0.0197, -0.0266,  0.0179,  0.0022, -0.0044, -0.0223,  0.0014,\n",
      "         0.0174,  0.0116, -0.0017,  0.0116, -0.0185, -0.0227, -0.0310,  0.0175,\n",
      "         0.0331, -0.0140, -0.0229, -0.0229,  0.0067,  0.0321,  0.0170,  0.0068,\n",
      "        -0.0353, -0.0151,  0.0079, -0.0181, -0.0020, -0.0313,  0.0150,  0.0209,\n",
      "        -0.0157,  0.0251,  0.0053, -0.0328, -0.0149,  0.0051,  0.0132, -0.0252],\n",
      "       requires_grad=True)\n",
      "Parameter containing:\n",
      "tensor([[ 0.0600,  0.0476,  0.0357,  ..., -0.0158,  0.0172, -0.0039],\n",
      "        [-0.0383, -0.0398,  0.0282,  ...,  0.0112,  0.0585,  0.0034],\n",
      "        [-0.0207,  0.0387,  0.0404,  ..., -0.0214,  0.0200, -0.0561],\n",
      "        ...,\n",
      "        [-0.0467,  0.0495, -0.0349,  ..., -0.0502,  0.0472,  0.0322],\n",
      "        [ 0.0081,  0.0209,  0.0139,  ...,  0.0063, -0.0196,  0.0343],\n",
      "        [ 0.0308, -0.0310, -0.0393,  ...,  0.0097, -0.0007,  0.0349]],\n",
      "       requires_grad=True)\n",
      "Parameter containing:\n",
      "tensor([ 1.9830e-02, -1.8145e-03, -2.6519e-02,  5.4676e-02,  4.1938e-03,\n",
      "         1.3680e-02, -3.3100e-02,  3.5232e-02,  2.6283e-02,  5.0210e-02,\n",
      "        -1.9417e-02, -2.8971e-02, -2.3853e-02,  5.3960e-02,  4.9915e-02,\n",
      "         4.6316e-02,  5.1688e-02, -2.8726e-02,  1.5991e-02, -5.6607e-02,\n",
      "         4.9563e-02, -4.5322e-02,  4.3476e-02, -4.9436e-02, -6.1497e-02,\n",
      "        -3.0631e-02,  4.0809e-02,  3.2728e-02,  2.7502e-02,  1.4515e-02,\n",
      "         1.2058e-02,  2.2593e-02,  5.3980e-02,  4.4219e-02,  3.4611e-02,\n",
      "        -4.9500e-02, -5.6841e-02,  6.2243e-02, -6.7904e-03,  4.1362e-02,\n",
      "        -5.0565e-02,  4.3908e-02, -5.6292e-02,  8.8791e-03, -2.4837e-02,\n",
      "         2.6872e-02,  4.5735e-03,  1.7822e-02,  8.9558e-03, -1.4865e-02,\n",
      "         1.0817e-02,  4.8870e-02,  4.3993e-02, -2.9990e-02, -5.9803e-02,\n",
      "         4.8746e-02,  2.5432e-02,  3.4725e-02, -7.6956e-04,  3.9783e-02,\n",
      "         2.4767e-02, -4.3371e-02, -4.1121e-03,  5.7614e-02,  4.2329e-02,\n",
      "        -1.5090e-02,  3.9474e-02, -3.8234e-02,  2.8537e-02,  5.8126e-02,\n",
      "        -2.9260e-02, -3.3070e-02,  4.1295e-02,  1.1788e-02, -4.3356e-03,\n",
      "        -4.2198e-02,  4.3243e-02, -5.1049e-02, -2.4295e-02, -1.5870e-02,\n",
      "        -3.7698e-02,  5.8576e-02,  9.7064e-03, -2.5980e-02, -2.4358e-02,\n",
      "         2.2022e-02, -4.0813e-02, -3.4680e-02, -7.2598e-03,  3.1924e-02,\n",
      "         1.3098e-02, -3.7787e-02,  2.7295e-03,  2.2866e-02,  5.2954e-02,\n",
      "         2.7096e-02, -6.2392e-02,  3.4916e-02,  4.3583e-02, -3.6180e-03,\n",
      "        -4.2726e-02,  8.9606e-03, -1.9430e-02, -2.6242e-02,  2.4912e-02,\n",
      "        -4.4938e-03, -2.0220e-02, -4.2750e-02, -1.6643e-02,  1.0997e-02,\n",
      "        -2.3134e-02, -4.2154e-02,  3.5709e-02,  4.3245e-03,  2.3150e-02,\n",
      "         2.1738e-02, -1.4670e-02,  5.4291e-03, -4.4779e-02, -1.5101e-02,\n",
      "         1.1299e-03, -5.5044e-02, -2.3284e-02,  3.1601e-02,  1.2282e-02,\n",
      "         5.3185e-02,  5.2993e-02, -4.5376e-03, -1.6603e-02, -2.4707e-02,\n",
      "         1.2417e-02, -4.5867e-02,  4.2443e-03, -2.9830e-02,  4.8278e-02,\n",
      "        -1.6115e-02, -9.8734e-03, -2.6205e-02, -1.4688e-03, -3.9138e-02,\n",
      "        -6.1120e-02,  4.9886e-02,  4.3137e-02,  6.2437e-04,  2.0179e-02,\n",
      "        -6.1253e-02, -2.4833e-02, -1.5512e-02,  3.5219e-02, -4.8780e-02,\n",
      "        -5.5461e-02, -2.1027e-02,  2.4280e-02, -5.6842e-02,  4.9586e-02,\n",
      "        -3.7483e-02,  5.3765e-02,  6.1002e-02, -3.4188e-02,  4.3772e-02,\n",
      "        -6.0934e-02,  1.0958e-02,  3.7610e-02, -3.0042e-02,  4.3618e-02,\n",
      "         1.3831e-02,  4.4776e-02,  1.3635e-02,  6.1735e-02,  3.9571e-02,\n",
      "         1.9237e-05, -3.2165e-02, -2.3241e-02, -1.7040e-03,  3.1476e-02,\n",
      "        -4.2567e-02,  1.7071e-02, -5.2403e-02, -2.1521e-02, -3.5333e-02,\n",
      "        -3.1933e-02,  1.7567e-02,  5.4282e-02, -2.9487e-02, -6.7363e-03,\n",
      "        -9.0670e-03, -1.7070e-02,  3.7678e-02,  5.7416e-02, -2.7452e-02,\n",
      "        -6.0846e-02, -3.9943e-02,  1.7411e-02, -3.3534e-03,  5.0129e-02,\n",
      "        -3.5390e-02, -1.4607e-02, -1.3254e-02, -1.1214e-02,  3.5490e-02,\n",
      "         5.8880e-02, -5.9749e-02, -8.9707e-03,  3.6153e-02, -3.6948e-02,\n",
      "        -5.8462e-02,  5.5894e-02, -1.0824e-02, -2.7961e-02, -5.5298e-02,\n",
      "        -2.9433e-03,  5.8408e-02, -4.2682e-02, -6.0038e-02,  6.0636e-02,\n",
      "         2.1286e-02, -4.6359e-02, -5.1873e-02,  5.8589e-02, -4.3891e-02,\n",
      "         8.2656e-04,  5.3466e-02,  5.1352e-02,  2.5385e-02, -5.1681e-02,\n",
      "         1.8792e-02,  5.4544e-02,  4.5788e-02,  4.6886e-02, -9.9247e-03,\n",
      "        -1.0130e-03, -1.9687e-02,  2.0436e-04,  3.7771e-02, -1.1021e-02,\n",
      "         6.1472e-02,  4.4824e-02, -5.2554e-02, -7.3728e-03, -5.0794e-02,\n",
      "         4.8719e-02,  1.5391e-02,  5.6459e-02, -4.6761e-02, -3.7485e-02,\n",
      "        -2.5783e-03, -5.8960e-02, -2.4870e-03,  2.8390e-02,  6.0297e-02,\n",
      "        -5.6156e-02,  5.1682e-02, -5.3588e-02,  5.8408e-02,  1.8322e-02,\n",
      "         2.1148e-02], requires_grad=True)\n",
      "Parameter containing:\n",
      "tensor([[-0.0120, -0.0516, -0.0349,  ..., -0.0484, -0.0112, -0.0027],\n",
      "        [ 0.0182,  0.0561,  0.0517,  ...,  0.0515, -0.0397, -0.0235],\n",
      "        [-0.0308,  0.0092,  0.0466,  ...,  0.0418, -0.0591, -0.0493],\n",
      "        ...,\n",
      "        [-0.0384,  0.0620,  0.0549,  ..., -0.0575, -0.0615,  0.0308],\n",
      "        [ 0.0119,  0.0498, -0.0577,  ...,  0.0548, -0.0019, -0.0442],\n",
      "        [ 0.0535, -0.0368, -0.0221,  ..., -0.0091,  0.0252,  0.0095]],\n",
      "       requires_grad=True)\n",
      "Parameter containing:\n",
      "tensor([-0.0502, -0.0122, -0.0416,  0.0522, -0.0196, -0.0202,  0.0265, -0.0005,\n",
      "        -0.0045, -0.0102, -0.0168, -0.0049,  0.0312, -0.0057, -0.0029,  0.0491,\n",
      "         0.0075,  0.0072,  0.0063,  0.0103,  0.0488,  0.0465,  0.0171,  0.0381,\n",
      "         0.0612,  0.0085,  0.0338, -0.0396, -0.0205,  0.0272, -0.0361, -0.0612,\n",
      "        -0.0406,  0.0050, -0.0599, -0.0121,  0.0482,  0.0466, -0.0304, -0.0498,\n",
      "        -0.0402, -0.0527,  0.0055,  0.0172,  0.0247,  0.0041,  0.0230,  0.0523,\n",
      "        -0.0620, -0.0282, -0.0456, -0.0336, -0.0038,  0.0003, -0.0500,  0.0567,\n",
      "         0.0513, -0.0543,  0.0239,  0.0027, -0.0285,  0.0136,  0.0002,  0.0496,\n",
      "         0.0047,  0.0497,  0.0148, -0.0287, -0.0191, -0.0430, -0.0307, -0.0057,\n",
      "         0.0095, -0.0615, -0.0436, -0.0213,  0.0267, -0.0180,  0.0076,  0.0075,\n",
      "        -0.0472, -0.0391, -0.0303,  0.0141, -0.0617, -0.0008, -0.0303, -0.0359,\n",
      "        -0.0380, -0.0127, -0.0603,  0.0254,  0.0520,  0.0029,  0.0585,  0.0432,\n",
      "        -0.0412,  0.0351, -0.0602,  0.0094,  0.0459, -0.0163, -0.0309, -0.0092,\n",
      "        -0.0149,  0.0452,  0.0613,  0.0403, -0.0201, -0.0286, -0.0326,  0.0323,\n",
      "        -0.0106, -0.0232, -0.0023,  0.0049,  0.0011,  0.0146, -0.0146,  0.0442,\n",
      "        -0.0276, -0.0513,  0.0020,  0.0003,  0.0111,  0.0524,  0.0592, -0.0463,\n",
      "         0.0162, -0.0168,  0.0592,  0.0551,  0.0098,  0.0057, -0.0335,  0.0130,\n",
      "        -0.0411,  0.0568, -0.0328, -0.0561,  0.0275,  0.0199, -0.0598, -0.0513,\n",
      "        -0.0073,  0.0259,  0.0045,  0.0068, -0.0016, -0.0099, -0.0160,  0.0104,\n",
      "         0.0109,  0.0381, -0.0512,  0.0416,  0.0316, -0.0407,  0.0343, -0.0200,\n",
      "        -0.0147, -0.0330, -0.0350,  0.0143, -0.0231, -0.0595, -0.0285, -0.0185,\n",
      "        -0.0605,  0.0189,  0.0579, -0.0123, -0.0284,  0.0617, -0.0301, -0.0431,\n",
      "        -0.0414, -0.0566, -0.0099,  0.0366, -0.0480, -0.0219,  0.0582, -0.0360,\n",
      "        -0.0034,  0.0515,  0.0573,  0.0554,  0.0582,  0.0211, -0.0130, -0.0299,\n",
      "         0.0491,  0.0132, -0.0485, -0.0033, -0.0452,  0.0261,  0.0389, -0.0555,\n",
      "         0.0024, -0.0006,  0.0257, -0.0491,  0.0007,  0.0075, -0.0282, -0.0259,\n",
      "         0.0566,  0.0283,  0.0237, -0.0314, -0.0219,  0.0575,  0.0406, -0.0022,\n",
      "         0.0462, -0.0325, -0.0196,  0.0393,  0.0023,  0.0358,  0.0357,  0.0132,\n",
      "        -0.0462,  0.0369,  0.0148, -0.0421, -0.0285, -0.0387,  0.0517, -0.0043,\n",
      "        -0.0514,  0.0320, -0.0059,  0.0153,  0.0290,  0.0429,  0.0066,  0.0221,\n",
      "         0.0444, -0.0602, -0.0467, -0.0162,  0.0461,  0.0376,  0.0120,  0.0007,\n",
      "         0.0318, -0.0618,  0.0096,  0.0425,  0.0560, -0.0179, -0.0125, -0.0562],\n",
      "       requires_grad=True)\n",
      "Parameter containing:\n",
      "tensor([[ 0.0427, -0.0555, -0.0031,  ..., -0.0058,  0.0269, -0.0360],\n",
      "        [ 0.0467,  0.0128,  0.0384,  ...,  0.0239,  0.0367, -0.0560],\n",
      "        [ 0.0191, -0.0319, -0.0610,  ...,  0.0161,  0.0276, -0.0132],\n",
      "        [-0.0171, -0.0231,  0.0390,  ..., -0.0340, -0.0172, -0.0206]],\n",
      "       requires_grad=True)\n",
      "Parameter containing:\n",
      "tensor([ 0.0524, -0.0306,  0.0296, -0.0226], requires_grad=True)\n"
     ]
    }
   ],
   "source": [
    "for param in ffnn.parameters():\n",
    "    print (param)"
   ]
  },
  {
   "cell_type": "code",
   "execution_count": 330,
   "metadata": {
    "colab": {},
    "colab_type": "code",
    "id": "WsxNME414HUA"
   },
   "outputs": [],
   "source": [
    "learning_rate = 0.05\n",
    "optimizer = torch.optim.SGD(ffnn.parameters(), lr=learning_rate) "
   ]
  },
  {
   "cell_type": "code",
   "execution_count": 331,
   "metadata": {
    "colab": {},
    "colab_type": "code",
    "id": "zTTTazHA-HOX"
   },
   "outputs": [],
   "source": [
    "def generate_batch_data(x, y, batch_size):\n",
    "    i, batch = 0, 0\n",
    "    for batch, i in enumerate(range(0, len(x) - batch_size, batch_size), 1):\n",
    "        x_batch = x[i : i + batch_size]\n",
    "        y_batch = y[i : i + batch_size]\n",
    "        yield x_batch, y_batch, batch\n",
    "    if i + batch_size < len(x):\n",
    "        yield x[i + batch_size :], y[i + batch_size :], batch + 1\n",
    "    if batch == 0:\n",
    "        yield x, y, 1"
   ]
  },
  {
   "cell_type": "code",
   "execution_count": 332,
   "metadata": {
    "colab": {
     "base_uri": "https://localhost:8080/",
     "height": 684
    },
    "colab_type": "code",
    "id": "Tnz6d-894cqm",
    "outputId": "61b3f6b5-ebc9-4444-8272-3014150d35b0"
   },
   "outputs": [
    {
     "ename": "AttributeError",
     "evalue": "'FeedforwardNeuralNetModel' object has no attribute 'conv1'",
     "output_type": "error",
     "traceback": [
      "\u001b[0;31m---------------------------------------------------------------------------\u001b[0m",
      "\u001b[0;31mAttributeError\u001b[0m                            Traceback (most recent call last)",
      "\u001b[0;32m<ipython-input-332-ac494c27f03e>\u001b[0m in \u001b[0;36m<module>\u001b[0;34m()\u001b[0m\n\u001b[1;32m      8\u001b[0m \u001b[0;34m\u001b[0m\u001b[0m\n\u001b[1;32m      9\u001b[0m     \u001b[0;32mfor\u001b[0m \u001b[0mx_batch\u001b[0m\u001b[0;34m,\u001b[0m \u001b[0my_batch\u001b[0m\u001b[0;34m,\u001b[0m \u001b[0mbatch\u001b[0m \u001b[0;32min\u001b[0m \u001b[0mgenerate_batch_data\u001b[0m\u001b[0;34m(\u001b[0m\u001b[0mtrain_features\u001b[0m\u001b[0;34m,\u001b[0m \u001b[0mtrain_labels\u001b[0m\u001b[0;34m,\u001b[0m \u001b[0mbatch_size\u001b[0m\u001b[0;34m)\u001b[0m\u001b[0;34m:\u001b[0m\u001b[0;34m\u001b[0m\u001b[0m\n\u001b[0;32m---> 10\u001b[0;31m         \u001b[0my_pred\u001b[0m \u001b[0;34m=\u001b[0m \u001b[0mffnn\u001b[0m\u001b[0;34m(\u001b[0m\u001b[0mx_batch\u001b[0m\u001b[0;34m)\u001b[0m\u001b[0;34m\u001b[0m\u001b[0m\n\u001b[0m\u001b[1;32m     11\u001b[0m         \u001b[0moptimizer\u001b[0m\u001b[0;34m.\u001b[0m\u001b[0mzero_grad\u001b[0m\u001b[0;34m(\u001b[0m\u001b[0;34m)\u001b[0m\u001b[0;34m\u001b[0m\u001b[0m\n\u001b[1;32m     12\u001b[0m         \u001b[0mloss\u001b[0m \u001b[0;34m=\u001b[0m \u001b[0mloss_fn\u001b[0m\u001b[0;34m(\u001b[0m\u001b[0my_pred\u001b[0m\u001b[0;34m,\u001b[0m \u001b[0my_batch\u001b[0m\u001b[0;34m)\u001b[0m\u001b[0;34m\u001b[0m\u001b[0m\n",
      "\u001b[0;32m~/anaconda3/envs/pytorch_p36/lib/python3.6/site-packages/torch/nn/modules/module.py\u001b[0m in \u001b[0;36m__call__\u001b[0;34m(self, *input, **kwargs)\u001b[0m\n\u001b[1;32m    530\u001b[0m             \u001b[0mresult\u001b[0m \u001b[0;34m=\u001b[0m \u001b[0mself\u001b[0m\u001b[0;34m.\u001b[0m\u001b[0m_slow_forward\u001b[0m\u001b[0;34m(\u001b[0m\u001b[0;34m*\u001b[0m\u001b[0minput\u001b[0m\u001b[0;34m,\u001b[0m \u001b[0;34m**\u001b[0m\u001b[0mkwargs\u001b[0m\u001b[0;34m)\u001b[0m\u001b[0;34m\u001b[0m\u001b[0m\n\u001b[1;32m    531\u001b[0m         \u001b[0;32melse\u001b[0m\u001b[0;34m:\u001b[0m\u001b[0;34m\u001b[0m\u001b[0m\n\u001b[0;32m--> 532\u001b[0;31m             \u001b[0mresult\u001b[0m \u001b[0;34m=\u001b[0m \u001b[0mself\u001b[0m\u001b[0;34m.\u001b[0m\u001b[0mforward\u001b[0m\u001b[0;34m(\u001b[0m\u001b[0;34m*\u001b[0m\u001b[0minput\u001b[0m\u001b[0;34m,\u001b[0m \u001b[0;34m**\u001b[0m\u001b[0mkwargs\u001b[0m\u001b[0;34m)\u001b[0m\u001b[0;34m\u001b[0m\u001b[0m\n\u001b[0m\u001b[1;32m    533\u001b[0m         \u001b[0;32mfor\u001b[0m \u001b[0mhook\u001b[0m \u001b[0;32min\u001b[0m \u001b[0mself\u001b[0m\u001b[0;34m.\u001b[0m\u001b[0m_forward_hooks\u001b[0m\u001b[0;34m.\u001b[0m\u001b[0mvalues\u001b[0m\u001b[0;34m(\u001b[0m\u001b[0;34m)\u001b[0m\u001b[0;34m:\u001b[0m\u001b[0;34m\u001b[0m\u001b[0m\n\u001b[1;32m    534\u001b[0m             \u001b[0mhook_result\u001b[0m \u001b[0;34m=\u001b[0m \u001b[0mhook\u001b[0m\u001b[0;34m(\u001b[0m\u001b[0mself\u001b[0m\u001b[0;34m,\u001b[0m \u001b[0minput\u001b[0m\u001b[0;34m,\u001b[0m \u001b[0mresult\u001b[0m\u001b[0;34m)\u001b[0m\u001b[0;34m\u001b[0m\u001b[0m\n",
      "\u001b[0;32m<ipython-input-325-50440ef271ff>\u001b[0m in \u001b[0;36mforward\u001b[0;34m(self, x)\u001b[0m\n\u001b[1;32m     23\u001b[0m \u001b[0;34m\u001b[0m\u001b[0m\n\u001b[1;32m     24\u001b[0m     \u001b[0;32mdef\u001b[0m \u001b[0mforward\u001b[0m\u001b[0;34m(\u001b[0m\u001b[0mself\u001b[0m\u001b[0;34m,\u001b[0m \u001b[0mx\u001b[0m\u001b[0;34m)\u001b[0m\u001b[0;34m:\u001b[0m\u001b[0;34m\u001b[0m\u001b[0m\n\u001b[0;32m---> 25\u001b[0;31m         \u001b[0mx\u001b[0m \u001b[0;34m=\u001b[0m \u001b[0mF\u001b[0m\u001b[0;34m.\u001b[0m\u001b[0mrelu\u001b[0m\u001b[0;34m(\u001b[0m\u001b[0mself\u001b[0m\u001b[0;34m.\u001b[0m\u001b[0mconv1\u001b[0m\u001b[0;34m(\u001b[0m\u001b[0mx\u001b[0m\u001b[0;34m)\u001b[0m\u001b[0;34m)\u001b[0m\u001b[0;34m\u001b[0m\u001b[0m\n\u001b[0m\u001b[1;32m     26\u001b[0m         \u001b[0mx\u001b[0m \u001b[0;34m=\u001b[0m \u001b[0mF\u001b[0m\u001b[0;34m.\u001b[0m\u001b[0mrelu\u001b[0m\u001b[0;34m(\u001b[0m\u001b[0mself\u001b[0m\u001b[0;34m.\u001b[0m\u001b[0mconv2\u001b[0m\u001b[0;34m(\u001b[0m\u001b[0mx\u001b[0m\u001b[0;34m)\u001b[0m\u001b[0;34m)\u001b[0m\u001b[0;34m\u001b[0m\u001b[0m\n\u001b[1;32m     27\u001b[0m         \u001b[0mx\u001b[0m \u001b[0;34m=\u001b[0m \u001b[0mx\u001b[0m\u001b[0;34m.\u001b[0m\u001b[0mview\u001b[0m\u001b[0;34m(\u001b[0m\u001b[0;34m-\u001b[0m\u001b[0;36m1\u001b[0m\u001b[0;34m,\u001b[0m \u001b[0;36m320\u001b[0m\u001b[0;34m)\u001b[0m\u001b[0;34m\u001b[0m\u001b[0m\n",
      "\u001b[0;32m~/anaconda3/envs/pytorch_p36/lib/python3.6/site-packages/torch/nn/modules/module.py\u001b[0m in \u001b[0;36m__getattr__\u001b[0;34m(self, name)\u001b[0m\n\u001b[1;32m    574\u001b[0m                 \u001b[0;32mreturn\u001b[0m \u001b[0mmodules\u001b[0m\u001b[0;34m[\u001b[0m\u001b[0mname\u001b[0m\u001b[0;34m]\u001b[0m\u001b[0;34m\u001b[0m\u001b[0m\n\u001b[1;32m    575\u001b[0m         raise AttributeError(\"'{}' object has no attribute '{}'\".format(\n\u001b[0;32m--> 576\u001b[0;31m             type(self).__name__, name))\n\u001b[0m\u001b[1;32m    577\u001b[0m \u001b[0;34m\u001b[0m\u001b[0m\n\u001b[1;32m    578\u001b[0m     \u001b[0;32mdef\u001b[0m \u001b[0m__setattr__\u001b[0m\u001b[0;34m(\u001b[0m\u001b[0mself\u001b[0m\u001b[0;34m,\u001b[0m \u001b[0mname\u001b[0m\u001b[0;34m,\u001b[0m \u001b[0mvalue\u001b[0m\u001b[0;34m)\u001b[0m\u001b[0;34m:\u001b[0m\u001b[0;34m\u001b[0m\u001b[0m\n",
      "\u001b[0;31mAttributeError\u001b[0m: 'FeedforwardNeuralNetModel' object has no attribute 'conv1'"
     ]
    }
   ],
   "source": [
    "train_losses, val_losses = [], []\n",
    "\n",
    "for epoch in range(0,epochs):\n",
    "    \n",
    "    start_time = time.time()\n",
    "    ffnn.train(True)\n",
    "    train_loss = 0 \n",
    "    \n",
    "    for x_batch, y_batch, batch in generate_batch_data(train_features, train_labels, batch_size):\n",
    "        y_pred = ffnn(x_batch)\n",
    "        optimizer.zero_grad()\n",
    "        loss = loss_fn(y_pred, y_batch)\n",
    "\n",
    "        # Getting gradients w.r.t. parameters\n",
    "        loss.backward()\n",
    "        optimizer.step()\n",
    "        train_loss += loss.item()\n",
    "    \n",
    "    train_loss /= batch\n",
    "    train_losses.append(train_loss)\n",
    "    elapsed = time.time() - start_time\n",
    "    \n",
    "    model.eval() # disable dropout for deterministic output\n",
    "    # deactivate autograd engine to reduce memory usage and speed up computations\n",
    "    with torch.no_grad(): \n",
    "            val_loss, batch = 0, 1\n",
    "            for x_batch, y_batch, batch in generate_batch_data(test_features, test_labels, batch_size):\n",
    "                y_pred = ffnn(x_batch)\n",
    "                loss = loss_fn(y_pred, y_batch)\n",
    "                val_loss += loss.item()\n",
    "            val_loss /= batch\n",
    "            val_losses.append(val_loss) \n",
    "            print(\"Epoch %d Train loss: %.2f. Validation loss: %.2f. Elapsed time: %.2fs.\" % (epoch + 1, train_losses[-1], val_losses[-1], elapsed))\n",
    "    "
   ]
  },
  {
   "cell_type": "code",
   "execution_count": 308,
   "metadata": {},
   "outputs": [
    {
     "data": {
      "text/plain": [
       "Text(0.5, 1.0, 'Losses')"
      ]
     },
     "execution_count": 308,
     "metadata": {},
     "output_type": "execute_result"
    },
    {
     "data": {
      "image/png": "[encoded data removed]",
      "text/plain": [
       "<Figure size 432x288 with 1 Axes>"
      ]
     },
     "metadata": {},
     "output_type": "display_data"
    }
   ],
   "source": [
    "%matplotlib inline\n",
    "import matplotlib\n",
    "import matplotlib.pyplot as plt\n",
    "\n",
    "plt.plot(train_losses, label=\"Training loss\")\n",
    "plt.plot(val_losses, label=\"Validation loss\")\n",
    "plt.legend()\n",
    "plt.title(\"Losses\")"
   ]
  },
  {
   "cell_type": "code",
   "execution_count": null,
   "metadata": {},
   "outputs": [],
   "source": []
  }
 ],
 "metadata": {
  "colab": {
   "collapsed_sections": [],
   "include_colab_link": true,
   "machine_shape": "hm",
   "name": "bert-poc.ipynb",
   "provenance": []
  },
  "kernelspec": {
   "display_name": "conda_pytorch_p36",
   "language": "python",
   "name": "conda_pytorch_p36"
  },
  "language_info": {
   "codemirror_mode": {
    "name": "ipython",
    "version": 3
   },
   "file_extension": ".py",
   "mimetype": "text/x-python",
   "name": "python",
   "nbconvert_exporter": "python",
   "pygments_lexer": "ipython3",
   "version": "3.6.5"
  }
 },
 "nbformat": 4,
 "nbformat_minor": 1
}
