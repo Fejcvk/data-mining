{
  "nbformat": 4,
  "nbformat_minor": 0,
  "metadata": {
    "colab": {
      "name": "SecondModel.ipynb",
      "provenance": [],
      "collapsed_sections": [],
      "toc_visible": true
    },
    "kernelspec": {
      "name": "python3",
      "display_name": "Python 3"
    }
  },
  "cells": [
    {
      "cell_type": "code",
      "metadata": {
        "id": "wQH-5eAsLAiz",
        "colab_type": "code",
        "outputId": "70698f67-5a82-49db-98d1-04ae24acbb6b",
        "colab": {
          "base_uri": "https://localhost:8080/",
          "height": 426
        }
      },
      "source": [
        "!pip install transformers\n",
        "import pandas as pd\n",
        "from transformers import *\n",
        "import numpy as np\n",
        "import torch\n",
        "from torch.utils.tensorboard import SummaryWriter\n",
        "from sklearn.model_selection import train_test_split\n"
      ],
      "execution_count": 17,
      "outputs": [
        {
          "output_type": "stream",
          "text": [
            "Requirement already satisfied: transformers in /usr/local/lib/python3.6/dist-packages (2.7.0)\n",
            "Requirement already satisfied: dataclasses; python_version < \"3.7\" in /usr/local/lib/python3.6/dist-packages (from transformers) (0.7)\n",
            "Requirement already satisfied: sacremoses in /usr/local/lib/python3.6/dist-packages (from transformers) (0.0.38)\n",
            "Requirement already satisfied: boto3 in /usr/local/lib/python3.6/dist-packages (from transformers) (1.12.31)\n",
            "Requirement already satisfied: tokenizers==0.5.2 in /usr/local/lib/python3.6/dist-packages (from transformers) (0.5.2)\n",
            "Requirement already satisfied: filelock in /usr/local/lib/python3.6/dist-packages (from transformers) (3.0.12)\n",
            "Requirement already satisfied: regex!=2019.12.17 in /usr/local/lib/python3.6/dist-packages (from transformers) (2019.12.20)\n",
            "Requirement already satisfied: sentencepiece in /usr/local/lib/python3.6/dist-packages (from transformers) (0.1.85)\n",
            "Requirement already satisfied: numpy in /usr/local/lib/python3.6/dist-packages (from transformers) (1.18.2)\n",
            "Requirement already satisfied: tqdm>=4.27 in /usr/local/lib/python3.6/dist-packages (from transformers) (4.38.0)\n",
            "Requirement already satisfied: requests in /usr/local/lib/python3.6/dist-packages (from transformers) (2.21.0)\n",
            "Requirement already satisfied: joblib in /usr/local/lib/python3.6/dist-packages (from sacremoses->transformers) (0.14.1)\n",
            "Requirement already satisfied: six in /usr/local/lib/python3.6/dist-packages (from sacremoses->transformers) (1.12.0)\n",
            "Requirement already satisfied: click in /usr/local/lib/python3.6/dist-packages (from sacremoses->transformers) (7.1.1)\n",
            "Requirement already satisfied: s3transfer<0.4.0,>=0.3.0 in /usr/local/lib/python3.6/dist-packages (from boto3->transformers) (0.3.3)\n",
            "Requirement already satisfied: botocore<1.16.0,>=1.15.31 in /usr/local/lib/python3.6/dist-packages (from boto3->transformers) (1.15.31)\n",
            "Requirement already satisfied: jmespath<1.0.0,>=0.7.1 in /usr/local/lib/python3.6/dist-packages (from boto3->transformers) (0.9.5)\n",
            "Requirement already satisfied: urllib3<1.25,>=1.21.1 in /usr/local/lib/python3.6/dist-packages (from requests->transformers) (1.24.3)\n",
            "Requirement already satisfied: certifi>=2017.4.17 in /usr/local/lib/python3.6/dist-packages (from requests->transformers) (2019.11.28)\n",
            "Requirement already satisfied: idna<2.9,>=2.5 in /usr/local/lib/python3.6/dist-packages (from requests->transformers) (2.8)\n",
            "Requirement already satisfied: chardet<3.1.0,>=3.0.2 in /usr/local/lib/python3.6/dist-packages (from requests->transformers) (3.0.4)\n",
            "Requirement already satisfied: docutils<0.16,>=0.10 in /usr/local/lib/python3.6/dist-packages (from botocore<1.16.0,>=1.15.31->boto3->transformers) (0.15.2)\n",
            "Requirement already satisfied: python-dateutil<3.0.0,>=2.1 in /usr/local/lib/python3.6/dist-packages (from botocore<1.16.0,>=1.15.31->boto3->transformers) (2.8.1)\n"
          ],
          "name": "stdout"
        }
      ]
    },
    {
      "cell_type": "code",
      "metadata": {
        "id": "pC-SuQGTLnrB",
        "colab_type": "code",
        "colab": {}
      },
      "source": [
        "df = pd.read_excel('dataset.xlsx')\n",
        "df.reset_index()\n",
        "df = df.iloc[:,[2,3,5,8,9,11,12,13]]\n",
        "df.columns = [\"verb_veridial_positive\",\n",
        "              \"verb_veridical_negative\",\n",
        "              \"semantic_characteristic\",\n",
        "              \"standford_signature_for_that\",\n",
        "              \"standford_signature_for_to\",\n",
        "              \"complementizer\",\n",
        "              \"verb_tense\",\n",
        "              \"semantic_relation\"]\n",
        "df.dropna(inplace=True, axis = 0, how = 'all')\n",
        "df.fillna(axis = 0, inplace =True, value=\"none\")\n",
        "\n",
        "#verb veridical positive cleaning\n",
        "df.verb_veridial_positive = df.verb_veridial_positive.apply(lambda x: '+' if '+' in x else x)\n",
        "df.verb_veridial_positive = df.verb_veridial_positive.apply(lambda x: '-' if '-' in x else x)\n",
        "df.verb_veridial_positive = df.verb_veridial_positive.apply(lambda x: 'o' if 'o' in x else x)\n",
        "df.verb_veridial_positive = df.verb_veridial_positive.apply(lambda x: '?' if '?' in x else x)\n",
        "\n",
        "#verb veridical negative cleaning\n",
        "df.verb_veridical_negative = df.verb_veridical_negative.apply(lambda x: '+' if '+' in x else x)\n",
        "df.verb_veridical_negative = df.verb_veridical_negative.apply(lambda x: 'o' if 'o' in x else x)\n",
        "df.verb_veridical_negative = df.verb_veridical_negative.apply(lambda x: '-' if '-' in x else x)\n",
        "df.verb_veridical_negative = df.verb_veridical_negative.apply(lambda x: '1' if '1' in x else x)\n",
        "df.verb_veridical_negative = df.verb_veridical_negative.apply(lambda x: '?' if '?' in x else x)\n",
        "\n",
        "#df.semantic_characteristic.unique() cleaning not needed\n",
        "#df.standford_signature_for_that.unique() cleaning not needed\n",
        "#df.standford_signature_for_to.unique() cleaning not needed\n",
        "#df.complementizer.unique() cleaning not needed\n",
        "\n",
        "#df.verb_tense cleaning\n",
        "df.verb_tense = df.verb_tense.apply(lambda x: 'present' if 'present' in x else x)\n",
        "df.verb_tense = df.verb_tense.apply(lambda x: 'past' if 'past' in x else x)\n",
        "df.verb_tense = df.verb_tense.apply(lambda x: 'future' if 'future' in x else x)\n",
        "df.verb_tense = df.verb_tense.apply(lambda x: 'none' if 'none' in x else x)\n",
        "df.verb_tense = df.verb_tense.apply(lambda x: '?' if '?' in x else x)\n",
        "\n",
        "df = pd.get_dummies(df)\n",
        "\n",
        "X_train = df.iloc[:,1:-5]\n",
        "y_train = df.iloc[:,-4:]"
      ],
      "execution_count": 0,
      "outputs": []
    },
    {
      "cell_type": "code",
      "metadata": {
        "id": "amhvtjnZQwhz",
        "colab_type": "code",
        "colab": {}
      },
      "source": [
        "import tensorflow as tf \n",
        "from tensorflow import keras\n",
        "from tensorflow.keras import layers\n",
        "from tensorflow.keras.layers import Dense"
      ],
      "execution_count": 0,
      "outputs": []
    },
    {
      "cell_type": "code",
      "metadata": {
        "id": "YQA-dmJ5RL9y",
        "colab_type": "code",
        "colab": {}
      },
      "source": [
        "model = tf.keras.Sequential()\n",
        "\n",
        "#get number of columns in training data\n",
        "n_cols = X_train.shape[1]\n",
        "\n",
        "#add model layers\n",
        "model.add(Dense(100, activation=keras.layers.LeakyReLU(alpha=0.3), input_shape=(n_cols,)))\n",
        "model.add(Dense(250, activation='relu'))\n",
        "model.add(Dense(500, activation=keras.layers.LeakyReLU(alpha=0.3)))\n",
        "model.add(Dense(250, activation='selu'))\n",
        "model.add(Dense(100, activation=keras.layers.LeakyReLU(alpha=0.3)))\n",
        "model.add(Dense(50, activation=keras.layers.LeakyReLU(alpha=0.3)))\n",
        "model.add(Dense(4, activation='softmax'))\n",
        "\n",
        "model.compile(optimizer = 'adam', loss=\"categorical_crossentropy\", metrics = ['accuracy'])"
      ],
      "execution_count": 0,
      "outputs": []
    },
    {
      "cell_type": "code",
      "metadata": {
        "id": "1gnjHDM5dJb_",
        "colab_type": "code",
        "colab": {
          "base_uri": "https://localhost:8080/",
          "height": 1000
        },
        "outputId": "73e86ad4-6f59-42c2-ad5a-9c63e5ba6382"
      },
      "source": [
        "from keras.callbacks import EarlyStopping\n",
        "#set early stopping monitor so the model stops training when it won't improve anymore\n",
        "#early_stopping_monitor = EarlyStopping(patience=3)\n",
        "#train model\n",
        "history = model.fit(X_train, y_train, validation_split=0.4, epochs=30)"
      ],
      "execution_count": 96,
      "outputs": [
        {
          "output_type": "stream",
          "text": [
            "Epoch 1/30\n",
            "42/42 [==============================] - 0s 10ms/step - loss: 0.5354 - accuracy: 0.8368 - val_loss: 0.4839 - val_accuracy: 0.8531\n",
            "Epoch 2/30\n",
            "42/42 [==============================] - 0s 8ms/step - loss: 0.4092 - accuracy: 0.8793 - val_loss: 0.4727 - val_accuracy: 0.8724\n",
            "Epoch 3/30\n",
            "42/42 [==============================] - 0s 7ms/step - loss: 0.3833 - accuracy: 0.8861 - val_loss: 0.4558 - val_accuracy: 0.8702\n",
            "Epoch 4/30\n",
            "42/42 [==============================] - 0s 7ms/step - loss: 0.3629 - accuracy: 0.8876 - val_loss: 0.4438 - val_accuracy: 0.8713\n",
            "Epoch 5/30\n",
            "42/42 [==============================] - 0s 7ms/step - loss: 0.3511 - accuracy: 0.8891 - val_loss: 0.4796 - val_accuracy: 0.8588\n",
            "Epoch 6/30\n",
            "42/42 [==============================] - 0s 7ms/step - loss: 0.3473 - accuracy: 0.8952 - val_loss: 0.4755 - val_accuracy: 0.8759\n",
            "Epoch 7/30\n",
            "42/42 [==============================] - 0s 8ms/step - loss: 0.3398 - accuracy: 0.9021 - val_loss: 0.4734 - val_accuracy: 0.8565\n",
            "Epoch 8/30\n",
            "42/42 [==============================] - 0s 8ms/step - loss: 0.3238 - accuracy: 0.9013 - val_loss: 0.4742 - val_accuracy: 0.8690\n",
            "Epoch 9/30\n",
            "42/42 [==============================] - 0s 7ms/step - loss: 0.3113 - accuracy: 0.8990 - val_loss: 0.4960 - val_accuracy: 0.8690\n",
            "Epoch 10/30\n",
            "42/42 [==============================] - 0s 8ms/step - loss: 0.3255 - accuracy: 0.8967 - val_loss: 0.4823 - val_accuracy: 0.8713\n",
            "Epoch 11/30\n",
            "42/42 [==============================] - 0s 8ms/step - loss: 0.3292 - accuracy: 0.9013 - val_loss: 0.4995 - val_accuracy: 0.8770\n",
            "Epoch 12/30\n",
            "42/42 [==============================] - 0s 8ms/step - loss: 0.3211 - accuracy: 0.8998 - val_loss: 0.5005 - val_accuracy: 0.8702\n",
            "Epoch 13/30\n",
            "42/42 [==============================] - 0s 8ms/step - loss: 0.3128 - accuracy: 0.9036 - val_loss: 0.5379 - val_accuracy: 0.8656\n",
            "Epoch 14/30\n",
            "42/42 [==============================] - 0s 7ms/step - loss: 0.3005 - accuracy: 0.9043 - val_loss: 0.5141 - val_accuracy: 0.8724\n",
            "Epoch 15/30\n",
            "42/42 [==============================] - 0s 8ms/step - loss: 0.3315 - accuracy: 0.9021 - val_loss: 0.5197 - val_accuracy: 0.8667\n",
            "Epoch 16/30\n",
            "42/42 [==============================] - 0s 8ms/step - loss: 0.3094 - accuracy: 0.8998 - val_loss: 0.5229 - val_accuracy: 0.8690\n",
            "Epoch 17/30\n",
            "42/42 [==============================] - 0s 8ms/step - loss: 0.3017 - accuracy: 0.9066 - val_loss: 0.5338 - val_accuracy: 0.8736\n",
            "Epoch 18/30\n",
            "42/42 [==============================] - 0s 8ms/step - loss: 0.2939 - accuracy: 0.9058 - val_loss: 0.5246 - val_accuracy: 0.8724\n",
            "Epoch 19/30\n",
            "42/42 [==============================] - 0s 8ms/step - loss: 0.2883 - accuracy: 0.9051 - val_loss: 0.5397 - val_accuracy: 0.8679\n",
            "Epoch 20/30\n",
            "42/42 [==============================] - 0s 8ms/step - loss: 0.2956 - accuracy: 0.8983 - val_loss: 0.5567 - val_accuracy: 0.8702\n",
            "Epoch 21/30\n",
            "42/42 [==============================] - 0s 8ms/step - loss: 0.2922 - accuracy: 0.9021 - val_loss: 0.5491 - val_accuracy: 0.8690\n",
            "Epoch 22/30\n",
            "42/42 [==============================] - 0s 8ms/step - loss: 0.3006 - accuracy: 0.9066 - val_loss: 0.5639 - val_accuracy: 0.8679\n",
            "Epoch 23/30\n",
            "42/42 [==============================] - 0s 8ms/step - loss: 0.2834 - accuracy: 0.9081 - val_loss: 0.5652 - val_accuracy: 0.8702\n",
            "Epoch 24/30\n",
            "42/42 [==============================] - 0s 8ms/step - loss: 0.2811 - accuracy: 0.9096 - val_loss: 0.5929 - val_accuracy: 0.8667\n",
            "Epoch 25/30\n",
            "42/42 [==============================] - 0s 8ms/step - loss: 0.2918 - accuracy: 0.9074 - val_loss: 0.5595 - val_accuracy: 0.8713\n",
            "Epoch 26/30\n",
            "42/42 [==============================] - 0s 8ms/step - loss: 0.3307 - accuracy: 0.9005 - val_loss: 0.5248 - val_accuracy: 0.8519\n",
            "Epoch 27/30\n",
            "42/42 [==============================] - 0s 7ms/step - loss: 0.2988 - accuracy: 0.9058 - val_loss: 0.5411 - val_accuracy: 0.8724\n",
            "Epoch 28/30\n",
            "42/42 [==============================] - 0s 7ms/step - loss: 0.2974 - accuracy: 0.9066 - val_loss: 0.5674 - val_accuracy: 0.8667\n",
            "Epoch 29/30\n",
            "42/42 [==============================] - 0s 8ms/step - loss: 0.2846 - accuracy: 0.9066 - val_loss: 0.5697 - val_accuracy: 0.8633\n",
            "Epoch 30/30\n",
            "42/42 [==============================] - 0s 7ms/step - loss: 0.2856 - accuracy: 0.9058 - val_loss: 0.6292 - val_accuracy: 0.8690\n"
          ],
          "name": "stdout"
        }
      ]
    },
    {
      "cell_type": "code",
      "metadata": {
        "id": "mi0f_JObgC4C",
        "colab_type": "code",
        "colab": {
          "base_uri": "https://localhost:8080/",
          "height": 295
        },
        "outputId": "2d9deeea-1485-4b36-b19c-9cc22f1bc5f9"
      },
      "source": [
        "import matplotlib.pyplot as plt\n",
        "plt.plot(history.history['accuracy'])\n",
        "plt.plot(history.history['val_accuracy'])\n",
        "plt.title('model accuracy')\n",
        "plt.ylabel('accuracy')\n",
        "plt.xlabel('epoch')\n",
        "plt.legend(['train', 'test'], loc='upper left')\n",
        "plt.show()"
      ],
      "execution_count": 94,
      "outputs": [
        {
          "output_type": "display_data",
          "data": {
            "image/png": "[encoded data removed]",
            "text/plain": [
              "<Figure size 432x288 with 1 Axes>"
            ]
          },
          "metadata": {
            "tags": []
          }
        }
      ]
    },
    {
      "cell_type": "code",
      "metadata": {
        "id": "VEJGMfTId3Ux",
        "colab_type": "code",
        "colab": {}
      },
      "source": [
        ""
      ],
      "execution_count": 0,
      "outputs": []
    },
    {
      "cell_type": "code",
      "metadata": {
        "id": "Ir0Q__iLLO0i",
        "colab_type": "code",
        "colab": {}
      },
      "source": [
        ""
      ],
      "execution_count": 0,
      "outputs": []
    }
  ]
}