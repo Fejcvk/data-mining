{
  "nbformat": 4,
  "nbformat_minor": 0,
  "metadata": {
    "colab": {
      "name": "SecondModelEnglishDataset.ipynb",
      "provenance": [],
      "collapsed_sections": []
    },
    "kernelspec": {
      "name": "python3",
      "display_name": "Python 3"
    }
  },
  "cells": [
    {
      "cell_type": "markdown",
      "metadata": {
        "id": "3HJfGRjHi_Yq",
        "colab_type": "text"
      },
      "source": [
        "# Model based on sentence features\n",
        "***\n",
        "Libraries:"
      ]
    },
    {
      "cell_type": "code",
      "metadata": {
        "id": "wQH-5eAsLAiz",
        "colab_type": "code",
        "outputId": "49246352-c478-46e1-d7f2-7b257d8bafb6",
        "colab": {
          "base_uri": "https://localhost:8080/",
          "height": 446
        }
      },
      "source": [
        "!pip install transformers\n",
        "!pip install -q pyyaml h5py\n",
        "import pandas as pd\n",
        "from transformers import *\n",
        "import numpy as np\n",
        "from sklearn.model_selection import train_test_split\n"
      ],
      "execution_count": 0,
      "outputs": [
        {
          "output_type": "stream",
          "text": [
            "Requirement already satisfied: transformers in /usr/local/lib/python3.6/dist-packages (2.8.0)\n",
            "Requirement already satisfied: filelock in /usr/local/lib/python3.6/dist-packages (from transformers) (3.0.12)\n",
            "Requirement already satisfied: tqdm>=4.27 in /usr/local/lib/python3.6/dist-packages (from transformers) (4.38.0)\n",
            "Requirement already satisfied: regex!=2019.12.17 in /usr/local/lib/python3.6/dist-packages (from transformers) (2019.12.20)\n",
            "Requirement already satisfied: numpy in /usr/local/lib/python3.6/dist-packages (from transformers) (1.18.2)\n",
            "Requirement already satisfied: tokenizers==0.5.2 in /usr/local/lib/python3.6/dist-packages (from transformers) (0.5.2)\n",
            "Requirement already satisfied: dataclasses; python_version < \"3.7\" in /usr/local/lib/python3.6/dist-packages (from transformers) (0.7)\n",
            "Requirement already satisfied: sentencepiece in /usr/local/lib/python3.6/dist-packages (from transformers) (0.1.85)\n",
            "Requirement already satisfied: boto3 in /usr/local/lib/python3.6/dist-packages (from transformers) (1.12.40)\n",
            "Requirement already satisfied: requests in /usr/local/lib/python3.6/dist-packages (from transformers) (2.21.0)\n",
            "Requirement already satisfied: sacremoses in /usr/local/lib/python3.6/dist-packages (from transformers) (0.0.41)\n",
            "Requirement already satisfied: jmespath<1.0.0,>=0.7.1 in /usr/local/lib/python3.6/dist-packages (from boto3->transformers) (0.9.5)\n",
            "Requirement already satisfied: s3transfer<0.4.0,>=0.3.0 in /usr/local/lib/python3.6/dist-packages (from boto3->transformers) (0.3.3)\n",
            "Requirement already satisfied: botocore<1.16.0,>=1.15.40 in /usr/local/lib/python3.6/dist-packages (from boto3->transformers) (1.15.40)\n",
            "Requirement already satisfied: idna<2.9,>=2.5 in /usr/local/lib/python3.6/dist-packages (from requests->transformers) (2.8)\n",
            "Requirement already satisfied: chardet<3.1.0,>=3.0.2 in /usr/local/lib/python3.6/dist-packages (from requests->transformers) (3.0.4)\n",
            "Requirement already satisfied: certifi>=2017.4.17 in /usr/local/lib/python3.6/dist-packages (from requests->transformers) (2020.4.5.1)\n",
            "Requirement already satisfied: urllib3<1.25,>=1.21.1 in /usr/local/lib/python3.6/dist-packages (from requests->transformers) (1.24.3)\n",
            "Requirement already satisfied: six in /usr/local/lib/python3.6/dist-packages (from sacremoses->transformers) (1.12.0)\n",
            "Requirement already satisfied: joblib in /usr/local/lib/python3.6/dist-packages (from sacremoses->transformers) (0.14.1)\n",
            "Requirement already satisfied: click in /usr/local/lib/python3.6/dist-packages (from sacremoses->transformers) (7.1.1)\n",
            "Requirement already satisfied: docutils<0.16,>=0.10 in /usr/local/lib/python3.6/dist-packages (from botocore<1.16.0,>=1.15.40->boto3->transformers) (0.15.2)\n",
            "Requirement already satisfied: python-dateutil<3.0.0,>=2.1 in /usr/local/lib/python3.6/dist-packages (from botocore<1.16.0,>=1.15.40->boto3->transformers) (2.8.1)\n"
          ],
          "name": "stdout"
        }
      ]
    },
    {
      "cell_type": "markdown",
      "metadata": {
        "id": "6WQzx8FvjYPs",
        "colab_type": "text"
      },
      "source": [
        "## Data preprocessing \n",
        "- reading data \n",
        "- change columns names \n",
        "- drop NaN rows \n",
        "- fill others NaN values by special sign"
      ]
    },
    {
      "cell_type": "code",
      "metadata": {
        "id": "pC-SuQGTLnrB",
        "colab_type": "code",
        "outputId": "7cb5a0c4-cae1-4f95-f35f-acf0b0877f3a",
        "colab": {
          "base_uri": "https://localhost:8080/",
          "height": 214
        }
      },
      "source": [
        "df = pd.read_excel('dataset3.xlsx')\n",
        "df.reset_index()\n",
        "df = df.iloc[:,[2,3,5,8,9,11,12,13]]\n",
        "df.columns = [\"verb_veridial_positive\",\n",
        "              \"verb_veridical_negative\",\n",
        "              \"semantic_characteristic\",\n",
        "              \"standford_signature_for_that\",\n",
        "              \"standford_signature_for_to\",\n",
        "              \"complementizer\",\n",
        "              \"verb_tense\",\n",
        "              \"semantic_relation\"]\n",
        "df.dropna(inplace=True, axis = 0, how = 'all')\n",
        "df.fillna(axis = 0, inplace =True, value=\"none\")\n",
        "df.head()"
      ],
      "execution_count": 0,
      "outputs": [
        {
          "output_type": "execute_result",
          "data": {
            "text/html": [
              "<div>\n",
              "<style scoped>\n",
              "    .dataframe tbody tr th:only-of-type {\n",
              "        vertical-align: middle;\n",
              "    }\n",
              "\n",
              "    .dataframe tbody tr th {\n",
              "        vertical-align: top;\n",
              "    }\n",
              "\n",
              "    .dataframe thead th {\n",
              "        text-align: right;\n",
              "    }\n",
              "</style>\n",
              "<table border=\"1\" class=\"dataframe\">\n",
              "  <thead>\n",
              "    <tr style=\"text-align: right;\">\n",
              "      <th></th>\n",
              "      <th>verb_veridial_positive</th>\n",
              "      <th>verb_veridical_negative</th>\n",
              "      <th>semantic_characteristic</th>\n",
              "      <th>standford_signature_for_that</th>\n",
              "      <th>standford_signature_for_to</th>\n",
              "      <th>complementizer</th>\n",
              "      <th>verb_tense</th>\n",
              "      <th>semantic_relation</th>\n",
              "    </tr>\n",
              "  </thead>\n",
              "  <tbody>\n",
              "    <tr>\n",
              "      <th>0</th>\n",
              "      <td>o</td>\n",
              "      <td>o</td>\n",
              "      <td>epistemiczny</td>\n",
              "      <td>o/o</td>\n",
              "      <td>none</td>\n",
              "      <td>that</td>\n",
              "      <td>present</td>\n",
              "      <td>N</td>\n",
              "    </tr>\n",
              "    <tr>\n",
              "      <th>1</th>\n",
              "      <td>o</td>\n",
              "      <td>o</td>\n",
              "      <td>emotywny</td>\n",
              "      <td>none</td>\n",
              "      <td>none</td>\n",
              "      <td>that</td>\n",
              "      <td>present</td>\n",
              "      <td>N</td>\n",
              "    </tr>\n",
              "    <tr>\n",
              "      <th>2</th>\n",
              "      <td>o</td>\n",
              "      <td>o</td>\n",
              "      <td>mówienia</td>\n",
              "      <td>nie ma</td>\n",
              "      <td>none</td>\n",
              "      <td>that</td>\n",
              "      <td>present</td>\n",
              "      <td>N</td>\n",
              "    </tr>\n",
              "    <tr>\n",
              "      <th>3</th>\n",
              "      <td>o</td>\n",
              "      <td>o</td>\n",
              "      <td>epistemiczny</td>\n",
              "      <td>o/o</td>\n",
              "      <td>none</td>\n",
              "      <td>that</td>\n",
              "      <td>present</td>\n",
              "      <td>N</td>\n",
              "    </tr>\n",
              "    <tr>\n",
              "      <th>4</th>\n",
              "      <td>o</td>\n",
              "      <td>o</td>\n",
              "      <td>epistemiczny</td>\n",
              "      <td>nie ma</td>\n",
              "      <td>none</td>\n",
              "      <td>that</td>\n",
              "      <td>past</td>\n",
              "      <td>E</td>\n",
              "    </tr>\n",
              "  </tbody>\n",
              "</table>\n",
              "</div>"
            ],
            "text/plain": [
              "  verb_veridial_positive verb_veridical_negative  ... verb_tense semantic_relation\n",
              "0                      o                       o  ...    present                 N\n",
              "1                      o                       o  ...    present                 N\n",
              "2                      o                       o  ...    present                 N\n",
              "3                      o                       o  ...    present                 N\n",
              "4                      o                       o  ...       past                 E\n",
              "\n",
              "[5 rows x 8 columns]"
            ]
          },
          "metadata": {
            "tags": []
          },
          "execution_count": 36
        }
      ]
    },
    {
      "cell_type": "markdown",
      "metadata": {
        "id": "94rQMkhukBCp",
        "colab_type": "text"
      },
      "source": [
        "### cleaning data by deleting uncertainty - simplification \n"
      ]
    },
    {
      "cell_type": "code",
      "metadata": {
        "id": "OnfM4fytjyde",
        "colab_type": "code",
        "outputId": "c3bec9aa-737d-4938-e7a7-f0025810bd96",
        "colab": {
          "base_uri": "https://localhost:8080/",
          "height": 214
        }
      },
      "source": [
        "#verb veridical positive cleaning\n",
        "df.verb_veridial_positive = df.verb_veridial_positive.apply(lambda x: '+' if '+' in x else x)\n",
        "df.verb_veridial_positive = df.verb_veridial_positive.apply(lambda x: '-' if '-' in x else x)\n",
        "df.verb_veridial_positive = df.verb_veridial_positive.apply(lambda x: 'o' if 'o' in x else x)\n",
        "df.verb_veridial_positive = df.verb_veridial_positive.apply(lambda x: '?' if '?' in x else x)\n",
        "\n",
        "#verb veridical negative cleaning\n",
        "df.verb_veridical_negative = df.verb_veridical_negative.apply(lambda x: '+' if '+' in x else x)\n",
        "df.verb_veridical_negative = df.verb_veridical_negative.apply(lambda x: 'o' if 'o' in x else x)\n",
        "df.verb_veridical_negative = df.verb_veridical_negative.apply(lambda x: '-' if '-' in x else x)\n",
        "df.verb_veridical_negative = df.verb_veridical_negative.apply(lambda x: '1' if '1' in x else x)\n",
        "df.verb_veridical_negative = df.verb_veridical_negative.apply(lambda x: '?' if '?' in x else x)\n",
        "\n",
        "#df.semantic_characteristic.unique() cleaning not needed\n",
        "#df.standford_signature_for_that.unique() cleaning not needed\n",
        "#df.standford_signature_for_to.unique() cleaning not needed\n",
        "#df.complementizer.unique() cleaning not needed\n",
        "\n",
        "#df.verb_tense cleaning\n",
        "df.verb_tense = df.verb_tense.apply(lambda x: 'present' if 'present' in x else x)\n",
        "df.verb_tense = df.verb_tense.apply(lambda x: 'past' if 'past' in x else x)\n",
        "df.verb_tense = df.verb_tense.apply(lambda x: 'future' if 'future' in x else x)\n",
        "df.verb_tense = df.verb_tense.apply(lambda x: 'none' if 'none' in x else x)\n",
        "df.verb_tense = df.verb_tense.apply(lambda x: '?' if '?' in x else x)\n",
        "\n",
        "df.head()"
      ],
      "execution_count": 0,
      "outputs": [
        {
          "output_type": "execute_result",
          "data": {
            "text/html": [
              "<div>\n",
              "<style scoped>\n",
              "    .dataframe tbody tr th:only-of-type {\n",
              "        vertical-align: middle;\n",
              "    }\n",
              "\n",
              "    .dataframe tbody tr th {\n",
              "        vertical-align: top;\n",
              "    }\n",
              "\n",
              "    .dataframe thead th {\n",
              "        text-align: right;\n",
              "    }\n",
              "</style>\n",
              "<table border=\"1\" class=\"dataframe\">\n",
              "  <thead>\n",
              "    <tr style=\"text-align: right;\">\n",
              "      <th></th>\n",
              "      <th>verb_veridial_positive</th>\n",
              "      <th>verb_veridical_negative</th>\n",
              "      <th>semantic_characteristic</th>\n",
              "      <th>standford_signature_for_that</th>\n",
              "      <th>standford_signature_for_to</th>\n",
              "      <th>complementizer</th>\n",
              "      <th>verb_tense</th>\n",
              "      <th>semantic_relation</th>\n",
              "    </tr>\n",
              "  </thead>\n",
              "  <tbody>\n",
              "    <tr>\n",
              "      <th>0</th>\n",
              "      <td>o</td>\n",
              "      <td>o</td>\n",
              "      <td>epistemiczny</td>\n",
              "      <td>o/o</td>\n",
              "      <td>none</td>\n",
              "      <td>that</td>\n",
              "      <td>present</td>\n",
              "      <td>N</td>\n",
              "    </tr>\n",
              "    <tr>\n",
              "      <th>1</th>\n",
              "      <td>o</td>\n",
              "      <td>o</td>\n",
              "      <td>emotywny</td>\n",
              "      <td>none</td>\n",
              "      <td>none</td>\n",
              "      <td>that</td>\n",
              "      <td>present</td>\n",
              "      <td>N</td>\n",
              "    </tr>\n",
              "    <tr>\n",
              "      <th>2</th>\n",
              "      <td>o</td>\n",
              "      <td>o</td>\n",
              "      <td>mówienia</td>\n",
              "      <td>nie ma</td>\n",
              "      <td>none</td>\n",
              "      <td>that</td>\n",
              "      <td>present</td>\n",
              "      <td>N</td>\n",
              "    </tr>\n",
              "    <tr>\n",
              "      <th>3</th>\n",
              "      <td>o</td>\n",
              "      <td>o</td>\n",
              "      <td>epistemiczny</td>\n",
              "      <td>o/o</td>\n",
              "      <td>none</td>\n",
              "      <td>that</td>\n",
              "      <td>present</td>\n",
              "      <td>N</td>\n",
              "    </tr>\n",
              "    <tr>\n",
              "      <th>4</th>\n",
              "      <td>o</td>\n",
              "      <td>o</td>\n",
              "      <td>epistemiczny</td>\n",
              "      <td>nie ma</td>\n",
              "      <td>none</td>\n",
              "      <td>that</td>\n",
              "      <td>past</td>\n",
              "      <td>E</td>\n",
              "    </tr>\n",
              "  </tbody>\n",
              "</table>\n",
              "</div>"
            ],
            "text/plain": [
              "  verb_veridial_positive verb_veridical_negative  ... verb_tense semantic_relation\n",
              "0                      o                       o  ...    present                 N\n",
              "1                      o                       o  ...    present                 N\n",
              "2                      o                       o  ...    present                 N\n",
              "3                      o                       o  ...    present                 N\n",
              "4                      o                       o  ...       past                 E\n",
              "\n",
              "[5 rows x 8 columns]"
            ]
          },
          "metadata": {
            "tags": []
          },
          "execution_count": 37
        }
      ]
    },
    {
      "cell_type": "code",
      "metadata": {
        "id": "09oFxOcRnZEc",
        "colab_type": "code",
        "outputId": "74756b81-a44f-49c1-b674-c57375da6e03",
        "colab": {
          "base_uri": "https://localhost:8080/",
          "height": 221
        }
      },
      "source": [
        "print(df.verb_veridial_positive.unique())\n",
        "print(df.verb_veridical_negative.unique())\n",
        "print(df.semantic_characteristic.unique())\n",
        "print(df.standford_signature_for_that.unique())\n",
        "print(df.standford_signature_for_to.unique())\n",
        "print(df.complementizer.unique())\n",
        "print(df.verb_tense.unique())\n",
        "print(df.semantic_relation.unique())"
      ],
      "execution_count": 0,
      "outputs": [
        {
          "output_type": "stream",
          "text": [
            "['o' '+' '-' '?']\n",
            "['o' '+' '-' '?' '1']\n",
            "['epistemiczny' 'emotywny' 'mówienia' 'ontyczny' 'wynikania'\n",
            " 'określające dostęp do wiedzy' 'percepcyjny' 'pamięciowy' 'odkrycia'\n",
            " 'czynnościowy' 'epistemiczno-percepcyjny' 'pokazywania' 'dowodzenia'\n",
            " 'mówieniowo-pamięciowy' 'liczenia' 'wnioskowania'\n",
            " 'percepcyjno-mówieniowy' 'zdarzeniowy']\n",
            "['o/o' 'none' 'nie ma' '\"+/o\"' '\"+/+\"' 'o/+']\n",
            "['none' 'o/o']\n",
            "['that' 'to']\n",
            "['present' 'past' 'none' 'future' '?']\n",
            "['N' 'E' '?' 'C']\n"
          ],
          "name": "stdout"
        }
      ]
    },
    {
      "cell_type": "code",
      "metadata": {
        "id": "qNUe-X4_gqmL",
        "colab_type": "code",
        "colab": {}
      },
      "source": [
        "df.to_csv(\"engData.csv\", index=False)"
      ],
      "execution_count": 0,
      "outputs": []
    },
    {
      "cell_type": "markdown",
      "metadata": {
        "id": "MIX0AGcQkGG5",
        "colab_type": "text"
      },
      "source": [
        "### vectorize data and split to features and target"
      ]
    },
    {
      "cell_type": "code",
      "metadata": {
        "id": "5r7NRdcwkIX5",
        "colab_type": "code",
        "outputId": "a98eace7-8bc2-49b3-e244-4dc08d6fa27c",
        "colab": {
          "base_uri": "https://localhost:8080/",
          "height": 234
        }
      },
      "source": [
        "df = pd.get_dummies(df)\n",
        "\n",
        "X_train = df.iloc[:,1:-4]\n",
        "y_train = df.iloc[:,-4:]\n",
        "\n",
        "X_train.head()"
      ],
      "execution_count": 0,
      "outputs": [
        {
          "output_type": "execute_result",
          "data": {
            "text/html": [
              "<div>\n",
              "<style scoped>\n",
              "    .dataframe tbody tr th:only-of-type {\n",
              "        vertical-align: middle;\n",
              "    }\n",
              "\n",
              "    .dataframe tbody tr th {\n",
              "        vertical-align: top;\n",
              "    }\n",
              "\n",
              "    .dataframe thead th {\n",
              "        text-align: right;\n",
              "    }\n",
              "</style>\n",
              "<table border=\"1\" class=\"dataframe\">\n",
              "  <thead>\n",
              "    <tr style=\"text-align: right;\">\n",
              "      <th></th>\n",
              "      <th>verb_veridial_positive_-</th>\n",
              "      <th>verb_veridial_positive_?</th>\n",
              "      <th>verb_veridial_positive_o</th>\n",
              "      <th>verb_veridical_negative_+</th>\n",
              "      <th>verb_veridical_negative_-</th>\n",
              "      <th>verb_veridical_negative_1</th>\n",
              "      <th>verb_veridical_negative_?</th>\n",
              "      <th>verb_veridical_negative_o</th>\n",
              "      <th>semantic_characteristic_czynnościowy</th>\n",
              "      <th>semantic_characteristic_dowodzenia</th>\n",
              "      <th>semantic_characteristic_emotywny</th>\n",
              "      <th>semantic_characteristic_epistemiczno-percepcyjny</th>\n",
              "      <th>semantic_characteristic_epistemiczny</th>\n",
              "      <th>semantic_characteristic_liczenia</th>\n",
              "      <th>semantic_characteristic_mówienia</th>\n",
              "      <th>semantic_characteristic_mówieniowo-pamięciowy</th>\n",
              "      <th>semantic_characteristic_odkrycia</th>\n",
              "      <th>semantic_characteristic_określające dostęp do wiedzy</th>\n",
              "      <th>semantic_characteristic_ontyczny</th>\n",
              "      <th>semantic_characteristic_pamięciowy</th>\n",
              "      <th>semantic_characteristic_percepcyjno-mówieniowy</th>\n",
              "      <th>semantic_characteristic_percepcyjny</th>\n",
              "      <th>semantic_characteristic_pokazywania</th>\n",
              "      <th>semantic_characteristic_wnioskowania</th>\n",
              "      <th>semantic_characteristic_wynikania</th>\n",
              "      <th>semantic_characteristic_zdarzeniowy</th>\n",
              "      <th>standford_signature_for_that_\"+/+\"</th>\n",
              "      <th>standford_signature_for_that_\"+/o\"</th>\n",
              "      <th>standford_signature_for_that_nie ma</th>\n",
              "      <th>standford_signature_for_that_none</th>\n",
              "      <th>standford_signature_for_that_o/+</th>\n",
              "      <th>standford_signature_for_that_o/o</th>\n",
              "      <th>standford_signature_for_to_none</th>\n",
              "      <th>standford_signature_for_to_o/o</th>\n",
              "      <th>complementizer_that</th>\n",
              "      <th>complementizer_to</th>\n",
              "      <th>verb_tense_?</th>\n",
              "      <th>verb_tense_future</th>\n",
              "      <th>verb_tense_none</th>\n",
              "      <th>verb_tense_past</th>\n",
              "      <th>verb_tense_present</th>\n",
              "    </tr>\n",
              "  </thead>\n",
              "  <tbody>\n",
              "    <tr>\n",
              "      <th>0</th>\n",
              "      <td>0</td>\n",
              "      <td>0</td>\n",
              "      <td>1</td>\n",
              "      <td>0</td>\n",
              "      <td>0</td>\n",
              "      <td>0</td>\n",
              "      <td>0</td>\n",
              "      <td>1</td>\n",
              "      <td>0</td>\n",
              "      <td>0</td>\n",
              "      <td>0</td>\n",
              "      <td>0</td>\n",
              "      <td>1</td>\n",
              "      <td>0</td>\n",
              "      <td>0</td>\n",
              "      <td>0</td>\n",
              "      <td>0</td>\n",
              "      <td>0</td>\n",
              "      <td>0</td>\n",
              "      <td>0</td>\n",
              "      <td>0</td>\n",
              "      <td>0</td>\n",
              "      <td>0</td>\n",
              "      <td>0</td>\n",
              "      <td>0</td>\n",
              "      <td>0</td>\n",
              "      <td>0</td>\n",
              "      <td>0</td>\n",
              "      <td>0</td>\n",
              "      <td>0</td>\n",
              "      <td>0</td>\n",
              "      <td>1</td>\n",
              "      <td>1</td>\n",
              "      <td>0</td>\n",
              "      <td>1</td>\n",
              "      <td>0</td>\n",
              "      <td>0</td>\n",
              "      <td>0</td>\n",
              "      <td>0</td>\n",
              "      <td>0</td>\n",
              "      <td>1</td>\n",
              "    </tr>\n",
              "    <tr>\n",
              "      <th>1</th>\n",
              "      <td>0</td>\n",
              "      <td>0</td>\n",
              "      <td>1</td>\n",
              "      <td>0</td>\n",
              "      <td>0</td>\n",
              "      <td>0</td>\n",
              "      <td>0</td>\n",
              "      <td>1</td>\n",
              "      <td>0</td>\n",
              "      <td>0</td>\n",
              "      <td>1</td>\n",
              "      <td>0</td>\n",
              "      <td>0</td>\n",
              "      <td>0</td>\n",
              "      <td>0</td>\n",
              "      <td>0</td>\n",
              "      <td>0</td>\n",
              "      <td>0</td>\n",
              "      <td>0</td>\n",
              "      <td>0</td>\n",
              "      <td>0</td>\n",
              "      <td>0</td>\n",
              "      <td>0</td>\n",
              "      <td>0</td>\n",
              "      <td>0</td>\n",
              "      <td>0</td>\n",
              "      <td>0</td>\n",
              "      <td>0</td>\n",
              "      <td>0</td>\n",
              "      <td>1</td>\n",
              "      <td>0</td>\n",
              "      <td>0</td>\n",
              "      <td>1</td>\n",
              "      <td>0</td>\n",
              "      <td>1</td>\n",
              "      <td>0</td>\n",
              "      <td>0</td>\n",
              "      <td>0</td>\n",
              "      <td>0</td>\n",
              "      <td>0</td>\n",
              "      <td>1</td>\n",
              "    </tr>\n",
              "    <tr>\n",
              "      <th>2</th>\n",
              "      <td>0</td>\n",
              "      <td>0</td>\n",
              "      <td>1</td>\n",
              "      <td>0</td>\n",
              "      <td>0</td>\n",
              "      <td>0</td>\n",
              "      <td>0</td>\n",
              "      <td>1</td>\n",
              "      <td>0</td>\n",
              "      <td>0</td>\n",
              "      <td>0</td>\n",
              "      <td>0</td>\n",
              "      <td>0</td>\n",
              "      <td>0</td>\n",
              "      <td>1</td>\n",
              "      <td>0</td>\n",
              "      <td>0</td>\n",
              "      <td>0</td>\n",
              "      <td>0</td>\n",
              "      <td>0</td>\n",
              "      <td>0</td>\n",
              "      <td>0</td>\n",
              "      <td>0</td>\n",
              "      <td>0</td>\n",
              "      <td>0</td>\n",
              "      <td>0</td>\n",
              "      <td>0</td>\n",
              "      <td>0</td>\n",
              "      <td>1</td>\n",
              "      <td>0</td>\n",
              "      <td>0</td>\n",
              "      <td>0</td>\n",
              "      <td>1</td>\n",
              "      <td>0</td>\n",
              "      <td>1</td>\n",
              "      <td>0</td>\n",
              "      <td>0</td>\n",
              "      <td>0</td>\n",
              "      <td>0</td>\n",
              "      <td>0</td>\n",
              "      <td>1</td>\n",
              "    </tr>\n",
              "    <tr>\n",
              "      <th>3</th>\n",
              "      <td>0</td>\n",
              "      <td>0</td>\n",
              "      <td>1</td>\n",
              "      <td>0</td>\n",
              "      <td>0</td>\n",
              "      <td>0</td>\n",
              "      <td>0</td>\n",
              "      <td>1</td>\n",
              "      <td>0</td>\n",
              "      <td>0</td>\n",
              "      <td>0</td>\n",
              "      <td>0</td>\n",
              "      <td>1</td>\n",
              "      <td>0</td>\n",
              "      <td>0</td>\n",
              "      <td>0</td>\n",
              "      <td>0</td>\n",
              "      <td>0</td>\n",
              "      <td>0</td>\n",
              "      <td>0</td>\n",
              "      <td>0</td>\n",
              "      <td>0</td>\n",
              "      <td>0</td>\n",
              "      <td>0</td>\n",
              "      <td>0</td>\n",
              "      <td>0</td>\n",
              "      <td>0</td>\n",
              "      <td>0</td>\n",
              "      <td>0</td>\n",
              "      <td>0</td>\n",
              "      <td>0</td>\n",
              "      <td>1</td>\n",
              "      <td>1</td>\n",
              "      <td>0</td>\n",
              "      <td>1</td>\n",
              "      <td>0</td>\n",
              "      <td>0</td>\n",
              "      <td>0</td>\n",
              "      <td>0</td>\n",
              "      <td>0</td>\n",
              "      <td>1</td>\n",
              "    </tr>\n",
              "    <tr>\n",
              "      <th>4</th>\n",
              "      <td>0</td>\n",
              "      <td>0</td>\n",
              "      <td>1</td>\n",
              "      <td>0</td>\n",
              "      <td>0</td>\n",
              "      <td>0</td>\n",
              "      <td>0</td>\n",
              "      <td>1</td>\n",
              "      <td>0</td>\n",
              "      <td>0</td>\n",
              "      <td>0</td>\n",
              "      <td>0</td>\n",
              "      <td>1</td>\n",
              "      <td>0</td>\n",
              "      <td>0</td>\n",
              "      <td>0</td>\n",
              "      <td>0</td>\n",
              "      <td>0</td>\n",
              "      <td>0</td>\n",
              "      <td>0</td>\n",
              "      <td>0</td>\n",
              "      <td>0</td>\n",
              "      <td>0</td>\n",
              "      <td>0</td>\n",
              "      <td>0</td>\n",
              "      <td>0</td>\n",
              "      <td>0</td>\n",
              "      <td>0</td>\n",
              "      <td>1</td>\n",
              "      <td>0</td>\n",
              "      <td>0</td>\n",
              "      <td>0</td>\n",
              "      <td>1</td>\n",
              "      <td>0</td>\n",
              "      <td>1</td>\n",
              "      <td>0</td>\n",
              "      <td>0</td>\n",
              "      <td>0</td>\n",
              "      <td>0</td>\n",
              "      <td>1</td>\n",
              "      <td>0</td>\n",
              "    </tr>\n",
              "  </tbody>\n",
              "</table>\n",
              "</div>"
            ],
            "text/plain": [
              "   verb_veridial_positive_-  ...  verb_tense_present\n",
              "0                         0  ...                   1\n",
              "1                         0  ...                   1\n",
              "2                         0  ...                   1\n",
              "3                         0  ...                   1\n",
              "4                         0  ...                   0\n",
              "\n",
              "[5 rows x 41 columns]"
            ]
          },
          "metadata": {
            "tags": []
          },
          "execution_count": 47
        }
      ]
    },
    {
      "cell_type": "code",
      "metadata": {
        "id": "yLqFLidq0YLV",
        "colab_type": "code",
        "outputId": "b03855b0-243d-4719-dc8e-83947e0b8001",
        "colab": {
          "base_uri": "https://localhost:8080/",
          "height": 529
        }
      },
      "source": [
        "X_train.columns"
      ],
      "execution_count": 0,
      "outputs": [
        {
          "output_type": "execute_result",
          "data": {
            "text/plain": [
              "Index(['verb_veridial_positive_-', 'verb_veridial_positive_?',\n",
              "       'verb_veridial_positive_o', 'verb_veridical_negative_+',\n",
              "       'verb_veridical_negative_-', 'verb_veridical_negative_1',\n",
              "       'verb_veridical_negative_?', 'verb_veridical_negative_o',\n",
              "       'semantic_characteristic_czynnościowy',\n",
              "       'semantic_characteristic_dowodzenia',\n",
              "       'semantic_characteristic_emotywny',\n",
              "       'semantic_characteristic_epistemiczno-percepcyjny',\n",
              "       'semantic_characteristic_epistemiczny',\n",
              "       'semantic_characteristic_liczenia', 'semantic_characteristic_mówienia',\n",
              "       'semantic_characteristic_mówieniowo-pamięciowy',\n",
              "       'semantic_characteristic_odkrycia',\n",
              "       'semantic_characteristic_określające dostęp do wiedzy',\n",
              "       'semantic_characteristic_ontyczny',\n",
              "       'semantic_characteristic_pamięciowy',\n",
              "       'semantic_characteristic_percepcyjno-mówieniowy',\n",
              "       'semantic_characteristic_percepcyjny',\n",
              "       'semantic_characteristic_pokazywania',\n",
              "       'semantic_characteristic_wnioskowania',\n",
              "       'semantic_characteristic_wynikania',\n",
              "       'semantic_characteristic_zdarzeniowy',\n",
              "       'standford_signature_for_that_\"+/+\"',\n",
              "       'standford_signature_for_that_\"+/o\"',\n",
              "       'standford_signature_for_that_nie ma',\n",
              "       'standford_signature_for_that_none', 'standford_signature_for_that_o/+',\n",
              "       'standford_signature_for_that_o/o', 'standford_signature_for_to_none',\n",
              "       'standford_signature_for_to_o/o', 'complementizer_that',\n",
              "       'complementizer_to', 'verb_tense_?', 'verb_tense_future',\n",
              "       'verb_tense_none', 'verb_tense_past', 'verb_tense_present'],\n",
              "      dtype='object')"
            ]
          },
          "metadata": {
            "tags": []
          },
          "execution_count": 50
        }
      ]
    },
    {
      "cell_type": "code",
      "metadata": {
        "id": "AxEJ6K-fxkTU",
        "colab_type": "code",
        "outputId": "157ac9e1-9504-48cd-8323-c57e92e6f8e0",
        "colab": {
          "base_uri": "https://localhost:8080/",
          "height": 197
        }
      },
      "source": [
        "y_train.head()"
      ],
      "execution_count": 0,
      "outputs": [
        {
          "output_type": "execute_result",
          "data": {
            "text/html": [
              "<div>\n",
              "<style scoped>\n",
              "    .dataframe tbody tr th:only-of-type {\n",
              "        vertical-align: middle;\n",
              "    }\n",
              "\n",
              "    .dataframe tbody tr th {\n",
              "        vertical-align: top;\n",
              "    }\n",
              "\n",
              "    .dataframe thead th {\n",
              "        text-align: right;\n",
              "    }\n",
              "</style>\n",
              "<table border=\"1\" class=\"dataframe\">\n",
              "  <thead>\n",
              "    <tr style=\"text-align: right;\">\n",
              "      <th></th>\n",
              "      <th>semantic_relation_?</th>\n",
              "      <th>semantic_relation_C</th>\n",
              "      <th>semantic_relation_E</th>\n",
              "      <th>semantic_relation_N</th>\n",
              "    </tr>\n",
              "  </thead>\n",
              "  <tbody>\n",
              "    <tr>\n",
              "      <th>0</th>\n",
              "      <td>0</td>\n",
              "      <td>0</td>\n",
              "      <td>0</td>\n",
              "      <td>1</td>\n",
              "    </tr>\n",
              "    <tr>\n",
              "      <th>1</th>\n",
              "      <td>0</td>\n",
              "      <td>0</td>\n",
              "      <td>0</td>\n",
              "      <td>1</td>\n",
              "    </tr>\n",
              "    <tr>\n",
              "      <th>2</th>\n",
              "      <td>0</td>\n",
              "      <td>0</td>\n",
              "      <td>0</td>\n",
              "      <td>1</td>\n",
              "    </tr>\n",
              "    <tr>\n",
              "      <th>3</th>\n",
              "      <td>0</td>\n",
              "      <td>0</td>\n",
              "      <td>0</td>\n",
              "      <td>1</td>\n",
              "    </tr>\n",
              "    <tr>\n",
              "      <th>4</th>\n",
              "      <td>0</td>\n",
              "      <td>0</td>\n",
              "      <td>1</td>\n",
              "      <td>0</td>\n",
              "    </tr>\n",
              "  </tbody>\n",
              "</table>\n",
              "</div>"
            ],
            "text/plain": [
              "   semantic_relation_?  ...  semantic_relation_N\n",
              "0                    0  ...                    1\n",
              "1                    0  ...                    1\n",
              "2                    0  ...                    1\n",
              "3                    0  ...                    1\n",
              "4                    0  ...                    0\n",
              "\n",
              "[5 rows x 4 columns]"
            ]
          },
          "metadata": {
            "tags": []
          },
          "execution_count": 40
        }
      ]
    },
    {
      "cell_type": "markdown",
      "metadata": {
        "id": "9Xi8QfyAkbiN",
        "colab_type": "text"
      },
      "source": [
        "***\n",
        "# Keras model building"
      ]
    },
    {
      "cell_type": "code",
      "metadata": {
        "id": "amhvtjnZQwhz",
        "colab_type": "code",
        "colab": {}
      },
      "source": [
        "import tensorflow as tf \n",
        "from tensorflow import keras\n",
        "from tensorflow.keras import layers\n",
        "from tensorflow.keras.layers import Dense"
      ],
      "execution_count": 0,
      "outputs": []
    },
    {
      "cell_type": "code",
      "metadata": {
        "id": "YQA-dmJ5RL9y",
        "colab_type": "code",
        "outputId": "76585c3f-937d-40b5-a31f-43ff8750c809",
        "colab": {
          "base_uri": "https://localhost:8080/",
          "height": 426
        }
      },
      "source": [
        "model = tf.keras.Sequential()\n",
        "\n",
        "#get number of columns in training data\n",
        "n_cols = X_train.shape[1]\n",
        "print(n_cols)\n",
        "#add model layers\n",
        "model.add(Dense(100, activation=keras.layers.LeakyReLU(alpha=0.3), input_shape=(n_cols,)))\n",
        "model.add(Dense(250, activation='relu'))\n",
        "model.add(Dense(500, activation=keras.layers.LeakyReLU(alpha=0.3)))\n",
        "model.add(Dense(250, activation='selu'))\n",
        "model.add(Dense(100, activation=keras.layers.LeakyReLU(alpha=0.3)))\n",
        "model.add(Dense(50, activation=keras.layers.LeakyReLU(alpha=0.3)))\n",
        "model.add(Dense(4, activation='softmax'))\n",
        "\n",
        "model.compile(optimizer = 'adam', loss=\"categorical_crossentropy\", metrics = ['accuracy'])\n",
        "model.summary()"
      ],
      "execution_count": 0,
      "outputs": [
        {
          "output_type": "stream",
          "text": [
            "41\n",
            "Model: \"sequential_5\"\n",
            "_________________________________________________________________\n",
            "Layer (type)                 Output Shape              Param #   \n",
            "=================================================================\n",
            "dense_35 (Dense)             (None, 100)               4200      \n",
            "_________________________________________________________________\n",
            "dense_36 (Dense)             (None, 250)               25250     \n",
            "_________________________________________________________________\n",
            "dense_37 (Dense)             (None, 500)               125500    \n",
            "_________________________________________________________________\n",
            "dense_38 (Dense)             (None, 250)               125250    \n",
            "_________________________________________________________________\n",
            "dense_39 (Dense)             (None, 100)               25100     \n",
            "_________________________________________________________________\n",
            "dense_40 (Dense)             (None, 50)                5050      \n",
            "_________________________________________________________________\n",
            "dense_41 (Dense)             (None, 4)                 204       \n",
            "=================================================================\n",
            "Total params: 310,554\n",
            "Trainable params: 310,554\n",
            "Non-trainable params: 0\n",
            "_________________________________________________________________\n"
          ],
          "name": "stdout"
        }
      ]
    },
    {
      "cell_type": "markdown",
      "metadata": {
        "id": "xq3yIS2Kkh2r",
        "colab_type": "text"
      },
      "source": [
        "## Training model on prepared data"
      ]
    },
    {
      "cell_type": "code",
      "metadata": {
        "id": "1gnjHDM5dJb_",
        "colab_type": "code",
        "outputId": "da69c34c-358d-4ee3-ad07-114097dbb05e",
        "colab": {
          "base_uri": "https://localhost:8080/",
          "height": 1000
        }
      },
      "source": [
        "#train model\n",
        "history = model.fit(X_train, y_train, validation_split=0.4, epochs=30)"
      ],
      "execution_count": 0,
      "outputs": [
        {
          "output_type": "stream",
          "text": [
            "Epoch 1/30\n",
            "42/42 [==============================] - 0s 10ms/step - loss: 0.5196 - accuracy: 0.8474 - val_loss: 0.4843 - val_accuracy: 0.8565\n",
            "Epoch 2/30\n",
            "42/42 [==============================] - 0s 7ms/step - loss: 0.3902 - accuracy: 0.8808 - val_loss: 0.4513 - val_accuracy: 0.8679\n",
            "Epoch 3/30\n",
            "42/42 [==============================] - 0s 8ms/step - loss: 0.3734 - accuracy: 0.8914 - val_loss: 0.4616 - val_accuracy: 0.8679\n",
            "Epoch 4/30\n",
            "42/42 [==============================] - 0s 8ms/step - loss: 0.3631 - accuracy: 0.8945 - val_loss: 0.4668 - val_accuracy: 0.8690\n",
            "Epoch 5/30\n",
            "42/42 [==============================] - 0s 8ms/step - loss: 0.3569 - accuracy: 0.8907 - val_loss: 0.4602 - val_accuracy: 0.8610\n",
            "Epoch 6/30\n",
            "42/42 [==============================] - 0s 7ms/step - loss: 0.3413 - accuracy: 0.8960 - val_loss: 0.4561 - val_accuracy: 0.8679\n",
            "Epoch 7/30\n",
            "42/42 [==============================] - 0s 7ms/step - loss: 0.3285 - accuracy: 0.8967 - val_loss: 0.4583 - val_accuracy: 0.8724\n",
            "Epoch 8/30\n",
            "42/42 [==============================] - 0s 7ms/step - loss: 0.3223 - accuracy: 0.8952 - val_loss: 0.5002 - val_accuracy: 0.8690\n",
            "Epoch 9/30\n",
            "42/42 [==============================] - 0s 7ms/step - loss: 0.3149 - accuracy: 0.9036 - val_loss: 0.4844 - val_accuracy: 0.8690\n",
            "Epoch 10/30\n",
            "42/42 [==============================] - 0s 7ms/step - loss: 0.3440 - accuracy: 0.8998 - val_loss: 0.4969 - val_accuracy: 0.8679\n",
            "Epoch 11/30\n",
            "42/42 [==============================] - 0s 8ms/step - loss: 0.3206 - accuracy: 0.9005 - val_loss: 0.4862 - val_accuracy: 0.8599\n",
            "Epoch 12/30\n",
            "42/42 [==============================] - 0s 8ms/step - loss: 0.3105 - accuracy: 0.8960 - val_loss: 0.5134 - val_accuracy: 0.8759\n",
            "Epoch 13/30\n",
            "42/42 [==============================] - 0s 8ms/step - loss: 0.3094 - accuracy: 0.9021 - val_loss: 0.5288 - val_accuracy: 0.8690\n",
            "Epoch 14/30\n",
            "42/42 [==============================] - 0s 7ms/step - loss: 0.3048 - accuracy: 0.9021 - val_loss: 0.5135 - val_accuracy: 0.8679\n",
            "Epoch 15/30\n",
            "42/42 [==============================] - 0s 7ms/step - loss: 0.3137 - accuracy: 0.9013 - val_loss: 0.5156 - val_accuracy: 0.8690\n",
            "Epoch 16/30\n",
            "42/42 [==============================] - 0s 7ms/step - loss: 0.3065 - accuracy: 0.9036 - val_loss: 0.5254 - val_accuracy: 0.8656\n",
            "Epoch 17/30\n",
            "42/42 [==============================] - 0s 8ms/step - loss: 0.3070 - accuracy: 0.9043 - val_loss: 0.5094 - val_accuracy: 0.8724\n",
            "Epoch 18/30\n",
            "42/42 [==============================] - 0s 7ms/step - loss: 0.2877 - accuracy: 0.9074 - val_loss: 0.5287 - val_accuracy: 0.8633\n",
            "Epoch 19/30\n",
            "42/42 [==============================] - 0s 8ms/step - loss: 0.3054 - accuracy: 0.9028 - val_loss: 0.5484 - val_accuracy: 0.8656\n",
            "Epoch 20/30\n",
            "42/42 [==============================] - 0s 8ms/step - loss: 0.2998 - accuracy: 0.9089 - val_loss: 0.5269 - val_accuracy: 0.8736\n",
            "Epoch 21/30\n",
            "42/42 [==============================] - 0s 8ms/step - loss: 0.2915 - accuracy: 0.9119 - val_loss: 0.5858 - val_accuracy: 0.8679\n",
            "Epoch 22/30\n",
            "42/42 [==============================] - 0s 8ms/step - loss: 0.2933 - accuracy: 0.9089 - val_loss: 0.5866 - val_accuracy: 0.8690\n",
            "Epoch 23/30\n",
            "42/42 [==============================] - 0s 8ms/step - loss: 0.2935 - accuracy: 0.8990 - val_loss: 0.5479 - val_accuracy: 0.8565\n",
            "Epoch 24/30\n",
            "42/42 [==============================] - 0s 8ms/step - loss: 0.2990 - accuracy: 0.9028 - val_loss: 0.5482 - val_accuracy: 0.8679\n",
            "Epoch 25/30\n",
            "42/42 [==============================] - 0s 7ms/step - loss: 0.2967 - accuracy: 0.9096 - val_loss: 0.5667 - val_accuracy: 0.8656\n",
            "Epoch 26/30\n",
            "42/42 [==============================] - 0s 8ms/step - loss: 0.2863 - accuracy: 0.9043 - val_loss: 0.5604 - val_accuracy: 0.8702\n",
            "Epoch 27/30\n",
            "42/42 [==============================] - 0s 7ms/step - loss: 0.2770 - accuracy: 0.9081 - val_loss: 0.6043 - val_accuracy: 0.8667\n",
            "Epoch 28/30\n",
            "42/42 [==============================] - 0s 8ms/step - loss: 0.2898 - accuracy: 0.9058 - val_loss: 0.5804 - val_accuracy: 0.8702\n",
            "Epoch 29/30\n",
            "42/42 [==============================] - 0s 7ms/step - loss: 0.2880 - accuracy: 0.9074 - val_loss: 0.6383 - val_accuracy: 0.8702\n",
            "Epoch 30/30\n",
            "42/42 [==============================] - 0s 7ms/step - loss: 0.2896 - accuracy: 0.9096 - val_loss: 0.5925 - val_accuracy: 0.8702\n"
          ],
          "name": "stdout"
        }
      ]
    },
    {
      "cell_type": "markdown",
      "metadata": {
        "id": "YQDKmJQ_kmdh",
        "colab_type": "text"
      },
      "source": [
        "## plot with train and test accuracy"
      ]
    },
    {
      "cell_type": "code",
      "metadata": {
        "id": "mi0f_JObgC4C",
        "colab_type": "code",
        "outputId": "ecda56e7-e75f-455c-d78e-9d544c772f6c",
        "colab": {
          "base_uri": "https://localhost:8080/",
          "height": 295
        }
      },
      "source": [
        "import matplotlib.pyplot as plt\n",
        "plt.plot(history.history['accuracy'])\n",
        "plt.plot(history.history['val_accuracy'])\n",
        "plt.title('model accuracy')\n",
        "plt.ylabel('accuracy')\n",
        "plt.xlabel('epoch')\n",
        "plt.ylim(0,1)\n",
        "plt.legend(['train', 'test'], loc='upper left')\n",
        "plt.show()"
      ],
      "execution_count": 0,
      "outputs": [
        {
          "output_type": "display_data",
          "data": {
            "image/png": "[encoded data removed]",
            "text/plain": [
              "<Figure size 432x288 with 1 Axes>"
            ]
          },
          "metadata": {
            "tags": [],
            "needs_background": "light"
          }
        }
      ]
    },
    {
      "cell_type": "markdown",
      "metadata": {
        "id": "RwVgSUc6uC6Y",
        "colab_type": "text"
      },
      "source": [
        "### Save model \n"
      ]
    },
    {
      "cell_type": "code",
      "metadata": {
        "id": "Z2XZ1N0JuIop",
        "colab_type": "code",
        "colab": {}
      },
      "source": [
        "model.save('featureModelEng.h5')"
      ],
      "execution_count": 0,
      "outputs": []
    },
    {
      "cell_type": "markdown",
      "metadata": {
        "id": "eumOj-NEwNsa",
        "colab_type": "text"
      },
      "source": [
        "## Load model example"
      ]
    },
    {
      "cell_type": "code",
      "metadata": {
        "id": "_iSl1JGpu9-E",
        "colab_type": "code",
        "colab": {}
      },
      "source": [
        "model2 = tf.keras.models.load_model('my_model.h5',custom_objects={'LeakyReLU': keras.layers.LeakyReLU })\n",
        "model2.summary()\n",
        "print(model2.evaluate(X_train, y_train))"
      ],
      "execution_count": 0,
      "outputs": []
    }
  ]
}